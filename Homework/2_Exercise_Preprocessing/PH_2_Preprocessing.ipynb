{
  "cells": [
    {
      "cell_type": "markdown",
      "id": "eba897c0",
      "metadata": {
        "id": "eba897c0"
      },
      "source": [
        "# Homework: Preprocessing\n"
      ]
    },
    {
      "cell_type": "code",
      "execution_count": 2,
      "id": "10f6b02c",
      "metadata": {
        "id": "10f6b02c",
        "outputId": "7c831b7c-b9dc-4602-93de-96783d5c035a",
        "colab": {
          "base_uri": "https://localhost:8080/"
        }
      },
      "outputs": [
        {
          "output_type": "stream",
          "name": "stdout",
          "text": [
            "[nltk_data] Downloading package stopwords to /root/nltk_data...\n",
            "[nltk_data]   Unzipping corpora/stopwords.zip.\n"
          ]
        }
      ],
      "source": [
        "#imports\n",
        "import pandas as pd\n",
        "import numpy as np\n",
        "import re\n",
        "from gensim.parsing.preprocessing import STOPWORDS, strip_tags, strip_numeric, strip_punctuation, strip_multiple_whitespaces, remove_stopwords, strip_short, stem_text\n",
        "import pickle\n",
        "import en_core_web_sm\n",
        "import nltk\n",
        "nltk.download('stopwords')\n",
        "from nltk.corpus import stopwords"
      ]
    },
    {
      "cell_type": "markdown",
      "id": "141930e5",
      "metadata": {
        "id": "141930e5"
      },
      "source": [
        "## Part A"
      ]
    },
    {
      "cell_type": "markdown",
      "id": "819dc5f8",
      "metadata": {
        "id": "819dc5f8"
      },
      "source": [
        "Read https://raw.githubusercontent.com/selva86/datasets/master/newsgroups.json either from the url or from a file on Google Drive. Call it df."
      ]
    },
    {
      "cell_type": "code",
      "execution_count": 3,
      "id": "cdaacdfd",
      "metadata": {
        "id": "cdaacdfd",
        "outputId": "e10acf90-5045-4ec6-88d1-acb7dca1c2c2",
        "colab": {
          "base_uri": "https://localhost:8080/",
          "height": 206
        }
      },
      "outputs": [
        {
          "output_type": "execute_result",
          "data": {
            "text/plain": [
              "                                             content  target  \\\n",
              "0  From: lerxst@wam.umd.edu (where's my thing)\\nS...       7   \n",
              "1  From: guykuo@carson.u.washington.edu (Guy Kuo)...       4   \n",
              "2  From: twillis@ec.ecn.purdue.edu (Thomas E Will...       4   \n",
              "3  From: jgreen@amber (Joe Green)\\nSubject: Re: W...       1   \n",
              "4  From: jcm@head-cfa.harvard.edu (Jonathan McDow...      14   \n",
              "\n",
              "            target_names  \n",
              "0              rec.autos  \n",
              "1  comp.sys.mac.hardware  \n",
              "2  comp.sys.mac.hardware  \n",
              "3          comp.graphics  \n",
              "4              sci.space  "
            ],
            "text/html": [
              "\n",
              "  <div id=\"df-95232a28-5630-4d0d-bd6b-617ec2f75ab7\">\n",
              "    <div class=\"colab-df-container\">\n",
              "      <div>\n",
              "<style scoped>\n",
              "    .dataframe tbody tr th:only-of-type {\n",
              "        vertical-align: middle;\n",
              "    }\n",
              "\n",
              "    .dataframe tbody tr th {\n",
              "        vertical-align: top;\n",
              "    }\n",
              "\n",
              "    .dataframe thead th {\n",
              "        text-align: right;\n",
              "    }\n",
              "</style>\n",
              "<table border=\"1\" class=\"dataframe\">\n",
              "  <thead>\n",
              "    <tr style=\"text-align: right;\">\n",
              "      <th></th>\n",
              "      <th>content</th>\n",
              "      <th>target</th>\n",
              "      <th>target_names</th>\n",
              "    </tr>\n",
              "  </thead>\n",
              "  <tbody>\n",
              "    <tr>\n",
              "      <th>0</th>\n",
              "      <td>From: lerxst@wam.umd.edu (where's my thing)\\nS...</td>\n",
              "      <td>7</td>\n",
              "      <td>rec.autos</td>\n",
              "    </tr>\n",
              "    <tr>\n",
              "      <th>1</th>\n",
              "      <td>From: guykuo@carson.u.washington.edu (Guy Kuo)...</td>\n",
              "      <td>4</td>\n",
              "      <td>comp.sys.mac.hardware</td>\n",
              "    </tr>\n",
              "    <tr>\n",
              "      <th>2</th>\n",
              "      <td>From: twillis@ec.ecn.purdue.edu (Thomas E Will...</td>\n",
              "      <td>4</td>\n",
              "      <td>comp.sys.mac.hardware</td>\n",
              "    </tr>\n",
              "    <tr>\n",
              "      <th>3</th>\n",
              "      <td>From: jgreen@amber (Joe Green)\\nSubject: Re: W...</td>\n",
              "      <td>1</td>\n",
              "      <td>comp.graphics</td>\n",
              "    </tr>\n",
              "    <tr>\n",
              "      <th>4</th>\n",
              "      <td>From: jcm@head-cfa.harvard.edu (Jonathan McDow...</td>\n",
              "      <td>14</td>\n",
              "      <td>sci.space</td>\n",
              "    </tr>\n",
              "  </tbody>\n",
              "</table>\n",
              "</div>\n",
              "      <button class=\"colab-df-convert\" onclick=\"convertToInteractive('df-95232a28-5630-4d0d-bd6b-617ec2f75ab7')\"\n",
              "              title=\"Convert this dataframe to an interactive table.\"\n",
              "              style=\"display:none;\">\n",
              "        \n",
              "  <svg xmlns=\"http://www.w3.org/2000/svg\" height=\"24px\"viewBox=\"0 0 24 24\"\n",
              "       width=\"24px\">\n",
              "    <path d=\"M0 0h24v24H0V0z\" fill=\"none\"/>\n",
              "    <path d=\"M18.56 5.44l.94 2.06.94-2.06 2.06-.94-2.06-.94-.94-2.06-.94 2.06-2.06.94zm-11 1L8.5 8.5l.94-2.06 2.06-.94-2.06-.94L8.5 2.5l-.94 2.06-2.06.94zm10 10l.94 2.06.94-2.06 2.06-.94-2.06-.94-.94-2.06-.94 2.06-2.06.94z\"/><path d=\"M17.41 7.96l-1.37-1.37c-.4-.4-.92-.59-1.43-.59-.52 0-1.04.2-1.43.59L10.3 9.45l-7.72 7.72c-.78.78-.78 2.05 0 2.83L4 21.41c.39.39.9.59 1.41.59.51 0 1.02-.2 1.41-.59l7.78-7.78 2.81-2.81c.8-.78.8-2.07 0-2.86zM5.41 20L4 18.59l7.72-7.72 1.47 1.35L5.41 20z\"/>\n",
              "  </svg>\n",
              "      </button>\n",
              "      \n",
              "  <style>\n",
              "    .colab-df-container {\n",
              "      display:flex;\n",
              "      flex-wrap:wrap;\n",
              "      gap: 12px;\n",
              "    }\n",
              "\n",
              "    .colab-df-convert {\n",
              "      background-color: #E8F0FE;\n",
              "      border: none;\n",
              "      border-radius: 50%;\n",
              "      cursor: pointer;\n",
              "      display: none;\n",
              "      fill: #1967D2;\n",
              "      height: 32px;\n",
              "      padding: 0 0 0 0;\n",
              "      width: 32px;\n",
              "    }\n",
              "\n",
              "    .colab-df-convert:hover {\n",
              "      background-color: #E2EBFA;\n",
              "      box-shadow: 0px 1px 2px rgba(60, 64, 67, 0.3), 0px 1px 3px 1px rgba(60, 64, 67, 0.15);\n",
              "      fill: #174EA6;\n",
              "    }\n",
              "\n",
              "    [theme=dark] .colab-df-convert {\n",
              "      background-color: #3B4455;\n",
              "      fill: #D2E3FC;\n",
              "    }\n",
              "\n",
              "    [theme=dark] .colab-df-convert:hover {\n",
              "      background-color: #434B5C;\n",
              "      box-shadow: 0px 1px 3px 1px rgba(0, 0, 0, 0.15);\n",
              "      filter: drop-shadow(0px 1px 2px rgba(0, 0, 0, 0.3));\n",
              "      fill: #FFFFFF;\n",
              "    }\n",
              "  </style>\n",
              "\n",
              "      <script>\n",
              "        const buttonEl =\n",
              "          document.querySelector('#df-95232a28-5630-4d0d-bd6b-617ec2f75ab7 button.colab-df-convert');\n",
              "        buttonEl.style.display =\n",
              "          google.colab.kernel.accessAllowed ? 'block' : 'none';\n",
              "\n",
              "        async function convertToInteractive(key) {\n",
              "          const element = document.querySelector('#df-95232a28-5630-4d0d-bd6b-617ec2f75ab7');\n",
              "          const dataTable =\n",
              "            await google.colab.kernel.invokeFunction('convertToInteractive',\n",
              "                                                     [key], {});\n",
              "          if (!dataTable) return;\n",
              "\n",
              "          const docLinkHtml = 'Like what you see? Visit the ' +\n",
              "            '<a target=\"_blank\" href=https://colab.research.google.com/notebooks/data_table.ipynb>data table notebook</a>'\n",
              "            + ' to learn more about interactive tables.';\n",
              "          element.innerHTML = '';\n",
              "          dataTable['output_type'] = 'display_data';\n",
              "          await google.colab.output.renderOutput(dataTable, element);\n",
              "          const docLink = document.createElement('div');\n",
              "          docLink.innerHTML = docLinkHtml;\n",
              "          element.appendChild(docLink);\n",
              "        }\n",
              "      </script>\n",
              "    </div>\n",
              "  </div>\n",
              "  "
            ]
          },
          "metadata": {},
          "execution_count": 3
        }
      ],
      "source": [
        "df = pd.read_json(\"https://raw.githubusercontent.com/selva86/datasets/master/newsgroups.json\")\n",
        "df.head()"
      ]
    },
    {
      "cell_type": "markdown",
      "id": "db146a8f",
      "metadata": {
        "id": "db146a8f"
      },
      "source": [
        "Print the head of df. What kind of data does it contain? How many entries does it have? Which categories can be found in the column target_names? What is their distribution (e.g. with value_counts())? Print the first content value. Does it match the target name? Which business question can this dataset address?"
      ]
    },
    {
      "cell_type": "code",
      "execution_count": 4,
      "id": "7184c4a2",
      "metadata": {
        "id": "7184c4a2",
        "outputId": "f27a34c9-e05e-4ee3-b8f9-9db5b8110b92",
        "colab": {
          "base_uri": "https://localhost:8080/"
        }
      },
      "outputs": [
        {
          "output_type": "execute_result",
          "data": {
            "text/plain": [
              "content         object\n",
              "target           int64\n",
              "target_names    object\n",
              "dtype: object"
            ]
          },
          "metadata": {},
          "execution_count": 4
        }
      ],
      "source": [
        "#kind of data of df\n",
        "df.dtypes"
      ]
    },
    {
      "cell_type": "code",
      "execution_count": 5,
      "id": "82088bcb",
      "metadata": {
        "id": "82088bcb",
        "outputId": "38bd98dc-2d95-4f40-9159-0914e825e52d",
        "colab": {
          "base_uri": "https://localhost:8080/"
        }
      },
      "outputs": [
        {
          "output_type": "stream",
          "name": "stdout",
          "text": [
            "The df contains newsgroups posts on 20 different topics\n"
          ]
        }
      ],
      "source": [
        "print(f\"The df contains newsgroups posts on {len(df.target_names.unique())} different topics\")"
      ]
    },
    {
      "cell_type": "code",
      "execution_count": 6,
      "id": "42b86480",
      "metadata": {
        "id": "42b86480",
        "outputId": "28b7211f-4805-4421-e493-d8468a6f3743",
        "colab": {
          "base_uri": "https://localhost:8080/"
        }
      },
      "outputs": [
        {
          "output_type": "stream",
          "name": "stdout",
          "text": [
            "Number of entries: 11314\n"
          ]
        }
      ],
      "source": [
        "print(f\"Number of entries: {df.shape[0]}\")"
      ]
    },
    {
      "cell_type": "code",
      "execution_count": 7,
      "id": "dd7c2859",
      "metadata": {
        "id": "dd7c2859",
        "outputId": "03c4bdff-e06a-443e-915e-ef2294acbbad",
        "colab": {
          "base_uri": "https://localhost:8080/"
        }
      },
      "outputs": [
        {
          "output_type": "execute_result",
          "data": {
            "text/plain": [
              "array(['rec.autos', 'comp.sys.mac.hardware', 'comp.graphics', 'sci.space',\n",
              "       'talk.politics.guns', 'sci.med', 'comp.sys.ibm.pc.hardware',\n",
              "       'comp.os.ms-windows.misc', 'rec.motorcycles', 'talk.religion.misc',\n",
              "       'misc.forsale', 'alt.atheism', 'sci.electronics', 'comp.windows.x',\n",
              "       'rec.sport.hockey', 'rec.sport.baseball', 'soc.religion.christian',\n",
              "       'talk.politics.mideast', 'talk.politics.misc', 'sci.crypt'],\n",
              "      dtype=object)"
            ]
          },
          "metadata": {},
          "execution_count": 7
        }
      ],
      "source": [
        "#Categories in column target_names\n",
        "df.target_names.unique()"
      ]
    },
    {
      "cell_type": "code",
      "execution_count": 8,
      "id": "08014405",
      "metadata": {
        "id": "08014405",
        "outputId": "9be3f3e6-08f8-4e17-80f2-117d8ebf4472",
        "colab": {
          "base_uri": "https://localhost:8080/",
          "height": 390
        }
      },
      "outputs": [
        {
          "output_type": "display_data",
          "data": {
            "text/plain": [
              "<Figure size 432x288 with 1 Axes>"
            ],
            "image/png": "[encoded data removed]"
          },
          "metadata": {
            "needs_background": "light"
          }
        }
      ],
      "source": [
        "#Distribution of target_names\n",
        "df.target_names.value_counts().plot(kind=\"bar\");"
      ]
    },
    {
      "cell_type": "markdown",
      "id": "f999e703",
      "metadata": {
        "id": "f999e703"
      },
      "source": [
        "*The classes are almost uniformly distributed.*"
      ]
    },
    {
      "cell_type": "code",
      "execution_count": 9,
      "id": "2e2ee0af",
      "metadata": {
        "id": "2e2ee0af",
        "outputId": "53edc57b-3f9a-44eb-e7b2-1888e34dde04",
        "colab": {
          "base_uri": "https://localhost:8080/"
        }
      },
      "outputs": [
        {
          "output_type": "stream",
          "name": "stdout",
          "text": [
            "From: lerxst@wam.umd.edu (where's my thing)\n",
            "Subject: WHAT car is this!?\n",
            "Nntp-Posting-Host: rac3.wam.umd.edu\n",
            "Organization: University of Maryland, College Park\n",
            "Lines: 15\n",
            "\n",
            " I was wondering if anyone out there could enlighten me on this car I saw\n",
            "the other day. It was a 2-door sports car, looked to be from the late 60s/\n",
            "early 70s. It was called a Bricklin. The doors were really small. In addition,\n",
            "the front bumper was separate from the rest of the body. This is \n",
            "all I know. If anyone can tellme a model name, engine specs, years\n",
            "of production, where this car is made, history, or whatever info you\n",
            "have on this funky looking car, please e-mail.\n",
            "\n",
            "Thanks,\n",
            "- IL\n",
            "   ---- brought to you by your neighborhood Lerxst ----\n",
            "\n",
            "\n",
            "\n",
            "\n",
            "\n",
            "Target name: rec.autos\n"
          ]
        }
      ],
      "source": [
        "#Print the first content value. Does it match the target name?\n",
        "print(df[\"content\"][0])\n",
        "print(\"Target name:\",df[\"target_names\"][0])"
      ]
    },
    {
      "cell_type": "markdown",
      "id": "d2940db8",
      "metadata": {
        "id": "d2940db8"
      },
      "source": [
        "---\n",
        "***Which business question can this dataset address?***\n",
        "- Can be used to classify posts to the corresponding topic/thread based on the content of the posting\n",
        "- Identify posts which have been posted to the wrong thread?"
      ]
    },
    {
      "cell_type": "markdown",
      "id": "7024e3e6",
      "metadata": {
        "id": "7024e3e6"
      },
      "source": [
        "## Part B"
      ]
    },
    {
      "cell_type": "markdown",
      "id": "e4f428da",
      "metadata": {
        "id": "e4f428da"
      },
      "source": [
        "Remove the lines beginning with any of the following: \n",
        "- ‘From:’, ‘Article-I.D.:’, ‘Organization:’, ‘Lines:’, ‘NNTP-Posting-Host:’, ‘Distribution:’, ‘Reply-T o:’, ‘X- Newsreader:’, ‘Expires:’, \n",
        "- multiples (also one) of ‘-‘ preceded by space using the package **re**.\n",
        "\n",
        "Remove additionally any of the words ‘Subject:’, ‘Summary:’ or ‘Keywords:’. \n",
        "\n",
        "\n",
        "Both removals should be case insensitive. \n",
        "- Call the new object data which is your corpus and display the first entry. \n",
        "- Why are we doing this?"
      ]
    },
    {
      "cell_type": "code",
      "execution_count": 10,
      "id": "76a8b735",
      "metadata": {
        "id": "76a8b735"
      },
      "outputs": [],
      "source": [
        "regex = \"(?m)^(?:From:|Article\\-I.D.:|Organization:|Lines:|Nntp\\-Posting\\-Host:|Distribution:|Reply\\-To:|X\\-Newsreader:|Expires:)\\s.*|\\s-+|Subject:|Summary:|Keywords:\""
      ]
    },
    {
      "cell_type": "code",
      "execution_count": 11,
      "id": "7d204017",
      "metadata": {
        "id": "7d204017",
        "outputId": "f7535e19-d6ba-4a40-859a-bcbf6c380ef8",
        "colab": {
          "base_uri": "https://localhost:8080/"
        }
      },
      "outputs": [
        {
          "output_type": "stream",
          "name": "stdout",
          "text": [
            "\n",
            " WHAT car is this!?\n",
            "\n",
            "\n",
            "\n",
            "\n",
            " I was wondering if anyone out there could enlighten me on this car I saw\n",
            "the other day. It was a 2-door sports car, looked to be from the late 60s/\n",
            "early 70s. It was called a Bricklin. The doors were really small. In addition,\n",
            "the front bumper was separate from the rest of the body. This is \n",
            "all I know. If anyone can tellme a model name, engine specs, years\n",
            "of production, where this car is made, history, or whatever info you\n",
            "have on this funky looking car, please e-mail.\n",
            "\n",
            "Thanks, IL\n",
            "   brought to you by your neighborhood Lerxst\n",
            "\n",
            "\n",
            "\n",
            "\n",
            "\n"
          ]
        }
      ],
      "source": [
        "# Check if regex is working based on first entry\n",
        "print(re.sub(regex, \"\", df[\"content\"][0], flags=re.I))"
      ]
    },
    {
      "cell_type": "code",
      "execution_count": 12,
      "id": "a1e16aff",
      "metadata": {
        "id": "a1e16aff"
      },
      "outputs": [],
      "source": [
        "#Remove lines and store as data\n",
        "data = df[[\"content\"]].replace( {regex: '' }, regex = True)"
      ]
    },
    {
      "cell_type": "code",
      "execution_count": 13,
      "id": "c61ca146",
      "metadata": {
        "id": "c61ca146",
        "outputId": "436558ae-df15-483e-daf9-bbeb4e0f11c7",
        "colab": {
          "base_uri": "https://localhost:8080/"
        }
      },
      "outputs": [
        {
          "output_type": "stream",
          "name": "stdout",
          "text": [
            "\n",
            " WHAT car is this!?\n",
            "\n",
            "\n",
            "\n",
            "\n",
            " I was wondering if anyone out there could enlighten me on this car I saw\n",
            "the other day. It was a 2-door sports car, looked to be from the late 60s/\n",
            "early 70s. It was called a Bricklin. The doors were really small. In addition,\n",
            "the front bumper was separate from the rest of the body. This is \n",
            "all I know. If anyone can tellme a model name, engine specs, years\n",
            "of production, where this car is made, history, or whatever info you\n",
            "have on this funky looking car, please e-mail.\n",
            "\n",
            "Thanks, IL\n",
            "   brought to you by your neighborhood Lerxst\n",
            "\n",
            "\n",
            "\n",
            "\n",
            "\n"
          ]
        }
      ],
      "source": [
        "print(data.content[0])"
      ]
    },
    {
      "cell_type": "markdown",
      "id": "3d62a87d",
      "metadata": {
        "id": "3d62a87d"
      },
      "source": [
        "We removed the lines to minimize noise in our postings (lines do not contain valuable information)"
      ]
    },
    {
      "cell_type": "markdown",
      "id": "96956172",
      "metadata": {
        "id": "96956172"
      },
      "source": [
        "## Part C"
      ]
    },
    {
      "cell_type": "markdown",
      "id": "bc5af675",
      "metadata": {
        "id": "bc5af675"
      },
      "source": [
        "Apply `strip_numeric`, `strip_punctuation` and `strip_multiple_whitespaces` to data and override it. What are those functions doing and why?"
      ]
    },
    {
      "cell_type": "code",
      "execution_count": 14,
      "id": "169e9c2d",
      "metadata": {
        "id": "169e9c2d"
      },
      "outputs": [],
      "source": [
        "data = [strip_multiple_whitespaces(strip_punctuation(strip_numeric(str(text)))) for text in data.content]"
      ]
    },
    {
      "cell_type": "markdown",
      "id": "07982e0f",
      "metadata": {
        "id": "07982e0f"
      },
      "source": [
        "- `strip_numeric`: Removes digits from text\n",
        "- `strip_punctuation`: Removes special characters (punctuations)\n",
        "- `strip_multiple_whitespaces`: removes multiple white spaces"
      ]
    },
    {
      "cell_type": "markdown",
      "id": "90887933",
      "metadata": {
        "id": "90887933"
      },
      "source": [
        "Transform all letters to lower case ones and override data with the result (Hint: Use string.lower())."
      ]
    },
    {
      "cell_type": "code",
      "execution_count": 15,
      "id": "72fdeafe",
      "metadata": {
        "id": "72fdeafe"
      },
      "outputs": [],
      "source": [
        "data = [text.lower() for text in data]"
      ]
    },
    {
      "cell_type": "markdown",
      "id": "28915137",
      "metadata": {
        "id": "28915137"
      },
      "source": [
        "## Part D"
      ]
    },
    {
      "cell_type": "markdown",
      "id": "f4cebd06",
      "metadata": {
        "id": "f4cebd06"
      },
      "source": [
        "Print both the stopwords in **gensim** and those in **nltk**. Do you see a difference? Hint: it may make sense to sort the objects beforehand."
      ]
    },
    {
      "cell_type": "code",
      "execution_count": 16,
      "id": "10aa5c82",
      "metadata": {
        "id": "10aa5c82",
        "outputId": "aad3b286-c911-4098-c703-a3c16aba1cb4",
        "colab": {
          "base_uri": "https://localhost:8080/"
        }
      },
      "outputs": [
        {
          "output_type": "stream",
          "name": "stdout",
          "text": [
            "['a', 'about', 'above', 'across', 'after', 'afterwards', 'again', 'against', 'all', 'almost', 'alone', 'along', 'already', 'also', 'although', 'always', 'am', 'among', 'amongst', 'amoungst', 'amount', 'an', 'and', 'another', 'any', 'anyhow', 'anyone', 'anything', 'anyway', 'anywhere', 'are', 'around', 'as', 'at', 'back', 'be', 'became', 'because', 'become', 'becomes', 'becoming', 'been', 'before', 'beforehand', 'behind', 'being', 'below', 'beside', 'besides', 'between', 'beyond', 'bill', 'both', 'bottom', 'but', 'by', 'call', 'can', 'cannot', 'cant', 'co', 'computer', 'con', 'could', 'couldnt', 'cry', 'de', 'describe', 'detail', 'did', 'didn', 'do', 'does', 'doesn', 'doing', 'don', 'done', 'down', 'due', 'during', 'each', 'eg', 'eight', 'either', 'eleven', 'else', 'elsewhere', 'empty', 'enough', 'etc', 'even', 'ever', 'every', 'everyone', 'everything', 'everywhere', 'except', 'few', 'fifteen', 'fify', 'fill', 'find', 'fire', 'first', 'five', 'for', 'former', 'formerly', 'forty', 'found', 'four', 'from', 'front', 'full', 'further', 'get', 'give', 'go', 'had', 'has', 'hasnt', 'have', 'he', 'hence', 'her', 'here', 'hereafter', 'hereby', 'herein', 'hereupon', 'hers', 'herself', 'him', 'himself', 'his', 'how', 'however', 'hundred', 'i', 'ie', 'if', 'in', 'inc', 'indeed', 'interest', 'into', 'is', 'it', 'its', 'itself', 'just', 'keep', 'kg', 'km', 'last', 'latter', 'latterly', 'least', 'less', 'ltd', 'made', 'make', 'many', 'may', 'me', 'meanwhile', 'might', 'mill', 'mine', 'more', 'moreover', 'most', 'mostly', 'move', 'much', 'must', 'my', 'myself', 'name', 'namely', 'neither', 'never', 'nevertheless', 'next', 'nine', 'no', 'nobody', 'none', 'noone', 'nor', 'not', 'nothing', 'now', 'nowhere', 'of', 'off', 'often', 'on', 'once', 'one', 'only', 'onto', 'or', 'other', 'others', 'otherwise', 'our', 'ours', 'ourselves', 'out', 'over', 'own', 'part', 'per', 'perhaps', 'please', 'put', 'quite', 'rather', 're', 'really', 'regarding', 'same', 'say', 'see', 'seem', 'seemed', 'seeming', 'seems', 'serious', 'several', 'she', 'should', 'show', 'side', 'since', 'sincere', 'six', 'sixty', 'so', 'some', 'somehow', 'someone', 'something', 'sometime', 'sometimes', 'somewhere', 'still', 'such', 'system', 'take', 'ten', 'than', 'that', 'the', 'their', 'them', 'themselves', 'then', 'thence', 'there', 'thereafter', 'thereby', 'therefore', 'therein', 'thereupon', 'these', 'they', 'thick', 'thin', 'third', 'this', 'those', 'though', 'three', 'through', 'throughout', 'thru', 'thus', 'to', 'together', 'too', 'top', 'toward', 'towards', 'twelve', 'twenty', 'two', 'un', 'under', 'unless', 'until', 'up', 'upon', 'us', 'used', 'using', 'various', 'very', 'via', 'was', 'we', 'well', 'were', 'what', 'whatever', 'when', 'whence', 'whenever', 'where', 'whereafter', 'whereas', 'whereby', 'wherein', 'whereupon', 'wherever', 'whether', 'which', 'while', 'whither', 'who', 'whoever', 'whole', 'whom', 'whose', 'why', 'will', 'with', 'within', 'without', 'would', 'yet', 'you', 'your', 'yours', 'yourself', 'yourselves']\n"
          ]
        }
      ],
      "source": [
        "#stop_gensim\n",
        "stop_gensim= list(STOPWORDS)\n",
        "stop_gensim.sort()\n",
        "print(stop_gensim)"
      ]
    },
    {
      "cell_type": "code",
      "execution_count": 17,
      "id": "6b897e6d",
      "metadata": {
        "id": "6b897e6d",
        "outputId": "aff5330f-4d10-4488-e62b-6be76cfe9520",
        "colab": {
          "base_uri": "https://localhost:8080/"
        }
      },
      "outputs": [
        {
          "output_type": "stream",
          "name": "stdout",
          "text": [
            "Number of stopwords in gensim: 337\n"
          ]
        }
      ],
      "source": [
        "print(\"Number of stopwords in gensim:\", len(stop_gensim))"
      ]
    },
    {
      "cell_type": "code",
      "execution_count": 18,
      "id": "1b0f6701",
      "metadata": {
        "id": "1b0f6701",
        "outputId": "c94b2dec-6440-40fd-ee77-6b521f87378b",
        "colab": {
          "base_uri": "https://localhost:8080/"
        }
      },
      "outputs": [
        {
          "output_type": "stream",
          "name": "stdout",
          "text": [
            "['a', 'about', 'above', 'after', 'again', 'against', 'ain', 'all', 'am', 'an', 'and', 'any', 'are', 'aren', \"aren't\", 'as', 'at', 'be', 'because', 'been', 'before', 'being', 'below', 'between', 'both', 'but', 'by', 'can', 'couldn', \"couldn't\", 'd', 'did', 'didn', \"didn't\", 'do', 'does', 'doesn', \"doesn't\", 'doing', 'don', \"don't\", 'down', 'during', 'each', 'few', 'for', 'from', 'further', 'had', 'hadn', \"hadn't\", 'has', 'hasn', \"hasn't\", 'have', 'haven', \"haven't\", 'having', 'he', 'her', 'here', 'hers', 'herself', 'him', 'himself', 'his', 'how', 'i', 'if', 'in', 'into', 'is', 'isn', \"isn't\", 'it', \"it's\", 'its', 'itself', 'just', 'll', 'm', 'ma', 'me', 'mightn', \"mightn't\", 'more', 'most', 'mustn', \"mustn't\", 'my', 'myself', 'needn', \"needn't\", 'no', 'nor', 'not', 'now', 'o', 'of', 'off', 'on', 'once', 'only', 'or', 'other', 'our', 'ours', 'ourselves', 'out', 'over', 'own', 're', 's', 'same', 'shan', \"shan't\", 'she', \"she's\", 'should', \"should've\", 'shouldn', \"shouldn't\", 'so', 'some', 'such', 't', 'than', 'that', \"that'll\", 'the', 'their', 'theirs', 'them', 'themselves', 'then', 'there', 'these', 'they', 'this', 'those', 'through', 'to', 'too', 'under', 'until', 'up', 've', 'very', 'was', 'wasn', \"wasn't\", 'we', 'were', 'weren', \"weren't\", 'what', 'when', 'where', 'which', 'while', 'who', 'whom', 'why', 'will', 'with', 'won', \"won't\", 'wouldn', \"wouldn't\", 'y', 'you', \"you'd\", \"you'll\", \"you're\", \"you've\", 'your', 'yours', 'yourself', 'yourselves']\n",
            "\n",
            "Number of stopwords in nltk english: 179\n"
          ]
        }
      ],
      "source": [
        "#stop_nltk\n",
        "stop_nltk = stopwords.words(\"english\")\n",
        "stop_nltk.sort()\n",
        "print(stop_nltk)\n",
        "print()\n",
        "print(\"Number of stopwords in nltk english:\", len(stop_nltk))"
      ]
    },
    {
      "cell_type": "code",
      "execution_count": 19,
      "id": "c5346ba7",
      "metadata": {
        "id": "c5346ba7",
        "outputId": "7fdd22f3-c274-4068-82cd-9af9be7fa324",
        "colab": {
          "base_uri": "https://localhost:8080/"
        }
      },
      "outputs": [
        {
          "output_type": "stream",
          "name": "stdout",
          "text": [
            "{'although', 'regarding', 'latter', 'must', 'hereafter', 'done', 'eight', 'get', 'make', 'someone', 'thus', 'except', 'thereafter', 'beforehand', 'cant', 'across', 'nothing', 'often', 'four', 'become', 'seeming', 'couldnt', 'along', 'used', 'afterwards', 'anything', 'bottom', 'keep', 'whereupon', 'six', 'thence', 'thereby', 'one', 'whoever', 'sometime', 'bill', 'seem', 'rather', 'sometimes', 'formerly', 'beside', 'twelve', 'neither', 'beyond', 'behind', 'herein', 'empty', 'ever', 'much', 'amongst', 'due', 'within', 'interest', 'still', 'detail', 'besides', 'somewhere', 'fifteen', 'say', 'everything', 'former', 'none', 'hundred', 'sixty', 'two', 'give', 'etc', 'part', 'km', 'perhaps', 'latterly', 'either', 'seemed', 'using', 'fire', 'becomes', 'hereupon', 'towards', 'mill', 'whose', 'among', 'nowhere', 'since', 'well', 'per', 'whenever', 'hasnt', 'anyhow', 'however', 'enough', 'last', 'noone', 'also', 'eleven', 'third', 'top', 'never', 'via', 'serious', 'moreover', 'whither', 'quite', 'un', 'go', 'us', 'move', 'three', 'toward', 'back', 'side', 'always', 'five', 'meanwhile', 'almost', 'anywhere', 'may', 'whether', 'seems', 'wherein', 'unless', 'nobody', 'hereby', 'computer', 'mostly', 'ltd', 'system', 'eg', 'anyone', 'co', 'alone', 'call', 'therein', 'onto', 'made', 'cannot', 'already', 'see', 'inc', 'ten', 'everyone', 'take', 'several', 'de', 'whereafter', 'less', 'indeed', 'put', 'becoming', 'found', 'somehow', 'name', 'whole', 'became', 'cry', 'next', 'thru', 'together', 'find', 'otherwise', 'fill', 'around', 'least', 'describe', 'might', 'sincere', 'whatever', 'else', 'thereupon', 'yet', 'fify', 'amoungst', 'though', 'kg', 'nevertheless', 'con', 'something', 'others', 'therefore', 'mine', 'without', 'really', 'first', 'front', 'please', 'amount', 'hence', 'thin', 'various', 'thick', 'many', 'even', 'wherever', 'every', 'namely', 'twenty', 'full', 'anyway', 'whereby', 'could', 'whence', 'throughout', 'would', 'nine', 'whereas', 'everywhere', 'another', 'ie', 'upon', 'elsewhere', 'forty', 'show'}\n",
            "Number of Stopwords in gensim which are not included in nltk: 211\n"
          ]
        }
      ],
      "source": [
        "# Compare both stopwords list\n",
        "\n",
        "# Stopwords in gensim which are not included in nltk\n",
        "s_gensim, s_nltk = set(stop_gensim), set(stop_nltk)\n",
        "print(s_gensim - s_nltk)\n",
        "\n",
        "print(\"Number of Stopwords in gensim which are not included in nltk:\",len(s_gensim - s_nltk))"
      ]
    },
    {
      "cell_type": "code",
      "execution_count": 20,
      "id": "16e90b10",
      "metadata": {
        "id": "16e90b10",
        "outputId": "01a02d99-5322-44a2-c77b-a2af9fd8b6b5",
        "colab": {
          "base_uri": "https://localhost:8080/"
        }
      },
      "outputs": [
        {
          "output_type": "stream",
          "name": "stdout",
          "text": [
            "{\"you'd\", 'needn', \"isn't\", \"wouldn't\", \"you've\", 'mightn', \"couldn't\", 'ma', \"haven't\", 'o', \"that'll\", 'having', 'wouldn', 't', 'mustn', \"she's\", 'll', 'couldn', 'shouldn', 'y', 'weren', 'ain', 've', 'aren', 'wasn', \"don't\", \"hasn't\", 'shan', \"hadn't\", \"shan't\", 'd', 'm', 'hadn', \"you're\", \"aren't\", \"it's\", 'theirs', \"needn't\", \"doesn't\", \"mightn't\", 'hasn', \"weren't\", \"didn't\", 'won', \"shouldn't\", \"should've\", 'isn', 'haven', \"mustn't\", \"you'll\", 's', \"won't\", \"wasn't\"}\n",
            "Number of Stopwords in gensim which are not included in nltk: 53\n"
          ]
        }
      ],
      "source": [
        "# Stopwords in nltk which are not included in gensim\n",
        "print(s_nltk - s_gensim)\n",
        "\n",
        "print(\"Number of Stopwords in gensim which are not included in nltk:\",len(s_nltk - s_gensim))"
      ]
    },
    {
      "cell_type": "markdown",
      "id": "07dde11d",
      "metadata": {
        "id": "07dde11d"
      },
      "source": [
        "NLTK overall includes fewer stopwords than gensim. Also most of the stopwords which are \"only included\" in nltk still have punctuation. If you would remove the punctuation the number of unique stopwords from nltk which are not included in gensim would be even smaller. "
      ]
    },
    {
      "cell_type": "markdown",
      "id": "9a6722e3",
      "metadata": {
        "id": "9a6722e3"
      },
      "source": [
        "Remove the stopwords using gensim’s `remove_stopwords` and override data."
      ]
    },
    {
      "cell_type": "code",
      "execution_count": 21,
      "id": "8949a3b0",
      "metadata": {
        "id": "8949a3b0"
      },
      "outputs": [],
      "source": [
        "data = [remove_stopwords(str(text)) for text in data]"
      ]
    },
    {
      "cell_type": "markdown",
      "id": "feb5cc82",
      "metadata": {
        "id": "feb5cc82"
      },
      "source": [
        "Apply `strip_short` to data. What is this function doing and why?"
      ]
    },
    {
      "cell_type": "code",
      "execution_count": 22,
      "id": "b8c5c694",
      "metadata": {
        "id": "b8c5c694"
      },
      "outputs": [],
      "source": [
        "data = [strip_short(str(text)) for text in data]"
      ]
    },
    {
      "cell_type": "markdown",
      "id": "dc7e02fd",
      "metadata": {
        "id": "dc7e02fd"
      },
      "source": [
        "`strip_short`: Removes words with length lesser than minsize from s (default=3). Assumption words with less than 3 characters don't include important information. "
      ]
    },
    {
      "cell_type": "markdown",
      "id": "14c6f42c",
      "metadata": {
        "id": "14c6f42c"
      },
      "source": [
        "## Part E"
      ]
    },
    {
      "cell_type": "markdown",
      "id": "767da84b",
      "metadata": {
        "id": "767da84b"
      },
      "source": [
        "Apply `stem_text` to data. What is this function doing and why?"
      ]
    },
    {
      "cell_type": "code",
      "execution_count": 23,
      "id": "7dc14c9a",
      "metadata": {
        "id": "7dc14c9a"
      },
      "outputs": [],
      "source": [
        "data_stemmed = [stem_text(str(text)) for text in data]"
      ]
    },
    {
      "cell_type": "markdown",
      "id": "8410e73e",
      "metadata": {
        "id": "8410e73e"
      },
      "source": [
        "Returns lowercased and porter-stemmed version of string text."
      ]
    },
    {
      "cell_type": "markdown",
      "id": "0a7c87b5",
      "metadata": {
        "id": "0a7c87b5"
      },
      "source": [
        "Apply lemmatization with Spacy by:\n",
        "<br>a) Initializing spacy’s 'en' model with en_core_web_sm.load() \n",
        "<br>b) Applying the model to the documents in data"
      ]
    },
    {
      "cell_type": "code",
      "execution_count": 24,
      "id": "73b882ac",
      "metadata": {
        "id": "73b882ac"
      },
      "outputs": [],
      "source": [
        "nlp = en_core_web_sm.load()"
      ]
    },
    {
      "cell_type": "code",
      "execution_count": 25,
      "id": "69202932",
      "metadata": {
        "id": "69202932"
      },
      "outputs": [],
      "source": [
        "data_lemma = []\n",
        "for text in data:\n",
        "    doc = nlp(str(text))\n",
        "    data_lemma.append(\" \".join([token.lemma_ for token in doc]))"
      ]
    },
    {
      "cell_type": "code",
      "execution_count": 26,
      "id": "e9156128",
      "metadata": {
        "id": "e9156128",
        "outputId": "37efcf4d-59a4-4fa4-9a87-efbfe5a89c0f",
        "colab": {
          "base_uri": "https://localhost:8080/",
          "height": 53
        }
      },
      "outputs": [
        {
          "output_type": "execute_result",
          "data": {
            "text/plain": [
              "'car wonder enlighten car see day door sport car look late early call bricklin door small addition bumper separate rest body know tellme model engine specs year production car history info funky looking car mail thank bring neighborhood lerxst'"
            ],
            "application/vnd.google.colaboratory.intrinsic+json": {
              "type": "string"
            }
          },
          "metadata": {},
          "execution_count": 26
        }
      ],
      "source": [
        "data_lemma[0]"
      ]
    },
    {
      "cell_type": "markdown",
      "id": "e4f14dd3",
      "metadata": {
        "id": "e4f14dd3"
      },
      "source": [
        "Store both the stemmed and lemmatized data (your corpus) in Google Drive (you may wish to make an extra folder) using pickle.dump. Why does it make sense storing this data?"
      ]
    },
    {
      "cell_type": "markdown",
      "source": [
        "### In Jupyter notebook"
      ],
      "metadata": {
        "id": "7lX1SwF59wbp"
      },
      "id": "7lX1SwF59wbp"
    },
    {
      "cell_type": "code",
      "execution_count": null,
      "id": "1e3171f1",
      "metadata": {
        "id": "1e3171f1"
      },
      "outputs": [],
      "source": [
        "# #Save stemmed data as .pkl\n",
        "# with open('../00_data//data_clean/data_stemmed.pkl', 'wb') as f:\n",
        "#     pickle.dump(data_stemmed, f)"
      ]
    },
    {
      "cell_type": "code",
      "execution_count": null,
      "id": "bb7d406e",
      "metadata": {
        "id": "bb7d406e"
      },
      "outputs": [],
      "source": [
        "# #Save lemmatized data as .pkl\n",
        "# with open('../00_data//data_clean/data_lemma.pkl', 'wb') as f:\n",
        "#     pickle.dump(data_lemma, f)"
      ]
    },
    {
      "cell_type": "markdown",
      "source": [
        "### In Google Colab"
      ],
      "metadata": {
        "id": "mGxp6TSG9pTw"
      },
      "id": "mGxp6TSG9pTw"
    },
    {
      "cell_type": "code",
      "source": [
        "#Mount drive\n",
        "from google.colab import drive\n",
        "drive.mount('/content/drive')"
      ],
      "metadata": {
        "id": "Belz44Ff9nkT",
        "outputId": "20262ea4-0210-40e7-cd2f-8e235d2c9de3",
        "colab": {
          "base_uri": "https://localhost:8080/"
        }
      },
      "id": "Belz44Ff9nkT",
      "execution_count": null,
      "outputs": [
        {
          "output_type": "stream",
          "name": "stdout",
          "text": [
            "Drive already mounted at /content/drive; to attempt to forcibly remount, call drive.mount(\"/content/drive\", force_remount=True).\n"
          ]
        }
      ]
    },
    {
      "cell_type": "code",
      "source": [
        "#Save stemmed data as .pkl\n",
        "with open('/content/drive/MyDrive/Colab_Notebooks/02_HWR/00_data/Newsgroup/data_stemmed.pkl', 'wb') as f:\n",
        "    pickle.dump(data_stemmed, f)\n"
      ],
      "metadata": {
        "id": "TyVEy-VdDsNV"
      },
      "id": "TyVEy-VdDsNV",
      "execution_count": null,
      "outputs": []
    },
    {
      "cell_type": "code",
      "source": [
        "#Save lemmatized data as .pkl\n",
        "with open('/content/drive/MyDrive/Colab_Notebooks/02_HWR/00_data/Newsgroup/data_lemma.pkl', 'wb') as f:\n",
        "    pickle.dump(data_lemma, f)"
      ],
      "metadata": {
        "id": "6ve16oWxEBDe"
      },
      "id": "6ve16oWxEBDe",
      "execution_count": null,
      "outputs": []
    },
    {
      "cell_type": "markdown",
      "id": "a1fc4816",
      "metadata": {
        "id": "a1fc4816"
      },
      "source": [
        "### Load stored .pkl files"
      ]
    },
    {
      "cell_type": "code",
      "execution_count": null,
      "id": "fd294c84",
      "metadata": {
        "id": "fd294c84"
      },
      "outputs": [],
      "source": [
        "# #Load stemmed data as .pkl\n",
        "# with open('../00_data//data_clean/data_stemmed.pkl', 'rb') as f:\n",
        "#     data_stemmed_l = pickle.load(f)"
      ]
    },
    {
      "cell_type": "code",
      "execution_count": null,
      "id": "28a6a1f4",
      "metadata": {
        "id": "28a6a1f4"
      },
      "outputs": [],
      "source": [
        "# #Load lemmatized data as .pkl\n",
        "# with open('../00_data//data_clean/data_lemma.pkl', 'rb') as f:\n",
        "#     data_lemma_l = pickle.load(f)"
      ]
    }
  ],
  "metadata": {
    "kernelspec": {
      "display_name": "Python 3 (ipykernel)",
      "language": "python",
      "name": "python3"
    },
    "language_info": {
      "codemirror_mode": {
        "name": "ipython",
        "version": 3
      },
      "file_extension": ".py",
      "mimetype": "text/x-python",
      "name": "python",
      "nbconvert_exporter": "python",
      "pygments_lexer": "ipython3",
      "version": "3.8.6"
    },
    "toc": {
      "base_numbering": 1,
      "nav_menu": {},
      "number_sections": true,
      "sideBar": true,
      "skip_h1_title": false,
      "title_cell": "Table of Contents",
      "title_sidebar": "Contents",
      "toc_cell": false,
      "toc_position": {},
      "toc_section_display": true,
      "toc_window_display": false
    },
    "colab": {
      "name": "PH_2_Preprocessing.ipynb",
      "provenance": []
    }
  },
  "nbformat": 4,
  "nbformat_minor": 5
}