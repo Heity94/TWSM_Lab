{
  "nbformat": 4,
  "nbformat_minor": 0,
  "metadata": {
    "colab": {
      "name": "Bản sao của NL_3_Representation.ipynb",
      "provenance": [],
      "collapsed_sections": [],
      "mount_file_id": "15YAUopMXDYf1Ioj4AWOqBBP-U0W1TGRQ",
      "authorship_tag": "ABX9TyOnkcJwJRpQuIv/X8/o4ZqT",
      "include_colab_link": true
    },
    "kernelspec": {
      "name": "python3",
      "display_name": "Python 3"
    },
    "language_info": {
      "name": "python"
    }
  },
  "cells": [
    {
      "cell_type": "markdown",
      "metadata": {
        "id": "view-in-github",
        "colab_type": "text"
      },
      "source": [
        "<a href=\"https://colab.research.google.com/github/Heity94/TWSM_Lab/blob/main/Homework/3_Exercise_Representation_1/NL_3_Representation.ipynb\" target=\"_parent\"><img src=\"https://colab.research.google.com/assets/colab-badge.svg\" alt=\"Open In Colab\"/></a>"
      ]
    },
    {
      "cell_type": "code",
      "execution_count": 6,
      "metadata": {
        "id": "I0iqMePLWQf5"
      },
      "outputs": [],
      "source": [
        "import pickle\n",
        "import pandas as pd\n",
        "from sklearn.feature_extraction.text import CountVectorizer, TfidfVectorizer\n",
        "from sklearn.preprocessing import Binarizer\n",
        "from gensim.corpora import Dictionary\n",
        "from gensim.models import TfidfModel"
      ]
    },
    {
      "cell_type": "code",
      "source": [
        "with open ('/content/drive/MyDrive/Colab/data_stemmed.pkl','rb') as handle:\n",
        "  data_stemmed = pickle.load(handle)"
      ],
      "metadata": {
        "id": "kuQBuh7RbDIN"
      },
      "execution_count": 7,
      "outputs": []
    },
    {
      "cell_type": "code",
      "source": [
        "data_stemmed[0]"
      ],
      "metadata": {
        "colab": {
          "base_uri": "https://localhost:8080/",
          "height": 71
        },
        "id": "7aAKTV6jcN8f",
        "outputId": "ebf5a09f-6284-40a7-b505-7ef8f9c146d9"
      },
      "execution_count": 8,
      "outputs": [
        {
          "output_type": "execute_result",
          "data": {
            "text/plain": [
              "'car wonder enlighten car saw dai door sport car look late earli call bricklin door small addit bumper separ rest bodi know tellm model engin spec year product car histori info funki look car mail thank brought neighborhood lerxst'"
            ],
            "application/vnd.google.colaboratory.intrinsic+json": {
              "type": "string"
            }
          },
          "metadata": {},
          "execution_count": 8
        }
      ]
    },
    {
      "cell_type": "code",
      "source": [
        "#absolute frequency\n",
        "vec_abs = CountVectorizer(max_df=0.95, min_df=0.05)\n",
        "#relative frequency\n",
        "vec_rel = TfidfVectorizer(max_df=0.95, min_df=0.05,use_idf=False, norm='l1')\n",
        "#tf-idf frequency\n",
        "vec_tf = TfidfVectorizer(max_df=0.95, min_df=0.05, smooth_idf=False)"
      ],
      "metadata": {
        "id": "kngUkhOtcbpV"
      },
      "execution_count": 9,
      "outputs": []
    },
    {
      "cell_type": "markdown",
      "source": [
        "Absolute frequency:\n",
        "\n",
        "\n",
        "*   Pros: considers word importance, interpretable\n",
        "*   Cons: not comparable between documents (i.e. long vs. short ones)\n",
        "\n",
        "Relative frequency:\n",
        "\n",
        "\n",
        "*   Pros: considers document length, interpretable\n",
        "*   Cons: common words among all documents are overweighed (e.g. ‘annual’\n",
        "in annual reports)\n",
        "\n",
        "TF-idf:\n",
        "\n",
        "\n",
        "*   Pros: Considers the occurrence among all documents (important for classification)\n",
        "*   Cons: Difficult interpretation\n",
        "\n",
        "\n",
        "\n",
        "\n"
      ],
      "metadata": {
        "id": "H1-ObSedduxc"
      }
    },
    {
      "cell_type": "markdown",
      "source": [
        ""
      ],
      "metadata": {
        "id": "UMHKbLM7dqV7"
      }
    },
    {
      "cell_type": "code",
      "source": [
        "#transform\n",
        "corpus_abs = vec_abs.fit_transform(data_stemmed)\n",
        "corpus_rel = vec_rel.fit_transform(data_stemmed)\n",
        "corpus_tf = vec_tf.fit_transform(data_stemmed)\n",
        "print(\"Absolute frequency: \\n\",corpus_abs.toarray()                                                                                                                                                                                                                                                                                                                                                                                                                                                                                                                                                                                                                                                                                                                                                                                                                                                                                                                                                                                                                                                                                                                                                                                                                                                                                                                                                                                                                                                                                                                                                                                                                                                                                                                                                                                                                                                                                                                                                                                                                                                                                                                                                                                                                                                                                                                                                                                                                                                                                                                                                                                                                                                                                                                                                                                                                                                                                                                                                                                                                                                                                                                                                              )\n",
        "print(\"\\n\")\n",
        "print(\"Relative frequency: \\n\", corpus_rel.toarray())\n",
        "print(\"\\n\")\n",
        "print(\"Tf-idf: \\n\", corpus_tf.toarray())"
      ],
      "metadata": {
        "colab": {
          "base_uri": "https://localhost:8080/"
        },
        "id": "SzhPJf_zcz_h",
        "outputId": "5131b489-8e08-4e7e-855f-afaadc1bfd62"
      },
      "execution_count": 10,
      "outputs": [
        {
          "output_type": "stream",
          "name": "stdout",
          "text": [
            "Absolute frequency: \n",
            " [[0 0 0 ... 0 0 1]\n",
            " [0 0 0 ... 0 0 0]\n",
            " [0 0 1 ... 0 0 0]\n",
            " ...\n",
            " [0 0 0 ... 0 0 0]\n",
            " [0 0 0 ... 0 0 0]\n",
            " [0 0 0 ... 0 0 0]]\n",
            "\n",
            "\n",
            "Relative frequency: \n",
            " [[0.         0.         0.         ... 0.         0.         0.05882353]\n",
            " [0.         0.         0.         ... 0.         0.         0.        ]\n",
            " [0.         0.         0.01666667 ... 0.         0.         0.        ]\n",
            " ...\n",
            " [0.         0.         0.         ... 0.         0.         0.        ]\n",
            " [0.         0.         0.         ... 0.         0.         0.        ]\n",
            " [0.         0.         0.         ... 0.         0.         0.        ]]\n",
            "\n",
            "\n",
            "Tf-idf: \n",
            " [[0.         0.         0.         ... 0.         0.         0.12166272]\n",
            " [0.         0.         0.         ... 0.         0.         0.        ]\n",
            " [0.         0.         0.11514646 ... 0.         0.         0.        ]\n",
            " ...\n",
            " [0.         0.         0.         ... 0.         0.         0.        ]\n",
            " [0.         0.         0.         ... 0.         0.         0.        ]\n",
            " [0.         0.         0.         ... 0.         0.         0.        ]]\n"
          ]
        }
      ]
    },
    {
      "cell_type": "code",
      "source": [
        "corpus_abs.toarray().shape"
      ],
      "metadata": {
        "colab": {
          "base_uri": "https://localhost:8080/"
        },
        "id": "11XLsbz5GARw",
        "outputId": "a8b7ffa4-8842-4b0b-fda7-c91818986d50"
      },
      "execution_count": 11,
      "outputs": [
        {
          "output_type": "execute_result",
          "data": {
            "text/plain": [
              "(11314, 246)"
            ]
          },
          "metadata": {},
          "execution_count": 11
        }
      ]
    },
    {
      "cell_type": "code",
      "source": [
        "#get feature names of tf-idf\n",
        "print(len(vec_tf.get_feature_names_out()))\n",
        "print((vec_tf.get_feature_names_out()))"
      ],
      "metadata": {
        "colab": {
          "base_uri": "https://localhost:8080/"
        },
        "id": "bOLHYYxboIsE",
        "outputId": "7d7e71c2-fca7-4eea-e3b3-33b9d9ed056f"
      },
      "execution_count": 12,
      "outputs": [
        {
          "output_type": "stream",
          "name": "stdout",
          "text": [
            "246\n",
            "['abl' 'accept' 'access' 'actual' 'address' 'advanc' 'ago' 'agre' 'allow'\n",
            " 'american' 'answer' 'anybodi' 'appreci' 'apr' 'area' 'articl' 'ask'\n",
            " 'assum' 'avail' 'awai' 'bad' 'base' 'believ' 'best' 'better' 'big' 'bit'\n",
            " 'book' 'bui' 'call' 'car' 'card' 'care' 'case' 'caus' 'chang' 'check'\n",
            " 'chip' 'christian' 'claim' 'close' 'com' 'come' 'complet' 'consid'\n",
            " 'control' 'correct' 'cost' 'cours' 'creat' 'current' 'dai' 'data' 'david'\n",
            " 'deal' 'design' 'differ' 'discuss' 'drive' 'edu' 'effect' 'email' 'end'\n",
            " 'engin' 'exampl' 'exist' 'expect' 'experi' 'fact' 'far' 'fax' 'feel'\n",
            " 'file' 'final' 'follow' 'forc' 'free' 'friend' 'game' 'gener' 'get'\n",
            " 'given' 'go' 'god' 'good' 'got' 'govern' 'great' 'group' 'guess' 'gui'\n",
            " 'hand' 'happen' 'hard' 'have' 'heard' 'help' 'high' 'home' 'hope' 'host'\n",
            " 'human' 'idea' 'import' 'includ' 'info' 'inform' 'interest' 'internet'\n",
            " 'isn' 'issu' 'john' 'kei' 'kill' 'kind' 'know' 'larg' 'law' 'left' 'let'\n",
            " 'life' 'like' 'line' 'list' 'littl' 'live' 'local' 'long' 'look' 'lot'\n",
            " 'love' 'machin' 'mail' 'major' 'make' 'man' 'manag' 'mark' 'matter'\n",
            " 'mayb' 'mean' 'mention' 'messag' 'mind' 'nation' 'need' 'net' 'new'\n",
            " 'nntp' 'non' 'note' 'number' 'old' 'open' 'opinion' 'order' 'org'\n",
            " 'origin' 'peopl' 'person' 'phone' 'place' 'plai' 'point' 'posit'\n",
            " 'possibl' 'post' 'power' 'pretti' 'price' 'probabl' 'problem' 'program'\n",
            " 'provid' 'public' 'question' 'read' 'real' 'reason' 'recent' 'refer'\n",
            " 'rememb' 'repli' 'report' 'requir' 'research' 'respons' 'result' 'right'\n",
            " 'run' 'sai' 'said' 'sale' 'second' 'seen' 'send' 'set' 'small' 'softwar'\n",
            " 'sound' 'sourc' 'space' 'standard' 'start' 'state' 'stuff' 'suggest'\n",
            " 'support' 'sure' 'system' 'take' 'talk' 'team' 'tell' 'thank' 'thing'\n",
            " 'think' 'thought' 'time' 'todai' 'tri' 'true' 'try' 'turn' 'type'\n",
            " 'understand' 'univers' 'us' 'usual' 'version' 'view' 'wai' 'want' 'week'\n",
            " 'win' 'window' 'won' 'wonder' 'word' 'work' 'world' 'write' 'wrong'\n",
            " 'wrote' 'ye' 'year']\n"
          ]
        }
      ]
    },
    {
      "cell_type": "code",
      "source": [
        "#get feature names of accurate and relative frequency\n",
        "print(len(vec_abs.get_feature_names_out()))\n",
        "print(len(vec_rel.get_feature_names_out()))"
      ],
      "metadata": {
        "colab": {
          "base_uri": "https://localhost:8080/"
        },
        "id": "aR8ZWSsQoh3z",
        "outputId": "ad6274f5-a1fc-4b26-851d-637fcada87b2"
      },
      "execution_count": 13,
      "outputs": [
        {
          "output_type": "stream",
          "name": "stdout",
          "text": [
            "246\n",
            "246\n"
          ]
        }
      ]
    },
    {
      "cell_type": "code",
      "source": [
        "#check the difference between the feature names of absolute frequency and tf-idf\n",
        "print(set(vec_abs.get_feature_names_out())- set(vec_tf.get_feature_names_out()))\n",
        "print(set(vec_tf.get_feature_names_out())- set(vec_abs.get_feature_names_out()))"
      ],
      "metadata": {
        "colab": {
          "base_uri": "https://localhost:8080/"
        },
        "id": "_vWchVPKqN_C",
        "outputId": "bd5d6b27-fe9a-4131-c9bd-af09eec64183"
      },
      "execution_count": 14,
      "outputs": [
        {
          "output_type": "stream",
          "name": "stdout",
          "text": [
            "set()\n",
            "set()\n"
          ]
        }
      ]
    },
    {
      "cell_type": "code",
      "source": [
        "#check the difference between the feature names of relative frequency and tf-idf\n",
        "print(set(vec_rel.get_feature_names_out())- set(vec_tf.get_feature_names_out()))\n",
        "print(set(vec_tf.get_feature_names_out())- set(vec_rel.get_feature_names_out()))"
      ],
      "metadata": {
        "colab": {
          "base_uri": "https://localhost:8080/"
        },
        "id": "9zwFtUB-r6CN",
        "outputId": "69d13ef7-5ca0-48a1-8cad-996297230ead"
      },
      "execution_count": 15,
      "outputs": [
        {
          "output_type": "stream",
          "name": "stdout",
          "text": [
            "set()\n",
            "set()\n"
          ]
        }
      ]
    },
    {
      "cell_type": "markdown",
      "source": [
        "There is no difference of the left features among the 3 approaches.\n",
        "\n",
        "`max_df` is used for removing terms that appear too frequently, also known as \"corpus-specific stop words\". For example: \n",
        "\n",
        "\n",
        "*   `max_df` = 0.50 means \"ignore terms that appear in more than 50% of the documents\".\n",
        "\n",
        "Another way around for `min_df`\n",
        "\n"
      ],
      "metadata": {
        "id": "JTIZm2t7r9po"
      }
    },
    {
      "cell_type": "code",
      "source": [
        "#apply Binarizer()\n",
        "binar = Binarizer()\n",
        "vec_bi = binar.fit_transform(corpus_abs)\n",
        "print(vec_bi.todense())"
      ],
      "metadata": {
        "colab": {
          "base_uri": "https://localhost:8080/"
        },
        "id": "DrNRYaGcuzAc",
        "outputId": "3f04f61a-b6ed-48cf-ee86-01687ec7e62b"
      },
      "execution_count": 16,
      "outputs": [
        {
          "output_type": "stream",
          "name": "stdout",
          "text": [
            "[[0 0 0 ... 0 0 1]\n",
            " [0 0 0 ... 0 0 0]\n",
            " [0 0 1 ... 0 0 0]\n",
            " ...\n",
            " [0 0 0 ... 0 0 0]\n",
            " [0 0 0 ... 0 0 0]\n",
            " [0 0 0 ... 0 0 0]]\n"
          ]
        }
      ]
    },
    {
      "cell_type": "markdown",
      "source": [
        "Meaning: if result returns 1, the word was count, if 0 was not count\n",
        "Cons: only says if the word was count or not.."
      ],
      "metadata": {
        "id": "cjl38M8Qv37j"
      }
    },
    {
      "cell_type": "markdown",
      "source": [
        "c. Put the frequencies for the first document from a. and b. in a data frame with a column keys containing the feature names from a. and four additional columns with the corresponding frequencies from a. and b. (Hint: Convert the corpus to an array first.). Keep only those rows of the data frame with keys representing words that exist in the first document.\n"
      ],
      "metadata": {
        "id": "ANOL5H413lm6"
      }
    },
    {
      "cell_type": "code",
      "source": [
        "data_0 = pd.DataFrame(vec_abs.get_feature_names_out(),columns = ['word'])\n",
        "data_0['absolute'] = corpus_abs.toarray()[0]\n",
        "data_0['relative'] = corpus_rel.toarray()[0]\n",
        "data_0['tf'] = corpus_tf.toarray()[0]\n",
        "data_0['binar'] = vec_bi.toarray()[0]"
      ],
      "metadata": {
        "id": "9JuQllv0KbiO"
      },
      "execution_count": 17,
      "outputs": []
    },
    {
      "cell_type": "code",
      "source": [
        "#choose words which are only in the first docu:\n",
        "data_0 = data_0[data_0['absolute']!=0]"
      ],
      "metadata": {
        "id": "hfqHQMM3Mswo"
      },
      "execution_count": 18,
      "outputs": []
    },
    {
      "cell_type": "markdown",
      "source": [
        "d. Sort the data frame (descending) on:\n",
        "i. TF-IDF Frequencies\n",
        "ii. Absolute Frequencies\n",
        "Do you see differences? Why?"
      ],
      "metadata": {
        "id": "Umu0vfa5PIDB"
      }
    },
    {
      "cell_type": "code",
      "source": [
        "#tf-idf\n",
        "data_0.sort_values(\"tf\", ascending=False).head()"
      ],
      "metadata": {
        "colab": {
          "base_uri": "https://localhost:8080/",
          "height": 206
        },
        "id": "q5HMgvVMPa9W",
        "outputId": "ae2f4036-24f6-470d-eab7-fa74e31bb2be"
      },
      "execution_count": 20,
      "outputs": [
        {
          "output_type": "execute_result",
          "data": {
            "text/plain": [
              "      word  absolute  relative        tf  binar\n",
              "30     car         5  0.294118  0.850894      1\n",
              "128   look         2  0.117647  0.236711      1\n",
              "197  small         1  0.058824  0.176815      1\n",
              "105   info         1  0.058824  0.173306      1\n",
              "63   engin         1  0.058824  0.171285      1"
            ],
            "text/html": [
              "\n",
              "  <div id=\"df-7e5d677e-cb6b-447f-981f-8da82eca03ef\">\n",
              "    <div class=\"colab-df-container\">\n",
              "      <div>\n",
              "<style scoped>\n",
              "    .dataframe tbody tr th:only-of-type {\n",
              "        vertical-align: middle;\n",
              "    }\n",
              "\n",
              "    .dataframe tbody tr th {\n",
              "        vertical-align: top;\n",
              "    }\n",
              "\n",
              "    .dataframe thead th {\n",
              "        text-align: right;\n",
              "    }\n",
              "</style>\n",
              "<table border=\"1\" class=\"dataframe\">\n",
              "  <thead>\n",
              "    <tr style=\"text-align: right;\">\n",
              "      <th></th>\n",
              "      <th>word</th>\n",
              "      <th>absolute</th>\n",
              "      <th>relative</th>\n",
              "      <th>tf</th>\n",
              "      <th>binar</th>\n",
              "    </tr>\n",
              "  </thead>\n",
              "  <tbody>\n",
              "    <tr>\n",
              "      <th>30</th>\n",
              "      <td>car</td>\n",
              "      <td>5</td>\n",
              "      <td>0.294118</td>\n",
              "      <td>0.850894</td>\n",
              "      <td>1</td>\n",
              "    </tr>\n",
              "    <tr>\n",
              "      <th>128</th>\n",
              "      <td>look</td>\n",
              "      <td>2</td>\n",
              "      <td>0.117647</td>\n",
              "      <td>0.236711</td>\n",
              "      <td>1</td>\n",
              "    </tr>\n",
              "    <tr>\n",
              "      <th>197</th>\n",
              "      <td>small</td>\n",
              "      <td>1</td>\n",
              "      <td>0.058824</td>\n",
              "      <td>0.176815</td>\n",
              "      <td>1</td>\n",
              "    </tr>\n",
              "    <tr>\n",
              "      <th>105</th>\n",
              "      <td>info</td>\n",
              "      <td>1</td>\n",
              "      <td>0.058824</td>\n",
              "      <td>0.173306</td>\n",
              "      <td>1</td>\n",
              "    </tr>\n",
              "    <tr>\n",
              "      <th>63</th>\n",
              "      <td>engin</td>\n",
              "      <td>1</td>\n",
              "      <td>0.058824</td>\n",
              "      <td>0.171285</td>\n",
              "      <td>1</td>\n",
              "    </tr>\n",
              "  </tbody>\n",
              "</table>\n",
              "</div>\n",
              "      <button class=\"colab-df-convert\" onclick=\"convertToInteractive('df-7e5d677e-cb6b-447f-981f-8da82eca03ef')\"\n",
              "              title=\"Convert this dataframe to an interactive table.\"\n",
              "              style=\"display:none;\">\n",
              "        \n",
              "  <svg xmlns=\"http://www.w3.org/2000/svg\" height=\"24px\"viewBox=\"0 0 24 24\"\n",
              "       width=\"24px\">\n",
              "    <path d=\"M0 0h24v24H0V0z\" fill=\"none\"/>\n",
              "    <path d=\"M18.56 5.44l.94 2.06.94-2.06 2.06-.94-2.06-.94-.94-2.06-.94 2.06-2.06.94zm-11 1L8.5 8.5l.94-2.06 2.06-.94-2.06-.94L8.5 2.5l-.94 2.06-2.06.94zm10 10l.94 2.06.94-2.06 2.06-.94-2.06-.94-.94-2.06-.94 2.06-2.06.94z\"/><path d=\"M17.41 7.96l-1.37-1.37c-.4-.4-.92-.59-1.43-.59-.52 0-1.04.2-1.43.59L10.3 9.45l-7.72 7.72c-.78.78-.78 2.05 0 2.83L4 21.41c.39.39.9.59 1.41.59.51 0 1.02-.2 1.41-.59l7.78-7.78 2.81-2.81c.8-.78.8-2.07 0-2.86zM5.41 20L4 18.59l7.72-7.72 1.47 1.35L5.41 20z\"/>\n",
              "  </svg>\n",
              "      </button>\n",
              "      \n",
              "  <style>\n",
              "    .colab-df-container {\n",
              "      display:flex;\n",
              "      flex-wrap:wrap;\n",
              "      gap: 12px;\n",
              "    }\n",
              "\n",
              "    .colab-df-convert {\n",
              "      background-color: #E8F0FE;\n",
              "      border: none;\n",
              "      border-radius: 50%;\n",
              "      cursor: pointer;\n",
              "      display: none;\n",
              "      fill: #1967D2;\n",
              "      height: 32px;\n",
              "      padding: 0 0 0 0;\n",
              "      width: 32px;\n",
              "    }\n",
              "\n",
              "    .colab-df-convert:hover {\n",
              "      background-color: #E2EBFA;\n",
              "      box-shadow: 0px 1px 2px rgba(60, 64, 67, 0.3), 0px 1px 3px 1px rgba(60, 64, 67, 0.15);\n",
              "      fill: #174EA6;\n",
              "    }\n",
              "\n",
              "    [theme=dark] .colab-df-convert {\n",
              "      background-color: #3B4455;\n",
              "      fill: #D2E3FC;\n",
              "    }\n",
              "\n",
              "    [theme=dark] .colab-df-convert:hover {\n",
              "      background-color: #434B5C;\n",
              "      box-shadow: 0px 1px 3px 1px rgba(0, 0, 0, 0.15);\n",
              "      filter: drop-shadow(0px 1px 2px rgba(0, 0, 0, 0.3));\n",
              "      fill: #FFFFFF;\n",
              "    }\n",
              "  </style>\n",
              "\n",
              "      <script>\n",
              "        const buttonEl =\n",
              "          document.querySelector('#df-7e5d677e-cb6b-447f-981f-8da82eca03ef button.colab-df-convert');\n",
              "        buttonEl.style.display =\n",
              "          google.colab.kernel.accessAllowed ? 'block' : 'none';\n",
              "\n",
              "        async function convertToInteractive(key) {\n",
              "          const element = document.querySelector('#df-7e5d677e-cb6b-447f-981f-8da82eca03ef');\n",
              "          const dataTable =\n",
              "            await google.colab.kernel.invokeFunction('convertToInteractive',\n",
              "                                                     [key], {});\n",
              "          if (!dataTable) return;\n",
              "\n",
              "          const docLinkHtml = 'Like what you see? Visit the ' +\n",
              "            '<a target=\"_blank\" href=https://colab.research.google.com/notebooks/data_table.ipynb>data table notebook</a>'\n",
              "            + ' to learn more about interactive tables.';\n",
              "          element.innerHTML = '';\n",
              "          dataTable['output_type'] = 'display_data';\n",
              "          await google.colab.output.renderOutput(dataTable, element);\n",
              "          const docLink = document.createElement('div');\n",
              "          docLink.innerHTML = docLinkHtml;\n",
              "          element.appendChild(docLink);\n",
              "        }\n",
              "      </script>\n",
              "    </div>\n",
              "  </div>\n",
              "  "
            ]
          },
          "metadata": {},
          "execution_count": 20
        }
      ]
    },
    {
      "cell_type": "code",
      "source": [
        "#absolute\n",
        "data_0.sort_values(\"absolute\", ascending=False).head()"
      ],
      "metadata": {
        "colab": {
          "base_uri": "https://localhost:8080/",
          "height": 206
        },
        "id": "1IfQ35wwPpCK",
        "outputId": "02784523-7b9b-488c-ce36-aa1c0581ec5e"
      },
      "execution_count": 21,
      "outputs": [
        {
          "output_type": "execute_result",
          "data": {
            "text/plain": [
              "      word  absolute  relative        tf  binar\n",
              "30     car         5  0.294118  0.850894      1\n",
              "128   look         2  0.117647  0.236711      1\n",
              "29    call         1  0.058824  0.149034      1\n",
              "51     dai         1  0.058824  0.140068      1\n",
              "63   engin         1  0.058824  0.171285      1"
            ],
            "text/html": [
              "\n",
              "  <div id=\"df-3768fc0c-5165-4d0a-bc02-65eb81021e08\">\n",
              "    <div class=\"colab-df-container\">\n",
              "      <div>\n",
              "<style scoped>\n",
              "    .dataframe tbody tr th:only-of-type {\n",
              "        vertical-align: middle;\n",
              "    }\n",
              "\n",
              "    .dataframe tbody tr th {\n",
              "        vertical-align: top;\n",
              "    }\n",
              "\n",
              "    .dataframe thead th {\n",
              "        text-align: right;\n",
              "    }\n",
              "</style>\n",
              "<table border=\"1\" class=\"dataframe\">\n",
              "  <thead>\n",
              "    <tr style=\"text-align: right;\">\n",
              "      <th></th>\n",
              "      <th>word</th>\n",
              "      <th>absolute</th>\n",
              "      <th>relative</th>\n",
              "      <th>tf</th>\n",
              "      <th>binar</th>\n",
              "    </tr>\n",
              "  </thead>\n",
              "  <tbody>\n",
              "    <tr>\n",
              "      <th>30</th>\n",
              "      <td>car</td>\n",
              "      <td>5</td>\n",
              "      <td>0.294118</td>\n",
              "      <td>0.850894</td>\n",
              "      <td>1</td>\n",
              "    </tr>\n",
              "    <tr>\n",
              "      <th>128</th>\n",
              "      <td>look</td>\n",
              "      <td>2</td>\n",
              "      <td>0.117647</td>\n",
              "      <td>0.236711</td>\n",
              "      <td>1</td>\n",
              "    </tr>\n",
              "    <tr>\n",
              "      <th>29</th>\n",
              "      <td>call</td>\n",
              "      <td>1</td>\n",
              "      <td>0.058824</td>\n",
              "      <td>0.149034</td>\n",
              "      <td>1</td>\n",
              "    </tr>\n",
              "    <tr>\n",
              "      <th>51</th>\n",
              "      <td>dai</td>\n",
              "      <td>1</td>\n",
              "      <td>0.058824</td>\n",
              "      <td>0.140068</td>\n",
              "      <td>1</td>\n",
              "    </tr>\n",
              "    <tr>\n",
              "      <th>63</th>\n",
              "      <td>engin</td>\n",
              "      <td>1</td>\n",
              "      <td>0.058824</td>\n",
              "      <td>0.171285</td>\n",
              "      <td>1</td>\n",
              "    </tr>\n",
              "  </tbody>\n",
              "</table>\n",
              "</div>\n",
              "      <button class=\"colab-df-convert\" onclick=\"convertToInteractive('df-3768fc0c-5165-4d0a-bc02-65eb81021e08')\"\n",
              "              title=\"Convert this dataframe to an interactive table.\"\n",
              "              style=\"display:none;\">\n",
              "        \n",
              "  <svg xmlns=\"http://www.w3.org/2000/svg\" height=\"24px\"viewBox=\"0 0 24 24\"\n",
              "       width=\"24px\">\n",
              "    <path d=\"M0 0h24v24H0V0z\" fill=\"none\"/>\n",
              "    <path d=\"M18.56 5.44l.94 2.06.94-2.06 2.06-.94-2.06-.94-.94-2.06-.94 2.06-2.06.94zm-11 1L8.5 8.5l.94-2.06 2.06-.94-2.06-.94L8.5 2.5l-.94 2.06-2.06.94zm10 10l.94 2.06.94-2.06 2.06-.94-2.06-.94-.94-2.06-.94 2.06-2.06.94z\"/><path d=\"M17.41 7.96l-1.37-1.37c-.4-.4-.92-.59-1.43-.59-.52 0-1.04.2-1.43.59L10.3 9.45l-7.72 7.72c-.78.78-.78 2.05 0 2.83L4 21.41c.39.39.9.59 1.41.59.51 0 1.02-.2 1.41-.59l7.78-7.78 2.81-2.81c.8-.78.8-2.07 0-2.86zM5.41 20L4 18.59l7.72-7.72 1.47 1.35L5.41 20z\"/>\n",
              "  </svg>\n",
              "      </button>\n",
              "      \n",
              "  <style>\n",
              "    .colab-df-container {\n",
              "      display:flex;\n",
              "      flex-wrap:wrap;\n",
              "      gap: 12px;\n",
              "    }\n",
              "\n",
              "    .colab-df-convert {\n",
              "      background-color: #E8F0FE;\n",
              "      border: none;\n",
              "      border-radius: 50%;\n",
              "      cursor: pointer;\n",
              "      display: none;\n",
              "      fill: #1967D2;\n",
              "      height: 32px;\n",
              "      padding: 0 0 0 0;\n",
              "      width: 32px;\n",
              "    }\n",
              "\n",
              "    .colab-df-convert:hover {\n",
              "      background-color: #E2EBFA;\n",
              "      box-shadow: 0px 1px 2px rgba(60, 64, 67, 0.3), 0px 1px 3px 1px rgba(60, 64, 67, 0.15);\n",
              "      fill: #174EA6;\n",
              "    }\n",
              "\n",
              "    [theme=dark] .colab-df-convert {\n",
              "      background-color: #3B4455;\n",
              "      fill: #D2E3FC;\n",
              "    }\n",
              "\n",
              "    [theme=dark] .colab-df-convert:hover {\n",
              "      background-color: #434B5C;\n",
              "      box-shadow: 0px 1px 3px 1px rgba(0, 0, 0, 0.15);\n",
              "      filter: drop-shadow(0px 1px 2px rgba(0, 0, 0, 0.3));\n",
              "      fill: #FFFFFF;\n",
              "    }\n",
              "  </style>\n",
              "\n",
              "      <script>\n",
              "        const buttonEl =\n",
              "          document.querySelector('#df-3768fc0c-5165-4d0a-bc02-65eb81021e08 button.colab-df-convert');\n",
              "        buttonEl.style.display =\n",
              "          google.colab.kernel.accessAllowed ? 'block' : 'none';\n",
              "\n",
              "        async function convertToInteractive(key) {\n",
              "          const element = document.querySelector('#df-3768fc0c-5165-4d0a-bc02-65eb81021e08');\n",
              "          const dataTable =\n",
              "            await google.colab.kernel.invokeFunction('convertToInteractive',\n",
              "                                                     [key], {});\n",
              "          if (!dataTable) return;\n",
              "\n",
              "          const docLinkHtml = 'Like what you see? Visit the ' +\n",
              "            '<a target=\"_blank\" href=https://colab.research.google.com/notebooks/data_table.ipynb>data table notebook</a>'\n",
              "            + ' to learn more about interactive tables.';\n",
              "          element.innerHTML = '';\n",
              "          dataTable['output_type'] = 'display_data';\n",
              "          await google.colab.output.renderOutput(dataTable, element);\n",
              "          const docLink = document.createElement('div');\n",
              "          docLink.innerHTML = docLinkHtml;\n",
              "          element.appendChild(docLink);\n",
              "        }\n",
              "      </script>\n",
              "    </div>\n",
              "  </div>\n",
              "  "
            ]
          },
          "metadata": {},
          "execution_count": 21
        }
      ]
    },
    {
      "cell_type": "markdown",
      "source": [
        "There is no difference here."
      ],
      "metadata": {
        "id": "j8JZxSy6RQpW"
      }
    }
  ]
}