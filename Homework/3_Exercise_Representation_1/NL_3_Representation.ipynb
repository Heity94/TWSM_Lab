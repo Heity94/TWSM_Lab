{
  "nbformat": 4,
  "nbformat_minor": 0,
  "metadata": {
    "colab": {
      "name": "NL_3_Representation.ipynb",
      "provenance": [],
      "collapsed_sections": [],
      "mount_file_id": "1PPXxtLVjfp1Ta2wAhh3ZoE1XGFzB8u68",
      "authorship_tag": "ABX9TyMV3sOa9PYuRWvzuSB7z/b5",
      "include_colab_link": true
    },
    "kernelspec": {
      "name": "python3",
      "display_name": "Python 3"
    },
    "language_info": {
      "name": "python"
    }
  },
  "cells": [
    {
      "cell_type": "markdown",
      "metadata": {
        "id": "view-in-github",
        "colab_type": "text"
      },
      "source": [
        "<a href=\"https://colab.research.google.com/github/Heity94/TWSM_Lab/blob/main/Homework/3_Exercise_Representation_1/NL_3_Representation.ipynb\" target=\"_parent\"><img src=\"https://colab.research.google.com/assets/colab-badge.svg\" alt=\"Open In Colab\"/></a>"
      ]
    },
    {
      "cell_type": "code",
      "execution_count": 223,
      "metadata": {
        "id": "I0iqMePLWQf5"
      },
      "outputs": [],
      "source": [
        "import pickle\n",
        "import pandas as pd\n",
        "from sklearn.feature_extraction.text import CountVectorizer, TfidfVectorizer\n",
        "from sklearn.preprocessing import Binarizer\n",
        "from gensim.corpora import Dictionary\n",
        "from gensim.models import TfidfModel"
      ]
    },
    {
      "cell_type": "code",
      "source": [
        "with open ('/content/drive/MyDrive/Colab/data_stemmed.pkl','rb') as handle:\n",
        "  data_stemmed = pickle.load(handle)"
      ],
      "metadata": {
        "id": "kuQBuh7RbDIN"
      },
      "execution_count": 224,
      "outputs": []
    },
    {
      "cell_type": "code",
      "source": [
        "data_stemmed[0]"
      ],
      "metadata": {
        "id": "7aAKTV6jcN8f",
        "colab": {
          "base_uri": "https://localhost:8080/",
          "height": 71
        },
        "outputId": "4c18f80f-81e9-4ac2-b363-9f0f29c6adbd"
      },
      "execution_count": 225,
      "outputs": [
        {
          "output_type": "execute_result",
          "data": {
            "text/plain": [
              "'car wonder enlighten car saw dai door sport car look late earli call bricklin door small addit bumper separ rest bodi know tellm model engin spec year product car histori info funki look car mail thank brought neighborhood lerxst'"
            ],
            "application/vnd.google.colaboratory.intrinsic+json": {
              "type": "string"
            }
          },
          "metadata": {},
          "execution_count": 225
        }
      ]
    },
    {
      "cell_type": "markdown",
      "source": [
        "**Bag-of-words (sklearn)**\n",
        "\n",
        "---\n",
        "\n"
      ],
      "metadata": {
        "id": "dN4mgagnmufD"
      }
    },
    {
      "cell_type": "code",
      "source": [
        "#absolute frequency\n",
        "vec_abs = CountVectorizer(max_df=0.95, min_df=0.05)\n",
        "#relative frequency\n",
        "vec_rel = TfidfVectorizer(max_df=0.95, min_df=0.05,use_idf=False, norm='l1')\n",
        "#tf-idf frequency\n",
        "vec_tf = TfidfVectorizer(max_df=0.95, min_df=0.05, smooth_idf=False)"
      ],
      "metadata": {
        "id": "kngUkhOtcbpV"
      },
      "execution_count": 226,
      "outputs": []
    },
    {
      "cell_type": "markdown",
      "source": [
        "Absolute frequency:\n",
        "\n",
        "\n",
        "*   Pros: considers word importance, interpretable\n",
        "*   Cons: not comparable between documents (i.e. long vs. short ones)\n",
        "\n",
        "Relative frequency:\n",
        "\n",
        "\n",
        "*   Pros: considers document length, interpretable\n",
        "*   Cons: common words among all documents are overweighed (e.g. ‘annual’\n",
        "in annual reports)\n",
        "\n",
        "TF-idf:\n",
        "\n",
        "\n",
        "*   Pros: Considers the occurrence among all documents (important for classification)\n",
        "*   Cons: Difficult interpretation\n",
        "\n",
        "\n",
        "\n",
        "\n"
      ],
      "metadata": {
        "id": "H1-ObSedduxc"
      }
    },
    {
      "cell_type": "code",
      "source": [
        "#transform\n",
        "corpus_abs = vec_abs.fit_transform(data_stemmed)\n",
        "corpus_rel = vec_rel.fit_transform(data_stemmed)\n",
        "corpus_tf = vec_tf.fit_transform(data_stemmed)\n",
        "print(\"Absolute frequency: \\n\",corpus_abs.toarray()                                                                                                                                                                                                                                                                                                                                                                                                                                                                                                                                                                                                                                                                                                                                                                                                                                                                                                                                                                                                                                                                                                                                                                                                                                                                                                                                                                                                                                                                                                                                                                                                                                                                                                                                                                                                                                                                                                                                                                                                                                                                                                                                                                                                                                                                                                                                                                                                                                                                                                                                                                                                                                                                                                                                                                                                                                                                                                                                                                                                                                                                                                                                                              )\n",
        "print(\"\\n\")\n",
        "print(\"Relative frequency: \\n\", corpus_rel.toarray())\n",
        "print(\"\\n\")\n",
        "print(\"Tf-idf: \\n\", corpus_tf.toarray())"
      ],
      "metadata": {
        "id": "SzhPJf_zcz_h",
        "colab": {
          "base_uri": "https://localhost:8080/"
        },
        "outputId": "a8708488-4787-40f1-d544-3d71bd694bd2"
      },
      "execution_count": 227,
      "outputs": [
        {
          "output_type": "stream",
          "name": "stdout",
          "text": [
            "Absolute frequency: \n",
            " [[0 0 0 ... 0 0 1]\n",
            " [0 0 0 ... 0 0 0]\n",
            " [0 0 1 ... 0 0 0]\n",
            " ...\n",
            " [0 0 0 ... 0 0 0]\n",
            " [0 0 0 ... 0 0 0]\n",
            " [0 0 0 ... 0 0 0]]\n",
            "\n",
            "\n",
            "Relative frequency: \n",
            " [[0.         0.         0.         ... 0.         0.         0.05882353]\n",
            " [0.         0.         0.         ... 0.         0.         0.        ]\n",
            " [0.         0.         0.01666667 ... 0.         0.         0.        ]\n",
            " ...\n",
            " [0.         0.         0.         ... 0.         0.         0.        ]\n",
            " [0.         0.         0.         ... 0.         0.         0.        ]\n",
            " [0.         0.         0.         ... 0.         0.         0.        ]]\n",
            "\n",
            "\n",
            "Tf-idf: \n",
            " [[0.         0.         0.         ... 0.         0.         0.12166272]\n",
            " [0.         0.         0.         ... 0.         0.         0.        ]\n",
            " [0.         0.         0.11514646 ... 0.         0.         0.        ]\n",
            " ...\n",
            " [0.         0.         0.         ... 0.         0.         0.        ]\n",
            " [0.         0.         0.         ... 0.         0.         0.        ]\n",
            " [0.         0.         0.         ... 0.         0.         0.        ]]\n"
          ]
        }
      ]
    },
    {
      "cell_type": "code",
      "source": [
        "corpus_abs.toarray().shape"
      ],
      "metadata": {
        "id": "11XLsbz5GARw",
        "colab": {
          "base_uri": "https://localhost:8080/"
        },
        "outputId": "01914b8b-f160-4fa0-e08e-7d62a21d532d"
      },
      "execution_count": 228,
      "outputs": [
        {
          "output_type": "execute_result",
          "data": {
            "text/plain": [
              "(11314, 246)"
            ]
          },
          "metadata": {},
          "execution_count": 228
        }
      ]
    },
    {
      "cell_type": "code",
      "source": [
        "#get feature names of tf-idf\n",
        "print(len(vec_tf.get_feature_names_out()))\n",
        "print((vec_tf.get_feature_names_out()))"
      ],
      "metadata": {
        "id": "bOLHYYxboIsE",
        "colab": {
          "base_uri": "https://localhost:8080/"
        },
        "outputId": "68acbe9f-0cb0-45f9-b366-ad629114c461"
      },
      "execution_count": 229,
      "outputs": [
        {
          "output_type": "stream",
          "name": "stdout",
          "text": [
            "246\n",
            "['abl' 'accept' 'access' 'actual' 'address' 'advanc' 'ago' 'agre' 'allow'\n",
            " 'american' 'answer' 'anybodi' 'appreci' 'apr' 'area' 'articl' 'ask'\n",
            " 'assum' 'avail' 'awai' 'bad' 'base' 'believ' 'best' 'better' 'big' 'bit'\n",
            " 'book' 'bui' 'call' 'car' 'card' 'care' 'case' 'caus' 'chang' 'check'\n",
            " 'chip' 'christian' 'claim' 'close' 'com' 'come' 'complet' 'consid'\n",
            " 'control' 'correct' 'cost' 'cours' 'creat' 'current' 'dai' 'data' 'david'\n",
            " 'deal' 'design' 'differ' 'discuss' 'drive' 'edu' 'effect' 'email' 'end'\n",
            " 'engin' 'exampl' 'exist' 'expect' 'experi' 'fact' 'far' 'fax' 'feel'\n",
            " 'file' 'final' 'follow' 'forc' 'free' 'friend' 'game' 'gener' 'get'\n",
            " 'given' 'go' 'god' 'good' 'got' 'govern' 'great' 'group' 'guess' 'gui'\n",
            " 'hand' 'happen' 'hard' 'have' 'heard' 'help' 'high' 'home' 'hope' 'host'\n",
            " 'human' 'idea' 'import' 'includ' 'info' 'inform' 'interest' 'internet'\n",
            " 'isn' 'issu' 'john' 'kei' 'kill' 'kind' 'know' 'larg' 'law' 'left' 'let'\n",
            " 'life' 'like' 'line' 'list' 'littl' 'live' 'local' 'long' 'look' 'lot'\n",
            " 'love' 'machin' 'mail' 'major' 'make' 'man' 'manag' 'mark' 'matter'\n",
            " 'mayb' 'mean' 'mention' 'messag' 'mind' 'nation' 'need' 'net' 'new'\n",
            " 'nntp' 'non' 'note' 'number' 'old' 'open' 'opinion' 'order' 'org'\n",
            " 'origin' 'peopl' 'person' 'phone' 'place' 'plai' 'point' 'posit'\n",
            " 'possibl' 'post' 'power' 'pretti' 'price' 'probabl' 'problem' 'program'\n",
            " 'provid' 'public' 'question' 'read' 'real' 'reason' 'recent' 'refer'\n",
            " 'rememb' 'repli' 'report' 'requir' 'research' 'respons' 'result' 'right'\n",
            " 'run' 'sai' 'said' 'sale' 'second' 'seen' 'send' 'set' 'small' 'softwar'\n",
            " 'sound' 'sourc' 'space' 'standard' 'start' 'state' 'stuff' 'suggest'\n",
            " 'support' 'sure' 'system' 'take' 'talk' 'team' 'tell' 'thank' 'thing'\n",
            " 'think' 'thought' 'time' 'todai' 'tri' 'true' 'try' 'turn' 'type'\n",
            " 'understand' 'univers' 'us' 'usual' 'version' 'view' 'wai' 'want' 'week'\n",
            " 'win' 'window' 'won' 'wonder' 'word' 'work' 'world' 'write' 'wrong'\n",
            " 'wrote' 'ye' 'year']\n"
          ]
        }
      ]
    },
    {
      "cell_type": "code",
      "source": [
        "#get feature names of accurate and relative frequency\n",
        "print(len(vec_abs.get_feature_names_out()))\n",
        "print(len(vec_rel.get_feature_names_out()))"
      ],
      "metadata": {
        "id": "aR8ZWSsQoh3z",
        "colab": {
          "base_uri": "https://localhost:8080/"
        },
        "outputId": "10a02068-9f93-4274-9bdd-6c3d9b73adaa"
      },
      "execution_count": 230,
      "outputs": [
        {
          "output_type": "stream",
          "name": "stdout",
          "text": [
            "246\n",
            "246\n"
          ]
        }
      ]
    },
    {
      "cell_type": "code",
      "source": [
        "#check the difference between the feature names of absolute frequency and tf-idf\n",
        "print(set(vec_abs.get_feature_names_out())- set(vec_tf.get_feature_names_out()))\n",
        "print(set(vec_tf.get_feature_names_out())- set(vec_abs.get_feature_names_out()))"
      ],
      "metadata": {
        "id": "_vWchVPKqN_C",
        "colab": {
          "base_uri": "https://localhost:8080/"
        },
        "outputId": "ebc068e2-6fba-4441-ed3e-9bc439ddc0ad"
      },
      "execution_count": 231,
      "outputs": [
        {
          "output_type": "stream",
          "name": "stdout",
          "text": [
            "set()\n",
            "set()\n"
          ]
        }
      ]
    },
    {
      "cell_type": "code",
      "source": [
        "#check the difference between the feature names of relative frequency and tf-idf\n",
        "print(set(vec_rel.get_feature_names_out())- set(vec_tf.get_feature_names_out()))\n",
        "print(set(vec_tf.get_feature_names_out())- set(vec_rel.get_feature_names_out()))"
      ],
      "metadata": {
        "id": "9zwFtUB-r6CN",
        "colab": {
          "base_uri": "https://localhost:8080/"
        },
        "outputId": "baed50c6-2e79-4f7c-fca7-74433e32bd2e"
      },
      "execution_count": 232,
      "outputs": [
        {
          "output_type": "stream",
          "name": "stdout",
          "text": [
            "set()\n",
            "set()\n"
          ]
        }
      ]
    },
    {
      "cell_type": "markdown",
      "source": [
        "There is no difference of the left features among the 3 approaches.\n",
        "\n",
        "`max_df` is used for removing terms that appear too frequently, also known as \"corpus-specific stop words\". For example: \n",
        "\n",
        "\n",
        "*   `max_df` = 0.50 means \"ignore terms that appear in more than 50% of the documents\".\n",
        "\n",
        "Another way around for `min_df`\n",
        "\n"
      ],
      "metadata": {
        "id": "JTIZm2t7r9po"
      }
    },
    {
      "cell_type": "code",
      "source": [
        "#apply Binarizer()\n",
        "binar = Binarizer()\n",
        "vec_bi = binar.fit_transform(corpus_abs)\n",
        "print(vec_bi.todense())"
      ],
      "metadata": {
        "id": "DrNRYaGcuzAc",
        "colab": {
          "base_uri": "https://localhost:8080/"
        },
        "outputId": "3ff88707-de4b-4e55-ed88-22c3e052429f"
      },
      "execution_count": 233,
      "outputs": [
        {
          "output_type": "stream",
          "name": "stdout",
          "text": [
            "[[0 0 0 ... 0 0 1]\n",
            " [0 0 0 ... 0 0 0]\n",
            " [0 0 1 ... 0 0 0]\n",
            " ...\n",
            " [0 0 0 ... 0 0 0]\n",
            " [0 0 0 ... 0 0 0]\n",
            " [0 0 0 ... 0 0 0]]\n"
          ]
        }
      ]
    },
    {
      "cell_type": "markdown",
      "source": [
        "Meaning: if result returns 1, the word was count, if 0 was not count\n",
        "Cons: only says if the word was count or not.."
      ],
      "metadata": {
        "id": "cjl38M8Qv37j"
      }
    },
    {
      "cell_type": "markdown",
      "source": [
        "c. Put the frequencies for the first document from a. and b. in a data frame with a column keys containing the feature names from a. and four additional columns with the corresponding frequencies from a. and b. (Hint: Convert the corpus to an array first.). Keep only those rows of the data frame with keys representing words that exist in the first document.\n"
      ],
      "metadata": {
        "id": "ANOL5H413lm6"
      }
    },
    {
      "cell_type": "code",
      "source": [
        "data_0 = pd.DataFrame(vec_abs.get_feature_names_out(),columns = ['word'])\n",
        "data_0['absolute'] = corpus_abs.toarray()[0]\n",
        "data_0['relative'] = corpus_rel.toarray()[0]\n",
        "data_0['tf'] = corpus_tf.toarray()[0]\n",
        "data_0['binar'] = vec_bi.toarray()[0]"
      ],
      "metadata": {
        "id": "9JuQllv0KbiO"
      },
      "execution_count": 234,
      "outputs": []
    },
    {
      "cell_type": "code",
      "source": [
        "#choose words which are only in the first docu:\n",
        "data_0 = data_0[data_0['absolute']!=0]"
      ],
      "metadata": {
        "id": "hfqHQMM3Mswo"
      },
      "execution_count": 235,
      "outputs": []
    },
    {
      "cell_type": "markdown",
      "source": [
        "d. Sort the data frame (descending) on:\n",
        "i. TF-IDF Frequencies\n",
        "ii. Absolute Frequencies\n",
        "Do you see differences? Why?"
      ],
      "metadata": {
        "id": "Umu0vfa5PIDB"
      }
    },
    {
      "cell_type": "code",
      "source": [
        "#tf-idf\n",
        "data_0.sort_values(\"tf\", ascending=False).head()"
      ],
      "metadata": {
        "id": "q5HMgvVMPa9W",
        "colab": {
          "base_uri": "https://localhost:8080/",
          "height": 206
        },
        "outputId": "e510f70d-42de-4f22-9821-719a6494554b"
      },
      "execution_count": 236,
      "outputs": [
        {
          "output_type": "execute_result",
          "data": {
            "text/plain": [
              "      word  absolute  relative        tf  binar\n",
              "30     car         5  0.294118  0.850894      1\n",
              "128   look         2  0.117647  0.236711      1\n",
              "197  small         1  0.058824  0.176815      1\n",
              "105   info         1  0.058824  0.173306      1\n",
              "63   engin         1  0.058824  0.171285      1"
            ],
            "text/html": [
              "\n",
              "  <div id=\"df-b755c1a4-6d79-4489-b0f9-0b4b5dd14543\">\n",
              "    <div class=\"colab-df-container\">\n",
              "      <div>\n",
              "<style scoped>\n",
              "    .dataframe tbody tr th:only-of-type {\n",
              "        vertical-align: middle;\n",
              "    }\n",
              "\n",
              "    .dataframe tbody tr th {\n",
              "        vertical-align: top;\n",
              "    }\n",
              "\n",
              "    .dataframe thead th {\n",
              "        text-align: right;\n",
              "    }\n",
              "</style>\n",
              "<table border=\"1\" class=\"dataframe\">\n",
              "  <thead>\n",
              "    <tr style=\"text-align: right;\">\n",
              "      <th></th>\n",
              "      <th>word</th>\n",
              "      <th>absolute</th>\n",
              "      <th>relative</th>\n",
              "      <th>tf</th>\n",
              "      <th>binar</th>\n",
              "    </tr>\n",
              "  </thead>\n",
              "  <tbody>\n",
              "    <tr>\n",
              "      <th>30</th>\n",
              "      <td>car</td>\n",
              "      <td>5</td>\n",
              "      <td>0.294118</td>\n",
              "      <td>0.850894</td>\n",
              "      <td>1</td>\n",
              "    </tr>\n",
              "    <tr>\n",
              "      <th>128</th>\n",
              "      <td>look</td>\n",
              "      <td>2</td>\n",
              "      <td>0.117647</td>\n",
              "      <td>0.236711</td>\n",
              "      <td>1</td>\n",
              "    </tr>\n",
              "    <tr>\n",
              "      <th>197</th>\n",
              "      <td>small</td>\n",
              "      <td>1</td>\n",
              "      <td>0.058824</td>\n",
              "      <td>0.176815</td>\n",
              "      <td>1</td>\n",
              "    </tr>\n",
              "    <tr>\n",
              "      <th>105</th>\n",
              "      <td>info</td>\n",
              "      <td>1</td>\n",
              "      <td>0.058824</td>\n",
              "      <td>0.173306</td>\n",
              "      <td>1</td>\n",
              "    </tr>\n",
              "    <tr>\n",
              "      <th>63</th>\n",
              "      <td>engin</td>\n",
              "      <td>1</td>\n",
              "      <td>0.058824</td>\n",
              "      <td>0.171285</td>\n",
              "      <td>1</td>\n",
              "    </tr>\n",
              "  </tbody>\n",
              "</table>\n",
              "</div>\n",
              "      <button class=\"colab-df-convert\" onclick=\"convertToInteractive('df-b755c1a4-6d79-4489-b0f9-0b4b5dd14543')\"\n",
              "              title=\"Convert this dataframe to an interactive table.\"\n",
              "              style=\"display:none;\">\n",
              "        \n",
              "  <svg xmlns=\"http://www.w3.org/2000/svg\" height=\"24px\"viewBox=\"0 0 24 24\"\n",
              "       width=\"24px\">\n",
              "    <path d=\"M0 0h24v24H0V0z\" fill=\"none\"/>\n",
              "    <path d=\"M18.56 5.44l.94 2.06.94-2.06 2.06-.94-2.06-.94-.94-2.06-.94 2.06-2.06.94zm-11 1L8.5 8.5l.94-2.06 2.06-.94-2.06-.94L8.5 2.5l-.94 2.06-2.06.94zm10 10l.94 2.06.94-2.06 2.06-.94-2.06-.94-.94-2.06-.94 2.06-2.06.94z\"/><path d=\"M17.41 7.96l-1.37-1.37c-.4-.4-.92-.59-1.43-.59-.52 0-1.04.2-1.43.59L10.3 9.45l-7.72 7.72c-.78.78-.78 2.05 0 2.83L4 21.41c.39.39.9.59 1.41.59.51 0 1.02-.2 1.41-.59l7.78-7.78 2.81-2.81c.8-.78.8-2.07 0-2.86zM5.41 20L4 18.59l7.72-7.72 1.47 1.35L5.41 20z\"/>\n",
              "  </svg>\n",
              "      </button>\n",
              "      \n",
              "  <style>\n",
              "    .colab-df-container {\n",
              "      display:flex;\n",
              "      flex-wrap:wrap;\n",
              "      gap: 12px;\n",
              "    }\n",
              "\n",
              "    .colab-df-convert {\n",
              "      background-color: #E8F0FE;\n",
              "      border: none;\n",
              "      border-radius: 50%;\n",
              "      cursor: pointer;\n",
              "      display: none;\n",
              "      fill: #1967D2;\n",
              "      height: 32px;\n",
              "      padding: 0 0 0 0;\n",
              "      width: 32px;\n",
              "    }\n",
              "\n",
              "    .colab-df-convert:hover {\n",
              "      background-color: #E2EBFA;\n",
              "      box-shadow: 0px 1px 2px rgba(60, 64, 67, 0.3), 0px 1px 3px 1px rgba(60, 64, 67, 0.15);\n",
              "      fill: #174EA6;\n",
              "    }\n",
              "\n",
              "    [theme=dark] .colab-df-convert {\n",
              "      background-color: #3B4455;\n",
              "      fill: #D2E3FC;\n",
              "    }\n",
              "\n",
              "    [theme=dark] .colab-df-convert:hover {\n",
              "      background-color: #434B5C;\n",
              "      box-shadow: 0px 1px 3px 1px rgba(0, 0, 0, 0.15);\n",
              "      filter: drop-shadow(0px 1px 2px rgba(0, 0, 0, 0.3));\n",
              "      fill: #FFFFFF;\n",
              "    }\n",
              "  </style>\n",
              "\n",
              "      <script>\n",
              "        const buttonEl =\n",
              "          document.querySelector('#df-b755c1a4-6d79-4489-b0f9-0b4b5dd14543 button.colab-df-convert');\n",
              "        buttonEl.style.display =\n",
              "          google.colab.kernel.accessAllowed ? 'block' : 'none';\n",
              "\n",
              "        async function convertToInteractive(key) {\n",
              "          const element = document.querySelector('#df-b755c1a4-6d79-4489-b0f9-0b4b5dd14543');\n",
              "          const dataTable =\n",
              "            await google.colab.kernel.invokeFunction('convertToInteractive',\n",
              "                                                     [key], {});\n",
              "          if (!dataTable) return;\n",
              "\n",
              "          const docLinkHtml = 'Like what you see? Visit the ' +\n",
              "            '<a target=\"_blank\" href=https://colab.research.google.com/notebooks/data_table.ipynb>data table notebook</a>'\n",
              "            + ' to learn more about interactive tables.';\n",
              "          element.innerHTML = '';\n",
              "          dataTable['output_type'] = 'display_data';\n",
              "          await google.colab.output.renderOutput(dataTable, element);\n",
              "          const docLink = document.createElement('div');\n",
              "          docLink.innerHTML = docLinkHtml;\n",
              "          element.appendChild(docLink);\n",
              "        }\n",
              "      </script>\n",
              "    </div>\n",
              "  </div>\n",
              "  "
            ]
          },
          "metadata": {},
          "execution_count": 236
        }
      ]
    },
    {
      "cell_type": "code",
      "source": [
        "#absolute\n",
        "data_0.sort_values(\"absolute\", ascending=False).head()"
      ],
      "metadata": {
        "id": "1IfQ35wwPpCK",
        "colab": {
          "base_uri": "https://localhost:8080/",
          "height": 206
        },
        "outputId": "2ee6f0d1-001d-4d95-f3fa-cd5e24847522"
      },
      "execution_count": 237,
      "outputs": [
        {
          "output_type": "execute_result",
          "data": {
            "text/plain": [
              "      word  absolute  relative        tf  binar\n",
              "30     car         5  0.294118  0.850894      1\n",
              "128   look         2  0.117647  0.236711      1\n",
              "29    call         1  0.058824  0.149034      1\n",
              "51     dai         1  0.058824  0.140068      1\n",
              "63   engin         1  0.058824  0.171285      1"
            ],
            "text/html": [
              "\n",
              "  <div id=\"df-bc9a7505-2926-4759-b3b5-55b2e4a242d7\">\n",
              "    <div class=\"colab-df-container\">\n",
              "      <div>\n",
              "<style scoped>\n",
              "    .dataframe tbody tr th:only-of-type {\n",
              "        vertical-align: middle;\n",
              "    }\n",
              "\n",
              "    .dataframe tbody tr th {\n",
              "        vertical-align: top;\n",
              "    }\n",
              "\n",
              "    .dataframe thead th {\n",
              "        text-align: right;\n",
              "    }\n",
              "</style>\n",
              "<table border=\"1\" class=\"dataframe\">\n",
              "  <thead>\n",
              "    <tr style=\"text-align: right;\">\n",
              "      <th></th>\n",
              "      <th>word</th>\n",
              "      <th>absolute</th>\n",
              "      <th>relative</th>\n",
              "      <th>tf</th>\n",
              "      <th>binar</th>\n",
              "    </tr>\n",
              "  </thead>\n",
              "  <tbody>\n",
              "    <tr>\n",
              "      <th>30</th>\n",
              "      <td>car</td>\n",
              "      <td>5</td>\n",
              "      <td>0.294118</td>\n",
              "      <td>0.850894</td>\n",
              "      <td>1</td>\n",
              "    </tr>\n",
              "    <tr>\n",
              "      <th>128</th>\n",
              "      <td>look</td>\n",
              "      <td>2</td>\n",
              "      <td>0.117647</td>\n",
              "      <td>0.236711</td>\n",
              "      <td>1</td>\n",
              "    </tr>\n",
              "    <tr>\n",
              "      <th>29</th>\n",
              "      <td>call</td>\n",
              "      <td>1</td>\n",
              "      <td>0.058824</td>\n",
              "      <td>0.149034</td>\n",
              "      <td>1</td>\n",
              "    </tr>\n",
              "    <tr>\n",
              "      <th>51</th>\n",
              "      <td>dai</td>\n",
              "      <td>1</td>\n",
              "      <td>0.058824</td>\n",
              "      <td>0.140068</td>\n",
              "      <td>1</td>\n",
              "    </tr>\n",
              "    <tr>\n",
              "      <th>63</th>\n",
              "      <td>engin</td>\n",
              "      <td>1</td>\n",
              "      <td>0.058824</td>\n",
              "      <td>0.171285</td>\n",
              "      <td>1</td>\n",
              "    </tr>\n",
              "  </tbody>\n",
              "</table>\n",
              "</div>\n",
              "      <button class=\"colab-df-convert\" onclick=\"convertToInteractive('df-bc9a7505-2926-4759-b3b5-55b2e4a242d7')\"\n",
              "              title=\"Convert this dataframe to an interactive table.\"\n",
              "              style=\"display:none;\">\n",
              "        \n",
              "  <svg xmlns=\"http://www.w3.org/2000/svg\" height=\"24px\"viewBox=\"0 0 24 24\"\n",
              "       width=\"24px\">\n",
              "    <path d=\"M0 0h24v24H0V0z\" fill=\"none\"/>\n",
              "    <path d=\"M18.56 5.44l.94 2.06.94-2.06 2.06-.94-2.06-.94-.94-2.06-.94 2.06-2.06.94zm-11 1L8.5 8.5l.94-2.06 2.06-.94-2.06-.94L8.5 2.5l-.94 2.06-2.06.94zm10 10l.94 2.06.94-2.06 2.06-.94-2.06-.94-.94-2.06-.94 2.06-2.06.94z\"/><path d=\"M17.41 7.96l-1.37-1.37c-.4-.4-.92-.59-1.43-.59-.52 0-1.04.2-1.43.59L10.3 9.45l-7.72 7.72c-.78.78-.78 2.05 0 2.83L4 21.41c.39.39.9.59 1.41.59.51 0 1.02-.2 1.41-.59l7.78-7.78 2.81-2.81c.8-.78.8-2.07 0-2.86zM5.41 20L4 18.59l7.72-7.72 1.47 1.35L5.41 20z\"/>\n",
              "  </svg>\n",
              "      </button>\n",
              "      \n",
              "  <style>\n",
              "    .colab-df-container {\n",
              "      display:flex;\n",
              "      flex-wrap:wrap;\n",
              "      gap: 12px;\n",
              "    }\n",
              "\n",
              "    .colab-df-convert {\n",
              "      background-color: #E8F0FE;\n",
              "      border: none;\n",
              "      border-radius: 50%;\n",
              "      cursor: pointer;\n",
              "      display: none;\n",
              "      fill: #1967D2;\n",
              "      height: 32px;\n",
              "      padding: 0 0 0 0;\n",
              "      width: 32px;\n",
              "    }\n",
              "\n",
              "    .colab-df-convert:hover {\n",
              "      background-color: #E2EBFA;\n",
              "      box-shadow: 0px 1px 2px rgba(60, 64, 67, 0.3), 0px 1px 3px 1px rgba(60, 64, 67, 0.15);\n",
              "      fill: #174EA6;\n",
              "    }\n",
              "\n",
              "    [theme=dark] .colab-df-convert {\n",
              "      background-color: #3B4455;\n",
              "      fill: #D2E3FC;\n",
              "    }\n",
              "\n",
              "    [theme=dark] .colab-df-convert:hover {\n",
              "      background-color: #434B5C;\n",
              "      box-shadow: 0px 1px 3px 1px rgba(0, 0, 0, 0.15);\n",
              "      filter: drop-shadow(0px 1px 2px rgba(0, 0, 0, 0.3));\n",
              "      fill: #FFFFFF;\n",
              "    }\n",
              "  </style>\n",
              "\n",
              "      <script>\n",
              "        const buttonEl =\n",
              "          document.querySelector('#df-bc9a7505-2926-4759-b3b5-55b2e4a242d7 button.colab-df-convert');\n",
              "        buttonEl.style.display =\n",
              "          google.colab.kernel.accessAllowed ? 'block' : 'none';\n",
              "\n",
              "        async function convertToInteractive(key) {\n",
              "          const element = document.querySelector('#df-bc9a7505-2926-4759-b3b5-55b2e4a242d7');\n",
              "          const dataTable =\n",
              "            await google.colab.kernel.invokeFunction('convertToInteractive',\n",
              "                                                     [key], {});\n",
              "          if (!dataTable) return;\n",
              "\n",
              "          const docLinkHtml = 'Like what you see? Visit the ' +\n",
              "            '<a target=\"_blank\" href=https://colab.research.google.com/notebooks/data_table.ipynb>data table notebook</a>'\n",
              "            + ' to learn more about interactive tables.';\n",
              "          element.innerHTML = '';\n",
              "          dataTable['output_type'] = 'display_data';\n",
              "          await google.colab.output.renderOutput(dataTable, element);\n",
              "          const docLink = document.createElement('div');\n",
              "          docLink.innerHTML = docLinkHtml;\n",
              "          element.appendChild(docLink);\n",
              "        }\n",
              "      </script>\n",
              "    </div>\n",
              "  </div>\n",
              "  "
            ]
          },
          "metadata": {},
          "execution_count": 237
        }
      ]
    },
    {
      "cell_type": "markdown",
      "source": [
        "**Bag-of-words (gensim)**\n",
        "\n",
        "---\n",
        "\n"
      ],
      "metadata": {
        "id": "xdD1YYs_m3DB"
      }
    },
    {
      "cell_type": "code",
      "source": [
        "#Create a corpus as input for gensim with corpus_gen=[doc.split() for doc in data_stem]. \n",
        "#What is this command exactly doing?\n",
        "corpus_gen=[doc.split() for doc in data_stemmed]\n"
      ],
      "metadata": {
        "id": "9CUTZye_m9X_"
      },
      "execution_count": 238,
      "outputs": []
    },
    {
      "cell_type": "code",
      "source": [
        "id2word = Dictionary(corpus_gen)\n",
        "id2word.filter_extremes(no_below=566, no_above=0.95)"
      ],
      "metadata": {
        "id": "GVQnnxFWrZ-r"
      },
      "execution_count": 239,
      "outputs": []
    },
    {
      "cell_type": "code",
      "source": [
        "print(id2word.token2id) #print out the key index and token which was filtered out\n",
        "# less than 599 and more than 95% the total corpus size)"
      ],
      "metadata": {
        "colab": {
          "base_uri": "https://localhost:8080/"
        },
        "id": "GVHWSRXZxESE",
        "outputId": "10c2c4ae-5712-46f1-8f77-33d36a814565"
      },
      "execution_count": 240,
      "outputs": [
        {
          "output_type": "stream",
          "name": "stdout",
          "text": [
            "{'call': 0, 'car': 1, 'dai': 2, 'engin': 3, 'info': 4, 'know': 5, 'look': 6, 'mail': 7, 'small': 8, 'thank': 9, 'wonder': 10, 'year': 11, 'answer': 12, 'base': 13, 'card': 14, 'edu': 15, 'experi': 16, 'final': 17, 'gui': 18, 'host': 19, 'messag': 20, 'nntp': 21, 'number': 22, 'post': 23, 'report': 24, 'send': 25, 'access': 26, 'actual': 27, 'advanc': 28, 'anybodi': 29, 'better': 30, 'bit': 31, 'email': 32, 'expect': 33, 'feel': 34, 'good': 35, 'got': 36, 'great': 37, 'heard': 38, 'help': 39, 'life': 40, 'like': 41, 'line': 42, 'machin': 43, 'mayb': 44, 'new': 45, 'opinion': 46, 'peopl': 47, 'plai': 48, 'price': 49, 'probabl': 50, 'question': 51, 'read': 52, 'real': 53, 'recent': 54, 'start': 55, 'take': 56, 'time': 57, 'us': 58, 'wai': 59, 'address': 60, 'articl': 61, 'chip': 62, 'com': 63, 'far': 64, 'inform': 65, 'person': 66, 'phone': 67, 'point': 68, 'pretti': 69, 'requir': 70, 'stuff': 71, 'system': 72, 'thing': 73, 'write': 74, 'wrote': 75, 'check': 76, 'mean': 77, 'possibl': 78, 'right': 79, 'set': 80, 'softwar': 81, 'tell': 82, 'understand': 83, 'world': 84, 'ye': 85, 'agre': 86, 'allow': 87, 'apr': 88, 'believ': 89, 'come': 90, 'consid': 91, 'control': 92, 'cost': 93, 'cours': 94, 'exist': 95, 'follow': 96, 'given': 97, 'govern': 98, 'hand': 99, 'hard': 100, 'hope': 101, 'idea': 102, 'john': 103, 'kill': 104, 'make': 105, 'need': 106, 'non': 107, 'power': 108, 'reason': 109, 'result': 110, 'sai': 111, 'second': 112, 'state': 113, 'support': 114, 'todai': 115, 'file': 116, 'sure': 117, 'thought': 118, 'try': 119, 'accept': 120, 'avail': 121, 'correct': 122, 'data': 123, 'fact': 124, 'go': 125, 'list': 126, 'long': 127, 'love': 128, 'note': 129, 'problem': 130, 'refer': 131, 'said': 132, 'standard': 133, 'think': 134, 'true': 135, 'version': 136, 'appreci': 137, 'chang': 138, 'win': 139, 'bui': 140, 'design': 141, 'mention': 142, 'usual': 143, 'work': 144, 'wrong': 145, 'org': 146, 'run': 147, 'want': 148, 'assum': 149, 'case': 150, 'christian': 151, 'creat': 152, 'david': 153, 'differ': 154, 'end': 155, 'exampl': 156, 'get': 157, 'god': 158, 'guess': 159, 'human': 160, 'kind': 161, 'littl': 162, 'live': 163, 'man': 164, 'mind': 165, 'type': 166, 'complet': 167, 'current': 168, 'forc': 169, 'kei': 170, 'let': 171, 'major': 172, 'manag': 173, 'mark': 174, 'old': 175, 'place': 176, 'provid': 177, 'research': 178, 'sourc': 179, 'space': 180, 'team': 181, 'ask': 182, 'high': 183, 'includ': 184, 'repli': 185, 'sale': 186, 'sound': 187, 'caus': 188, 'gener': 189, 'group': 190, 'happen': 191, 'origin': 192, 'abl': 193, 'big': 194, 'deal': 195, 'import': 196, 'program': 197, 'won': 198, 'word': 199, 'ago': 200, 'awai': 201, 'best': 202, 'book': 203, 'care': 204, 'claim': 205, 'close': 206, 'drive': 207, 'friend': 208, 'interest': 209, 'law': 210, 'rememb': 211, 'respons': 212, 'turn': 213, 'univers': 214, 'view': 215, 'seen': 216, 'matter': 217, 'tri': 218, 'window': 219, 'order': 220, 'fax': 221, 'free': 222, 'left': 223, 'isn': 224, 'game': 225, 'lot': 226, 'local': 227, 'larg': 228, 'week': 229, 'effect': 230, 'public': 231, 'have': 232, 'american': 233, 'issu': 234, 'open': 235, 'talk': 236, 'home': 237, 'bad': 238, 'net': 239, 'posit': 240, 'area': 241, 'nation': 242, 'discuss': 243, 'suggest': 244, 'internet': 245}\n"
          ]
        }
      ]
    },
    {
      "cell_type": "code",
      "source": [
        "print(id2word.token2id.keys()) #print out all the tokens in array"
      ],
      "metadata": {
        "colab": {
          "base_uri": "https://localhost:8080/"
        },
        "id": "B9EAMb2QxsOA",
        "outputId": "6c88d647-aa06-4d15-ae21-4cfce338bdb1"
      },
      "execution_count": 241,
      "outputs": [
        {
          "output_type": "stream",
          "name": "stdout",
          "text": [
            "dict_keys(['call', 'car', 'dai', 'engin', 'info', 'know', 'look', 'mail', 'small', 'thank', 'wonder', 'year', 'answer', 'base', 'card', 'edu', 'experi', 'final', 'gui', 'host', 'messag', 'nntp', 'number', 'post', 'report', 'send', 'access', 'actual', 'advanc', 'anybodi', 'better', 'bit', 'email', 'expect', 'feel', 'good', 'got', 'great', 'heard', 'help', 'life', 'like', 'line', 'machin', 'mayb', 'new', 'opinion', 'peopl', 'plai', 'price', 'probabl', 'question', 'read', 'real', 'recent', 'start', 'take', 'time', 'us', 'wai', 'address', 'articl', 'chip', 'com', 'far', 'inform', 'person', 'phone', 'point', 'pretti', 'requir', 'stuff', 'system', 'thing', 'write', 'wrote', 'check', 'mean', 'possibl', 'right', 'set', 'softwar', 'tell', 'understand', 'world', 'ye', 'agre', 'allow', 'apr', 'believ', 'come', 'consid', 'control', 'cost', 'cours', 'exist', 'follow', 'given', 'govern', 'hand', 'hard', 'hope', 'idea', 'john', 'kill', 'make', 'need', 'non', 'power', 'reason', 'result', 'sai', 'second', 'state', 'support', 'todai', 'file', 'sure', 'thought', 'try', 'accept', 'avail', 'correct', 'data', 'fact', 'go', 'list', 'long', 'love', 'note', 'problem', 'refer', 'said', 'standard', 'think', 'true', 'version', 'appreci', 'chang', 'win', 'bui', 'design', 'mention', 'usual', 'work', 'wrong', 'org', 'run', 'want', 'assum', 'case', 'christian', 'creat', 'david', 'differ', 'end', 'exampl', 'get', 'god', 'guess', 'human', 'kind', 'littl', 'live', 'man', 'mind', 'type', 'complet', 'current', 'forc', 'kei', 'let', 'major', 'manag', 'mark', 'old', 'place', 'provid', 'research', 'sourc', 'space', 'team', 'ask', 'high', 'includ', 'repli', 'sale', 'sound', 'caus', 'gener', 'group', 'happen', 'origin', 'abl', 'big', 'deal', 'import', 'program', 'won', 'word', 'ago', 'awai', 'best', 'book', 'care', 'claim', 'close', 'drive', 'friend', 'interest', 'law', 'rememb', 'respons', 'turn', 'univers', 'view', 'seen', 'matter', 'tri', 'window', 'order', 'fax', 'free', 'left', 'isn', 'game', 'lot', 'local', 'larg', 'week', 'effect', 'public', 'have', 'american', 'issu', 'open', 'talk', 'home', 'bad', 'net', 'posit', 'area', 'nation', 'discuss', 'suggest', 'internet'])\n"
          ]
        }
      ]
    },
    {
      "cell_type": "code",
      "source": [
        "print(id2word.dfs) #how many documents contain these tokens"
      ],
      "metadata": {
        "colab": {
          "base_uri": "https://localhost:8080/"
        },
        "id": "0SmgUROHxwVD",
        "outputId": "57435770-94ed-4309-a831-03351b4530cd"
      },
      "execution_count": 242,
      "outputs": [
        {
          "output_type": "stream",
          "name": "stdout",
          "text": [
            "{1: 700, 10: 702, 2: 1367, 6: 2215, 0: 1120, 8: 604, 5: 3532, 3: 683, 11: 2058, 4: 653, 7: 1394, 9: 2038, 17: 577, 24: 605, 21: 2335, 23: 3771, 19: 2423, 15: 6270, 22: 1182, 16: 629, 25: 743, 20: 823, 14: 705, 13: 899, 12: 768, 18: 596, 51: 1776, 55: 1234, 40: 750, 59: 2223, 45: 2950, 43: 611, 31: 1008, 44: 809, 29: 568, 33: 582, 38: 728, 26: 640, 49: 617, 42: 997, 41: 3863, 54: 632, 50: 1118, 36: 1223, 34: 710, 30: 1218, 37: 969, 35: 2341, 46: 1074, 47: 2554, 58: 2528, 56: 639, 53: 936, 48: 773, 27: 1099, 39: 1629, 28: 651, 32: 777, 52: 1497, 57: 2835, 63: 3925, 75: 810, 74: 6085, 61: 4995, 62: 581, 64: 961, 71: 574, 69: 654, 70: 735, 68: 1572, 60: 639, 67: 717, 65: 1113, 72: 607, 73: 2074, 66: 1249, 84: 1026, 85: 777, 77: 1487, 83: 733, 81: 829, 76: 652, 79: 1861, 80: 999, 78: 1208, 82: 1214, 112: 871, 102: 958, 88: 2845, 103: 768, 108: 967, 105: 1110, 93: 589, 106: 2188, 92: 930, 98: 848, 110: 688, 107: 750, 95: 831, 113: 1361, 90: 1674, 89: 1436, 100: 855, 114: 970, 86: 662, 99: 787, 101: 771, 94: 1029, 111: 1291, 96: 1232, 104: 663, 109: 1301, 87: 741, 97: 674, 91: 972, 115: 708, 118: 942, 117: 1402, 119: 1624, 116: 821, 120: 668, 127: 1150, 130: 1835, 128: 576, 126: 770, 133: 680, 136: 594, 129: 815, 123: 637, 122: 578, 124: 1139, 121: 866, 132: 1307, 134: 2957, 135: 886, 125: 1327, 131: 696, 139: 647, 138: 937, 137: 678, 141: 580, 144: 2338, 145: 825, 143: 578, 142: 644, 140: 722, 147: 1388, 148: 2353, 146: 566, 153: 806, 155: 1024, 154: 1344, 158: 848, 150: 1240, 164: 750, 151: 695, 165: 635, 152: 569, 163: 1005, 156: 784, 161: 780, 162: 1112, 160: 590, 159: 592, 149: 641, 166: 667, 157: 1067, 180: 619, 174: 590, 171: 1332, 168: 792, 181: 582, 170: 643, 177: 763, 173: 570, 169: 582, 179: 663, 175: 890, 176: 1035, 178: 619, 172: 647, 167: 620, 186: 587, 183: 850, 187: 702, 184: 1140, 182: 1194, 185: 826, 190: 956, 191: 987, 192: 1009, 188: 773, 189: 1155, 197: 1002, 194: 750, 199: 853, 193: 828, 196: 624, 198: 709, 195: 572, 206: 627, 207: 905, 214: 1310, 211: 723, 213: 743, 208: 566, 205: 757, 210: 795, 201: 747, 200: 686, 209: 1134, 203: 662, 212: 766, 215: 638, 202: 1019, 204: 641, 216: 791, 219: 1033, 218: 568, 217: 629, 220: 826, 222: 705, 221: 610, 223: 643, 224: 802, 225: 782, 226: 1176, 227: 581, 228: 648, 229: 662, 230: 709, 231: 751, 232: 844, 233: 618, 236: 931, 235: 607, 234: 725, 237: 653, 238: 795, 239: 801, 240: 571, 241: 629, 242: 686, 243: 633, 244: 770, 245: 707}\n"
          ]
        }
      ]
    },
    {
      "cell_type": "code",
      "source": [
        "corpus1=[id2word.doc2bow(doc) for doc in corpus_gen] #Convert document into the bag-of-words (BoW) format = list of (token_id, token_count) tuples."
      ],
      "metadata": {
        "id": "yrzt2sfJyWdx"
      },
      "execution_count": 243,
      "outputs": []
    },
    {
      "cell_type": "code",
      "source": [
        "corpus2=[[(token[0],(token[1]/sum(n for _, n in doc))) for token in doc]\n",
        "for doc in corpus1]\n",
        "# Convert document into the bag-of-words (BoW) format = list of (token_id, token_count) tuple\n",
        "#relative frequency"
      ],
      "metadata": {
        "id": "r1TUnAcTybPO"
      },
      "execution_count": 244,
      "outputs": []
    },
    {
      "cell_type": "code",
      "source": [
        "corpus3=[[(token[0],1) for token in doc] for doc in corpus1]\n",
        "#One Hot encoding"
      ],
      "metadata": {
        "id": "90v8DHuGy7eS"
      },
      "execution_count": 245,
      "outputs": []
    },
    {
      "cell_type": "code",
      "source": [
        "tfidf=TfidfModel(dictionary=id2word, normalize=True) #implement Tfidf\n",
        "corpus4=[tfidf[id2word.doc2bow(doc)] for doc in corpus_gen]"
      ],
      "metadata": {
        "id": "vs_aHM1tzJRW"
      },
      "execution_count": 246,
      "outputs": []
    },
    {
      "cell_type": "code",
      "source": [
        "data_gensim = pd.DataFrame.from_dict(id2word.token2id,orient=\"index\").reset_index()\n",
        "data_gensim.columns = ['word','index']\n",
        "#data_gensim.drop(['index'], axis=1)\n",
        "#data_gensim['absolute'] = corpus_abs.toarray()[0]"
      ],
      "metadata": {
        "id": "ok4_pYwS13A3"
      },
      "execution_count": 247,
      "outputs": []
    },
    {
      "cell_type": "code",
      "source": [
        "df_1 = pd.DataFrame(corpus1[0], columns=['index','absolute'])\n",
        "df_2 = pd.DataFrame(corpus2[0], columns=['index','relative'])\n",
        "df_3 = pd.DataFrame(corpus3[0], columns=['index','OHE'])\n",
        "df_4 = pd.DataFrame(corpus4[0], columns=['index','tf-idf'])"
      ],
      "metadata": {
        "id": "EBjlhVFA28Q2"
      },
      "execution_count": 248,
      "outputs": []
    },
    {
      "cell_type": "code",
      "source": [
        "data_gensim = data_gensim.merge(df_1, how=\"left\", left_on=\"index\", right_index=True).drop(['index_y'], axis=1)\n",
        "data_gensim = data_gensim.merge(df_2, how=\"left\", left_on=\"index_x\", right_index=True).drop(['index_x'], axis=1)\n",
        "data_gensim = data_gensim.merge(df_3, how=\"left\", left_on=\"index\", right_index=True).drop(['index_y'], axis=1)\n",
        "data_gensim = data_gensim.merge(df_4, how=\"left\", left_on=\"index_x\", right_index=True).drop(['index_x'], axis=1)\n",
        "data_gensim.drop(['index'], axis=1)\n",
        "data_gensim = data_gensim[data_gensim['absolute'].notna()]\n"
      ],
      "metadata": {
        "id": "g1UGgybt9GOO"
      },
      "execution_count": 249,
      "outputs": []
    },
    {
      "cell_type": "code",
      "source": [
        "data_gensim"
      ],
      "metadata": {
        "colab": {
          "base_uri": "https://localhost:8080/",
          "height": 425
        },
        "id": "SmwKw7SuOuhp",
        "outputId": "df2145ad-7730-4856-ab3a-80af1133283a"
      },
      "execution_count": 251,
      "outputs": [
        {
          "output_type": "execute_result",
          "data": {
            "text/plain": [
              "      word  absolute  relative  OHE  index    tf-idf\n",
              "0     call       1.0  0.058824  1.0    0.0  0.143996\n",
              "1      car       5.0  0.294118  1.0    1.0  0.866301\n",
              "2      dai       1.0  0.058824  1.0    2.0  0.131588\n",
              "3    engin       1.0  0.058824  1.0    3.0  0.174791\n",
              "4     info       1.0  0.058824  1.0    4.0  0.177588\n",
              "5     know       1.0  0.058824  1.0    5.0  0.072485\n",
              "6     look       2.0  0.117647  1.0    6.0  0.203075\n",
              "7     mail       1.0  0.058824  1.0    7.0  0.130370\n",
              "8    small       1.0  0.058824  1.0    8.0  0.182444\n",
              "9    thank       1.0  0.058824  1.0    9.0  0.106723\n",
              "10  wonder       1.0  0.058824  1.0   10.0  0.173082\n",
              "11    year       1.0  0.058824  1.0   11.0  0.106115"
            ],
            "text/html": [
              "\n",
              "  <div id=\"df-58c294e8-afac-4ebd-98af-50da666cd9b9\">\n",
              "    <div class=\"colab-df-container\">\n",
              "      <div>\n",
              "<style scoped>\n",
              "    .dataframe tbody tr th:only-of-type {\n",
              "        vertical-align: middle;\n",
              "    }\n",
              "\n",
              "    .dataframe tbody tr th {\n",
              "        vertical-align: top;\n",
              "    }\n",
              "\n",
              "    .dataframe thead th {\n",
              "        text-align: right;\n",
              "    }\n",
              "</style>\n",
              "<table border=\"1\" class=\"dataframe\">\n",
              "  <thead>\n",
              "    <tr style=\"text-align: right;\">\n",
              "      <th></th>\n",
              "      <th>word</th>\n",
              "      <th>absolute</th>\n",
              "      <th>relative</th>\n",
              "      <th>OHE</th>\n",
              "      <th>index</th>\n",
              "      <th>tf-idf</th>\n",
              "    </tr>\n",
              "  </thead>\n",
              "  <tbody>\n",
              "    <tr>\n",
              "      <th>0</th>\n",
              "      <td>call</td>\n",
              "      <td>1.0</td>\n",
              "      <td>0.058824</td>\n",
              "      <td>1.0</td>\n",
              "      <td>0.0</td>\n",
              "      <td>0.143996</td>\n",
              "    </tr>\n",
              "    <tr>\n",
              "      <th>1</th>\n",
              "      <td>car</td>\n",
              "      <td>5.0</td>\n",
              "      <td>0.294118</td>\n",
              "      <td>1.0</td>\n",
              "      <td>1.0</td>\n",
              "      <td>0.866301</td>\n",
              "    </tr>\n",
              "    <tr>\n",
              "      <th>2</th>\n",
              "      <td>dai</td>\n",
              "      <td>1.0</td>\n",
              "      <td>0.058824</td>\n",
              "      <td>1.0</td>\n",
              "      <td>2.0</td>\n",
              "      <td>0.131588</td>\n",
              "    </tr>\n",
              "    <tr>\n",
              "      <th>3</th>\n",
              "      <td>engin</td>\n",
              "      <td>1.0</td>\n",
              "      <td>0.058824</td>\n",
              "      <td>1.0</td>\n",
              "      <td>3.0</td>\n",
              "      <td>0.174791</td>\n",
              "    </tr>\n",
              "    <tr>\n",
              "      <th>4</th>\n",
              "      <td>info</td>\n",
              "      <td>1.0</td>\n",
              "      <td>0.058824</td>\n",
              "      <td>1.0</td>\n",
              "      <td>4.0</td>\n",
              "      <td>0.177588</td>\n",
              "    </tr>\n",
              "    <tr>\n",
              "      <th>5</th>\n",
              "      <td>know</td>\n",
              "      <td>1.0</td>\n",
              "      <td>0.058824</td>\n",
              "      <td>1.0</td>\n",
              "      <td>5.0</td>\n",
              "      <td>0.072485</td>\n",
              "    </tr>\n",
              "    <tr>\n",
              "      <th>6</th>\n",
              "      <td>look</td>\n",
              "      <td>2.0</td>\n",
              "      <td>0.117647</td>\n",
              "      <td>1.0</td>\n",
              "      <td>6.0</td>\n",
              "      <td>0.203075</td>\n",
              "    </tr>\n",
              "    <tr>\n",
              "      <th>7</th>\n",
              "      <td>mail</td>\n",
              "      <td>1.0</td>\n",
              "      <td>0.058824</td>\n",
              "      <td>1.0</td>\n",
              "      <td>7.0</td>\n",
              "      <td>0.130370</td>\n",
              "    </tr>\n",
              "    <tr>\n",
              "      <th>8</th>\n",
              "      <td>small</td>\n",
              "      <td>1.0</td>\n",
              "      <td>0.058824</td>\n",
              "      <td>1.0</td>\n",
              "      <td>8.0</td>\n",
              "      <td>0.182444</td>\n",
              "    </tr>\n",
              "    <tr>\n",
              "      <th>9</th>\n",
              "      <td>thank</td>\n",
              "      <td>1.0</td>\n",
              "      <td>0.058824</td>\n",
              "      <td>1.0</td>\n",
              "      <td>9.0</td>\n",
              "      <td>0.106723</td>\n",
              "    </tr>\n",
              "    <tr>\n",
              "      <th>10</th>\n",
              "      <td>wonder</td>\n",
              "      <td>1.0</td>\n",
              "      <td>0.058824</td>\n",
              "      <td>1.0</td>\n",
              "      <td>10.0</td>\n",
              "      <td>0.173082</td>\n",
              "    </tr>\n",
              "    <tr>\n",
              "      <th>11</th>\n",
              "      <td>year</td>\n",
              "      <td>1.0</td>\n",
              "      <td>0.058824</td>\n",
              "      <td>1.0</td>\n",
              "      <td>11.0</td>\n",
              "      <td>0.106115</td>\n",
              "    </tr>\n",
              "  </tbody>\n",
              "</table>\n",
              "</div>\n",
              "      <button class=\"colab-df-convert\" onclick=\"convertToInteractive('df-58c294e8-afac-4ebd-98af-50da666cd9b9')\"\n",
              "              title=\"Convert this dataframe to an interactive table.\"\n",
              "              style=\"display:none;\">\n",
              "        \n",
              "  <svg xmlns=\"http://www.w3.org/2000/svg\" height=\"24px\"viewBox=\"0 0 24 24\"\n",
              "       width=\"24px\">\n",
              "    <path d=\"M0 0h24v24H0V0z\" fill=\"none\"/>\n",
              "    <path d=\"M18.56 5.44l.94 2.06.94-2.06 2.06-.94-2.06-.94-.94-2.06-.94 2.06-2.06.94zm-11 1L8.5 8.5l.94-2.06 2.06-.94-2.06-.94L8.5 2.5l-.94 2.06-2.06.94zm10 10l.94 2.06.94-2.06 2.06-.94-2.06-.94-.94-2.06-.94 2.06-2.06.94z\"/><path d=\"M17.41 7.96l-1.37-1.37c-.4-.4-.92-.59-1.43-.59-.52 0-1.04.2-1.43.59L10.3 9.45l-7.72 7.72c-.78.78-.78 2.05 0 2.83L4 21.41c.39.39.9.59 1.41.59.51 0 1.02-.2 1.41-.59l7.78-7.78 2.81-2.81c.8-.78.8-2.07 0-2.86zM5.41 20L4 18.59l7.72-7.72 1.47 1.35L5.41 20z\"/>\n",
              "  </svg>\n",
              "      </button>\n",
              "      \n",
              "  <style>\n",
              "    .colab-df-container {\n",
              "      display:flex;\n",
              "      flex-wrap:wrap;\n",
              "      gap: 12px;\n",
              "    }\n",
              "\n",
              "    .colab-df-convert {\n",
              "      background-color: #E8F0FE;\n",
              "      border: none;\n",
              "      border-radius: 50%;\n",
              "      cursor: pointer;\n",
              "      display: none;\n",
              "      fill: #1967D2;\n",
              "      height: 32px;\n",
              "      padding: 0 0 0 0;\n",
              "      width: 32px;\n",
              "    }\n",
              "\n",
              "    .colab-df-convert:hover {\n",
              "      background-color: #E2EBFA;\n",
              "      box-shadow: 0px 1px 2px rgba(60, 64, 67, 0.3), 0px 1px 3px 1px rgba(60, 64, 67, 0.15);\n",
              "      fill: #174EA6;\n",
              "    }\n",
              "\n",
              "    [theme=dark] .colab-df-convert {\n",
              "      background-color: #3B4455;\n",
              "      fill: #D2E3FC;\n",
              "    }\n",
              "\n",
              "    [theme=dark] .colab-df-convert:hover {\n",
              "      background-color: #434B5C;\n",
              "      box-shadow: 0px 1px 3px 1px rgba(0, 0, 0, 0.15);\n",
              "      filter: drop-shadow(0px 1px 2px rgba(0, 0, 0, 0.3));\n",
              "      fill: #FFFFFF;\n",
              "    }\n",
              "  </style>\n",
              "\n",
              "      <script>\n",
              "        const buttonEl =\n",
              "          document.querySelector('#df-58c294e8-afac-4ebd-98af-50da666cd9b9 button.colab-df-convert');\n",
              "        buttonEl.style.display =\n",
              "          google.colab.kernel.accessAllowed ? 'block' : 'none';\n",
              "\n",
              "        async function convertToInteractive(key) {\n",
              "          const element = document.querySelector('#df-58c294e8-afac-4ebd-98af-50da666cd9b9');\n",
              "          const dataTable =\n",
              "            await google.colab.kernel.invokeFunction('convertToInteractive',\n",
              "                                                     [key], {});\n",
              "          if (!dataTable) return;\n",
              "\n",
              "          const docLinkHtml = 'Like what you see? Visit the ' +\n",
              "            '<a target=\"_blank\" href=https://colab.research.google.com/notebooks/data_table.ipynb>data table notebook</a>'\n",
              "            + ' to learn more about interactive tables.';\n",
              "          element.innerHTML = '';\n",
              "          dataTable['output_type'] = 'display_data';\n",
              "          await google.colab.output.renderOutput(dataTable, element);\n",
              "          const docLink = document.createElement('div');\n",
              "          docLink.innerHTML = docLinkHtml;\n",
              "          element.appendChild(docLink);\n",
              "        }\n",
              "      </script>\n",
              "    </div>\n",
              "  </div>\n",
              "  "
            ]
          },
          "metadata": {},
          "execution_count": 251
        }
      ]
    },
    {
      "cell_type": "markdown",
      "source": [
        "Here we observe that many words were filtered out with `no_below` and `no_above`"
      ],
      "metadata": {
        "id": "FNTz6bjWQXDF"
      }
    },
    {
      "cell_type": "markdown",
      "source": [
        "**N-Grams**"
      ],
      "metadata": {
        "id": "4s7vrF1sQkrf"
      }
    },
    {
      "cell_type": "code",
      "source": [
        "vec_ngram = CountVectorizer(ngram_range=(2, 2), max_df=0.95, min_df=0.05)\n",
        "ngram = vec_ngram.fit_transform(data_stemmed)"
      ],
      "metadata": {
        "id": "jFdoyBufQwj_"
      },
      "execution_count": 252,
      "outputs": []
    },
    {
      "cell_type": "code",
      "source": [
        "ngram_df = pd.DataFrame(ngram.toarray(),columns=vec_ngram.get_feature_names_out())"
      ],
      "metadata": {
        "id": "CAjaXt-rRPSH"
      },
      "execution_count": 255,
      "outputs": []
    },
    {
      "cell_type": "code",
      "source": [
        "ngram_df.head()"
      ],
      "metadata": {
        "colab": {
          "base_uri": "https://localhost:8080/",
          "height": 206
        },
        "id": "rj3IELyqRabB",
        "outputId": "fce76c4d-a3b0-4d5c-d0a8-84914f130390"
      },
      "execution_count": 256,
      "outputs": [
        {
          "output_type": "execute_result",
          "data": {
            "text/plain": [
              "   articl apr  edu write  nntp post  post host  write articl\n",
              "0           0          0          0          0             0\n",
              "1           0          0          1          1             0\n",
              "2           0          0          0          0             0\n",
              "3           0          1          1          1             1\n",
              "4           0          0          0          0             0"
            ],
            "text/html": [
              "\n",
              "  <div id=\"df-25b3d689-9ddd-441d-9afb-ff1fc8f98935\">\n",
              "    <div class=\"colab-df-container\">\n",
              "      <div>\n",
              "<style scoped>\n",
              "    .dataframe tbody tr th:only-of-type {\n",
              "        vertical-align: middle;\n",
              "    }\n",
              "\n",
              "    .dataframe tbody tr th {\n",
              "        vertical-align: top;\n",
              "    }\n",
              "\n",
              "    .dataframe thead th {\n",
              "        text-align: right;\n",
              "    }\n",
              "</style>\n",
              "<table border=\"1\" class=\"dataframe\">\n",
              "  <thead>\n",
              "    <tr style=\"text-align: right;\">\n",
              "      <th></th>\n",
              "      <th>articl apr</th>\n",
              "      <th>edu write</th>\n",
              "      <th>nntp post</th>\n",
              "      <th>post host</th>\n",
              "      <th>write articl</th>\n",
              "    </tr>\n",
              "  </thead>\n",
              "  <tbody>\n",
              "    <tr>\n",
              "      <th>0</th>\n",
              "      <td>0</td>\n",
              "      <td>0</td>\n",
              "      <td>0</td>\n",
              "      <td>0</td>\n",
              "      <td>0</td>\n",
              "    </tr>\n",
              "    <tr>\n",
              "      <th>1</th>\n",
              "      <td>0</td>\n",
              "      <td>0</td>\n",
              "      <td>1</td>\n",
              "      <td>1</td>\n",
              "      <td>0</td>\n",
              "    </tr>\n",
              "    <tr>\n",
              "      <th>2</th>\n",
              "      <td>0</td>\n",
              "      <td>0</td>\n",
              "      <td>0</td>\n",
              "      <td>0</td>\n",
              "      <td>0</td>\n",
              "    </tr>\n",
              "    <tr>\n",
              "      <th>3</th>\n",
              "      <td>0</td>\n",
              "      <td>1</td>\n",
              "      <td>1</td>\n",
              "      <td>1</td>\n",
              "      <td>1</td>\n",
              "    </tr>\n",
              "    <tr>\n",
              "      <th>4</th>\n",
              "      <td>0</td>\n",
              "      <td>0</td>\n",
              "      <td>0</td>\n",
              "      <td>0</td>\n",
              "      <td>0</td>\n",
              "    </tr>\n",
              "  </tbody>\n",
              "</table>\n",
              "</div>\n",
              "      <button class=\"colab-df-convert\" onclick=\"convertToInteractive('df-25b3d689-9ddd-441d-9afb-ff1fc8f98935')\"\n",
              "              title=\"Convert this dataframe to an interactive table.\"\n",
              "              style=\"display:none;\">\n",
              "        \n",
              "  <svg xmlns=\"http://www.w3.org/2000/svg\" height=\"24px\"viewBox=\"0 0 24 24\"\n",
              "       width=\"24px\">\n",
              "    <path d=\"M0 0h24v24H0V0z\" fill=\"none\"/>\n",
              "    <path d=\"M18.56 5.44l.94 2.06.94-2.06 2.06-.94-2.06-.94-.94-2.06-.94 2.06-2.06.94zm-11 1L8.5 8.5l.94-2.06 2.06-.94-2.06-.94L8.5 2.5l-.94 2.06-2.06.94zm10 10l.94 2.06.94-2.06 2.06-.94-2.06-.94-.94-2.06-.94 2.06-2.06.94z\"/><path d=\"M17.41 7.96l-1.37-1.37c-.4-.4-.92-.59-1.43-.59-.52 0-1.04.2-1.43.59L10.3 9.45l-7.72 7.72c-.78.78-.78 2.05 0 2.83L4 21.41c.39.39.9.59 1.41.59.51 0 1.02-.2 1.41-.59l7.78-7.78 2.81-2.81c.8-.78.8-2.07 0-2.86zM5.41 20L4 18.59l7.72-7.72 1.47 1.35L5.41 20z\"/>\n",
              "  </svg>\n",
              "      </button>\n",
              "      \n",
              "  <style>\n",
              "    .colab-df-container {\n",
              "      display:flex;\n",
              "      flex-wrap:wrap;\n",
              "      gap: 12px;\n",
              "    }\n",
              "\n",
              "    .colab-df-convert {\n",
              "      background-color: #E8F0FE;\n",
              "      border: none;\n",
              "      border-radius: 50%;\n",
              "      cursor: pointer;\n",
              "      display: none;\n",
              "      fill: #1967D2;\n",
              "      height: 32px;\n",
              "      padding: 0 0 0 0;\n",
              "      width: 32px;\n",
              "    }\n",
              "\n",
              "    .colab-df-convert:hover {\n",
              "      background-color: #E2EBFA;\n",
              "      box-shadow: 0px 1px 2px rgba(60, 64, 67, 0.3), 0px 1px 3px 1px rgba(60, 64, 67, 0.15);\n",
              "      fill: #174EA6;\n",
              "    }\n",
              "\n",
              "    [theme=dark] .colab-df-convert {\n",
              "      background-color: #3B4455;\n",
              "      fill: #D2E3FC;\n",
              "    }\n",
              "\n",
              "    [theme=dark] .colab-df-convert:hover {\n",
              "      background-color: #434B5C;\n",
              "      box-shadow: 0px 1px 3px 1px rgba(0, 0, 0, 0.15);\n",
              "      filter: drop-shadow(0px 1px 2px rgba(0, 0, 0, 0.3));\n",
              "      fill: #FFFFFF;\n",
              "    }\n",
              "  </style>\n",
              "\n",
              "      <script>\n",
              "        const buttonEl =\n",
              "          document.querySelector('#df-25b3d689-9ddd-441d-9afb-ff1fc8f98935 button.colab-df-convert');\n",
              "        buttonEl.style.display =\n",
              "          google.colab.kernel.accessAllowed ? 'block' : 'none';\n",
              "\n",
              "        async function convertToInteractive(key) {\n",
              "          const element = document.querySelector('#df-25b3d689-9ddd-441d-9afb-ff1fc8f98935');\n",
              "          const dataTable =\n",
              "            await google.colab.kernel.invokeFunction('convertToInteractive',\n",
              "                                                     [key], {});\n",
              "          if (!dataTable) return;\n",
              "\n",
              "          const docLinkHtml = 'Like what you see? Visit the ' +\n",
              "            '<a target=\"_blank\" href=https://colab.research.google.com/notebooks/data_table.ipynb>data table notebook</a>'\n",
              "            + ' to learn more about interactive tables.';\n",
              "          element.innerHTML = '';\n",
              "          dataTable['output_type'] = 'display_data';\n",
              "          await google.colab.output.renderOutput(dataTable, element);\n",
              "          const docLink = document.createElement('div');\n",
              "          docLink.innerHTML = docLinkHtml;\n",
              "          element.appendChild(docLink);\n",
              "        }\n",
              "      </script>\n",
              "    </div>\n",
              "  </div>\n",
              "  "
            ]
          },
          "metadata": {},
          "execution_count": 256
        }
      ]
    }
  ]
}