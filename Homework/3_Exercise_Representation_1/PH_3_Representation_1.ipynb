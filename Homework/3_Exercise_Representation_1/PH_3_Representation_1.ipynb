{
  "cells": [
    {
      "cell_type": "markdown",
      "id": "761eded3",
      "metadata": {
        "id": "761eded3"
      },
      "source": [
        "# Homework 2"
      ]
    },
    {
      "cell_type": "code",
      "execution_count": 1,
      "id": "f4afc34b",
      "metadata": {
        "id": "f4afc34b"
      },
      "outputs": [],
      "source": [
        "# imports\n",
        "import re\n",
        "import pickle\n",
        "import pandas as pd\n",
        "from sklearn.feature_extraction.text import CountVectorizer, TfidfVectorizer\n",
        "from sklearn.preprocessing import Binarizer\n",
        "from gensim.corpora import Dictionary\n",
        "from gensim.models import TfidfModel"
      ]
    },
    {
      "cell_type": "markdown",
      "source": [
        "Load the stemmed dataset from Exercise 2 by first mounting the drive and then using\n",
        "pickle.load(). Print the first entry of the data frame to assure that it was imported\n",
        "correctly"
      ],
      "metadata": {
        "id": "aoBOOVVWrc0e"
      },
      "id": "aoBOOVVWrc0e"
    },
    {
      "cell_type": "code",
      "source": [
        "#Mount drive\n",
        "from google.colab import drive\n",
        "drive.mount('/content/drive')"
      ],
      "metadata": {
        "id": "5JLvVTSNryuY",
        "outputId": "4ef78f1d-ee9a-43cd-b8b5-9e2630514e89",
        "colab": {
          "base_uri": "https://localhost:8080/"
        }
      },
      "id": "5JLvVTSNryuY",
      "execution_count": 2,
      "outputs": [
        {
          "output_type": "stream",
          "name": "stdout",
          "text": [
            "Mounted at /content/drive\n"
          ]
        }
      ]
    },
    {
      "cell_type": "code",
      "source": [
        "#Load stemmed data as .pkl\n",
        "with open('/content/drive/MyDrive/Colab_Notebooks/02_HWR/00_data/Newsgroup/data_stemmed.pkl', 'rb') as f:\n",
        "    data_stemmed = pickle.load(f)\n",
        "\n",
        "data_stemmed = pd.DataFrame(data_stemmed, columns=[\"stemmed_text\"])"
      ],
      "metadata": {
        "id": "LJxFrP-hruIE"
      },
      "id": "LJxFrP-hruIE",
      "execution_count": 13,
      "outputs": []
    },
    {
      "cell_type": "code",
      "source": [
        "data_stemmed.head(1)"
      ],
      "metadata": {
        "id": "58pevcy7sHcl",
        "outputId": "8a02f2c5-3e00-4004-bbc0-29155f3fdc10",
        "colab": {
          "base_uri": "https://localhost:8080/",
          "height": 81
        }
      },
      "id": "58pevcy7sHcl",
      "execution_count": 14,
      "outputs": [
        {
          "output_type": "execute_result",
          "data": {
            "text/plain": [
              "                                        stemmed_text\n",
              "0  car wonder enlighten car saw dai door sport ca..."
            ],
            "text/html": [
              "\n",
              "  <div id=\"df-28f43d04-7945-434f-b8c0-f04295136396\">\n",
              "    <div class=\"colab-df-container\">\n",
              "      <div>\n",
              "<style scoped>\n",
              "    .dataframe tbody tr th:only-of-type {\n",
              "        vertical-align: middle;\n",
              "    }\n",
              "\n",
              "    .dataframe tbody tr th {\n",
              "        vertical-align: top;\n",
              "    }\n",
              "\n",
              "    .dataframe thead th {\n",
              "        text-align: right;\n",
              "    }\n",
              "</style>\n",
              "<table border=\"1\" class=\"dataframe\">\n",
              "  <thead>\n",
              "    <tr style=\"text-align: right;\">\n",
              "      <th></th>\n",
              "      <th>stemmed_text</th>\n",
              "    </tr>\n",
              "  </thead>\n",
              "  <tbody>\n",
              "    <tr>\n",
              "      <th>0</th>\n",
              "      <td>car wonder enlighten car saw dai door sport ca...</td>\n",
              "    </tr>\n",
              "  </tbody>\n",
              "</table>\n",
              "</div>\n",
              "      <button class=\"colab-df-convert\" onclick=\"convertToInteractive('df-28f43d04-7945-434f-b8c0-f04295136396')\"\n",
              "              title=\"Convert this dataframe to an interactive table.\"\n",
              "              style=\"display:none;\">\n",
              "        \n",
              "  <svg xmlns=\"http://www.w3.org/2000/svg\" height=\"24px\"viewBox=\"0 0 24 24\"\n",
              "       width=\"24px\">\n",
              "    <path d=\"M0 0h24v24H0V0z\" fill=\"none\"/>\n",
              "    <path d=\"M18.56 5.44l.94 2.06.94-2.06 2.06-.94-2.06-.94-.94-2.06-.94 2.06-2.06.94zm-11 1L8.5 8.5l.94-2.06 2.06-.94-2.06-.94L8.5 2.5l-.94 2.06-2.06.94zm10 10l.94 2.06.94-2.06 2.06-.94-2.06-.94-.94-2.06-.94 2.06-2.06.94z\"/><path d=\"M17.41 7.96l-1.37-1.37c-.4-.4-.92-.59-1.43-.59-.52 0-1.04.2-1.43.59L10.3 9.45l-7.72 7.72c-.78.78-.78 2.05 0 2.83L4 21.41c.39.39.9.59 1.41.59.51 0 1.02-.2 1.41-.59l7.78-7.78 2.81-2.81c.8-.78.8-2.07 0-2.86zM5.41 20L4 18.59l7.72-7.72 1.47 1.35L5.41 20z\"/>\n",
              "  </svg>\n",
              "      </button>\n",
              "      \n",
              "  <style>\n",
              "    .colab-df-container {\n",
              "      display:flex;\n",
              "      flex-wrap:wrap;\n",
              "      gap: 12px;\n",
              "    }\n",
              "\n",
              "    .colab-df-convert {\n",
              "      background-color: #E8F0FE;\n",
              "      border: none;\n",
              "      border-radius: 50%;\n",
              "      cursor: pointer;\n",
              "      display: none;\n",
              "      fill: #1967D2;\n",
              "      height: 32px;\n",
              "      padding: 0 0 0 0;\n",
              "      width: 32px;\n",
              "    }\n",
              "\n",
              "    .colab-df-convert:hover {\n",
              "      background-color: #E2EBFA;\n",
              "      box-shadow: 0px 1px 2px rgba(60, 64, 67, 0.3), 0px 1px 3px 1px rgba(60, 64, 67, 0.15);\n",
              "      fill: #174EA6;\n",
              "    }\n",
              "\n",
              "    [theme=dark] .colab-df-convert {\n",
              "      background-color: #3B4455;\n",
              "      fill: #D2E3FC;\n",
              "    }\n",
              "\n",
              "    [theme=dark] .colab-df-convert:hover {\n",
              "      background-color: #434B5C;\n",
              "      box-shadow: 0px 1px 3px 1px rgba(0, 0, 0, 0.15);\n",
              "      filter: drop-shadow(0px 1px 2px rgba(0, 0, 0, 0.3));\n",
              "      fill: #FFFFFF;\n",
              "    }\n",
              "  </style>\n",
              "\n",
              "      <script>\n",
              "        const buttonEl =\n",
              "          document.querySelector('#df-28f43d04-7945-434f-b8c0-f04295136396 button.colab-df-convert');\n",
              "        buttonEl.style.display =\n",
              "          google.colab.kernel.accessAllowed ? 'block' : 'none';\n",
              "\n",
              "        async function convertToInteractive(key) {\n",
              "          const element = document.querySelector('#df-28f43d04-7945-434f-b8c0-f04295136396');\n",
              "          const dataTable =\n",
              "            await google.colab.kernel.invokeFunction('convertToInteractive',\n",
              "                                                     [key], {});\n",
              "          if (!dataTable) return;\n",
              "\n",
              "          const docLinkHtml = 'Like what you see? Visit the ' +\n",
              "            '<a target=\"_blank\" href=https://colab.research.google.com/notebooks/data_table.ipynb>data table notebook</a>'\n",
              "            + ' to learn more about interactive tables.';\n",
              "          element.innerHTML = '';\n",
              "          dataTable['output_type'] = 'display_data';\n",
              "          await google.colab.output.renderOutput(dataTable, element);\n",
              "          const docLink = document.createElement('div');\n",
              "          docLink.innerHTML = docLinkHtml;\n",
              "          element.appendChild(docLink);\n",
              "        }\n",
              "      </script>\n",
              "    </div>\n",
              "  </div>\n",
              "  "
            ]
          },
          "metadata": {},
          "execution_count": 14
        }
      ]
    },
    {
      "cell_type": "markdown",
      "source": [
        "## Bag-of-words (sklearn)\n",
        "a) Apply the following transformations to the stemmed data using the\n",
        "fit_transform() function. What is each of them doing? What are the pros and\n",
        "cons of each approach?\n",
        "- CountVectorizer(max_df=0.95, min_df=0.05)\n",
        "- TfidfVectorizer(max_df=0.95, min_df=0.05,use_idf=False, norm='l1')\n",
        "- TfidfVectorizer(max_df=0.95, min_df=0.05, smooth_idf=False)"
      ],
      "metadata": {
        "id": "LT8RLS0Ts0tN"
      },
      "id": "LT8RLS0Ts0tN"
    },
    {
      "cell_type": "code",
      "source": [
        "abs_vectorizer = CountVectorizer(max_df=0.95, min_df=0.05)\n",
        "rel_vectorizer = TfidfVectorizer(max_df=0.95, min_df=0.05, use_idf=False, norm='l1') # use-idf: Enable inverse-document-frequency reweighting; norm: Each output row will have unit norm (l1 = Sum of absolute values of vector elements is 1.)\n",
        "idf_vectorizer = TfidfVectorizer(max_df=0.95, min_df=0.05, smooth_idf=False) # smooth_idf: Smooth idf weights by adding one to document frequencies (Prevents zero divisions) -> not regularized"
      ],
      "metadata": {
        "id": "tdQWf7sXtS_T"
      },
      "id": "tdQWf7sXtS_T",
      "execution_count": 15,
      "outputs": []
    },
    {
      "cell_type": "code",
      "source": [
        "abs_fre = abs_vectorizer.fit_transform(data_stemmed[\"stemmed_text\"])\n",
        "abs_fre.toarray()"
      ],
      "metadata": {
        "id": "VkshLrdRu1gE",
        "outputId": "448bb035-65e5-41f2-8957-d682e964b70f",
        "colab": {
          "base_uri": "https://localhost:8080/"
        }
      },
      "id": "VkshLrdRu1gE",
      "execution_count": 24,
      "outputs": [
        {
          "output_type": "execute_result",
          "data": {
            "text/plain": [
              "array([[0, 0, 0, ..., 0, 0, 1],\n",
              "       [0, 0, 0, ..., 0, 0, 0],\n",
              "       [0, 0, 1, ..., 0, 0, 0],\n",
              "       ...,\n",
              "       [0, 0, 0, ..., 0, 0, 0],\n",
              "       [0, 0, 0, ..., 0, 0, 0],\n",
              "       [0, 0, 0, ..., 0, 0, 0]])"
            ]
          },
          "metadata": {},
          "execution_count": 24
        }
      ]
    },
    {
      "cell_type": "code",
      "source": [
        "rel_fre = rel_vectorizer.fit_transform(data_stemmed[\"stemmed_text\"])\n",
        "rel_fre.toarray()"
      ],
      "metadata": {
        "id": "60hOV292vNKT",
        "outputId": "91eeb7ca-3dc2-43ed-b9bc-3a2126f1c27d",
        "colab": {
          "base_uri": "https://localhost:8080/"
        }
      },
      "id": "60hOV292vNKT",
      "execution_count": 25,
      "outputs": [
        {
          "output_type": "execute_result",
          "data": {
            "text/plain": [
              "array([[0.        , 0.        , 0.        , ..., 0.        , 0.        ,\n",
              "        0.05882353],\n",
              "       [0.        , 0.        , 0.        , ..., 0.        , 0.        ,\n",
              "        0.        ],\n",
              "       [0.        , 0.        , 0.01666667, ..., 0.        , 0.        ,\n",
              "        0.        ],\n",
              "       ...,\n",
              "       [0.        , 0.        , 0.        , ..., 0.        , 0.        ,\n",
              "        0.        ],\n",
              "       [0.        , 0.        , 0.        , ..., 0.        , 0.        ,\n",
              "        0.        ],\n",
              "       [0.        , 0.        , 0.        , ..., 0.        , 0.        ,\n",
              "        0.        ]])"
            ]
          },
          "metadata": {},
          "execution_count": 25
        }
      ]
    },
    {
      "cell_type": "code",
      "source": [
        "idf_fre = idf_vectorizer.fit_transform(data_stemmed[\"stemmed_text\"])\n",
        "idf_fre.toarray()"
      ],
      "metadata": {
        "id": "xrZf9Yy-vs4M",
        "outputId": "7c59b52e-ce10-4ad8-bab6-a9133fd2f8d4",
        "colab": {
          "base_uri": "https://localhost:8080/"
        }
      },
      "id": "xrZf9Yy-vs4M",
      "execution_count": 26,
      "outputs": [
        {
          "output_type": "execute_result",
          "data": {
            "text/plain": [
              "array([[0.        , 0.        , 0.        , ..., 0.        , 0.        ,\n",
              "        0.12166272],\n",
              "       [0.        , 0.        , 0.        , ..., 0.        , 0.        ,\n",
              "        0.        ],\n",
              "       [0.        , 0.        , 0.11514646, ..., 0.        , 0.        ,\n",
              "        0.        ],\n",
              "       ...,\n",
              "       [0.        , 0.        , 0.        , ..., 0.        , 0.        ,\n",
              "        0.        ],\n",
              "       [0.        , 0.        , 0.        , ..., 0.        , 0.        ,\n",
              "        0.        ],\n",
              "       [0.        , 0.        , 0.        , ..., 0.        , 0.        ,\n",
              "        0.        ]])"
            ]
          },
          "metadata": {},
          "execution_count": 26
        }
      ]
    },
    {
      "cell_type": "markdown",
      "source": [
        "How many features are left in the dictionary in iii. and what are their names\n",
        "(Hint: Use get_feature_names())? Do the features make sense? Are they\n",
        "different to those in i. and ii.? What happens if you change max_df and min_df?"
      ],
      "metadata": {
        "id": "Coz4SGyavx-m"
      },
      "id": "Coz4SGyavx-m"
    },
    {
      "cell_type": "code",
      "source": [
        "len(idf_vectorizer.get_feature_names_out())"
      ],
      "metadata": {
        "id": "DZdiqjDMwD5o",
        "outputId": "9ac33f0c-3133-4ff9-91d7-3e38ed73753a",
        "colab": {
          "base_uri": "https://localhost:8080/"
        }
      },
      "id": "DZdiqjDMwD5o",
      "execution_count": 29,
      "outputs": [
        {
          "output_type": "execute_result",
          "data": {
            "text/plain": [
              "246"
            ]
          },
          "metadata": {},
          "execution_count": 29
        }
      ]
    },
    {
      "cell_type": "markdown",
      "source": [
        "Apply Binarizer() to the result from a. i. using again fit_transform(). What does\n",
        "the result stand for? What are its pros and cons?"
      ],
      "metadata": {
        "id": "ACNd1dfJwPSO"
      },
      "id": "ACNd1dfJwPSO"
    },
    {
      "cell_type": "code",
      "source": [
        "binar = Binarizer()\n",
        "abs_bin = binar.fit_transform(abs_fre)\n",
        "print(abs_fre.toarray().shape)\n",
        "print(abs_bin.toarray().shape) # no change, since it is already the absolute frequency (1 or 0)"
      ],
      "metadata": {
        "id": "VBnoJchhwZxI",
        "outputId": "5402f45e-6e2d-4538-8f9e-9ef3ce73c4e4",
        "colab": {
          "base_uri": "https://localhost:8080/"
        }
      },
      "id": "VBnoJchhwZxI",
      "execution_count": 33,
      "outputs": [
        {
          "output_type": "stream",
          "name": "stdout",
          "text": [
            "(11314, 246)\n",
            "(11314, 246)\n"
          ]
        }
      ]
    },
    {
      "cell_type": "code",
      "source": [
        ""
      ],
      "metadata": {
        "id": "r8NWJ9_YwrZ9"
      },
      "id": "r8NWJ9_YwrZ9",
      "execution_count": null,
      "outputs": []
    }
  ],
  "metadata": {
    "kernelspec": {
      "display_name": "Python 3 (ipykernel)",
      "language": "python",
      "name": "python3"
    },
    "language_info": {
      "codemirror_mode": {
        "name": "ipython",
        "version": 3
      },
      "file_extension": ".py",
      "mimetype": "text/x-python",
      "name": "python",
      "nbconvert_exporter": "python",
      "pygments_lexer": "ipython3",
      "version": "3.8.6"
    },
    "toc": {
      "base_numbering": 1,
      "nav_menu": {},
      "number_sections": true,
      "sideBar": true,
      "skip_h1_title": false,
      "title_cell": "Table of Contents",
      "title_sidebar": "Contents",
      "toc_cell": false,
      "toc_position": {},
      "toc_section_display": true,
      "toc_window_display": false
    },
    "colab": {
      "name": "PH_3_Representation_1.ipynb",
      "provenance": [],
      "toc_visible": true
    }
  },
  "nbformat": 4,
  "nbformat_minor": 5
}