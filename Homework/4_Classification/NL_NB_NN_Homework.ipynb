{
  "nbformat": 4,
  "nbformat_minor": 0,
  "metadata": {
    "colab": {
      "name": "NL_NB_NN_Homework.ipynb",
      "provenance": [],
      "authorship_tag": "ABX9TyO5HDy7qdYZkLGx/Ix1cYgf",
      "include_colab_link": true
    },
    "kernelspec": {
      "name": "python3",
      "display_name": "Python 3"
    },
    "language_info": {
      "name": "python"
    }
  },
  "cells": [
    {
      "cell_type": "markdown",
      "metadata": {
        "id": "view-in-github",
        "colab_type": "text"
      },
      "source": [
        "<a href=\"https://colab.research.google.com/github/Heity94/TWSM_Lab/blob/main/Homework/4_Classification/NL_NB_NN_Homework.ipynb\" target=\"_parent\"><img src=\"https://colab.research.google.com/assets/colab-badge.svg\" alt=\"Open In Colab\"/></a>"
      ]
    },
    {
      "cell_type": "code",
      "execution_count": 331,
      "metadata": {
        "id": "V1OvfxF4fbaN"
      },
      "outputs": [],
      "source": [
        "import numpy as np\n",
        "import pandas as pd\n",
        "from sklearn.feature_extraction.text import CountVectorizer, TfidfVectorizer\n",
        "from tensorflow import keras\n",
        "from tensorflow.keras import layers\n",
        "from tensorflow.keras import Sequential, layers\n",
        "from tensorflow.keras.callbacks import EarlyStopping\n",
        "from tensorflow.keras.utils import to_categorical\n",
        "from sklearn.naive_bayes import MultinomialNB\n",
        "import pickle\n",
        "from sklearn.model_selection import train_test_split\n",
        "from sklearn.metrics import accuracy_score, classification_report"
      ]
    },
    {
      "cell_type": "code",
      "source": [
        "from google.colab import drive\n",
        "drive.mount('/content/drive')"
      ],
      "metadata": {
        "colab": {
          "base_uri": "https://localhost:8080/"
        },
        "id": "mC7JRaAyhk6x",
        "outputId": "a8b4489a-53e4-455d-83c2-a86ce744f1bb"
      },
      "execution_count": 295,
      "outputs": [
        {
          "output_type": "stream",
          "name": "stdout",
          "text": [
            "Drive already mounted at /content/drive; to attempt to forcibly remount, call drive.mount(\"/content/drive\", force_remount=True).\n"
          ]
        }
      ]
    },
    {
      "cell_type": "code",
      "source": [
        "#load pkl files\n",
        "with open('/content/drive/MyDrive/Colab Notebooks/data_stemmed.pkl', 'rb') as f:\n",
        "  data_stemmed = pickle.load(f)\n",
        "data_stemmed = pd.DataFrame(data_stemmed,columns=['stemmed_text'])"
      ],
      "metadata": {
        "id": "VPseUy3shBCK"
      },
      "execution_count": 296,
      "outputs": []
    },
    {
      "cell_type": "code",
      "source": [
        "with open('/content/drive/MyDrive/Colab Notebooks/data_lemma.pkl', 'rb') as f:\n",
        "    data_lemma = pickle.load(f)\n",
        "data_lemma = pd.DataFrame(data_lemma, columns=[\"lemma_text\"])"
      ],
      "metadata": {
        "id": "uJKYDtb7iPaw"
      },
      "execution_count": 297,
      "outputs": []
    },
    {
      "cell_type": "code",
      "source": [
        "# Import dataset and create y data\n",
        "df = pd.read_json('https://raw.githubusercontent.com/selva86/datasets/master/newsgroups.json')\n",
        "df_stemmed = (pd.concat([data_stemmed, df], axis=1)).drop(columns=['content'])\n",
        "df_lemma = pd.concat([data_lemma, df], axis=1).drop(columns=['content'])"
      ],
      "metadata": {
        "id": "ROLSoLYrmUAv"
      },
      "execution_count": 298,
      "outputs": []
    },
    {
      "cell_type": "code",
      "source": [
        "df_lemma.head()"
      ],
      "metadata": {
        "colab": {
          "base_uri": "https://localhost:8080/",
          "height": 206
        },
        "id": "VNrffeI4xmIW",
        "outputId": "1ad540d2-97b6-4ed2-d282-4e2dd022aa9e"
      },
      "execution_count": 299,
      "outputs": [
        {
          "output_type": "execute_result",
          "data": {
            "text/plain": [
              "                                          lemma_text  target  \\\n",
              "0  car wonder enlighten car see day door sport ca...       7   \n",
              "1  clock poll final final clock report accelerati...       4   \n",
              "2  question folk mac plus finally give ghost week...       4   \n",
              "3  weitek nntp post host amber ssd csd harris com...       1   \n",
              "4  shuttle launch question article cowcb world st...      14   \n",
              "\n",
              "            target_names  \n",
              "0              rec.autos  \n",
              "1  comp.sys.mac.hardware  \n",
              "2  comp.sys.mac.hardware  \n",
              "3          comp.graphics  \n",
              "4              sci.space  "
            ],
            "text/html": [
              "\n",
              "  <div id=\"df-4fb7c5ca-91f5-4612-8289-64549bf462ef\">\n",
              "    <div class=\"colab-df-container\">\n",
              "      <div>\n",
              "<style scoped>\n",
              "    .dataframe tbody tr th:only-of-type {\n",
              "        vertical-align: middle;\n",
              "    }\n",
              "\n",
              "    .dataframe tbody tr th {\n",
              "        vertical-align: top;\n",
              "    }\n",
              "\n",
              "    .dataframe thead th {\n",
              "        text-align: right;\n",
              "    }\n",
              "</style>\n",
              "<table border=\"1\" class=\"dataframe\">\n",
              "  <thead>\n",
              "    <tr style=\"text-align: right;\">\n",
              "      <th></th>\n",
              "      <th>lemma_text</th>\n",
              "      <th>target</th>\n",
              "      <th>target_names</th>\n",
              "    </tr>\n",
              "  </thead>\n",
              "  <tbody>\n",
              "    <tr>\n",
              "      <th>0</th>\n",
              "      <td>car wonder enlighten car see day door sport ca...</td>\n",
              "      <td>7</td>\n",
              "      <td>rec.autos</td>\n",
              "    </tr>\n",
              "    <tr>\n",
              "      <th>1</th>\n",
              "      <td>clock poll final final clock report accelerati...</td>\n",
              "      <td>4</td>\n",
              "      <td>comp.sys.mac.hardware</td>\n",
              "    </tr>\n",
              "    <tr>\n",
              "      <th>2</th>\n",
              "      <td>question folk mac plus finally give ghost week...</td>\n",
              "      <td>4</td>\n",
              "      <td>comp.sys.mac.hardware</td>\n",
              "    </tr>\n",
              "    <tr>\n",
              "      <th>3</th>\n",
              "      <td>weitek nntp post host amber ssd csd harris com...</td>\n",
              "      <td>1</td>\n",
              "      <td>comp.graphics</td>\n",
              "    </tr>\n",
              "    <tr>\n",
              "      <th>4</th>\n",
              "      <td>shuttle launch question article cowcb world st...</td>\n",
              "      <td>14</td>\n",
              "      <td>sci.space</td>\n",
              "    </tr>\n",
              "  </tbody>\n",
              "</table>\n",
              "</div>\n",
              "      <button class=\"colab-df-convert\" onclick=\"convertToInteractive('df-4fb7c5ca-91f5-4612-8289-64549bf462ef')\"\n",
              "              title=\"Convert this dataframe to an interactive table.\"\n",
              "              style=\"display:none;\">\n",
              "        \n",
              "  <svg xmlns=\"http://www.w3.org/2000/svg\" height=\"24px\"viewBox=\"0 0 24 24\"\n",
              "       width=\"24px\">\n",
              "    <path d=\"M0 0h24v24H0V0z\" fill=\"none\"/>\n",
              "    <path d=\"M18.56 5.44l.94 2.06.94-2.06 2.06-.94-2.06-.94-.94-2.06-.94 2.06-2.06.94zm-11 1L8.5 8.5l.94-2.06 2.06-.94-2.06-.94L8.5 2.5l-.94 2.06-2.06.94zm10 10l.94 2.06.94-2.06 2.06-.94-2.06-.94-.94-2.06-.94 2.06-2.06.94z\"/><path d=\"M17.41 7.96l-1.37-1.37c-.4-.4-.92-.59-1.43-.59-.52 0-1.04.2-1.43.59L10.3 9.45l-7.72 7.72c-.78.78-.78 2.05 0 2.83L4 21.41c.39.39.9.59 1.41.59.51 0 1.02-.2 1.41-.59l7.78-7.78 2.81-2.81c.8-.78.8-2.07 0-2.86zM5.41 20L4 18.59l7.72-7.72 1.47 1.35L5.41 20z\"/>\n",
              "  </svg>\n",
              "      </button>\n",
              "      \n",
              "  <style>\n",
              "    .colab-df-container {\n",
              "      display:flex;\n",
              "      flex-wrap:wrap;\n",
              "      gap: 12px;\n",
              "    }\n",
              "\n",
              "    .colab-df-convert {\n",
              "      background-color: #E8F0FE;\n",
              "      border: none;\n",
              "      border-radius: 50%;\n",
              "      cursor: pointer;\n",
              "      display: none;\n",
              "      fill: #1967D2;\n",
              "      height: 32px;\n",
              "      padding: 0 0 0 0;\n",
              "      width: 32px;\n",
              "    }\n",
              "\n",
              "    .colab-df-convert:hover {\n",
              "      background-color: #E2EBFA;\n",
              "      box-shadow: 0px 1px 2px rgba(60, 64, 67, 0.3), 0px 1px 3px 1px rgba(60, 64, 67, 0.15);\n",
              "      fill: #174EA6;\n",
              "    }\n",
              "\n",
              "    [theme=dark] .colab-df-convert {\n",
              "      background-color: #3B4455;\n",
              "      fill: #D2E3FC;\n",
              "    }\n",
              "\n",
              "    [theme=dark] .colab-df-convert:hover {\n",
              "      background-color: #434B5C;\n",
              "      box-shadow: 0px 1px 3px 1px rgba(0, 0, 0, 0.15);\n",
              "      filter: drop-shadow(0px 1px 2px rgba(0, 0, 0, 0.3));\n",
              "      fill: #FFFFFF;\n",
              "    }\n",
              "  </style>\n",
              "\n",
              "      <script>\n",
              "        const buttonEl =\n",
              "          document.querySelector('#df-4fb7c5ca-91f5-4612-8289-64549bf462ef button.colab-df-convert');\n",
              "        buttonEl.style.display =\n",
              "          google.colab.kernel.accessAllowed ? 'block' : 'none';\n",
              "\n",
              "        async function convertToInteractive(key) {\n",
              "          const element = document.querySelector('#df-4fb7c5ca-91f5-4612-8289-64549bf462ef');\n",
              "          const dataTable =\n",
              "            await google.colab.kernel.invokeFunction('convertToInteractive',\n",
              "                                                     [key], {});\n",
              "          if (!dataTable) return;\n",
              "\n",
              "          const docLinkHtml = 'Like what you see? Visit the ' +\n",
              "            '<a target=\"_blank\" href=https://colab.research.google.com/notebooks/data_table.ipynb>data table notebook</a>'\n",
              "            + ' to learn more about interactive tables.';\n",
              "          element.innerHTML = '';\n",
              "          dataTable['output_type'] = 'display_data';\n",
              "          await google.colab.output.renderOutput(dataTable, element);\n",
              "          const docLink = document.createElement('div');\n",
              "          docLink.innerHTML = docLinkHtml;\n",
              "          element.appendChild(docLink);\n",
              "        }\n",
              "      </script>\n",
              "    </div>\n",
              "  </div>\n",
              "  "
            ]
          },
          "metadata": {},
          "execution_count": 299
        }
      ]
    },
    {
      "cell_type": "code",
      "source": [
        "#split train test for stemmed data\n",
        "y_stemmed = np.asarray(df_stemmed['target']).astype(\"float32\")\n",
        "x_stemmed = df_stemmed[['stemmed_text']]\n",
        "X_stemmed_train, X_stemmed_test, y_stemmed_train, y_stemmed_test = train_test_split(x_stemmed, y_stemmed, test_size=0.1)\n",
        "\n",
        "y_lemma = np.asarray(df_lemma['target']).astype(\"float32\")\n",
        "x_lemma = df_lemma[['lemma_text']]\n",
        "X_lemma_train, X_lemma_test, y_lemma_train, y_lemma_test = train_test_split(x_lemma, y_lemma, test_size=0.1)"
      ],
      "metadata": {
        "id": "PCrCgIQLv50a"
      },
      "execution_count": 300,
      "outputs": []
    },
    {
      "cell_type": "code",
      "source": [
        "\n",
        "vec_abs= CountVectorizer(max_df=0.95, min_df=0.01) #Absolute frequency\n",
        "vec_rel = TfidfVectorizer(max_df=0.95, min_df=0.01, use_idf=False, norm='l1') # Relative frequency\n",
        "vec_tf = TfidfVectorizer(max_df=0.95, min_df=0.01, smooth_idf=False) #Tf-IDF frequency\n"
      ],
      "metadata": {
        "id": "ZdmvG2UrAsxZ"
      },
      "execution_count": 301,
      "outputs": []
    },
    {
      "cell_type": "markdown",
      "source": [
        "**Naive Bayes** \n",
        "\n",
        "---\n",
        "\n"
      ],
      "metadata": {
        "id": "APYf2Ksa8O0T"
      }
    },
    {
      "cell_type": "markdown",
      "source": [
        "**Absolute frequency of Stemmed data**"
      ],
      "metadata": {
        "id": "Gw9hioKoA9xe"
      }
    },
    {
      "cell_type": "code",
      "source": [
        "#Stemmed data\n",
        "X_stemmed_train_abs = vec_abs.fit_transform(X_stemmed_train[\"stemmed_text\"]).toarray()\n",
        "X_stemmed_test_abs = vec_abs.transform(X_stemmed_test[\"stemmed_text\"]).toarray()\n",
        "clf_nb = MultinomialNB()\n",
        "clf_nb.fit(X_stemmed_train_abs, y_stemmed_train)\n"
      ],
      "metadata": {
        "colab": {
          "base_uri": "https://localhost:8080/"
        },
        "id": "q6uCnPQaA_dC",
        "outputId": "e8e714e0-5e96-4203-a848-6a72fb67dab8"
      },
      "execution_count": 308,
      "outputs": [
        {
          "output_type": "execute_result",
          "data": {
            "text/plain": [
              "MultinomialNB()"
            ]
          },
          "metadata": {},
          "execution_count": 308
        }
      ]
    },
    {
      "cell_type": "code",
      "source": [
        "# Predict the Test set results, determine accuracy\n",
        "y_pred_s = clf_nb_s.predict(X_stemmed_test_abs)\n",
        "print('Train accuracy: ', clf_nb.score(X_stemmed_train_abs, y_stemmed_train))\n",
        "print('Test accuracy: ', accuracy_score(y_pred_s, y_stemmed_test))"
      ],
      "metadata": {
        "colab": {
          "base_uri": "https://localhost:8080/"
        },
        "id": "JqMoMoNDGgKv",
        "outputId": "6226d6c1-b3dd-43e6-dd5d-7e7984bdfe77"
      },
      "execution_count": 309,
      "outputs": [
        {
          "output_type": "stream",
          "name": "stdout",
          "text": [
            "Train accuracy:  0.8463956000785701\n",
            "Test accuracy:  0.7765017667844523\n"
          ]
        }
      ]
    },
    {
      "cell_type": "markdown",
      "source": [
        "**Absolute frequency of lemmatized data**"
      ],
      "metadata": {
        "id": "5NQ9hDKpIhUB"
      }
    },
    {
      "cell_type": "code",
      "source": [
        "#Stemmed data\n",
        "X_lemma_train_abs = vec_abs.fit_transform(X_lemma_train[\"lemma_text\"]).toarray()\n",
        "X_lemma_test_abs = vec_abs.transform(X_lemma_test[\"lemma_text\"]).toarray()\n",
        "clf_nb = MultinomialNB()\n",
        "clf_nb.fit(X_lemma_train_abs, y_lemma_train)"
      ],
      "metadata": {
        "colab": {
          "base_uri": "https://localhost:8080/"
        },
        "id": "AeAQmLN3HaHD",
        "outputId": "121e93a8-d3de-4e76-f0f6-862a5364617c"
      },
      "execution_count": 313,
      "outputs": [
        {
          "output_type": "execute_result",
          "data": {
            "text/plain": [
              "MultinomialNB()"
            ]
          },
          "metadata": {},
          "execution_count": 313
        }
      ]
    },
    {
      "cell_type": "code",
      "source": [
        "y_pred_l = clf_nb.predict(X_lemma_test_abs)\n",
        "print('Train accuracy: ', clf_nb.score(X_lemma_train_abs, y_lemma_train))\n",
        "print('Test accuracy: ', accuracy_score(y_pred_l, y_lemma_test))"
      ],
      "metadata": {
        "colab": {
          "base_uri": "https://localhost:8080/"
        },
        "id": "kdi8xsZHIwOz",
        "outputId": "27631416-f1be-49c8-d308-9a335da06176"
      },
      "execution_count": 314,
      "outputs": [
        {
          "output_type": "stream",
          "name": "stdout",
          "text": [
            "Train accuracy:  0.8379493223335298\n",
            "Test accuracy:  0.7826855123674912\n"
          ]
        }
      ]
    },
    {
      "cell_type": "markdown",
      "source": [
        "**Relative frequency of stemmed data**"
      ],
      "metadata": {
        "id": "BrIePrHla4UZ"
      }
    },
    {
      "cell_type": "code",
      "source": [
        "#Stemmed data\n",
        "X_stemmed_train_rel = vec_rel.fit_transform(X_stemmed_train[\"stemmed_text\"]).toarray()\n",
        "X_stemmed_test_rel = vec_rel.transform(X_stemmed_test[\"stemmed_text\"]).toarray()\n",
        "clf_nb = MultinomialNB()\n",
        "clf_nb.fit(X_stemmed_train_rel, y_stemmed_train)\n"
      ],
      "metadata": {
        "colab": {
          "base_uri": "https://localhost:8080/"
        },
        "id": "pKwiPaKwa6ri",
        "outputId": "29bd5a8f-2062-49a6-879e-72a9c823d015"
      },
      "execution_count": 315,
      "outputs": [
        {
          "output_type": "execute_result",
          "data": {
            "text/plain": [
              "MultinomialNB()"
            ]
          },
          "metadata": {},
          "execution_count": 315
        }
      ]
    },
    {
      "cell_type": "code",
      "source": [
        "# Predict the Test set results, determine accuracy\n",
        "y_pred_s = clf_nb.predict(X_stemmed_test_rel)\n",
        "print('Train accuracy: ', clf_nb.score(X_stemmed_train_rel, y_stemmed_train))\n",
        "print('Test accuracy: ', accuracy_score(y_pred_s, y_stemmed_test))"
      ],
      "metadata": {
        "colab": {
          "base_uri": "https://localhost:8080/"
        },
        "id": "_GeJh3X9bFj_",
        "outputId": "451c7712-10e9-4377-ef11-f22ff1f0d096"
      },
      "execution_count": 316,
      "outputs": [
        {
          "output_type": "stream",
          "name": "stdout",
          "text": [
            "Train accuracy:  0.7308976625417404\n",
            "Test accuracy:  0.6899293286219081\n"
          ]
        }
      ]
    },
    {
      "cell_type": "markdown",
      "source": [
        "**Relative frequency of lemmatized data**"
      ],
      "metadata": {
        "id": "n3cbtOvNbSn-"
      }
    },
    {
      "cell_type": "code",
      "source": [
        "#Lemma data\n",
        "X_lemma_train_rel = vec_rel.fit_transform(X_lemma_train[\"lemma_text\"]).toarray()\n",
        "X_lemma_test_rel = vec_rel.transform(X_lemma_test[\"lemma_text\"]).toarray()\n",
        "clf_nb = MultinomialNB()\n",
        "clf_nb.fit(X_lemma_train_rel, y_lemma_train)\n"
      ],
      "metadata": {
        "colab": {
          "base_uri": "https://localhost:8080/"
        },
        "id": "0xJyiIgXbWm-",
        "outputId": "4b2927a1-f679-464f-f8b6-aa0f477d9056"
      },
      "execution_count": 317,
      "outputs": [
        {
          "output_type": "execute_result",
          "data": {
            "text/plain": [
              "MultinomialNB()"
            ]
          },
          "metadata": {},
          "execution_count": 317
        }
      ]
    },
    {
      "cell_type": "code",
      "source": [
        "# Predict the Test set results, determine accuracy\n",
        "y_pred_l = clf_nb.predict(X_lemma_test_rel)\n",
        "print('Train accuracy: ', clf_nb.score(X_lemma_train_rel, y_lemma_train))\n",
        "print('Test accuracy: ', accuracy_score(y_pred_l, y_lemma_test))"
      ],
      "metadata": {
        "colab": {
          "base_uri": "https://localhost:8080/"
        },
        "id": "KeqVSzs_bm_O",
        "outputId": "b7f0356d-7c36-490d-c7a8-69cafc80497a"
      },
      "execution_count": 318,
      "outputs": [
        {
          "output_type": "stream",
          "name": "stdout",
          "text": [
            "Train accuracy:  0.7255941858181104\n",
            "Test accuracy:  0.6749116607773852\n"
          ]
        }
      ]
    },
    {
      "cell_type": "markdown",
      "source": [
        "**TFIDF of stemmed data**"
      ],
      "metadata": {
        "id": "OHWjUzx0fXUu"
      }
    },
    {
      "cell_type": "code",
      "source": [
        "#Stemmed data\n",
        "X_stemmed_train_tf = vec_tf.fit_transform(X_stemmed_train[\"stemmed_text\"]).toarray()\n",
        "X_stemmed_test_tf = vec_tf.transform(X_stemmed_test[\"stemmed_text\"]).toarray()\n",
        "clf_nb = MultinomialNB()\n",
        "clf_nb.fit(X_stemmed_train_tf, y_stemmed_train)"
      ],
      "metadata": {
        "colab": {
          "base_uri": "https://localhost:8080/"
        },
        "id": "no1QZvBQfleY",
        "outputId": "f4f6311d-10fd-4553-ccc9-4b7cab604297"
      },
      "execution_count": 319,
      "outputs": [
        {
          "output_type": "execute_result",
          "data": {
            "text/plain": [
              "MultinomialNB()"
            ]
          },
          "metadata": {},
          "execution_count": 319
        }
      ]
    },
    {
      "cell_type": "code",
      "source": [
        "# Predict the Test set results, determine accuracy\n",
        "y_pred_s = clf_nb.predict(X_stemmed_test_tf)\n",
        "print('Train accuracy: ', clf_nb.score(X_stemmed_train_tf, y_stemmed_train))\n",
        "print('Test accuracy: ', accuracy_score(y_pred_s, y_stemmed_test))"
      ],
      "metadata": {
        "colab": {
          "base_uri": "https://localhost:8080/"
        },
        "id": "KAAZ5gzhfwfB",
        "outputId": "09b4c5e9-0de5-4fc5-ff53-612d18312be5"
      },
      "execution_count": 320,
      "outputs": [
        {
          "output_type": "stream",
          "name": "stdout",
          "text": [
            "Train accuracy:  0.865252406207032\n",
            "Test accuracy:  0.8118374558303887\n"
          ]
        }
      ]
    },
    {
      "cell_type": "markdown",
      "source": [
        "**TFIDF of lemmatized data**"
      ],
      "metadata": {
        "id": "6OVMkqpbf2zH"
      }
    },
    {
      "cell_type": "code",
      "source": [
        "#Lemma data\n",
        "X_lemma_train_tf = vec_tf.fit_transform(X_lemma_train[\"lemma_text\"]).toarray()\n",
        "X_lemma_test_tf = vec_tf.transform(X_lemma_test[\"lemma_text\"]).toarray()\n",
        "clf_nb = MultinomialNB()\n",
        "clf_nb.fit(X_lemma_train_tf, y_lemma_train)\n"
      ],
      "metadata": {
        "colab": {
          "base_uri": "https://localhost:8080/"
        },
        "id": "ysljMlUpf4ju",
        "outputId": "bd01d9a2-2864-468d-fb5f-baa5c7a27e25"
      },
      "execution_count": 321,
      "outputs": [
        {
          "output_type": "execute_result",
          "data": {
            "text/plain": [
              "MultinomialNB()"
            ]
          },
          "metadata": {},
          "execution_count": 321
        }
      ]
    },
    {
      "cell_type": "code",
      "source": [
        "# Predict the Test set results, determine accuracy\n",
        "y_pred_l = clf_nb.predict(X_lemma_test_tf)\n",
        "print('Train accuracy: ', clf_nb.score(X_lemma_train_tf, y_lemma_train))\n",
        "print('Test accuracy: ', accuracy_score(y_pred_l, y_lemma_test))"
      ],
      "metadata": {
        "colab": {
          "base_uri": "https://localhost:8080/"
        },
        "id": "6lxcEdHugBa2",
        "outputId": "6d89208a-e2d2-434d-a367-a1597ecb61a8"
      },
      "execution_count": 322,
      "outputs": [
        {
          "output_type": "stream",
          "name": "stdout",
          "text": [
            "Train accuracy:  0.8531722647809861\n",
            "Test accuracy:  0.7906360424028268\n"
          ]
        }
      ]
    },
    {
      "cell_type": "markdown",
      "source": [
        "**Neural Network** \n",
        "\n",
        "---\n",
        "\n"
      ],
      "metadata": {
        "id": "ZpB4fzB2gOq6"
      }
    },
    {
      "cell_type": "code",
      "source": [
        "np.unique(df_stemmed[[\"target\"]])\n",
        "#20 different target"
      ],
      "metadata": {
        "colab": {
          "base_uri": "https://localhost:8080/"
        },
        "id": "UAgxen1ggdsJ",
        "outputId": "d86fdff1-66dc-4f86-c41b-6e52fa8bca3d"
      },
      "execution_count": 324,
      "outputs": [
        {
          "output_type": "execute_result",
          "data": {
            "text/plain": [
              "array([ 0,  1,  2,  3,  4,  5,  6,  7,  8,  9, 10, 11, 12, 13, 14, 15, 16,\n",
              "       17, 18, 19])"
            ]
          },
          "metadata": {},
          "execution_count": 324
        }
      ]
    },
    {
      "cell_type": "code",
      "source": [
        "np.unique(df_lemma[[\"target\"]])"
      ],
      "metadata": {
        "colab": {
          "base_uri": "https://localhost:8080/"
        },
        "id": "DsCAYAo2pwcw",
        "outputId": "e1aaced2-38e0-4498-feeb-10873af5e8a0"
      },
      "execution_count": 339,
      "outputs": [
        {
          "output_type": "execute_result",
          "data": {
            "text/plain": [
              "array([ 0,  1,  2,  3,  4,  5,  6,  7,  8,  9, 10, 11, 12, 13, 14, 15, 16,\n",
              "       17, 18, 19])"
            ]
          },
          "metadata": {},
          "execution_count": 339
        }
      ]
    },
    {
      "cell_type": "markdown",
      "source": [
        "**Abs of stemmed data**"
      ],
      "metadata": {
        "id": "8GI0dcwToFTo"
      }
    },
    {
      "cell_type": "code",
      "source": [
        "#transfer to categorical datatype\n",
        "y_train_stemmed_cat = to_categorical(y_stemmed_train)\n",
        "y_test_stemmed_cat = to_categorical(y_stemmed_test)\n",
        "\n",
        "y_train_lemma_cat = to_categorical(y_lemma_train)\n",
        "y_test_lemma_cat = to_categorical(y_lemma_test)"
      ],
      "metadata": {
        "id": "u2QXP_2Bl8yQ"
      },
      "execution_count": 328,
      "outputs": []
    },
    {
      "cell_type": "code",
      "source": [
        "callback = EarlyStopping(monitor='loss', patience=20)\n",
        "# This callback will stop the training when there is no improvement in the loss for 20 consecutive epochs.\n",
        "model = keras.Sequential([\n",
        "    layers.Dense(60, activation=\"relu\"),\n",
        "    layers.Dense(30, activation=\"relu\"),\n",
        "    layers.Dense(20, activation=\"sigmoid\")\n",
        "])\n",
        "model.compile(loss='categorical_crossentropy', optimizer='adam', metrics=['accuracy'])\n",
        "history = model.fit(np.asarray(X_stemmed_train_abs).astype(\"float32\"), y_train_stemmed_cat, epochs=10, batch_size=1, callbacks=[callback], verbose=0)\n"
      ],
      "metadata": {
        "id": "_VcYF3b3kIJV"
      },
      "execution_count": 335,
      "outputs": []
    },
    {
      "cell_type": "code",
      "source": [
        "results = model.evaluate(np.asarray(X_stemmed_test_abs).astype(\"float32\"), y_test_stemmed_cat, verbose=0)\n",
        "print(results[1]) #accuracy"
      ],
      "metadata": {
        "colab": {
          "base_uri": "https://localhost:8080/"
        },
        "id": "8v-Ir2AwoTOI",
        "outputId": "87df9208-f45d-4fa0-fdcc-8a8947e21939"
      },
      "execution_count": 336,
      "outputs": [
        {
          "output_type": "stream",
          "name": "stdout",
          "text": [
            "0.7800353169441223\n"
          ]
        }
      ]
    },
    {
      "cell_type": "code",
      "source": [
        "history_dict = history.history\n",
        "history_dict.keys()\n"
      ],
      "metadata": {
        "colab": {
          "base_uri": "https://localhost:8080/"
        },
        "id": "cXFYYencnjg5",
        "outputId": "888c088d-1804-44ce-8aa8-85bfc2211dde"
      },
      "execution_count": 337,
      "outputs": [
        {
          "output_type": "execute_result",
          "data": {
            "text/plain": [
              "dict_keys(['loss', 'accuracy'])"
            ]
          },
          "metadata": {},
          "execution_count": 337
        }
      ]
    },
    {
      "cell_type": "code",
      "source": [
        "import matplotlib.pyplot as plt\n",
        "history_dict = history.history\n",
        "loss_values = history_dict[\"loss\"]\n",
        "#val_loss_values = history_dict[\"val_loss\"]\n",
        "epochs = range(1, len(loss_values) + 1)\n",
        "plt.plot(epochs, loss_values, \"bo\", label=\"Training loss\")\n",
        "#plt.plot(epochs, val_loss_values, \"b\", label=\"Validation loss\")\n",
        "plt.title(\"Training and validation loss\")\n",
        "plt.xlabel(\"Epochs\")\n",
        "plt.ylabel(\"Loss\")\n",
        "plt.legend()\n",
        "plt.show()"
      ],
      "metadata": {
        "colab": {
          "base_uri": "https://localhost:8080/",
          "height": 295
        },
        "id": "GhGm21D1noez",
        "outputId": "2e8e2888-0b24-4310-b722-53f45b4c6fca"
      },
      "execution_count": 338,
      "outputs": [
        {
          "output_type": "display_data",
          "data": {
            "text/plain": [
              "<Figure size 432x288 with 1 Axes>"
            ],
            "image/png": "[encoded data removed]"
          },
          "metadata": {
            "needs_background": "light"
          }
        }
      ]
    },
    {
      "cell_type": "markdown",
      "source": [
        "**Abs of lemma data**"
      ],
      "metadata": {
        "id": "ipPeDrFmoKu9"
      }
    },
    {
      "cell_type": "code",
      "source": [
        "callback = EarlyStopping(monitor='loss', patience=20)\n",
        "# This callback will stop the training when there is no improvement in the loss for 20 consecutive epochs.\n",
        "model = keras.Sequential([\n",
        "    layers.Dense(60, activation=\"relu\"),\n",
        "    layers.Dense(30, activation=\"relu\"),\n",
        "    layers.Dense(20, activation=\"sigmoid\")\n",
        "])\n",
        "model.compile(loss='categorical_crossentropy', optimizer='adam', metrics=['accuracy'])\n",
        "history = model.fit(np.asarray(X_lemma_train_abs).astype(\"float32\"), y_train_lemma_cat, epochs=10, batch_size=1, callbacks=[callback], verbose=0)\n"
      ],
      "metadata": {
        "id": "JmIcfbPNoUlo"
      },
      "execution_count": 340,
      "outputs": []
    },
    {
      "cell_type": "code",
      "source": [
        "results = model.evaluate(np.asarray(X_lemma_test_abs).astype(\"float32\"), y_test_lemma_cat, verbose=0)\n",
        "print(results[1]) #accuracy"
      ],
      "metadata": {
        "colab": {
          "base_uri": "https://localhost:8080/"
        },
        "id": "UWYJINwZp14K",
        "outputId": "30213452-4e8e-4c46-bf5b-090383a701e9"
      },
      "execution_count": 341,
      "outputs": [
        {
          "output_type": "stream",
          "name": "stdout",
          "text": [
            "0.7738515734672546\n"
          ]
        }
      ]
    },
    {
      "cell_type": "code",
      "source": [
        "history_dict = history.history\n",
        "history_dict.keys()"
      ],
      "metadata": {
        "colab": {
          "base_uri": "https://localhost:8080/"
        },
        "id": "QHNl5SPqp6Kj",
        "outputId": "630038f9-8833-4e34-b3c1-7574fb03c678"
      },
      "execution_count": 342,
      "outputs": [
        {
          "output_type": "execute_result",
          "data": {
            "text/plain": [
              "dict_keys(['loss', 'accuracy'])"
            ]
          },
          "metadata": {},
          "execution_count": 342
        }
      ]
    },
    {
      "cell_type": "code",
      "source": [
        "import matplotlib.pyplot as plt\n",
        "history_dict = history.history\n",
        "loss_values = history_dict[\"loss\"]\n",
        "#val_loss_values = history_dict[\"val_loss\"]\n",
        "epochs = range(1, len(loss_values) + 1)\n",
        "plt.plot(epochs, loss_values, \"bo\", label=\"Training loss\")\n",
        "#plt.plot(epochs, val_loss_values, \"b\", label=\"Validation loss\")\n",
        "plt.title(\"Training and validation loss\")\n",
        "plt.xlabel(\"Epochs\")\n",
        "plt.ylabel(\"Loss\")\n",
        "plt.legend()\n",
        "plt.show()"
      ],
      "metadata": {
        "colab": {
          "base_uri": "https://localhost:8080/",
          "height": 295
        },
        "id": "ZKmDA9FHp6TN",
        "outputId": "65e9baf4-a385-4e25-c665-7283755a87db"
      },
      "execution_count": 344,
      "outputs": [
        {
          "output_type": "display_data",
          "data": {
            "text/plain": [
              "<Figure size 432x288 with 1 Axes>"
            ],
            "image/png": "[encoded data removed]"
          },
          "metadata": {
            "needs_background": "light"
          }
        }
      ]
    },
    {
      "cell_type": "markdown",
      "source": [
        "**Rel of stemmed data**"
      ],
      "metadata": {
        "id": "Y3OCJbruqDgx"
      }
    },
    {
      "cell_type": "code",
      "source": [
        "callback = EarlyStopping(monitor='loss', patience=20)\n",
        "# This callback will stop the training when there is no improvement in the loss for 20 consecutive epochs.\n",
        "model = keras.Sequential([\n",
        "    layers.Dense(60, activation=\"relu\"),\n",
        "    layers.Dense(30, activation=\"relu\"),\n",
        "    layers.Dense(20, activation=\"sigmoid\")\n",
        "])\n",
        "model.compile(loss='categorical_crossentropy', optimizer='adam', metrics=['accuracy'])\n",
        "history = model.fit(np.asarray(X_stemmed_train_rel).astype(\"float32\"), y_train_stemmed_cat, epochs=10, batch_size=1, callbacks=[callback], verbose=0)\n"
      ],
      "metadata": {
        "id": "susEk8fsqFLB"
      },
      "execution_count": 345,
      "outputs": []
    },
    {
      "cell_type": "code",
      "source": [
        "results = model.evaluate(np.asarray(X_stemmed_test_rel).astype(\"float32\"), y_test_stemmed_cat, verbose=0)\n",
        "print(results[1]) #accuracy"
      ],
      "metadata": {
        "colab": {
          "base_uri": "https://localhost:8080/"
        },
        "id": "nQbGpR20qOn_",
        "outputId": "98b720f7-28b5-476b-a247-e63dfa4755bf"
      },
      "execution_count": 346,
      "outputs": [
        {
          "output_type": "stream",
          "name": "stdout",
          "text": [
            "0.7888692617416382\n"
          ]
        }
      ]
    },
    {
      "cell_type": "code",
      "source": [
        "history_dict = history.history\n",
        "history_dict.keys()"
      ],
      "metadata": {
        "colab": {
          "base_uri": "https://localhost:8080/"
        },
        "id": "fVyJxKNvqRY3",
        "outputId": "033d96fa-0920-4483-9c02-3e103fce2b5f"
      },
      "execution_count": 347,
      "outputs": [
        {
          "output_type": "execute_result",
          "data": {
            "text/plain": [
              "dict_keys(['loss', 'accuracy'])"
            ]
          },
          "metadata": {},
          "execution_count": 347
        }
      ]
    },
    {
      "cell_type": "code",
      "source": [
        "import matplotlib.pyplot as plt\n",
        "history_dict = history.history\n",
        "loss_values = history_dict[\"loss\"]\n",
        "#val_loss_values = history_dict[\"val_loss\"]\n",
        "epochs = range(1, len(loss_values) + 1)\n",
        "plt.plot(epochs, loss_values, \"bo\", label=\"Training loss\")\n",
        "#plt.plot(epochs, val_loss_values, \"b\", label=\"Validation loss\")\n",
        "plt.title(\"Training and validation loss\")\n",
        "plt.xlabel(\"Epochs\")\n",
        "plt.ylabel(\"Loss\")\n",
        "plt.legend()\n",
        "plt.show()"
      ],
      "metadata": {
        "colab": {
          "base_uri": "https://localhost:8080/",
          "height": 295
        },
        "id": "iCiRCEGgqTsV",
        "outputId": "b0007d3e-5679-42d7-a663-63a65df6f2cf"
      },
      "execution_count": 348,
      "outputs": [
        {
          "output_type": "display_data",
          "data": {
            "text/plain": [
              "<Figure size 432x288 with 1 Axes>"
            ],
            "image/png": "[encoded data removed]"
          },
          "metadata": {
            "needs_background": "light"
          }
        }
      ]
    },
    {
      "cell_type": "markdown",
      "source": [
        "**Rel of lemma data**"
      ],
      "metadata": {
        "id": "FIh0JVvpqUoA"
      }
    },
    {
      "cell_type": "code",
      "source": [
        "callback = EarlyStopping(monitor='loss', patience=20)\n",
        "# This callback will stop the training when there is no improvement in the loss for 20 consecutive epochs.\n",
        "model = keras.Sequential([\n",
        "    layers.Dense(60, activation=\"relu\"),\n",
        "    layers.Dense(30, activation=\"relu\"),\n",
        "    layers.Dense(20, activation=\"sigmoid\")\n",
        "])\n",
        "model.compile(loss='categorical_crossentropy', optimizer='adam', metrics=['accuracy'])\n",
        "history = model.fit(np.asarray(X_lemma_train_rel).astype(\"float32\"), y_train_lemma_cat, epochs=10, batch_size=1, callbacks=[callback], verbose=0)\n"
      ],
      "metadata": {
        "id": "9dqrDh91qafh"
      },
      "execution_count": 349,
      "outputs": []
    },
    {
      "cell_type": "code",
      "source": [
        "results = model.evaluate(np.asarray(X_lemma_test_rel).astype(\"float32\"), y_test_lemma_cat, verbose=0)\n",
        "print(results[1]) #accuracy"
      ],
      "metadata": {
        "colab": {
          "base_uri": "https://localhost:8080/"
        },
        "id": "HIOqOxqbqeOj",
        "outputId": "8a6f0a03-fbe7-48c1-e22e-9e2926fb5eb0"
      },
      "execution_count": 350,
      "outputs": [
        {
          "output_type": "stream",
          "name": "stdout",
          "text": [
            "0.7694346308708191\n"
          ]
        }
      ]
    },
    {
      "cell_type": "code",
      "source": [
        "history_dict = history.history\n",
        "history_dict.keys()"
      ],
      "metadata": {
        "colab": {
          "base_uri": "https://localhost:8080/"
        },
        "id": "8EGOIRWzrMKS",
        "outputId": "df4f6a3a-523a-445b-84a2-21d5c34d805f"
      },
      "execution_count": 351,
      "outputs": [
        {
          "output_type": "execute_result",
          "data": {
            "text/plain": [
              "dict_keys(['loss', 'accuracy'])"
            ]
          },
          "metadata": {},
          "execution_count": 351
        }
      ]
    },
    {
      "cell_type": "code",
      "source": [
        "import matplotlib.pyplot as plt\n",
        "history_dict = history.history\n",
        "loss_values = history_dict[\"loss\"]\n",
        "#val_loss_values = history_dict[\"val_loss\"]\n",
        "epochs = range(1, len(loss_values) + 1)\n",
        "plt.plot(epochs, loss_values, \"bo\", label=\"Training loss\")\n",
        "#plt.plot(epochs, val_loss_values, \"b\", label=\"Validation loss\")\n",
        "plt.title(\"Training and validation loss\")\n",
        "plt.xlabel(\"Epochs\")\n",
        "plt.ylabel(\"Loss\")\n",
        "plt.legend()\n",
        "plt.show()"
      ],
      "metadata": {
        "colab": {
          "base_uri": "https://localhost:8080/",
          "height": 295
        },
        "id": "lEcWjdFarNRb",
        "outputId": "928bfb7d-ffdf-4aca-9dd6-b58b1234e46a"
      },
      "execution_count": 352,
      "outputs": [
        {
          "output_type": "display_data",
          "data": {
            "text/plain": [
              "<Figure size 432x288 with 1 Axes>"
            ],
            "image/png": "[encoded data removed]"
          },
          "metadata": {
            "needs_background": "light"
          }
        }
      ]
    },
    {
      "cell_type": "markdown",
      "source": [
        "**TF of stemmed data**"
      ],
      "metadata": {
        "id": "Ghx1t4axrQDG"
      }
    },
    {
      "cell_type": "code",
      "source": [
        "callback = EarlyStopping(monitor='loss', patience=20)\n",
        "# This callback will stop the training when there is no improvement in the loss for 20 consecutive epochs.\n",
        "model = keras.Sequential([\n",
        "    layers.Dense(60, activation=\"relu\"),\n",
        "    layers.Dense(30, activation=\"relu\"),\n",
        "    layers.Dense(20, activation=\"sigmoid\")\n",
        "])\n",
        "model.compile(loss='categorical_crossentropy', optimizer='adam', metrics=['accuracy'])\n",
        "history = model.fit(np.asarray(X_stemmed_train_tf).astype(\"float32\"), y_train_stemmed_cat, epochs=10, batch_size=1, callbacks=[callback], verbose=0)\n"
      ],
      "metadata": {
        "id": "2hOrPxfLrRts"
      },
      "execution_count": 353,
      "outputs": []
    },
    {
      "cell_type": "code",
      "source": [
        "results = model.evaluate(np.asarray(X_stemmed_test_tf).astype(\"float32\"), y_test_stemmed_cat, verbose=0)\n",
        "print(results[1]) #accuracy"
      ],
      "metadata": {
        "colab": {
          "base_uri": "https://localhost:8080/"
        },
        "id": "_UpIIWUtrZeH",
        "outputId": "1488467e-9a5b-46ee-b0bf-1a0a51290f33"
      },
      "execution_count": 354,
      "outputs": [
        {
          "output_type": "stream",
          "name": "stdout",
          "text": [
            "0.7932862043380737\n"
          ]
        }
      ]
    },
    {
      "cell_type": "code",
      "source": [
        "history_dict = history.history\n",
        "history_dict.keys()"
      ],
      "metadata": {
        "colab": {
          "base_uri": "https://localhost:8080/"
        },
        "id": "WJdKAOkfrb81",
        "outputId": "0418494b-179a-4cb7-dc4a-5a37d5324e5c"
      },
      "execution_count": 355,
      "outputs": [
        {
          "output_type": "execute_result",
          "data": {
            "text/plain": [
              "dict_keys(['loss', 'accuracy'])"
            ]
          },
          "metadata": {},
          "execution_count": 355
        }
      ]
    },
    {
      "cell_type": "code",
      "source": [
        "import matplotlib.pyplot as plt\n",
        "history_dict = history.history\n",
        "loss_values = history_dict[\"loss\"]\n",
        "#val_loss_values = history_dict[\"val_loss\"]\n",
        "epochs = range(1, len(loss_values) + 1)\n",
        "plt.plot(epochs, loss_values, \"bo\", label=\"Training loss\")\n",
        "#plt.plot(epochs, val_loss_values, \"b\", label=\"Validation loss\")\n",
        "plt.title(\"Training and validation loss\")\n",
        "plt.xlabel(\"Epochs\")\n",
        "plt.ylabel(\"Loss\")\n",
        "plt.legend()\n",
        "plt.show()"
      ],
      "metadata": {
        "colab": {
          "base_uri": "https://localhost:8080/",
          "height": 295
        },
        "id": "QuYtqPckreaN",
        "outputId": "c87e6b71-0111-4913-feb5-f280323226fe"
      },
      "execution_count": 356,
      "outputs": [
        {
          "output_type": "display_data",
          "data": {
            "text/plain": [
              "<Figure size 432x288 with 1 Axes>"
            ],
            "image/png": "[encoded data removed]"
          },
          "metadata": {
            "needs_background": "light"
          }
        }
      ]
    },
    {
      "cell_type": "markdown",
      "source": [
        "**TF of lemma data**"
      ],
      "metadata": {
        "id": "eDRyOxRMriNT"
      }
    },
    {
      "cell_type": "code",
      "source": [
        "callback = EarlyStopping(monitor='loss', patience=20)\n",
        "# This callback will stop the training when there is no improvement in the loss for 20 consecutive epochs.\n",
        "model = keras.Sequential([\n",
        "    layers.Dense(60, activation=\"relu\"),\n",
        "    layers.Dense(30, activation=\"relu\"),\n",
        "    layers.Dense(20, activation=\"sigmoid\")\n",
        "])\n",
        "model.compile(loss='categorical_crossentropy', optimizer='adam', metrics=['accuracy'])\n",
        "history = model.fit(np.asarray(X_lemma_train_tf).astype(\"float32\"), y_train_lemma_cat, epochs=10, batch_size=1, callbacks=[callback], verbose=0)\n"
      ],
      "metadata": {
        "id": "jhVzRrWgrmv2"
      },
      "execution_count": 357,
      "outputs": []
    },
    {
      "cell_type": "code",
      "source": [
        "results = model.evaluate(np.asarray(X_lemma_test_tf).astype(\"float32\"), y_test_lemma_cat, verbose=0)\n",
        "print(results[1]) #accuracy"
      ],
      "metadata": {
        "colab": {
          "base_uri": "https://localhost:8080/"
        },
        "id": "Qq-n54IWrofV",
        "outputId": "e28c294a-d9d7-418b-eb29-cad3219e9ed3"
      },
      "execution_count": 358,
      "outputs": [
        {
          "output_type": "stream",
          "name": "stdout",
          "text": [
            "0.7844523191452026\n"
          ]
        }
      ]
    },
    {
      "cell_type": "code",
      "source": [
        "history_dict = history.history\n",
        "history_dict.keys()"
      ],
      "metadata": {
        "colab": {
          "base_uri": "https://localhost:8080/"
        },
        "id": "0YVvnYYCrsam",
        "outputId": "9c4237c9-809e-4e50-b823-960bd02705f5"
      },
      "execution_count": 359,
      "outputs": [
        {
          "output_type": "execute_result",
          "data": {
            "text/plain": [
              "dict_keys(['loss', 'accuracy'])"
            ]
          },
          "metadata": {},
          "execution_count": 359
        }
      ]
    },
    {
      "cell_type": "code",
      "source": [
        "import matplotlib.pyplot as plt\n",
        "history_dict = history.history\n",
        "loss_values = history_dict[\"loss\"]\n",
        "#val_loss_values = history_dict[\"val_loss\"]\n",
        "epochs = range(1, len(loss_values) + 1)\n",
        "plt.plot(epochs, loss_values, \"bo\", label=\"Training loss\")\n",
        "#plt.plot(epochs, val_loss_values, \"b\", label=\"Validation loss\")\n",
        "plt.title(\"Training and validation loss\")\n",
        "plt.xlabel(\"Epochs\")\n",
        "plt.ylabel(\"Loss\")\n",
        "plt.legend()\n",
        "plt.show()"
      ],
      "metadata": {
        "colab": {
          "base_uri": "https://localhost:8080/",
          "height": 295
        },
        "id": "Is0j22r5rttk",
        "outputId": "6779a253-d554-4485-dc28-5206c342d5df"
      },
      "execution_count": 360,
      "outputs": [
        {
          "output_type": "display_data",
          "data": {
            "text/plain": [
              "<Figure size 432x288 with 1 Axes>"
            ],
            "image/png": "[encoded data removed]"
          },
          "metadata": {
            "needs_background": "light"
          }
        }
      ]
    }
  ]
}