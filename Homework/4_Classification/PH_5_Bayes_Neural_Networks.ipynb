{
  "nbformat": 4,
  "nbformat_minor": 0,
  "metadata": {
    "colab": {
      "name": "PH_5_Bayes_Neural_Networks.ipynb",
      "provenance": [],
      "collapsed_sections": [],
      "toc_visible": true,
      "authorship_tag": "ABX9TyNXjqrdpVkqlzS7Lg+M94EE",
      "include_colab_link": true
    },
    "kernelspec": {
      "name": "python3",
      "display_name": "Python 3"
    },
    "language_info": {
      "name": "python"
    }
  },
  "cells": [
    {
      "cell_type": "markdown",
      "metadata": {
        "id": "view-in-github",
        "colab_type": "text"
      },
      "source": [
        "<a href=\"https://colab.research.google.com/github/Heity94/TWSM_Lab/blob/main/Homework/4_Classification/PH_5_Bayes_Neural_Networks.ipynb\" target=\"_parent\"><img src=\"https://colab.research.google.com/assets/colab-badge.svg\" alt=\"Open In Colab\"/></a>"
      ]
    },
    {
      "cell_type": "markdown",
      "source": [
        "# Homework 3 \n",
        "Apply our two new models (multinomial naive Bayes and a neural network) to the 20-Newsgroups dataset."
      ],
      "metadata": {
        "id": "mKM5LpvStPSW"
      }
    },
    {
      "cell_type": "code",
      "source": [
        "# imports\n",
        "import re\n",
        "import pickle\n",
        "import pandas as pd\n",
        "import numpy as np\n",
        "from sklearn.feature_extraction.text import CountVectorizer, TfidfVectorizer\n",
        "from sklearn.preprocessing import Binarizer\n",
        "from sklearn.model_selection import train_test_split\n",
        "from gensim.corpora import Dictionary\n",
        "from gensim.models import TfidfModel\n",
        "from sklearn.naive_bayes import MultinomialNB\n",
        "from sklearn.metrics import accuracy_score, classification_report"
      ],
      "metadata": {
        "id": "xNvYyDMQtVhp"
      },
      "execution_count": 1,
      "outputs": []
    },
    {
      "cell_type": "code",
      "source": [
        "#Mount drive\n",
        "from google.colab import drive\n",
        "drive.mount('/content/drive')"
      ],
      "metadata": {
        "colab": {
          "base_uri": "https://localhost:8080/"
        },
        "id": "1TNvnNlWtaCl",
        "outputId": "9d275776-3ae4-4946-f707-1f50f834a08b"
      },
      "execution_count": 2,
      "outputs": [
        {
          "output_type": "stream",
          "name": "stdout",
          "text": [
            "Mounted at /content/drive\n"
          ]
        }
      ]
    },
    {
      "cell_type": "markdown",
      "source": [
        "### Load datasets"
      ],
      "metadata": {
        "id": "8IKsi-ZPuAfW"
      }
    },
    {
      "cell_type": "code",
      "source": [
        "#Load stemmed data as .pkl\n",
        "with open('/content/drive/MyDrive/Colab_Notebooks/02_HWR/00_data/Newsgroup/data_stemmed.pkl', 'rb') as f:\n",
        "    data_stemmed_list = pickle.load(f)\n",
        "\n",
        "stemmed_df = pd.DataFrame(data_stemmed_list, columns=[\"stemmed_text\"])"
      ],
      "metadata": {
        "id": "B2NuoA9wtaOc"
      },
      "execution_count": 3,
      "outputs": []
    },
    {
      "cell_type": "code",
      "source": [
        "#Load lemmatized data as .pkl\n",
        "with open('/content/drive/MyDrive/Colab_Notebooks/02_HWR/00_data/Newsgroup/data_lemma.pkl', 'rb') as f:\n",
        "    data_lemma_list = pickle.load(f)\n",
        "\n",
        "lemma_df = pd.DataFrame(data_lemma_list, columns=[\"stemmed_text\"])"
      ],
      "metadata": {
        "id": "6ZJrNcw7ttfS"
      },
      "execution_count": 4,
      "outputs": []
    },
    {
      "cell_type": "code",
      "source": [
        "# load y data\n",
        "y_df = pd.read_json(\"https://raw.githubusercontent.com/selva86/datasets/master/newsgroups.json\")[[\"target\",\"target_names\"]]\n",
        "y_df.head()"
      ],
      "metadata": {
        "colab": {
          "base_uri": "https://localhost:8080/",
          "height": 206
        },
        "id": "rzkIj4mU07ww",
        "outputId": "05a1cb1c-577f-433b-ec1f-c34a3c2b07b0"
      },
      "execution_count": 5,
      "outputs": [
        {
          "output_type": "execute_result",
          "data": {
            "text/plain": [
              "   target           target_names\n",
              "0       7              rec.autos\n",
              "1       4  comp.sys.mac.hardware\n",
              "2       4  comp.sys.mac.hardware\n",
              "3       1          comp.graphics\n",
              "4      14              sci.space"
            ],
            "text/html": [
              "\n",
              "  <div id=\"df-bcea7d92-983a-4235-bcb4-1578ab12ce02\">\n",
              "    <div class=\"colab-df-container\">\n",
              "      <div>\n",
              "<style scoped>\n",
              "    .dataframe tbody tr th:only-of-type {\n",
              "        vertical-align: middle;\n",
              "    }\n",
              "\n",
              "    .dataframe tbody tr th {\n",
              "        vertical-align: top;\n",
              "    }\n",
              "\n",
              "    .dataframe thead th {\n",
              "        text-align: right;\n",
              "    }\n",
              "</style>\n",
              "<table border=\"1\" class=\"dataframe\">\n",
              "  <thead>\n",
              "    <tr style=\"text-align: right;\">\n",
              "      <th></th>\n",
              "      <th>target</th>\n",
              "      <th>target_names</th>\n",
              "    </tr>\n",
              "  </thead>\n",
              "  <tbody>\n",
              "    <tr>\n",
              "      <th>0</th>\n",
              "      <td>7</td>\n",
              "      <td>rec.autos</td>\n",
              "    </tr>\n",
              "    <tr>\n",
              "      <th>1</th>\n",
              "      <td>4</td>\n",
              "      <td>comp.sys.mac.hardware</td>\n",
              "    </tr>\n",
              "    <tr>\n",
              "      <th>2</th>\n",
              "      <td>4</td>\n",
              "      <td>comp.sys.mac.hardware</td>\n",
              "    </tr>\n",
              "    <tr>\n",
              "      <th>3</th>\n",
              "      <td>1</td>\n",
              "      <td>comp.graphics</td>\n",
              "    </tr>\n",
              "    <tr>\n",
              "      <th>4</th>\n",
              "      <td>14</td>\n",
              "      <td>sci.space</td>\n",
              "    </tr>\n",
              "  </tbody>\n",
              "</table>\n",
              "</div>\n",
              "      <button class=\"colab-df-convert\" onclick=\"convertToInteractive('df-bcea7d92-983a-4235-bcb4-1578ab12ce02')\"\n",
              "              title=\"Convert this dataframe to an interactive table.\"\n",
              "              style=\"display:none;\">\n",
              "        \n",
              "  <svg xmlns=\"http://www.w3.org/2000/svg\" height=\"24px\"viewBox=\"0 0 24 24\"\n",
              "       width=\"24px\">\n",
              "    <path d=\"M0 0h24v24H0V0z\" fill=\"none\"/>\n",
              "    <path d=\"M18.56 5.44l.94 2.06.94-2.06 2.06-.94-2.06-.94-.94-2.06-.94 2.06-2.06.94zm-11 1L8.5 8.5l.94-2.06 2.06-.94-2.06-.94L8.5 2.5l-.94 2.06-2.06.94zm10 10l.94 2.06.94-2.06 2.06-.94-2.06-.94-.94-2.06-.94 2.06-2.06.94z\"/><path d=\"M17.41 7.96l-1.37-1.37c-.4-.4-.92-.59-1.43-.59-.52 0-1.04.2-1.43.59L10.3 9.45l-7.72 7.72c-.78.78-.78 2.05 0 2.83L4 21.41c.39.39.9.59 1.41.59.51 0 1.02-.2 1.41-.59l7.78-7.78 2.81-2.81c.8-.78.8-2.07 0-2.86zM5.41 20L4 18.59l7.72-7.72 1.47 1.35L5.41 20z\"/>\n",
              "  </svg>\n",
              "      </button>\n",
              "      \n",
              "  <style>\n",
              "    .colab-df-container {\n",
              "      display:flex;\n",
              "      flex-wrap:wrap;\n",
              "      gap: 12px;\n",
              "    }\n",
              "\n",
              "    .colab-df-convert {\n",
              "      background-color: #E8F0FE;\n",
              "      border: none;\n",
              "      border-radius: 50%;\n",
              "      cursor: pointer;\n",
              "      display: none;\n",
              "      fill: #1967D2;\n",
              "      height: 32px;\n",
              "      padding: 0 0 0 0;\n",
              "      width: 32px;\n",
              "    }\n",
              "\n",
              "    .colab-df-convert:hover {\n",
              "      background-color: #E2EBFA;\n",
              "      box-shadow: 0px 1px 2px rgba(60, 64, 67, 0.3), 0px 1px 3px 1px rgba(60, 64, 67, 0.15);\n",
              "      fill: #174EA6;\n",
              "    }\n",
              "\n",
              "    [theme=dark] .colab-df-convert {\n",
              "      background-color: #3B4455;\n",
              "      fill: #D2E3FC;\n",
              "    }\n",
              "\n",
              "    [theme=dark] .colab-df-convert:hover {\n",
              "      background-color: #434B5C;\n",
              "      box-shadow: 0px 1px 3px 1px rgba(0, 0, 0, 0.15);\n",
              "      filter: drop-shadow(0px 1px 2px rgba(0, 0, 0, 0.3));\n",
              "      fill: #FFFFFF;\n",
              "    }\n",
              "  </style>\n",
              "\n",
              "      <script>\n",
              "        const buttonEl =\n",
              "          document.querySelector('#df-bcea7d92-983a-4235-bcb4-1578ab12ce02 button.colab-df-convert');\n",
              "        buttonEl.style.display =\n",
              "          google.colab.kernel.accessAllowed ? 'block' : 'none';\n",
              "\n",
              "        async function convertToInteractive(key) {\n",
              "          const element = document.querySelector('#df-bcea7d92-983a-4235-bcb4-1578ab12ce02');\n",
              "          const dataTable =\n",
              "            await google.colab.kernel.invokeFunction('convertToInteractive',\n",
              "                                                     [key], {});\n",
              "          if (!dataTable) return;\n",
              "\n",
              "          const docLinkHtml = 'Like what you see? Visit the ' +\n",
              "            '<a target=\"_blank\" href=https://colab.research.google.com/notebooks/data_table.ipynb>data table notebook</a>'\n",
              "            + ' to learn more about interactive tables.';\n",
              "          element.innerHTML = '';\n",
              "          dataTable['output_type'] = 'display_data';\n",
              "          await google.colab.output.renderOutput(dataTable, element);\n",
              "          const docLink = document.createElement('div');\n",
              "          docLink.innerHTML = docLinkHtml;\n",
              "          element.appendChild(docLink);\n",
              "        }\n",
              "      </script>\n",
              "    </div>\n",
              "  </div>\n",
              "  "
            ]
          },
          "metadata": {},
          "execution_count": 5
        }
      ]
    },
    {
      "cell_type": "code",
      "source": [
        "stemmed_y_df = pd.concat([stemmed_df, y_df], axis=1)\n",
        "lemma_y_df = pd.concat([lemma_df, y_df], axis=1)"
      ],
      "metadata": {
        "id": "LryCTZId1QbP"
      },
      "execution_count": 6,
      "outputs": []
    },
    {
      "cell_type": "code",
      "source": [
        "lemma_y_df.columns"
      ],
      "metadata": {
        "colab": {
          "base_uri": "https://localhost:8080/"
        },
        "id": "hRYWWg-b2uSu",
        "outputId": "f263e4eb-8b08-4867-afab-9fcd8d8dad71"
      },
      "execution_count": 7,
      "outputs": [
        {
          "output_type": "execute_result",
          "data": {
            "text/plain": [
              "Index(['stemmed_text', 'target', 'target_names'], dtype='object')"
            ]
          },
          "metadata": {},
          "execution_count": 7
        }
      ]
    },
    {
      "cell_type": "code",
      "source": [
        "# train test split\n",
        "X_stem = stemmed_y_df[[\"stemmed_text\"]]\n",
        "y_stem = stemmed_y_df['target']\n",
        "\n",
        "X_s_train, X_s_test, y_s_train, y_s_test = train_test_split(X_stem, y_stem, test_size=0.1)\n",
        "\n",
        "# train test split\n",
        "X_lem = lemma_y_df[[\"stemmed_text\"]]\n",
        "y_lem = lemma_y_df['target']\n",
        "\n",
        "X_l_train, X_l_test, y_l_train, y_l_test = train_test_split(X_lem, y_lem, test_size=0.1)"
      ],
      "metadata": {
        "id": "XQdH2rp92kiR"
      },
      "execution_count": 8,
      "outputs": []
    },
    {
      "cell_type": "markdown",
      "source": [
        "## Multinomial Naive Bayes"
      ],
      "metadata": {
        "id": "hPoMBIuC1wOV"
      }
    },
    {
      "cell_type": "code",
      "source": [
        "# Instantiate Vectorizers \n",
        "\n",
        "#Stemmed\n",
        "abs_vec_s = CountVectorizer(max_df=0.95, min_df=0.01)\n",
        "rel_vec_s = TfidfVectorizer(max_df=0.95, min_df=0.01, use_idf=False, norm='l1') # use-idf: Enable inverse-document-frequency reweighting; norm: Each output row will have unit norm (l1 = Sum of absolute values of vector elements is 1.)\n",
        "idf_vec_s = TfidfVectorizer(max_df=0.95, min_df=0.01, smooth_idf=True) # smooth_idf: Smooth idf weights by adding one to document frequencies (Prevents zero divisions) -> not regularized\n",
        "\n",
        "#Lemma\n",
        "abs_vec_l = CountVectorizer(max_df=0.95, min_df=0.01)\n",
        "rel_vec_l = TfidfVectorizer(max_df=0.95, min_df=0.01, use_idf=False, norm='l1') # use-idf: Enable inverse-document-frequency reweighting; norm: Each output row will have unit norm (l1 = Sum of absolute values of vector elements is 1.)\n",
        "idf_vec_l = TfidfVectorizer(max_df=0.95, min_df=0.01, smooth_idf=True) # smooth_idf: Smooth idf weights by adding one to document frequencies (Prevents zero divisions) -> not regularized"
      ],
      "metadata": {
        "id": "BbWvmS6w12PO"
      },
      "execution_count": 9,
      "outputs": []
    },
    {
      "cell_type": "markdown",
      "source": [
        "### Abs. Freq. "
      ],
      "metadata": {
        "id": "-Ijeobq_6Sx5"
      }
    },
    {
      "cell_type": "markdown",
      "source": [
        "#### Stemmed"
      ],
      "metadata": {
        "id": "3zTtrRUo6cBG"
      }
    },
    {
      "cell_type": "code",
      "source": [
        "X_train_abs_stem = abs_vec_s.fit_transform(X_s_train[\"stemmed_text\"]).toarray()\n",
        "X_test_abs_stem = abs_vec_s.transform(X_s_test[\"stemmed_text\"]).toarray()"
      ],
      "metadata": {
        "id": "VkshLrdRu1gE"
      },
      "execution_count": 10,
      "outputs": []
    },
    {
      "cell_type": "code",
      "source": [
        "clf_s = MultinomialNB()\n",
        "clf_s.fit(X_train_abs_stem, y_s_train)"
      ],
      "metadata": {
        "colab": {
          "base_uri": "https://localhost:8080/"
        },
        "id": "-D67m9yj4l0z",
        "outputId": "fcddf2be-6fb1-498e-da95-8cbe07960402"
      },
      "execution_count": 11,
      "outputs": [
        {
          "output_type": "execute_result",
          "data": {
            "text/plain": [
              "MultinomialNB()"
            ]
          },
          "metadata": {},
          "execution_count": 11
        }
      ]
    },
    {
      "cell_type": "code",
      "source": [
        "y_pred_s = clf_s.predict(X_test_abs_stem)\n",
        "print('Train accuracy: ', clf_s.score(X_train_abs_stem, y_s_train))\n",
        "print('Test accuracy: ', accuracy_score(y_pred_s, y_s_test))"
      ],
      "metadata": {
        "colab": {
          "base_uri": "https://localhost:8080/"
        },
        "id": "46qPzXaR4ybT",
        "outputId": "ccfdc900-7a59-4368-f9e5-9ce6793f9cd0"
      },
      "execution_count": 12,
      "outputs": [
        {
          "output_type": "stream",
          "name": "stdout",
          "text": [
            "Train accuracy:  0.8457081123551365\n",
            "Test accuracy:  0.7800353356890459\n"
          ]
        }
      ]
    },
    {
      "cell_type": "markdown",
      "source": [
        "#### Lemmatized"
      ],
      "metadata": {
        "id": "AyA1oT1g6ezT"
      }
    },
    {
      "cell_type": "code",
      "source": [
        "X_train_abs_lem = abs_vec_l.fit_transform(X_l_train[\"stemmed_text\"]).toarray()\n",
        "X_test_abs_lem = abs_vec_l.transform(X_l_test[\"stemmed_text\"]).toarray()"
      ],
      "metadata": {
        "id": "yDn13pcV4ylY"
      },
      "execution_count": 13,
      "outputs": []
    },
    {
      "cell_type": "code",
      "source": [
        "clf_l = MultinomialNB()\n",
        "clf_l.fit(X_train_abs_lem, y_l_train)"
      ],
      "metadata": {
        "colab": {
          "base_uri": "https://localhost:8080/"
        },
        "id": "95VzI3uO4yte",
        "outputId": "63ee3b2d-182a-4234-d827-55bd92aec664"
      },
      "execution_count": 14,
      "outputs": [
        {
          "output_type": "execute_result",
          "data": {
            "text/plain": [
              "MultinomialNB()"
            ]
          },
          "metadata": {},
          "execution_count": 14
        }
      ]
    },
    {
      "cell_type": "code",
      "source": [
        "y_pred_l = clf_l.predict(X_test_abs_lem)\n",
        "print('Train accuracy: ', clf_l.score(X_train_abs_lem, y_l_train))\n",
        "print('Test accuracy: ', accuracy_score(y_pred_l, y_l_test))"
      ],
      "metadata": {
        "colab": {
          "base_uri": "https://localhost:8080/"
        },
        "id": "JnTtJ2gq4y2i",
        "outputId": "83220456-6961-452e-ae3b-a5351ae29595"
      },
      "execution_count": 15,
      "outputs": [
        {
          "output_type": "stream",
          "name": "stdout",
          "text": [
            "Train accuracy:  0.8405028481634257\n",
            "Test accuracy:  0.7729681978798587\n"
          ]
        }
      ]
    },
    {
      "cell_type": "markdown",
      "source": [
        "### Rel. Freq. "
      ],
      "metadata": {
        "id": "AY_Sxl2E7clN"
      }
    },
    {
      "cell_type": "markdown",
      "source": [
        "#### Stemmed"
      ],
      "metadata": {
        "id": "8JABcikJ7clN"
      }
    },
    {
      "cell_type": "code",
      "source": [
        "X_train_rel_stem = rel_vec_s.fit_transform(X_s_train[\"stemmed_text\"]).toarray()\n",
        "X_test_rel_stem = rel_vec_s.transform(X_s_test[\"stemmed_text\"]).toarray()"
      ],
      "metadata": {
        "id": "sJSX8Vy07clN"
      },
      "execution_count": 16,
      "outputs": []
    },
    {
      "cell_type": "code",
      "source": [
        "clf_s = MultinomialNB()\n",
        "clf_s.fit(X_train_rel_stem, y_s_train)"
      ],
      "metadata": {
        "colab": {
          "base_uri": "https://localhost:8080/"
        },
        "outputId": "d0afa289-5f2b-4ab6-8834-0dc09fe23848",
        "id": "3bj09snE7clO"
      },
      "execution_count": 17,
      "outputs": [
        {
          "output_type": "execute_result",
          "data": {
            "text/plain": [
              "MultinomialNB()"
            ]
          },
          "metadata": {},
          "execution_count": 17
        }
      ]
    },
    {
      "cell_type": "code",
      "source": [
        "y_pred_s = clf_s.predict(X_test_rel_stem)\n",
        "print('Train accuracy: ', clf_s.score(X_train_rel_stem, y_s_train))\n",
        "print('Test accuracy: ', accuracy_score(y_pred_s, y_s_test))"
      ],
      "metadata": {
        "colab": {
          "base_uri": "https://localhost:8080/"
        },
        "outputId": "fe7175b7-adf1-4f38-97d6-bb5a04758f29",
        "id": "bxArPK8k7clP"
      },
      "execution_count": 18,
      "outputs": [
        {
          "output_type": "stream",
          "name": "stdout",
          "text": [
            "Train accuracy:  0.7485759182871734\n",
            "Test accuracy:  0.6855123674911661\n"
          ]
        }
      ]
    },
    {
      "cell_type": "markdown",
      "source": [
        "#### Lemmatized"
      ],
      "metadata": {
        "id": "6EQILbjg7clP"
      }
    },
    {
      "cell_type": "code",
      "source": [
        "X_train_rel_lem = rel_vec_l.fit_transform(X_l_train[\"stemmed_text\"]).toarray()\n",
        "X_test_rel_lem = rel_vec_l.transform(X_l_test[\"stemmed_text\"]).toarray()"
      ],
      "metadata": {
        "id": "__XUoshy7clP"
      },
      "execution_count": 19,
      "outputs": []
    },
    {
      "cell_type": "code",
      "source": [
        "clf_l = MultinomialNB()\n",
        "clf_l.fit(X_train_rel_lem, y_l_train)"
      ],
      "metadata": {
        "colab": {
          "base_uri": "https://localhost:8080/"
        },
        "outputId": "8e7e736d-bee4-4aa9-c8c2-be6d1ed9594c",
        "id": "lzNMmbP67clP"
      },
      "execution_count": 20,
      "outputs": [
        {
          "output_type": "execute_result",
          "data": {
            "text/plain": [
              "MultinomialNB()"
            ]
          },
          "metadata": {},
          "execution_count": 20
        }
      ]
    },
    {
      "cell_type": "code",
      "source": [
        "y_pred_l = clf_l.predict(X_test_rel_lem)\n",
        "print('Train accuracy: ', clf_l.score(X_train_rel_lem, y_l_train))\n",
        "print('Test accuracy: ', accuracy_score(y_pred_l, y_l_test))"
      ],
      "metadata": {
        "colab": {
          "base_uri": "https://localhost:8080/"
        },
        "outputId": "eb62377a-398b-4b1c-bc70-ece197cea6a8",
        "id": "T6EqWRRH7clQ"
      },
      "execution_count": 21,
      "outputs": [
        {
          "output_type": "stream",
          "name": "stdout",
          "text": [
            "Train accuracy:  0.7253977607542722\n",
            "Test accuracy:  0.6651943462897526\n"
          ]
        }
      ]
    },
    {
      "cell_type": "markdown",
      "source": [
        "### TF-Idf"
      ],
      "metadata": {
        "id": "BEphvfzd8AjL"
      }
    },
    {
      "cell_type": "markdown",
      "source": [
        "#### Stemmed"
      ],
      "metadata": {
        "id": "lXvyaXj-8AjX"
      }
    },
    {
      "cell_type": "code",
      "source": [
        "X_train_idf_stem = idf_vec_s.fit_transform(X_s_train[\"stemmed_text\"]).toarray()\n",
        "X_test_idf_stem = idf_vec_s.transform(X_s_test[\"stemmed_text\"]).toarray()"
      ],
      "metadata": {
        "id": "3RlAetP78AjX"
      },
      "execution_count": 22,
      "outputs": []
    },
    {
      "cell_type": "code",
      "source": [
        "clf_s = MultinomialNB()\n",
        "clf_s.fit(X_train_idf_stem, y_s_train)"
      ],
      "metadata": {
        "colab": {
          "base_uri": "https://localhost:8080/"
        },
        "outputId": "20183aa7-69dd-4927-e22f-34e5cda1ed59",
        "id": "MIh6Px_h8AjX"
      },
      "execution_count": 23,
      "outputs": [
        {
          "output_type": "execute_result",
          "data": {
            "text/plain": [
              "MultinomialNB()"
            ]
          },
          "metadata": {},
          "execution_count": 23
        }
      ]
    },
    {
      "cell_type": "code",
      "source": [
        "y_pred_s = clf_s.predict(X_test_idf_stem)\n",
        "print('Train accuracy: ', clf_s.score(X_train_idf_stem, y_s_train))\n",
        "print('Test accuracy: ', accuracy_score(y_pred_s, y_s_test))"
      ],
      "metadata": {
        "colab": {
          "base_uri": "https://localhost:8080/"
        },
        "outputId": "4619b155-91b8-4a44-e68b-b88b0e187994",
        "id": "J7oPmEuy8AjY"
      },
      "execution_count": 24,
      "outputs": [
        {
          "output_type": "stream",
          "name": "stdout",
          "text": [
            "Train accuracy:  0.8613239049302691\n",
            "Test accuracy:  0.7853356890459364\n"
          ]
        }
      ]
    },
    {
      "cell_type": "markdown",
      "source": [
        "#### Lemmatized"
      ],
      "metadata": {
        "id": "jnBMson28AjY"
      }
    },
    {
      "cell_type": "code",
      "source": [
        "X_train_idf_lem = idf_vec_l.fit_transform(X_l_train[\"stemmed_text\"]).toarray()\n",
        "X_test_idf_lem = idf_vec_l.transform(X_l_test[\"stemmed_text\"]).toarray()"
      ],
      "metadata": {
        "id": "HcgiLX1i8AjY"
      },
      "execution_count": 25,
      "outputs": []
    },
    {
      "cell_type": "code",
      "source": [
        "clf_l = MultinomialNB()\n",
        "clf_l.fit(X_train_idf_lem, y_l_train)"
      ],
      "metadata": {
        "colab": {
          "base_uri": "https://localhost:8080/"
        },
        "outputId": "b4125a46-d1de-4e22-97b6-9e7601fcb5b8",
        "id": "S2z8RyUM8AjY"
      },
      "execution_count": 26,
      "outputs": [
        {
          "output_type": "execute_result",
          "data": {
            "text/plain": [
              "MultinomialNB()"
            ]
          },
          "metadata": {},
          "execution_count": 26
        }
      ]
    },
    {
      "cell_type": "code",
      "source": [
        "y_pred_l = clf_l.predict(X_test_idf_lem)\n",
        "print('Train accuracy: ', clf_l.score(X_train_idf_lem, y_l_train))\n",
        "print('Test accuracy: ', accuracy_score(y_pred_l, y_l_test))"
      ],
      "metadata": {
        "colab": {
          "base_uri": "https://localhost:8080/"
        },
        "outputId": "33e60554-0fcc-4c48-c69d-2caa423c62ee",
        "id": "s4IzEu8n8AjY"
      },
      "execution_count": 27,
      "outputs": [
        {
          "output_type": "stream",
          "name": "stdout",
          "text": [
            "Train accuracy:  0.8508151640149283\n",
            "Test accuracy:  0.7932862190812721\n"
          ]
        }
      ]
    },
    {
      "cell_type": "markdown",
      "source": [
        "## Neural Networks"
      ],
      "metadata": {
        "id": "OGegQ6OeuS4u"
      }
    },
    {
      "cell_type": "code",
      "source": [
        "from tensorflow.keras import Sequential, layers\n",
        "from tensorflow.keras.callbacks import EarlyStopping"
      ],
      "metadata": {
        "id": "1YPdkBaD8u_i"
      },
      "execution_count": 67,
      "outputs": []
    },
    {
      "cell_type": "code",
      "source": [
        "# no of classes in dataset\n",
        "y_df.target.nunique()"
      ],
      "metadata": {
        "colab": {
          "base_uri": "https://localhost:8080/"
        },
        "id": "x6okx_fik8HR",
        "outputId": "a53540df-64ed-4cd6-c2d0-f4f5a3061c4b"
      },
      "execution_count": 68,
      "outputs": [
        {
          "output_type": "execute_result",
          "data": {
            "text/plain": [
              "20"
            ]
          },
          "metadata": {},
          "execution_count": 68
        }
      ]
    },
    {
      "cell_type": "code",
      "source": [
        "from tensorflow.keras.utils import to_categorical\n",
        "y_train_l_cat = to_categorical(y_l_train)\n",
        "y_test_l_cat = to_categorical(y_l_test)"
      ],
      "metadata": {
        "id": "oVixruV0qr7W"
      },
      "execution_count": 69,
      "outputs": []
    },
    {
      "cell_type": "code",
      "source": [
        "y_train_s_cat = to_categorical(y_s_train)\n",
        "y_test_s_cat = to_categorical(y_s_test)"
      ],
      "metadata": {
        "id": "VsG6Ft9vM3mA"
      },
      "execution_count": 70,
      "outputs": []
    },
    {
      "cell_type": "code",
      "source": [
        "#Early stopping\n",
        "es = EarlyStopping(patience=20, restore_best_weights=True)"
      ],
      "metadata": {
        "id": "Jb4vpxPxLsXw"
      },
      "execution_count": 75,
      "outputs": []
    },
    {
      "cell_type": "markdown",
      "source": [
        "### Abs. Freq. "
      ],
      "metadata": {
        "id": "c7TTuf1FKc9w"
      }
    },
    {
      "cell_type": "markdown",
      "source": [
        "#### Stemmed"
      ],
      "metadata": {
        "id": "D9Yu5K2dKgf8"
      }
    },
    {
      "cell_type": "code",
      "source": [
        "#input dim\n",
        "X_train_abs_stem.shape[1]"
      ],
      "metadata": {
        "colab": {
          "base_uri": "https://localhost:8080/"
        },
        "id": "QEB6ESYIKguU",
        "outputId": "570ad265-04a3-4329-b161-9fee07d5c8a1"
      },
      "execution_count": 71,
      "outputs": [
        {
          "output_type": "execute_result",
          "data": {
            "text/plain": [
              "1641"
            ]
          },
          "metadata": {},
          "execution_count": 71
        }
      ]
    },
    {
      "cell_type": "code",
      "source": [
        "# Classification with 20 classes\n",
        "model_s = Sequential()\n",
        "model_s.add(layers.Dense(30, activation='relu', input_dim=X_train_abs_stem.shape[1]))\n",
        "#model.add(layers.Dense(20, activation='relu'))\n",
        "#model.add(layers.Dense(20, activation='relu'))\n",
        "model_s.add(layers.Dense(20, activation='softmax'))"
      ],
      "metadata": {
        "id": "kT7xgWLPLiZf"
      },
      "execution_count": 72,
      "outputs": []
    },
    {
      "cell_type": "code",
      "source": [
        "model_s.compile(\n",
        "    optimizer='adam',\n",
        "    loss='categorical_crossentropy', \n",
        "    metrics = ['accuracy'])"
      ],
      "metadata": {
        "id": "y9AEsZHGLsXv"
      },
      "execution_count": 73,
      "outputs": []
    },
    {
      "cell_type": "code",
      "source": [
        "model_s.summary()"
      ],
      "metadata": {
        "colab": {
          "base_uri": "https://localhost:8080/"
        },
        "outputId": "e772449a-b360-4a0c-984f-a73a6a719f05",
        "id": "2ga8VpCLLsXv"
      },
      "execution_count": 74,
      "outputs": [
        {
          "output_type": "stream",
          "name": "stdout",
          "text": [
            "Model: \"sequential_5\"\n",
            "_________________________________________________________________\n",
            " Layer (type)                Output Shape              Param #   \n",
            "=================================================================\n",
            " dense_8 (Dense)             (None, 30)                49260     \n",
            "                                                                 \n",
            " dense_9 (Dense)             (None, 20)                620       \n",
            "                                                                 \n",
            "=================================================================\n",
            "Total params: 49,880\n",
            "Trainable params: 49,880\n",
            "Non-trainable params: 0\n",
            "_________________________________________________________________\n"
          ]
        }
      ]
    },
    {
      "cell_type": "code",
      "source": [
        "# Fit\n",
        "model_s.fit(np.asarray(X_train_abs_stem).astype(\"float32\"), y_train_s_cat, epochs=100, validation_split=0.3, callbacks=[es])"
      ],
      "metadata": {
        "colab": {
          "base_uri": "https://localhost:8080/"
        },
        "outputId": "81027872-5212-44bc-9241-0717f0f65e2d",
        "id": "ycHeR48RLsXw"
      },
      "execution_count": 76,
      "outputs": [
        {
          "output_type": "stream",
          "name": "stdout",
          "text": [
            "Epoch 1/100\n",
            "223/223 [==============================] - 1s 4ms/step - loss: 2.1877 - accuracy: 0.4879 - val_loss: 1.4452 - val_accuracy: 0.7103\n",
            "Epoch 2/100\n",
            "223/223 [==============================] - 1s 3ms/step - loss: 1.0308 - accuracy: 0.8096 - val_loss: 1.0129 - val_accuracy: 0.7614\n",
            "Epoch 3/100\n",
            "223/223 [==============================] - 1s 3ms/step - loss: 0.6691 - accuracy: 0.8727 - val_loss: 0.8547 - val_accuracy: 0.7781\n",
            "Epoch 4/100\n",
            "223/223 [==============================] - 1s 3ms/step - loss: 0.4860 - accuracy: 0.9050 - val_loss: 0.7950 - val_accuracy: 0.7866\n",
            "Epoch 5/100\n",
            "223/223 [==============================] - 1s 3ms/step - loss: 0.3723 - accuracy: 0.9310 - val_loss: 0.7648 - val_accuracy: 0.7948\n",
            "Epoch 6/100\n",
            "223/223 [==============================] - 1s 3ms/step - loss: 0.2932 - accuracy: 0.9498 - val_loss: 0.7819 - val_accuracy: 0.7899\n",
            "Epoch 7/100\n",
            "223/223 [==============================] - 1s 3ms/step - loss: 0.2352 - accuracy: 0.9620 - val_loss: 0.7483 - val_accuracy: 0.7951\n",
            "Epoch 8/100\n",
            "223/223 [==============================] - 1s 3ms/step - loss: 0.1877 - accuracy: 0.9725 - val_loss: 0.7507 - val_accuracy: 0.7964\n",
            "Epoch 9/100\n",
            "223/223 [==============================] - 1s 3ms/step - loss: 0.1525 - accuracy: 0.9790 - val_loss: 0.7618 - val_accuracy: 0.7905\n",
            "Epoch 10/100\n",
            "223/223 [==============================] - 1s 3ms/step - loss: 0.1262 - accuracy: 0.9847 - val_loss: 0.8153 - val_accuracy: 0.7915\n",
            "Epoch 11/100\n",
            "223/223 [==============================] - 1s 3ms/step - loss: 0.1054 - accuracy: 0.9877 - val_loss: 0.7971 - val_accuracy: 0.7944\n",
            "Epoch 12/100\n",
            "223/223 [==============================] - 1s 3ms/step - loss: 0.0865 - accuracy: 0.9910 - val_loss: 0.8190 - val_accuracy: 0.7925\n",
            "Epoch 13/100\n",
            "223/223 [==============================] - 1s 3ms/step - loss: 0.0715 - accuracy: 0.9933 - val_loss: 0.8321 - val_accuracy: 0.7902\n",
            "Epoch 14/100\n",
            "223/223 [==============================] - 1s 3ms/step - loss: 0.0598 - accuracy: 0.9949 - val_loss: 0.8766 - val_accuracy: 0.7889\n",
            "Epoch 15/100\n",
            "223/223 [==============================] - 1s 3ms/step - loss: 0.0529 - accuracy: 0.9957 - val_loss: 0.8827 - val_accuracy: 0.7866\n",
            "Epoch 16/100\n",
            "223/223 [==============================] - 1s 3ms/step - loss: 0.0435 - accuracy: 0.9969 - val_loss: 0.9111 - val_accuracy: 0.7921\n",
            "Epoch 17/100\n",
            "223/223 [==============================] - 1s 3ms/step - loss: 0.0365 - accuracy: 0.9978 - val_loss: 0.9437 - val_accuracy: 0.7882\n",
            "Epoch 18/100\n",
            "223/223 [==============================] - 1s 3ms/step - loss: 0.0312 - accuracy: 0.9982 - val_loss: 0.9716 - val_accuracy: 0.7863\n",
            "Epoch 19/100\n",
            "223/223 [==============================] - 1s 3ms/step - loss: 0.0271 - accuracy: 0.9989 - val_loss: 0.9903 - val_accuracy: 0.7853\n",
            "Epoch 20/100\n",
            "223/223 [==============================] - 1s 3ms/step - loss: 0.0229 - accuracy: 0.9990 - val_loss: 1.0199 - val_accuracy: 0.7859\n",
            "Epoch 21/100\n",
            "223/223 [==============================] - 1s 3ms/step - loss: 0.0198 - accuracy: 0.9990 - val_loss: 1.0457 - val_accuracy: 0.7823\n",
            "Epoch 22/100\n",
            "223/223 [==============================] - 1s 3ms/step - loss: 0.0173 - accuracy: 0.9989 - val_loss: 1.0701 - val_accuracy: 0.7846\n",
            "Epoch 23/100\n",
            "223/223 [==============================] - 1s 3ms/step - loss: 0.0157 - accuracy: 0.9989 - val_loss: 1.0954 - val_accuracy: 0.7833\n",
            "Epoch 24/100\n",
            "223/223 [==============================] - 1s 3ms/step - loss: 0.0131 - accuracy: 0.9992 - val_loss: 1.1183 - val_accuracy: 0.7807\n",
            "Epoch 25/100\n",
            "223/223 [==============================] - 1s 3ms/step - loss: 0.0173 - accuracy: 0.9978 - val_loss: 1.1704 - val_accuracy: 0.7833\n",
            "Epoch 26/100\n",
            "223/223 [==============================] - 1s 3ms/step - loss: 0.0437 - accuracy: 0.9945 - val_loss: 1.4330 - val_accuracy: 0.7663\n",
            "Epoch 27/100\n",
            "223/223 [==============================] - 1s 3ms/step - loss: 0.0395 - accuracy: 0.9942 - val_loss: 1.2163 - val_accuracy: 0.7797\n"
          ]
        },
        {
          "output_type": "execute_result",
          "data": {
            "text/plain": [
              "<keras.callbacks.History at 0x7fce9e3f9b50>"
            ]
          },
          "metadata": {},
          "execution_count": 76
        }
      ]
    },
    {
      "cell_type": "code",
      "source": [
        "results = model_s.evaluate(np.asarray(X_test_abs_stem).astype(\"float32\"), y_test_s_cat, verbose=0)\n",
        "print(results[1]) #accuracy"
      ],
      "metadata": {
        "colab": {
          "base_uri": "https://localhost:8080/"
        },
        "outputId": "a4750513-0330-4716-ffe6-ae210ab87dc4",
        "id": "fnm7uIk1LsXx"
      },
      "execution_count": 86,
      "outputs": [
        {
          "output_type": "stream",
          "name": "stdout",
          "text": [
            "0.7985865473747253\n"
          ]
        }
      ]
    },
    {
      "cell_type": "markdown",
      "source": [
        "#### Lemmatized"
      ],
      "metadata": {
        "id": "Hy8rI8G-Km01"
      }
    },
    {
      "cell_type": "code",
      "source": [
        "#input dim\n",
        "X_train_abs_lem.shape"
      ],
      "metadata": {
        "id": "6l4qRH6emK6I",
        "colab": {
          "base_uri": "https://localhost:8080/"
        },
        "outputId": "ec29ac84-d56d-4a3d-ed0d-c030bd9dbf80"
      },
      "execution_count": 78,
      "outputs": [
        {
          "output_type": "execute_result",
          "data": {
            "text/plain": [
              "(10182, 1575)"
            ]
          },
          "metadata": {},
          "execution_count": 78
        }
      ]
    },
    {
      "cell_type": "code",
      "source": [
        "# Classification with 20 classes\n",
        "model = Sequential()\n",
        "model.add(layers.Dense(30, activation='relu', input_dim=X_train_abs_lem.shape[1]))\n",
        "#model.add(layers.Dense(20, activation='relu'))\n",
        "#model.add(layers.Dense(20, activation='relu'))\n",
        "model.add(layers.Dense(20, activation='softmax'))"
      ],
      "metadata": {
        "id": "wZXIcLe5kup1"
      },
      "execution_count": 79,
      "outputs": []
    },
    {
      "cell_type": "code",
      "source": [
        "model.compile(\n",
        "    optimizer='adam',\n",
        "    loss='categorical_crossentropy', \n",
        "    metrics = ['accuracy'])"
      ],
      "metadata": {
        "id": "vexIpj6mmTlQ"
      },
      "execution_count": 80,
      "outputs": []
    },
    {
      "cell_type": "code",
      "source": [
        "model.summary()"
      ],
      "metadata": {
        "colab": {
          "base_uri": "https://localhost:8080/"
        },
        "id": "88sB5baLrdIe",
        "outputId": "cf78a7b6-c586-4469-81da-f14da1ecc4d5"
      },
      "execution_count": 81,
      "outputs": [
        {
          "output_type": "stream",
          "name": "stdout",
          "text": [
            "Model: \"sequential_6\"\n",
            "_________________________________________________________________\n",
            " Layer (type)                Output Shape              Param #   \n",
            "=================================================================\n",
            " dense_10 (Dense)            (None, 30)                47280     \n",
            "                                                                 \n",
            " dense_11 (Dense)            (None, 20)                620       \n",
            "                                                                 \n",
            "=================================================================\n",
            "Total params: 47,900\n",
            "Trainable params: 47,900\n",
            "Non-trainable params: 0\n",
            "_________________________________________________________________\n"
          ]
        }
      ]
    },
    {
      "cell_type": "code",
      "source": [
        "#Early stopping\n",
        "es = EarlyStopping(patience=20, restore_best_weights=True)"
      ],
      "metadata": {
        "id": "MqP7vOyCt0Pn"
      },
      "execution_count": 82,
      "outputs": []
    },
    {
      "cell_type": "code",
      "source": [
        "# Fit\n",
        "model.fit(np.asarray(X_train_abs_lem).astype(\"float32\"), y_train_l_cat, epochs=100, validation_split=0.3, callbacks=[es])"
      ],
      "metadata": {
        "colab": {
          "base_uri": "https://localhost:8080/"
        },
        "id": "i0RyMvN7mo3q",
        "outputId": "762f5252-c8f9-4fb5-8022-589565bb8e0b"
      },
      "execution_count": 83,
      "outputs": [
        {
          "output_type": "stream",
          "name": "stdout",
          "text": [
            "Epoch 1/100\n",
            "223/223 [==============================] - 1s 4ms/step - loss: 2.2346 - accuracy: 0.4663 - val_loss: 1.5206 - val_accuracy: 0.7074\n",
            "Epoch 2/100\n",
            "223/223 [==============================] - 1s 3ms/step - loss: 1.1029 - accuracy: 0.7883 - val_loss: 1.0782 - val_accuracy: 0.7722\n",
            "Epoch 3/100\n",
            "223/223 [==============================] - 1s 3ms/step - loss: 0.7269 - accuracy: 0.8597 - val_loss: 0.9308 - val_accuracy: 0.7820\n",
            "Epoch 4/100\n",
            "223/223 [==============================] - 1s 3ms/step - loss: 0.5424 - accuracy: 0.8946 - val_loss: 0.8709 - val_accuracy: 0.7957\n",
            "Epoch 5/100\n",
            "223/223 [==============================] - 1s 3ms/step - loss: 0.4223 - accuracy: 0.9192 - val_loss: 0.8462 - val_accuracy: 0.7951\n",
            "Epoch 6/100\n",
            "223/223 [==============================] - 1s 3ms/step - loss: 0.3359 - accuracy: 0.9413 - val_loss: 0.8386 - val_accuracy: 0.8013\n",
            "Epoch 7/100\n",
            "223/223 [==============================] - 1s 3ms/step - loss: 0.2715 - accuracy: 0.9557 - val_loss: 0.8725 - val_accuracy: 0.7921\n",
            "Epoch 8/100\n",
            "223/223 [==============================] - 1s 3ms/step - loss: 0.2238 - accuracy: 0.9656 - val_loss: 0.8602 - val_accuracy: 0.7971\n",
            "Epoch 9/100\n",
            "223/223 [==============================] - 1s 3ms/step - loss: 0.1831 - accuracy: 0.9736 - val_loss: 0.8984 - val_accuracy: 0.7941\n",
            "Epoch 10/100\n",
            "223/223 [==============================] - 1s 3ms/step - loss: 0.1520 - accuracy: 0.9805 - val_loss: 0.9135 - val_accuracy: 0.7961\n",
            "Epoch 11/100\n",
            "223/223 [==============================] - 1s 3ms/step - loss: 0.1264 - accuracy: 0.9855 - val_loss: 0.9379 - val_accuracy: 0.7971\n",
            "Epoch 12/100\n",
            "223/223 [==============================] - 1s 3ms/step - loss: 0.1057 - accuracy: 0.9881 - val_loss: 0.9675 - val_accuracy: 0.8003\n",
            "Epoch 13/100\n",
            "223/223 [==============================] - 1s 3ms/step - loss: 0.0972 - accuracy: 0.9888 - val_loss: 1.0066 - val_accuracy: 0.7948\n",
            "Epoch 14/100\n",
            "223/223 [==============================] - 1s 3ms/step - loss: 0.0785 - accuracy: 0.9930 - val_loss: 1.0250 - val_accuracy: 0.7954\n",
            "Epoch 15/100\n",
            "223/223 [==============================] - 1s 3ms/step - loss: 0.0649 - accuracy: 0.9951 - val_loss: 1.0503 - val_accuracy: 0.7948\n",
            "Epoch 16/100\n",
            "223/223 [==============================] - 1s 3ms/step - loss: 0.0659 - accuracy: 0.9937 - val_loss: 1.2962 - val_accuracy: 0.7735\n",
            "Epoch 17/100\n",
            "223/223 [==============================] - 1s 3ms/step - loss: 0.0759 - accuracy: 0.9914 - val_loss: 1.1406 - val_accuracy: 0.7902\n",
            "Epoch 18/100\n",
            "223/223 [==============================] - 1s 3ms/step - loss: 0.0446 - accuracy: 0.9971 - val_loss: 1.1657 - val_accuracy: 0.7905\n",
            "Epoch 19/100\n",
            "223/223 [==============================] - 1s 3ms/step - loss: 0.0383 - accuracy: 0.9972 - val_loss: 1.1946 - val_accuracy: 0.7902\n",
            "Epoch 20/100\n",
            "223/223 [==============================] - 1s 3ms/step - loss: 0.0338 - accuracy: 0.9978 - val_loss: 1.2226 - val_accuracy: 0.7905\n",
            "Epoch 21/100\n",
            "223/223 [==============================] - 1s 3ms/step - loss: 0.0300 - accuracy: 0.9980 - val_loss: 1.2544 - val_accuracy: 0.7879\n",
            "Epoch 22/100\n",
            "223/223 [==============================] - 1s 3ms/step - loss: 0.0263 - accuracy: 0.9986 - val_loss: 1.2795 - val_accuracy: 0.7869\n",
            "Epoch 23/100\n",
            "223/223 [==============================] - 1s 3ms/step - loss: 0.0240 - accuracy: 0.9987 - val_loss: 1.3102 - val_accuracy: 0.7885\n",
            "Epoch 24/100\n",
            "223/223 [==============================] - 1s 3ms/step - loss: 0.0203 - accuracy: 0.9987 - val_loss: 1.3445 - val_accuracy: 0.7869\n",
            "Epoch 25/100\n",
            "223/223 [==============================] - 1s 3ms/step - loss: 0.0194 - accuracy: 0.9985 - val_loss: 1.3714 - val_accuracy: 0.7876\n",
            "Epoch 26/100\n",
            "223/223 [==============================] - 1s 3ms/step - loss: 0.0176 - accuracy: 0.9987 - val_loss: 1.4045 - val_accuracy: 0.7879\n"
          ]
        },
        {
          "output_type": "execute_result",
          "data": {
            "text/plain": [
              "<keras.callbacks.History at 0x7fce9e1fdad0>"
            ]
          },
          "metadata": {},
          "execution_count": 83
        }
      ]
    },
    {
      "cell_type": "code",
      "source": [
        "results = model.evaluate(np.asarray(X_test_abs_lem).astype(\"float32\"), y_test_l_cat, verbose=0)\n",
        "print(results[1]) #accuracy"
      ],
      "metadata": {
        "colab": {
          "base_uri": "https://localhost:8080/"
        },
        "id": "C72byLCSmtHa",
        "outputId": "530231ac-636b-4de6-e1ca-83459c9b25a2"
      },
      "execution_count": 84,
      "outputs": [
        {
          "output_type": "stream",
          "name": "stdout",
          "text": [
            "0.804770290851593\n"
          ]
        }
      ]
    },
    {
      "cell_type": "markdown",
      "source": [
        "### Rel. Freq. "
      ],
      "metadata": {
        "id": "QrS97Nr3OF_m"
      }
    },
    {
      "cell_type": "markdown",
      "source": [
        "#### Stemmed"
      ],
      "metadata": {
        "id": "ed170rKSOF_n"
      }
    },
    {
      "cell_type": "code",
      "source": [
        "#input dim\n",
        "X_train_rel_stem.shape[1]"
      ],
      "metadata": {
        "colab": {
          "base_uri": "https://localhost:8080/"
        },
        "outputId": "05e85db5-eeb0-42ba-c941-779ec99bf34b",
        "id": "v047kwxXOF_n"
      },
      "execution_count": 88,
      "outputs": [
        {
          "output_type": "execute_result",
          "data": {
            "text/plain": [
              "1641"
            ]
          },
          "metadata": {},
          "execution_count": 88
        }
      ]
    },
    {
      "cell_type": "code",
      "source": [
        "# Classification with 20 classes\n",
        "model_s = Sequential()\n",
        "model_s.add(layers.Dense(30, activation='relu', input_dim=X_train_rel_stem.shape[1]))\n",
        "#model.add(layers.Dense(20, activation='relu'))\n",
        "#model.add(layers.Dense(20, activation='relu'))\n",
        "model_s.add(layers.Dense(20, activation='softmax'))"
      ],
      "metadata": {
        "id": "KTmDqt0xOF_o"
      },
      "execution_count": 89,
      "outputs": []
    },
    {
      "cell_type": "code",
      "source": [
        "model_s.compile(\n",
        "    optimizer='adam',\n",
        "    loss='categorical_crossentropy', \n",
        "    metrics = ['accuracy'])"
      ],
      "metadata": {
        "id": "i7AQb77-OF_o"
      },
      "execution_count": 90,
      "outputs": []
    },
    {
      "cell_type": "code",
      "source": [
        "model_s.summary()"
      ],
      "metadata": {
        "colab": {
          "base_uri": "https://localhost:8080/"
        },
        "outputId": "13bc344b-1913-40a6-a1a2-98b1edf58faf",
        "id": "DFpR6vsoOF_o"
      },
      "execution_count": 91,
      "outputs": [
        {
          "output_type": "stream",
          "name": "stdout",
          "text": [
            "Model: \"sequential_7\"\n",
            "_________________________________________________________________\n",
            " Layer (type)                Output Shape              Param #   \n",
            "=================================================================\n",
            " dense_12 (Dense)            (None, 30)                49260     \n",
            "                                                                 \n",
            " dense_13 (Dense)            (None, 20)                620       \n",
            "                                                                 \n",
            "=================================================================\n",
            "Total params: 49,880\n",
            "Trainable params: 49,880\n",
            "Non-trainable params: 0\n",
            "_________________________________________________________________\n"
          ]
        }
      ]
    },
    {
      "cell_type": "code",
      "source": [
        "# Fit\n",
        "model_s.fit(np.asarray(X_train_rel_stem).astype(\"float32\"), y_train_s_cat, epochs=100, validation_split=0.3, callbacks=[es])"
      ],
      "metadata": {
        "colab": {
          "base_uri": "https://localhost:8080/"
        },
        "outputId": "4e5cb48d-a263-49b1-e818-55abea56f925",
        "id": "9WPf0NsEOF_p"
      },
      "execution_count": 92,
      "outputs": [
        {
          "output_type": "stream",
          "name": "stdout",
          "text": [
            "Epoch 1/100\n",
            "223/223 [==============================] - 1s 4ms/step - loss: 2.9565 - accuracy: 0.2078 - val_loss: 2.8909 - val_accuracy: 0.4468\n",
            "Epoch 2/100\n",
            "223/223 [==============================] - 1s 4ms/step - loss: 2.7538 - accuracy: 0.5786 - val_loss: 2.6189 - val_accuracy: 0.5741\n",
            "Epoch 3/100\n",
            "223/223 [==============================] - 1s 3ms/step - loss: 2.3936 - accuracy: 0.6607 - val_loss: 2.2531 - val_accuracy: 0.6354\n",
            "Epoch 4/100\n",
            "223/223 [==============================] - 1s 3ms/step - loss: 2.0060 - accuracy: 0.6972 - val_loss: 1.9263 - val_accuracy: 0.6661\n",
            "Epoch 5/100\n",
            "223/223 [==============================] - 1s 3ms/step - loss: 1.6852 - accuracy: 0.7383 - val_loss: 1.6737 - val_accuracy: 0.6854\n",
            "Epoch 6/100\n",
            "223/223 [==============================] - 1s 3ms/step - loss: 1.4382 - accuracy: 0.7636 - val_loss: 1.4804 - val_accuracy: 0.7119\n",
            "Epoch 7/100\n",
            "223/223 [==============================] - 1s 3ms/step - loss: 1.2481 - accuracy: 0.7835 - val_loss: 1.3384 - val_accuracy: 0.7231\n",
            "Epoch 8/100\n",
            "223/223 [==============================] - 1s 3ms/step - loss: 1.1011 - accuracy: 0.8082 - val_loss: 1.2228 - val_accuracy: 0.7450\n",
            "Epoch 9/100\n",
            "223/223 [==============================] - 1s 3ms/step - loss: 0.9843 - accuracy: 0.8222 - val_loss: 1.1366 - val_accuracy: 0.7489\n",
            "Epoch 10/100\n",
            "223/223 [==============================] - 1s 3ms/step - loss: 0.8889 - accuracy: 0.8375 - val_loss: 1.0658 - val_accuracy: 0.7568\n",
            "Epoch 11/100\n",
            "223/223 [==============================] - 1s 3ms/step - loss: 0.8111 - accuracy: 0.8437 - val_loss: 1.0104 - val_accuracy: 0.7637\n",
            "Epoch 12/100\n",
            "223/223 [==============================] - 1s 3ms/step - loss: 0.7448 - accuracy: 0.8556 - val_loss: 0.9624 - val_accuracy: 0.7689\n",
            "Epoch 13/100\n",
            "223/223 [==============================] - 1s 3ms/step - loss: 0.6870 - accuracy: 0.8624 - val_loss: 0.9214 - val_accuracy: 0.7758\n",
            "Epoch 14/100\n",
            "223/223 [==============================] - 1s 4ms/step - loss: 0.6383 - accuracy: 0.8722 - val_loss: 0.8897 - val_accuracy: 0.7771\n",
            "Epoch 15/100\n",
            "223/223 [==============================] - 1s 3ms/step - loss: 0.5944 - accuracy: 0.8806 - val_loss: 0.8610 - val_accuracy: 0.7784\n",
            "Epoch 16/100\n",
            "223/223 [==============================] - 1s 3ms/step - loss: 0.5559 - accuracy: 0.8882 - val_loss: 0.8368 - val_accuracy: 0.7885\n",
            "Epoch 17/100\n",
            "223/223 [==============================] - 1s 3ms/step - loss: 0.5210 - accuracy: 0.8936 - val_loss: 0.8160 - val_accuracy: 0.7863\n",
            "Epoch 18/100\n",
            "223/223 [==============================] - 1s 3ms/step - loss: 0.4897 - accuracy: 0.9002 - val_loss: 0.7974 - val_accuracy: 0.7908\n",
            "Epoch 19/100\n",
            "223/223 [==============================] - 1s 3ms/step - loss: 0.4610 - accuracy: 0.9060 - val_loss: 0.7809 - val_accuracy: 0.7902\n",
            "Epoch 20/100\n",
            "223/223 [==============================] - 1s 3ms/step - loss: 0.4346 - accuracy: 0.9113 - val_loss: 0.7667 - val_accuracy: 0.7925\n",
            "Epoch 21/100\n",
            "223/223 [==============================] - 1s 4ms/step - loss: 0.4100 - accuracy: 0.9167 - val_loss: 0.7571 - val_accuracy: 0.7984\n",
            "Epoch 22/100\n",
            "223/223 [==============================] - 1s 4ms/step - loss: 0.3873 - accuracy: 0.9210 - val_loss: 0.7460 - val_accuracy: 0.7974\n",
            "Epoch 23/100\n",
            "223/223 [==============================] - 1s 3ms/step - loss: 0.3669 - accuracy: 0.9254 - val_loss: 0.7363 - val_accuracy: 0.7990\n",
            "Epoch 24/100\n",
            "223/223 [==============================] - 1s 3ms/step - loss: 0.3467 - accuracy: 0.9307 - val_loss: 0.7280 - val_accuracy: 0.8029\n",
            "Epoch 25/100\n",
            "223/223 [==============================] - 1s 3ms/step - loss: 0.3285 - accuracy: 0.9336 - val_loss: 0.7208 - val_accuracy: 0.8026\n",
            "Epoch 26/100\n",
            "223/223 [==============================] - 1s 3ms/step - loss: 0.3115 - accuracy: 0.9380 - val_loss: 0.7158 - val_accuracy: 0.8043\n",
            "Epoch 27/100\n",
            "223/223 [==============================] - 1s 4ms/step - loss: 0.2951 - accuracy: 0.9408 - val_loss: 0.7108 - val_accuracy: 0.8049\n",
            "Epoch 28/100\n",
            "223/223 [==============================] - 1s 3ms/step - loss: 0.2796 - accuracy: 0.9443 - val_loss: 0.7074 - val_accuracy: 0.8075\n",
            "Epoch 29/100\n",
            "223/223 [==============================] - 1s 3ms/step - loss: 0.2654 - accuracy: 0.9486 - val_loss: 0.7000 - val_accuracy: 0.8095\n",
            "Epoch 30/100\n",
            "223/223 [==============================] - 1s 3ms/step - loss: 0.2519 - accuracy: 0.9512 - val_loss: 0.6989 - val_accuracy: 0.8092\n",
            "Epoch 31/100\n",
            "223/223 [==============================] - 1s 3ms/step - loss: 0.2386 - accuracy: 0.9555 - val_loss: 0.6958 - val_accuracy: 0.8098\n",
            "Epoch 32/100\n",
            "223/223 [==============================] - 1s 3ms/step - loss: 0.2261 - accuracy: 0.9602 - val_loss: 0.6942 - val_accuracy: 0.8108\n",
            "Epoch 33/100\n",
            "223/223 [==============================] - 1s 3ms/step - loss: 0.2146 - accuracy: 0.9621 - val_loss: 0.6925 - val_accuracy: 0.8108\n",
            "Epoch 34/100\n",
            "223/223 [==============================] - 1s 4ms/step - loss: 0.2034 - accuracy: 0.9651 - val_loss: 0.6915 - val_accuracy: 0.8124\n",
            "Epoch 35/100\n",
            "223/223 [==============================] - 1s 4ms/step - loss: 0.1931 - accuracy: 0.9683 - val_loss: 0.6945 - val_accuracy: 0.8128\n",
            "Epoch 36/100\n",
            "223/223 [==============================] - 1s 3ms/step - loss: 0.1832 - accuracy: 0.9711 - val_loss: 0.6938 - val_accuracy: 0.8121\n",
            "Epoch 37/100\n",
            "223/223 [==============================] - 1s 4ms/step - loss: 0.1738 - accuracy: 0.9732 - val_loss: 0.6948 - val_accuracy: 0.8137\n",
            "Epoch 38/100\n",
            "223/223 [==============================] - 1s 4ms/step - loss: 0.1643 - accuracy: 0.9759 - val_loss: 0.6941 - val_accuracy: 0.8128\n",
            "Epoch 39/100\n",
            "223/223 [==============================] - 1s 3ms/step - loss: 0.1559 - accuracy: 0.9773 - val_loss: 0.6940 - val_accuracy: 0.8137\n",
            "Epoch 40/100\n",
            "223/223 [==============================] - 1s 3ms/step - loss: 0.1478 - accuracy: 0.9811 - val_loss: 0.6934 - val_accuracy: 0.8111\n",
            "Epoch 41/100\n",
            "223/223 [==============================] - 1s 3ms/step - loss: 0.1401 - accuracy: 0.9822 - val_loss: 0.6970 - val_accuracy: 0.8124\n",
            "Epoch 42/100\n",
            "223/223 [==============================] - 1s 3ms/step - loss: 0.1323 - accuracy: 0.9853 - val_loss: 0.7001 - val_accuracy: 0.8131\n",
            "Epoch 43/100\n",
            "223/223 [==============================] - 1s 3ms/step - loss: 0.1256 - accuracy: 0.9868 - val_loss: 0.7018 - val_accuracy: 0.8128\n",
            "Epoch 44/100\n",
            "223/223 [==============================] - 1s 3ms/step - loss: 0.1188 - accuracy: 0.9885 - val_loss: 0.7032 - val_accuracy: 0.8124\n",
            "Epoch 45/100\n",
            "223/223 [==============================] - 1s 3ms/step - loss: 0.1123 - accuracy: 0.9902 - val_loss: 0.7097 - val_accuracy: 0.8101\n",
            "Epoch 46/100\n",
            "223/223 [==============================] - 1s 3ms/step - loss: 0.1064 - accuracy: 0.9912 - val_loss: 0.7085 - val_accuracy: 0.8108\n",
            "Epoch 47/100\n",
            "223/223 [==============================] - 1s 3ms/step - loss: 0.1006 - accuracy: 0.9921 - val_loss: 0.7125 - val_accuracy: 0.8082\n",
            "Epoch 48/100\n",
            "223/223 [==============================] - 1s 3ms/step - loss: 0.0955 - accuracy: 0.9923 - val_loss: 0.7157 - val_accuracy: 0.8108\n",
            "Epoch 49/100\n",
            "223/223 [==============================] - 1s 3ms/step - loss: 0.0901 - accuracy: 0.9928 - val_loss: 0.7210 - val_accuracy: 0.8098\n",
            "Epoch 50/100\n",
            "223/223 [==============================] - 1s 3ms/step - loss: 0.0849 - accuracy: 0.9937 - val_loss: 0.7243 - val_accuracy: 0.8108\n",
            "Epoch 51/100\n",
            "223/223 [==============================] - 1s 3ms/step - loss: 0.0805 - accuracy: 0.9941 - val_loss: 0.7289 - val_accuracy: 0.8105\n",
            "Epoch 52/100\n",
            "223/223 [==============================] - 1s 3ms/step - loss: 0.0760 - accuracy: 0.9937 - val_loss: 0.7325 - val_accuracy: 0.8095\n",
            "Epoch 53/100\n",
            "223/223 [==============================] - 1s 3ms/step - loss: 0.0718 - accuracy: 0.9945 - val_loss: 0.7365 - val_accuracy: 0.8098\n",
            "Epoch 54/100\n",
            "223/223 [==============================] - 1s 3ms/step - loss: 0.0678 - accuracy: 0.9951 - val_loss: 0.7397 - val_accuracy: 0.8101\n"
          ]
        },
        {
          "output_type": "execute_result",
          "data": {
            "text/plain": [
              "<keras.callbacks.History at 0x7fce9e0f5dd0>"
            ]
          },
          "metadata": {},
          "execution_count": 92
        }
      ]
    },
    {
      "cell_type": "code",
      "source": [
        "results = model_s.evaluate(np.asarray(X_test_rel_stem).astype(\"float32\"), y_test_s_cat, verbose=0)\n",
        "print(results[1]) #accuracy"
      ],
      "metadata": {
        "colab": {
          "base_uri": "https://localhost:8080/"
        },
        "outputId": "596619ee-e464-4b99-fe2d-edae8abb7c1e",
        "id": "n8t3e8TaOF_p"
      },
      "execution_count": 93,
      "outputs": [
        {
          "output_type": "stream",
          "name": "stdout",
          "text": [
            "0.8038869500160217\n"
          ]
        }
      ]
    },
    {
      "cell_type": "markdown",
      "source": [
        "#### Lemmatized"
      ],
      "metadata": {
        "id": "f6NZMbyzOF_p"
      }
    },
    {
      "cell_type": "code",
      "source": [
        "#input dim\n",
        "X_train_rel_lem.shape"
      ],
      "metadata": {
        "colab": {
          "base_uri": "https://localhost:8080/"
        },
        "outputId": "2dc609fb-37a0-45ff-b68c-f51c90910f32",
        "id": "VZc5BDvwOF_q"
      },
      "execution_count": 94,
      "outputs": [
        {
          "output_type": "execute_result",
          "data": {
            "text/plain": [
              "(10182, 1575)"
            ]
          },
          "metadata": {},
          "execution_count": 94
        }
      ]
    },
    {
      "cell_type": "code",
      "source": [
        "# Classification with 20 classes\n",
        "model = Sequential()\n",
        "model.add(layers.Dense(30, activation='relu', input_dim=X_train_rel_lem.shape[1]))\n",
        "#model.add(layers.Dense(20, activation='relu'))\n",
        "#model.add(layers.Dense(20, activation='relu'))\n",
        "model.add(layers.Dense(20, activation='softmax'))"
      ],
      "metadata": {
        "id": "VIlQ3IciOF_q"
      },
      "execution_count": 95,
      "outputs": []
    },
    {
      "cell_type": "code",
      "source": [
        "model.compile(\n",
        "    optimizer='adam',\n",
        "    loss='categorical_crossentropy', \n",
        "    metrics = ['accuracy'])"
      ],
      "metadata": {
        "id": "eQf8PZfnOF_q"
      },
      "execution_count": 96,
      "outputs": []
    },
    {
      "cell_type": "code",
      "source": [
        "model.summary()"
      ],
      "metadata": {
        "colab": {
          "base_uri": "https://localhost:8080/"
        },
        "outputId": "bbaee252-d1fc-43b8-cd47-e400b54d1148",
        "id": "YmqIZ_bjOF_r"
      },
      "execution_count": 97,
      "outputs": [
        {
          "output_type": "stream",
          "name": "stdout",
          "text": [
            "Model: \"sequential_8\"\n",
            "_________________________________________________________________\n",
            " Layer (type)                Output Shape              Param #   \n",
            "=================================================================\n",
            " dense_14 (Dense)            (None, 30)                47280     \n",
            "                                                                 \n",
            " dense_15 (Dense)            (None, 20)                620       \n",
            "                                                                 \n",
            "=================================================================\n",
            "Total params: 47,900\n",
            "Trainable params: 47,900\n",
            "Non-trainable params: 0\n",
            "_________________________________________________________________\n"
          ]
        }
      ]
    },
    {
      "cell_type": "code",
      "source": [
        "#Early stopping\n",
        "es = EarlyStopping(patience=20, restore_best_weights=True)"
      ],
      "metadata": {
        "id": "mdFly-zhOF_r"
      },
      "execution_count": 98,
      "outputs": []
    },
    {
      "cell_type": "code",
      "source": [
        "# Fit\n",
        "model.fit(np.asarray(X_train_rel_lem).astype(\"float32\"), y_train_l_cat, epochs=100, validation_split=0.3, callbacks=[es])"
      ],
      "metadata": {
        "colab": {
          "base_uri": "https://localhost:8080/"
        },
        "outputId": "ccc5da60-04b9-4658-9cfe-b5c23044d370",
        "id": "gpmXyddyOF_r"
      },
      "execution_count": 99,
      "outputs": [
        {
          "output_type": "stream",
          "name": "stdout",
          "text": [
            "Epoch 1/100\n",
            "223/223 [==============================] - 1s 4ms/step - loss: 2.9549 - accuracy: 0.2718 - val_loss: 2.8881 - val_accuracy: 0.5080\n",
            "Epoch 2/100\n",
            "223/223 [==============================] - 1s 3ms/step - loss: 2.7593 - accuracy: 0.5378 - val_loss: 2.6211 - val_accuracy: 0.5489\n",
            "Epoch 3/100\n",
            "223/223 [==============================] - 1s 3ms/step - loss: 2.4231 - accuracy: 0.6231 - val_loss: 2.2698 - val_accuracy: 0.6079\n",
            "Epoch 4/100\n",
            "223/223 [==============================] - 1s 5ms/step - loss: 2.0584 - accuracy: 0.6694 - val_loss: 1.9461 - val_accuracy: 0.6576\n",
            "Epoch 5/100\n",
            "223/223 [==============================] - 1s 3ms/step - loss: 1.7469 - accuracy: 0.7104 - val_loss: 1.6883 - val_accuracy: 0.6884\n",
            "Epoch 6/100\n",
            "223/223 [==============================] - 1s 3ms/step - loss: 1.5016 - accuracy: 0.7364 - val_loss: 1.4926 - val_accuracy: 0.7126\n",
            "Epoch 7/100\n",
            "223/223 [==============================] - 1s 3ms/step - loss: 1.3107 - accuracy: 0.7647 - val_loss: 1.3435 - val_accuracy: 0.7349\n",
            "Epoch 8/100\n",
            "223/223 [==============================] - 1s 3ms/step - loss: 1.1620 - accuracy: 0.7878 - val_loss: 1.2289 - val_accuracy: 0.7460\n",
            "Epoch 9/100\n",
            "223/223 [==============================] - 1s 3ms/step - loss: 1.0430 - accuracy: 0.8050 - val_loss: 1.1375 - val_accuracy: 0.7558\n",
            "Epoch 10/100\n",
            "223/223 [==============================] - 1s 3ms/step - loss: 0.9464 - accuracy: 0.8146 - val_loss: 1.0651 - val_accuracy: 0.7660\n",
            "Epoch 11/100\n",
            "223/223 [==============================] - 1s 3ms/step - loss: 0.8654 - accuracy: 0.8253 - val_loss: 1.0068 - val_accuracy: 0.7715\n",
            "Epoch 12/100\n",
            "223/223 [==============================] - 1s 3ms/step - loss: 0.7983 - accuracy: 0.8336 - val_loss: 0.9596 - val_accuracy: 0.7692\n",
            "Epoch 13/100\n",
            "223/223 [==============================] - 1s 3ms/step - loss: 0.7404 - accuracy: 0.8406 - val_loss: 0.9193 - val_accuracy: 0.7800\n",
            "Epoch 14/100\n",
            "223/223 [==============================] - 1s 3ms/step - loss: 0.6901 - accuracy: 0.8516 - val_loss: 0.8853 - val_accuracy: 0.7817\n",
            "Epoch 15/100\n",
            "223/223 [==============================] - 1s 3ms/step - loss: 0.6452 - accuracy: 0.8586 - val_loss: 0.8574 - val_accuracy: 0.7817\n",
            "Epoch 16/100\n",
            "223/223 [==============================] - 1s 3ms/step - loss: 0.6052 - accuracy: 0.8653 - val_loss: 0.8317 - val_accuracy: 0.7866\n",
            "Epoch 17/100\n",
            "223/223 [==============================] - 1s 3ms/step - loss: 0.5699 - accuracy: 0.8729 - val_loss: 0.8098 - val_accuracy: 0.7885\n",
            "Epoch 18/100\n",
            "223/223 [==============================] - 1s 3ms/step - loss: 0.5375 - accuracy: 0.8795 - val_loss: 0.7921 - val_accuracy: 0.7993\n",
            "Epoch 19/100\n",
            "223/223 [==============================] - 1s 3ms/step - loss: 0.5074 - accuracy: 0.8863 - val_loss: 0.7766 - val_accuracy: 0.7984\n",
            "Epoch 20/100\n",
            "223/223 [==============================] - 1s 3ms/step - loss: 0.4799 - accuracy: 0.8957 - val_loss: 0.7629 - val_accuracy: 0.8016\n",
            "Epoch 21/100\n",
            "223/223 [==============================] - 1s 3ms/step - loss: 0.4547 - accuracy: 0.9005 - val_loss: 0.7496 - val_accuracy: 0.8029\n",
            "Epoch 22/100\n",
            "223/223 [==============================] - 1s 3ms/step - loss: 0.4304 - accuracy: 0.9066 - val_loss: 0.7384 - val_accuracy: 0.8072\n",
            "Epoch 23/100\n",
            "223/223 [==============================] - 1s 3ms/step - loss: 0.4088 - accuracy: 0.9120 - val_loss: 0.7289 - val_accuracy: 0.8088\n",
            "Epoch 24/100\n",
            "223/223 [==============================] - 1s 3ms/step - loss: 0.3880 - accuracy: 0.9172 - val_loss: 0.7207 - val_accuracy: 0.8101\n",
            "Epoch 25/100\n",
            "223/223 [==============================] - 1s 3ms/step - loss: 0.3681 - accuracy: 0.9242 - val_loss: 0.7129 - val_accuracy: 0.8098\n",
            "Epoch 26/100\n",
            "223/223 [==============================] - 1s 3ms/step - loss: 0.3499 - accuracy: 0.9276 - val_loss: 0.7047 - val_accuracy: 0.8124\n",
            "Epoch 27/100\n",
            "223/223 [==============================] - 1s 3ms/step - loss: 0.3324 - accuracy: 0.9343 - val_loss: 0.6992 - val_accuracy: 0.8170\n",
            "Epoch 28/100\n",
            "223/223 [==============================] - 1s 3ms/step - loss: 0.3160 - accuracy: 0.9381 - val_loss: 0.6949 - val_accuracy: 0.8144\n",
            "Epoch 29/100\n",
            "223/223 [==============================] - 1s 3ms/step - loss: 0.3002 - accuracy: 0.9423 - val_loss: 0.6913 - val_accuracy: 0.8141\n",
            "Epoch 30/100\n",
            "223/223 [==============================] - 1s 3ms/step - loss: 0.2852 - accuracy: 0.9471 - val_loss: 0.6867 - val_accuracy: 0.8154\n",
            "Epoch 31/100\n",
            "223/223 [==============================] - 1s 3ms/step - loss: 0.2713 - accuracy: 0.9482 - val_loss: 0.6845 - val_accuracy: 0.8144\n",
            "Epoch 32/100\n",
            "223/223 [==============================] - 1s 3ms/step - loss: 0.2578 - accuracy: 0.9515 - val_loss: 0.6803 - val_accuracy: 0.8187\n",
            "Epoch 33/100\n",
            "223/223 [==============================] - 1s 3ms/step - loss: 0.2450 - accuracy: 0.9558 - val_loss: 0.6795 - val_accuracy: 0.8160\n",
            "Epoch 34/100\n",
            "223/223 [==============================] - 1s 3ms/step - loss: 0.2330 - accuracy: 0.9587 - val_loss: 0.6763 - val_accuracy: 0.8180\n",
            "Epoch 35/100\n",
            "223/223 [==============================] - 1s 3ms/step - loss: 0.2214 - accuracy: 0.9617 - val_loss: 0.6746 - val_accuracy: 0.8206\n",
            "Epoch 36/100\n",
            "223/223 [==============================] - 1s 3ms/step - loss: 0.2101 - accuracy: 0.9655 - val_loss: 0.6748 - val_accuracy: 0.8196\n",
            "Epoch 37/100\n",
            "223/223 [==============================] - 1s 3ms/step - loss: 0.1996 - accuracy: 0.9677 - val_loss: 0.6732 - val_accuracy: 0.8209\n",
            "Epoch 38/100\n",
            "223/223 [==============================] - 1s 3ms/step - loss: 0.1897 - accuracy: 0.9708 - val_loss: 0.6725 - val_accuracy: 0.8187\n",
            "Epoch 39/100\n",
            "223/223 [==============================] - 1s 3ms/step - loss: 0.1801 - accuracy: 0.9726 - val_loss: 0.6727 - val_accuracy: 0.8196\n",
            "Epoch 40/100\n",
            "223/223 [==============================] - 1s 3ms/step - loss: 0.1710 - accuracy: 0.9759 - val_loss: 0.6735 - val_accuracy: 0.8206\n",
            "Epoch 41/100\n",
            "223/223 [==============================] - 1s 3ms/step - loss: 0.1622 - accuracy: 0.9770 - val_loss: 0.6742 - val_accuracy: 0.8173\n",
            "Epoch 42/100\n",
            "223/223 [==============================] - 1s 3ms/step - loss: 0.1538 - accuracy: 0.9804 - val_loss: 0.6753 - val_accuracy: 0.8177\n",
            "Epoch 43/100\n",
            "223/223 [==============================] - 1s 3ms/step - loss: 0.1460 - accuracy: 0.9804 - val_loss: 0.6751 - val_accuracy: 0.8187\n",
            "Epoch 44/100\n",
            "223/223 [==============================] - 1s 3ms/step - loss: 0.1383 - accuracy: 0.9833 - val_loss: 0.6787 - val_accuracy: 0.8183\n",
            "Epoch 45/100\n",
            "223/223 [==============================] - 1s 3ms/step - loss: 0.1314 - accuracy: 0.9851 - val_loss: 0.6789 - val_accuracy: 0.8203\n",
            "Epoch 46/100\n",
            "223/223 [==============================] - 1s 3ms/step - loss: 0.1243 - accuracy: 0.9870 - val_loss: 0.6819 - val_accuracy: 0.8187\n",
            "Epoch 47/100\n",
            "223/223 [==============================] - 1s 3ms/step - loss: 0.1178 - accuracy: 0.9875 - val_loss: 0.6857 - val_accuracy: 0.8187\n",
            "Epoch 48/100\n",
            "223/223 [==============================] - 1s 3ms/step - loss: 0.1116 - accuracy: 0.9882 - val_loss: 0.6864 - val_accuracy: 0.8187\n",
            "Epoch 49/100\n",
            "223/223 [==============================] - 1s 3ms/step - loss: 0.1057 - accuracy: 0.9892 - val_loss: 0.6887 - val_accuracy: 0.8187\n",
            "Epoch 50/100\n",
            "223/223 [==============================] - 1s 3ms/step - loss: 0.0999 - accuracy: 0.9902 - val_loss: 0.6920 - val_accuracy: 0.8193\n",
            "Epoch 51/100\n",
            "223/223 [==============================] - 1s 5ms/step - loss: 0.0948 - accuracy: 0.9912 - val_loss: 0.6941 - val_accuracy: 0.8180\n",
            "Epoch 52/100\n",
            "223/223 [==============================] - 1s 5ms/step - loss: 0.0896 - accuracy: 0.9914 - val_loss: 0.6953 - val_accuracy: 0.8183\n",
            "Epoch 53/100\n",
            "223/223 [==============================] - 1s 3ms/step - loss: 0.0848 - accuracy: 0.9927 - val_loss: 0.7015 - val_accuracy: 0.8164\n",
            "Epoch 54/100\n",
            "223/223 [==============================] - 1s 3ms/step - loss: 0.0802 - accuracy: 0.9931 - val_loss: 0.7029 - val_accuracy: 0.8167\n",
            "Epoch 55/100\n",
            "223/223 [==============================] - 1s 3ms/step - loss: 0.0757 - accuracy: 0.9934 - val_loss: 0.7072 - val_accuracy: 0.8190\n",
            "Epoch 56/100\n",
            "223/223 [==============================] - 1s 3ms/step - loss: 0.0715 - accuracy: 0.9938 - val_loss: 0.7102 - val_accuracy: 0.8180\n",
            "Epoch 57/100\n",
            "223/223 [==============================] - 1s 3ms/step - loss: 0.0676 - accuracy: 0.9942 - val_loss: 0.7150 - val_accuracy: 0.8164\n",
            "Epoch 58/100\n",
            "223/223 [==============================] - 1s 3ms/step - loss: 0.0638 - accuracy: 0.9949 - val_loss: 0.7197 - val_accuracy: 0.8167\n"
          ]
        },
        {
          "output_type": "execute_result",
          "data": {
            "text/plain": [
              "<keras.callbacks.History at 0x7fce9701b550>"
            ]
          },
          "metadata": {},
          "execution_count": 99
        }
      ]
    },
    {
      "cell_type": "code",
      "source": [
        "results = model.evaluate(np.asarray(X_test_rel_lem).astype(\"float32\"), y_test_l_cat, verbose=0)\n",
        "print(results[1]) #accuracy"
      ],
      "metadata": {
        "colab": {
          "base_uri": "https://localhost:8080/"
        },
        "outputId": "1592c7d6-5f50-494b-b4dc-65c2baa52291",
        "id": "WfZIvkcOOF_r"
      },
      "execution_count": 100,
      "outputs": [
        {
          "output_type": "stream",
          "name": "stdout",
          "text": [
            "0.804770290851593\n"
          ]
        }
      ]
    },
    {
      "cell_type": "markdown",
      "source": [
        "### Tf-Idf"
      ],
      "metadata": {
        "id": "1S1wytPNOyN4"
      }
    },
    {
      "cell_type": "markdown",
      "source": [
        "#### Stemmed"
      ],
      "metadata": {
        "id": "2QY9gF1YOyN4"
      }
    },
    {
      "cell_type": "code",
      "source": [
        "#input dim\n",
        "X_train_idf_stem.shape[1]"
      ],
      "metadata": {
        "colab": {
          "base_uri": "https://localhost:8080/"
        },
        "outputId": "44d7bed0-bdaf-4b0a-aa05-c92cabbb7fe1",
        "id": "3xb0TLRlOyN5"
      },
      "execution_count": 102,
      "outputs": [
        {
          "output_type": "execute_result",
          "data": {
            "text/plain": [
              "1641"
            ]
          },
          "metadata": {},
          "execution_count": 102
        }
      ]
    },
    {
      "cell_type": "code",
      "source": [
        "# Classification with 20 classes\n",
        "model_s = Sequential()\n",
        "model_s.add(layers.Dense(30, activation='relu', input_dim=X_train_idf_stem.shape[1]))\n",
        "#model.add(layers.Dense(20, activation='relu'))\n",
        "#model.add(layers.Dense(20, activation='relu'))\n",
        "model_s.add(layers.Dense(20, activation='softmax'))"
      ],
      "metadata": {
        "id": "1yFJjqb9OyN6"
      },
      "execution_count": 103,
      "outputs": []
    },
    {
      "cell_type": "code",
      "source": [
        "model_s.compile(\n",
        "    optimizer='adam',\n",
        "    loss='categorical_crossentropy', \n",
        "    metrics = ['accuracy'])"
      ],
      "metadata": {
        "id": "qxrtWCKSOyN7"
      },
      "execution_count": 104,
      "outputs": []
    },
    {
      "cell_type": "code",
      "source": [
        "model_s.summary()"
      ],
      "metadata": {
        "colab": {
          "base_uri": "https://localhost:8080/"
        },
        "outputId": "d472b37c-c00e-47c9-c3a3-40558b19bb96",
        "id": "2nRDrIXpOyN8"
      },
      "execution_count": 105,
      "outputs": [
        {
          "output_type": "stream",
          "name": "stdout",
          "text": [
            "Model: \"sequential_9\"\n",
            "_________________________________________________________________\n",
            " Layer (type)                Output Shape              Param #   \n",
            "=================================================================\n",
            " dense_16 (Dense)            (None, 30)                49260     \n",
            "                                                                 \n",
            " dense_17 (Dense)            (None, 20)                620       \n",
            "                                                                 \n",
            "=================================================================\n",
            "Total params: 49,880\n",
            "Trainable params: 49,880\n",
            "Non-trainable params: 0\n",
            "_________________________________________________________________\n"
          ]
        }
      ]
    },
    {
      "cell_type": "code",
      "source": [
        "# Fit\n",
        "model_s.fit(np.asarray(X_train_idf_stem).astype(\"float32\"), y_train_s_cat, epochs=100, validation_split=0.3, callbacks=[es])"
      ],
      "metadata": {
        "colab": {
          "base_uri": "https://localhost:8080/"
        },
        "outputId": "689e6b1b-1129-4383-995c-c1eaffa5488b",
        "id": "i_qfjjn0OyN8"
      },
      "execution_count": 106,
      "outputs": [
        {
          "output_type": "stream",
          "name": "stdout",
          "text": [
            "Epoch 1/100\n",
            "223/223 [==============================] - 1s 4ms/step - loss: 2.7517 - accuracy: 0.3804 - val_loss: 2.3809 - val_accuracy: 0.6098\n",
            "Epoch 2/100\n",
            "223/223 [==============================] - 1s 5ms/step - loss: 1.8628 - accuracy: 0.7258 - val_loss: 1.5603 - val_accuracy: 0.7296\n",
            "Epoch 3/100\n",
            "223/223 [==============================] - 1s 6ms/step - loss: 1.1937 - accuracy: 0.8109 - val_loss: 1.1444 - val_accuracy: 0.7620\n",
            "Epoch 4/100\n",
            "223/223 [==============================] - 1s 5ms/step - loss: 0.8566 - accuracy: 0.8436 - val_loss: 0.9442 - val_accuracy: 0.7777\n",
            "Epoch 5/100\n",
            "223/223 [==============================] - 1s 6ms/step - loss: 0.6698 - accuracy: 0.8682 - val_loss: 0.8304 - val_accuracy: 0.7902\n",
            "Epoch 6/100\n",
            "223/223 [==============================] - 1s 5ms/step - loss: 0.5485 - accuracy: 0.8852 - val_loss: 0.7637 - val_accuracy: 0.8003\n",
            "Epoch 7/100\n",
            "223/223 [==============================] - 1s 6ms/step - loss: 0.4614 - accuracy: 0.9023 - val_loss: 0.7190 - val_accuracy: 0.8072\n",
            "Epoch 8/100\n",
            "223/223 [==============================] - 1s 4ms/step - loss: 0.3947 - accuracy: 0.9196 - val_loss: 0.6892 - val_accuracy: 0.8072\n",
            "Epoch 9/100\n",
            "223/223 [==============================] - 1s 3ms/step - loss: 0.3399 - accuracy: 0.9305 - val_loss: 0.6665 - val_accuracy: 0.8134\n",
            "Epoch 10/100\n",
            "223/223 [==============================] - 1s 3ms/step - loss: 0.2950 - accuracy: 0.9437 - val_loss: 0.6531 - val_accuracy: 0.8164\n",
            "Epoch 11/100\n",
            "223/223 [==============================] - 1s 3ms/step - loss: 0.2567 - accuracy: 0.9534 - val_loss: 0.6452 - val_accuracy: 0.8147\n",
            "Epoch 12/100\n",
            "223/223 [==============================] - 1s 3ms/step - loss: 0.2242 - accuracy: 0.9610 - val_loss: 0.6382 - val_accuracy: 0.8147\n",
            "Epoch 13/100\n",
            "223/223 [==============================] - 1s 3ms/step - loss: 0.1966 - accuracy: 0.9683 - val_loss: 0.6327 - val_accuracy: 0.8173\n",
            "Epoch 14/100\n",
            "223/223 [==============================] - 1s 3ms/step - loss: 0.1717 - accuracy: 0.9736 - val_loss: 0.6303 - val_accuracy: 0.8154\n",
            "Epoch 15/100\n",
            "223/223 [==============================] - 1s 3ms/step - loss: 0.1502 - accuracy: 0.9795 - val_loss: 0.6343 - val_accuracy: 0.8134\n",
            "Epoch 16/100\n",
            "223/223 [==============================] - 1s 4ms/step - loss: 0.1318 - accuracy: 0.9827 - val_loss: 0.6353 - val_accuracy: 0.8124\n",
            "Epoch 17/100\n",
            "223/223 [==============================] - 1s 3ms/step - loss: 0.1158 - accuracy: 0.9867 - val_loss: 0.6391 - val_accuracy: 0.8131\n",
            "Epoch 18/100\n",
            "223/223 [==============================] - 1s 3ms/step - loss: 0.1018 - accuracy: 0.9896 - val_loss: 0.6429 - val_accuracy: 0.8128\n",
            "Epoch 19/100\n",
            "223/223 [==============================] - 1s 3ms/step - loss: 0.0891 - accuracy: 0.9917 - val_loss: 0.6502 - val_accuracy: 0.8105\n",
            "Epoch 20/100\n",
            "223/223 [==============================] - 1s 3ms/step - loss: 0.0785 - accuracy: 0.9935 - val_loss: 0.6539 - val_accuracy: 0.8092\n",
            "Epoch 21/100\n",
            "223/223 [==============================] - 1s 3ms/step - loss: 0.0687 - accuracy: 0.9944 - val_loss: 0.6615 - val_accuracy: 0.8075\n",
            "Epoch 22/100\n",
            "223/223 [==============================] - 1s 3ms/step - loss: 0.0605 - accuracy: 0.9955 - val_loss: 0.6702 - val_accuracy: 0.8082\n",
            "Epoch 23/100\n",
            "223/223 [==============================] - 1s 3ms/step - loss: 0.0532 - accuracy: 0.9966 - val_loss: 0.6790 - val_accuracy: 0.8065\n",
            "Epoch 24/100\n",
            "223/223 [==============================] - 1s 3ms/step - loss: 0.0468 - accuracy: 0.9972 - val_loss: 0.6869 - val_accuracy: 0.8059\n",
            "Epoch 25/100\n",
            "223/223 [==============================] - 1s 3ms/step - loss: 0.0411 - accuracy: 0.9980 - val_loss: 0.6933 - val_accuracy: 0.8043\n",
            "Epoch 26/100\n",
            "223/223 [==============================] - 1s 3ms/step - loss: 0.0362 - accuracy: 0.9985 - val_loss: 0.7030 - val_accuracy: 0.8036\n",
            "Epoch 27/100\n",
            "223/223 [==============================] - 1s 3ms/step - loss: 0.0321 - accuracy: 0.9986 - val_loss: 0.7128 - val_accuracy: 0.8029\n",
            "Epoch 28/100\n",
            "223/223 [==============================] - 1s 3ms/step - loss: 0.0282 - accuracy: 0.9985 - val_loss: 0.7235 - val_accuracy: 0.8043\n",
            "Epoch 29/100\n",
            "223/223 [==============================] - 1s 3ms/step - loss: 0.0250 - accuracy: 0.9990 - val_loss: 0.7319 - val_accuracy: 0.8046\n",
            "Epoch 30/100\n",
            "223/223 [==============================] - 1s 3ms/step - loss: 0.0219 - accuracy: 0.9993 - val_loss: 0.7440 - val_accuracy: 0.8046\n",
            "Epoch 31/100\n",
            "223/223 [==============================] - 1s 4ms/step - loss: 0.0196 - accuracy: 0.9993 - val_loss: 0.7512 - val_accuracy: 0.8033\n",
            "Epoch 32/100\n",
            "223/223 [==============================] - 1s 4ms/step - loss: 0.0173 - accuracy: 0.9994 - val_loss: 0.7629 - val_accuracy: 0.8046\n",
            "Epoch 33/100\n",
            "223/223 [==============================] - 1s 3ms/step - loss: 0.0153 - accuracy: 0.9994 - val_loss: 0.7714 - val_accuracy: 0.8029\n",
            "Epoch 34/100\n",
            "223/223 [==============================] - 1s 3ms/step - loss: 0.0137 - accuracy: 0.9993 - val_loss: 0.7823 - val_accuracy: 0.8020\n"
          ]
        },
        {
          "output_type": "execute_result",
          "data": {
            "text/plain": [
              "<keras.callbacks.History at 0x7fce9bde63d0>"
            ]
          },
          "metadata": {},
          "execution_count": 106
        }
      ]
    },
    {
      "cell_type": "code",
      "source": [
        "results = model_s.evaluate(np.asarray(X_test_idf_stem).astype(\"float32\"), y_test_s_cat, verbose=0)\n",
        "print(results[1]) #accuracy"
      ],
      "metadata": {
        "colab": {
          "base_uri": "https://localhost:8080/"
        },
        "outputId": "6cf45a49-bfe5-432b-f629-cfd2244e16a9",
        "id": "oTYb3rxoOyN8"
      },
      "execution_count": 107,
      "outputs": [
        {
          "output_type": "stream",
          "name": "stdout",
          "text": [
            "0.8074204921722412\n"
          ]
        }
      ]
    },
    {
      "cell_type": "markdown",
      "source": [
        "#### Lemmatized"
      ],
      "metadata": {
        "id": "J9yoS-y1OyN9"
      }
    },
    {
      "cell_type": "code",
      "source": [
        "#input dim\n",
        "X_train_idf_lem.shape"
      ],
      "metadata": {
        "colab": {
          "base_uri": "https://localhost:8080/"
        },
        "outputId": "c2585212-a71f-4c1e-9c09-69355be15784",
        "id": "OhFeDqTtOyN9"
      },
      "execution_count": 108,
      "outputs": [
        {
          "output_type": "execute_result",
          "data": {
            "text/plain": [
              "(10182, 1575)"
            ]
          },
          "metadata": {},
          "execution_count": 108
        }
      ]
    },
    {
      "cell_type": "code",
      "source": [
        "# Classification with 20 classes\n",
        "model = Sequential()\n",
        "model.add(layers.Dense(30, activation='relu', input_dim=X_train_idf_lem.shape[1]))\n",
        "#model.add(layers.Dense(20, activation='relu'))\n",
        "#model.add(layers.Dense(20, activation='relu'))\n",
        "model.add(layers.Dense(20, activation='softmax'))"
      ],
      "metadata": {
        "id": "wpLTrdO-OyN9"
      },
      "execution_count": 109,
      "outputs": []
    },
    {
      "cell_type": "code",
      "source": [
        "model.compile(\n",
        "    optimizer='adam',\n",
        "    loss='categorical_crossentropy', \n",
        "    metrics = ['accuracy'])"
      ],
      "metadata": {
        "id": "0q5pz4RTOyN9"
      },
      "execution_count": 110,
      "outputs": []
    },
    {
      "cell_type": "code",
      "source": [
        "model.summary()"
      ],
      "metadata": {
        "colab": {
          "base_uri": "https://localhost:8080/"
        },
        "outputId": "1a71af2e-7c79-4db4-a926-9f97aab59798",
        "id": "w8KXsY1oOyN9"
      },
      "execution_count": 111,
      "outputs": [
        {
          "output_type": "stream",
          "name": "stdout",
          "text": [
            "Model: \"sequential_10\"\n",
            "_________________________________________________________________\n",
            " Layer (type)                Output Shape              Param #   \n",
            "=================================================================\n",
            " dense_18 (Dense)            (None, 30)                47280     \n",
            "                                                                 \n",
            " dense_19 (Dense)            (None, 20)                620       \n",
            "                                                                 \n",
            "=================================================================\n",
            "Total params: 47,900\n",
            "Trainable params: 47,900\n",
            "Non-trainable params: 0\n",
            "_________________________________________________________________\n"
          ]
        }
      ]
    },
    {
      "cell_type": "code",
      "source": [
        "#Early stopping\n",
        "es = EarlyStopping(patience=20, restore_best_weights=True)"
      ],
      "metadata": {
        "id": "akPInniAOyN-"
      },
      "execution_count": 112,
      "outputs": []
    },
    {
      "cell_type": "code",
      "source": [
        "# Fit\n",
        "model.fit(np.asarray(X_train_idf_lem).astype(\"float32\"), y_train_l_cat, epochs=100, validation_split=0.3, callbacks=[es])"
      ],
      "metadata": {
        "colab": {
          "base_uri": "https://localhost:8080/"
        },
        "outputId": "b69b2118-726f-4b0b-8dea-45e79963d116",
        "id": "8Cn5hzCjOyN-"
      },
      "execution_count": 113,
      "outputs": [
        {
          "output_type": "stream",
          "name": "stdout",
          "text": [
            "Epoch 1/100\n",
            "223/223 [==============================] - 1s 4ms/step - loss: 2.7725 - accuracy: 0.4149 - val_loss: 2.3947 - val_accuracy: 0.6026\n",
            "Epoch 2/100\n",
            "223/223 [==============================] - 1s 3ms/step - loss: 1.9118 - accuracy: 0.7161 - val_loss: 1.5453 - val_accuracy: 0.7332\n",
            "Epoch 3/100\n",
            "223/223 [==============================] - 1s 3ms/step - loss: 1.2248 - accuracy: 0.7950 - val_loss: 1.1252 - val_accuracy: 0.7715\n",
            "Epoch 4/100\n",
            "223/223 [==============================] - 1s 3ms/step - loss: 0.8867 - accuracy: 0.8311 - val_loss: 0.9286 - val_accuracy: 0.7869\n",
            "Epoch 5/100\n",
            "223/223 [==============================] - 1s 3ms/step - loss: 0.7015 - accuracy: 0.8532 - val_loss: 0.8213 - val_accuracy: 0.7954\n",
            "Epoch 6/100\n",
            "223/223 [==============================] - 1s 3ms/step - loss: 0.5807 - accuracy: 0.8758 - val_loss: 0.7556 - val_accuracy: 0.8020\n",
            "Epoch 7/100\n",
            "223/223 [==============================] - 1s 3ms/step - loss: 0.4925 - accuracy: 0.8929 - val_loss: 0.7158 - val_accuracy: 0.8082\n",
            "Epoch 8/100\n",
            "223/223 [==============================] - 1s 3ms/step - loss: 0.4246 - accuracy: 0.9094 - val_loss: 0.6841 - val_accuracy: 0.8147\n",
            "Epoch 9/100\n",
            "223/223 [==============================] - 1s 3ms/step - loss: 0.3683 - accuracy: 0.9238 - val_loss: 0.6609 - val_accuracy: 0.8151\n",
            "Epoch 10/100\n",
            "223/223 [==============================] - 1s 3ms/step - loss: 0.3213 - accuracy: 0.9355 - val_loss: 0.6487 - val_accuracy: 0.8167\n",
            "Epoch 11/100\n",
            "223/223 [==============================] - 1s 3ms/step - loss: 0.2814 - accuracy: 0.9454 - val_loss: 0.6371 - val_accuracy: 0.8157\n",
            "Epoch 12/100\n",
            "223/223 [==============================] - 1s 3ms/step - loss: 0.2469 - accuracy: 0.9565 - val_loss: 0.6305 - val_accuracy: 0.8190\n",
            "Epoch 13/100\n",
            "223/223 [==============================] - 1s 3ms/step - loss: 0.2169 - accuracy: 0.9641 - val_loss: 0.6263 - val_accuracy: 0.8190\n",
            "Epoch 14/100\n",
            "223/223 [==============================] - 1s 3ms/step - loss: 0.1909 - accuracy: 0.9697 - val_loss: 0.6236 - val_accuracy: 0.8157\n",
            "Epoch 15/100\n",
            "223/223 [==============================] - 1s 3ms/step - loss: 0.1680 - accuracy: 0.9770 - val_loss: 0.6248 - val_accuracy: 0.8147\n",
            "Epoch 16/100\n",
            "223/223 [==============================] - 1s 3ms/step - loss: 0.1477 - accuracy: 0.9820 - val_loss: 0.6254 - val_accuracy: 0.8177\n",
            "Epoch 17/100\n",
            "223/223 [==============================] - 1s 3ms/step - loss: 0.1303 - accuracy: 0.9864 - val_loss: 0.6279 - val_accuracy: 0.8177\n",
            "Epoch 18/100\n",
            "223/223 [==============================] - 1s 3ms/step - loss: 0.1150 - accuracy: 0.9879 - val_loss: 0.6314 - val_accuracy: 0.8151\n",
            "Epoch 19/100\n",
            "223/223 [==============================] - 1s 3ms/step - loss: 0.1012 - accuracy: 0.9905 - val_loss: 0.6369 - val_accuracy: 0.8151\n",
            "Epoch 20/100\n",
            "223/223 [==============================] - 1s 3ms/step - loss: 0.0893 - accuracy: 0.9921 - val_loss: 0.6404 - val_accuracy: 0.8137\n",
            "Epoch 21/100\n",
            "223/223 [==============================] - 1s 3ms/step - loss: 0.0786 - accuracy: 0.9935 - val_loss: 0.6483 - val_accuracy: 0.8128\n",
            "Epoch 22/100\n",
            "223/223 [==============================] - 1s 3ms/step - loss: 0.0693 - accuracy: 0.9941 - val_loss: 0.6540 - val_accuracy: 0.8134\n",
            "Epoch 23/100\n",
            "223/223 [==============================] - 1s 3ms/step - loss: 0.0610 - accuracy: 0.9962 - val_loss: 0.6603 - val_accuracy: 0.8141\n",
            "Epoch 24/100\n",
            "223/223 [==============================] - 1s 3ms/step - loss: 0.0540 - accuracy: 0.9966 - val_loss: 0.6695 - val_accuracy: 0.8108\n",
            "Epoch 25/100\n",
            "223/223 [==============================] - 1s 3ms/step - loss: 0.0477 - accuracy: 0.9976 - val_loss: 0.6760 - val_accuracy: 0.8108\n",
            "Epoch 26/100\n",
            "223/223 [==============================] - 1s 3ms/step - loss: 0.0421 - accuracy: 0.9980 - val_loss: 0.6859 - val_accuracy: 0.8108\n",
            "Epoch 27/100\n",
            "223/223 [==============================] - 1s 3ms/step - loss: 0.0373 - accuracy: 0.9985 - val_loss: 0.6955 - val_accuracy: 0.8062\n",
            "Epoch 28/100\n",
            "223/223 [==============================] - 1s 3ms/step - loss: 0.0331 - accuracy: 0.9985 - val_loss: 0.7033 - val_accuracy: 0.8085\n",
            "Epoch 29/100\n",
            "223/223 [==============================] - 1s 3ms/step - loss: 0.0295 - accuracy: 0.9986 - val_loss: 0.7118 - val_accuracy: 0.8092\n",
            "Epoch 30/100\n",
            "223/223 [==============================] - 1s 3ms/step - loss: 0.0262 - accuracy: 0.9989 - val_loss: 0.7204 - val_accuracy: 0.8095\n",
            "Epoch 31/100\n",
            "223/223 [==============================] - 1s 3ms/step - loss: 0.0233 - accuracy: 0.9990 - val_loss: 0.7307 - val_accuracy: 0.8085\n",
            "Epoch 32/100\n",
            "223/223 [==============================] - 1s 3ms/step - loss: 0.0210 - accuracy: 0.9989 - val_loss: 0.7405 - val_accuracy: 0.8092\n",
            "Epoch 33/100\n",
            "223/223 [==============================] - 1s 3ms/step - loss: 0.0188 - accuracy: 0.9987 - val_loss: 0.7499 - val_accuracy: 0.8065\n",
            "Epoch 34/100\n",
            "223/223 [==============================] - 1s 3ms/step - loss: 0.0169 - accuracy: 0.9990 - val_loss: 0.7622 - val_accuracy: 0.8059\n"
          ]
        },
        {
          "output_type": "execute_result",
          "data": {
            "text/plain": [
              "<keras.callbacks.History at 0x7fce9bc48b90>"
            ]
          },
          "metadata": {},
          "execution_count": 113
        }
      ]
    },
    {
      "cell_type": "code",
      "source": [
        "results = model.evaluate(np.asarray(X_test_idf_lem).astype(\"float32\"), y_test_l_cat, verbose=0)\n",
        "print(results[1]) #accuracy"
      ],
      "metadata": {
        "colab": {
          "base_uri": "https://localhost:8080/"
        },
        "outputId": "d162e2c5-5bdf-4e59-e6f8-d3e7efcfabd6",
        "id": "46NcwHDZOyN-"
      },
      "execution_count": 114,
      "outputs": [
        {
          "output_type": "stream",
          "name": "stdout",
          "text": [
            "0.8074204921722412\n"
          ]
        }
      ]
    }
  ]
}