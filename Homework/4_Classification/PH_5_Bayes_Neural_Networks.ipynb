{
  "nbformat": 4,
  "nbformat_minor": 0,
  "metadata": {
    "colab": {
      "name": "PH_5_Bayes_Neural_Networks.ipynb",
      "provenance": [],
      "collapsed_sections": [],
      "toc_visible": true,
      "authorship_tag": "ABX9TyOwnId90opDh3PVn0066inC",
      "include_colab_link": true
    },
    "kernelspec": {
      "name": "python3",
      "display_name": "Python 3"
    },
    "language_info": {
      "name": "python"
    }
  },
  "cells": [
    {
      "cell_type": "markdown",
      "metadata": {
        "id": "view-in-github",
        "colab_type": "text"
      },
      "source": [
        "<a href=\"https://colab.research.google.com/github/Heity94/TWSM_Lab/blob/main/Homework/4_Classification/PH_5_Bayes_Neural_Networks.ipynb\" target=\"_parent\"><img src=\"https://colab.research.google.com/assets/colab-badge.svg\" alt=\"Open In Colab\"/></a>"
      ]
    },
    {
      "cell_type": "markdown",
      "source": [
        "# Homework 3 \n",
        "Apply our two new models (multinomial naive Bayes and a neural network) to the 20-Newsgroups dataset."
      ],
      "metadata": {
        "id": "mKM5LpvStPSW"
      }
    },
    {
      "cell_type": "code",
      "source": [
        "# imports\n",
        "import re\n",
        "import pickle\n",
        "import pandas as pd\n",
        "import numpy as np\n",
        "from sklearn.feature_extraction.text import CountVectorizer, TfidfVectorizer\n",
        "from sklearn.preprocessing import Binarizer\n",
        "from sklearn.model_selection import train_test_split\n",
        "from gensim.corpora import Dictionary\n",
        "from gensim.models import TfidfModel\n",
        "from sklearn.naive_bayes import MultinomialNB\n",
        "from sklearn.metrics import accuracy_score, classification_report"
      ],
      "metadata": {
        "id": "xNvYyDMQtVhp"
      },
      "execution_count": 3,
      "outputs": []
    },
    {
      "cell_type": "code",
      "source": [
        "#Mount drive\n",
        "from google.colab import drive\n",
        "drive.mount('/content/drive')"
      ],
      "metadata": {
        "colab": {
          "base_uri": "https://localhost:8080/"
        },
        "id": "1TNvnNlWtaCl",
        "outputId": "dce5c177-f7e9-4d7f-b141-24c1c6992fcb"
      },
      "execution_count": 4,
      "outputs": [
        {
          "output_type": "stream",
          "name": "stdout",
          "text": [
            "Mounted at /content/drive\n"
          ]
        }
      ]
    },
    {
      "cell_type": "markdown",
      "source": [
        "### Load datasets"
      ],
      "metadata": {
        "id": "8IKsi-ZPuAfW"
      }
    },
    {
      "cell_type": "code",
      "source": [
        "#Load stemmed data as .pkl\n",
        "with open('/content/drive/MyDrive/Colab_Notebooks/02_HWR/00_data/Newsgroup/data_stemmed.pkl', 'rb') as f:\n",
        "    data_stemmed_list = pickle.load(f)\n",
        "\n",
        "stemmed_df = pd.DataFrame(data_stemmed_list, columns=[\"stemmed_text\"])"
      ],
      "metadata": {
        "id": "B2NuoA9wtaOc"
      },
      "execution_count": 5,
      "outputs": []
    },
    {
      "cell_type": "code",
      "source": [
        "#Load lemmatized data as .pkl\n",
        "with open('/content/drive/MyDrive/Colab_Notebooks/02_HWR/00_data/Newsgroup/data_lemma.pkl', 'rb') as f:\n",
        "    data_lemma_list = pickle.load(f)\n",
        "\n",
        "lemma_df = pd.DataFrame(data_lemma_list, columns=[\"stemmed_text\"])"
      ],
      "metadata": {
        "id": "6ZJrNcw7ttfS"
      },
      "execution_count": 6,
      "outputs": []
    },
    {
      "cell_type": "code",
      "source": [
        "# load y data\n",
        "y_df = pd.read_json(\"https://raw.githubusercontent.com/selva86/datasets/master/newsgroups.json\")[[\"target\",\"target_names\"]]\n",
        "y_df.head()"
      ],
      "metadata": {
        "colab": {
          "base_uri": "https://localhost:8080/",
          "height": 206
        },
        "id": "rzkIj4mU07ww",
        "outputId": "a2f1b424-e15d-46e9-c18e-a3c07bf766fd"
      },
      "execution_count": 7,
      "outputs": [
        {
          "output_type": "execute_result",
          "data": {
            "text/plain": [
              "   target           target_names\n",
              "0       7              rec.autos\n",
              "1       4  comp.sys.mac.hardware\n",
              "2       4  comp.sys.mac.hardware\n",
              "3       1          comp.graphics\n",
              "4      14              sci.space"
            ],
            "text/html": [
              "\n",
              "  <div id=\"df-44a8fbfa-4f3e-43a9-bdd8-04816aa3cf72\">\n",
              "    <div class=\"colab-df-container\">\n",
              "      <div>\n",
              "<style scoped>\n",
              "    .dataframe tbody tr th:only-of-type {\n",
              "        vertical-align: middle;\n",
              "    }\n",
              "\n",
              "    .dataframe tbody tr th {\n",
              "        vertical-align: top;\n",
              "    }\n",
              "\n",
              "    .dataframe thead th {\n",
              "        text-align: right;\n",
              "    }\n",
              "</style>\n",
              "<table border=\"1\" class=\"dataframe\">\n",
              "  <thead>\n",
              "    <tr style=\"text-align: right;\">\n",
              "      <th></th>\n",
              "      <th>target</th>\n",
              "      <th>target_names</th>\n",
              "    </tr>\n",
              "  </thead>\n",
              "  <tbody>\n",
              "    <tr>\n",
              "      <th>0</th>\n",
              "      <td>7</td>\n",
              "      <td>rec.autos</td>\n",
              "    </tr>\n",
              "    <tr>\n",
              "      <th>1</th>\n",
              "      <td>4</td>\n",
              "      <td>comp.sys.mac.hardware</td>\n",
              "    </tr>\n",
              "    <tr>\n",
              "      <th>2</th>\n",
              "      <td>4</td>\n",
              "      <td>comp.sys.mac.hardware</td>\n",
              "    </tr>\n",
              "    <tr>\n",
              "      <th>3</th>\n",
              "      <td>1</td>\n",
              "      <td>comp.graphics</td>\n",
              "    </tr>\n",
              "    <tr>\n",
              "      <th>4</th>\n",
              "      <td>14</td>\n",
              "      <td>sci.space</td>\n",
              "    </tr>\n",
              "  </tbody>\n",
              "</table>\n",
              "</div>\n",
              "      <button class=\"colab-df-convert\" onclick=\"convertToInteractive('df-44a8fbfa-4f3e-43a9-bdd8-04816aa3cf72')\"\n",
              "              title=\"Convert this dataframe to an interactive table.\"\n",
              "              style=\"display:none;\">\n",
              "        \n",
              "  <svg xmlns=\"http://www.w3.org/2000/svg\" height=\"24px\"viewBox=\"0 0 24 24\"\n",
              "       width=\"24px\">\n",
              "    <path d=\"M0 0h24v24H0V0z\" fill=\"none\"/>\n",
              "    <path d=\"M18.56 5.44l.94 2.06.94-2.06 2.06-.94-2.06-.94-.94-2.06-.94 2.06-2.06.94zm-11 1L8.5 8.5l.94-2.06 2.06-.94-2.06-.94L8.5 2.5l-.94 2.06-2.06.94zm10 10l.94 2.06.94-2.06 2.06-.94-2.06-.94-.94-2.06-.94 2.06-2.06.94z\"/><path d=\"M17.41 7.96l-1.37-1.37c-.4-.4-.92-.59-1.43-.59-.52 0-1.04.2-1.43.59L10.3 9.45l-7.72 7.72c-.78.78-.78 2.05 0 2.83L4 21.41c.39.39.9.59 1.41.59.51 0 1.02-.2 1.41-.59l7.78-7.78 2.81-2.81c.8-.78.8-2.07 0-2.86zM5.41 20L4 18.59l7.72-7.72 1.47 1.35L5.41 20z\"/>\n",
              "  </svg>\n",
              "      </button>\n",
              "      \n",
              "  <style>\n",
              "    .colab-df-container {\n",
              "      display:flex;\n",
              "      flex-wrap:wrap;\n",
              "      gap: 12px;\n",
              "    }\n",
              "\n",
              "    .colab-df-convert {\n",
              "      background-color: #E8F0FE;\n",
              "      border: none;\n",
              "      border-radius: 50%;\n",
              "      cursor: pointer;\n",
              "      display: none;\n",
              "      fill: #1967D2;\n",
              "      height: 32px;\n",
              "      padding: 0 0 0 0;\n",
              "      width: 32px;\n",
              "    }\n",
              "\n",
              "    .colab-df-convert:hover {\n",
              "      background-color: #E2EBFA;\n",
              "      box-shadow: 0px 1px 2px rgba(60, 64, 67, 0.3), 0px 1px 3px 1px rgba(60, 64, 67, 0.15);\n",
              "      fill: #174EA6;\n",
              "    }\n",
              "\n",
              "    [theme=dark] .colab-df-convert {\n",
              "      background-color: #3B4455;\n",
              "      fill: #D2E3FC;\n",
              "    }\n",
              "\n",
              "    [theme=dark] .colab-df-convert:hover {\n",
              "      background-color: #434B5C;\n",
              "      box-shadow: 0px 1px 3px 1px rgba(0, 0, 0, 0.15);\n",
              "      filter: drop-shadow(0px 1px 2px rgba(0, 0, 0, 0.3));\n",
              "      fill: #FFFFFF;\n",
              "    }\n",
              "  </style>\n",
              "\n",
              "      <script>\n",
              "        const buttonEl =\n",
              "          document.querySelector('#df-44a8fbfa-4f3e-43a9-bdd8-04816aa3cf72 button.colab-df-convert');\n",
              "        buttonEl.style.display =\n",
              "          google.colab.kernel.accessAllowed ? 'block' : 'none';\n",
              "\n",
              "        async function convertToInteractive(key) {\n",
              "          const element = document.querySelector('#df-44a8fbfa-4f3e-43a9-bdd8-04816aa3cf72');\n",
              "          const dataTable =\n",
              "            await google.colab.kernel.invokeFunction('convertToInteractive',\n",
              "                                                     [key], {});\n",
              "          if (!dataTable) return;\n",
              "\n",
              "          const docLinkHtml = 'Like what you see? Visit the ' +\n",
              "            '<a target=\"_blank\" href=https://colab.research.google.com/notebooks/data_table.ipynb>data table notebook</a>'\n",
              "            + ' to learn more about interactive tables.';\n",
              "          element.innerHTML = '';\n",
              "          dataTable['output_type'] = 'display_data';\n",
              "          await google.colab.output.renderOutput(dataTable, element);\n",
              "          const docLink = document.createElement('div');\n",
              "          docLink.innerHTML = docLinkHtml;\n",
              "          element.appendChild(docLink);\n",
              "        }\n",
              "      </script>\n",
              "    </div>\n",
              "  </div>\n",
              "  "
            ]
          },
          "metadata": {},
          "execution_count": 7
        }
      ]
    },
    {
      "cell_type": "code",
      "source": [
        "stemmed_y_df = pd.concat([stemmed_df, y_df], axis=1)\n",
        "lemma_y_df = pd.concat([lemma_df, y_df], axis=1)"
      ],
      "metadata": {
        "id": "LryCTZId1QbP"
      },
      "execution_count": 8,
      "outputs": []
    },
    {
      "cell_type": "code",
      "source": [
        "lemma_y_df.columns"
      ],
      "metadata": {
        "colab": {
          "base_uri": "https://localhost:8080/"
        },
        "id": "hRYWWg-b2uSu",
        "outputId": "e140c25b-fde0-4ed8-e82d-e2556311621a"
      },
      "execution_count": 9,
      "outputs": [
        {
          "output_type": "execute_result",
          "data": {
            "text/plain": [
              "Index(['stemmed_text', 'target', 'target_names'], dtype='object')"
            ]
          },
          "metadata": {},
          "execution_count": 9
        }
      ]
    },
    {
      "cell_type": "code",
      "source": [
        "# train test split\n",
        "X_stem = stemmed_y_df[[\"stemmed_text\"]]\n",
        "y_stem = stemmed_y_df['target']\n",
        "\n",
        "X_s_train, X_s_test, y_s_train, y_s_test = train_test_split(X_stem, y_stem, test_size=0.1)\n",
        "\n",
        "# train test split\n",
        "X_lem = lemma_y_df[[\"stemmed_text\"]]\n",
        "y_lem = lemma_y_df['target']\n",
        "\n",
        "X_l_train, X_l_test, y_l_train, y_l_test = train_test_split(X_lem, y_lem, test_size=0.1)"
      ],
      "metadata": {
        "id": "XQdH2rp92kiR"
      },
      "execution_count": 10,
      "outputs": []
    },
    {
      "cell_type": "markdown",
      "source": [
        "## Multinomial Naive Bayes"
      ],
      "metadata": {
        "id": "hPoMBIuC1wOV"
      }
    },
    {
      "cell_type": "code",
      "source": [
        "# Instantiate Vectorizers \n",
        "\n",
        "#Stemmed\n",
        "abs_vec_s = CountVectorizer(max_df=0.95, min_df=0.01)\n",
        "rel_vec_s = TfidfVectorizer(max_df=0.95, min_df=0.01, use_idf=False, norm='l1') # use-idf: Enable inverse-document-frequency reweighting; norm: Each output row will have unit norm (l1 = Sum of absolute values of vector elements is 1.)\n",
        "idf_vec_s = TfidfVectorizer(max_df=0.95, min_df=0.01, smooth_idf=True) # smooth_idf: Smooth idf weights by adding one to document frequencies (Prevents zero divisions) -> not regularized\n",
        "\n",
        "#Lemma\n",
        "abs_vec_l = CountVectorizer(max_df=0.95, min_df=0.01)\n",
        "rel_vec_l = TfidfVectorizer(max_df=0.95, min_df=0.01, use_idf=False, norm='l1') # use-idf: Enable inverse-document-frequency reweighting; norm: Each output row will have unit norm (l1 = Sum of absolute values of vector elements is 1.)\n",
        "idf_vec_l = TfidfVectorizer(max_df=0.95, min_df=0.01, smooth_idf=True) # smooth_idf: Smooth idf weights by adding one to document frequencies (Prevents zero divisions) -> not regularized"
      ],
      "metadata": {
        "id": "BbWvmS6w12PO"
      },
      "execution_count": 11,
      "outputs": []
    },
    {
      "cell_type": "markdown",
      "source": [
        "### Abs. Freq. "
      ],
      "metadata": {
        "id": "-Ijeobq_6Sx5"
      }
    },
    {
      "cell_type": "markdown",
      "source": [
        "#### Stemmed"
      ],
      "metadata": {
        "id": "3zTtrRUo6cBG"
      }
    },
    {
      "cell_type": "code",
      "source": [
        "X_train_abs_stem = abs_vec_s.fit_transform(X_s_train[\"stemmed_text\"]).toarray()\n",
        "X_test_abs_stem = abs_vec_s.transform(X_s_test[\"stemmed_text\"]).toarray()"
      ],
      "metadata": {
        "id": "VkshLrdRu1gE"
      },
      "execution_count": 12,
      "outputs": []
    },
    {
      "cell_type": "code",
      "source": [
        "clf_s = MultinomialNB()\n",
        "clf_s.fit(X_train_abs_stem, y_s_train)"
      ],
      "metadata": {
        "colab": {
          "base_uri": "https://localhost:8080/"
        },
        "id": "-D67m9yj4l0z",
        "outputId": "56c0a5b8-b5eb-47c4-face-66357db11af7"
      },
      "execution_count": 13,
      "outputs": [
        {
          "output_type": "execute_result",
          "data": {
            "text/plain": [
              "MultinomialNB()"
            ]
          },
          "metadata": {},
          "execution_count": 13
        }
      ]
    },
    {
      "cell_type": "code",
      "source": [
        "y_pred_s = clf_s.predict(X_test_abs_stem)\n",
        "print('Train accuracy: ', clf_s.score(X_train_abs_stem, y_s_train))\n",
        "print('Test accuracy: ', accuracy_score(y_pred_s, y_s_test))"
      ],
      "metadata": {
        "colab": {
          "base_uri": "https://localhost:8080/"
        },
        "id": "46qPzXaR4ybT",
        "outputId": "5b48120d-56aa-4e0a-a392-b6e298a3851f"
      },
      "execution_count": 14,
      "outputs": [
        {
          "output_type": "stream",
          "name": "stdout",
          "text": [
            "Train accuracy:  0.8475741504615989\n",
            "Test accuracy:  0.7756183745583038\n"
          ]
        }
      ]
    },
    {
      "cell_type": "markdown",
      "source": [
        "#### Lemmatized"
      ],
      "metadata": {
        "id": "AyA1oT1g6ezT"
      }
    },
    {
      "cell_type": "code",
      "source": [
        "X_train_abs_lem = abs_vec_l.fit_transform(X_l_train[\"stemmed_text\"]).toarray()\n",
        "X_test_abs_lem = abs_vec_l.transform(X_l_test[\"stemmed_text\"]).toarray()"
      ],
      "metadata": {
        "id": "yDn13pcV4ylY"
      },
      "execution_count": 15,
      "outputs": []
    },
    {
      "cell_type": "code",
      "source": [
        "clf_l = MultinomialNB()\n",
        "clf_l.fit(X_train_abs_lem, y_l_train)"
      ],
      "metadata": {
        "colab": {
          "base_uri": "https://localhost:8080/"
        },
        "id": "95VzI3uO4yte",
        "outputId": "12c48784-5224-42f4-f367-385cbfdd6ccb"
      },
      "execution_count": 16,
      "outputs": [
        {
          "output_type": "execute_result",
          "data": {
            "text/plain": [
              "MultinomialNB()"
            ]
          },
          "metadata": {},
          "execution_count": 16
        }
      ]
    },
    {
      "cell_type": "code",
      "source": [
        "y_pred_l = clf_l.predict(X_test_abs_lem)\n",
        "print('Train accuracy: ', clf_l.score(X_train_abs_lem, y_l_train))\n",
        "print('Test accuracy: ', accuracy_score(y_pred_l, y_l_test))"
      ],
      "metadata": {
        "colab": {
          "base_uri": "https://localhost:8080/"
        },
        "id": "JnTtJ2gq4y2i",
        "outputId": "77d121d7-5b48-45bb-ccef-88684ef919fe"
      },
      "execution_count": 17,
      "outputs": [
        {
          "output_type": "stream",
          "name": "stdout",
          "text": [
            "Train accuracy:  0.838243959929287\n",
            "Test accuracy:  0.7791519434628975\n"
          ]
        }
      ]
    },
    {
      "cell_type": "markdown",
      "source": [
        "### Rel. Freq. "
      ],
      "metadata": {
        "id": "AY_Sxl2E7clN"
      }
    },
    {
      "cell_type": "markdown",
      "source": [
        "#### Stemmed"
      ],
      "metadata": {
        "id": "8JABcikJ7clN"
      }
    },
    {
      "cell_type": "code",
      "source": [
        "X_train_rel_stem = rel_vec_s.fit_transform(X_s_train[\"stemmed_text\"]).toarray()\n",
        "X_test_rel_stem = rel_vec_s.transform(X_s_test[\"stemmed_text\"]).toarray()"
      ],
      "metadata": {
        "id": "sJSX8Vy07clN"
      },
      "execution_count": 18,
      "outputs": []
    },
    {
      "cell_type": "code",
      "source": [
        "clf_s = MultinomialNB()\n",
        "clf_s.fit(X_train_rel_stem, y_s_train)"
      ],
      "metadata": {
        "colab": {
          "base_uri": "https://localhost:8080/"
        },
        "outputId": "9afa7fe7-05a4-485f-f4f3-0831a0dd65d8",
        "id": "3bj09snE7clO"
      },
      "execution_count": 19,
      "outputs": [
        {
          "output_type": "execute_result",
          "data": {
            "text/plain": [
              "MultinomialNB()"
            ]
          },
          "metadata": {},
          "execution_count": 19
        }
      ]
    },
    {
      "cell_type": "code",
      "source": [
        "y_pred_s = clf_s.predict(X_test_rel_stem)\n",
        "print('Train accuracy: ', clf_s.score(X_train_rel_stem, y_s_train))\n",
        "print('Test accuracy: ', accuracy_score(y_pred_s, y_s_test))"
      ],
      "metadata": {
        "colab": {
          "base_uri": "https://localhost:8080/"
        },
        "outputId": "8e4b756d-fd28-4eaf-83ba-af7083acf2bd",
        "id": "bxArPK8k7clP"
      },
      "execution_count": 20,
      "outputs": [
        {
          "output_type": "stream",
          "name": "stdout",
          "text": [
            "Train accuracy:  0.7423885287762718\n",
            "Test accuracy:  0.6881625441696113\n"
          ]
        }
      ]
    },
    {
      "cell_type": "markdown",
      "source": [
        "#### Lemmatized"
      ],
      "metadata": {
        "id": "6EQILbjg7clP"
      }
    },
    {
      "cell_type": "code",
      "source": [
        "X_train_rel_lem = rel_vec_l.fit_transform(X_l_train[\"stemmed_text\"]).toarray()\n",
        "X_test_rel_lem = rel_vec_l.transform(X_l_test[\"stemmed_text\"]).toarray()"
      ],
      "metadata": {
        "id": "__XUoshy7clP"
      },
      "execution_count": 21,
      "outputs": []
    },
    {
      "cell_type": "code",
      "source": [
        "clf_l = MultinomialNB()\n",
        "clf_l.fit(X_train_rel_lem, y_l_train)"
      ],
      "metadata": {
        "colab": {
          "base_uri": "https://localhost:8080/"
        },
        "outputId": "10d5961f-7a31-45d8-a97c-ed200ec6a18f",
        "id": "lzNMmbP67clP"
      },
      "execution_count": 22,
      "outputs": [
        {
          "output_type": "execute_result",
          "data": {
            "text/plain": [
              "MultinomialNB()"
            ]
          },
          "metadata": {},
          "execution_count": 22
        }
      ]
    },
    {
      "cell_type": "code",
      "source": [
        "y_pred_l = clf_l.predict(X_test_rel_lem)\n",
        "print('Train accuracy: ', clf_l.score(X_train_rel_lem, y_l_train))\n",
        "print('Test accuracy: ', accuracy_score(y_pred_l, y_l_test))"
      ],
      "metadata": {
        "colab": {
          "base_uri": "https://localhost:8080/"
        },
        "outputId": "a0a843ba-be24-4446-e1cd-dc38597874d1",
        "id": "T6EqWRRH7clQ"
      },
      "execution_count": 23,
      "outputs": [
        {
          "output_type": "stream",
          "name": "stdout",
          "text": [
            "Train accuracy:  0.7229424474562954\n",
            "Test accuracy:  0.6607773851590106\n"
          ]
        }
      ]
    },
    {
      "cell_type": "markdown",
      "source": [
        "### TF-Idf"
      ],
      "metadata": {
        "id": "BEphvfzd8AjL"
      }
    },
    {
      "cell_type": "markdown",
      "source": [
        "#### Stemmed"
      ],
      "metadata": {
        "id": "lXvyaXj-8AjX"
      }
    },
    {
      "cell_type": "code",
      "source": [
        "X_train_idf_stem = idf_vec_s.fit_transform(X_s_train[\"stemmed_text\"]).toarray()\n",
        "X_test_idf_stem = idf_vec_s.transform(X_s_test[\"stemmed_text\"]).toarray()"
      ],
      "metadata": {
        "id": "3RlAetP78AjX"
      },
      "execution_count": 24,
      "outputs": []
    },
    {
      "cell_type": "code",
      "source": [
        "clf_s = MultinomialNB()\n",
        "clf_s.fit(X_train_idf_stem, y_s_train)"
      ],
      "metadata": {
        "colab": {
          "base_uri": "https://localhost:8080/"
        },
        "outputId": "d622d59a-8048-4949-809f-33258edd210e",
        "id": "MIh6Px_h8AjX"
      },
      "execution_count": 25,
      "outputs": [
        {
          "output_type": "execute_result",
          "data": {
            "text/plain": [
              "MultinomialNB()"
            ]
          },
          "metadata": {},
          "execution_count": 25
        }
      ]
    },
    {
      "cell_type": "code",
      "source": [
        "y_pred_s = clf_s.predict(X_test_idf_stem)\n",
        "print('Train accuracy: ', clf_s.score(X_train_idf_stem, y_s_train))\n",
        "print('Test accuracy: ', accuracy_score(y_pred_s, y_s_test))"
      ],
      "metadata": {
        "colab": {
          "base_uri": "https://localhost:8080/"
        },
        "outputId": "c8db2a97-b44f-4fd0-ddfa-641f001fdf87",
        "id": "J7oPmEuy8AjY"
      },
      "execution_count": 26,
      "outputs": [
        {
          "output_type": "stream",
          "name": "stdout",
          "text": [
            "Train accuracy:  0.8622078177175407\n",
            "Test accuracy:  0.7959363957597173\n"
          ]
        }
      ]
    },
    {
      "cell_type": "markdown",
      "source": [
        "#### Lemmatized"
      ],
      "metadata": {
        "id": "jnBMson28AjY"
      }
    },
    {
      "cell_type": "code",
      "source": [
        "X_train_idf_lem = idf_vec_l.fit_transform(X_l_train[\"stemmed_text\"]).toarray()\n",
        "X_test_idf_lem = idf_vec_l.transform(X_l_test[\"stemmed_text\"]).toarray()"
      ],
      "metadata": {
        "id": "HcgiLX1i8AjY"
      },
      "execution_count": 27,
      "outputs": []
    },
    {
      "cell_type": "code",
      "source": [
        "clf_l = MultinomialNB()\n",
        "clf_l.fit(X_train_idf_lem, y_l_train)"
      ],
      "metadata": {
        "colab": {
          "base_uri": "https://localhost:8080/"
        },
        "outputId": "aeb563e9-d1b4-42fe-83be-d725db5b189f",
        "id": "S2z8RyUM8AjY"
      },
      "execution_count": 28,
      "outputs": [
        {
          "output_type": "execute_result",
          "data": {
            "text/plain": [
              "MultinomialNB()"
            ]
          },
          "metadata": {},
          "execution_count": 28
        }
      ]
    },
    {
      "cell_type": "code",
      "source": [
        "y_pred_l = clf_l.predict(X_test_idf_lem)\n",
        "print('Train accuracy: ', clf_l.score(X_train_idf_lem, y_l_train))\n",
        "print('Test accuracy: ', accuracy_score(y_pred_l, y_l_test))"
      ],
      "metadata": {
        "colab": {
          "base_uri": "https://localhost:8080/"
        },
        "outputId": "de731407-4163-42bb-8930-76c56e6500b4",
        "id": "s4IzEu8n8AjY"
      },
      "execution_count": 29,
      "outputs": [
        {
          "output_type": "stream",
          "name": "stdout",
          "text": [
            "Train accuracy:  0.8516990768021999\n",
            "Test accuracy:  0.7959363957597173\n"
          ]
        }
      ]
    },
    {
      "cell_type": "markdown",
      "source": [
        "## Neural Networks"
      ],
      "metadata": {
        "id": "OGegQ6OeuS4u"
      }
    },
    {
      "cell_type": "code",
      "source": [
        "from tensorflow.keras import Sequential, layers\n",
        "from tensorflow.keras.callbacks import EarlyStopping"
      ],
      "metadata": {
        "id": "1YPdkBaD8u_i"
      },
      "execution_count": 92,
      "outputs": []
    },
    {
      "cell_type": "code",
      "source": [
        "# no of classes in dataset\n",
        "y_df.target.nunique()"
      ],
      "metadata": {
        "colab": {
          "base_uri": "https://localhost:8080/"
        },
        "id": "x6okx_fik8HR",
        "outputId": "0c5b641c-ed60-4d01-c938-9524b024e606"
      },
      "execution_count": 40,
      "outputs": [
        {
          "output_type": "execute_result",
          "data": {
            "text/plain": [
              "20"
            ]
          },
          "metadata": {},
          "execution_count": 40
        }
      ]
    },
    {
      "cell_type": "code",
      "source": [
        "from tensorflow.keras.utils import to_categorical\n",
        "y_l_train_cat = to_categorical(y_l_train)\n",
        "y_l_test_cat = to_categorical(y_l_test)"
      ],
      "metadata": {
        "id": "oVixruV0qr7W"
      },
      "execution_count": 107,
      "outputs": []
    },
    {
      "cell_type": "code",
      "source": [
        "#input dim\n",
        "X_train_abs_lem.shape"
      ],
      "metadata": {
        "id": "6l4qRH6emK6I",
        "colab": {
          "base_uri": "https://localhost:8080/"
        },
        "outputId": "645cb2d0-eb10-40bd-e18f-2e3260a2ec80"
      },
      "execution_count": 74,
      "outputs": [
        {
          "output_type": "execute_result",
          "data": {
            "text/plain": [
              "(10182, 1566)"
            ]
          },
          "metadata": {},
          "execution_count": 74
        }
      ]
    },
    {
      "cell_type": "code",
      "source": [
        "# Classification with 20 classes\n",
        "model = Sequential()\n",
        "model.add(layers.Dense(30, activation='relu', input_dim=1566))\n",
        "#model.add(layers.Dense(20, activation='relu'))\n",
        "#model.add(layers.Dense(20, activation='relu'))\n",
        "model.add(layers.Dense(20, activation='softmax'))"
      ],
      "metadata": {
        "id": "wZXIcLe5kup1"
      },
      "execution_count": 121,
      "outputs": []
    },
    {
      "cell_type": "code",
      "source": [
        "model.compile(\n",
        "    optimizer='adam',\n",
        "    loss='categorical_crossentropy', \n",
        "    metrics = ['accuracy'])"
      ],
      "metadata": {
        "id": "vexIpj6mmTlQ"
      },
      "execution_count": 122,
      "outputs": []
    },
    {
      "cell_type": "code",
      "source": [
        "model.summary()"
      ],
      "metadata": {
        "colab": {
          "base_uri": "https://localhost:8080/"
        },
        "id": "88sB5baLrdIe",
        "outputId": "8bfba8d4-5e6d-4c6c-dee2-f17d374778c2"
      },
      "execution_count": 123,
      "outputs": [
        {
          "output_type": "stream",
          "name": "stdout",
          "text": [
            "Model: \"sequential_11\"\n",
            "_________________________________________________________________\n",
            " Layer (type)                Output Shape              Param #   \n",
            "=================================================================\n",
            " dense_32 (Dense)            (None, 30)                47010     \n",
            "                                                                 \n",
            " dense_33 (Dense)            (None, 20)                620       \n",
            "                                                                 \n",
            "=================================================================\n",
            "Total params: 47,630\n",
            "Trainable params: 47,630\n",
            "Non-trainable params: 0\n",
            "_________________________________________________________________\n"
          ]
        }
      ]
    },
    {
      "cell_type": "code",
      "source": [
        "#Early stopping\n",
        "es = EarlyStopping(patience=20, restore_best_weights=True)"
      ],
      "metadata": {
        "id": "MqP7vOyCt0Pn"
      },
      "execution_count": 124,
      "outputs": []
    },
    {
      "cell_type": "code",
      "source": [
        "model.fit(np.asarray(X_train_abs_lem).astype(\"float32\"), y_l_train_cat, epochs=100, validation_split=0.3, callbacks=[es])"
      ],
      "metadata": {
        "colab": {
          "base_uri": "https://localhost:8080/"
        },
        "id": "i0RyMvN7mo3q",
        "outputId": "b2bd4e53-2c6f-451f-d005-bf05f4a48317"
      },
      "execution_count": 125,
      "outputs": [
        {
          "output_type": "stream",
          "name": "stdout",
          "text": [
            "Epoch 1/100\n",
            "223/223 [==============================] - 2s 4ms/step - loss: 2.2641 - accuracy: 0.4571 - val_loss: 1.5320 - val_accuracy: 0.6995\n",
            "Epoch 2/100\n",
            "223/223 [==============================] - 1s 3ms/step - loss: 1.1226 - accuracy: 0.7929 - val_loss: 1.0453 - val_accuracy: 0.7620\n",
            "Epoch 3/100\n",
            "223/223 [==============================] - 1s 3ms/step - loss: 0.7336 - accuracy: 0.8548 - val_loss: 0.8742 - val_accuracy: 0.7869\n",
            "Epoch 4/100\n",
            "223/223 [==============================] - 1s 3ms/step - loss: 0.5393 - accuracy: 0.8914 - val_loss: 0.7993 - val_accuracy: 0.7931\n",
            "Epoch 5/100\n",
            "223/223 [==============================] - 1s 3ms/step - loss: 0.4183 - accuracy: 0.9176 - val_loss: 0.7694 - val_accuracy: 0.8003\n",
            "Epoch 6/100\n",
            "223/223 [==============================] - 1s 3ms/step - loss: 0.3339 - accuracy: 0.9364 - val_loss: 0.7604 - val_accuracy: 0.8049\n",
            "Epoch 7/100\n",
            "223/223 [==============================] - 1s 5ms/step - loss: 0.2696 - accuracy: 0.9530 - val_loss: 0.7613 - val_accuracy: 0.7993\n",
            "Epoch 8/100\n",
            "223/223 [==============================] - 1s 5ms/step - loss: 0.2204 - accuracy: 0.9625 - val_loss: 0.7631 - val_accuracy: 0.8036\n",
            "Epoch 9/100\n",
            "223/223 [==============================] - 1s 3ms/step - loss: 0.1829 - accuracy: 0.9704 - val_loss: 0.7872 - val_accuracy: 0.8029\n",
            "Epoch 10/100\n",
            "223/223 [==============================] - 1s 3ms/step - loss: 0.1506 - accuracy: 0.9794 - val_loss: 0.8054 - val_accuracy: 0.7977\n",
            "Epoch 11/100\n",
            "223/223 [==============================] - 1s 3ms/step - loss: 0.1258 - accuracy: 0.9839 - val_loss: 0.8283 - val_accuracy: 0.7974\n",
            "Epoch 12/100\n",
            "223/223 [==============================] - 1s 3ms/step - loss: 0.1056 - accuracy: 0.9882 - val_loss: 0.8504 - val_accuracy: 0.7984\n",
            "Epoch 13/100\n",
            "223/223 [==============================] - 1s 3ms/step - loss: 0.0896 - accuracy: 0.9898 - val_loss: 0.8757 - val_accuracy: 0.7948\n",
            "Epoch 14/100\n",
            "223/223 [==============================] - 1s 3ms/step - loss: 0.0749 - accuracy: 0.9913 - val_loss: 0.9030 - val_accuracy: 0.7938\n",
            "Epoch 15/100\n",
            "223/223 [==============================] - 1s 3ms/step - loss: 0.0659 - accuracy: 0.9945 - val_loss: 0.9400 - val_accuracy: 0.7935\n",
            "Epoch 16/100\n",
            "223/223 [==============================] - 1s 3ms/step - loss: 0.0553 - accuracy: 0.9957 - val_loss: 0.9651 - val_accuracy: 0.7899\n",
            "Epoch 17/100\n",
            "223/223 [==============================] - 1s 3ms/step - loss: 0.0481 - accuracy: 0.9962 - val_loss: 0.9959 - val_accuracy: 0.7879\n",
            "Epoch 18/100\n",
            "223/223 [==============================] - 1s 3ms/step - loss: 0.0658 - accuracy: 0.9914 - val_loss: 1.0932 - val_accuracy: 0.7807\n",
            "Epoch 19/100\n",
            "223/223 [==============================] - 1s 3ms/step - loss: 0.0596 - accuracy: 0.9913 - val_loss: 1.0895 - val_accuracy: 0.7784\n",
            "Epoch 20/100\n",
            "223/223 [==============================] - 1s 3ms/step - loss: 0.0464 - accuracy: 0.9955 - val_loss: 1.1151 - val_accuracy: 0.7755\n",
            "Epoch 21/100\n",
            "223/223 [==============================] - 1s 3ms/step - loss: 0.0339 - accuracy: 0.9978 - val_loss: 1.1198 - val_accuracy: 0.7817\n",
            "Epoch 22/100\n",
            "223/223 [==============================] - 1s 3ms/step - loss: 0.0302 - accuracy: 0.9973 - val_loss: 1.1318 - val_accuracy: 0.7777\n",
            "Epoch 23/100\n",
            "223/223 [==============================] - 1s 3ms/step - loss: 0.0259 - accuracy: 0.9980 - val_loss: 1.1493 - val_accuracy: 0.7827\n",
            "Epoch 24/100\n",
            "223/223 [==============================] - 1s 3ms/step - loss: 0.0234 - accuracy: 0.9982 - val_loss: 1.1684 - val_accuracy: 0.7797\n",
            "Epoch 25/100\n",
            "223/223 [==============================] - 1s 3ms/step - loss: 0.0218 - accuracy: 0.9985 - val_loss: 1.1874 - val_accuracy: 0.7791\n",
            "Epoch 26/100\n",
            "223/223 [==============================] - 1s 3ms/step - loss: 0.0203 - accuracy: 0.9982 - val_loss: 1.2067 - val_accuracy: 0.7777\n"
          ]
        },
        {
          "output_type": "execute_result",
          "data": {
            "text/plain": [
              "<keras.callbacks.History at 0x7f84781f4710>"
            ]
          },
          "metadata": {},
          "execution_count": 125
        }
      ]
    },
    {
      "cell_type": "code",
      "source": [
        "results = model.evaluate(np.asarray(X_test_abs_lem).astype(\"float32\"), y_l_test_cat, verbose=0)\n",
        "print(results[1])"
      ],
      "metadata": {
        "colab": {
          "base_uri": "https://localhost:8080/"
        },
        "id": "C72byLCSmtHa",
        "outputId": "96b2009b-e788-4a1a-ac5d-9029a05e9b87"
      },
      "execution_count": 126,
      "outputs": [
        {
          "output_type": "stream",
          "name": "stdout",
          "text": [
            "0.8038869500160217\n"
          ]
        }
      ]
    },
    {
      "cell_type": "code",
      "source": [
        ""
      ],
      "metadata": {
        "id": "USQAmb6WvpWb"
      },
      "execution_count": 126,
      "outputs": []
    }
  ]
}