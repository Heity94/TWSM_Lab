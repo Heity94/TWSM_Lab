{
  "nbformat": 4,
  "nbformat_minor": 0,
  "metadata": {
    "colab": {
      "name": "PH_4_HW_Representation_2.ipynb",
      "provenance": [],
      "toc_visible": true,
      "authorship_tag": "ABX9TyMDGQH6Eqvrm/LeGc3WlOpd",
      "include_colab_link": true
    },
    "kernelspec": {
      "name": "python3",
      "display_name": "Python 3"
    },
    "language_info": {
      "name": "python"
    },
    "accelerator": "GPU"
  },
  "cells": [
    {
      "cell_type": "markdown",
      "metadata": {
        "id": "view-in-github",
        "colab_type": "text"
      },
      "source": [
        "<a href=\"https://colab.research.google.com/github/Heity94/TWSM_Lab/blob/main/Homework/4_Exercise_Representation_2/PH_4_HW_Representation_2.ipynb\" target=\"_parent\"><img src=\"https://colab.research.google.com/assets/colab-badge.svg\" alt=\"Open In Colab\"/></a>"
      ]
    },
    {
      "cell_type": "code",
      "execution_count": null,
      "metadata": {
        "id": "Gpa0wHlb5bLR"
      },
      "outputs": [],
      "source": [
        " !pip install transformers"
      ]
    },
    {
      "cell_type": "code",
      "source": [
        "#imports\n",
        "import pickle\n",
        "import numpy as np\n",
        "import pandas as pd\n",
        "from gensim.models import Word2Vec\n",
        "from scipy.spatial.distance import cosine\n",
        "from gensim.models.doc2vec import Doc2Vec, TaggedDocument\n",
        "import tensorflow as tf\n",
        "import torch\n",
        "from transformers import BertTokenizer, BertModel\n",
        "from keras.preprocessing.sequence import pad_sequences\n",
        "from torch.utils.data import TensorDataset, DataLoader, RandomSampler, SequentialSampler"
      ],
      "metadata": {
        "id": "m8IyAVC75pCZ"
      },
      "execution_count": 2,
      "outputs": []
    },
    {
      "cell_type": "code",
      "source": [
        "#Mount drive\n",
        "from google.colab import drive\n",
        "drive.mount('/content/drive')"
      ],
      "metadata": {
        "id": "zP_DkzvV5wyr",
        "colab": {
          "base_uri": "https://localhost:8080/"
        },
        "outputId": "a97b9d42-eb9f-4a01-93f1-0bd01f58b02e"
      },
      "execution_count": 3,
      "outputs": [
        {
          "output_type": "stream",
          "name": "stdout",
          "text": [
            "Drive already mounted at /content/drive; to attempt to forcibly remount, call drive.mount(\"/content/drive\", force_remount=True).\n"
          ]
        }
      ]
    },
    {
      "cell_type": "code",
      "source": [
        "#Load lemmatized data as .pkl\n",
        "with open('/content/drive/MyDrive/Colab_Notebooks/02_HWR/00_data/Newsgroup/data_lemma.pkl', 'rb') as f:\n",
        "    data_lemma = pickle.load(f)\n",
        "\n",
        "lemma_df = pd.DataFrame(data_lemma, columns=[\"text\"])"
      ],
      "metadata": {
        "id": "oSKKWMVD6F1Y"
      },
      "execution_count": 4,
      "outputs": []
    },
    {
      "cell_type": "code",
      "source": [
        "lemma_df.head(5)"
      ],
      "metadata": {
        "colab": {
          "base_uri": "https://localhost:8080/",
          "height": 206
        },
        "id": "hwOo2QVs6eoe",
        "outputId": "71f9b3fb-a608-488f-8d18-f485f30e5fb6"
      },
      "execution_count": 5,
      "outputs": [
        {
          "output_type": "execute_result",
          "data": {
            "text/plain": [
              "                                                text\n",
              "0  car wonder enlighten car see day door sport ca...\n",
              "1  clock poll final final clock report accelerati...\n",
              "2  question folk mac plus finally give ghost week...\n",
              "3  weitek nntp post host amber ssd csd harris com...\n",
              "4  shuttle launch question article cowcb world st..."
            ],
            "text/html": [
              "\n",
              "  <div id=\"df-267d0c06-b38b-4dc3-8869-855ef65199a6\">\n",
              "    <div class=\"colab-df-container\">\n",
              "      <div>\n",
              "<style scoped>\n",
              "    .dataframe tbody tr th:only-of-type {\n",
              "        vertical-align: middle;\n",
              "    }\n",
              "\n",
              "    .dataframe tbody tr th {\n",
              "        vertical-align: top;\n",
              "    }\n",
              "\n",
              "    .dataframe thead th {\n",
              "        text-align: right;\n",
              "    }\n",
              "</style>\n",
              "<table border=\"1\" class=\"dataframe\">\n",
              "  <thead>\n",
              "    <tr style=\"text-align: right;\">\n",
              "      <th></th>\n",
              "      <th>text</th>\n",
              "    </tr>\n",
              "  </thead>\n",
              "  <tbody>\n",
              "    <tr>\n",
              "      <th>0</th>\n",
              "      <td>car wonder enlighten car see day door sport ca...</td>\n",
              "    </tr>\n",
              "    <tr>\n",
              "      <th>1</th>\n",
              "      <td>clock poll final final clock report accelerati...</td>\n",
              "    </tr>\n",
              "    <tr>\n",
              "      <th>2</th>\n",
              "      <td>question folk mac plus finally give ghost week...</td>\n",
              "    </tr>\n",
              "    <tr>\n",
              "      <th>3</th>\n",
              "      <td>weitek nntp post host amber ssd csd harris com...</td>\n",
              "    </tr>\n",
              "    <tr>\n",
              "      <th>4</th>\n",
              "      <td>shuttle launch question article cowcb world st...</td>\n",
              "    </tr>\n",
              "  </tbody>\n",
              "</table>\n",
              "</div>\n",
              "      <button class=\"colab-df-convert\" onclick=\"convertToInteractive('df-267d0c06-b38b-4dc3-8869-855ef65199a6')\"\n",
              "              title=\"Convert this dataframe to an interactive table.\"\n",
              "              style=\"display:none;\">\n",
              "        \n",
              "  <svg xmlns=\"http://www.w3.org/2000/svg\" height=\"24px\"viewBox=\"0 0 24 24\"\n",
              "       width=\"24px\">\n",
              "    <path d=\"M0 0h24v24H0V0z\" fill=\"none\"/>\n",
              "    <path d=\"M18.56 5.44l.94 2.06.94-2.06 2.06-.94-2.06-.94-.94-2.06-.94 2.06-2.06.94zm-11 1L8.5 8.5l.94-2.06 2.06-.94-2.06-.94L8.5 2.5l-.94 2.06-2.06.94zm10 10l.94 2.06.94-2.06 2.06-.94-2.06-.94-.94-2.06-.94 2.06-2.06.94z\"/><path d=\"M17.41 7.96l-1.37-1.37c-.4-.4-.92-.59-1.43-.59-.52 0-1.04.2-1.43.59L10.3 9.45l-7.72 7.72c-.78.78-.78 2.05 0 2.83L4 21.41c.39.39.9.59 1.41.59.51 0 1.02-.2 1.41-.59l7.78-7.78 2.81-2.81c.8-.78.8-2.07 0-2.86zM5.41 20L4 18.59l7.72-7.72 1.47 1.35L5.41 20z\"/>\n",
              "  </svg>\n",
              "      </button>\n",
              "      \n",
              "  <style>\n",
              "    .colab-df-container {\n",
              "      display:flex;\n",
              "      flex-wrap:wrap;\n",
              "      gap: 12px;\n",
              "    }\n",
              "\n",
              "    .colab-df-convert {\n",
              "      background-color: #E8F0FE;\n",
              "      border: none;\n",
              "      border-radius: 50%;\n",
              "      cursor: pointer;\n",
              "      display: none;\n",
              "      fill: #1967D2;\n",
              "      height: 32px;\n",
              "      padding: 0 0 0 0;\n",
              "      width: 32px;\n",
              "    }\n",
              "\n",
              "    .colab-df-convert:hover {\n",
              "      background-color: #E2EBFA;\n",
              "      box-shadow: 0px 1px 2px rgba(60, 64, 67, 0.3), 0px 1px 3px 1px rgba(60, 64, 67, 0.15);\n",
              "      fill: #174EA6;\n",
              "    }\n",
              "\n",
              "    [theme=dark] .colab-df-convert {\n",
              "      background-color: #3B4455;\n",
              "      fill: #D2E3FC;\n",
              "    }\n",
              "\n",
              "    [theme=dark] .colab-df-convert:hover {\n",
              "      background-color: #434B5C;\n",
              "      box-shadow: 0px 1px 3px 1px rgba(0, 0, 0, 0.15);\n",
              "      filter: drop-shadow(0px 1px 2px rgba(0, 0, 0, 0.3));\n",
              "      fill: #FFFFFF;\n",
              "    }\n",
              "  </style>\n",
              "\n",
              "      <script>\n",
              "        const buttonEl =\n",
              "          document.querySelector('#df-267d0c06-b38b-4dc3-8869-855ef65199a6 button.colab-df-convert');\n",
              "        buttonEl.style.display =\n",
              "          google.colab.kernel.accessAllowed ? 'block' : 'none';\n",
              "\n",
              "        async function convertToInteractive(key) {\n",
              "          const element = document.querySelector('#df-267d0c06-b38b-4dc3-8869-855ef65199a6');\n",
              "          const dataTable =\n",
              "            await google.colab.kernel.invokeFunction('convertToInteractive',\n",
              "                                                     [key], {});\n",
              "          if (!dataTable) return;\n",
              "\n",
              "          const docLinkHtml = 'Like what you see? Visit the ' +\n",
              "            '<a target=\"_blank\" href=https://colab.research.google.com/notebooks/data_table.ipynb>data table notebook</a>'\n",
              "            + ' to learn more about interactive tables.';\n",
              "          element.innerHTML = '';\n",
              "          dataTable['output_type'] = 'display_data';\n",
              "          await google.colab.output.renderOutput(dataTable, element);\n",
              "          const docLink = document.createElement('div');\n",
              "          docLink.innerHTML = docLinkHtml;\n",
              "          element.appendChild(docLink);\n",
              "        }\n",
              "      </script>\n",
              "    </div>\n",
              "  </div>\n",
              "  "
            ]
          },
          "metadata": {},
          "execution_count": 5
        }
      ]
    },
    {
      "cell_type": "code",
      "source": [
        "# Generate corpus\n",
        "corpus_gen = [doc.split() for doc in lemma_df[\"text\"]]"
      ],
      "metadata": {
        "id": "cMIs3h1v6k2P"
      },
      "execution_count": 6,
      "outputs": []
    },
    {
      "cell_type": "markdown",
      "source": [
        "# Word2Vec"
      ],
      "metadata": {
        "id": "pFFuNA3_6wNn"
      }
    },
    {
      "cell_type": "code",
      "source": [
        "# Initialize and train a ~gensim.models.word2vec.Word2Vec model\n",
        "model = Word2Vec(corpus_gen, size=100, min_count=566)\n",
        "#size = dimensionality of vector\n",
        "#min_count: ignores all words with total frequency lower than this"
      ],
      "metadata": {
        "id": "XJQ72tqC7IvL"
      },
      "execution_count": 7,
      "outputs": []
    },
    {
      "cell_type": "code",
      "source": [
        "#save model\n",
        "model.save('drive/MyDrive/Colab_Notebooks/02_HWR/00_data/Models/word2vec.model')"
      ],
      "metadata": {
        "id": "HiIgP5Rw7jHZ"
      },
      "execution_count": 8,
      "outputs": []
    },
    {
      "cell_type": "markdown",
      "source": [
        "Print the sorted features of the model using model.wv.vocab.keys(). Compare them\n",
        "with those from Exercise 3"
      ],
      "metadata": {
        "id": "36KEtTgE7mdf"
      }
    },
    {
      "cell_type": "code",
      "source": [
        "model.wv.vocab.keys()"
      ],
      "metadata": {
        "colab": {
          "base_uri": "https://localhost:8080/"
        },
        "id": "skgt6tei8YMw",
        "outputId": "67dd1786-19db-404c-9667-0d4576383f9c"
      },
      "execution_count": 9,
      "outputs": [
        {
          "output_type": "execute_result",
          "data": {
            "text/plain": [
              "dict_keys(['car', 'wonder', 'see', 'day', 'look', 'early', 'call', 'small', 'body', 'know', 'model', 'year', 'history', 'info', 'mail', 'thank', 'bring', 'report', 'nntp', 'post', 'host', 'washington', 'edu', 'number', 'experience', 'send', 'message', 'speed', 'rate', 'add', 'card', 'disk', 'request', 'network', 'base', 'answer', 'guy', 'question', 'mac', 'give', 'start', 'life', 'way', 'new', 'machine', 'bit', 'maybe', 'anybody', 'expect', 'hear', 'suppose', 'access', 'price', 'line', 'like', 'go', 'display', 'probably', 'get', 'feel', 'well', 'great', 'good', 'opinion', 'people', 'use', 'take', 'size', 'money', 'hit', 'real', 'play', 'figure', 'actually', 'advance', 'email', 'news', 'time', 'truth', 'com', 'uucp', 'write', 'article', 'chip', 'far', 'low', 'level', 'stuff', 'pretty', 'nice', 'require', 'address', 'phone', 'information', 'thing', 'person', 'sense', 'world', 'clear', 'memory', 'error', 'yes', 'quote', 'software', 'check', 'right', 'value', 'set', 'code', 'tell', 'second', 'idea', 'apr', 'john', 'power', 'weapon', 'make', 'cost', 'need', 'control', 'government', 'individual', 'result', 'death', 'non', 'state', 'come', 'believe', 'hard', 'support', 'agree', 'hand', 'hope', 'course', 'term', 'define', 'say', 'mean', 'follow', 'kill', 'read', 'present', 'argument', 'understand', 'point', 'allow', 'later', 'consider', 'speak', 'company', 'today', 'think', 'sure', 'instead', 'try', 'file', 'scsi', 'april', 'device', 'long', 'problem', 'love', 'statement', 'list', 'standard', 'version', 'show', 'note', 'exist', 'mode', 'fast', 'datum', 'correct', 'fact', 'ibm', 'available', 'ftp', 'apple', 'drive', 'true', 'reference', 'win', 'help', 'change', 'appreciate', 'design', 'board', 'hardware', 'work', 'technology', 'lose', 'wrong', 'mention', 'product', 'buy', 'run', 'sell', 'bike', 'want', 'org', 'david', 'hold', 'end', 'different', 'explain', 'god', 'jewish', 'jews', 'case', 'decide', 'lead', 'man', 'christian', 'mind', 'create', 'image', 'live', 'christ', 'example', 'press', 'kind', 'little', 'jesus', 'bad', 'bible', 'guess', 'faith', 'child', 'assume', 'simply', 'pub', 'type', 'old', 'learn', 'religion', 'space', 'nasa', 'gov', 'mark', 'city', 'receive', 'likely', 'let', 'study', 'team', 'site', 'key', 'bus', 'provide', 'force', 'source', 'human', 'place', 'return', 'mike', 'build', 'research', 'system', 'major', 'single', 'ground', 'center', 'sale', 'offer', 'black', 'player', 'graphic', 'high', 'sound', 'include', 'head', 'ask', 'contact', 'reply', 'atheist', 'form', 'group', 'happen', 'war', 'short', 'cause', 'die', 'certainly', 'program', 'save', 'general', 'big', 'format', 'word', 'sort', 'application', 'job', 'able', 'deal', 'reason', 'driver', 'pay', 'close', 'house', 'security', 'steve', 'university', 'remember', 'similar', 'situation', 'turn', 'couple', 'friend', 'claim', 'stop', 'month', 'light', 'law', 'hell', 'away', 'ago', 'continue', 'cover', 'book', 'interested', 'important', 'date', 'view', 'possible', 'difference', 'output', 'simple', 'entry', 'mit', 'sun', 'window', 'matter', 'contain', 'order', 'season', 'package', 'data', 'free', 'copy', 'appear', 'fax', 'comment', 'service', 'dos', 'monitor', 'box', 'leave', 'involve', 'user', 'care', 'purpose', 'isn', 'game', 'current', 'attack', 'accept', 'earth', 'paul', 'lot', 'wouldn', 'local', 'face', 'stand', 'michael', 'better', 'subject', 'israeli', 'israel', 'easy', 'act', 'member', 'week', 'begin', 'effect', 'clipper', 'encryption', 'goal', 'drug', 'public', 'large', 'gun', 'clinton', 'rule', 'have', 'american', 'talk', 'action', 'carry', 'function', 'police', 'open', 'issue', 'white', 'home', 'certain', 'net', 'max', 'original', 'christians', 'armenians', 'armenian', 'turkish', 'woman', 'church', 'position', 'pass', 'protect', 'country', 'windows', 'faq', 'area', 'release', 'plan', 'science', 'national', 'test', 'event', 'server', 'break', 'apply', 'evidence', 'text', 'crime', 'president', 'private', 'discussion', 'screen', 'period', 'video', 'school', 'color', 'suggest', 'internet', 'netcom', 'hockey'])"
            ]
          },
          "metadata": {},
          "execution_count": 9
        }
      ]
    },
    {
      "cell_type": "markdown",
      "source": [
        "Show model.wv['car']. What is it doing? Why does it have this size?"
      ],
      "metadata": {
        "id": "UGcggepZ8rQl"
      }
    },
    {
      "cell_type": "code",
      "source": [
        "print(model.wv['car'])\n",
        "model.wv['car'].shape\n",
        "# Shape because of the defined size paramter of model"
      ],
      "metadata": {
        "colab": {
          "base_uri": "https://localhost:8080/"
        },
        "id": "dIx8EhZY9PZl",
        "outputId": "ffdd4f6b-2246-4906-ada1-82af468bef01"
      },
      "execution_count": 10,
      "outputs": [
        {
          "output_type": "stream",
          "name": "stdout",
          "text": [
            "[ 0.39827678 -0.6818796  -0.65525955 -0.6919702  -0.9987134  -1.7431556\n",
            "  0.52977926  0.15701766 -0.03971322  0.01805263 -0.5385682   0.09339743\n",
            "  0.01464276 -0.05242912 -1.393666   -0.769598   -0.08381373 -0.85941654\n",
            "  1.6194606   0.09081569 -2.0508666  -0.1046214  -0.23145385  0.82549906\n",
            " -1.0034355   0.9810111  -0.36019957  0.09191548 -0.36628205 -0.23136732\n",
            "  1.9034404   0.7712996  -0.94511837 -0.7561034  -0.5386708   0.6655813\n",
            " -0.78539747 -0.89321035  1.9307877   0.22916017  0.5282283   1.7821529\n",
            " -2.1904023  -0.50419116 -0.2395403   0.09688714  1.2904803  -0.27308095\n",
            "  0.51264197 -0.2685298   0.88991725 -0.03252438 -0.36658874 -0.07369605\n",
            "  0.583677   -1.3209583   0.73963356 -0.4844816   0.19089733  0.3969674\n",
            "  0.21978311  0.6227351   0.45101014 -0.49244934  0.58836806  1.2121172\n",
            "  2.1619654   0.08259585 -0.2859731  -1.5056658  -0.08731521 -1.0655843\n",
            "  1.2676672   0.6774307  -2.0688941   0.04275506 -0.82391244  1.0568684\n",
            "  1.4118186   1.2272408  -1.3312242   0.66444254  0.10344473  0.13545139\n",
            " -0.9125299   0.19834456  1.6811804  -0.3061657  -0.44740945 -0.7209576\n",
            " -0.09940425  1.4964074   0.12152233  0.98377013  0.10546703  0.49706736\n",
            " -1.047716   -0.49233228 -0.17328967 -0.24403599]\n"
          ]
        },
        {
          "output_type": "execute_result",
          "data": {
            "text/plain": [
              "(100,)"
            ]
          },
          "metadata": {},
          "execution_count": 10
        }
      ]
    },
    {
      "cell_type": "code",
      "source": [
        "# Does the result make sense?\n",
        "model.wv.most_similar('car')"
      ],
      "metadata": {
        "colab": {
          "base_uri": "https://localhost:8080/"
        },
        "id": "3IAuK2NT9P8G",
        "outputId": "7ea28977-1ba9-47c4-9f93-9056733a7dea"
      },
      "execution_count": 11,
      "outputs": [
        {
          "output_type": "execute_result",
          "data": {
            "text/plain": [
              "[('bike', 0.643164873123169),\n",
              " ('buy', 0.5671544075012207),\n",
              " ('light', 0.5066849589347839),\n",
              " ('speed', 0.49451181292533875),\n",
              " ('friend', 0.4850934147834778),\n",
              " ('get', 0.4771081805229187),\n",
              " ('look', 0.4534294605255127),\n",
              " ('nice', 0.4513017535209656),\n",
              " ('hit', 0.44672441482543945),\n",
              " ('figure', 0.4439582824707031)]"
            ]
          },
          "metadata": {},
          "execution_count": 11
        }
      ]
    },
    {
      "cell_type": "markdown",
      "source": [
        "- Some words seem more similar to car, then others (e.g. \"buy\", but not \"figure\")\n",
        "- But overall the result makes sense I guess"
      ],
      "metadata": {
        "id": "pqwHpF4Y9ly-"
      }
    },
    {
      "cell_type": "markdown",
      "source": [
        "Run model.wv.most_similar(positive=['bike', ' machine'], topn=1). What is it doing? Test\n",
        "other combinations."
      ],
      "metadata": {
        "id": "-njOhQ08-B4S"
      }
    },
    {
      "cell_type": "code",
      "source": [
        "model.wv.most_similar(positive=['bike', 'machine'], topn=1)"
      ],
      "metadata": {
        "colab": {
          "base_uri": "https://localhost:8080/"
        },
        "id": "6cdeh3PY-Mgv",
        "outputId": "c67cc9d1-3d1c-4430-8f81-04c1d6deeb55"
      },
      "execution_count": 12,
      "outputs": [
        {
          "output_type": "execute_result",
          "data": {
            "text/plain": [
              "[('buy', 0.6418911814689636)]"
            ]
          },
          "metadata": {},
          "execution_count": 12
        }
      ]
    },
    {
      "cell_type": "markdown",
      "source": [
        "This method computes cosine similarity between a simple mean of the projection\n",
        "weight vectors of the given words and the vectors for each word in the model."
      ],
      "metadata": {
        "id": "fV45l7il-O6V"
      }
    },
    {
      "cell_type": "code",
      "source": [
        "print(model.wv.most_similar(positive=['bike', 'car'], topn=1))\n",
        "print(model.wv.most_similar(positive=['jesus', 'car'], topn=1))\n",
        "print(model.wv.most_similar(positive=['religion', 'man'], topn=1))\n",
        "print(model.wv.most_similar(positive=['news', 'man'], topn=1))\n",
        "print(model.wv.most_similar(positive=['news', 'woman'], topn=1))"
      ],
      "metadata": {
        "colab": {
          "base_uri": "https://localhost:8080/"
        },
        "id": "bZOQmlg--fXJ",
        "outputId": "451ee1c3-4f35-4c9d-f61d-4bc0f7dafd35"
      },
      "execution_count": 13,
      "outputs": [
        {
          "output_type": "stream",
          "name": "stdout",
          "text": [
            "[('buy', 0.6494540572166443)]\n",
            "[('christ', 0.6020453572273254)]\n",
            "[('christ', 0.7483876943588257)]\n",
            "[('woman', 0.581000804901123)]\n",
            "[('child', 0.5270392298698425)]\n"
          ]
        }
      ]
    },
    {
      "cell_type": "markdown",
      "source": [
        "Generate a corpus as a list, where for each document the list entry consists of the list\n",
        "of word2vec embeddings of the words in this document. Remove from it the empty\n",
        "documents. Why were those generated? Aggregate the values at a document level\n",
        "(i.e., one embedding per document) by averaging the word embeddings. Store the\n",
        "result for all documents in a data frame and then in GoogleDrive as\n",
        "WordtoVecModel.pkl."
      ],
      "metadata": {
        "id": "tYFmDiG8-qSS"
      }
    },
    {
      "cell_type": "code",
      "source": [
        "corpus_2 = []\n",
        "\n",
        "for doc in corpus_gen:\n",
        "  words=[]\n",
        "  for word in doc:\n",
        "    try:\n",
        "      words.append(model.wv[word])\n",
        "    except KeyError: #skip words which are not in dict\n",
        "      next\n",
        "  if len(words)==0: #remove empty documents (doc where all words were not in dict)\n",
        "    next\n",
        "  else:\n",
        "    corpus_2.append(np.mean(words, axis=0)) # average word embeddings per doc"
      ],
      "metadata": {
        "id": "yEZsW3Ap_G1Q"
      },
      "execution_count": 50,
      "outputs": []
    },
    {
      "cell_type": "code",
      "source": [
        "# Create df\n",
        "WordtoVecModel = pd.DataFrame(np.concatenate([corpus_2],axis=0))\n",
        "WordtoVecModel.head()"
      ],
      "metadata": {
        "colab": {
          "base_uri": "https://localhost:8080/",
          "height": 300
        },
        "id": "flI4uH29_U9G",
        "outputId": "18d71872-0d32-453d-add0-28c97d3f435b"
      },
      "execution_count": 57,
      "outputs": [
        {
          "output_type": "execute_result",
          "data": {
            "text/plain": [
              "         0         1         2         3         4         5         6   \\\n",
              "0  0.150655 -0.167528  0.000446 -0.369484 -0.497597 -0.512169  0.145186   \n",
              "1  0.371482 -0.053825 -0.038065 -0.213904  0.245400  0.324823  0.502939   \n",
              "2  0.158555  0.251146 -0.029250 -0.194091 -0.125183 -0.195976 -0.293059   \n",
              "3  0.189193  0.039397 -0.128204  0.084464  0.226446  0.123522  0.369446   \n",
              "4 -0.092418  0.090598 -0.152884 -0.393708  0.318162  0.271351  0.073015   \n",
              "\n",
              "         7         8         9   ...        90        91        92        93  \\\n",
              "0  0.049681  0.113843  0.013968  ...  0.018139  0.670854 -0.124385  0.300157   \n",
              "1 -0.223659  0.002877 -0.100856  ...  0.124590 -0.065208 -0.011630 -0.109283   \n",
              "2 -0.109566  0.388214 -0.117620  ... -0.160956  0.232339  0.140396 -0.011282   \n",
              "3 -0.191700  0.192918 -0.320274  ...  0.058099  0.140667  0.196520 -0.431090   \n",
              "4 -0.150181  0.249248 -0.300994  ... -0.194737  0.042304  0.344310 -0.132207   \n",
              "\n",
              "         94        95        96        97        98        99  \n",
              "0 -0.336985  0.171559 -0.229898 -0.054308  0.010837 -0.029526  \n",
              "1 -0.086218  0.122048  0.062208 -0.234205  0.395853 -0.021694  \n",
              "2 -0.530027  0.019885  0.105696 -0.097548  0.082946  0.029190  \n",
              "3 -0.078227  0.079195 -0.031887 -0.181108  0.451697 -0.060556  \n",
              "4 -0.398165  0.018271  0.287932 -0.142553  0.266741  0.213238  \n",
              "\n",
              "[5 rows x 100 columns]"
            ],
            "text/html": [
              "\n",
              "  <div id=\"df-8e5fc390-0af6-4e87-b25f-4c45c5fddb48\">\n",
              "    <div class=\"colab-df-container\">\n",
              "      <div>\n",
              "<style scoped>\n",
              "    .dataframe tbody tr th:only-of-type {\n",
              "        vertical-align: middle;\n",
              "    }\n",
              "\n",
              "    .dataframe tbody tr th {\n",
              "        vertical-align: top;\n",
              "    }\n",
              "\n",
              "    .dataframe thead th {\n",
              "        text-align: right;\n",
              "    }\n",
              "</style>\n",
              "<table border=\"1\" class=\"dataframe\">\n",
              "  <thead>\n",
              "    <tr style=\"text-align: right;\">\n",
              "      <th></th>\n",
              "      <th>0</th>\n",
              "      <th>1</th>\n",
              "      <th>2</th>\n",
              "      <th>3</th>\n",
              "      <th>4</th>\n",
              "      <th>5</th>\n",
              "      <th>6</th>\n",
              "      <th>7</th>\n",
              "      <th>8</th>\n",
              "      <th>9</th>\n",
              "      <th>...</th>\n",
              "      <th>90</th>\n",
              "      <th>91</th>\n",
              "      <th>92</th>\n",
              "      <th>93</th>\n",
              "      <th>94</th>\n",
              "      <th>95</th>\n",
              "      <th>96</th>\n",
              "      <th>97</th>\n",
              "      <th>98</th>\n",
              "      <th>99</th>\n",
              "    </tr>\n",
              "  </thead>\n",
              "  <tbody>\n",
              "    <tr>\n",
              "      <th>0</th>\n",
              "      <td>0.150655</td>\n",
              "      <td>-0.167528</td>\n",
              "      <td>0.000446</td>\n",
              "      <td>-0.369484</td>\n",
              "      <td>-0.497597</td>\n",
              "      <td>-0.512169</td>\n",
              "      <td>0.145186</td>\n",
              "      <td>0.049681</td>\n",
              "      <td>0.113843</td>\n",
              "      <td>0.013968</td>\n",
              "      <td>...</td>\n",
              "      <td>0.018139</td>\n",
              "      <td>0.670854</td>\n",
              "      <td>-0.124385</td>\n",
              "      <td>0.300157</td>\n",
              "      <td>-0.336985</td>\n",
              "      <td>0.171559</td>\n",
              "      <td>-0.229898</td>\n",
              "      <td>-0.054308</td>\n",
              "      <td>0.010837</td>\n",
              "      <td>-0.029526</td>\n",
              "    </tr>\n",
              "    <tr>\n",
              "      <th>1</th>\n",
              "      <td>0.371482</td>\n",
              "      <td>-0.053825</td>\n",
              "      <td>-0.038065</td>\n",
              "      <td>-0.213904</td>\n",
              "      <td>0.245400</td>\n",
              "      <td>0.324823</td>\n",
              "      <td>0.502939</td>\n",
              "      <td>-0.223659</td>\n",
              "      <td>0.002877</td>\n",
              "      <td>-0.100856</td>\n",
              "      <td>...</td>\n",
              "      <td>0.124590</td>\n",
              "      <td>-0.065208</td>\n",
              "      <td>-0.011630</td>\n",
              "      <td>-0.109283</td>\n",
              "      <td>-0.086218</td>\n",
              "      <td>0.122048</td>\n",
              "      <td>0.062208</td>\n",
              "      <td>-0.234205</td>\n",
              "      <td>0.395853</td>\n",
              "      <td>-0.021694</td>\n",
              "    </tr>\n",
              "    <tr>\n",
              "      <th>2</th>\n",
              "      <td>0.158555</td>\n",
              "      <td>0.251146</td>\n",
              "      <td>-0.029250</td>\n",
              "      <td>-0.194091</td>\n",
              "      <td>-0.125183</td>\n",
              "      <td>-0.195976</td>\n",
              "      <td>-0.293059</td>\n",
              "      <td>-0.109566</td>\n",
              "      <td>0.388214</td>\n",
              "      <td>-0.117620</td>\n",
              "      <td>...</td>\n",
              "      <td>-0.160956</td>\n",
              "      <td>0.232339</td>\n",
              "      <td>0.140396</td>\n",
              "      <td>-0.011282</td>\n",
              "      <td>-0.530027</td>\n",
              "      <td>0.019885</td>\n",
              "      <td>0.105696</td>\n",
              "      <td>-0.097548</td>\n",
              "      <td>0.082946</td>\n",
              "      <td>0.029190</td>\n",
              "    </tr>\n",
              "    <tr>\n",
              "      <th>3</th>\n",
              "      <td>0.189193</td>\n",
              "      <td>0.039397</td>\n",
              "      <td>-0.128204</td>\n",
              "      <td>0.084464</td>\n",
              "      <td>0.226446</td>\n",
              "      <td>0.123522</td>\n",
              "      <td>0.369446</td>\n",
              "      <td>-0.191700</td>\n",
              "      <td>0.192918</td>\n",
              "      <td>-0.320274</td>\n",
              "      <td>...</td>\n",
              "      <td>0.058099</td>\n",
              "      <td>0.140667</td>\n",
              "      <td>0.196520</td>\n",
              "      <td>-0.431090</td>\n",
              "      <td>-0.078227</td>\n",
              "      <td>0.079195</td>\n",
              "      <td>-0.031887</td>\n",
              "      <td>-0.181108</td>\n",
              "      <td>0.451697</td>\n",
              "      <td>-0.060556</td>\n",
              "    </tr>\n",
              "    <tr>\n",
              "      <th>4</th>\n",
              "      <td>-0.092418</td>\n",
              "      <td>0.090598</td>\n",
              "      <td>-0.152884</td>\n",
              "      <td>-0.393708</td>\n",
              "      <td>0.318162</td>\n",
              "      <td>0.271351</td>\n",
              "      <td>0.073015</td>\n",
              "      <td>-0.150181</td>\n",
              "      <td>0.249248</td>\n",
              "      <td>-0.300994</td>\n",
              "      <td>...</td>\n",
              "      <td>-0.194737</td>\n",
              "      <td>0.042304</td>\n",
              "      <td>0.344310</td>\n",
              "      <td>-0.132207</td>\n",
              "      <td>-0.398165</td>\n",
              "      <td>0.018271</td>\n",
              "      <td>0.287932</td>\n",
              "      <td>-0.142553</td>\n",
              "      <td>0.266741</td>\n",
              "      <td>0.213238</td>\n",
              "    </tr>\n",
              "  </tbody>\n",
              "</table>\n",
              "<p>5 rows × 100 columns</p>\n",
              "</div>\n",
              "      <button class=\"colab-df-convert\" onclick=\"convertToInteractive('df-8e5fc390-0af6-4e87-b25f-4c45c5fddb48')\"\n",
              "              title=\"Convert this dataframe to an interactive table.\"\n",
              "              style=\"display:none;\">\n",
              "        \n",
              "  <svg xmlns=\"http://www.w3.org/2000/svg\" height=\"24px\"viewBox=\"0 0 24 24\"\n",
              "       width=\"24px\">\n",
              "    <path d=\"M0 0h24v24H0V0z\" fill=\"none\"/>\n",
              "    <path d=\"M18.56 5.44l.94 2.06.94-2.06 2.06-.94-2.06-.94-.94-2.06-.94 2.06-2.06.94zm-11 1L8.5 8.5l.94-2.06 2.06-.94-2.06-.94L8.5 2.5l-.94 2.06-2.06.94zm10 10l.94 2.06.94-2.06 2.06-.94-2.06-.94-.94-2.06-.94 2.06-2.06.94z\"/><path d=\"M17.41 7.96l-1.37-1.37c-.4-.4-.92-.59-1.43-.59-.52 0-1.04.2-1.43.59L10.3 9.45l-7.72 7.72c-.78.78-.78 2.05 0 2.83L4 21.41c.39.39.9.59 1.41.59.51 0 1.02-.2 1.41-.59l7.78-7.78 2.81-2.81c.8-.78.8-2.07 0-2.86zM5.41 20L4 18.59l7.72-7.72 1.47 1.35L5.41 20z\"/>\n",
              "  </svg>\n",
              "      </button>\n",
              "      \n",
              "  <style>\n",
              "    .colab-df-container {\n",
              "      display:flex;\n",
              "      flex-wrap:wrap;\n",
              "      gap: 12px;\n",
              "    }\n",
              "\n",
              "    .colab-df-convert {\n",
              "      background-color: #E8F0FE;\n",
              "      border: none;\n",
              "      border-radius: 50%;\n",
              "      cursor: pointer;\n",
              "      display: none;\n",
              "      fill: #1967D2;\n",
              "      height: 32px;\n",
              "      padding: 0 0 0 0;\n",
              "      width: 32px;\n",
              "    }\n",
              "\n",
              "    .colab-df-convert:hover {\n",
              "      background-color: #E2EBFA;\n",
              "      box-shadow: 0px 1px 2px rgba(60, 64, 67, 0.3), 0px 1px 3px 1px rgba(60, 64, 67, 0.15);\n",
              "      fill: #174EA6;\n",
              "    }\n",
              "\n",
              "    [theme=dark] .colab-df-convert {\n",
              "      background-color: #3B4455;\n",
              "      fill: #D2E3FC;\n",
              "    }\n",
              "\n",
              "    [theme=dark] .colab-df-convert:hover {\n",
              "      background-color: #434B5C;\n",
              "      box-shadow: 0px 1px 3px 1px rgba(0, 0, 0, 0.15);\n",
              "      filter: drop-shadow(0px 1px 2px rgba(0, 0, 0, 0.3));\n",
              "      fill: #FFFFFF;\n",
              "    }\n",
              "  </style>\n",
              "\n",
              "      <script>\n",
              "        const buttonEl =\n",
              "          document.querySelector('#df-8e5fc390-0af6-4e87-b25f-4c45c5fddb48 button.colab-df-convert');\n",
              "        buttonEl.style.display =\n",
              "          google.colab.kernel.accessAllowed ? 'block' : 'none';\n",
              "\n",
              "        async function convertToInteractive(key) {\n",
              "          const element = document.querySelector('#df-8e5fc390-0af6-4e87-b25f-4c45c5fddb48');\n",
              "          const dataTable =\n",
              "            await google.colab.kernel.invokeFunction('convertToInteractive',\n",
              "                                                     [key], {});\n",
              "          if (!dataTable) return;\n",
              "\n",
              "          const docLinkHtml = 'Like what you see? Visit the ' +\n",
              "            '<a target=\"_blank\" href=https://colab.research.google.com/notebooks/data_table.ipynb>data table notebook</a>'\n",
              "            + ' to learn more about interactive tables.';\n",
              "          element.innerHTML = '';\n",
              "          dataTable['output_type'] = 'display_data';\n",
              "          await google.colab.output.renderOutput(dataTable, element);\n",
              "          const docLink = document.createElement('div');\n",
              "          docLink.innerHTML = docLinkHtml;\n",
              "          element.appendChild(docLink);\n",
              "        }\n",
              "      </script>\n",
              "    </div>\n",
              "  </div>\n",
              "  "
            ]
          },
          "metadata": {},
          "execution_count": 57
        }
      ]
    },
    {
      "cell_type": "code",
      "source": [
        "#Store the result for all documents in a data frame and then in GoogleDrive as WordtoVecModel.pkl.\n",
        "WordtoVecModel.to_pickle('drive/MyDrive/Colab_Notebooks/02_HWR/00_data/Models/WordtoVecModel.pkl')"
      ],
      "metadata": {
        "id": "vmQaF7bAFCZG"
      },
      "execution_count": 58,
      "outputs": []
    },
    {
      "cell_type": "code",
      "source": [
        "# Test if storing worked\n",
        "with open('drive/MyDrive/Colab_Notebooks/02_HWR/00_data/Models/WordtoVecModel.pkl', 'rb') as f:\n",
        "    WordtoVecModel = pickle.load(f)\n",
        "WordtoVecModel.head()    "
      ],
      "metadata": {
        "colab": {
          "base_uri": "https://localhost:8080/",
          "height": 300
        },
        "id": "yRRKIlUWGJqy",
        "outputId": "3c20ba90-cbe5-4570-be18-a97bf3d4182a"
      },
      "execution_count": 62,
      "outputs": [
        {
          "output_type": "execute_result",
          "data": {
            "text/plain": [
              "         0         1         2         3         4         5         6   \\\n",
              "0  0.150655 -0.167528  0.000446 -0.369484 -0.497597 -0.512169  0.145186   \n",
              "1  0.371482 -0.053825 -0.038065 -0.213904  0.245400  0.324823  0.502939   \n",
              "2  0.158555  0.251146 -0.029250 -0.194091 -0.125183 -0.195976 -0.293059   \n",
              "3  0.189193  0.039397 -0.128204  0.084464  0.226446  0.123522  0.369446   \n",
              "4 -0.092418  0.090598 -0.152884 -0.393708  0.318162  0.271351  0.073015   \n",
              "\n",
              "         7         8         9   ...        90        91        92        93  \\\n",
              "0  0.049681  0.113843  0.013968  ...  0.018139  0.670854 -0.124385  0.300157   \n",
              "1 -0.223659  0.002877 -0.100856  ...  0.124590 -0.065208 -0.011630 -0.109283   \n",
              "2 -0.109566  0.388214 -0.117620  ... -0.160956  0.232339  0.140396 -0.011282   \n",
              "3 -0.191700  0.192918 -0.320274  ...  0.058099  0.140667  0.196520 -0.431090   \n",
              "4 -0.150181  0.249248 -0.300994  ... -0.194737  0.042304  0.344310 -0.132207   \n",
              "\n",
              "         94        95        96        97        98        99  \n",
              "0 -0.336985  0.171559 -0.229898 -0.054308  0.010837 -0.029526  \n",
              "1 -0.086218  0.122048  0.062208 -0.234205  0.395853 -0.021694  \n",
              "2 -0.530027  0.019885  0.105696 -0.097548  0.082946  0.029190  \n",
              "3 -0.078227  0.079195 -0.031887 -0.181108  0.451697 -0.060556  \n",
              "4 -0.398165  0.018271  0.287932 -0.142553  0.266741  0.213238  \n",
              "\n",
              "[5 rows x 100 columns]"
            ],
            "text/html": [
              "\n",
              "  <div id=\"df-e5a988a0-2aea-4708-992a-f91fde8e5826\">\n",
              "    <div class=\"colab-df-container\">\n",
              "      <div>\n",
              "<style scoped>\n",
              "    .dataframe tbody tr th:only-of-type {\n",
              "        vertical-align: middle;\n",
              "    }\n",
              "\n",
              "    .dataframe tbody tr th {\n",
              "        vertical-align: top;\n",
              "    }\n",
              "\n",
              "    .dataframe thead th {\n",
              "        text-align: right;\n",
              "    }\n",
              "</style>\n",
              "<table border=\"1\" class=\"dataframe\">\n",
              "  <thead>\n",
              "    <tr style=\"text-align: right;\">\n",
              "      <th></th>\n",
              "      <th>0</th>\n",
              "      <th>1</th>\n",
              "      <th>2</th>\n",
              "      <th>3</th>\n",
              "      <th>4</th>\n",
              "      <th>5</th>\n",
              "      <th>6</th>\n",
              "      <th>7</th>\n",
              "      <th>8</th>\n",
              "      <th>9</th>\n",
              "      <th>...</th>\n",
              "      <th>90</th>\n",
              "      <th>91</th>\n",
              "      <th>92</th>\n",
              "      <th>93</th>\n",
              "      <th>94</th>\n",
              "      <th>95</th>\n",
              "      <th>96</th>\n",
              "      <th>97</th>\n",
              "      <th>98</th>\n",
              "      <th>99</th>\n",
              "    </tr>\n",
              "  </thead>\n",
              "  <tbody>\n",
              "    <tr>\n",
              "      <th>0</th>\n",
              "      <td>0.150655</td>\n",
              "      <td>-0.167528</td>\n",
              "      <td>0.000446</td>\n",
              "      <td>-0.369484</td>\n",
              "      <td>-0.497597</td>\n",
              "      <td>-0.512169</td>\n",
              "      <td>0.145186</td>\n",
              "      <td>0.049681</td>\n",
              "      <td>0.113843</td>\n",
              "      <td>0.013968</td>\n",
              "      <td>...</td>\n",
              "      <td>0.018139</td>\n",
              "      <td>0.670854</td>\n",
              "      <td>-0.124385</td>\n",
              "      <td>0.300157</td>\n",
              "      <td>-0.336985</td>\n",
              "      <td>0.171559</td>\n",
              "      <td>-0.229898</td>\n",
              "      <td>-0.054308</td>\n",
              "      <td>0.010837</td>\n",
              "      <td>-0.029526</td>\n",
              "    </tr>\n",
              "    <tr>\n",
              "      <th>1</th>\n",
              "      <td>0.371482</td>\n",
              "      <td>-0.053825</td>\n",
              "      <td>-0.038065</td>\n",
              "      <td>-0.213904</td>\n",
              "      <td>0.245400</td>\n",
              "      <td>0.324823</td>\n",
              "      <td>0.502939</td>\n",
              "      <td>-0.223659</td>\n",
              "      <td>0.002877</td>\n",
              "      <td>-0.100856</td>\n",
              "      <td>...</td>\n",
              "      <td>0.124590</td>\n",
              "      <td>-0.065208</td>\n",
              "      <td>-0.011630</td>\n",
              "      <td>-0.109283</td>\n",
              "      <td>-0.086218</td>\n",
              "      <td>0.122048</td>\n",
              "      <td>0.062208</td>\n",
              "      <td>-0.234205</td>\n",
              "      <td>0.395853</td>\n",
              "      <td>-0.021694</td>\n",
              "    </tr>\n",
              "    <tr>\n",
              "      <th>2</th>\n",
              "      <td>0.158555</td>\n",
              "      <td>0.251146</td>\n",
              "      <td>-0.029250</td>\n",
              "      <td>-0.194091</td>\n",
              "      <td>-0.125183</td>\n",
              "      <td>-0.195976</td>\n",
              "      <td>-0.293059</td>\n",
              "      <td>-0.109566</td>\n",
              "      <td>0.388214</td>\n",
              "      <td>-0.117620</td>\n",
              "      <td>...</td>\n",
              "      <td>-0.160956</td>\n",
              "      <td>0.232339</td>\n",
              "      <td>0.140396</td>\n",
              "      <td>-0.011282</td>\n",
              "      <td>-0.530027</td>\n",
              "      <td>0.019885</td>\n",
              "      <td>0.105696</td>\n",
              "      <td>-0.097548</td>\n",
              "      <td>0.082946</td>\n",
              "      <td>0.029190</td>\n",
              "    </tr>\n",
              "    <tr>\n",
              "      <th>3</th>\n",
              "      <td>0.189193</td>\n",
              "      <td>0.039397</td>\n",
              "      <td>-0.128204</td>\n",
              "      <td>0.084464</td>\n",
              "      <td>0.226446</td>\n",
              "      <td>0.123522</td>\n",
              "      <td>0.369446</td>\n",
              "      <td>-0.191700</td>\n",
              "      <td>0.192918</td>\n",
              "      <td>-0.320274</td>\n",
              "      <td>...</td>\n",
              "      <td>0.058099</td>\n",
              "      <td>0.140667</td>\n",
              "      <td>0.196520</td>\n",
              "      <td>-0.431090</td>\n",
              "      <td>-0.078227</td>\n",
              "      <td>0.079195</td>\n",
              "      <td>-0.031887</td>\n",
              "      <td>-0.181108</td>\n",
              "      <td>0.451697</td>\n",
              "      <td>-0.060556</td>\n",
              "    </tr>\n",
              "    <tr>\n",
              "      <th>4</th>\n",
              "      <td>-0.092418</td>\n",
              "      <td>0.090598</td>\n",
              "      <td>-0.152884</td>\n",
              "      <td>-0.393708</td>\n",
              "      <td>0.318162</td>\n",
              "      <td>0.271351</td>\n",
              "      <td>0.073015</td>\n",
              "      <td>-0.150181</td>\n",
              "      <td>0.249248</td>\n",
              "      <td>-0.300994</td>\n",
              "      <td>...</td>\n",
              "      <td>-0.194737</td>\n",
              "      <td>0.042304</td>\n",
              "      <td>0.344310</td>\n",
              "      <td>-0.132207</td>\n",
              "      <td>-0.398165</td>\n",
              "      <td>0.018271</td>\n",
              "      <td>0.287932</td>\n",
              "      <td>-0.142553</td>\n",
              "      <td>0.266741</td>\n",
              "      <td>0.213238</td>\n",
              "    </tr>\n",
              "  </tbody>\n",
              "</table>\n",
              "<p>5 rows × 100 columns</p>\n",
              "</div>\n",
              "      <button class=\"colab-df-convert\" onclick=\"convertToInteractive('df-e5a988a0-2aea-4708-992a-f91fde8e5826')\"\n",
              "              title=\"Convert this dataframe to an interactive table.\"\n",
              "              style=\"display:none;\">\n",
              "        \n",
              "  <svg xmlns=\"http://www.w3.org/2000/svg\" height=\"24px\"viewBox=\"0 0 24 24\"\n",
              "       width=\"24px\">\n",
              "    <path d=\"M0 0h24v24H0V0z\" fill=\"none\"/>\n",
              "    <path d=\"M18.56 5.44l.94 2.06.94-2.06 2.06-.94-2.06-.94-.94-2.06-.94 2.06-2.06.94zm-11 1L8.5 8.5l.94-2.06 2.06-.94-2.06-.94L8.5 2.5l-.94 2.06-2.06.94zm10 10l.94 2.06.94-2.06 2.06-.94-2.06-.94-.94-2.06-.94 2.06-2.06.94z\"/><path d=\"M17.41 7.96l-1.37-1.37c-.4-.4-.92-.59-1.43-.59-.52 0-1.04.2-1.43.59L10.3 9.45l-7.72 7.72c-.78.78-.78 2.05 0 2.83L4 21.41c.39.39.9.59 1.41.59.51 0 1.02-.2 1.41-.59l7.78-7.78 2.81-2.81c.8-.78.8-2.07 0-2.86zM5.41 20L4 18.59l7.72-7.72 1.47 1.35L5.41 20z\"/>\n",
              "  </svg>\n",
              "      </button>\n",
              "      \n",
              "  <style>\n",
              "    .colab-df-container {\n",
              "      display:flex;\n",
              "      flex-wrap:wrap;\n",
              "      gap: 12px;\n",
              "    }\n",
              "\n",
              "    .colab-df-convert {\n",
              "      background-color: #E8F0FE;\n",
              "      border: none;\n",
              "      border-radius: 50%;\n",
              "      cursor: pointer;\n",
              "      display: none;\n",
              "      fill: #1967D2;\n",
              "      height: 32px;\n",
              "      padding: 0 0 0 0;\n",
              "      width: 32px;\n",
              "    }\n",
              "\n",
              "    .colab-df-convert:hover {\n",
              "      background-color: #E2EBFA;\n",
              "      box-shadow: 0px 1px 2px rgba(60, 64, 67, 0.3), 0px 1px 3px 1px rgba(60, 64, 67, 0.15);\n",
              "      fill: #174EA6;\n",
              "    }\n",
              "\n",
              "    [theme=dark] .colab-df-convert {\n",
              "      background-color: #3B4455;\n",
              "      fill: #D2E3FC;\n",
              "    }\n",
              "\n",
              "    [theme=dark] .colab-df-convert:hover {\n",
              "      background-color: #434B5C;\n",
              "      box-shadow: 0px 1px 3px 1px rgba(0, 0, 0, 0.15);\n",
              "      filter: drop-shadow(0px 1px 2px rgba(0, 0, 0, 0.3));\n",
              "      fill: #FFFFFF;\n",
              "    }\n",
              "  </style>\n",
              "\n",
              "      <script>\n",
              "        const buttonEl =\n",
              "          document.querySelector('#df-e5a988a0-2aea-4708-992a-f91fde8e5826 button.colab-df-convert');\n",
              "        buttonEl.style.display =\n",
              "          google.colab.kernel.accessAllowed ? 'block' : 'none';\n",
              "\n",
              "        async function convertToInteractive(key) {\n",
              "          const element = document.querySelector('#df-e5a988a0-2aea-4708-992a-f91fde8e5826');\n",
              "          const dataTable =\n",
              "            await google.colab.kernel.invokeFunction('convertToInteractive',\n",
              "                                                     [key], {});\n",
              "          if (!dataTable) return;\n",
              "\n",
              "          const docLinkHtml = 'Like what you see? Visit the ' +\n",
              "            '<a target=\"_blank\" href=https://colab.research.google.com/notebooks/data_table.ipynb>data table notebook</a>'\n",
              "            + ' to learn more about interactive tables.';\n",
              "          element.innerHTML = '';\n",
              "          dataTable['output_type'] = 'display_data';\n",
              "          await google.colab.output.renderOutput(dataTable, element);\n",
              "          const docLink = document.createElement('div');\n",
              "          docLink.innerHTML = docLinkHtml;\n",
              "          element.appendChild(docLink);\n",
              "        }\n",
              "      </script>\n",
              "    </div>\n",
              "  </div>\n",
              "  "
            ]
          },
          "metadata": {},
          "execution_count": 62
        }
      ]
    },
    {
      "cell_type": "markdown",
      "source": [
        "Find the most similar words to the embedding representing the first document from 10.\n",
        "Use cosine() to determine the document on the corpus most similar to it."
      ],
      "metadata": {
        "id": "JBOzvF15LDsI"
      }
    },
    {
      "cell_type": "code",
      "source": [
        "# find most similar word to first document in corpus (averaged embedding) in model.wv.vectors \n",
        "index = np.argmax(model.wv.cosine_similarities(WordtoVecModel.iloc[0,:], model.wv.vectors))\n",
        "print(index)\n",
        "model.wv.index2word[index]"
      ],
      "metadata": {
        "colab": {
          "base_uri": "https://localhost:8080/",
          "height": 53
        },
        "id": "5p9w0P8CQICF",
        "outputId": "24c1c817-afe3-452f-972b-705bc0d66ca7"
      },
      "execution_count": 89,
      "outputs": [
        {
          "output_type": "stream",
          "name": "stdout",
          "text": [
            "63\n"
          ]
        },
        {
          "output_type": "execute_result",
          "data": {
            "text/plain": [
              "'car'"
            ],
            "application/vnd.google.colaboratory.intrinsic+json": {
              "type": "string"
            }
          },
          "metadata": {},
          "execution_count": 89
        }
      ]
    },
    {
      "cell_type": "code",
      "source": [
        "# find most similar doc to first document in corpus (averaged embedding) \n",
        "index = np.argmax(model.wv.cosine_similarities(WordtoVecModel.iloc[0,:], WordtoVecModel.iloc[1:,:]))+1 #index +1 because we excluded first row of df (similarity=1)\n",
        "print(index)\n",
        "WordtoVecModel.iloc[[index]] "
      ],
      "metadata": {
        "colab": {
          "base_uri": "https://localhost:8080/",
          "height": 191
        },
        "id": "TNnaiyNILFK4",
        "outputId": "7fb290a6-4fc3-41fa-98a0-d8bb5be48815"
      },
      "execution_count": 93,
      "outputs": [
        {
          "output_type": "stream",
          "name": "stdout",
          "text": [
            "4976\n"
          ]
        },
        {
          "output_type": "execute_result",
          "data": {
            "text/plain": [
              "            0         1         2         3         4         5         6   \\\n",
              "4976  0.256408  0.064898  0.008776 -0.122782 -0.417759 -0.328052 -0.008624   \n",
              "\n",
              "            7         8         9   ...       90        91        92  \\\n",
              "4976 -0.155028  0.404104  0.059023  ... -0.02657  0.731384 -0.114866   \n",
              "\n",
              "            93        94        95        96        97        98        99  \n",
              "4976  0.183558 -0.328125  0.255573 -0.220748 -0.242193 -0.105913 -0.055683  \n",
              "\n",
              "[1 rows x 100 columns]"
            ],
            "text/html": [
              "\n",
              "  <div id=\"df-a9cf8b12-3c4d-4da9-8469-9551169e5bdb\">\n",
              "    <div class=\"colab-df-container\">\n",
              "      <div>\n",
              "<style scoped>\n",
              "    .dataframe tbody tr th:only-of-type {\n",
              "        vertical-align: middle;\n",
              "    }\n",
              "\n",
              "    .dataframe tbody tr th {\n",
              "        vertical-align: top;\n",
              "    }\n",
              "\n",
              "    .dataframe thead th {\n",
              "        text-align: right;\n",
              "    }\n",
              "</style>\n",
              "<table border=\"1\" class=\"dataframe\">\n",
              "  <thead>\n",
              "    <tr style=\"text-align: right;\">\n",
              "      <th></th>\n",
              "      <th>0</th>\n",
              "      <th>1</th>\n",
              "      <th>2</th>\n",
              "      <th>3</th>\n",
              "      <th>4</th>\n",
              "      <th>5</th>\n",
              "      <th>6</th>\n",
              "      <th>7</th>\n",
              "      <th>8</th>\n",
              "      <th>9</th>\n",
              "      <th>...</th>\n",
              "      <th>90</th>\n",
              "      <th>91</th>\n",
              "      <th>92</th>\n",
              "      <th>93</th>\n",
              "      <th>94</th>\n",
              "      <th>95</th>\n",
              "      <th>96</th>\n",
              "      <th>97</th>\n",
              "      <th>98</th>\n",
              "      <th>99</th>\n",
              "    </tr>\n",
              "  </thead>\n",
              "  <tbody>\n",
              "    <tr>\n",
              "      <th>4976</th>\n",
              "      <td>0.256408</td>\n",
              "      <td>0.064898</td>\n",
              "      <td>0.008776</td>\n",
              "      <td>-0.122782</td>\n",
              "      <td>-0.417759</td>\n",
              "      <td>-0.328052</td>\n",
              "      <td>-0.008624</td>\n",
              "      <td>-0.155028</td>\n",
              "      <td>0.404104</td>\n",
              "      <td>0.059023</td>\n",
              "      <td>...</td>\n",
              "      <td>-0.02657</td>\n",
              "      <td>0.731384</td>\n",
              "      <td>-0.114866</td>\n",
              "      <td>0.183558</td>\n",
              "      <td>-0.328125</td>\n",
              "      <td>0.255573</td>\n",
              "      <td>-0.220748</td>\n",
              "      <td>-0.242193</td>\n",
              "      <td>-0.105913</td>\n",
              "      <td>-0.055683</td>\n",
              "    </tr>\n",
              "  </tbody>\n",
              "</table>\n",
              "<p>1 rows × 100 columns</p>\n",
              "</div>\n",
              "      <button class=\"colab-df-convert\" onclick=\"convertToInteractive('df-a9cf8b12-3c4d-4da9-8469-9551169e5bdb')\"\n",
              "              title=\"Convert this dataframe to an interactive table.\"\n",
              "              style=\"display:none;\">\n",
              "        \n",
              "  <svg xmlns=\"http://www.w3.org/2000/svg\" height=\"24px\"viewBox=\"0 0 24 24\"\n",
              "       width=\"24px\">\n",
              "    <path d=\"M0 0h24v24H0V0z\" fill=\"none\"/>\n",
              "    <path d=\"M18.56 5.44l.94 2.06.94-2.06 2.06-.94-2.06-.94-.94-2.06-.94 2.06-2.06.94zm-11 1L8.5 8.5l.94-2.06 2.06-.94-2.06-.94L8.5 2.5l-.94 2.06-2.06.94zm10 10l.94 2.06.94-2.06 2.06-.94-2.06-.94-.94-2.06-.94 2.06-2.06.94z\"/><path d=\"M17.41 7.96l-1.37-1.37c-.4-.4-.92-.59-1.43-.59-.52 0-1.04.2-1.43.59L10.3 9.45l-7.72 7.72c-.78.78-.78 2.05 0 2.83L4 21.41c.39.39.9.59 1.41.59.51 0 1.02-.2 1.41-.59l7.78-7.78 2.81-2.81c.8-.78.8-2.07 0-2.86zM5.41 20L4 18.59l7.72-7.72 1.47 1.35L5.41 20z\"/>\n",
              "  </svg>\n",
              "      </button>\n",
              "      \n",
              "  <style>\n",
              "    .colab-df-container {\n",
              "      display:flex;\n",
              "      flex-wrap:wrap;\n",
              "      gap: 12px;\n",
              "    }\n",
              "\n",
              "    .colab-df-convert {\n",
              "      background-color: #E8F0FE;\n",
              "      border: none;\n",
              "      border-radius: 50%;\n",
              "      cursor: pointer;\n",
              "      display: none;\n",
              "      fill: #1967D2;\n",
              "      height: 32px;\n",
              "      padding: 0 0 0 0;\n",
              "      width: 32px;\n",
              "    }\n",
              "\n",
              "    .colab-df-convert:hover {\n",
              "      background-color: #E2EBFA;\n",
              "      box-shadow: 0px 1px 2px rgba(60, 64, 67, 0.3), 0px 1px 3px 1px rgba(60, 64, 67, 0.15);\n",
              "      fill: #174EA6;\n",
              "    }\n",
              "\n",
              "    [theme=dark] .colab-df-convert {\n",
              "      background-color: #3B4455;\n",
              "      fill: #D2E3FC;\n",
              "    }\n",
              "\n",
              "    [theme=dark] .colab-df-convert:hover {\n",
              "      background-color: #434B5C;\n",
              "      box-shadow: 0px 1px 3px 1px rgba(0, 0, 0, 0.15);\n",
              "      filter: drop-shadow(0px 1px 2px rgba(0, 0, 0, 0.3));\n",
              "      fill: #FFFFFF;\n",
              "    }\n",
              "  </style>\n",
              "\n",
              "      <script>\n",
              "        const buttonEl =\n",
              "          document.querySelector('#df-a9cf8b12-3c4d-4da9-8469-9551169e5bdb button.colab-df-convert');\n",
              "        buttonEl.style.display =\n",
              "          google.colab.kernel.accessAllowed ? 'block' : 'none';\n",
              "\n",
              "        async function convertToInteractive(key) {\n",
              "          const element = document.querySelector('#df-a9cf8b12-3c4d-4da9-8469-9551169e5bdb');\n",
              "          const dataTable =\n",
              "            await google.colab.kernel.invokeFunction('convertToInteractive',\n",
              "                                                     [key], {});\n",
              "          if (!dataTable) return;\n",
              "\n",
              "          const docLinkHtml = 'Like what you see? Visit the ' +\n",
              "            '<a target=\"_blank\" href=https://colab.research.google.com/notebooks/data_table.ipynb>data table notebook</a>'\n",
              "            + ' to learn more about interactive tables.';\n",
              "          element.innerHTML = '';\n",
              "          dataTable['output_type'] = 'display_data';\n",
              "          await google.colab.output.renderOutput(dataTable, element);\n",
              "          const docLink = document.createElement('div');\n",
              "          docLink.innerHTML = docLinkHtml;\n",
              "          element.appendChild(docLink);\n",
              "        }\n",
              "      </script>\n",
              "    </div>\n",
              "  </div>\n",
              "  "
            ]
          },
          "metadata": {},
          "execution_count": 93
        }
      ]
    },
    {
      "cell_type": "code",
      "source": [
        "# Check if most similar word to most similar doc in corpus (averaged embedding) is also \"car\" in model.wv.vectors \n",
        "index = np.argmax(model.wv.cosine_similarities(WordtoVecModel.iloc[index,:], model.wv.vectors))\n",
        "print(index)\n",
        "model.wv.index2word[index]"
      ],
      "metadata": {
        "colab": {
          "base_uri": "https://localhost:8080/",
          "height": 53
        },
        "id": "dnIlVB6bOkMu",
        "outputId": "fd219911-5d31-4f78-fa1f-238c5e7ec8ac"
      },
      "execution_count": 94,
      "outputs": [
        {
          "output_type": "stream",
          "name": "stdout",
          "text": [
            "63\n"
          ]
        },
        {
          "output_type": "execute_result",
          "data": {
            "text/plain": [
              "'car'"
            ],
            "application/vnd.google.colaboratory.intrinsic+json": {
              "type": "string"
            }
          },
          "metadata": {},
          "execution_count": 94
        }
      ]
    },
    {
      "cell_type": "markdown",
      "source": [
        "# Doc2vec"
      ],
      "metadata": {
        "id": "X-p7VX_OIrv1"
      }
    },
    {
      "cell_type": "markdown",
      "source": [
        "Run gensim doc2vec model on corpus_gen (vector_size=100, min_count=566). (Note:\n",
        "Doc2vec requires tagged documents). Determine the embedding representation for the\n",
        "first document as well as the document in the dataset most similar to it. Compare it to\n",
        "the result in 10. Generate the final corpus as a data frame and store it in GoogleDrive\n",
        "as DoctoVecModel.pkl.."
      ],
      "metadata": {
        "id": "CPM9sv6lTxXk"
      }
    },
    {
      "cell_type": "code",
      "source": [
        "# Tag Documents\n",
        "corpus_gen_t = []\n",
        "for i, tokens in enumerate(corpus_gen):\n",
        "  corpus_gen_t.append(TaggedDocument(tokens, [i]))"
      ],
      "metadata": {
        "id": "AAud37TBZWej"
      },
      "execution_count": 104,
      "outputs": []
    },
    {
      "cell_type": "code",
      "source": [
        "# initialize model \n",
        "d_model = Doc2Vec(corpus_gen_t, vector_size=100, min_count=566)"
      ],
      "metadata": {
        "id": "yfm0W-36T5nn"
      },
      "execution_count": 107,
      "outputs": []
    },
    {
      "cell_type": "code",
      "source": [
        "# infer vector (embedding representation) of first document \n",
        "inf_vec = d_model.infer_vector(corpus_gen_t[0][0])"
      ],
      "metadata": {
        "id": "K41cQZWsXKk_"
      },
      "execution_count": 126,
      "outputs": []
    },
    {
      "cell_type": "code",
      "source": [
        "# Top 10 most similar \n",
        "sims = d_model.docvecs.most_similar([inf_vec], topn=10)\n",
        "sims"
      ],
      "metadata": {
        "colab": {
          "base_uri": "https://localhost:8080/"
        },
        "id": "4o1OVXwybBQT",
        "outputId": "17d653c7-bac8-4f4e-84ca-bbea341ad6ea"
      },
      "execution_count": 128,
      "outputs": [
        {
          "output_type": "execute_result",
          "data": {
            "text/plain": [
              "[(0, 0.8106570243835449),\n",
              " (3819, 0.792576014995575),\n",
              " (3550, 0.7913380861282349),\n",
              " (445, 0.7799179553985596),\n",
              " (4600, 0.772595226764679),\n",
              " (9196, 0.7702265381813049),\n",
              " (7861, 0.7685385346412659),\n",
              " (11288, 0.7679082751274109),\n",
              " (4456, 0.7658605575561523),\n",
              " (1047, 0.7613057494163513)]"
            ]
          },
          "metadata": {},
          "execution_count": 128
        }
      ]
    },
    {
      "cell_type": "code",
      "source": [
        "vec_ms = d_model.infer_vector(corpus_gen_t[sims[1][0]].words)\n",
        "vec_ms"
      ],
      "metadata": {
        "colab": {
          "base_uri": "https://localhost:8080/"
        },
        "id": "IwzWD1H2bTR5",
        "outputId": "368c32a2-7033-4905-f17e-0b6dd373a8d4"
      },
      "execution_count": 134,
      "outputs": [
        {
          "output_type": "execute_result",
          "data": {
            "text/plain": [
              "array([ 0.03939803,  0.0030868 , -0.13779815,  0.1030381 , -0.23047528,\n",
              "       -0.0877317 , -0.02308975,  0.07620917,  0.00743653,  0.16874756,\n",
              "        0.11099327, -0.21795046,  0.00810836, -0.16032165, -0.23383787,\n",
              "       -0.03893895,  0.03716713, -0.1441815 ,  0.17089555,  0.08035015,\n",
              "       -0.13690284, -0.06241753, -0.27806956, -0.04496985, -0.22355708,\n",
              "        0.24847798, -0.17059168,  0.16203728,  0.0994089 ,  0.2632886 ,\n",
              "        0.20338736,  0.14723602, -0.1910176 , -0.02871284, -0.06476048,\n",
              "        0.19563058, -0.23224536, -0.09760678,  0.4979108 ,  0.04846481,\n",
              "        0.10950635, -0.04535366, -0.42864633,  0.00094055, -0.16082078,\n",
              "        0.06794269,  0.11982191, -0.11386397, -0.18312824, -0.05350937,\n",
              "        0.12591149,  0.22761072, -0.08456829, -0.02280084,  0.01922724,\n",
              "        0.16712774, -0.1322307 , -0.05295815, -0.12094194,  0.19907603,\n",
              "       -0.04262339,  0.00108411,  0.12258077, -0.13629547,  0.03827178,\n",
              "       -0.07117741,  0.36608   ,  0.2506777 ,  0.033354  , -0.0992805 ,\n",
              "       -0.06022237, -0.1753129 ,  0.16831844,  0.07826581, -0.17182608,\n",
              "        0.01856306,  0.09086342,  0.19034798,  0.11644272,  0.21064568,\n",
              "       -0.2094698 ,  0.12638007,  0.11164223,  0.19726224, -0.12796208,\n",
              "        0.19999836, -0.00837118,  0.10740046,  0.09861381,  0.06723125,\n",
              "       -0.02556739,  0.34721562, -0.06081119,  0.05090946,  0.04740538,\n",
              "       -0.03951484,  0.03368993, -0.08792792, -0.00406815,  0.06975341],\n",
              "      dtype=float32)"
            ]
          },
          "metadata": {},
          "execution_count": 134
        }
      ]
    },
    {
      "cell_type": "code",
      "source": [
        "print(lemma_df.iloc[sims[1][0]].text)"
      ],
      "metadata": {
        "colab": {
          "base_uri": "https://localhost:8080/"
        },
        "id": "hkqAcrO0dVrh",
        "outputId": "d28e27b8-642c-4d47-8f4e-fb71d8707bd9"
      },
      "execution_count": 140,
      "outputs": [
        {
          "output_type": "stream",
          "name": "stdout",
          "text": [
            "ford probe opinion center jeremy mereness zonker cmu edu say offer opinions ford probe ala long run repair record reliability mileage fix buy car month aim little big typical small car little power consider probe accord corolla probe young bunch opinions magazine rating book place excellent value btw rear wheel drive design thank advance read normally read group look valentine radar information sigh maybe faq come post buy probe pep july mile debate sentra stealth prelude celica check month consumer report previous probe record criterion fun car ab airbag think turbo check insurance people rule tri star cars eclipse talon air bag ditto mustang abs fall pocket rocket category good car buy roll like like prelude dash instrumentation weird small non passenger space need go celica underpowere loaded option somewhat overprice non turbo form consider airbag look rwd virtue corolla entered mind look mitsubishi dodge stealth list exhausted buy probe car design different early year early reliability far worth comment dislike shut door window inside rarely make good wind seal headlight stick time weather air conditioning break mile pressure cycling switch condensation rear wash fluid container drain completely cram engine little hope yourselfer typical part somewhat expensive normal ford part underside plastic like sharp driveway speedbump typical assembly gripe tape radiator screw fall dash seat seam stitch properly hopefully fluke ford give key car mon ford spend extra penny rear hatch padding corner wait day bash head corner horn button air bag spoke center personal preference tire fle dirt mud car like engine design valve sound smoothness power mileage torque definitely handle good fwd understeer limit transmission speed usable instrumentation lovely readable analog little torque steer power better sho drive stability mph high gear low cowl good visibility heat outside mirror nice fog test freezing weather abs air bag rear seat fold rear seat passenger trunk important shake rattle noise go bump pothole tire goodyear eagle leave hope primarily interested engine uummmph big liter car turbo rush big selling point aluminum value liter engine overall car good buy money market segment hasn change july prelude vtec honda del sol drive work day relatively smooth road noticable thing probe suspension like potholes test drive pothole road town jar tolerable passenger mean bring room car ride differently well lot glass wasn expecting temperature inside car get pretty hot summer seat passenger complain lack ventilation want consider combine heat hear exhaust trouble work fine leather keyless entry weren available get car comment get car officially announce prefer cloth leather wouldn want car snow suspension rough inevitable surprise pothole tire aren mean snow seat assume wear lot clothing rain well water generally beads windshield freeway speed windshield wiper control easy understandable barely hydroplane eagle try definite lack cup holder small storage place map holder speaker door rigid plastic fit cassette max center console storage bin arm rest cup holder seats cloth pouch change holder let sho probe definitely people mover car econo box car lastly store wet car cover foam soak water result smell pleasant nathan nathan sco com jeremy mereness support olde disclaimer zonker cmu edu internet free represent fast project cmu gsia software opinion mechanical engineering cmu get to love silver lining get touch grey year mark anniversary rights nathan sco com comment come away napolean xiv\n"
          ]
        }
      ]
    },
    {
      "cell_type": "markdown",
      "source": [
        "Result from Doc2Vec seems to be better fitting then the averaged w2v"
      ],
      "metadata": {
        "id": "nHPtiM9zdXxp"
      }
    },
    {
      "cell_type": "code",
      "source": [
        "# Generate the final corpus as a data frame and store it in GoogleDrive as DoctoVecModel.pkl.\n",
        "corpus_3 = [d_model.infer_vector(doc) for doc, doc_id in corpus_gen_t]"
      ],
      "metadata": {
        "id": "4H0X4IDKe5RL"
      },
      "execution_count": 151,
      "outputs": []
    },
    {
      "cell_type": "code",
      "source": [
        "# Create df\n",
        "DoctoVecModel = pd.DataFrame(np.concatenate([corpus_3],axis=0))\n",
        "DoctoVecModel.head()"
      ],
      "metadata": {
        "colab": {
          "base_uri": "https://localhost:8080/",
          "height": 300
        },
        "id": "m8TiakYVgxvR",
        "outputId": "544f8b3f-a214-4a2b-c182-a44841c5f308"
      },
      "execution_count": 156,
      "outputs": [
        {
          "output_type": "execute_result",
          "data": {
            "text/plain": [
              "         0         1         2         3         4         5         6   \\\n",
              "0 -0.019556 -0.002473  0.027714  0.002049 -0.051203 -0.023470  0.038007   \n",
              "1  0.089255  0.022071 -0.012584 -0.059912  0.039230  0.036106  0.045976   \n",
              "2  0.106090  0.177577  0.028048 -0.105931 -0.024951 -0.101361 -0.131309   \n",
              "3 -0.028032  0.084766 -0.015731 -0.013414 -0.051138 -0.046498  0.016996   \n",
              "4 -0.038871 -0.012824  0.015652 -0.141965 -0.028991  0.004396  0.011437   \n",
              "\n",
              "         7         8         9   ...        90        91        92        93  \\\n",
              "0  0.019787  0.011376  0.057402  ... -0.029897  0.076302 -0.080510  0.003817   \n",
              "1  0.028675 -0.027386  0.116780  ...  0.020228 -0.002983  0.013145  0.066479   \n",
              "2 -0.050143  0.149129  0.048127  ... -0.064408 -0.060442  0.075986  0.010480   \n",
              "3 -0.004060  0.041146  0.027825  ...  0.049122 -0.030293 -0.045480 -0.033850   \n",
              "4  0.004229  0.056814 -0.051368  ... -0.036690  0.005222  0.023500  0.040639   \n",
              "\n",
              "         94        95        96        97        98        99  \n",
              "0 -0.102602 -0.012824  0.039288  0.013901  0.035912  0.075591  \n",
              "1 -0.048470  0.031540  0.013921 -0.070716 -0.007303  0.043357  \n",
              "2 -0.047085 -0.038759  0.115350 -0.124995  0.063829  0.043481  \n",
              "3 -0.063363 -0.015023  0.050747  0.016347 -0.002227 -0.012333  \n",
              "4 -0.097264 -0.001881  0.111407 -0.009567  0.009186  0.020623  \n",
              "\n",
              "[5 rows x 100 columns]"
            ],
            "text/html": [
              "\n",
              "  <div id=\"df-26e94db4-3107-48b3-92bf-a47920365972\">\n",
              "    <div class=\"colab-df-container\">\n",
              "      <div>\n",
              "<style scoped>\n",
              "    .dataframe tbody tr th:only-of-type {\n",
              "        vertical-align: middle;\n",
              "    }\n",
              "\n",
              "    .dataframe tbody tr th {\n",
              "        vertical-align: top;\n",
              "    }\n",
              "\n",
              "    .dataframe thead th {\n",
              "        text-align: right;\n",
              "    }\n",
              "</style>\n",
              "<table border=\"1\" class=\"dataframe\">\n",
              "  <thead>\n",
              "    <tr style=\"text-align: right;\">\n",
              "      <th></th>\n",
              "      <th>0</th>\n",
              "      <th>1</th>\n",
              "      <th>2</th>\n",
              "      <th>3</th>\n",
              "      <th>4</th>\n",
              "      <th>5</th>\n",
              "      <th>6</th>\n",
              "      <th>7</th>\n",
              "      <th>8</th>\n",
              "      <th>9</th>\n",
              "      <th>...</th>\n",
              "      <th>90</th>\n",
              "      <th>91</th>\n",
              "      <th>92</th>\n",
              "      <th>93</th>\n",
              "      <th>94</th>\n",
              "      <th>95</th>\n",
              "      <th>96</th>\n",
              "      <th>97</th>\n",
              "      <th>98</th>\n",
              "      <th>99</th>\n",
              "    </tr>\n",
              "  </thead>\n",
              "  <tbody>\n",
              "    <tr>\n",
              "      <th>0</th>\n",
              "      <td>-0.019556</td>\n",
              "      <td>-0.002473</td>\n",
              "      <td>0.027714</td>\n",
              "      <td>0.002049</td>\n",
              "      <td>-0.051203</td>\n",
              "      <td>-0.023470</td>\n",
              "      <td>0.038007</td>\n",
              "      <td>0.019787</td>\n",
              "      <td>0.011376</td>\n",
              "      <td>0.057402</td>\n",
              "      <td>...</td>\n",
              "      <td>-0.029897</td>\n",
              "      <td>0.076302</td>\n",
              "      <td>-0.080510</td>\n",
              "      <td>0.003817</td>\n",
              "      <td>-0.102602</td>\n",
              "      <td>-0.012824</td>\n",
              "      <td>0.039288</td>\n",
              "      <td>0.013901</td>\n",
              "      <td>0.035912</td>\n",
              "      <td>0.075591</td>\n",
              "    </tr>\n",
              "    <tr>\n",
              "      <th>1</th>\n",
              "      <td>0.089255</td>\n",
              "      <td>0.022071</td>\n",
              "      <td>-0.012584</td>\n",
              "      <td>-0.059912</td>\n",
              "      <td>0.039230</td>\n",
              "      <td>0.036106</td>\n",
              "      <td>0.045976</td>\n",
              "      <td>0.028675</td>\n",
              "      <td>-0.027386</td>\n",
              "      <td>0.116780</td>\n",
              "      <td>...</td>\n",
              "      <td>0.020228</td>\n",
              "      <td>-0.002983</td>\n",
              "      <td>0.013145</td>\n",
              "      <td>0.066479</td>\n",
              "      <td>-0.048470</td>\n",
              "      <td>0.031540</td>\n",
              "      <td>0.013921</td>\n",
              "      <td>-0.070716</td>\n",
              "      <td>-0.007303</td>\n",
              "      <td>0.043357</td>\n",
              "    </tr>\n",
              "    <tr>\n",
              "      <th>2</th>\n",
              "      <td>0.106090</td>\n",
              "      <td>0.177577</td>\n",
              "      <td>0.028048</td>\n",
              "      <td>-0.105931</td>\n",
              "      <td>-0.024951</td>\n",
              "      <td>-0.101361</td>\n",
              "      <td>-0.131309</td>\n",
              "      <td>-0.050143</td>\n",
              "      <td>0.149129</td>\n",
              "      <td>0.048127</td>\n",
              "      <td>...</td>\n",
              "      <td>-0.064408</td>\n",
              "      <td>-0.060442</td>\n",
              "      <td>0.075986</td>\n",
              "      <td>0.010480</td>\n",
              "      <td>-0.047085</td>\n",
              "      <td>-0.038759</td>\n",
              "      <td>0.115350</td>\n",
              "      <td>-0.124995</td>\n",
              "      <td>0.063829</td>\n",
              "      <td>0.043481</td>\n",
              "    </tr>\n",
              "    <tr>\n",
              "      <th>3</th>\n",
              "      <td>-0.028032</td>\n",
              "      <td>0.084766</td>\n",
              "      <td>-0.015731</td>\n",
              "      <td>-0.013414</td>\n",
              "      <td>-0.051138</td>\n",
              "      <td>-0.046498</td>\n",
              "      <td>0.016996</td>\n",
              "      <td>-0.004060</td>\n",
              "      <td>0.041146</td>\n",
              "      <td>0.027825</td>\n",
              "      <td>...</td>\n",
              "      <td>0.049122</td>\n",
              "      <td>-0.030293</td>\n",
              "      <td>-0.045480</td>\n",
              "      <td>-0.033850</td>\n",
              "      <td>-0.063363</td>\n",
              "      <td>-0.015023</td>\n",
              "      <td>0.050747</td>\n",
              "      <td>0.016347</td>\n",
              "      <td>-0.002227</td>\n",
              "      <td>-0.012333</td>\n",
              "    </tr>\n",
              "    <tr>\n",
              "      <th>4</th>\n",
              "      <td>-0.038871</td>\n",
              "      <td>-0.012824</td>\n",
              "      <td>0.015652</td>\n",
              "      <td>-0.141965</td>\n",
              "      <td>-0.028991</td>\n",
              "      <td>0.004396</td>\n",
              "      <td>0.011437</td>\n",
              "      <td>0.004229</td>\n",
              "      <td>0.056814</td>\n",
              "      <td>-0.051368</td>\n",
              "      <td>...</td>\n",
              "      <td>-0.036690</td>\n",
              "      <td>0.005222</td>\n",
              "      <td>0.023500</td>\n",
              "      <td>0.040639</td>\n",
              "      <td>-0.097264</td>\n",
              "      <td>-0.001881</td>\n",
              "      <td>0.111407</td>\n",
              "      <td>-0.009567</td>\n",
              "      <td>0.009186</td>\n",
              "      <td>0.020623</td>\n",
              "    </tr>\n",
              "  </tbody>\n",
              "</table>\n",
              "<p>5 rows × 100 columns</p>\n",
              "</div>\n",
              "      <button class=\"colab-df-convert\" onclick=\"convertToInteractive('df-26e94db4-3107-48b3-92bf-a47920365972')\"\n",
              "              title=\"Convert this dataframe to an interactive table.\"\n",
              "              style=\"display:none;\">\n",
              "        \n",
              "  <svg xmlns=\"http://www.w3.org/2000/svg\" height=\"24px\"viewBox=\"0 0 24 24\"\n",
              "       width=\"24px\">\n",
              "    <path d=\"M0 0h24v24H0V0z\" fill=\"none\"/>\n",
              "    <path d=\"M18.56 5.44l.94 2.06.94-2.06 2.06-.94-2.06-.94-.94-2.06-.94 2.06-2.06.94zm-11 1L8.5 8.5l.94-2.06 2.06-.94-2.06-.94L8.5 2.5l-.94 2.06-2.06.94zm10 10l.94 2.06.94-2.06 2.06-.94-2.06-.94-.94-2.06-.94 2.06-2.06.94z\"/><path d=\"M17.41 7.96l-1.37-1.37c-.4-.4-.92-.59-1.43-.59-.52 0-1.04.2-1.43.59L10.3 9.45l-7.72 7.72c-.78.78-.78 2.05 0 2.83L4 21.41c.39.39.9.59 1.41.59.51 0 1.02-.2 1.41-.59l7.78-7.78 2.81-2.81c.8-.78.8-2.07 0-2.86zM5.41 20L4 18.59l7.72-7.72 1.47 1.35L5.41 20z\"/>\n",
              "  </svg>\n",
              "      </button>\n",
              "      \n",
              "  <style>\n",
              "    .colab-df-container {\n",
              "      display:flex;\n",
              "      flex-wrap:wrap;\n",
              "      gap: 12px;\n",
              "    }\n",
              "\n",
              "    .colab-df-convert {\n",
              "      background-color: #E8F0FE;\n",
              "      border: none;\n",
              "      border-radius: 50%;\n",
              "      cursor: pointer;\n",
              "      display: none;\n",
              "      fill: #1967D2;\n",
              "      height: 32px;\n",
              "      padding: 0 0 0 0;\n",
              "      width: 32px;\n",
              "    }\n",
              "\n",
              "    .colab-df-convert:hover {\n",
              "      background-color: #E2EBFA;\n",
              "      box-shadow: 0px 1px 2px rgba(60, 64, 67, 0.3), 0px 1px 3px 1px rgba(60, 64, 67, 0.15);\n",
              "      fill: #174EA6;\n",
              "    }\n",
              "\n",
              "    [theme=dark] .colab-df-convert {\n",
              "      background-color: #3B4455;\n",
              "      fill: #D2E3FC;\n",
              "    }\n",
              "\n",
              "    [theme=dark] .colab-df-convert:hover {\n",
              "      background-color: #434B5C;\n",
              "      box-shadow: 0px 1px 3px 1px rgba(0, 0, 0, 0.15);\n",
              "      filter: drop-shadow(0px 1px 2px rgba(0, 0, 0, 0.3));\n",
              "      fill: #FFFFFF;\n",
              "    }\n",
              "  </style>\n",
              "\n",
              "      <script>\n",
              "        const buttonEl =\n",
              "          document.querySelector('#df-26e94db4-3107-48b3-92bf-a47920365972 button.colab-df-convert');\n",
              "        buttonEl.style.display =\n",
              "          google.colab.kernel.accessAllowed ? 'block' : 'none';\n",
              "\n",
              "        async function convertToInteractive(key) {\n",
              "          const element = document.querySelector('#df-26e94db4-3107-48b3-92bf-a47920365972');\n",
              "          const dataTable =\n",
              "            await google.colab.kernel.invokeFunction('convertToInteractive',\n",
              "                                                     [key], {});\n",
              "          if (!dataTable) return;\n",
              "\n",
              "          const docLinkHtml = 'Like what you see? Visit the ' +\n",
              "            '<a target=\"_blank\" href=https://colab.research.google.com/notebooks/data_table.ipynb>data table notebook</a>'\n",
              "            + ' to learn more about interactive tables.';\n",
              "          element.innerHTML = '';\n",
              "          dataTable['output_type'] = 'display_data';\n",
              "          await google.colab.output.renderOutput(dataTable, element);\n",
              "          const docLink = document.createElement('div');\n",
              "          docLink.innerHTML = docLinkHtml;\n",
              "          element.appendChild(docLink);\n",
              "        }\n",
              "      </script>\n",
              "    </div>\n",
              "  </div>\n",
              "  "
            ]
          },
          "metadata": {},
          "execution_count": 156
        }
      ]
    },
    {
      "cell_type": "code",
      "source": [
        "#Store the result for all documents in a data frame and then in GoogleDrive as WordtoVecModel.pkl.\n",
        "DoctoVecModel.to_pickle('drive/MyDrive/Colab_Notebooks/02_HWR/00_data/Models/DoctoVecModel.pkl')"
      ],
      "metadata": {
        "id": "sHM1x5JyhFDe"
      },
      "execution_count": 160,
      "outputs": []
    },
    {
      "cell_type": "code",
      "source": [
        "# Test if storing worked\n",
        "with open('drive/MyDrive/Colab_Notebooks/02_HWR/00_data/Models/DoctoVecModel.pkl', 'rb') as f:\n",
        "    DoctoVecModel = pickle.load(f)\n",
        "DoctoVecModel.head()    "
      ],
      "metadata": {
        "colab": {
          "base_uri": "https://localhost:8080/",
          "height": 300
        },
        "id": "Tqs4v_j9heVN",
        "outputId": "81a28ea2-9d53-47e3-fe58-f6f7c6c876d1"
      },
      "execution_count": 161,
      "outputs": [
        {
          "output_type": "execute_result",
          "data": {
            "text/plain": [
              "         0         1         2         3         4         5         6   \\\n",
              "0 -0.019556 -0.002473  0.027714  0.002049 -0.051203 -0.023470  0.038007   \n",
              "1  0.089255  0.022071 -0.012584 -0.059912  0.039230  0.036106  0.045976   \n",
              "2  0.106090  0.177577  0.028048 -0.105931 -0.024951 -0.101361 -0.131309   \n",
              "3 -0.028032  0.084766 -0.015731 -0.013414 -0.051138 -0.046498  0.016996   \n",
              "4 -0.038871 -0.012824  0.015652 -0.141965 -0.028991  0.004396  0.011437   \n",
              "\n",
              "         7         8         9   ...        90        91        92        93  \\\n",
              "0  0.019787  0.011376  0.057402  ... -0.029897  0.076302 -0.080510  0.003817   \n",
              "1  0.028675 -0.027386  0.116780  ...  0.020228 -0.002983  0.013145  0.066479   \n",
              "2 -0.050143  0.149129  0.048127  ... -0.064408 -0.060442  0.075986  0.010480   \n",
              "3 -0.004060  0.041146  0.027825  ...  0.049122 -0.030293 -0.045480 -0.033850   \n",
              "4  0.004229  0.056814 -0.051368  ... -0.036690  0.005222  0.023500  0.040639   \n",
              "\n",
              "         94        95        96        97        98        99  \n",
              "0 -0.102602 -0.012824  0.039288  0.013901  0.035912  0.075591  \n",
              "1 -0.048470  0.031540  0.013921 -0.070716 -0.007303  0.043357  \n",
              "2 -0.047085 -0.038759  0.115350 -0.124995  0.063829  0.043481  \n",
              "3 -0.063363 -0.015023  0.050747  0.016347 -0.002227 -0.012333  \n",
              "4 -0.097264 -0.001881  0.111407 -0.009567  0.009186  0.020623  \n",
              "\n",
              "[5 rows x 100 columns]"
            ],
            "text/html": [
              "\n",
              "  <div id=\"df-b872425b-b6dd-4fab-8211-1da22449b561\">\n",
              "    <div class=\"colab-df-container\">\n",
              "      <div>\n",
              "<style scoped>\n",
              "    .dataframe tbody tr th:only-of-type {\n",
              "        vertical-align: middle;\n",
              "    }\n",
              "\n",
              "    .dataframe tbody tr th {\n",
              "        vertical-align: top;\n",
              "    }\n",
              "\n",
              "    .dataframe thead th {\n",
              "        text-align: right;\n",
              "    }\n",
              "</style>\n",
              "<table border=\"1\" class=\"dataframe\">\n",
              "  <thead>\n",
              "    <tr style=\"text-align: right;\">\n",
              "      <th></th>\n",
              "      <th>0</th>\n",
              "      <th>1</th>\n",
              "      <th>2</th>\n",
              "      <th>3</th>\n",
              "      <th>4</th>\n",
              "      <th>5</th>\n",
              "      <th>6</th>\n",
              "      <th>7</th>\n",
              "      <th>8</th>\n",
              "      <th>9</th>\n",
              "      <th>...</th>\n",
              "      <th>90</th>\n",
              "      <th>91</th>\n",
              "      <th>92</th>\n",
              "      <th>93</th>\n",
              "      <th>94</th>\n",
              "      <th>95</th>\n",
              "      <th>96</th>\n",
              "      <th>97</th>\n",
              "      <th>98</th>\n",
              "      <th>99</th>\n",
              "    </tr>\n",
              "  </thead>\n",
              "  <tbody>\n",
              "    <tr>\n",
              "      <th>0</th>\n",
              "      <td>-0.019556</td>\n",
              "      <td>-0.002473</td>\n",
              "      <td>0.027714</td>\n",
              "      <td>0.002049</td>\n",
              "      <td>-0.051203</td>\n",
              "      <td>-0.023470</td>\n",
              "      <td>0.038007</td>\n",
              "      <td>0.019787</td>\n",
              "      <td>0.011376</td>\n",
              "      <td>0.057402</td>\n",
              "      <td>...</td>\n",
              "      <td>-0.029897</td>\n",
              "      <td>0.076302</td>\n",
              "      <td>-0.080510</td>\n",
              "      <td>0.003817</td>\n",
              "      <td>-0.102602</td>\n",
              "      <td>-0.012824</td>\n",
              "      <td>0.039288</td>\n",
              "      <td>0.013901</td>\n",
              "      <td>0.035912</td>\n",
              "      <td>0.075591</td>\n",
              "    </tr>\n",
              "    <tr>\n",
              "      <th>1</th>\n",
              "      <td>0.089255</td>\n",
              "      <td>0.022071</td>\n",
              "      <td>-0.012584</td>\n",
              "      <td>-0.059912</td>\n",
              "      <td>0.039230</td>\n",
              "      <td>0.036106</td>\n",
              "      <td>0.045976</td>\n",
              "      <td>0.028675</td>\n",
              "      <td>-0.027386</td>\n",
              "      <td>0.116780</td>\n",
              "      <td>...</td>\n",
              "      <td>0.020228</td>\n",
              "      <td>-0.002983</td>\n",
              "      <td>0.013145</td>\n",
              "      <td>0.066479</td>\n",
              "      <td>-0.048470</td>\n",
              "      <td>0.031540</td>\n",
              "      <td>0.013921</td>\n",
              "      <td>-0.070716</td>\n",
              "      <td>-0.007303</td>\n",
              "      <td>0.043357</td>\n",
              "    </tr>\n",
              "    <tr>\n",
              "      <th>2</th>\n",
              "      <td>0.106090</td>\n",
              "      <td>0.177577</td>\n",
              "      <td>0.028048</td>\n",
              "      <td>-0.105931</td>\n",
              "      <td>-0.024951</td>\n",
              "      <td>-0.101361</td>\n",
              "      <td>-0.131309</td>\n",
              "      <td>-0.050143</td>\n",
              "      <td>0.149129</td>\n",
              "      <td>0.048127</td>\n",
              "      <td>...</td>\n",
              "      <td>-0.064408</td>\n",
              "      <td>-0.060442</td>\n",
              "      <td>0.075986</td>\n",
              "      <td>0.010480</td>\n",
              "      <td>-0.047085</td>\n",
              "      <td>-0.038759</td>\n",
              "      <td>0.115350</td>\n",
              "      <td>-0.124995</td>\n",
              "      <td>0.063829</td>\n",
              "      <td>0.043481</td>\n",
              "    </tr>\n",
              "    <tr>\n",
              "      <th>3</th>\n",
              "      <td>-0.028032</td>\n",
              "      <td>0.084766</td>\n",
              "      <td>-0.015731</td>\n",
              "      <td>-0.013414</td>\n",
              "      <td>-0.051138</td>\n",
              "      <td>-0.046498</td>\n",
              "      <td>0.016996</td>\n",
              "      <td>-0.004060</td>\n",
              "      <td>0.041146</td>\n",
              "      <td>0.027825</td>\n",
              "      <td>...</td>\n",
              "      <td>0.049122</td>\n",
              "      <td>-0.030293</td>\n",
              "      <td>-0.045480</td>\n",
              "      <td>-0.033850</td>\n",
              "      <td>-0.063363</td>\n",
              "      <td>-0.015023</td>\n",
              "      <td>0.050747</td>\n",
              "      <td>0.016347</td>\n",
              "      <td>-0.002227</td>\n",
              "      <td>-0.012333</td>\n",
              "    </tr>\n",
              "    <tr>\n",
              "      <th>4</th>\n",
              "      <td>-0.038871</td>\n",
              "      <td>-0.012824</td>\n",
              "      <td>0.015652</td>\n",
              "      <td>-0.141965</td>\n",
              "      <td>-0.028991</td>\n",
              "      <td>0.004396</td>\n",
              "      <td>0.011437</td>\n",
              "      <td>0.004229</td>\n",
              "      <td>0.056814</td>\n",
              "      <td>-0.051368</td>\n",
              "      <td>...</td>\n",
              "      <td>-0.036690</td>\n",
              "      <td>0.005222</td>\n",
              "      <td>0.023500</td>\n",
              "      <td>0.040639</td>\n",
              "      <td>-0.097264</td>\n",
              "      <td>-0.001881</td>\n",
              "      <td>0.111407</td>\n",
              "      <td>-0.009567</td>\n",
              "      <td>0.009186</td>\n",
              "      <td>0.020623</td>\n",
              "    </tr>\n",
              "  </tbody>\n",
              "</table>\n",
              "<p>5 rows × 100 columns</p>\n",
              "</div>\n",
              "      <button class=\"colab-df-convert\" onclick=\"convertToInteractive('df-b872425b-b6dd-4fab-8211-1da22449b561')\"\n",
              "              title=\"Convert this dataframe to an interactive table.\"\n",
              "              style=\"display:none;\">\n",
              "        \n",
              "  <svg xmlns=\"http://www.w3.org/2000/svg\" height=\"24px\"viewBox=\"0 0 24 24\"\n",
              "       width=\"24px\">\n",
              "    <path d=\"M0 0h24v24H0V0z\" fill=\"none\"/>\n",
              "    <path d=\"M18.56 5.44l.94 2.06.94-2.06 2.06-.94-2.06-.94-.94-2.06-.94 2.06-2.06.94zm-11 1L8.5 8.5l.94-2.06 2.06-.94-2.06-.94L8.5 2.5l-.94 2.06-2.06.94zm10 10l.94 2.06.94-2.06 2.06-.94-2.06-.94-.94-2.06-.94 2.06-2.06.94z\"/><path d=\"M17.41 7.96l-1.37-1.37c-.4-.4-.92-.59-1.43-.59-.52 0-1.04.2-1.43.59L10.3 9.45l-7.72 7.72c-.78.78-.78 2.05 0 2.83L4 21.41c.39.39.9.59 1.41.59.51 0 1.02-.2 1.41-.59l7.78-7.78 2.81-2.81c.8-.78.8-2.07 0-2.86zM5.41 20L4 18.59l7.72-7.72 1.47 1.35L5.41 20z\"/>\n",
              "  </svg>\n",
              "      </button>\n",
              "      \n",
              "  <style>\n",
              "    .colab-df-container {\n",
              "      display:flex;\n",
              "      flex-wrap:wrap;\n",
              "      gap: 12px;\n",
              "    }\n",
              "\n",
              "    .colab-df-convert {\n",
              "      background-color: #E8F0FE;\n",
              "      border: none;\n",
              "      border-radius: 50%;\n",
              "      cursor: pointer;\n",
              "      display: none;\n",
              "      fill: #1967D2;\n",
              "      height: 32px;\n",
              "      padding: 0 0 0 0;\n",
              "      width: 32px;\n",
              "    }\n",
              "\n",
              "    .colab-df-convert:hover {\n",
              "      background-color: #E2EBFA;\n",
              "      box-shadow: 0px 1px 2px rgba(60, 64, 67, 0.3), 0px 1px 3px 1px rgba(60, 64, 67, 0.15);\n",
              "      fill: #174EA6;\n",
              "    }\n",
              "\n",
              "    [theme=dark] .colab-df-convert {\n",
              "      background-color: #3B4455;\n",
              "      fill: #D2E3FC;\n",
              "    }\n",
              "\n",
              "    [theme=dark] .colab-df-convert:hover {\n",
              "      background-color: #434B5C;\n",
              "      box-shadow: 0px 1px 3px 1px rgba(0, 0, 0, 0.15);\n",
              "      filter: drop-shadow(0px 1px 2px rgba(0, 0, 0, 0.3));\n",
              "      fill: #FFFFFF;\n",
              "    }\n",
              "  </style>\n",
              "\n",
              "      <script>\n",
              "        const buttonEl =\n",
              "          document.querySelector('#df-b872425b-b6dd-4fab-8211-1da22449b561 button.colab-df-convert');\n",
              "        buttonEl.style.display =\n",
              "          google.colab.kernel.accessAllowed ? 'block' : 'none';\n",
              "\n",
              "        async function convertToInteractive(key) {\n",
              "          const element = document.querySelector('#df-b872425b-b6dd-4fab-8211-1da22449b561');\n",
              "          const dataTable =\n",
              "            await google.colab.kernel.invokeFunction('convertToInteractive',\n",
              "                                                     [key], {});\n",
              "          if (!dataTable) return;\n",
              "\n",
              "          const docLinkHtml = 'Like what you see? Visit the ' +\n",
              "            '<a target=\"_blank\" href=https://colab.research.google.com/notebooks/data_table.ipynb>data table notebook</a>'\n",
              "            + ' to learn more about interactive tables.';\n",
              "          element.innerHTML = '';\n",
              "          dataTable['output_type'] = 'display_data';\n",
              "          await google.colab.output.renderOutput(dataTable, element);\n",
              "          const docLink = document.createElement('div');\n",
              "          docLink.innerHTML = docLinkHtml;\n",
              "          element.appendChild(docLink);\n",
              "        }\n",
              "      </script>\n",
              "    </div>\n",
              "  </div>\n",
              "  "
            ]
          },
          "metadata": {},
          "execution_count": 161
        }
      ]
    },
    {
      "cell_type": "code",
      "source": [
        ""
      ],
      "metadata": {
        "id": "0yfT7NV8hjzu"
      },
      "execution_count": null,
      "outputs": []
    }
  ]
}