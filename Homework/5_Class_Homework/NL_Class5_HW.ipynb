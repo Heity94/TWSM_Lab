{
  "cells": [
    {
      "cell_type": "markdown",
      "metadata": {
        "id": "view-in-github",
        "colab_type": "text"
      },
      "source": [
        "<a href=\"https://colab.research.google.com/github/Heity94/TWSM_Lab/blob/main/Homework/5_Class_Homework/NL_Class5_HW.ipynb\" target=\"_parent\"><img src=\"https://colab.research.google.com/assets/colab-badge.svg\" alt=\"Open In Colab\"/></a>"
      ]
    },
    {
      "cell_type": "markdown",
      "source": [
        "### Libraries"
      ],
      "metadata": {
        "id": "L0HoGesYBC1E"
      }
    },
    {
      "cell_type": "code",
      "source": [
        "from google.colab import drive\n",
        "drive.mount('/content/drive')\n",
        "TWSM_path = \"/content/drive/MyDrive/teaching/TWSM/\"\n",
        "\n",
        "#from TWSM import *\n",
        "from tensorflow import keras\n",
        "from tensorflow.keras.models import Sequential\n",
        "from tensorflow.keras.layers import Dense\n",
        "from tensorflow.keras import layers\n",
        "import spacy\n",
        "## Import packages\n",
        "import pickle\n",
        "import pandas as pd\n",
        "from gensim.models import Word2Vec\n",
        "import time\n",
        "import numpy as np\n",
        "# run this from a normal command line\n",
        "#!python -m spacy download en_core_web_md #160MB\n",
        "\n",
        "#can I download this to a local file instead and load it fom drive?\n"
      ],
      "metadata": {
        "id": "4k1Km8WrvyWM",
        "colab": {
          "base_uri": "https://localhost:8080/"
        },
        "outputId": "b0b74105-401a-41a5-f591-dac0f668fba3"
      },
      "execution_count": 1,
      "outputs": [
        {
          "output_type": "stream",
          "name": "stdout",
          "text": [
            "Drive already mounted at /content/drive; to attempt to forcibly remount, call drive.mount(\"/content/drive\", force_remount=True).\n"
          ]
        }
      ]
    },
    {
      "cell_type": "markdown",
      "source": [
        "**IMD Movie Reviews**"
      ],
      "metadata": {
        "id": "e3ofzmU3fbUH"
      }
    },
    {
      "cell_type": "code",
      "source": [
        "from tensorflow.keras.datasets import imdb\n",
        "(train_data, train_labels), (test_data, test_labels) = imdb.load_data(\n",
        "    num_words=10000)"
      ],
      "metadata": {
        "id": "inHlYXX-gCJx"
      },
      "execution_count": 2,
      "outputs": []
    },
    {
      "cell_type": "markdown",
      "source": [
        "#### Tasks\n",
        "\n",
        "1. Train a word2vec model of dimension $100$ on the IMD data. (considering words appearing in more than 50 documents) Save the model if you like.\n",
        "\n",
        "2. Compute the embedding for each review (average word2vec)\n",
        "\n",
        "3. Fit a keras classifier to the embedded reviews. (2 hidden layers of size 40 each) Report/Monitor the accuracy on the test data.\n",
        "\n",
        "4. Load the bing sentiment dictionary. Compute two separate embeddings for the negative and positive sentiments.\n",
        "\n",
        "5. Compute the similarity between these two vectors and a few selected reviews. Does it agree with their label?\n"
      ],
      "metadata": {
        "id": "eA-8MKLQjT1U"
      }
    },
    {
      "cell_type": "markdown",
      "source": [
        "-------------------------------------------\n",
        "## Solution"
      ],
      "metadata": {
        "id": "tv2nL5C6s4_8"
      }
    },
    {
      "cell_type": "markdown",
      "source": [
        "1. Train a word2vec model of dimension  100  on the IMD data. (considering words appearing in more than 50 documents) Save the model if you like."
      ],
      "metadata": {
        "id": "yxjOqevxYXDJ"
      }
    },
    {
      "cell_type": "markdown",
      "source": [
        "**Decoding reviews back to text**"
      ],
      "metadata": {
        "id": "64rsTCsVZRXW"
      }
    },
    {
      "cell_type": "code",
      "source": [
        "word_index = imdb.get_word_index()\n",
        "reverse_word_index = dict(\n",
        "    [(value, key) for (key, value) in word_index.items()])\n",
        "decoded_review = \" \".join(\n",
        "    [reverse_word_index.get(i - 3, \"?\") for i in train_data[0]])\n",
        "\n",
        "decoded_review"
      ],
      "metadata": {
        "colab": {
          "base_uri": "https://localhost:8080/",
          "height": 122
        },
        "id": "IivO2H-vYV20",
        "outputId": "f70a21c2-d17e-4a79-c1a5-4bce56f55ab6"
      },
      "execution_count": 3,
      "outputs": [
        {
          "output_type": "execute_result",
          "data": {
            "text/plain": [
              "\"? this film was just brilliant casting location scenery story direction everyone's really suited the part they played and you could just imagine being there robert ? is an amazing actor and now the same being director ? father came from the same scottish island as myself so i loved the fact there was a real connection with this film the witty remarks throughout the film were great it was just brilliant so much that i bought the film as soon as it was released for ? and would recommend it to everyone to watch and the fly fishing was amazing really cried at the end it was so sad and you know what they say if you cry at a film it must have been good and this definitely was also ? to the two little boy's that played the ? of norman and paul they were just brilliant children are often left out of the ? list i think because the stars that play them all grown up are such a big profile for the whole film but these children are amazing and should be praised for what they have done don't you think the whole story was so lovely because it was true and was someone's life after all that was shared with us all\""
            ],
            "application/vnd.google.colaboratory.intrinsic+json": {
              "type": "string"
            }
          },
          "metadata": {},
          "execution_count": 3
        }
      ]
    },
    {
      "cell_type": "code",
      "source": [
        "N=len(train_data)\n",
        "decoded_reviews = [\"\" for x in range(N)]\n",
        "\n",
        "for j in range(N):\n",
        "  decoded_reviews[j] = \" \".join(\n",
        "    [reverse_word_index.get(i - 3, \"?\") for i in train_data[j]])"
      ],
      "metadata": {
        "id": "EIXbbRwaZaQC"
      },
      "execution_count": 4,
      "outputs": []
    },
    {
      "cell_type": "code",
      "source": [
        "decoded_reviews[1]"
      ],
      "metadata": {
        "colab": {
          "base_uri": "https://localhost:8080/",
          "height": 122
        },
        "id": "tBpixu8QZbd3",
        "outputId": "dec9e7c7-d4d9-4a6a-d27b-8611a3f584d6"
      },
      "execution_count": 5,
      "outputs": [
        {
          "output_type": "execute_result",
          "data": {
            "text/plain": [
              "\"? big hair big boobs bad music and a giant safety pin these are the words to best describe this terrible movie i love cheesy horror movies and i've seen hundreds but this had got to be on of the worst ever made the plot is paper thin and ridiculous the acting is an abomination the script is completely laughable the best is the end showdown with the cop and how he worked out who the killer is it's just so damn terribly written the clothes are sickening and funny in equal ? the hair is big lots of boobs ? men wear those cut ? shirts that show off their ? sickening that men actually wore them and the music is just ? trash that plays over and over again in almost every scene there is trashy music boobs and ? taking away bodies and the gym still doesn't close for ? all joking aside this is a truly bad film whose only charm is to look back on the disaster that was the 80's and have a good old laugh at how bad everything was back then\""
            ],
            "application/vnd.google.colaboratory.intrinsic+json": {
              "type": "string"
            }
          },
          "metadata": {},
          "execution_count": 5
        }
      ]
    },
    {
      "cell_type": "code",
      "source": [
        "df = pd.DataFrame(decoded_reviews,columns=['reviews'])\n",
        "df.head()"
      ],
      "metadata": {
        "colab": {
          "base_uri": "https://localhost:8080/",
          "height": 206
        },
        "id": "xzX7CmH6Zq2a",
        "outputId": "1f307f78-a8db-4f65-dcc0-1c9f1fd7e054"
      },
      "execution_count": 6,
      "outputs": [
        {
          "output_type": "execute_result",
          "data": {
            "text/plain": [
              "                                             reviews\n",
              "0  ? this film was just brilliant casting locatio...\n",
              "1  ? big hair big boobs bad music and a giant saf...\n",
              "2  ? this has to be one of the worst films of the...\n",
              "3  ? the ? ? at storytelling the traditional sort...\n",
              "4  ? worst mistake of my life br br i picked this..."
            ],
            "text/html": [
              "\n",
              "  <div id=\"df-5bc360bd-1819-4dc8-8d4b-ab6d9675c720\">\n",
              "    <div class=\"colab-df-container\">\n",
              "      <div>\n",
              "<style scoped>\n",
              "    .dataframe tbody tr th:only-of-type {\n",
              "        vertical-align: middle;\n",
              "    }\n",
              "\n",
              "    .dataframe tbody tr th {\n",
              "        vertical-align: top;\n",
              "    }\n",
              "\n",
              "    .dataframe thead th {\n",
              "        text-align: right;\n",
              "    }\n",
              "</style>\n",
              "<table border=\"1\" class=\"dataframe\">\n",
              "  <thead>\n",
              "    <tr style=\"text-align: right;\">\n",
              "      <th></th>\n",
              "      <th>reviews</th>\n",
              "    </tr>\n",
              "  </thead>\n",
              "  <tbody>\n",
              "    <tr>\n",
              "      <th>0</th>\n",
              "      <td>? this film was just brilliant casting locatio...</td>\n",
              "    </tr>\n",
              "    <tr>\n",
              "      <th>1</th>\n",
              "      <td>? big hair big boobs bad music and a giant saf...</td>\n",
              "    </tr>\n",
              "    <tr>\n",
              "      <th>2</th>\n",
              "      <td>? this has to be one of the worst films of the...</td>\n",
              "    </tr>\n",
              "    <tr>\n",
              "      <th>3</th>\n",
              "      <td>? the ? ? at storytelling the traditional sort...</td>\n",
              "    </tr>\n",
              "    <tr>\n",
              "      <th>4</th>\n",
              "      <td>? worst mistake of my life br br i picked this...</td>\n",
              "    </tr>\n",
              "  </tbody>\n",
              "</table>\n",
              "</div>\n",
              "      <button class=\"colab-df-convert\" onclick=\"convertToInteractive('df-5bc360bd-1819-4dc8-8d4b-ab6d9675c720')\"\n",
              "              title=\"Convert this dataframe to an interactive table.\"\n",
              "              style=\"display:none;\">\n",
              "        \n",
              "  <svg xmlns=\"http://www.w3.org/2000/svg\" height=\"24px\"viewBox=\"0 0 24 24\"\n",
              "       width=\"24px\">\n",
              "    <path d=\"M0 0h24v24H0V0z\" fill=\"none\"/>\n",
              "    <path d=\"M18.56 5.44l.94 2.06.94-2.06 2.06-.94-2.06-.94-.94-2.06-.94 2.06-2.06.94zm-11 1L8.5 8.5l.94-2.06 2.06-.94-2.06-.94L8.5 2.5l-.94 2.06-2.06.94zm10 10l.94 2.06.94-2.06 2.06-.94-2.06-.94-.94-2.06-.94 2.06-2.06.94z\"/><path d=\"M17.41 7.96l-1.37-1.37c-.4-.4-.92-.59-1.43-.59-.52 0-1.04.2-1.43.59L10.3 9.45l-7.72 7.72c-.78.78-.78 2.05 0 2.83L4 21.41c.39.39.9.59 1.41.59.51 0 1.02-.2 1.41-.59l7.78-7.78 2.81-2.81c.8-.78.8-2.07 0-2.86zM5.41 20L4 18.59l7.72-7.72 1.47 1.35L5.41 20z\"/>\n",
              "  </svg>\n",
              "      </button>\n",
              "      \n",
              "  <style>\n",
              "    .colab-df-container {\n",
              "      display:flex;\n",
              "      flex-wrap:wrap;\n",
              "      gap: 12px;\n",
              "    }\n",
              "\n",
              "    .colab-df-convert {\n",
              "      background-color: #E8F0FE;\n",
              "      border: none;\n",
              "      border-radius: 50%;\n",
              "      cursor: pointer;\n",
              "      display: none;\n",
              "      fill: #1967D2;\n",
              "      height: 32px;\n",
              "      padding: 0 0 0 0;\n",
              "      width: 32px;\n",
              "    }\n",
              "\n",
              "    .colab-df-convert:hover {\n",
              "      background-color: #E2EBFA;\n",
              "      box-shadow: 0px 1px 2px rgba(60, 64, 67, 0.3), 0px 1px 3px 1px rgba(60, 64, 67, 0.15);\n",
              "      fill: #174EA6;\n",
              "    }\n",
              "\n",
              "    [theme=dark] .colab-df-convert {\n",
              "      background-color: #3B4455;\n",
              "      fill: #D2E3FC;\n",
              "    }\n",
              "\n",
              "    [theme=dark] .colab-df-convert:hover {\n",
              "      background-color: #434B5C;\n",
              "      box-shadow: 0px 1px 3px 1px rgba(0, 0, 0, 0.15);\n",
              "      filter: drop-shadow(0px 1px 2px rgba(0, 0, 0, 0.3));\n",
              "      fill: #FFFFFF;\n",
              "    }\n",
              "  </style>\n",
              "\n",
              "      <script>\n",
              "        const buttonEl =\n",
              "          document.querySelector('#df-5bc360bd-1819-4dc8-8d4b-ab6d9675c720 button.colab-df-convert');\n",
              "        buttonEl.style.display =\n",
              "          google.colab.kernel.accessAllowed ? 'block' : 'none';\n",
              "\n",
              "        async function convertToInteractive(key) {\n",
              "          const element = document.querySelector('#df-5bc360bd-1819-4dc8-8d4b-ab6d9675c720');\n",
              "          const dataTable =\n",
              "            await google.colab.kernel.invokeFunction('convertToInteractive',\n",
              "                                                     [key], {});\n",
              "          if (!dataTable) return;\n",
              "\n",
              "          const docLinkHtml = 'Like what you see? Visit the ' +\n",
              "            '<a target=\"_blank\" href=https://colab.research.google.com/notebooks/data_table.ipynb>data table notebook</a>'\n",
              "            + ' to learn more about interactive tables.';\n",
              "          element.innerHTML = '';\n",
              "          dataTable['output_type'] = 'display_data';\n",
              "          await google.colab.output.renderOutput(dataTable, element);\n",
              "          const docLink = document.createElement('div');\n",
              "          docLink.innerHTML = docLinkHtml;\n",
              "          element.appendChild(docLink);\n",
              "        }\n",
              "      </script>\n",
              "    </div>\n",
              "  </div>\n",
              "  "
            ]
          },
          "metadata": {},
          "execution_count": 6
        }
      ]
    },
    {
      "cell_type": "markdown",
      "source": [
        "**Train the model**"
      ],
      "metadata": {
        "id": "p-SDuQnibxdS"
      }
    },
    {
      "cell_type": "code",
      "source": [
        "corpus_gen = [text.split() for text in df['reviews']]"
      ],
      "metadata": {
        "id": "XNSvGmf0chHK"
      },
      "execution_count": 7,
      "outputs": []
    },
    {
      "cell_type": "code",
      "source": [
        "#Initiate the model\n",
        "model = Word2Vec(corpus_gen,size = 100, min_count=50)"
      ],
      "metadata": {
        "id": "x_M_0Uqmfbd6"
      },
      "execution_count": 8,
      "outputs": []
    },
    {
      "cell_type": "markdown",
      "source": [
        "2. Compute the embedding for each review (average word2vec)"
      ],
      "metadata": {
        "id": "0_WdU_Lqfmx9"
      }
    },
    {
      "cell_type": "code",
      "source": [
        "# Document representation for the text\n",
        "corpus_w2v=[[model.wv[word] for word in doc if word in model.wv.vocab.keys()] for doc in corpus_gen]\n",
        "positive=[i for i in range(len(corpus_gen)) if len(corpus_w2v[i])>0]\n",
        "\n",
        "corpus_w2v2=[corpus_w2v[i] for i in positive]\n",
        "data_lemma2=[df.reviews[i] for i in positive]\n",
        "\n",
        "# Document average representation\n",
        "corpus_w2v_avg_clean=[sum(words)/len(words) for words in corpus_w2v2]\n",
        "\n",
        "# This corpus can be used later in clustering and classification tasks\n",
        "print(corpus_w2v_avg_clean[10])"
      ],
      "metadata": {
        "colab": {
          "base_uri": "https://localhost:8080/"
        },
        "id": "RLn8u1eVtMxu",
        "outputId": "e5f46ded-33e3-43af-d6a2-36624c81e096"
      },
      "execution_count": 9,
      "outputs": [
        {
          "output_type": "stream",
          "name": "stdout",
          "text": [
            "[ 0.02423411 -0.11245093  0.22791967 -0.4706822   0.17875032  0.21584761\n",
            " -0.0495336   0.3413248  -0.35436884  0.28454003  0.27290592 -0.10821602\n",
            "  0.20378233 -0.14332701 -0.17410034  0.11514565  0.38374192  0.6665108\n",
            "  0.35043356 -0.33941835 -0.03969694 -0.01235612 -0.00151664 -0.10312668\n",
            " -0.23266007 -0.05249323  0.03432266  0.07659468 -0.17552005 -0.05573035\n",
            "  0.10275541 -0.02855658  0.2009468  -0.01905129  0.1544924   0.12605096\n",
            "  0.09989835 -0.02712992 -0.6405541   0.08665223 -0.00737284  0.27914706\n",
            " -0.29040095 -0.13807164 -0.17691725 -0.03372861  0.55653423 -0.5364296\n",
            "  0.03227334  0.25121492  0.18327576 -0.27305132 -0.19405468  0.1605082\n",
            "  0.43981045 -0.41442963 -0.2247313  -0.05099796 -0.29104394  0.29418406\n",
            " -0.13884681 -0.16014528 -0.42158324 -0.01433424 -0.04646512  0.08901256\n",
            " -0.10652723  0.00958112 -0.12889092 -0.15597056 -0.01298901 -0.38772276\n",
            "  0.4206244   0.06349275 -0.36189613  0.15869951  0.13741569 -0.01088046\n",
            " -0.04822663 -0.21540841  0.34936547 -0.36663058  0.21947578  0.13177258\n",
            "  0.28719425 -0.13190039 -0.03860832  0.17638049 -0.25223917  0.04149718\n",
            " -0.36461803  0.15787037 -0.14872566 -0.27479374 -0.37933215  0.33379412\n",
            " -0.2382868   0.254878   -0.04133642 -0.17845169]\n"
          ]
        }
      ]
    },
    {
      "cell_type": "markdown",
      "source": [
        "3. Fit a keras classifier to the embedded reviews. (2 hidden layers of size 40 each) Report/Monitor the accuracy on the test data."
      ],
      "metadata": {
        "id": "IsAImgrluwWO"
      }
    },
    {
      "cell_type": "code",
      "source": [
        "# Model configuration\n",
        "loss_function = 'binary_crossentropy'\n",
        "optimizer = 'adam'\n",
        "additional_metrics = ['accuracy']\n",
        "number_of_epochs = 100\n",
        "verbosity_mode = True\n",
        "validation_split = 0.20\n",
        "input_dim = 100"
      ],
      "metadata": {
        "id": "l0I6CPZbyDzt"
      },
      "execution_count": 10,
      "outputs": []
    },
    {
      "cell_type": "code",
      "source": [
        "model = Sequential()\n",
        "model.add(Dense(40, input_dim = 100, activation='relu'))\n",
        "model.add(Dense(40, activation='relu'))\n",
        "model.add(Dense(1, activation='sigmoid'))"
      ],
      "metadata": {
        "id": "9VSXXFMfuzG0"
      },
      "execution_count": 22,
      "outputs": []
    },
    {
      "cell_type": "code",
      "source": [
        "# Compile the model\n",
        "model.compile(optimizer=optimizer, loss=loss_function, metrics=additional_metrics)\n"
      ],
      "metadata": {
        "id": "f1NlF7RNyAU8"
      },
      "execution_count": 23,
      "outputs": []
    },
    {
      "cell_type": "code",
      "source": [
        "# Train the model\n",
        "history = model.fit(np.array(corpus_w2v_avg_clean), train_labels, epochs=number_of_epochs, verbose=verbosity_mode, validation_split=validation_split)"
      ],
      "metadata": {
        "colab": {
          "base_uri": "https://localhost:8080/"
        },
        "id": "s0enQOKMyVfg",
        "outputId": "cc0dc949-cf11-468c-d06b-c48fb18d83e0"
      },
      "execution_count": 24,
      "outputs": [
        {
          "output_type": "stream",
          "name": "stdout",
          "text": [
            "Epoch 1/100\n",
            "625/625 [==============================] - 4s 5ms/step - loss: 0.4407 - accuracy: 0.7998 - val_loss: 0.3819 - val_accuracy: 0.8354\n",
            "Epoch 2/100\n",
            "625/625 [==============================] - 2s 4ms/step - loss: 0.3817 - accuracy: 0.8310 - val_loss: 0.3677 - val_accuracy: 0.8452\n",
            "Epoch 3/100\n",
            "625/625 [==============================] - 2s 4ms/step - loss: 0.3727 - accuracy: 0.8373 - val_loss: 0.3736 - val_accuracy: 0.8370\n",
            "Epoch 4/100\n",
            "625/625 [==============================] - 3s 4ms/step - loss: 0.3682 - accuracy: 0.8372 - val_loss: 0.3658 - val_accuracy: 0.8430\n",
            "Epoch 5/100\n",
            "625/625 [==============================] - 2s 4ms/step - loss: 0.3648 - accuracy: 0.8399 - val_loss: 0.3647 - val_accuracy: 0.8450\n",
            "Epoch 6/100\n",
            "625/625 [==============================] - 4s 6ms/step - loss: 0.3617 - accuracy: 0.8412 - val_loss: 0.3677 - val_accuracy: 0.8432\n",
            "Epoch 7/100\n",
            "625/625 [==============================] - 2s 4ms/step - loss: 0.3582 - accuracy: 0.8423 - val_loss: 0.3617 - val_accuracy: 0.8440\n",
            "Epoch 8/100\n",
            "625/625 [==============================] - 3s 4ms/step - loss: 0.3554 - accuracy: 0.8460 - val_loss: 0.3609 - val_accuracy: 0.8462\n",
            "Epoch 9/100\n",
            "625/625 [==============================] - 3s 4ms/step - loss: 0.3536 - accuracy: 0.8441 - val_loss: 0.3653 - val_accuracy: 0.8454\n",
            "Epoch 10/100\n",
            "625/625 [==============================] - 3s 4ms/step - loss: 0.3512 - accuracy: 0.8472 - val_loss: 0.3663 - val_accuracy: 0.8442\n",
            "Epoch 11/100\n",
            "625/625 [==============================] - 3s 4ms/step - loss: 0.3488 - accuracy: 0.8481 - val_loss: 0.3707 - val_accuracy: 0.8380\n",
            "Epoch 12/100\n",
            "625/625 [==============================] - 2s 4ms/step - loss: 0.3438 - accuracy: 0.8500 - val_loss: 0.3634 - val_accuracy: 0.8466\n",
            "Epoch 13/100\n",
            "625/625 [==============================] - 2s 2ms/step - loss: 0.3439 - accuracy: 0.8486 - val_loss: 0.3651 - val_accuracy: 0.8428\n",
            "Epoch 14/100\n",
            "625/625 [==============================] - 1s 2ms/step - loss: 0.3400 - accuracy: 0.8541 - val_loss: 0.3747 - val_accuracy: 0.8400\n",
            "Epoch 15/100\n",
            "625/625 [==============================] - 2s 4ms/step - loss: 0.3364 - accuracy: 0.8554 - val_loss: 0.3675 - val_accuracy: 0.8428\n",
            "Epoch 16/100\n",
            "625/625 [==============================] - 1s 2ms/step - loss: 0.3357 - accuracy: 0.8541 - val_loss: 0.3757 - val_accuracy: 0.8348\n",
            "Epoch 17/100\n",
            "625/625 [==============================] - 2s 2ms/step - loss: 0.3323 - accuracy: 0.8569 - val_loss: 0.3680 - val_accuracy: 0.8442\n",
            "Epoch 18/100\n",
            "625/625 [==============================] - 2s 3ms/step - loss: 0.3297 - accuracy: 0.8553 - val_loss: 0.3786 - val_accuracy: 0.8350\n",
            "Epoch 19/100\n",
            "625/625 [==============================] - 1s 2ms/step - loss: 0.3250 - accuracy: 0.8598 - val_loss: 0.3933 - val_accuracy: 0.8278\n",
            "Epoch 20/100\n",
            "625/625 [==============================] - 1s 2ms/step - loss: 0.3264 - accuracy: 0.8579 - val_loss: 0.3875 - val_accuracy: 0.8298\n",
            "Epoch 21/100\n",
            "625/625 [==============================] - 2s 3ms/step - loss: 0.3234 - accuracy: 0.8593 - val_loss: 0.3819 - val_accuracy: 0.8346\n",
            "Epoch 22/100\n",
            "625/625 [==============================] - 2s 3ms/step - loss: 0.3238 - accuracy: 0.8596 - val_loss: 0.3697 - val_accuracy: 0.8414\n",
            "Epoch 23/100\n",
            "625/625 [==============================] - 1s 2ms/step - loss: 0.3195 - accuracy: 0.8611 - val_loss: 0.3705 - val_accuracy: 0.8442\n",
            "Epoch 24/100\n",
            "625/625 [==============================] - 2s 2ms/step - loss: 0.3161 - accuracy: 0.8645 - val_loss: 0.3714 - val_accuracy: 0.8426\n",
            "Epoch 25/100\n",
            "625/625 [==============================] - 2s 2ms/step - loss: 0.3142 - accuracy: 0.8647 - val_loss: 0.3718 - val_accuracy: 0.8410\n",
            "Epoch 26/100\n",
            "625/625 [==============================] - 1s 2ms/step - loss: 0.3136 - accuracy: 0.8662 - val_loss: 0.3818 - val_accuracy: 0.8354\n",
            "Epoch 27/100\n",
            "625/625 [==============================] - 2s 3ms/step - loss: 0.3116 - accuracy: 0.8642 - val_loss: 0.3823 - val_accuracy: 0.8366\n",
            "Epoch 28/100\n",
            "625/625 [==============================] - 2s 2ms/step - loss: 0.3087 - accuracy: 0.8666 - val_loss: 0.3913 - val_accuracy: 0.8304\n",
            "Epoch 29/100\n",
            "625/625 [==============================] - 2s 3ms/step - loss: 0.3081 - accuracy: 0.8667 - val_loss: 0.3779 - val_accuracy: 0.8418\n",
            "Epoch 30/100\n",
            "625/625 [==============================] - 1s 2ms/step - loss: 0.3063 - accuracy: 0.8691 - val_loss: 0.3982 - val_accuracy: 0.8306\n",
            "Epoch 31/100\n",
            "625/625 [==============================] - 2s 3ms/step - loss: 0.3053 - accuracy: 0.8676 - val_loss: 0.3832 - val_accuracy: 0.8362\n",
            "Epoch 32/100\n",
            "625/625 [==============================] - 2s 3ms/step - loss: 0.3037 - accuracy: 0.8687 - val_loss: 0.3929 - val_accuracy: 0.8348\n",
            "Epoch 33/100\n",
            "625/625 [==============================] - 2s 2ms/step - loss: 0.3005 - accuracy: 0.8705 - val_loss: 0.3957 - val_accuracy: 0.8310\n",
            "Epoch 34/100\n",
            "625/625 [==============================] - 2s 3ms/step - loss: 0.2986 - accuracy: 0.8705 - val_loss: 0.3977 - val_accuracy: 0.8306\n",
            "Epoch 35/100\n",
            "625/625 [==============================] - 2s 3ms/step - loss: 0.2956 - accuracy: 0.8715 - val_loss: 0.3863 - val_accuracy: 0.8398\n",
            "Epoch 36/100\n",
            "625/625 [==============================] - 2s 2ms/step - loss: 0.2936 - accuracy: 0.8731 - val_loss: 0.3889 - val_accuracy: 0.8378\n",
            "Epoch 37/100\n",
            "625/625 [==============================] - 1s 2ms/step - loss: 0.2922 - accuracy: 0.8740 - val_loss: 0.3897 - val_accuracy: 0.8352\n",
            "Epoch 38/100\n",
            "625/625 [==============================] - 2s 2ms/step - loss: 0.2901 - accuracy: 0.8738 - val_loss: 0.3962 - val_accuracy: 0.8376\n",
            "Epoch 39/100\n",
            "625/625 [==============================] - 2s 2ms/step - loss: 0.2906 - accuracy: 0.8748 - val_loss: 0.3881 - val_accuracy: 0.8394\n",
            "Epoch 40/100\n",
            "625/625 [==============================] - 2s 3ms/step - loss: 0.2880 - accuracy: 0.8762 - val_loss: 0.3993 - val_accuracy: 0.8292\n",
            "Epoch 41/100\n",
            "625/625 [==============================] - 1s 2ms/step - loss: 0.2884 - accuracy: 0.8766 - val_loss: 0.3923 - val_accuracy: 0.8356\n",
            "Epoch 42/100\n",
            "625/625 [==============================] - 1s 2ms/step - loss: 0.2843 - accuracy: 0.8780 - val_loss: 0.3976 - val_accuracy: 0.8344\n",
            "Epoch 43/100\n",
            "625/625 [==============================] - 2s 3ms/step - loss: 0.2828 - accuracy: 0.8783 - val_loss: 0.3989 - val_accuracy: 0.8350\n",
            "Epoch 44/100\n",
            "625/625 [==============================] - 2s 2ms/step - loss: 0.2796 - accuracy: 0.8798 - val_loss: 0.4015 - val_accuracy: 0.8284\n",
            "Epoch 45/100\n",
            "625/625 [==============================] - 1s 2ms/step - loss: 0.2790 - accuracy: 0.8817 - val_loss: 0.4029 - val_accuracy: 0.8334\n",
            "Epoch 46/100\n",
            "625/625 [==============================] - 2s 3ms/step - loss: 0.2775 - accuracy: 0.8828 - val_loss: 0.4231 - val_accuracy: 0.8262\n",
            "Epoch 47/100\n",
            "625/625 [==============================] - 1s 2ms/step - loss: 0.2770 - accuracy: 0.8832 - val_loss: 0.4191 - val_accuracy: 0.8346\n",
            "Epoch 48/100\n",
            "625/625 [==============================] - 2s 3ms/step - loss: 0.2766 - accuracy: 0.8824 - val_loss: 0.4010 - val_accuracy: 0.8318\n",
            "Epoch 49/100\n",
            "625/625 [==============================] - 1s 2ms/step - loss: 0.2727 - accuracy: 0.8837 - val_loss: 0.4050 - val_accuracy: 0.8366\n",
            "Epoch 50/100\n",
            "625/625 [==============================] - 2s 2ms/step - loss: 0.2683 - accuracy: 0.8873 - val_loss: 0.4239 - val_accuracy: 0.8298\n",
            "Epoch 51/100\n",
            "625/625 [==============================] - 1s 2ms/step - loss: 0.2691 - accuracy: 0.8851 - val_loss: 0.4241 - val_accuracy: 0.8256\n",
            "Epoch 52/100\n",
            "625/625 [==============================] - 1s 2ms/step - loss: 0.2665 - accuracy: 0.8868 - val_loss: 0.4133 - val_accuracy: 0.8294\n",
            "Epoch 53/100\n",
            "625/625 [==============================] - 2s 3ms/step - loss: 0.2672 - accuracy: 0.8867 - val_loss: 0.4181 - val_accuracy: 0.8344\n",
            "Epoch 54/100\n",
            "625/625 [==============================] - 2s 3ms/step - loss: 0.2639 - accuracy: 0.8882 - val_loss: 0.4342 - val_accuracy: 0.8260\n",
            "Epoch 55/100\n",
            "625/625 [==============================] - 1s 2ms/step - loss: 0.2612 - accuracy: 0.8911 - val_loss: 0.4321 - val_accuracy: 0.8302\n",
            "Epoch 56/100\n",
            "625/625 [==============================] - 2s 2ms/step - loss: 0.2617 - accuracy: 0.8888 - val_loss: 0.4322 - val_accuracy: 0.8276\n",
            "Epoch 57/100\n",
            "625/625 [==============================] - 1s 2ms/step - loss: 0.2593 - accuracy: 0.8905 - val_loss: 0.4248 - val_accuracy: 0.8316\n",
            "Epoch 58/100\n",
            "625/625 [==============================] - 2s 3ms/step - loss: 0.2561 - accuracy: 0.8920 - val_loss: 0.4320 - val_accuracy: 0.8268\n",
            "Epoch 59/100\n",
            "625/625 [==============================] - 2s 3ms/step - loss: 0.2546 - accuracy: 0.8924 - val_loss: 0.4349 - val_accuracy: 0.8210\n",
            "Epoch 60/100\n",
            "625/625 [==============================] - 2s 2ms/step - loss: 0.2525 - accuracy: 0.8936 - val_loss: 0.4580 - val_accuracy: 0.8126\n",
            "Epoch 61/100\n",
            "625/625 [==============================] - 2s 3ms/step - loss: 0.2537 - accuracy: 0.8936 - val_loss: 0.4364 - val_accuracy: 0.8228\n",
            "Epoch 62/100\n",
            "625/625 [==============================] - 2s 2ms/step - loss: 0.2522 - accuracy: 0.8931 - val_loss: 0.4506 - val_accuracy: 0.8286\n",
            "Epoch 63/100\n",
            "625/625 [==============================] - 1s 2ms/step - loss: 0.2504 - accuracy: 0.8949 - val_loss: 0.4454 - val_accuracy: 0.8240\n",
            "Epoch 64/100\n",
            "625/625 [==============================] - 1s 2ms/step - loss: 0.2479 - accuracy: 0.8978 - val_loss: 0.4426 - val_accuracy: 0.8266\n",
            "Epoch 65/100\n",
            "625/625 [==============================] - 2s 2ms/step - loss: 0.2460 - accuracy: 0.8959 - val_loss: 0.4494 - val_accuracy: 0.8266\n",
            "Epoch 66/100\n",
            "625/625 [==============================] - 2s 2ms/step - loss: 0.2449 - accuracy: 0.8982 - val_loss: 0.4623 - val_accuracy: 0.8194\n",
            "Epoch 67/100\n",
            "625/625 [==============================] - 2s 2ms/step - loss: 0.2430 - accuracy: 0.8989 - val_loss: 0.4543 - val_accuracy: 0.8250\n",
            "Epoch 68/100\n",
            "625/625 [==============================] - 2s 2ms/step - loss: 0.2408 - accuracy: 0.9007 - val_loss: 0.4451 - val_accuracy: 0.8250\n",
            "Epoch 69/100\n",
            "625/625 [==============================] - 2s 3ms/step - loss: 0.2404 - accuracy: 0.9007 - val_loss: 0.4774 - val_accuracy: 0.8158\n",
            "Epoch 70/100\n",
            "625/625 [==============================] - 1s 2ms/step - loss: 0.2398 - accuracy: 0.8999 - val_loss: 0.4474 - val_accuracy: 0.8224\n",
            "Epoch 71/100\n",
            "625/625 [==============================] - 2s 3ms/step - loss: 0.2382 - accuracy: 0.9006 - val_loss: 0.4556 - val_accuracy: 0.8288\n",
            "Epoch 72/100\n",
            "625/625 [==============================] - 2s 4ms/step - loss: 0.2361 - accuracy: 0.9013 - val_loss: 0.4723 - val_accuracy: 0.8282\n",
            "Epoch 73/100\n",
            "625/625 [==============================] - 1s 2ms/step - loss: 0.2356 - accuracy: 0.9015 - val_loss: 0.4663 - val_accuracy: 0.8214\n",
            "Epoch 74/100\n",
            "625/625 [==============================] - 2s 2ms/step - loss: 0.2338 - accuracy: 0.9040 - val_loss: 0.4598 - val_accuracy: 0.8248\n",
            "Epoch 75/100\n",
            "625/625 [==============================] - 2s 3ms/step - loss: 0.2338 - accuracy: 0.9032 - val_loss: 0.4673 - val_accuracy: 0.8182\n",
            "Epoch 76/100\n",
            "625/625 [==============================] - 1s 2ms/step - loss: 0.2290 - accuracy: 0.9067 - val_loss: 0.4790 - val_accuracy: 0.8134\n",
            "Epoch 77/100\n",
            "625/625 [==============================] - 2s 3ms/step - loss: 0.2298 - accuracy: 0.9047 - val_loss: 0.4848 - val_accuracy: 0.8212\n",
            "Epoch 78/100\n",
            "625/625 [==============================] - 2s 3ms/step - loss: 0.2313 - accuracy: 0.9051 - val_loss: 0.4715 - val_accuracy: 0.8212\n",
            "Epoch 79/100\n",
            "625/625 [==============================] - 2s 3ms/step - loss: 0.2274 - accuracy: 0.9062 - val_loss: 0.4847 - val_accuracy: 0.8180\n",
            "Epoch 80/100\n",
            "625/625 [==============================] - 1s 2ms/step - loss: 0.2259 - accuracy: 0.9081 - val_loss: 0.4839 - val_accuracy: 0.8154\n",
            "Epoch 81/100\n",
            "625/625 [==============================] - 2s 3ms/step - loss: 0.2244 - accuracy: 0.9091 - val_loss: 0.4719 - val_accuracy: 0.8218\n",
            "Epoch 82/100\n",
            "625/625 [==============================] - 2s 3ms/step - loss: 0.2236 - accuracy: 0.9103 - val_loss: 0.4871 - val_accuracy: 0.8194\n",
            "Epoch 83/100\n",
            "625/625 [==============================] - 1s 2ms/step - loss: 0.2217 - accuracy: 0.9072 - val_loss: 0.4866 - val_accuracy: 0.8170\n",
            "Epoch 84/100\n",
            "625/625 [==============================] - 1s 2ms/step - loss: 0.2202 - accuracy: 0.9090 - val_loss: 0.5015 - val_accuracy: 0.8172\n",
            "Epoch 85/100\n",
            "625/625 [==============================] - 1s 2ms/step - loss: 0.2208 - accuracy: 0.9089 - val_loss: 0.5011 - val_accuracy: 0.8126\n",
            "Epoch 86/100\n",
            "625/625 [==============================] - 1s 2ms/step - loss: 0.2171 - accuracy: 0.9125 - val_loss: 0.5038 - val_accuracy: 0.8226\n",
            "Epoch 87/100\n",
            "625/625 [==============================] - 2s 3ms/step - loss: 0.2168 - accuracy: 0.9104 - val_loss: 0.5053 - val_accuracy: 0.8102\n",
            "Epoch 88/100\n",
            "625/625 [==============================] - 1s 2ms/step - loss: 0.2176 - accuracy: 0.9092 - val_loss: 0.5060 - val_accuracy: 0.8172\n",
            "Epoch 89/100\n",
            "625/625 [==============================] - 2s 3ms/step - loss: 0.2154 - accuracy: 0.9137 - val_loss: 0.5135 - val_accuracy: 0.8172\n",
            "Epoch 90/100\n",
            "625/625 [==============================] - 2s 3ms/step - loss: 0.2150 - accuracy: 0.9115 - val_loss: 0.5216 - val_accuracy: 0.8120\n",
            "Epoch 91/100\n",
            "625/625 [==============================] - 2s 3ms/step - loss: 0.2118 - accuracy: 0.9130 - val_loss: 0.5136 - val_accuracy: 0.8180\n",
            "Epoch 92/100\n",
            "625/625 [==============================] - 2s 3ms/step - loss: 0.2110 - accuracy: 0.9136 - val_loss: 0.5183 - val_accuracy: 0.8226\n",
            "Epoch 93/100\n",
            "625/625 [==============================] - 2s 3ms/step - loss: 0.2126 - accuracy: 0.9117 - val_loss: 0.5286 - val_accuracy: 0.8140\n",
            "Epoch 94/100\n",
            "625/625 [==============================] - 2s 2ms/step - loss: 0.2079 - accuracy: 0.9144 - val_loss: 0.5266 - val_accuracy: 0.8118\n",
            "Epoch 95/100\n",
            "625/625 [==============================] - 2s 2ms/step - loss: 0.2071 - accuracy: 0.9169 - val_loss: 0.5086 - val_accuracy: 0.8166\n",
            "Epoch 96/100\n",
            "625/625 [==============================] - 1s 2ms/step - loss: 0.2083 - accuracy: 0.9163 - val_loss: 0.5178 - val_accuracy: 0.8074\n",
            "Epoch 97/100\n",
            "625/625 [==============================] - 2s 3ms/step - loss: 0.2066 - accuracy: 0.9155 - val_loss: 0.5399 - val_accuracy: 0.8100\n",
            "Epoch 98/100\n",
            "625/625 [==============================] - 1s 2ms/step - loss: 0.2036 - accuracy: 0.9164 - val_loss: 0.5393 - val_accuracy: 0.8122\n",
            "Epoch 99/100\n",
            "625/625 [==============================] - 2s 3ms/step - loss: 0.2038 - accuracy: 0.9169 - val_loss: 0.5254 - val_accuracy: 0.8132\n",
            "Epoch 100/100\n",
            "625/625 [==============================] - 2s 2ms/step - loss: 0.2024 - accuracy: 0.9182 - val_loss: 0.5712 - val_accuracy: 0.8126\n"
          ]
        }
      ]
    },
    {
      "cell_type": "code",
      "source": [
        "#Report accuracy on test data\n",
        "#Decode test data\n",
        "word_index = imdb.get_word_index()\n",
        "reverse_word_index = dict(\n",
        "    [(value, key) for (key, value) in word_index.items()])\n",
        "decoded_review = \" \".join(\n",
        "    [reverse_word_index.get(i - 3, \"?\") for i in test_data[0]])\n",
        "\n",
        "N=len(train_data)\n",
        "decoded_reviews = [\"\" for x in range(N)]\n",
        "\n",
        "for j in range(N):\n",
        "  decoded_reviews[j] = \" \".join(\n",
        "    [reverse_word_index.get(i - 3, \"?\") for i in test_data[j]])\n",
        "  \n",
        "\n",
        "decoded_reviews[1]"
      ],
      "metadata": {
        "colab": {
          "base_uri": "https://localhost:8080/",
          "height": 122
        },
        "id": "OcGubkI20Sl8",
        "outputId": "d89e3441-6cfd-49aa-fb21-28bffd44f042"
      },
      "execution_count": 25,
      "outputs": [
        {
          "output_type": "execute_result",
          "data": {
            "text/plain": [
              "\"? this film requires a lot of patience because it focuses on mood and character development the plot is very simple and many of the scenes take place on the same set in frances ? the sandy dennis character apartment but the film builds to a disturbing climax br br the characters create an atmosphere ? with sexual tension and psychological ? it's very interesting that robert altman directed this considering the style and structure of his other films still the trademark altman audio style is evident here and there i think what really makes this film work is the brilliant performance by sandy dennis it's definitely one of her darker characters but she plays it so perfectly and convincingly that it's scary michael burns does a good job as the mute young man regular altman player michael murphy has a small part the ? moody set fits the content of the story very well in short this movie is a powerful study of loneliness sexual ? and desperation be patient ? up the atmosphere and pay attention to the wonderfully written script br br i praise robert altman this is one of his many films that deals with unconventional fascinating subject matter this film is disturbing but it's sincere and it's sure to ? a strong emotional response from the viewer if you want to see an unusual film some might even say bizarre this is worth the time br br unfortunately it's very difficult to find in video stores you may have to buy it off the internet\""
            ],
            "application/vnd.google.colaboratory.intrinsic+json": {
              "type": "string"
            }
          },
          "metadata": {},
          "execution_count": 25
        }
      ]
    },
    {
      "cell_type": "markdown",
      "source": [
        "Repeat the same process for test data"
      ],
      "metadata": {
        "id": "M6MW2Hsj02xX"
      }
    },
    {
      "cell_type": "code",
      "source": [
        "df = pd.DataFrame(decoded_reviews,columns=['reviews'])\n",
        "corpus_gen_test = [text.split() for text in df['reviews']]\n",
        "model_w2c_test = Word2Vec(corpus_gen_test,size = 100, min_count=50)\n",
        "# Document representation for the text\n",
        "corpus_w2v_test=[[model_w2c_test.wv[word] for word in doc if word in model_w2c_test.wv.vocab.keys()] for doc in corpus_gen_test]\n",
        "positive=[i for i in range(len(corpus_gen_test)) if len(corpus_w2v_test[i])>0]\n",
        "\n",
        "corpus_w2v2_test=[corpus_w2v_test[i] for i in positive]\n",
        "data_lemma2_test=[df.reviews[i] for i in positive]\n",
        "\n",
        "# Document average representation\n",
        "corpus_w2v_avg_clean_test=[sum(words)/len(words) for words in corpus_w2v2_test]\n",
        "\n",
        "# This corpus can be used later in clustering and classification tasks\n",
        "print(corpus_w2v_avg_clean_test[10])"
      ],
      "metadata": {
        "colab": {
          "base_uri": "https://localhost:8080/"
        },
        "id": "w8VW6tMh02AC",
        "outputId": "a55e87a8-2cd9-474d-be44-5996bc2ade88"
      },
      "execution_count": 26,
      "outputs": [
        {
          "output_type": "stream",
          "name": "stdout",
          "text": [
            "[ 0.11538367  0.03703439  0.0949441  -0.11143202 -0.31485647 -0.04910839\n",
            "  0.07831604 -0.12189372 -0.24378467  0.08013177  0.18014479  0.10532364\n",
            "  0.29045647 -0.24364193 -0.19480188 -0.0371918  -0.04932535  0.31299406\n",
            "  0.17079315 -0.25523746 -0.01057457  0.00395918  0.05166089 -0.215247\n",
            " -0.1992242  -0.06813218 -0.19763714 -0.12124732 -0.23432153  0.22699058\n",
            "  0.15581916  0.07860462  0.01648006  0.06293854  0.05037933  0.28704563\n",
            " -0.11516106 -0.06604515 -0.26367518  0.02868374 -0.22401592  0.00154191\n",
            " -0.17084321  0.10885872  0.01239162 -0.1056723   0.17887647 -0.5336083\n",
            " -0.07834015  0.02654785  0.00215737  0.14076021 -0.08505382 -0.04551734\n",
            "  0.17818542  0.08706972 -0.12488615 -0.32054946 -0.10050567  0.23237029\n",
            "  0.0650806  -0.05050464 -0.31871873 -0.07332318  0.21305935  0.21917088\n",
            " -0.15590137 -0.2399609   0.2170796   0.1920056  -0.06368373 -0.29463774\n",
            "  0.23503257 -0.00819854 -0.03351591  0.0567202  -0.06392565 -0.04348605\n",
            " -0.09562336  0.03765477  0.3638614  -0.34061563  0.189826    0.15284196\n",
            " -0.09371211  0.11700134  0.06569082 -0.05287569 -0.24202546  0.08856204\n",
            " -0.4467539   0.06990846  0.04282196 -0.03221614 -0.24861474 -0.02546251\n",
            " -0.08310167 -0.00233208  0.03162907 -0.20187518]\n"
          ]
        }
      ]
    },
    {
      "cell_type": "code",
      "source": [
        "#evaluate results\n",
        "test_results = model.evaluate(np.array(corpus_w2v_avg_clean_test), test_labels, verbose=False)\n",
        "#print(f'Test results - Loss: {test_results[0]} - Accuracy: {100*test_results[1]}%')"
      ],
      "metadata": {
        "id": "7zS9fG-31n2k"
      },
      "execution_count": 27,
      "outputs": []
    },
    {
      "cell_type": "code",
      "source": [
        "test_results"
      ],
      "metadata": {
        "colab": {
          "base_uri": "https://localhost:8080/"
        },
        "id": "g8Ty8QkV2nWl",
        "outputId": "c9f1e79f-7162-4a5d-a179-b7d2963625f2"
      },
      "execution_count": 28,
      "outputs": [
        {
          "output_type": "execute_result",
          "data": {
            "text/plain": [
              "[2.5380349159240723, 0.6529200077056885]"
            ]
          },
          "metadata": {},
          "execution_count": 28
        }
      ]
    },
    {
      "cell_type": "code",
      "source": [
        "import matplotlib.pyplot as plt\n",
        "# Visualize history\n",
        "# Plot history: Validation loss\n",
        "plt.plot(history.history['val_loss'])\n",
        "plt.title('Validation loss history')\n",
        "plt.ylabel('Loss value')\n",
        "plt.xlabel('No. epoch')\n",
        "plt.show()\n",
        "\n",
        "# Plot history: Accuracy\n",
        "plt.plot(history.history['val_accuracy'])\n",
        "plt.title('Validation accuracy history')\n",
        "plt.ylabel('Accuracy value (%)')\n",
        "plt.xlabel('No. epoch')\n",
        "plt.show()"
      ],
      "metadata": {
        "colab": {
          "base_uri": "https://localhost:8080/",
          "height": 573
        },
        "id": "uDtz2U-x3t5P",
        "outputId": "b3e2303a-3e6d-4716-d0ea-06b159a839e9"
      },
      "execution_count": 29,
      "outputs": [
        {
          "output_type": "display_data",
          "data": {
            "text/plain": [
              "<Figure size 432x288 with 1 Axes>"
            ],
            "image/png": "[encoded data removed]"
          },
          "metadata": {
            "needs_background": "light"
          }
        },
        {
          "output_type": "display_data",
          "data": {
            "text/plain": [
              "<Figure size 432x288 with 1 Axes>"
            ],
            "image/png": "[encoded data removed]"
          },
          "metadata": {
            "needs_background": "light"
          }
        }
      ]
    }
  ],
  "metadata": {
    "colab": {
      "name": "NL_Class5_HW.ipynb",
      "provenance": [],
      "collapsed_sections": [],
      "include_colab_link": true
    },
    "kernelspec": {
      "display_name": "Python 3",
      "language": "python",
      "name": "python3"
    },
    "language_info": {
      "codemirror_mode": {
        "name": "ipython",
        "version": 3
      },
      "file_extension": ".py",
      "mimetype": "text/x-python",
      "name": "python",
      "nbconvert_exporter": "python",
      "pygments_lexer": "ipython3",
      "version": "3.8.3"
    }
  },
  "nbformat": 4,
  "nbformat_minor": 0
}