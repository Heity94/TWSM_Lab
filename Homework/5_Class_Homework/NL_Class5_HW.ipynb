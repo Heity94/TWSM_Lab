{
  "cells": [
    {
      "cell_type": "markdown",
      "metadata": {
        "id": "view-in-github",
        "colab_type": "text"
      },
      "source": [
        "<a href=\"https://colab.research.google.com/github/Heity94/TWSM_Lab/blob/main/Homework/5_Class_Homework/NL_Class5_HW.ipynb\" target=\"_parent\"><img src=\"https://colab.research.google.com/assets/colab-badge.svg\" alt=\"Open In Colab\"/></a>"
      ]
    },
    {
      "cell_type": "markdown",
      "source": [
        "### Libraries"
      ],
      "metadata": {
        "id": "L0HoGesYBC1E"
      }
    },
    {
      "cell_type": "code",
      "source": [
        "from google.colab import drive\n",
        "drive.mount('/content/drive')\n",
        "TWSM_path = \"/content/drive/MyDrive/teaching/TWSM/\"\n",
        "\n",
        "#from TWSM import *\n",
        "from tensorflow import keras\n",
        "from tensorflow.keras.models import Sequential\n",
        "from tensorflow.keras.layers import Dense\n",
        "from tensorflow.keras import layers\n",
        "from keras.callbacks import EarlyStopping\n",
        "import spacy\n",
        "## Import packages\n",
        "import pickle\n",
        "import pandas as pd\n",
        "from gensim.models import Word2Vec\n",
        "import time\n",
        "import numpy as np\n",
        "# run this from a normal command line\n",
        "#!python -m spacy download en_core_web_md #160MB\n",
        "\n",
        "#can I download this to a local file instead and load it fom drive?\n"
      ],
      "metadata": {
        "id": "4k1Km8WrvyWM",
        "colab": {
          "base_uri": "https://localhost:8080/"
        },
        "outputId": "bffce454-73f0-41b8-9ef3-2481f78529e0"
      },
      "execution_count": 5,
      "outputs": [
        {
          "output_type": "stream",
          "name": "stdout",
          "text": [
            "Drive already mounted at /content/drive; to attempt to forcibly remount, call drive.mount(\"/content/drive\", force_remount=True).\n"
          ]
        }
      ]
    },
    {
      "cell_type": "markdown",
      "source": [
        "**IMD Movie Reviews**"
      ],
      "metadata": {
        "id": "e3ofzmU3fbUH"
      }
    },
    {
      "cell_type": "code",
      "source": [
        "from tensorflow.keras.datasets import imdb\n",
        "(train_data, train_labels), (test_data, test_labels) = imdb.load_data(\n",
        "    num_words=10000)"
      ],
      "metadata": {
        "id": "inHlYXX-gCJx",
        "colab": {
          "base_uri": "https://localhost:8080/"
        },
        "outputId": "e79d7897-2645-4ca4-9720-641cb7254cf1"
      },
      "execution_count": 6,
      "outputs": [
        {
          "output_type": "stream",
          "name": "stdout",
          "text": [
            "Downloading data from https://storage.googleapis.com/tensorflow/tf-keras-datasets/imdb.npz\n",
            "17465344/17464789 [==============================] - 0s 0us/step\n",
            "17473536/17464789 [==============================] - 0s 0us/step\n"
          ]
        }
      ]
    },
    {
      "cell_type": "markdown",
      "source": [
        "#### Tasks\n",
        "\n",
        "1. Train a word2vec model of dimension $100$ on the IMD data. (considering words appearing in more than 50 documents) Save the model if you like.\n",
        "\n",
        "2. Compute the embedding for each review (average word2vec)\n",
        "\n",
        "3. Fit a keras classifier to the embedded reviews. (2 hidden layers of size 40 each) Report/Monitor the accuracy on the test data.\n",
        "\n",
        "4. Load the bing sentiment dictionary. Compute two separate embeddings for the negative and positive sentiments.\n",
        "\n",
        "5. Compute the similarity between these two vectors and a few selected reviews. Does it agree with their label?\n"
      ],
      "metadata": {
        "id": "eA-8MKLQjT1U"
      }
    },
    {
      "cell_type": "markdown",
      "source": [
        "-------------------------------------------\n",
        "## Solution"
      ],
      "metadata": {
        "id": "tv2nL5C6s4_8"
      }
    },
    {
      "cell_type": "markdown",
      "source": [
        "1. Train a word2vec model of dimension  100  on the IMD data. (considering words appearing in more than 50 documents) Save the model if you like."
      ],
      "metadata": {
        "id": "yxjOqevxYXDJ"
      }
    },
    {
      "cell_type": "markdown",
      "source": [
        "**Decoding reviews back to text**"
      ],
      "metadata": {
        "id": "64rsTCsVZRXW"
      }
    },
    {
      "cell_type": "code",
      "source": [
        "word_index = imdb.get_word_index()\n",
        "reverse_word_index = dict(\n",
        "    [(value, key) for (key, value) in word_index.items()])\n",
        "decoded_review = \" \".join(\n",
        "    [reverse_word_index.get(i - 3, \"?\") for i in train_data[0]])\n",
        "\n",
        "decoded_review"
      ],
      "metadata": {
        "colab": {
          "base_uri": "https://localhost:8080/",
          "height": 214
        },
        "id": "IivO2H-vYV20",
        "outputId": "1636da43-b347-49df-c6aa-4a678845dc49"
      },
      "execution_count": 7,
      "outputs": [
        {
          "output_type": "stream",
          "name": "stdout",
          "text": [
            "Downloading data from https://storage.googleapis.com/tensorflow/tf-keras-datasets/imdb_word_index.json\n",
            "1646592/1641221 [==============================] - 0s 0us/step\n",
            "1654784/1641221 [==============================] - 0s 0us/step\n"
          ]
        },
        {
          "output_type": "execute_result",
          "data": {
            "text/plain": [
              "\"? this film was just brilliant casting location scenery story direction everyone's really suited the part they played and you could just imagine being there robert ? is an amazing actor and now the same being director ? father came from the same scottish island as myself so i loved the fact there was a real connection with this film the witty remarks throughout the film were great it was just brilliant so much that i bought the film as soon as it was released for ? and would recommend it to everyone to watch and the fly fishing was amazing really cried at the end it was so sad and you know what they say if you cry at a film it must have been good and this definitely was also ? to the two little boy's that played the ? of norman and paul they were just brilliant children are often left out of the ? list i think because the stars that play them all grown up are such a big profile for the whole film but these children are amazing and should be praised for what they have done don't you think the whole story was so lovely because it was true and was someone's life after all that was shared with us all\""
            ],
            "application/vnd.google.colaboratory.intrinsic+json": {
              "type": "string"
            }
          },
          "metadata": {},
          "execution_count": 7
        }
      ]
    },
    {
      "cell_type": "code",
      "source": [
        "N=len(train_data)\n",
        "decoded_reviews = [\"\" for x in range(N)]\n",
        "\n",
        "for j in range(N):\n",
        "  decoded_reviews[j] = \" \".join(\n",
        "    [reverse_word_index.get(i - 3, \"?\") for i in train_data[j]])"
      ],
      "metadata": {
        "id": "EIXbbRwaZaQC"
      },
      "execution_count": 8,
      "outputs": []
    },
    {
      "cell_type": "code",
      "source": [
        "decoded_reviews[1]"
      ],
      "metadata": {
        "colab": {
          "base_uri": "https://localhost:8080/",
          "height": 142
        },
        "id": "tBpixu8QZbd3",
        "outputId": "59cfb651-fa9b-4542-8e63-4fd8c9007579"
      },
      "execution_count": 9,
      "outputs": [
        {
          "output_type": "execute_result",
          "data": {
            "text/plain": [
              "\"? big hair big boobs bad music and a giant safety pin these are the words to best describe this terrible movie i love cheesy horror movies and i've seen hundreds but this had got to be on of the worst ever made the plot is paper thin and ridiculous the acting is an abomination the script is completely laughable the best is the end showdown with the cop and how he worked out who the killer is it's just so damn terribly written the clothes are sickening and funny in equal ? the hair is big lots of boobs ? men wear those cut ? shirts that show off their ? sickening that men actually wore them and the music is just ? trash that plays over and over again in almost every scene there is trashy music boobs and ? taking away bodies and the gym still doesn't close for ? all joking aside this is a truly bad film whose only charm is to look back on the disaster that was the 80's and have a good old laugh at how bad everything was back then\""
            ],
            "application/vnd.google.colaboratory.intrinsic+json": {
              "type": "string"
            }
          },
          "metadata": {},
          "execution_count": 9
        }
      ]
    },
    {
      "cell_type": "code",
      "source": [
        "df = pd.DataFrame(decoded_reviews,columns=['reviews'])\n",
        "df.head()"
      ],
      "metadata": {
        "colab": {
          "base_uri": "https://localhost:8080/",
          "height": 206
        },
        "id": "xzX7CmH6Zq2a",
        "outputId": "44d01060-ff33-4a5f-bbf0-063754f79382"
      },
      "execution_count": 10,
      "outputs": [
        {
          "output_type": "execute_result",
          "data": {
            "text/plain": [
              "                                             reviews\n",
              "0  ? this film was just brilliant casting locatio...\n",
              "1  ? big hair big boobs bad music and a giant saf...\n",
              "2  ? this has to be one of the worst films of the...\n",
              "3  ? the ? ? at storytelling the traditional sort...\n",
              "4  ? worst mistake of my life br br i picked this..."
            ],
            "text/html": [
              "\n",
              "  <div id=\"df-20406954-453e-4a85-99e0-d5b50ad2821e\">\n",
              "    <div class=\"colab-df-container\">\n",
              "      <div>\n",
              "<style scoped>\n",
              "    .dataframe tbody tr th:only-of-type {\n",
              "        vertical-align: middle;\n",
              "    }\n",
              "\n",
              "    .dataframe tbody tr th {\n",
              "        vertical-align: top;\n",
              "    }\n",
              "\n",
              "    .dataframe thead th {\n",
              "        text-align: right;\n",
              "    }\n",
              "</style>\n",
              "<table border=\"1\" class=\"dataframe\">\n",
              "  <thead>\n",
              "    <tr style=\"text-align: right;\">\n",
              "      <th></th>\n",
              "      <th>reviews</th>\n",
              "    </tr>\n",
              "  </thead>\n",
              "  <tbody>\n",
              "    <tr>\n",
              "      <th>0</th>\n",
              "      <td>? this film was just brilliant casting locatio...</td>\n",
              "    </tr>\n",
              "    <tr>\n",
              "      <th>1</th>\n",
              "      <td>? big hair big boobs bad music and a giant saf...</td>\n",
              "    </tr>\n",
              "    <tr>\n",
              "      <th>2</th>\n",
              "      <td>? this has to be one of the worst films of the...</td>\n",
              "    </tr>\n",
              "    <tr>\n",
              "      <th>3</th>\n",
              "      <td>? the ? ? at storytelling the traditional sort...</td>\n",
              "    </tr>\n",
              "    <tr>\n",
              "      <th>4</th>\n",
              "      <td>? worst mistake of my life br br i picked this...</td>\n",
              "    </tr>\n",
              "  </tbody>\n",
              "</table>\n",
              "</div>\n",
              "      <button class=\"colab-df-convert\" onclick=\"convertToInteractive('df-20406954-453e-4a85-99e0-d5b50ad2821e')\"\n",
              "              title=\"Convert this dataframe to an interactive table.\"\n",
              "              style=\"display:none;\">\n",
              "        \n",
              "  <svg xmlns=\"http://www.w3.org/2000/svg\" height=\"24px\"viewBox=\"0 0 24 24\"\n",
              "       width=\"24px\">\n",
              "    <path d=\"M0 0h24v24H0V0z\" fill=\"none\"/>\n",
              "    <path d=\"M18.56 5.44l.94 2.06.94-2.06 2.06-.94-2.06-.94-.94-2.06-.94 2.06-2.06.94zm-11 1L8.5 8.5l.94-2.06 2.06-.94-2.06-.94L8.5 2.5l-.94 2.06-2.06.94zm10 10l.94 2.06.94-2.06 2.06-.94-2.06-.94-.94-2.06-.94 2.06-2.06.94z\"/><path d=\"M17.41 7.96l-1.37-1.37c-.4-.4-.92-.59-1.43-.59-.52 0-1.04.2-1.43.59L10.3 9.45l-7.72 7.72c-.78.78-.78 2.05 0 2.83L4 21.41c.39.39.9.59 1.41.59.51 0 1.02-.2 1.41-.59l7.78-7.78 2.81-2.81c.8-.78.8-2.07 0-2.86zM5.41 20L4 18.59l7.72-7.72 1.47 1.35L5.41 20z\"/>\n",
              "  </svg>\n",
              "      </button>\n",
              "      \n",
              "  <style>\n",
              "    .colab-df-container {\n",
              "      display:flex;\n",
              "      flex-wrap:wrap;\n",
              "      gap: 12px;\n",
              "    }\n",
              "\n",
              "    .colab-df-convert {\n",
              "      background-color: #E8F0FE;\n",
              "      border: none;\n",
              "      border-radius: 50%;\n",
              "      cursor: pointer;\n",
              "      display: none;\n",
              "      fill: #1967D2;\n",
              "      height: 32px;\n",
              "      padding: 0 0 0 0;\n",
              "      width: 32px;\n",
              "    }\n",
              "\n",
              "    .colab-df-convert:hover {\n",
              "      background-color: #E2EBFA;\n",
              "      box-shadow: 0px 1px 2px rgba(60, 64, 67, 0.3), 0px 1px 3px 1px rgba(60, 64, 67, 0.15);\n",
              "      fill: #174EA6;\n",
              "    }\n",
              "\n",
              "    [theme=dark] .colab-df-convert {\n",
              "      background-color: #3B4455;\n",
              "      fill: #D2E3FC;\n",
              "    }\n",
              "\n",
              "    [theme=dark] .colab-df-convert:hover {\n",
              "      background-color: #434B5C;\n",
              "      box-shadow: 0px 1px 3px 1px rgba(0, 0, 0, 0.15);\n",
              "      filter: drop-shadow(0px 1px 2px rgba(0, 0, 0, 0.3));\n",
              "      fill: #FFFFFF;\n",
              "    }\n",
              "  </style>\n",
              "\n",
              "      <script>\n",
              "        const buttonEl =\n",
              "          document.querySelector('#df-20406954-453e-4a85-99e0-d5b50ad2821e button.colab-df-convert');\n",
              "        buttonEl.style.display =\n",
              "          google.colab.kernel.accessAllowed ? 'block' : 'none';\n",
              "\n",
              "        async function convertToInteractive(key) {\n",
              "          const element = document.querySelector('#df-20406954-453e-4a85-99e0-d5b50ad2821e');\n",
              "          const dataTable =\n",
              "            await google.colab.kernel.invokeFunction('convertToInteractive',\n",
              "                                                     [key], {});\n",
              "          if (!dataTable) return;\n",
              "\n",
              "          const docLinkHtml = 'Like what you see? Visit the ' +\n",
              "            '<a target=\"_blank\" href=https://colab.research.google.com/notebooks/data_table.ipynb>data table notebook</a>'\n",
              "            + ' to learn more about interactive tables.';\n",
              "          element.innerHTML = '';\n",
              "          dataTable['output_type'] = 'display_data';\n",
              "          await google.colab.output.renderOutput(dataTable, element);\n",
              "          const docLink = document.createElement('div');\n",
              "          docLink.innerHTML = docLinkHtml;\n",
              "          element.appendChild(docLink);\n",
              "        }\n",
              "      </script>\n",
              "    </div>\n",
              "  </div>\n",
              "  "
            ]
          },
          "metadata": {},
          "execution_count": 10
        }
      ]
    },
    {
      "cell_type": "markdown",
      "source": [
        "**Train the model**"
      ],
      "metadata": {
        "id": "p-SDuQnibxdS"
      }
    },
    {
      "cell_type": "code",
      "source": [
        "corpus_gen = [text.split() for text in df['reviews']]"
      ],
      "metadata": {
        "id": "XNSvGmf0chHK"
      },
      "execution_count": 11,
      "outputs": []
    },
    {
      "cell_type": "code",
      "source": [
        "#Initiate the model\n",
        "model = Word2Vec(corpus_gen,size = 100, min_count=50)"
      ],
      "metadata": {
        "id": "x_M_0Uqmfbd6"
      },
      "execution_count": 12,
      "outputs": []
    },
    {
      "cell_type": "markdown",
      "source": [
        "2. Compute the embedding for each review (average word2vec)"
      ],
      "metadata": {
        "id": "0_WdU_Lqfmx9"
      }
    },
    {
      "cell_type": "code",
      "source": [
        "# Document representation for the text\n",
        "corpus_w2v=[[model.wv[word] for word in doc if word in model.wv.vocab.keys()] for doc in corpus_gen]\n",
        "positive=[i for i in range(len(corpus_gen)) if len(corpus_w2v[i])>0]\n",
        "\n",
        "corpus_w2v2=[corpus_w2v[i] for i in positive]\n",
        "data_lemma2=[df.reviews[i] for i in positive]\n",
        "\n",
        "# Document average representation\n",
        "corpus_w2v_avg_clean=[sum(words)/len(words) for words in corpus_w2v2]\n",
        "\n",
        "# This corpus can be used later in clustering and classification tasks\n",
        "print(corpus_w2v_avg_clean[10])"
      ],
      "metadata": {
        "colab": {
          "base_uri": "https://localhost:8080/"
        },
        "id": "RLn8u1eVtMxu",
        "outputId": "dafadf04-2519-4b97-852f-4334af1b97d0"
      },
      "execution_count": 13,
      "outputs": [
        {
          "output_type": "stream",
          "name": "stdout",
          "text": [
            "[-0.03405202 -0.15662953 -0.02236437  0.6443631  -0.13848172 -0.17724578\n",
            " -0.05760726 -0.17105941 -0.3747898  -0.19942641  0.3064822  -0.05263308\n",
            "  0.18022044 -0.3508583   0.15298763  0.01380139 -0.295493    0.27011645\n",
            " -0.09051143 -0.40311655 -0.09200626 -0.26138538 -0.1923557   0.01600832\n",
            "  0.02810809 -0.1482759  -0.3541117   0.74817777  0.22409213  0.08380935\n",
            " -0.14258353 -0.12551935  0.376635   -0.1383863   0.1639798   0.15425448\n",
            "  0.06767736  0.15020958 -0.48097894 -0.3186854   0.4179286   0.2550667\n",
            "  0.17380016  0.19582626  0.1246158   0.2675646   0.33269504  0.09317595\n",
            " -0.12935054  0.12238792 -0.0418225  -0.21427707  0.19506682 -0.2132442\n",
            "  0.11422801 -0.24440795  0.20670108 -0.02957723  0.01440286 -0.06458332\n",
            "  0.3310055  -0.21243177 -0.02502116 -0.1766697  -0.01470879  0.02813401\n",
            " -0.01378715 -0.3658029  -0.0077185  -0.09288549  0.41806373 -0.02076897\n",
            "  0.10034382  0.02984751  0.36558113 -0.09589522 -0.3793331   0.34836742\n",
            " -0.07467314  0.07759359 -0.07055757  0.02161236  0.13716513 -0.0161266\n",
            "  0.21438858  0.20064811 -0.20681421  0.41996607  0.23113085  0.26701015\n",
            "  0.20603682  0.25854397  0.1644816   0.3337109   0.6553193  -0.59863263\n",
            " -0.14293163  0.13149641  0.07369626 -0.28212833]\n"
          ]
        }
      ]
    },
    {
      "cell_type": "markdown",
      "source": [
        "3. Fit a keras classifier to the embedded reviews. (2 hidden layers of size 40 each) Report/Monitor the accuracy on the test data."
      ],
      "metadata": {
        "id": "IsAImgrluwWO"
      }
    },
    {
      "cell_type": "code",
      "source": [
        "# Model configuration\n",
        "loss_function = 'binary_crossentropy'\n",
        "optimizer = 'adam'\n",
        "additional_metrics = ['accuracy']\n",
        "number_of_epochs = 100\n",
        "verbosity_mode = 1\n",
        "validation_split = 0.30\n",
        "input_dim = 100\n",
        "batch_size = 64"
      ],
      "metadata": {
        "id": "l0I6CPZbyDzt"
      },
      "execution_count": 14,
      "outputs": []
    },
    {
      "cell_type": "code",
      "source": [
        "model_clf = Sequential()\n",
        "model_clf.add(Dense(40, input_dim = 100, activation='relu'))\n",
        "model_clf.add(Dense(40, activation='relu'))\n",
        "model_clf.add(Dense(1, activation='sigmoid'))\n",
        "callback = EarlyStopping(monitor='accuracy', patience=15, mode = 'auto')"
      ],
      "metadata": {
        "id": "9VSXXFMfuzG0"
      },
      "execution_count": 15,
      "outputs": []
    },
    {
      "cell_type": "code",
      "source": [
        "# Compile the model\n",
        "model_clf.compile(optimizer=optimizer, loss=loss_function, metrics=additional_metrics)\n"
      ],
      "metadata": {
        "id": "f1NlF7RNyAU8"
      },
      "execution_count": 16,
      "outputs": []
    },
    {
      "cell_type": "code",
      "source": [
        "# Train the model\n",
        "history = model_clf.fit(np.array(corpus_w2v_avg_clean), train_labels, epochs=number_of_epochs, verbose=verbosity_mode, validation_split=validation_split, callbacks = callback, batch_size = batch_size)"
      ],
      "metadata": {
        "colab": {
          "base_uri": "https://localhost:8080/"
        },
        "id": "s0enQOKMyVfg",
        "outputId": "b36eb0ac-f4f6-45fb-a7cc-b1381761e21e"
      },
      "execution_count": 17,
      "outputs": [
        {
          "output_type": "stream",
          "name": "stdout",
          "text": [
            "Epoch 1/100\n",
            "274/274 [==============================] - 2s 4ms/step - loss: 0.4879 - accuracy: 0.7736 - val_loss: 0.4043 - val_accuracy: 0.8167\n",
            "Epoch 2/100\n",
            "274/274 [==============================] - 1s 4ms/step - loss: 0.3932 - accuracy: 0.8259 - val_loss: 0.3751 - val_accuracy: 0.8385\n",
            "Epoch 3/100\n",
            "274/274 [==============================] - 1s 3ms/step - loss: 0.3797 - accuracy: 0.8319 - val_loss: 0.3707 - val_accuracy: 0.8368\n",
            "Epoch 4/100\n",
            "274/274 [==============================] - 1s 4ms/step - loss: 0.3770 - accuracy: 0.8341 - val_loss: 0.3645 - val_accuracy: 0.8411\n",
            "Epoch 5/100\n",
            "274/274 [==============================] - 1s 3ms/step - loss: 0.3694 - accuracy: 0.8375 - val_loss: 0.3690 - val_accuracy: 0.8397\n",
            "Epoch 6/100\n",
            "274/274 [==============================] - 1s 3ms/step - loss: 0.3675 - accuracy: 0.8399 - val_loss: 0.3677 - val_accuracy: 0.8387\n",
            "Epoch 7/100\n",
            "274/274 [==============================] - 1s 4ms/step - loss: 0.3682 - accuracy: 0.8401 - val_loss: 0.3614 - val_accuracy: 0.8397\n",
            "Epoch 8/100\n",
            "274/274 [==============================] - 1s 4ms/step - loss: 0.3650 - accuracy: 0.8397 - val_loss: 0.3756 - val_accuracy: 0.8340\n",
            "Epoch 9/100\n",
            "274/274 [==============================] - 1s 4ms/step - loss: 0.3585 - accuracy: 0.8457 - val_loss: 0.3628 - val_accuracy: 0.8396\n",
            "Epoch 10/100\n",
            "274/274 [==============================] - 1s 4ms/step - loss: 0.3559 - accuracy: 0.8450 - val_loss: 0.3610 - val_accuracy: 0.8441\n",
            "Epoch 11/100\n",
            "274/274 [==============================] - 1s 4ms/step - loss: 0.3551 - accuracy: 0.8463 - val_loss: 0.3598 - val_accuracy: 0.8433\n",
            "Epoch 12/100\n",
            "274/274 [==============================] - 2s 6ms/step - loss: 0.3539 - accuracy: 0.8458 - val_loss: 0.3595 - val_accuracy: 0.8396\n",
            "Epoch 13/100\n",
            "274/274 [==============================] - 2s 8ms/step - loss: 0.3518 - accuracy: 0.8477 - val_loss: 0.3586 - val_accuracy: 0.8403\n",
            "Epoch 14/100\n",
            "274/274 [==============================] - 2s 8ms/step - loss: 0.3483 - accuracy: 0.8498 - val_loss: 0.3596 - val_accuracy: 0.8421\n",
            "Epoch 15/100\n",
            "274/274 [==============================] - 2s 8ms/step - loss: 0.3469 - accuracy: 0.8511 - val_loss: 0.3823 - val_accuracy: 0.8321\n",
            "Epoch 16/100\n",
            "274/274 [==============================] - 2s 8ms/step - loss: 0.3440 - accuracy: 0.8506 - val_loss: 0.3796 - val_accuracy: 0.8360\n",
            "Epoch 17/100\n",
            "274/274 [==============================] - 3s 9ms/step - loss: 0.3420 - accuracy: 0.8507 - val_loss: 0.3597 - val_accuracy: 0.8412\n",
            "Epoch 18/100\n",
            "274/274 [==============================] - 1s 5ms/step - loss: 0.3408 - accuracy: 0.8540 - val_loss: 0.3595 - val_accuracy: 0.8429\n",
            "Epoch 19/100\n",
            "274/274 [==============================] - 1s 4ms/step - loss: 0.3386 - accuracy: 0.8531 - val_loss: 0.3590 - val_accuracy: 0.8423\n",
            "Epoch 20/100\n",
            "274/274 [==============================] - 1s 3ms/step - loss: 0.3348 - accuracy: 0.8530 - val_loss: 0.3671 - val_accuracy: 0.8397\n",
            "Epoch 21/100\n",
            "274/274 [==============================] - 1s 4ms/step - loss: 0.3368 - accuracy: 0.8541 - val_loss: 0.3733 - val_accuracy: 0.8303\n",
            "Epoch 22/100\n",
            "274/274 [==============================] - 1s 3ms/step - loss: 0.3312 - accuracy: 0.8573 - val_loss: 0.3584 - val_accuracy: 0.8407\n",
            "Epoch 23/100\n",
            "274/274 [==============================] - 1s 3ms/step - loss: 0.3298 - accuracy: 0.8577 - val_loss: 0.3642 - val_accuracy: 0.8387\n",
            "Epoch 24/100\n",
            "274/274 [==============================] - 1s 3ms/step - loss: 0.3279 - accuracy: 0.8578 - val_loss: 0.3612 - val_accuracy: 0.8428\n",
            "Epoch 25/100\n",
            "274/274 [==============================] - 1s 4ms/step - loss: 0.3295 - accuracy: 0.8586 - val_loss: 0.3623 - val_accuracy: 0.8404\n",
            "Epoch 26/100\n",
            "274/274 [==============================] - 1s 4ms/step - loss: 0.3248 - accuracy: 0.8611 - val_loss: 0.3651 - val_accuracy: 0.8393\n",
            "Epoch 27/100\n",
            "274/274 [==============================] - 1s 4ms/step - loss: 0.3239 - accuracy: 0.8593 - val_loss: 0.3691 - val_accuracy: 0.8368\n",
            "Epoch 28/100\n",
            "274/274 [==============================] - 1s 4ms/step - loss: 0.3221 - accuracy: 0.8597 - val_loss: 0.3624 - val_accuracy: 0.8400\n",
            "Epoch 29/100\n",
            "274/274 [==============================] - 1s 3ms/step - loss: 0.3189 - accuracy: 0.8636 - val_loss: 0.3712 - val_accuracy: 0.8352\n",
            "Epoch 30/100\n",
            "274/274 [==============================] - 1s 3ms/step - loss: 0.3198 - accuracy: 0.8638 - val_loss: 0.3650 - val_accuracy: 0.8379\n",
            "Epoch 31/100\n",
            "274/274 [==============================] - 1s 3ms/step - loss: 0.3175 - accuracy: 0.8614 - val_loss: 0.3750 - val_accuracy: 0.8385\n",
            "Epoch 32/100\n",
            "274/274 [==============================] - 1s 4ms/step - loss: 0.3130 - accuracy: 0.8665 - val_loss: 0.3654 - val_accuracy: 0.8392\n",
            "Epoch 33/100\n",
            "274/274 [==============================] - 1s 3ms/step - loss: 0.3131 - accuracy: 0.8639 - val_loss: 0.3698 - val_accuracy: 0.8384\n",
            "Epoch 34/100\n",
            "274/274 [==============================] - 1s 3ms/step - loss: 0.3100 - accuracy: 0.8674 - val_loss: 0.3659 - val_accuracy: 0.8432\n",
            "Epoch 35/100\n",
            "274/274 [==============================] - 1s 4ms/step - loss: 0.3080 - accuracy: 0.8691 - val_loss: 0.3948 - val_accuracy: 0.8261\n",
            "Epoch 36/100\n",
            "274/274 [==============================] - 1s 4ms/step - loss: 0.3094 - accuracy: 0.8673 - val_loss: 0.3723 - val_accuracy: 0.8375\n",
            "Epoch 37/100\n",
            "274/274 [==============================] - 1s 4ms/step - loss: 0.3067 - accuracy: 0.8679 - val_loss: 0.3720 - val_accuracy: 0.8352\n",
            "Epoch 38/100\n",
            "274/274 [==============================] - 2s 6ms/step - loss: 0.3040 - accuracy: 0.8686 - val_loss: 0.3764 - val_accuracy: 0.8391\n",
            "Epoch 39/100\n",
            "274/274 [==============================] - 2s 6ms/step - loss: 0.3038 - accuracy: 0.8692 - val_loss: 0.3739 - val_accuracy: 0.8367\n",
            "Epoch 40/100\n",
            "274/274 [==============================] - 2s 6ms/step - loss: 0.3037 - accuracy: 0.8696 - val_loss: 0.3761 - val_accuracy: 0.8387\n",
            "Epoch 41/100\n",
            "274/274 [==============================] - 2s 6ms/step - loss: 0.3012 - accuracy: 0.8715 - val_loss: 0.3768 - val_accuracy: 0.8345\n",
            "Epoch 42/100\n",
            "274/274 [==============================] - 2s 6ms/step - loss: 0.2988 - accuracy: 0.8725 - val_loss: 0.3747 - val_accuracy: 0.8364\n",
            "Epoch 43/100\n",
            "274/274 [==============================] - 1s 5ms/step - loss: 0.2973 - accuracy: 0.8732 - val_loss: 0.3715 - val_accuracy: 0.8420\n",
            "Epoch 44/100\n",
            "274/274 [==============================] - 1s 4ms/step - loss: 0.2981 - accuracy: 0.8716 - val_loss: 0.3728 - val_accuracy: 0.8375\n",
            "Epoch 45/100\n",
            "274/274 [==============================] - 1s 3ms/step - loss: 0.2944 - accuracy: 0.8745 - val_loss: 0.3806 - val_accuracy: 0.8349\n",
            "Epoch 46/100\n",
            "274/274 [==============================] - 1s 4ms/step - loss: 0.2919 - accuracy: 0.8722 - val_loss: 0.3850 - val_accuracy: 0.8315\n",
            "Epoch 47/100\n",
            "274/274 [==============================] - 1s 3ms/step - loss: 0.2887 - accuracy: 0.8764 - val_loss: 0.3769 - val_accuracy: 0.8352\n",
            "Epoch 48/100\n",
            "274/274 [==============================] - 1s 4ms/step - loss: 0.2908 - accuracy: 0.8764 - val_loss: 0.3799 - val_accuracy: 0.8341\n",
            "Epoch 49/100\n",
            "274/274 [==============================] - 1s 4ms/step - loss: 0.2892 - accuracy: 0.8775 - val_loss: 0.3816 - val_accuracy: 0.8349\n",
            "Epoch 50/100\n",
            "274/274 [==============================] - 1s 3ms/step - loss: 0.2876 - accuracy: 0.8750 - val_loss: 0.3828 - val_accuracy: 0.8355\n",
            "Epoch 51/100\n",
            "274/274 [==============================] - 1s 3ms/step - loss: 0.2834 - accuracy: 0.8785 - val_loss: 0.3812 - val_accuracy: 0.8353\n",
            "Epoch 52/100\n",
            "274/274 [==============================] - 1s 4ms/step - loss: 0.2868 - accuracy: 0.8784 - val_loss: 0.3918 - val_accuracy: 0.8356\n",
            "Epoch 53/100\n",
            "274/274 [==============================] - 1s 4ms/step - loss: 0.2851 - accuracy: 0.8781 - val_loss: 0.3818 - val_accuracy: 0.8355\n",
            "Epoch 54/100\n",
            "274/274 [==============================] - 1s 3ms/step - loss: 0.2832 - accuracy: 0.8777 - val_loss: 0.4186 - val_accuracy: 0.8184\n",
            "Epoch 55/100\n",
            "274/274 [==============================] - 1s 3ms/step - loss: 0.2792 - accuracy: 0.8818 - val_loss: 0.3847 - val_accuracy: 0.8320\n",
            "Epoch 56/100\n",
            "274/274 [==============================] - 1s 4ms/step - loss: 0.2777 - accuracy: 0.8820 - val_loss: 0.4088 - val_accuracy: 0.8289\n",
            "Epoch 57/100\n",
            "274/274 [==============================] - 1s 4ms/step - loss: 0.2759 - accuracy: 0.8820 - val_loss: 0.3848 - val_accuracy: 0.8373\n",
            "Epoch 58/100\n",
            "274/274 [==============================] - 1s 4ms/step - loss: 0.2748 - accuracy: 0.8838 - val_loss: 0.3917 - val_accuracy: 0.8327\n",
            "Epoch 59/100\n",
            "274/274 [==============================] - 1s 3ms/step - loss: 0.2765 - accuracy: 0.8827 - val_loss: 0.3956 - val_accuracy: 0.8319\n",
            "Epoch 60/100\n",
            "274/274 [==============================] - 1s 3ms/step - loss: 0.2752 - accuracy: 0.8838 - val_loss: 0.3966 - val_accuracy: 0.8273\n",
            "Epoch 61/100\n",
            "274/274 [==============================] - 1s 3ms/step - loss: 0.2718 - accuracy: 0.8841 - val_loss: 0.4000 - val_accuracy: 0.8317\n",
            "Epoch 62/100\n",
            "274/274 [==============================] - 1s 4ms/step - loss: 0.2709 - accuracy: 0.8835 - val_loss: 0.3984 - val_accuracy: 0.8351\n",
            "Epoch 63/100\n",
            "274/274 [==============================] - 1s 3ms/step - loss: 0.2689 - accuracy: 0.8863 - val_loss: 0.3933 - val_accuracy: 0.8337\n",
            "Epoch 64/100\n",
            "274/274 [==============================] - 1s 4ms/step - loss: 0.2671 - accuracy: 0.8857 - val_loss: 0.3966 - val_accuracy: 0.8363\n",
            "Epoch 65/100\n",
            "274/274 [==============================] - 1s 4ms/step - loss: 0.2663 - accuracy: 0.8866 - val_loss: 0.4136 - val_accuracy: 0.8337\n",
            "Epoch 66/100\n",
            "274/274 [==============================] - 2s 6ms/step - loss: 0.2651 - accuracy: 0.8877 - val_loss: 0.4002 - val_accuracy: 0.8305\n",
            "Epoch 67/100\n",
            "274/274 [==============================] - 2s 5ms/step - loss: 0.2634 - accuracy: 0.8912 - val_loss: 0.3983 - val_accuracy: 0.8343\n",
            "Epoch 68/100\n",
            "274/274 [==============================] - 2s 6ms/step - loss: 0.2662 - accuracy: 0.8893 - val_loss: 0.4088 - val_accuracy: 0.8252\n",
            "Epoch 69/100\n",
            "274/274 [==============================] - 2s 6ms/step - loss: 0.2635 - accuracy: 0.8867 - val_loss: 0.3947 - val_accuracy: 0.8317\n",
            "Epoch 70/100\n",
            "274/274 [==============================] - 2s 5ms/step - loss: 0.2621 - accuracy: 0.8888 - val_loss: 0.4039 - val_accuracy: 0.8309\n",
            "Epoch 71/100\n",
            "274/274 [==============================] - 1s 4ms/step - loss: 0.2596 - accuracy: 0.8903 - val_loss: 0.4082 - val_accuracy: 0.8297\n",
            "Epoch 72/100\n",
            "274/274 [==============================] - 1s 4ms/step - loss: 0.2606 - accuracy: 0.8891 - val_loss: 0.4034 - val_accuracy: 0.8325\n",
            "Epoch 73/100\n",
            "274/274 [==============================] - 1s 3ms/step - loss: 0.2573 - accuracy: 0.8902 - val_loss: 0.4180 - val_accuracy: 0.8245\n",
            "Epoch 74/100\n",
            "274/274 [==============================] - 1s 3ms/step - loss: 0.2560 - accuracy: 0.8919 - val_loss: 0.4086 - val_accuracy: 0.8335\n",
            "Epoch 75/100\n",
            "274/274 [==============================] - 1s 4ms/step - loss: 0.2557 - accuracy: 0.8936 - val_loss: 0.4044 - val_accuracy: 0.8355\n",
            "Epoch 76/100\n",
            "274/274 [==============================] - 1s 4ms/step - loss: 0.2513 - accuracy: 0.8952 - val_loss: 0.4138 - val_accuracy: 0.8288\n",
            "Epoch 77/100\n",
            "274/274 [==============================] - 1s 4ms/step - loss: 0.2516 - accuracy: 0.8929 - val_loss: 0.4178 - val_accuracy: 0.8271\n",
            "Epoch 78/100\n",
            "274/274 [==============================] - 1s 3ms/step - loss: 0.2493 - accuracy: 0.8961 - val_loss: 0.4166 - val_accuracy: 0.8299\n",
            "Epoch 79/100\n",
            "274/274 [==============================] - 1s 3ms/step - loss: 0.2507 - accuracy: 0.8939 - val_loss: 0.4131 - val_accuracy: 0.8233\n",
            "Epoch 80/100\n",
            "274/274 [==============================] - 1s 4ms/step - loss: 0.2492 - accuracy: 0.8934 - val_loss: 0.4267 - val_accuracy: 0.8273\n",
            "Epoch 81/100\n",
            "274/274 [==============================] - 1s 3ms/step - loss: 0.2481 - accuracy: 0.8966 - val_loss: 0.4228 - val_accuracy: 0.8299\n",
            "Epoch 82/100\n",
            "274/274 [==============================] - 1s 4ms/step - loss: 0.2480 - accuracy: 0.8956 - val_loss: 0.4189 - val_accuracy: 0.8297\n",
            "Epoch 83/100\n",
            "274/274 [==============================] - 1s 4ms/step - loss: 0.2465 - accuracy: 0.8960 - val_loss: 0.4221 - val_accuracy: 0.8236\n",
            "Epoch 84/100\n",
            "274/274 [==============================] - 1s 4ms/step - loss: 0.2434 - accuracy: 0.8993 - val_loss: 0.4281 - val_accuracy: 0.8267\n",
            "Epoch 85/100\n",
            "274/274 [==============================] - 1s 3ms/step - loss: 0.2446 - accuracy: 0.8986 - val_loss: 0.4246 - val_accuracy: 0.8284\n",
            "Epoch 86/100\n",
            "274/274 [==============================] - 1s 4ms/step - loss: 0.2438 - accuracy: 0.9002 - val_loss: 0.4322 - val_accuracy: 0.8220\n",
            "Epoch 87/100\n",
            "274/274 [==============================] - 1s 4ms/step - loss: 0.2416 - accuracy: 0.8994 - val_loss: 0.4277 - val_accuracy: 0.8275\n",
            "Epoch 88/100\n",
            "274/274 [==============================] - 1s 4ms/step - loss: 0.2416 - accuracy: 0.8986 - val_loss: 0.4303 - val_accuracy: 0.8309\n",
            "Epoch 89/100\n",
            "274/274 [==============================] - 1s 4ms/step - loss: 0.2392 - accuracy: 0.9011 - val_loss: 0.4273 - val_accuracy: 0.8281\n",
            "Epoch 90/100\n",
            "274/274 [==============================] - 1s 4ms/step - loss: 0.2403 - accuracy: 0.9013 - val_loss: 0.4434 - val_accuracy: 0.8284\n",
            "Epoch 91/100\n",
            "274/274 [==============================] - 1s 3ms/step - loss: 0.2387 - accuracy: 0.8998 - val_loss: 0.4289 - val_accuracy: 0.8232\n",
            "Epoch 92/100\n",
            "274/274 [==============================] - 1s 4ms/step - loss: 0.2375 - accuracy: 0.9039 - val_loss: 0.4371 - val_accuracy: 0.8304\n",
            "Epoch 93/100\n",
            "274/274 [==============================] - 1s 3ms/step - loss: 0.2348 - accuracy: 0.9018 - val_loss: 0.4417 - val_accuracy: 0.8203\n",
            "Epoch 94/100\n",
            "274/274 [==============================] - 1s 4ms/step - loss: 0.2369 - accuracy: 0.9003 - val_loss: 0.4590 - val_accuracy: 0.8248\n",
            "Epoch 95/100\n",
            "274/274 [==============================] - 1s 5ms/step - loss: 0.2334 - accuracy: 0.9026 - val_loss: 0.4459 - val_accuracy: 0.8283\n",
            "Epoch 96/100\n",
            "274/274 [==============================] - 2s 6ms/step - loss: 0.2329 - accuracy: 0.9019 - val_loss: 0.4427 - val_accuracy: 0.8244\n",
            "Epoch 97/100\n",
            "274/274 [==============================] - 1s 5ms/step - loss: 0.2300 - accuracy: 0.9044 - val_loss: 0.4481 - val_accuracy: 0.8232\n",
            "Epoch 98/100\n",
            "274/274 [==============================] - 2s 5ms/step - loss: 0.2315 - accuracy: 0.9043 - val_loss: 0.4394 - val_accuracy: 0.8251\n",
            "Epoch 99/100\n",
            "274/274 [==============================] - 2s 6ms/step - loss: 0.2311 - accuracy: 0.9030 - val_loss: 0.4533 - val_accuracy: 0.8297\n",
            "Epoch 100/100\n",
            "274/274 [==============================] - 1s 5ms/step - loss: 0.2270 - accuracy: 0.9068 - val_loss: 0.4487 - val_accuracy: 0.8225\n"
          ]
        }
      ]
    },
    {
      "cell_type": "markdown",
      "source": [
        "Repeat the same process for test data"
      ],
      "metadata": {
        "id": "M6MW2Hsj02xX"
      }
    },
    {
      "cell_type": "code",
      "source": [
        "#copy this chunk from Philipp\n",
        "N=len(test_data)\n",
        "decoded_reviews_test = [\"\" for x in range(N)]\n",
        "\n",
        "for j in range(N):\n",
        "  decoded_reviews_test[j] = \" \".join(\n",
        "    [reverse_word_index.get(i - 3, \"?\") for i in test_data[j]])\n",
        "  \n",
        "# Get rid of beginning \"?\"\n",
        "decoded_reviews_test = [review[2:] for review in decoded_reviews_test]\n",
        "\n",
        "# Prepare the dataset for the word2vec model\n",
        "corpus_test=[doc.split() for doc in decoded_reviews_test]\n",
        "\n",
        "# Document representation for the text\n",
        "corpus_w2v_test=[[model.wv[word] for word in doc if word in model.wv.vocab.keys()] for doc in corpus_test]\n",
        "positive_test=[i for i in range(len(corpus_test)) if len(corpus_w2v_test[i])>0]\n",
        "\n",
        "corpus_w2v2_test=[corpus_w2v_test[i] for i in positive_test]\n",
        "\n",
        "# Document average representation\n",
        "corpus_w2v_avg_clean_test=[sum(words)/len(words) for words in corpus_w2v2_test]"
      ],
      "metadata": {
        "id": "w8VW6tMh02AC"
      },
      "execution_count": 18,
      "outputs": []
    },
    {
      "cell_type": "code",
      "source": [
        "score = model_clf.evaluate(np.array(corpus_w2v_avg_clean_test), test_labels, verbose=0)\n",
        "print('Test loss:', score[0])\n",
        "print('Test accuracy:', score[1])"
      ],
      "metadata": {
        "colab": {
          "base_uri": "https://localhost:8080/"
        },
        "id": "7zS9fG-31n2k",
        "outputId": "866ed206-ba9b-4a43-eb75-24ed6662c388"
      },
      "execution_count": 19,
      "outputs": [
        {
          "output_type": "stream",
          "name": "stdout",
          "text": [
            "Test loss: 0.47212040424346924\n",
            "Test accuracy: 0.8181999921798706\n"
          ]
        }
      ]
    },
    {
      "cell_type": "code",
      "source": [
        "import matplotlib.pyplot as plt\n",
        "# Visualize history\n",
        "# Plot history: Validation loss\n",
        "plt.plot(history.history['loss'])\n",
        "plt.title('Validation loss history')\n",
        "plt.ylabel('Loss value')\n",
        "plt.xlabel('No. epoch')\n",
        "plt.show()\n",
        "\n",
        "# Plot history: Accuracy\n",
        "plt.plot(history.history['accuracy'])\n",
        "plt.title('Validation accuracy history')\n",
        "plt.ylabel('Accuracy value (%)')\n",
        "plt.xlabel('No. epoch')\n",
        "plt.show()"
      ],
      "metadata": {
        "colab": {
          "base_uri": "https://localhost:8080/",
          "height": 573
        },
        "id": "uDtz2U-x3t5P",
        "outputId": "17d633ba-98d3-4e88-8490-cd48620136b1"
      },
      "execution_count": 20,
      "outputs": [
        {
          "output_type": "display_data",
          "data": {
            "text/plain": [
              "<Figure size 432x288 with 1 Axes>"
            ],
            "image/png": "[encoded data removed]"
          },
          "metadata": {
            "needs_background": "light"
          }
        },
        {
          "output_type": "display_data",
          "data": {
            "text/plain": [
              "<Figure size 432x288 with 1 Axes>"
            ],
            "image/png": "[encoded data removed]"
          },
          "metadata": {
            "needs_background": "light"
          }
        }
      ]
    },
    {
      "cell_type": "markdown",
      "source": [
        "4. Load the bing sentiment dictionary. Compute two separate embeddings for the negative and positive sentiments."
      ],
      "metadata": {
        "id": "cddPGyPfpAZf"
      }
    },
    {
      "cell_type": "code",
      "source": [
        "bing=pd.read_csv('/content/drive/MyDrive/Colab Notebooks/bing.csv')"
      ],
      "metadata": {
        "id": "B2qH7OJwpExA"
      },
      "execution_count": 53,
      "outputs": []
    },
    {
      "cell_type": "code",
      "source": [
        "bing_pos = bing[bing['sentiment']=='positive']\n",
        "bing_neg = bing[bing['sentiment']=='negative']\n"
      ],
      "metadata": {
        "id": "2ZCMyRvlphoM"
      },
      "execution_count": 59,
      "outputs": []
    },
    {
      "cell_type": "code",
      "source": [
        "corpus_gen_pos = [list(char) for char in bing_pos['word'].values]\n",
        "corpus_gen_neg = [list(char) for char in bing_neg['word'].values]"
      ],
      "metadata": {
        "id": "p5jD2KvSD7bg"
      },
      "execution_count": 62,
      "outputs": []
    },
    {
      "cell_type": "code",
      "source": [
        "#Initiate the models\n",
        "model_pos = Word2Vec(bing_pos.word.values,size = 100, min_count=1)\n",
        "model_neg = Word2Vec(bing_neg.word.values,size = 100, min_count=1)"
      ],
      "metadata": {
        "id": "j2lxjrATpx7P"
      },
      "execution_count": 64,
      "outputs": []
    },
    {
      "cell_type": "code",
      "source": [
        "# Document representation for the text\n",
        "corpus_w2v_pos =[[model_pos.wv[word] for char in word if char in model_pos.wv.vocab.keys()] for word in corpus_gen_pos]\n",
        "positive=[i for i in range(len(corpus_gen_pos)) if len(corpus_w2v_pos[i])>0]\n",
        "\n",
        "corpus_w2v2_pos=[corpus_w2v_pos[i] for i in positive]\n",
        "\n",
        "# Document average representation\n",
        "corpus_w2v_avg_clean_pos=[sum(char)/len(char) for char in corpus_w2v2_pos]\n",
        "\n",
        "# This corpus can be used later in clustering and classification tasks\n",
        "print(corpus_w2v_avg_clean_pos[0])"
      ],
      "metadata": {
        "colab": {
          "base_uri": "https://localhost:8080/"
        },
        "id": "CxEjh-nVCtvy",
        "outputId": "b15992a7-12df-4200-c396-246f39a1cca7"
      },
      "execution_count": 69,
      "outputs": [
        {
          "output_type": "stream",
          "name": "stdout",
          "text": [
            "[[-3.40077132e-02 -1.28055200e-01  2.82957722e-02 -1.38183823e-02\n",
            "   2.42094826e-02 -2.09214106e-01  1.15990214e-01  3.60689797e-02\n",
            "  -2.01982602e-01 -6.31567761e-02  7.25698993e-02  4.72864107e-04\n",
            "   1.56391963e-01  3.13904256e-01  9.24515203e-02  1.16844513e-02\n",
            "  -6.11483566e-02 -1.57065764e-01 -8.24768245e-02  2.14075997e-01\n",
            "   2.25495026e-01 -1.51049793e-01  9.59328189e-02  2.24221841e-01\n",
            "   8.26642588e-02 -6.79684505e-02 -8.29734728e-02 -7.53720477e-02\n",
            "  -1.41120568e-01 -9.71632078e-02  4.49144877e-02  1.53797582e-01\n",
            "  -3.19006234e-01 -4.45244508e-03  8.62747356e-02 -6.32092282e-02\n",
            "   1.49828596e-02  9.68774930e-02  1.25062123e-01  4.27288003e-02\n",
            "   2.28722438e-01  1.05741257e-02  1.04903482e-01 -3.94821204e-02\n",
            "   6.71764240e-02 -1.40974626e-01 -1.21127507e-02  1.27272949e-01\n",
            "   1.24393918e-01  3.37127335e-02  1.13457270e-01  1.32445013e-02\n",
            "   1.96811572e-01 -2.73380995e-01 -2.49765832e-02  2.76954293e-01\n",
            "   9.81691554e-02  4.61876243e-02  1.23850934e-01  6.11814074e-02\n",
            "   7.65443221e-02 -5.39250039e-02 -2.77005643e-01  1.81342825e-01\n",
            "   3.20601724e-02 -2.26016641e-02 -5.95858432e-02  1.09645925e-01\n",
            "  -2.11687103e-01  4.25016917e-02 -1.60661802e-01 -1.46508798e-01\n",
            "   1.09407352e-02  1.82886958e-01  1.84677735e-01  6.46470115e-02\n",
            "   8.23909882e-03 -1.35453209e-01 -7.43436888e-02  6.72820881e-02\n",
            "   2.01542631e-01  4.85656150e-02  6.30703345e-02 -3.90973650e-02\n",
            "   1.63965687e-01 -1.81913182e-01 -1.59032643e-01  1.02352001e-01\n",
            "  -1.25392541e-01  2.16395751e-01  4.89924550e-02 -1.38007745e-01\n",
            "  -1.20369017e-01 -1.01387938e-02 -1.58305988e-01  9.48917195e-02\n",
            "   3.99320275e-02 -7.86281899e-02 -3.35134655e-01 -8.51118937e-02]\n",
            " [-3.02363951e-02 -1.19694300e-01  2.73017418e-02 -8.90895817e-03\n",
            "   2.58686412e-02 -2.01423928e-01  1.08119674e-01  3.74927036e-02\n",
            "  -1.85027003e-01 -5.48775382e-02  7.40712285e-02  3.08127911e-03\n",
            "   1.43983737e-01  2.95706272e-01  9.21302736e-02  8.32862873e-03\n",
            "  -6.05616532e-02 -1.48774683e-01 -7.19882920e-02  2.06485227e-01\n",
            "   2.16077283e-01 -1.43903971e-01  9.13351551e-02  2.07763448e-01\n",
            "   7.66717717e-02 -5.76020144e-02 -7.72048533e-02 -6.76850304e-02\n",
            "  -1.27959147e-01 -8.86680558e-02  4.23615389e-02  1.46809950e-01\n",
            "  -2.98542291e-01 -6.40770001e-03  8.23661014e-02 -5.74331880e-02\n",
            "   1.63585767e-02  8.62994567e-02  1.22350447e-01  4.32380401e-02\n",
            "   2.18193725e-01  1.19182160e-02  9.02514681e-02 -3.60831469e-02\n",
            "   6.60926327e-02 -1.33568287e-01 -1.35898767e-02  1.22330256e-01\n",
            "   1.16490625e-01  3.11235953e-02  1.10849075e-01  1.59880444e-02\n",
            "   1.86460555e-01 -2.56110102e-01 -2.24423688e-02  2.61881351e-01\n",
            "   9.32118893e-02  4.56454791e-02  1.16030686e-01  6.15837909e-02\n",
            "   7.61512518e-02 -4.50887643e-02 -2.66461372e-01  1.70215473e-01\n",
            "   2.59970892e-02 -1.91245396e-02 -6.12387992e-02  1.01143062e-01\n",
            "  -1.95491552e-01  4.16978411e-02 -1.46986857e-01 -1.37500584e-01\n",
            "   1.25504797e-02  1.66803882e-01  1.70465514e-01  5.79691492e-02\n",
            "   9.03523434e-03 -1.25540599e-01 -6.98606893e-02  7.13341311e-02\n",
            "   1.94190279e-01  4.75322045e-02  6.63378909e-02 -3.43073942e-02\n",
            "   1.54352680e-01 -1.69088915e-01 -1.49430692e-01  9.91872549e-02\n",
            "  -1.21223867e-01  1.99430808e-01  5.10077216e-02 -1.23916984e-01\n",
            "  -1.15498565e-01 -6.40209764e-03 -1.44696608e-01  9.41822156e-02\n",
            "   3.24000455e-02 -7.38199055e-02 -3.21671933e-01 -8.07138756e-02]\n",
            " [-2.78862771e-02 -1.32189974e-01  2.57889871e-02 -1.48394117e-02\n",
            "   2.34426949e-02 -2.17083052e-01  1.16914876e-01  4.11351770e-02\n",
            "  -2.05893800e-01 -5.91526963e-02  7.98809901e-02  1.19449303e-03\n",
            "   1.64362535e-01  3.19004089e-01  1.00633882e-01  5.24153747e-03\n",
            "  -6.47046492e-02 -1.57937229e-01 -8.35367963e-02  2.24243209e-01\n",
            "   2.31703892e-01 -1.45846367e-01  1.00582413e-01  2.28258833e-01\n",
            "   8.74825120e-02 -6.47461340e-02 -7.52401426e-02 -7.65688941e-02\n",
            "  -1.43999562e-01 -9.66729298e-02  4.27123569e-02  1.59047559e-01\n",
            "  -3.19905668e-01 -1.05836516e-05  8.88312161e-02 -6.46913573e-02\n",
            "   1.81724001e-02  8.99192020e-02  1.36781350e-01  4.90066148e-02\n",
            "   2.31999353e-01  1.41494051e-02  1.03801675e-01 -4.09444831e-02\n",
            "   7.24504516e-02 -1.37848184e-01 -1.57095846e-02  1.36254191e-01\n",
            "   1.21930875e-01  3.95995788e-02  1.16823502e-01  7.97619577e-03\n",
            "   2.04767093e-01 -2.74033397e-01 -2.89439168e-02  2.86845803e-01\n",
            "   1.00382604e-01  4.81514484e-02  1.25336871e-01  6.61332086e-02\n",
            "   7.57527351e-02 -5.22200726e-02 -2.89912313e-01  1.83802590e-01\n",
            "   3.00068278e-02 -2.43354682e-02 -6.39213845e-02  1.15307994e-01\n",
            "  -2.17312858e-01  4.69537489e-02 -1.65262297e-01 -1.55126452e-01\n",
            "   1.04401698e-02  1.83597580e-01  1.89728796e-01  5.72036766e-02\n",
            "   1.07421307e-02 -1.34356126e-01 -6.87454641e-02  7.44351223e-02\n",
            "   2.05185875e-01  4.94260676e-02  6.39761984e-02 -3.79287861e-02\n",
            "   1.68611303e-01 -1.89745799e-01 -1.65240869e-01  1.05543993e-01\n",
            "  -1.23027802e-01  2.13023707e-01  5.57965226e-02 -1.37789965e-01\n",
            "  -1.28348932e-01 -2.85230880e-03 -1.53780952e-01  1.04103453e-01\n",
            "   3.78877781e-02 -8.95131826e-02 -3.46891910e-01 -8.26351568e-02]\n",
            " [-3.00669950e-02 -1.26506016e-01  1.93811134e-02 -1.36462422e-02\n",
            "   1.96015332e-02 -2.07891300e-01  1.19080804e-01  3.19061838e-02\n",
            "  -2.04442635e-01 -5.93191683e-02  7.87367001e-02 -8.58425919e-04\n",
            "   1.56878456e-01  3.22625726e-01  9.38979611e-02  6.34294329e-03\n",
            "  -6.66956902e-02 -1.55734077e-01 -8.04941282e-02  2.17003584e-01\n",
            "   2.29286805e-01 -1.47428468e-01  9.44858417e-02  2.23611996e-01\n",
            "   7.93149993e-02 -6.18761778e-02 -8.00997689e-02 -7.76365474e-02\n",
            "  -1.46075740e-01 -9.21778977e-02  3.49613689e-02  1.58818677e-01\n",
            "  -3.14394206e-01  1.15742453e-03  8.70887935e-02 -5.90985380e-02\n",
            "   1.87496264e-02  9.31651890e-02  1.26574591e-01  4.84917797e-02\n",
            "   2.33247831e-01  1.35482727e-02  1.04982711e-01 -3.13882567e-02\n",
            "   7.09703267e-02 -1.44124374e-01 -9.76283476e-03  1.28560141e-01\n",
            "   1.20473482e-01  4.05821241e-02  1.13894843e-01  1.07716536e-02\n",
            "   2.00759277e-01 -2.78547317e-01 -2.91773677e-02  2.82517225e-01\n",
            "   1.05095766e-01  4.42893691e-02  1.22119464e-01  5.88856079e-02\n",
            "   8.02314207e-02 -4.87776063e-02 -2.86605746e-01  1.83095351e-01\n",
            "   3.16477381e-02 -2.74992902e-02 -5.60067706e-02  1.16410770e-01\n",
            "  -2.14278921e-01  4.61662523e-02 -1.55392691e-01 -1.50617406e-01\n",
            "   3.55183706e-03  1.85601756e-01  1.89934418e-01  6.11334778e-02\n",
            "   3.12124006e-03 -1.37965396e-01 -7.16032013e-02  6.58917502e-02\n",
            "   2.07377195e-01  5.30010425e-02  6.85406998e-02 -4.08270396e-02\n",
            "   1.67363778e-01 -1.81729570e-01 -1.59703031e-01  9.79218408e-02\n",
            "  -1.26436755e-01  2.19440505e-01  5.14426492e-02 -1.38661981e-01\n",
            "  -1.25676826e-01 -4.46861191e-03 -1.57371879e-01  1.05101652e-01\n",
            "   4.25595343e-02 -8.22027996e-02 -3.41329366e-01 -8.71218815e-02]\n",
            " [-2.84057427e-02 -1.23353221e-01  2.96945814e-02 -1.98631808e-02\n",
            "   1.90615375e-02 -2.04342231e-01  1.15845144e-01  3.31705250e-02\n",
            "  -1.94352150e-01 -5.77528775e-02  7.00622126e-02  6.01587305e-03\n",
            "   1.47482455e-01  3.02709311e-01  9.52618048e-02  1.08406981e-02\n",
            "  -5.84604628e-02 -1.46087274e-01 -7.41620287e-02  2.05249071e-01\n",
            "   2.16321826e-01 -1.47513762e-01  9.01675299e-02  2.20936313e-01\n",
            "   7.76307657e-02 -6.36928752e-02 -8.11077282e-02 -7.35982358e-02\n",
            "  -1.29998937e-01 -9.23696756e-02  3.99651639e-02  1.45654336e-01\n",
            "  -3.07972312e-01 -1.22657642e-04  8.12344030e-02 -6.24471866e-02\n",
            "   1.64060090e-02  9.46465135e-02  1.26242101e-01  4.00460251e-02\n",
            "   2.26278409e-01  2.59574037e-03  9.67989266e-02 -4.01165746e-02\n",
            "   6.70524165e-02 -1.30713418e-01 -1.46976402e-02  1.30373061e-01\n",
            "   1.22388385e-01  3.51681523e-02  1.14305787e-01  1.07469819e-02\n",
            "   1.92574263e-01 -2.65809268e-01 -2.89994329e-02  2.73300618e-01\n",
            "   1.00430198e-01  3.91485654e-02  1.14462130e-01  6.40145168e-02\n",
            "   7.40914270e-02 -5.34390695e-02 -2.74334550e-01  1.76144019e-01\n",
            "   2.98273433e-02 -1.84198022e-02 -6.13092743e-02  1.07825696e-01\n",
            "  -2.08607420e-01  3.93399000e-02 -1.48265734e-01 -1.48170292e-01\n",
            "   1.01367617e-02  1.71848431e-01  1.84692368e-01  5.97855411e-02\n",
            "   2.79367808e-03 -1.36786819e-01 -6.76557198e-02  7.33442232e-02\n",
            "   1.96804658e-01  5.46008535e-02  6.33769929e-02 -3.45242061e-02\n",
            "   1.64282337e-01 -1.75203726e-01 -1.54378101e-01  9.77665111e-02\n",
            "  -1.24982454e-01  2.07875893e-01  5.70458658e-02 -1.34490952e-01\n",
            "  -1.20737456e-01 -1.09943030e-02 -1.53351128e-01  9.21330228e-02\n",
            "   3.75074483e-02 -8.39500800e-02 -3.24413925e-01 -8.56637433e-02]\n",
            " [-3.35474908e-02 -1.34668812e-01  2.26892401e-02 -1.71933305e-02\n",
            "   2.36856695e-02 -2.20114633e-01  1.18922569e-01  3.41758840e-02\n",
            "  -2.05944672e-01 -5.85040785e-02  8.50255191e-02  4.18152660e-03\n",
            "   1.61244020e-01  3.29515249e-01  9.99387279e-02  5.48320217e-03\n",
            "  -7.02532530e-02 -1.59929499e-01 -7.96272978e-02  2.26386413e-01\n",
            "   2.33626202e-01 -1.54709995e-01  1.01009540e-01  2.28516802e-01\n",
            "   8.98317620e-02 -7.05007985e-02 -8.23826268e-02 -7.47930408e-02\n",
            "  -1.43866584e-01 -9.88066718e-02  4.42232825e-02  1.52653828e-01\n",
            "  -3.29193085e-01 -6.38459669e-03  8.01265463e-02 -6.06560670e-02\n",
            "   1.18213156e-02  9.66053531e-02  1.36663422e-01  4.38200533e-02\n",
            "   2.28957281e-01  8.49695224e-03  1.02255799e-01 -3.84267829e-02\n",
            "   7.30029345e-02 -1.44848466e-01 -1.58661325e-02  1.31945238e-01\n",
            "   1.20756589e-01  4.17540967e-02  1.23295784e-01  1.42300362e-02\n",
            "   2.07192197e-01 -2.81987756e-01 -3.08413375e-02  2.87141532e-01\n",
            "   1.02581851e-01  4.09181155e-02  1.24245413e-01  6.53817728e-02\n",
            "   7.52890483e-02 -5.21005355e-02 -2.89393157e-01  1.83220625e-01\n",
            "   2.88058165e-02 -2.70867944e-02 -6.05558790e-02  1.14298128e-01\n",
            "  -2.13176325e-01  5.23911379e-02 -1.62890300e-01 -1.52872428e-01\n",
            "   1.30046876e-02  1.88696444e-01  1.88627139e-01  6.20978773e-02\n",
            "   4.00001695e-03 -1.38477340e-01 -7.36218169e-02  7.03736544e-02\n",
            "   2.05626592e-01  5.62769882e-02  7.15078413e-02 -3.82215045e-02\n",
            "   1.65672138e-01 -1.82891980e-01 -1.60645142e-01  1.07441209e-01\n",
            "  -1.29524603e-01  2.18002066e-01  5.14374040e-02 -1.41572967e-01\n",
            "  -1.22378230e-01 -8.44617467e-03 -1.54384479e-01  9.74592194e-02\n",
            "   3.92228924e-02 -8.34990740e-02 -3.43834251e-01 -8.14552605e-02]]\n"
          ]
        }
      ]
    },
    {
      "cell_type": "code",
      "source": [
        "# Document representation for the text\n",
        "corpus_w2v_neg =[[model_neg.wv[word] for char in word if char in model_neg.wv.vocab.keys()] for word in corpus_gen_neg]\n",
        "positive=[i for i in range(len(corpus_gen_neg)) if len(corpus_w2v_neg[i])>0]\n",
        "\n",
        "corpus_w2v2_neg=[corpus_w2v_neg[i] for i in positive]\n",
        "\n",
        "# Document average representation\n",
        "corpus_w2v_avg_clean_neg=[sum(char)/len(char) for char in corpus_w2v2_neg]\n",
        "\n",
        "# This corpus can be used later in clustering and classification tasks\n",
        "print(corpus_w2v_avg_clean_neg[0])"
      ],
      "metadata": {
        "colab": {
          "base_uri": "https://localhost:8080/"
        },
        "id": "RuR3WF4sDKTR",
        "outputId": "2a6bb096-bf01-4280-9ab3-5b616497c68d"
      },
      "execution_count": 70,
      "outputs": [
        {
          "output_type": "stream",
          "name": "stdout",
          "text": [
            "[[-1.12494000e-03 -2.69405860e-02  1.75909773e-02  4.52648848e-03\n",
            "   1.13479625e-02 -1.43309403e-02  5.18551469e-03  2.62669870e-03\n",
            "  -2.33001132e-02 -8.81574582e-03 -5.49490238e-03  1.09322520e-03\n",
            "   1.62290465e-02  1.76630244e-02 -2.15395004e-03  6.00490253e-03\n",
            "   5.08754654e-03 -2.18246970e-02 -1.11888042e-02  1.23374974e-02\n",
            "   2.44373567e-02 -2.80620921e-02  1.99503843e-02  1.32283112e-02\n",
            "   1.21538143e-03 -1.62248332e-02 -1.55737977e-02 -4.06116853e-03\n",
            "  -9.96320602e-03 -1.29411239e-02  1.20704537e-02  1.82059016e-02\n",
            "  -2.44697165e-02  9.02244879e-04  2.20975149e-02  3.94856138e-03\n",
            "   4.79895994e-03  1.47108501e-02  1.71327237e-02 -5.47658419e-06\n",
            "   1.53674260e-02  1.39608961e-02  1.24105448e-02 -6.81146653e-03\n",
            "   9.96617507e-03 -2.01302227e-02 -2.93654995e-03  1.62106324e-02\n",
            "   1.28056575e-02  9.89957061e-03  5.34063997e-03  2.59411219e-03\n",
            "   1.95344780e-02 -2.81301569e-02 -4.00986383e-03  1.96244847e-02\n",
            "   3.34235257e-03  7.49991043e-03  1.05079608e-02 -4.07653628e-03\n",
            "   5.93114737e-03  2.36310321e-03 -1.85969342e-02  2.37187147e-02\n",
            "   7.85425212e-03 -5.39132906e-03 -1.75364297e-02  2.65492155e-04\n",
            "  -2.82296576e-02 -2.79955589e-03 -7.94323906e-03 -1.15784686e-02\n",
            "   1.53140593e-02  1.70880109e-02  5.99764986e-03  1.40789589e-02\n",
            "   5.87079301e-03 -3.76719586e-03 -1.26547609e-02  1.56025961e-02\n",
            "   1.98312420e-02 -1.49803224e-03 -2.92033539e-03 -5.76997548e-03\n",
            "   8.68950877e-03 -1.45371556e-02 -1.81330051e-02  1.24023845e-02\n",
            "  -1.26603683e-02  2.19885390e-02  3.06918984e-03 -2.18338873e-02\n",
            "  -1.28628463e-02 -7.04773935e-03 -1.11645740e-02 -6.72677474e-04\n",
            "   4.16093552e-03 -5.39078936e-03 -3.55599374e-02 -3.48187983e-03]\n",
            " [-3.02845109e-02 -2.34677166e-01  1.35550678e-01  5.86427413e-02\n",
            "   6.42960146e-02 -1.78864121e-01  7.80226067e-02  7.76915625e-02\n",
            "  -2.72634536e-01 -5.93402460e-02 -4.03065495e-02  4.14667986e-02\n",
            "   1.17982619e-01  2.05515161e-01  1.81742217e-02  6.26754835e-02\n",
            "   3.23838145e-02 -1.69813037e-01 -8.54403973e-02  1.30766287e-01\n",
            "   2.14364305e-01 -2.69454509e-01  2.14657441e-01  1.66374326e-01\n",
            "   2.84281354e-02 -1.95718184e-01 -1.28155217e-01 -1.85691137e-02\n",
            "  -8.30659345e-02 -1.23017319e-01  1.39772311e-01  1.38928533e-01\n",
            "  -2.55180448e-01 -2.79071629e-02  1.93452343e-01  9.44744889e-03\n",
            "   4.10862379e-02  1.39382854e-01  1.22630939e-01 -4.58593331e-02\n",
            "   1.61267981e-01  9.99311730e-02  7.64286742e-02 -5.41930720e-02\n",
            "   1.26571313e-01 -1.88505262e-01 -3.66229452e-02  1.15233369e-01\n",
            "   1.25130787e-01  5.00028767e-02  2.90836059e-02  3.03486325e-02\n",
            "   2.03999966e-01 -2.84979224e-01 -5.48148900e-03  2.16359019e-01\n",
            "   5.71570322e-02  1.12148926e-01  1.20284967e-01  1.00307239e-04\n",
            "   8.95051807e-02 -2.31240373e-02 -1.79419741e-01  2.20564216e-01\n",
            "   8.15631375e-02 -1.53615708e-02 -1.40300885e-01  3.86282168e-02\n",
            "  -2.65893728e-01 -6.26855567e-02 -1.06889658e-01 -1.44321546e-01\n",
            "   1.07284136e-01  1.53274789e-01  4.85784970e-02  1.08958021e-01\n",
            "   1.05752811e-01 -4.78291288e-02 -8.80317017e-02  1.04967289e-01\n",
            "   2.01100469e-01  3.01678162e-02 -2.95910873e-02 -7.81241134e-02\n",
            "   9.76612940e-02 -1.46311179e-01 -1.75225973e-01  1.27862051e-01\n",
            "  -1.38491884e-01  1.90328106e-01 -1.25660580e-02 -1.64000377e-01\n",
            "  -8.69452432e-02 -7.28722438e-02 -1.16059609e-01  9.64547787e-03\n",
            "   5.96456649e-03 -6.14951132e-03 -3.08202475e-01 -8.09399858e-02]\n",
            " [-2.62088887e-02 -2.16003671e-01  1.29208744e-01  6.37382045e-02\n",
            "   6.05051890e-02 -1.68936878e-01  6.47686720e-02  7.08453432e-02\n",
            "  -2.52079040e-01 -5.39719127e-02 -3.15088443e-02  3.47459950e-02\n",
            "   1.12942152e-01  1.96212426e-01  1.54916933e-02  5.81200682e-02\n",
            "   3.01694237e-02 -1.62880912e-01 -7.80073404e-02  1.26508936e-01\n",
            "   2.05577865e-01 -2.46605411e-01  1.99832842e-01  1.63992092e-01\n",
            "   3.45249623e-02 -1.77685648e-01 -1.18926533e-01 -1.78143587e-02\n",
            "  -8.15580413e-02 -1.17566839e-01  1.34418443e-01  1.32409528e-01\n",
            "  -2.40459561e-01 -2.40588207e-02  1.77193478e-01  1.93797890e-03\n",
            "   3.94147225e-02  1.26543716e-01  1.17113829e-01 -3.92326377e-02\n",
            "   1.61303163e-01  9.28002670e-02  7.55898878e-02 -5.85725568e-02\n",
            "   1.17423847e-01 -1.79657906e-01 -3.49402539e-02  1.10800996e-01\n",
            "   1.23620205e-01  4.28792462e-02  2.70351749e-02  2.32256167e-02\n",
            "   1.96998850e-01 -2.65674561e-01 -1.16553837e-02  2.07014099e-01\n",
            "   4.91656922e-02  1.16375625e-01  1.13330074e-01  7.50129996e-03\n",
            "   8.57619569e-02 -2.17079688e-02 -1.77806020e-01  2.08225146e-01\n",
            "   6.76700249e-02 -5.14894025e-03 -1.30354092e-01  3.43255810e-02\n",
            "  -2.52949506e-01 -5.35841361e-02 -1.04168542e-01 -1.40624106e-01\n",
            "   9.89739820e-02  1.54982194e-01  5.09000719e-02  8.79876614e-02\n",
            "   9.33403969e-02 -5.37421405e-02 -7.83242807e-02  9.91957337e-02\n",
            "   1.85966417e-01  2.49710996e-02 -2.14441288e-02 -7.54768476e-02\n",
            "   9.25517678e-02 -1.36649027e-01 -1.61044404e-01  1.20199904e-01\n",
            "  -1.29937068e-01  1.78605065e-01 -5.23977308e-03 -1.52126208e-01\n",
            "  -8.89036730e-02 -6.33659437e-02 -1.16331890e-01  1.03894630e-02\n",
            "   3.56298708e-03 -1.05096539e-02 -2.87887007e-01 -7.58679435e-02]\n",
            " [-3.55965495e-02 -2.23279983e-01  1.31571278e-01  6.09427616e-02\n",
            "   6.70031384e-02 -1.71890736e-01  7.49072805e-02  7.11653605e-02\n",
            "  -2.61841089e-01 -6.24580309e-02 -4.30985913e-02  3.22934799e-02\n",
            "   1.06308825e-01  1.92636475e-01  1.20994356e-02  6.26554564e-02\n",
            "   3.49099524e-02 -1.66791350e-01 -8.21570978e-02  1.15912303e-01\n",
            "   2.07248956e-01 -2.57938176e-01  2.09095687e-01  1.59501061e-01\n",
            "   3.08581106e-02 -1.88924581e-01 -1.33791998e-01 -1.53230941e-02\n",
            "  -8.24285671e-02 -1.21629417e-01  1.37545720e-01  1.36826470e-01\n",
            "  -2.43123889e-01 -2.55706571e-02  1.87817693e-01  2.24045129e-03\n",
            "   4.03776728e-02  1.38246283e-01  1.11638136e-01 -4.54362296e-02\n",
            "   1.58497915e-01  9.52589586e-02  7.80185461e-02 -6.41695932e-02\n",
            "   1.19959779e-01 -1.83203727e-01 -3.19829769e-02  1.07114539e-01\n",
            "   1.20974831e-01  4.20153476e-02  2.45119948e-02  2.65262108e-02\n",
            "   1.92857996e-01 -2.70648330e-01  1.65069636e-04  1.98678285e-01\n",
            "   4.40362692e-02  1.15282431e-01  1.16056666e-01  2.44411430e-03\n",
            "   8.84747580e-02 -2.16731839e-02 -1.70455799e-01  2.12822184e-01\n",
            "   8.12582746e-02 -1.06981546e-02 -1.36273012e-01  3.33973765e-02\n",
            "  -2.50436455e-01 -6.41196147e-02 -1.07726566e-01 -1.39796123e-01\n",
            "   1.09550357e-01  1.49325475e-01  4.18465696e-02  1.04618676e-01\n",
            "   1.00579210e-01 -5.01199700e-02 -8.93207639e-02  9.92287397e-02\n",
            "   1.89397708e-01  2.60542501e-02 -2.85923965e-02 -7.83381090e-02\n",
            "   8.69072229e-02 -1.41484663e-01 -1.67659521e-01  1.30133316e-01\n",
            "  -1.30083904e-01  1.82122797e-01 -2.04724651e-02 -1.61138549e-01\n",
            "  -8.61063078e-02 -7.57959485e-02 -1.18230514e-01  1.33301527e-03\n",
            "   7.68207596e-04 -7.18674110e-03 -2.83900350e-01 -7.53258988e-02]\n",
            " [-2.89666913e-02 -2.06741676e-01  1.25991106e-01  6.34315833e-02\n",
            "   6.65911362e-02 -1.62413165e-01  6.91266581e-02  6.52210042e-02\n",
            "  -2.48467192e-01 -4.73249219e-02 -2.98672896e-02  3.88542414e-02\n",
            "   1.06050916e-01  1.91326156e-01  1.56258047e-02  5.19323125e-02\n",
            "   3.14981453e-02 -1.57973930e-01 -7.06149861e-02  1.24445312e-01\n",
            "   2.05577582e-01 -2.44275942e-01  2.01998487e-01  1.57266274e-01\n",
            "   2.98078377e-02 -1.78568199e-01 -1.17245786e-01 -8.09460599e-03\n",
            "  -7.85716698e-02 -1.17388435e-01  1.28096595e-01  1.22501202e-01\n",
            "  -2.30556488e-01 -1.69455241e-02  1.78291529e-01  5.19680930e-03\n",
            "   3.49130034e-02  1.19808599e-01  1.19320266e-01 -4.09171917e-02\n",
            "   1.56780347e-01  9.57646891e-02  6.83425292e-02 -5.43051064e-02\n",
            "   1.22917876e-01 -1.75308943e-01 -3.78521048e-02  1.12317853e-01\n",
            "   1.18905172e-01  4.63831685e-02  3.28237154e-02  2.88913567e-02\n",
            "   1.84812292e-01 -2.47211188e-01 -4.22582589e-03  1.97037712e-01\n",
            "   5.32293618e-02  1.04818292e-01  1.11138530e-01  9.79513512e-04\n",
            "   8.55226517e-02 -1.13456855e-02 -1.69615850e-01  2.02540144e-01\n",
            "   6.76908419e-02 -8.76169559e-03 -1.30936369e-01  3.54201831e-02\n",
            "  -2.46873647e-01 -5.70837930e-02 -1.05492696e-01 -1.39626727e-01\n",
            "   1.04045093e-01  1.44243523e-01  4.00175713e-02  8.93762037e-02\n",
            "   9.28385407e-02 -4.97024916e-02 -7.42582679e-02  1.06066771e-01\n",
            "   1.79196730e-01  3.31397988e-02 -2.05988120e-02 -7.07979202e-02\n",
            "   9.05086473e-02 -1.35308400e-01 -1.52945384e-01  1.22614793e-01\n",
            "  -1.27086803e-01  1.71367779e-01 -5.03399735e-03 -1.44749299e-01\n",
            "  -8.52024481e-02 -6.87639490e-02 -1.08067527e-01  1.04214111e-02\n",
            "  -1.00027183e-02 -1.15487073e-02 -2.83569574e-01 -7.40123466e-02]\n",
            " [-3.69363241e-02 -2.21399814e-01  1.26493454e-01  5.09768501e-02\n",
            "   6.29320368e-02 -1.75324529e-01  8.03148672e-02  7.53815398e-02\n",
            "  -2.57651329e-01 -6.16735294e-02 -3.54809500e-02  3.01314909e-02\n",
            "   1.10538602e-01  2.05485806e-01  1.80600192e-02  5.53018488e-02\n",
            "   2.94428915e-02 -1.70068830e-01 -7.80886784e-02  1.22754022e-01\n",
            "   2.14265823e-01 -2.56125003e-01  2.03268856e-01  1.54047608e-01\n",
            "   2.97806878e-02 -1.81818947e-01 -1.30861402e-01 -1.99278537e-02\n",
            "  -8.05115178e-02 -1.14559837e-01  1.27154887e-01  1.41571507e-01\n",
            "  -2.48403922e-01 -2.07448453e-02  1.91654280e-01  1.91723288e-03\n",
            "   4.09065187e-02  1.33953199e-01  1.18505187e-01 -3.97786796e-02\n",
            "   1.62644669e-01  9.23526287e-02  7.35065863e-02 -6.39119744e-02\n",
            "   1.17593043e-01 -1.85674533e-01 -3.38541009e-02  1.11253619e-01\n",
            "   1.15892366e-01  4.86527123e-02  3.45163383e-02  3.05721164e-02\n",
            "   1.88990101e-01 -2.72533923e-01  2.41319626e-03  2.01165542e-01\n",
            "   5.12107573e-02  1.05489604e-01  1.20145932e-01  1.58302754e-03\n",
            "   8.94823149e-02 -1.49458433e-02 -1.81611270e-01  2.10096464e-01\n",
            "   8.23475793e-02 -1.73011441e-02 -1.37033999e-01  4.39013503e-02\n",
            "  -2.46236563e-01 -6.11779168e-02 -1.12352714e-01 -1.41083196e-01\n",
            "   1.03803053e-01  1.43557206e-01  4.91476320e-02  1.11077122e-01\n",
            "   1.03115968e-01 -5.49157523e-02 -9.17950720e-02  1.02745995e-01\n",
            "   1.98898524e-01  2.97046285e-02 -1.54566253e-02 -7.37378076e-02\n",
            "   9.19011682e-02 -1.50186703e-01 -1.76961109e-01  1.33236572e-01\n",
            "  -1.33128121e-01  1.77942857e-01 -2.12215036e-02 -1.62064150e-01\n",
            "  -9.12605450e-02 -7.93045089e-02 -1.17568962e-01  9.62565746e-03\n",
            "   2.36266735e-03 -1.20346984e-02 -3.00335675e-01 -7.30263516e-02]\n",
            " [-2.75989901e-02 -2.11312994e-01  1.17477290e-01  6.15422763e-02\n",
            "   6.39903620e-02 -1.64689943e-01  6.48481473e-02  6.00863770e-02\n",
            "  -2.39566952e-01 -4.66079377e-02 -2.62251478e-02  4.21706475e-02\n",
            "   1.05934858e-01  1.88855678e-01  1.59504954e-02  5.72098158e-02\n",
            "   2.60404982e-02 -1.60562858e-01 -7.43389502e-02  1.22955739e-01\n",
            "   1.96456447e-01 -2.47404605e-01  1.92167625e-01  1.52982220e-01\n",
            "   2.91398950e-02 -1.70984492e-01 -1.13202035e-01 -8.36565346e-03\n",
            "  -7.49359950e-02 -1.17278986e-01  1.23646446e-01  1.23067185e-01\n",
            "  -2.26208553e-01 -2.13189125e-02  1.65797964e-01  1.15896354e-03\n",
            "   3.53477858e-02  1.24963030e-01  1.18921772e-01 -4.37868796e-02\n",
            "   1.55118704e-01  9.06108618e-02  6.53375611e-02 -5.16418740e-02\n",
            "   1.13418408e-01 -1.69239879e-01 -4.29837629e-02  1.12523325e-01\n",
            "   1.13624826e-01  5.06241694e-02  3.01626753e-02  2.50154324e-02\n",
            "   1.83246866e-01 -2.53888875e-01 -8.80880374e-03  1.99200660e-01\n",
            "   5.34683540e-02  1.05089359e-01  1.06506951e-01  2.49319035e-03\n",
            "   8.69197845e-02 -1.58806834e-02 -1.61075488e-01  1.97826415e-01\n",
            "   6.09954558e-02 -9.97745898e-03 -1.31925777e-01  3.57540548e-02\n",
            "  -2.39018947e-01 -4.97243367e-02 -9.44809243e-02 -1.35325029e-01\n",
            "   9.10292938e-02  1.48622587e-01  4.21929397e-02  9.33424160e-02\n",
            "   9.30764601e-02 -4.69238795e-02 -7.28762969e-02  1.04978971e-01\n",
            "   1.80810913e-01  2.57039350e-02 -2.44679283e-02 -6.42458126e-02\n",
            "   8.36073533e-02 -1.34602085e-01 -1.57056019e-01  1.14365399e-01\n",
            "  -1.28616869e-01  1.70058325e-01 -4.86966642e-03 -1.44969121e-01\n",
            "  -7.54850581e-02 -6.09117225e-02 -1.05461054e-01  2.84756487e-03\n",
            "   2.81824800e-03 -9.53213219e-03 -2.75401831e-01 -6.90426305e-02]]\n"
          ]
        }
      ]
    },
    {
      "cell_type": "markdown",
      "source": [
        "5. Compute the similarity between these two vectors and a few selected reviews. Does it agree with their label?"
      ],
      "metadata": {
        "id": "GqGhea0VHMvT"
      }
    },
    {
      "cell_type": "code",
      "source": [
        ""
      ],
      "metadata": {
        "id": "moUGyzblHON0"
      },
      "execution_count": null,
      "outputs": []
    }
  ],
  "metadata": {
    "colab": {
      "name": "NL_Class5_HW.ipynb",
      "provenance": [],
      "collapsed_sections": [],
      "include_colab_link": true
    },
    "kernelspec": {
      "display_name": "Python 3",
      "language": "python",
      "name": "python3"
    },
    "language_info": {
      "codemirror_mode": {
        "name": "ipython",
        "version": 3
      },
      "file_extension": ".py",
      "mimetype": "text/x-python",
      "name": "python",
      "nbconvert_exporter": "python",
      "pygments_lexer": "ipython3",
      "version": "3.8.3"
    }
  },
  "nbformat": 4,
  "nbformat_minor": 0
}