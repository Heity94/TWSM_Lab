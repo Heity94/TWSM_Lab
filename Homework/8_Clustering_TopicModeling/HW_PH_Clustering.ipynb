{
 "cells": [
  {
   "cell_type": "markdown",
   "metadata": {
    "toc": true
   },
   "source": [
    "<h1>Table of Contents<span class=\"tocSkip\"></span></h1>\n",
    "<div class=\"toc\"><ul class=\"toc-item\"><li><span><a href=\"#Part-A\" data-toc-modified-id=\"Part-A-1\"><span class=\"toc-item-num\">1&nbsp;&nbsp;</span>Part A</a></span></li><li><span><a href=\"#Part-B\" data-toc-modified-id=\"Part-B-2\"><span class=\"toc-item-num\">2&nbsp;&nbsp;</span>Part B</a></span></li><li><span><a href=\"#Part-C\" data-toc-modified-id=\"Part-C-3\"><span class=\"toc-item-num\">3&nbsp;&nbsp;</span>Part C</a></span></li></ul></div>"
   ]
  },
  {
   "cell_type": "markdown",
   "metadata": {},
   "source": [
    "# Homework - Exercise 6 Text Clustering"
   ]
  },
  {
   "cell_type": "markdown",
   "metadata": {},
   "source": [
    "## Part A"
   ]
  },
  {
   "cell_type": "code",
   "execution_count": 1,
   "metadata": {},
   "outputs": [],
   "source": [
    "import numpy as np\n",
    "import pandas as pd\n",
    "from seaborn import heatmap \n",
    "from sklearn.feature_extraction.text import TfidfVectorizer\n",
    "from sklearn.cluster import KMeans\n",
    "from sklearn.metrics import classification_report\n",
    "import matplotlib.pyplot as plt\n",
    "from gensim import corpora, models\n",
    "from pyLDAvis.gensim_models import prepare\n",
    "import pickle\n",
    "import pyLDAvis"
   ]
  },
  {
   "cell_type": "code",
   "execution_count": 37,
   "metadata": {},
   "outputs": [],
   "source": [
    "df = pd.read_json(\"https://raw.githubusercontent.com/selva86/datasets/master/newsgroups.json\")"
   ]
  },
  {
   "cell_type": "code",
   "execution_count": 38,
   "metadata": {},
   "outputs": [],
   "source": [
    "with open(\"../../data/data_stemmed.pkl\", \"rb\") as input_file:\n",
    "    df[\"preprocessed\"] = pickle.load(input_file)"
   ]
  },
  {
   "cell_type": "code",
   "execution_count": 39,
   "metadata": {},
   "outputs": [
    {
     "data": {
      "text/html": [
       "<div>\n",
       "<style scoped>\n",
       "    .dataframe tbody tr th:only-of-type {\n",
       "        vertical-align: middle;\n",
       "    }\n",
       "\n",
       "    .dataframe tbody tr th {\n",
       "        vertical-align: top;\n",
       "    }\n",
       "\n",
       "    .dataframe thead th {\n",
       "        text-align: right;\n",
       "    }\n",
       "</style>\n",
       "<table border=\"1\" class=\"dataframe\">\n",
       "  <thead>\n",
       "    <tr style=\"text-align: right;\">\n",
       "      <th></th>\n",
       "      <th>content</th>\n",
       "      <th>target</th>\n",
       "      <th>target_names</th>\n",
       "      <th>preprocessed</th>\n",
       "    </tr>\n",
       "  </thead>\n",
       "  <tbody>\n",
       "    <tr>\n",
       "      <th>0</th>\n",
       "      <td>From: lerxst@wam.umd.edu (where's my thing)\\nS...</td>\n",
       "      <td>7</td>\n",
       "      <td>rec.autos</td>\n",
       "      <td>car wonder enlighten car saw dai door sport ca...</td>\n",
       "    </tr>\n",
       "    <tr>\n",
       "      <th>1</th>\n",
       "      <td>From: guykuo@carson.u.washington.edu (Guy Kuo)...</td>\n",
       "      <td>4</td>\n",
       "      <td>comp.sys.mac.hardware</td>\n",
       "      <td>clock poll final final clock report acceler cl...</td>\n",
       "    </tr>\n",
       "  </tbody>\n",
       "</table>\n",
       "</div>"
      ],
      "text/plain": [
       "                                             content  target  \\\n",
       "0  From: lerxst@wam.umd.edu (where's my thing)\\nS...       7   \n",
       "1  From: guykuo@carson.u.washington.edu (Guy Kuo)...       4   \n",
       "\n",
       "            target_names                                       preprocessed  \n",
       "0              rec.autos  car wonder enlighten car saw dai door sport ca...  \n",
       "1  comp.sys.mac.hardware  clock poll final final clock report acceler cl...  "
      ]
     },
     "execution_count": 39,
     "metadata": {},
     "output_type": "execute_result"
    }
   ],
   "source": [
    "df.head(2)"
   ]
  },
  {
   "cell_type": "code",
   "execution_count": 40,
   "metadata": {},
   "outputs": [],
   "source": [
    "# Filter for topics\n",
    "topics = ['soc.religion.christian', 'rec.sport.hockey', 'talk.politics.mideast', 'rec.motorcycles']\n",
    "df = df.loc[df.target_names.isin(topics),:]"
   ]
  },
  {
   "cell_type": "code",
   "execution_count": 42,
   "metadata": {},
   "outputs": [],
   "source": [
    "#Store the frequency matrix in data_tfidf\n",
    "tfidf_vectorizer = TfidfVectorizer(max_df=0.7, min_df=0.1)\n",
    "data_tfidf = tfidf_vectorizer.fit_transform(df.preprocessed)"
   ]
  },
  {
   "cell_type": "code",
   "execution_count": 43,
   "metadata": {},
   "outputs": [],
   "source": [
    "#Store the feature names in a words list\n",
    "words = tfidf_vectorizer.get_feature_names_out()"
   ]
  },
  {
   "cell_type": "markdown",
   "metadata": {},
   "source": [
    "## Part B"
   ]
  },
  {
   "cell_type": "code",
   "execution_count": 44,
   "metadata": {},
   "outputs": [
    {
     "data": {
      "text/plain": [
       "KMeans(max_iter=1000, n_clusters=4, random_state=42)"
      ]
     },
     "execution_count": 44,
     "metadata": {},
     "output_type": "execute_result"
    }
   ],
   "source": [
    "kmeans = KMeans(n_clusters = 4, max_iter=1000, random_state=42)\n",
    "kmeans.fit(data_tfidf)"
   ]
  },
  {
   "cell_type": "markdown",
   "metadata": {},
   "source": [
    "What are we trying to achieve with this method?\n",
    "- Cluster the tdif_data of the newsgroups post into 4 clusters using kMeans"
   ]
  },
  {
   "cell_type": "code",
   "execution_count": 45,
   "metadata": {},
   "outputs": [],
   "source": [
    "# Get index of 10 words which are at the cluster center\n",
    "common_words = kmeans.cluster_centers_.argsort()[:,-1:-11:-1]"
   ]
  },
  {
   "cell_type": "code",
   "execution_count": 46,
   "metadata": {},
   "outputs": [
    {
     "name": "stdout",
     "output_type": "stream",
     "text": [
      "0 : god, christian, believ, peopl, edu, think, know, question, rutger, mean\n",
      "1 : edu, israel, write, peopl, articl, post, new, know, time, like\n",
      "2 : bike, com, dod, articl, write, edu, like, apr, good, post\n",
      "3 : game, team, plai, hockei, edu, year, write, new, think, time\n"
     ]
    }
   ],
   "source": [
    "for num, centroid in enumerate(common_words):\n",
    "    print(str(num) + ' : ' + ', '.join(words[word] for word in centroid))"
   ]
  },
  {
   "cell_type": "code",
   "execution_count": 48,
   "metadata": {},
   "outputs": [],
   "source": [
    "df[\"cluster\"] = kmeans.labels_"
   ]
  },
  {
   "cell_type": "code",
   "execution_count": 49,
   "metadata": {},
   "outputs": [
    {
     "data": {
      "image/png": "[encoded data removed]",
      "text/plain": [
       "<Figure size 1872x1080 with 2 Axes>"
      ]
     },
     "metadata": {
      "needs_background": "light"
     },
     "output_type": "display_data"
    }
   ],
   "source": [
    "clusters = df.groupby(['cluster', 'target_names']).size()\n",
    "fig, ax1 = plt.subplots(figsize = (26, 15))\n",
    "heatmap(clusters.unstack(level = 'target_names'), ax = ax1, cmap = 'Reds')\n",
    "ax1.set_xlabel('target_names').set_size(18)\n",
    "ax1.set_ylabel('cluster').set_size(18)"
   ]
  },
  {
   "cell_type": "markdown",
   "metadata": {},
   "source": [
    "Overall the heatmap confirms our clustering, since most of the postings wer category where correctly classified, but especially cluster 1 seems to be to \"broad\" so that a conisderable amount of postings from the other targets are assigned to it."
   ]
  },
  {
   "cell_type": "markdown",
   "metadata": {},
   "source": [
    "Add a column pred to the data frame setting its values to the target you would expect in 4. i.e. if you think that cluster 0 should correspond to topic rec.motorcycles, then all datapoints with df['cluster']==0 would get pred set to 8.\n"
   ]
  },
  {
   "cell_type": "code",
   "execution_count": 63,
   "metadata": {},
   "outputs": [],
   "source": [
    "# Dictonary to map clusert_id to target_id\n",
    "mapping = {0: 15, 1:17, 2:8, 3:10}"
   ]
  },
  {
   "cell_type": "code",
   "execution_count": 64,
   "metadata": {},
   "outputs": [],
   "source": [
    "df[\"pred\"] = df.cluster.apply(lambda x: mapping[x])"
   ]
  },
  {
   "cell_type": "code",
   "execution_count": 65,
   "metadata": {},
   "outputs": [
    {
     "name": "stdout",
     "output_type": "stream",
     "text": [
      "              precision    recall  f1-score   support\n",
      "\n",
      "           8       0.91      0.68      0.78       598\n",
      "          10       0.97      0.71      0.83       600\n",
      "          15       0.97      0.66      0.78       599\n",
      "          17       0.50      0.95      0.65       564\n",
      "\n",
      "    accuracy                           0.75      2361\n",
      "   macro avg       0.84      0.75      0.76      2361\n",
      "weighted avg       0.85      0.75      0.76      2361\n",
      "\n"
     ]
    }
   ],
   "source": [
    "print(classification_report(df.target, df.pred))"
   ]
  },
  {
   "cell_type": "markdown",
   "metadata": {},
   "source": [
    "## Part C"
   ]
  },
  {
   "cell_type": "code",
   "execution_count": 79,
   "metadata": {},
   "outputs": [],
   "source": [
    "list_words = [sentence.split() for sentence in df.preprocessed]\n",
    "dictionary = corpora.Dictionary(list_words)"
   ]
  },
  {
   "cell_type": "code",
   "execution_count": 80,
   "metadata": {},
   "outputs": [],
   "source": [
    "dictionary.filter_extremes(no_below=118, no_above=0.95)"
   ]
  },
  {
   "cell_type": "code",
   "execution_count": 81,
   "metadata": {},
   "outputs": [],
   "source": [
    "corpus = [dictionary.doc2bow(doc) for doc in list_words]"
   ]
  },
  {
   "cell_type": "code",
   "execution_count": 83,
   "metadata": {},
   "outputs": [],
   "source": [
    "lda = models.LdaModel(corpus, num_topics=4, id2word=dictionary, chunksize=10, \n",
    "                      iterations=100, passes=10, random_state=42)"
   ]
  },
  {
   "cell_type": "code",
   "execution_count": 93,
   "metadata": {},
   "outputs": [
    {
     "data": {
      "text/plain": [
       "[(0, '0.058*\"edu\" + 0.039*\"write\" + 0.029*\"articl\" + 0.027*\"like\" + 0.027*\"com\" + 0.022*\"post\" + 0.021*\"time\" + 0.020*\"think\" + 0.018*\"apr\" + 0.016*\"good\"'), (1, '0.070*\"team\" + 0.050*\"game\" + 0.048*\"hockei\" + 0.035*\"plai\" + 0.029*\"armenian\" + 0.029*\"year\" + 0.027*\"win\" + 0.027*\"wing\" + 0.027*\"turkish\" + 0.025*\"nhl\"'), (2, '0.053*\"god\" + 0.043*\"peopl\" + 0.036*\"know\" + 0.028*\"christian\" + 0.027*\"believ\" + 0.023*\"reason\" + 0.020*\"wai\" + 0.018*\"evid\" + 0.016*\"jesu\" + 0.016*\"come\"'), (3, '0.070*\"israel\" + 0.052*\"isra\" + 0.040*\"jew\" + 0.039*\"state\" + 0.033*\"kill\" + 0.032*\"arab\" + 0.029*\"war\" + 0.027*\"attack\" + 0.026*\"govern\" + 0.026*\"public\"')]"
      ]
     },
     "execution_count": 93,
     "metadata": {},
     "output_type": "execute_result"
    }
   ],
   "source": [
    "lda.show_topics()"
   ]
  },
  {
   "cell_type": "markdown",
   "metadata": {},
   "source": [
    "Assign to each topic one target from the dataset similar to Question 4."
   ]
  },
  {
   "cell_type": "code",
   "execution_count": 88,
   "metadata": {},
   "outputs": [],
   "source": [
    "topics=lda[corpus]\n",
    "df['topics_lda']= [max(topics[i],key=lambda item:item[1])[0] for i in range(len(topics))]"
   ]
  },
  {
   "cell_type": "code",
   "execution_count": 96,
   "metadata": {},
   "outputs": [
    {
     "data": {
      "image/png": "[encoded data removed]",
      "text/plain": [
       "<Figure size 432x288 with 2 Axes>"
      ]
     },
     "metadata": {
      "needs_background": "light"
     },
     "output_type": "display_data"
    }
   ],
   "source": [
    "clusters = df.groupby(['topics_lda', 'target_names']).size()\n",
    "fig, ax1 = plt.subplots()\n",
    "heatmap(clusters.unstack(level = 'target_names'), ax = ax1, cmap = 'Reds')\n",
    "ax1.set_xlabel('target_names').set_size(18)\n",
    "ax1.set_ylabel('topics_lda').set_size(18)"
   ]
  },
  {
   "cell_type": "code",
   "execution_count": 97,
   "metadata": {},
   "outputs": [
    {
     "data": {
      "text/html": [
       "<div>\n",
       "<style scoped>\n",
       "    .dataframe tbody tr th:only-of-type {\n",
       "        vertical-align: middle;\n",
       "    }\n",
       "\n",
       "    .dataframe tbody tr th {\n",
       "        vertical-align: top;\n",
       "    }\n",
       "\n",
       "    .dataframe thead th {\n",
       "        text-align: right;\n",
       "    }\n",
       "</style>\n",
       "<table border=\"1\" class=\"dataframe\">\n",
       "  <thead>\n",
       "    <tr style=\"text-align: right;\">\n",
       "      <th></th>\n",
       "      <th>content</th>\n",
       "      <th>target</th>\n",
       "      <th>target_names</th>\n",
       "      <th>preprocessed</th>\n",
       "      <th>cluster</th>\n",
       "      <th>pred</th>\n",
       "      <th>topics_lda</th>\n",
       "    </tr>\n",
       "  </thead>\n",
       "  <tbody>\n",
       "    <tr>\n",
       "      <th>10</th>\n",
       "      <td>From: irwin@cmptrc.lonestar.org (Irwin Arnstei...</td>\n",
       "      <td>8</td>\n",
       "      <td>rec.motorcycles</td>\n",
       "      <td>recommend duc worth ducati gt line ducati gt m...</td>\n",
       "      <td>2</td>\n",
       "      <td>8</td>\n",
       "      <td>0</td>\n",
       "    </tr>\n",
       "    <tr>\n",
       "      <th>21</th>\n",
       "      <td>From: leunggm@odin.control.utoronto.ca (Gary L...</td>\n",
       "      <td>10</td>\n",
       "      <td>rec.sport.hockey</td>\n",
       "      <td>nhl team captain articl apr samba oit unc edu ...</td>\n",
       "      <td>3</td>\n",
       "      <td>10</td>\n",
       "      <td>0</td>\n",
       "    </tr>\n",
       "    <tr>\n",
       "      <th>28</th>\n",
       "      <td>From: jonh@david.wheaton.edu (Jonathan Hayward...</td>\n",
       "      <td>15</td>\n",
       "      <td>soc.religion.christian</td>\n",
       "      <td>pantheism environment articl apr atho rutger e...</td>\n",
       "      <td>0</td>\n",
       "      <td>15</td>\n",
       "      <td>0</td>\n",
       "    </tr>\n",
       "    <tr>\n",
       "      <th>33</th>\n",
       "      <td>From: ayr1@cunixa.cc.columbia.edu (Amir Y Rose...</td>\n",
       "      <td>17</td>\n",
       "      <td>talk.politics.mideast</td>\n",
       "      <td>isra expans lust articl spam math adelaid edu ...</td>\n",
       "      <td>1</td>\n",
       "      <td>17</td>\n",
       "      <td>3</td>\n",
       "    </tr>\n",
       "    <tr>\n",
       "      <th>35</th>\n",
       "      <td>From: dchhabra@stpl.ists.ca (Deepak Chhabra)\\n...</td>\n",
       "      <td>10</td>\n",
       "      <td>rec.sport.hockey</td>\n",
       "      <td>goali mask articl netnew upenn edu kkeller mai...</td>\n",
       "      <td>1</td>\n",
       "      <td>17</td>\n",
       "      <td>0</td>\n",
       "    </tr>\n",
       "    <tr>\n",
       "      <th>...</th>\n",
       "      <td>...</td>\n",
       "      <td>...</td>\n",
       "      <td>...</td>\n",
       "      <td>...</td>\n",
       "      <td>...</td>\n",
       "      <td>...</td>\n",
       "      <td>...</td>\n",
       "    </tr>\n",
       "    <tr>\n",
       "      <th>11298</th>\n",
       "      <td>From: cbetz@radioman.cray.com (Charles Betz  {...</td>\n",
       "      <td>10</td>\n",
       "      <td>rec.sport.hockey</td>\n",
       "      <td>nhl team milwauke read report possibl nhl move...</td>\n",
       "      <td>3</td>\n",
       "      <td>10</td>\n",
       "      <td>1</td>\n",
       "    </tr>\n",
       "    <tr>\n",
       "      <th>11299</th>\n",
       "      <td>From: 2120788@hydra.maths.unsw.EDU.AU ()\\nSubj...</td>\n",
       "      <td>17</td>\n",
       "      <td>talk.politics.mideast</td>\n",
       "      <td>turkei cypru bosnia serbia greec armenia azeri...</td>\n",
       "      <td>1</td>\n",
       "      <td>17</td>\n",
       "      <td>0</td>\n",
       "    </tr>\n",
       "    <tr>\n",
       "      <th>11300</th>\n",
       "      <td>From: aa888@freenet.carleton.ca (Mark Baker)\\n...</td>\n",
       "      <td>15</td>\n",
       "      <td>soc.religion.christian</td>\n",
       "      <td>arrog christian previou articl phsd vaxc monas...</td>\n",
       "      <td>0</td>\n",
       "      <td>15</td>\n",
       "      <td>2</td>\n",
       "    </tr>\n",
       "    <tr>\n",
       "      <th>11305</th>\n",
       "      <td>From: shaig@composer.think.com (Shai Guday)\\nS...</td>\n",
       "      <td>17</td>\n",
       "      <td>talk.politics.mideast</td>\n",
       "      <td>hezbollah apr yuma acn colost edu nntp post ho...</td>\n",
       "      <td>1</td>\n",
       "      <td>17</td>\n",
       "      <td>3</td>\n",
       "    </tr>\n",
       "    <tr>\n",
       "      <th>11313</th>\n",
       "      <td>From: gunning@cco.caltech.edu (Kevin J. Gunnin...</td>\n",
       "      <td>8</td>\n",
       "      <td>rec.motorcycles</td>\n",
       "      <td>stolen cbrrr nntp post host alumni caltech edu...</td>\n",
       "      <td>1</td>\n",
       "      <td>17</td>\n",
       "      <td>0</td>\n",
       "    </tr>\n",
       "  </tbody>\n",
       "</table>\n",
       "<p>2361 rows × 7 columns</p>\n",
       "</div>"
      ],
      "text/plain": [
       "                                                 content  target  \\\n",
       "10     From: irwin@cmptrc.lonestar.org (Irwin Arnstei...       8   \n",
       "21     From: leunggm@odin.control.utoronto.ca (Gary L...      10   \n",
       "28     From: jonh@david.wheaton.edu (Jonathan Hayward...      15   \n",
       "33     From: ayr1@cunixa.cc.columbia.edu (Amir Y Rose...      17   \n",
       "35     From: dchhabra@stpl.ists.ca (Deepak Chhabra)\\n...      10   \n",
       "...                                                  ...     ...   \n",
       "11298  From: cbetz@radioman.cray.com (Charles Betz  {...      10   \n",
       "11299  From: 2120788@hydra.maths.unsw.EDU.AU ()\\nSubj...      17   \n",
       "11300  From: aa888@freenet.carleton.ca (Mark Baker)\\n...      15   \n",
       "11305  From: shaig@composer.think.com (Shai Guday)\\nS...      17   \n",
       "11313  From: gunning@cco.caltech.edu (Kevin J. Gunnin...       8   \n",
       "\n",
       "                 target_names  \\\n",
       "10            rec.motorcycles   \n",
       "21           rec.sport.hockey   \n",
       "28     soc.religion.christian   \n",
       "33      talk.politics.mideast   \n",
       "35           rec.sport.hockey   \n",
       "...                       ...   \n",
       "11298        rec.sport.hockey   \n",
       "11299   talk.politics.mideast   \n",
       "11300  soc.religion.christian   \n",
       "11305   talk.politics.mideast   \n",
       "11313         rec.motorcycles   \n",
       "\n",
       "                                            preprocessed  cluster  pred  \\\n",
       "10     recommend duc worth ducati gt line ducati gt m...        2     8   \n",
       "21     nhl team captain articl apr samba oit unc edu ...        3    10   \n",
       "28     pantheism environment articl apr atho rutger e...        0    15   \n",
       "33     isra expans lust articl spam math adelaid edu ...        1    17   \n",
       "35     goali mask articl netnew upenn edu kkeller mai...        1    17   \n",
       "...                                                  ...      ...   ...   \n",
       "11298  nhl team milwauke read report possibl nhl move...        3    10   \n",
       "11299  turkei cypru bosnia serbia greec armenia azeri...        1    17   \n",
       "11300  arrog christian previou articl phsd vaxc monas...        0    15   \n",
       "11305  hezbollah apr yuma acn colost edu nntp post ho...        1    17   \n",
       "11313  stolen cbrrr nntp post host alumni caltech edu...        1    17   \n",
       "\n",
       "       topics_lda  \n",
       "10              0  \n",
       "21              0  \n",
       "28              0  \n",
       "33              3  \n",
       "35              0  \n",
       "...           ...  \n",
       "11298           1  \n",
       "11299           0  \n",
       "11300           2  \n",
       "11305           3  \n",
       "11313           0  \n",
       "\n",
       "[2361 rows x 7 columns]"
      ]
     },
     "execution_count": 97,
     "metadata": {},
     "output_type": "execute_result"
    }
   ],
   "source": [
    "df"
   ]
  },
  {
   "cell_type": "code",
   "execution_count": 102,
   "metadata": {},
   "outputs": [],
   "source": [
    "# Dictonary to map clusert_id to target_id\n",
    "mapping = {0: 8, 1:10, 2:15, 3:17}\n",
    "\n",
    "df[\"pred_lda\"] = df.topics_lda.apply(lambda x: mapping[x])"
   ]
  },
  {
   "cell_type": "code",
   "execution_count": 103,
   "metadata": {},
   "outputs": [
    {
     "name": "stdout",
     "output_type": "stream",
     "text": [
      "              precision    recall  f1-score   support\n",
      "\n",
      "           8       0.45      0.98      0.62       598\n",
      "          10       0.82      0.55      0.66       600\n",
      "          15       0.88      0.65      0.75       599\n",
      "          17       0.98      0.37      0.53       564\n",
      "\n",
      "    accuracy                           0.64      2361\n",
      "   macro avg       0.78      0.64      0.64      2361\n",
      "weighted avg       0.78      0.64      0.64      2361\n",
      "\n"
     ]
    }
   ],
   "source": [
    "print(classification_report(df.target, df.pred_lda))"
   ]
  },
  {
   "cell_type": "markdown",
   "metadata": {},
   "source": [
    "Interestingly here the politics topic is the hardest to predict correctly and motorcycles have the highest precision"
   ]
  },
  {
   "cell_type": "code",
   "execution_count": 91,
   "metadata": {},
   "outputs": [
    {
     "data": {
      "text/html": [
       "\n",
       "<link rel=\"stylesheet\" type=\"text/css\" href=\"https://cdn.jsdelivr.net/gh/bmabey/pyLDAvis@3.3.1/pyLDAvis/js/ldavis.v1.0.0.css\">\n",
       "\n",
       "\n",
       "<div id=\"ldavis_el4007949519252481005231501\"></div>\n",
       "<script type=\"text/javascript\">\n",
       "\n",
       "var ldavis_el4007949519252481005231501_data = {\"mdsDat\": {\"x\": [0.18627371517444744, -0.24736987645957853, -0.1909746513138778, 0.25207081259900865], \"y\": [-0.21051715633260112, 0.18847670953263018, -0.18120379594158212, 0.20324424274155323], \"topics\": [1, 2, 3, 4], \"cluster\": [1, 1, 1, 1], \"Freq\": [40.990513160206945, 29.19302862692767, 16.733466355552526, 13.082991857312859]}, \"tinfo\": {\"Term\": [\"team\", \"god\", \"israel\", \"edu\", \"game\", \"hockei\", \"isra\", \"know\", \"state\", \"write\", \"peopl\", \"jew\", \"plai\", \"christian\", \"com\", \"believ\", \"year\", \"kill\", \"armenian\", \"arab\", \"win\", \"reason\", \"articl\", \"wing\", \"turkish\", \"like\", \"post\", \"war\", \"new\", \"nhl\", \"com\", \"post\", \"thing\", \"bike\", \"need\", \"host\", \"us\", \"help\", \"nntp\", \"turn\", \"love\", \"word\", \"cours\", \"possibl\", \"motorcycl\", \"rutger\", \"sun\", \"actual\", \"ride\", \"man\", \"dod\", \"hard\", \"paul\", \"mayb\", \"thank\", \"guess\", \"atho\", \"have\", \"isn\", \"agre\", \"edu\", \"like\", \"write\", \"articl\", \"good\", \"look\", \"go\", \"apr\", \"time\", \"let\", \"end\", \"think\", \"world\", \"opinion\", \"want\", \"live\", \"new\", \"year\", \"said\", \"right\", \"god\", \"christian\", \"believ\", \"reason\", \"evid\", \"jesu\", \"faith\", \"claim\", \"law\", \"church\", \"talk\", \"hell\", \"christ\", \"bibl\", \"life\", \"sens\", \"truth\", \"book\", \"author\", \"answer\", \"religion\", \"discuss\", \"speak\", \"understand\", \"non\", \"refer\", \"present\", \"exampl\", \"studi\", \"statement\", \"know\", \"exist\", \"peopl\", \"question\", \"work\", \"come\", \"wai\", \"sure\", \"person\", \"follow\", \"true\", \"read\", \"think\", \"ask\", \"fact\", \"point\", \"team\", \"game\", \"hockei\", \"plai\", \"armenian\", \"win\", \"nhl\", \"turkish\", \"player\", \"playoff\", \"cup\", \"goal\", \"leagu\", \"season\", \"score\", \"wing\", \"fan\", \"toronto\", \"armenia\", \"pick\", \"watch\", \"net\", \"night\", \"contact\", \"red\", \"citi\", \"number\", \"final\", \"list\", \"home\", \"year\", \"new\", \"point\", \"wai\", \"israel\", \"isra\", \"jew\", \"arab\", \"kill\", \"war\", \"govern\", \"attack\", \"jewish\", \"public\", \"forc\", \"countri\", \"american\", \"peac\", \"land\", \"polici\", \"report\", \"polit\", \"control\", \"local\", \"nation\", \"attempt\", \"center\", \"fight\", \"area\", \"research\", \"children\", \"action\", \"state\", \"return\", \"member\", \"right\", \"case\", \"said\", \"live\", \"fact\", \"org\"], \"Freq\": [1501.0, 1996.0, 1172.0, 3103.0, 1072.0, 1027.0, 872.0, 1345.0, 939.0, 2141.0, 1850.0, 668.0, 752.0, 1046.0, 1404.0, 1007.0, 1224.0, 557.0, 631.0, 534.0, 591.0, 858.0, 1652.0, 586.0, 579.0, 1480.0, 1147.0, 487.0, 1237.0, 534.0, 1403.9450364193715, 1146.0985694647795, 769.6115240620617, 681.1412423195037, 625.0549739968598, 478.8834491840139, 497.4348357469477, 491.59742041665805, 458.6779435108744, 450.76685802653134, 455.70566987590826, 418.0778815714715, 402.48417535044354, 373.2170685893217, 322.1478517880923, 333.76364705977056, 337.02734507816933, 328.4899252662956, 298.0780911656727, 317.0461591669281, 290.2479923261785, 307.3349480621475, 298.77650900295833, 287.6444752645931, 257.4025120005006, 271.47520465995854, 260.07264315276126, 264.7496096295135, 247.97414098911716, 278.31475000898865, 3061.212962316245, 1433.7172182796373, 2030.9672844269307, 1552.0934987008425, 829.8310544571542, 496.5088606440933, 561.6134897594837, 966.9805394958098, 1110.7286456520144, 480.4970994983381, 441.1997894147177, 1047.8737872691192, 485.6750451415602, 435.3082685306616, 570.0809843973828, 561.7345037224409, 740.2863139206712, 598.5235333107836, 507.95461339344047, 497.5441260223707, 1995.4836385555802, 1045.3805249040242, 1006.5988481873127, 857.2064603671467, 663.793386792263, 616.4862153727097, 492.746365398471, 542.0394581576426, 494.0679955958305, 467.42550149966996, 505.0814990585661, 474.16759370337076, 432.51267875394444, 386.1440740358332, 384.68242391219593, 341.26482298465726, 320.2191782720279, 328.28352950509236, 304.28974568102086, 303.1520139097908, 264.1529010600569, 279.7376987776281, 262.0320428528618, 234.2417382058477, 262.270929144251, 209.55913879135204, 214.54399489431054, 190.3199712189082, 148.28719810515528, 140.32359099943704, 1333.5093928813658, 456.56564265663735, 1596.3937301781991, 592.7936420786699, 536.5483224210468, 612.5936753962304, 768.2825580748691, 440.0629598235413, 479.23049484507794, 365.95699461966194, 345.4779974130771, 381.9239475202554, 437.383192237465, 343.593737247478, 351.8143182984852, 346.0695536535119, 1501.1357813255827, 1071.3935829369873, 1026.9385347398052, 751.6739022150765, 630.7511873384125, 590.7271940417692, 533.5542545329274, 578.1464728331864, 524.9533085981759, 445.3767466131578, 393.0614309881755, 327.51765089559825, 321.27963520363437, 313.1012733105232, 313.8141573498727, 584.6664381676795, 251.3821961883861, 249.1398154376458, 229.90328043044232, 218.7681719096315, 224.9656373156492, 209.51571804734536, 176.27591775090335, 160.60450380958707, 131.86683655687665, 208.1371284741719, 469.40818772862406, 278.9229291365455, 263.177423314735, 177.81526667991665, 625.303992334145, 496.90176219609054, 243.798571822485, 205.80645823664813, 1171.9420306917038, 871.5341373603571, 667.6035113281109, 533.365924362297, 556.3092783595663, 486.94499097334017, 443.1564194759821, 455.3165367490251, 429.8934387941818, 434.4964006943925, 348.7288479797789, 290.1101594932617, 361.0650989990034, 285.4040223586211, 243.28175438180526, 197.89190011482862, 193.7548550281838, 184.08570730347148, 161.10914622392215, 142.1659696502649, 235.75262384503205, 103.18212321641008, 214.39062210548008, 138.35709695950553, 134.58085206670546, 166.79089209274548, 139.79707253028778, 149.08671074322763, 657.0665487218789, 95.05216524466243, 162.48464901543545, 398.44390514332116, 186.1171165094318, 254.47153910488444, 216.78261231662324, 191.34941602699888, 150.3717042737031], \"Total\": [1501.0, 1996.0, 1172.0, 3103.0, 1072.0, 1027.0, 872.0, 1345.0, 939.0, 2141.0, 1850.0, 668.0, 752.0, 1046.0, 1404.0, 1007.0, 1224.0, 557.0, 631.0, 534.0, 591.0, 858.0, 1652.0, 586.0, 579.0, 1480.0, 1147.0, 487.0, 1237.0, 534.0, 1404.830935579017, 1147.0112129312663, 770.5160875210037, 681.9875980760511, 625.9606493514992, 479.7910305820485, 498.3898634310633, 492.55198061831874, 459.57776710415027, 451.65837548620766, 456.62032263131937, 418.9940932926903, 403.3813022235719, 374.15998148743967, 322.99762320711153, 334.67422826930164, 337.96089987489455, 329.40437679783986, 298.9259200579962, 317.96192393730496, 291.0942727773178, 308.2988914026418, 299.7153476372864, 288.55558741980315, 258.2758652037038, 272.4291695502904, 261.0108146053594, 265.71552413713147, 248.88090446869106, 279.3448748310248, 3103.1885407395325, 1480.6465020691649, 2141.7761104663314, 1652.5404314778714, 869.950512032047, 511.02516466837534, 586.6098747149248, 1055.190133223619, 1313.0345686162757, 521.276377661378, 486.96290564992637, 1500.6978731703311, 572.0188938560642, 495.2316307877938, 744.8576983281098, 779.1064027394187, 1237.7751508016954, 1224.4577043610798, 842.0715576520164, 913.4779182879215, 1996.3507298126851, 1046.244619121938, 1007.4834202081677, 858.1434905796352, 664.713223523691, 617.3464956083118, 493.60699966589846, 543.0119100318618, 494.9666710529372, 468.28813576731125, 506.01862374275777, 475.10642070782234, 433.38151649296015, 387.00041712267176, 385.56689991736744, 342.18325586254525, 321.08714297326225, 329.18782024863316, 305.16543667578264, 304.05851861285896, 265.0435191560645, 280.68655408192245, 262.9727705987613, 235.12456530978324, 263.35231175330193, 210.4717856401389, 215.49457973325966, 191.23720788718688, 149.17278801303817, 141.19875990963465, 1345.794036328942, 485.1875866004537, 1850.4382693672576, 655.9567754455729, 597.6488386951289, 736.006909829055, 974.6991913519676, 513.2610254829071, 591.681703400852, 422.60074821539877, 405.15590827166915, 572.757492695009, 1500.6978731703311, 473.14372343837124, 587.7972290836946, 748.3680322311334, 1501.9467122523718, 1072.2050819209637, 1027.7458822412448, 752.507100720021, 631.5742519430623, 591.5482521413306, 534.3600600148001, 579.0198354521416, 525.7598711882044, 446.181996639674, 393.89302243471786, 328.3431647996628, 322.09368404492017, 313.9037120527525, 314.61902805605695, 586.5303222891148, 252.18765954812724, 249.94950034720233, 230.73619874897946, 219.60371138459618, 225.86494933688144, 210.40824095315097, 177.12673696903133, 192.06684972900493, 167.91136103107704, 278.8362988155376, 634.6302454467439, 449.0603251609733, 427.6447940364465, 290.87334364609035, 1224.4577043610798, 1237.7751508016954, 748.3680322311334, 974.6991913519676, 1172.7515204609783, 872.34356251617, 668.4500038204344, 534.1734820395973, 557.2098068004015, 487.78161823250525, 443.9800567839075, 456.16322955465876, 430.7383828786525, 435.36526360714424, 349.6675633070078, 290.9501127259508, 362.14508189713354, 286.2772115384354, 244.104798814231, 198.70655819237865, 194.60833109120122, 184.91323574012702, 161.94091216038046, 143.09304782893017, 277.437541186822, 134.42192568226045, 294.3353499967971, 191.34459030753956, 187.00056078462157, 232.80535305358273, 199.451316195024, 212.96997597746775, 939.3984554829731, 137.78196674581594, 248.44297911996026, 913.4779182879215, 394.06946392889637, 842.0715576520164, 779.1064027394187, 587.7972290836946, 302.29011617028203], \"Category\": [\"Default\", \"Default\", \"Default\", \"Default\", \"Default\", \"Default\", \"Default\", \"Default\", \"Default\", \"Default\", \"Default\", \"Default\", \"Default\", \"Default\", \"Default\", \"Default\", \"Default\", \"Default\", \"Default\", \"Default\", \"Default\", \"Default\", \"Default\", \"Default\", \"Default\", \"Default\", \"Default\", \"Default\", \"Default\", \"Default\", \"Topic1\", \"Topic1\", \"Topic1\", \"Topic1\", \"Topic1\", \"Topic1\", \"Topic1\", \"Topic1\", \"Topic1\", \"Topic1\", \"Topic1\", \"Topic1\", \"Topic1\", \"Topic1\", \"Topic1\", \"Topic1\", \"Topic1\", \"Topic1\", \"Topic1\", \"Topic1\", \"Topic1\", \"Topic1\", \"Topic1\", \"Topic1\", \"Topic1\", \"Topic1\", \"Topic1\", \"Topic1\", \"Topic1\", \"Topic1\", \"Topic1\", \"Topic1\", \"Topic1\", \"Topic1\", \"Topic1\", \"Topic1\", \"Topic1\", \"Topic1\", \"Topic1\", \"Topic1\", \"Topic1\", \"Topic1\", \"Topic1\", \"Topic1\", \"Topic1\", \"Topic1\", \"Topic1\", \"Topic1\", \"Topic1\", \"Topic1\", \"Topic2\", \"Topic2\", \"Topic2\", \"Topic2\", \"Topic2\", \"Topic2\", \"Topic2\", \"Topic2\", \"Topic2\", \"Topic2\", \"Topic2\", \"Topic2\", \"Topic2\", \"Topic2\", \"Topic2\", \"Topic2\", \"Topic2\", \"Topic2\", \"Topic2\", \"Topic2\", \"Topic2\", \"Topic2\", \"Topic2\", \"Topic2\", \"Topic2\", \"Topic2\", \"Topic2\", \"Topic2\", \"Topic2\", \"Topic2\", \"Topic2\", \"Topic2\", \"Topic2\", \"Topic2\", \"Topic2\", \"Topic2\", \"Topic2\", \"Topic2\", \"Topic2\", \"Topic2\", \"Topic2\", \"Topic2\", \"Topic2\", \"Topic2\", \"Topic2\", \"Topic2\", \"Topic3\", \"Topic3\", \"Topic3\", \"Topic3\", \"Topic3\", \"Topic3\", \"Topic3\", \"Topic3\", \"Topic3\", \"Topic3\", \"Topic3\", \"Topic3\", \"Topic3\", \"Topic3\", \"Topic3\", \"Topic3\", \"Topic3\", \"Topic3\", \"Topic3\", \"Topic3\", \"Topic3\", \"Topic3\", \"Topic3\", \"Topic3\", \"Topic3\", \"Topic3\", \"Topic3\", \"Topic3\", \"Topic3\", \"Topic3\", \"Topic3\", \"Topic3\", \"Topic3\", \"Topic3\", \"Topic4\", \"Topic4\", \"Topic4\", \"Topic4\", \"Topic4\", \"Topic4\", \"Topic4\", \"Topic4\", \"Topic4\", \"Topic4\", \"Topic4\", \"Topic4\", \"Topic4\", \"Topic4\", \"Topic4\", \"Topic4\", \"Topic4\", \"Topic4\", \"Topic4\", \"Topic4\", \"Topic4\", \"Topic4\", \"Topic4\", \"Topic4\", \"Topic4\", \"Topic4\", \"Topic4\", \"Topic4\", \"Topic4\", \"Topic4\", \"Topic4\", \"Topic4\", \"Topic4\", \"Topic4\", \"Topic4\", \"Topic4\", \"Topic4\"], \"logprob\": [30.0, 29.0, 28.0, 27.0, 26.0, 25.0, 24.0, 23.0, 22.0, 21.0, 20.0, 19.0, 18.0, 17.0, 16.0, 15.0, 14.0, 13.0, 12.0, 11.0, 10.0, 9.0, 8.0, 7.0, 6.0, 5.0, 4.0, 3.0, 2.0, 1.0, -3.6248, -3.8277, -4.2259, -4.348, -4.434, -4.7004, -4.6623, -4.6741, -4.7435, -4.7609, -4.75, -4.8361, -4.8742, -4.9496, -5.0968, -5.0614, -5.0516, -5.0773, -5.1745, -5.1128, -5.2011, -5.1439, -5.1721, -5.2101, -5.3212, -5.2679, -5.3108, -5.293, -5.3585, -5.2431, -2.8452, -3.6038, -3.2555, -3.5244, -4.1506, -4.6642, -4.541, -3.9976, -3.859, -4.697, -4.7823, -3.9173, -4.6863, -4.7958, -4.526, -4.5408, -4.2648, -4.4773, -4.6414, -4.6621, -2.9338, -3.5803, -3.6181, -3.7787, -4.0344, -4.1084, -4.3324, -4.2371, -4.3297, -4.3852, -4.3077, -4.3708, -4.4628, -4.5762, -4.58, -4.6997, -4.7634, -4.7385, -4.8144, -4.8182, -4.9559, -4.8985, -4.9639, -5.076, -4.963, -5.1874, -5.1639, -5.2837, -5.5332, -5.5884, -3.3368, -4.4087, -3.1569, -4.1476, -4.2472, -4.1147, -3.8882, -4.4455, -4.3602, -4.6299, -4.6875, -4.5872, -4.4516, -4.6929, -4.6693, -4.6858, -2.6619, -2.9992, -3.0415, -3.3536, -3.529, -3.5945, -3.6963, -3.6161, -3.7126, -3.877, -4.0019, -4.1843, -4.2036, -4.2294, -4.2271, -3.6048, -4.4489, -4.4579, -4.5382, -4.5879, -4.5599, -4.6311, -4.8038, -4.8969, -5.0941, -4.6377, -3.8244, -4.3449, -4.403, -4.7951, -3.5376, -3.7675, -4.4795, -4.6489, -2.6634, -2.9595, -3.2261, -3.4506, -3.4085, -3.5416, -3.6359, -3.6088, -3.6662, -3.6556, -3.8755, -4.0595, -3.8407, -4.0759, -4.2356, -4.4421, -4.4632, -4.5144, -4.6477, -4.7728, -4.267, -5.0933, -4.362, -4.7999, -4.8276, -4.613, -4.7896, -4.7253, -3.242, -5.1754, -4.6392, -3.7422, -4.5034, -4.1906, -4.3509, -4.4757, -4.7167], \"loglift\": [30.0, 29.0, 28.0, 27.0, 26.0, 25.0, 24.0, 23.0, 22.0, 21.0, 20.0, 19.0, 18.0, 17.0, 16.0, 15.0, 14.0, 13.0, 12.0, 11.0, 10.0, 9.0, 8.0, 7.0, 6.0, 5.0, 4.0, 3.0, 2.0, 1.0, 0.8912, 0.891, 0.8907, 0.8906, 0.8904, 0.8899, 0.8899, 0.8899, 0.8899, 0.8899, 0.8898, 0.8896, 0.8896, 0.8893, 0.8892, 0.8891, 0.8891, 0.889, 0.889, 0.8889, 0.8889, 0.8887, 0.8887, 0.8887, 0.8884, 0.8883, 0.8882, 0.8882, 0.8882, 0.8881, 0.8782, 0.8596, 0.8387, 0.8291, 0.8446, 0.863, 0.8483, 0.8045, 0.7245, 0.8104, 0.7931, 0.5327, 0.7282, 0.7629, 0.6244, 0.5647, 0.3778, 0.176, 0.3864, 0.2843, 1.2308, 1.2304, 1.2304, 1.2301, 1.2299, 1.2298, 1.2295, 1.2294, 1.2294, 1.2294, 1.2294, 1.2293, 1.2292, 1.229, 1.2289, 1.2286, 1.2285, 1.2285, 1.2284, 1.2283, 1.2279, 1.2279, 1.2277, 1.2275, 1.2271, 1.2269, 1.2268, 1.2264, 1.2253, 1.225, 1.2221, 1.1704, 1.0836, 1.13, 1.1234, 1.0477, 0.9933, 1.0774, 1.0205, 1.0873, 1.0719, 0.826, -0.0016, 0.9113, 0.718, 0.46, 1.7872, 1.787, 1.787, 1.7867, 1.7865, 1.7864, 1.7863, 1.7862, 1.7862, 1.786, 1.7856, 1.7852, 1.7852, 1.7852, 1.7852, 1.7846, 1.7846, 1.7845, 1.7841, 1.7839, 1.7838, 1.7835, 1.7829, 1.6089, 1.5461, 1.4953, 1.4862, 1.3115, 1.3023, 1.2956, 1.1157, 0.8751, 0.6662, 0.2326, 2.0332, 2.0329, 2.0326, 2.0323, 2.0322, 2.0321, 2.032, 2.032, 2.0319, 2.0319, 2.0312, 2.031, 2.0309, 2.0308, 2.0305, 2.0297, 2.0295, 2.0294, 2.0287, 2.0274, 1.871, 1.7694, 1.7169, 1.7096, 1.7049, 1.7004, 1.6785, 1.6772, 1.6764, 1.6626, 1.6092, 1.2042, 1.2837, 0.8372, 0.7546, 0.9116, 1.3356]}, \"token.table\": {\"Topic\": [2, 4, 1, 1, 3, 4, 2, 1, 4, 4, 1, 4, 3, 3, 1, 4, 1, 2, 1, 4, 2, 4, 2, 2, 2, 1, 2, 1, 2, 4, 3, 4, 2, 4, 2, 2, 2, 3, 4, 2, 1, 2, 3, 1, 3, 4, 4, 1, 3, 2, 1, 1, 4, 1, 3, 2, 2, 2, 3, 1, 2, 4, 2, 3, 3, 4, 1, 3, 2, 3, 4, 3, 1, 3, 3, 2, 1, 3, 4, 1, 1, 1, 2, 1, 3, 3, 4, 1, 1, 4, 4, 2, 4, 4, 4, 2, 4, 4, 2, 3, 1, 4, 2, 1, 3, 1, 3, 1, 4, 4, 1, 3, 1, 1, 1, 1, 2, 4, 1, 3, 4, 1, 3, 1, 3, 3, 3, 1, 2, 2, 3, 4, 1, 4, 1, 4, 1, 4, 1, 2, 3, 1, 2, 3, 3, 3, 3, 3, 1, 2, 3, 4, 4, 1, 1, 2, 4, 1, 2, 1, 2, 2, 1, 3, 2, 2, 4, 1, 2, 4, 3, 4, 1, 1, 3, 4, 1, 1, 3, 4, 3, 3, 2, 2, 1, 4, 2, 2, 1, 2, 3, 2, 3, 1, 1, 1, 2, 3, 1, 3, 4, 3, 1, 2, 2, 3, 1, 2, 1, 2, 3, 1, 2, 4, 4, 3, 3, 3, 4, 1, 2, 3, 1, 3, 1, 4, 1, 3], \"Freq\": [0.2958163455240536, 0.6996291346521268, 0.9957366176749323, 0.9951856112204016, 0.002761324259220639, 0.9968380575786507, 0.9965187010129234, 0.9164225190827013, 0.08339729232603693, 0.9978031817769826, 0.2780740324083367, 0.7219229687524127, 0.9968093487152383, 0.9990907609971502, 0.939160077682361, 0.060512891603244905, 0.27264442834102764, 0.727051808909407, 0.9961273075719573, 0.997449970801473, 0.23061713959727215, 0.7662440444683558, 0.9961809676466709, 0.9995201705571812, 0.997414945621739, 0.9985518826459056, 0.9963916640423208, 0.25629999085192723, 0.2715257328827348, 0.47199800295503425, 0.2684013320209742, 0.7270618361074492, 0.29581153499287843, 0.7019256762542878, 0.9991196752089303, 0.9988103937652911, 0.9972492667037132, 0.745957398242476, 0.25104335517775633, 0.998136486487373, 0.9994085156028583, 0.8328726154790794, 0.16711799625436669, 0.16140213703582468, 0.8382498084763798, 0.994189781026745, 0.9967344479881823, 0.9965756910001587, 0.9977328300227357, 0.9975540186306108, 0.9962408302750947, 0.986404776833354, 0.013212216873625454, 0.9056131275777939, 0.0924095028140606, 0.9989270207084039, 0.9935305064278248, 0.9419037350111229, 0.05770963803131607, 0.07485574586425106, 0.5988459669140085, 0.324941987728908, 0.998770277434661, 0.9952905723053408, 0.2717610145989638, 0.7212119233587885, 0.3763414190274304, 0.6212973722405507, 0.8660656696552996, 0.13251278005654857, 0.9980908629307955, 0.9988760714332703, 0.9580472887080456, 0.04091305147507668, 0.9989548593165563, 0.9993234005465503, 0.9540772590170333, 0.045979626940579915, 0.9977925657494464, 0.9947539775103761, 0.9957869086173734, 0.9973071797763604, 0.997671214996055, 0.9988793454497416, 0.9992742542158202, 0.6119501971847069, 0.3850473150825122, 0.9983513018551246, 0.9964605381414392, 0.9996061614587044, 0.9993591818489539, 0.9978188981100719, 0.9993267950963236, 0.9982857741311145, 0.9978288127997094, 0.991236373463867, 0.008916669026661472, 0.9954740799050338, 0.9980469976879841, 0.9966044536136647, 0.9208167117670711, 0.07673472598058927, 0.9985296976543139, 0.9684958550174011, 0.031067509993584694, 0.3834958411443281, 0.6149963793960871, 0.7213392137761284, 0.27852421599540905, 0.9923612792828557, 0.9725548453617214, 0.027395911136949898, 0.9986414914085631, 0.9969747197230615, 0.9980745913646273, 0.19320328620284047, 0.15295260157724871, 0.6520610909345865, 0.996911360531988, 0.14778100982516731, 0.8506419102131582, 0.9984653199007086, 0.9980597672823952, 0.5978468702661456, 0.4015268844895599, 0.9993261846426357, 0.9936388092034444, 0.9987428306034236, 0.9948650089900531, 0.11660333009799774, 0.7390129975129857, 0.14339058160699722, 0.8783768502589792, 0.11913617049489603, 0.49952013619572233, 0.4962120558235652, 0.9976132432225255, 0.9955385497449423, 0.08484476493975932, 0.8624983748016297, 0.051879601491827354, 0.17577018082903634, 0.8095568905491193, 0.013520783140695103, 0.9972509053658984, 0.9993261183588358, 0.9985547181710784, 0.9973508643365802, 0.21112606791734487, 0.46233936392026154, 0.3260427884293174, 0.9964442130204147, 0.9950612743513371, 0.9968997713683108, 0.9991183931596606, 0.9977049087087394, 0.9968640961480653, 0.0960429137380369, 0.9040229816929505, 0.3317285280826072, 0.6669489354081893, 0.998667483244716, 0.2084433107151231, 0.7861290575541785, 0.9977584376038622, 0.996062838437298, 0.9968740747747529, 0.2491351648028929, 0.03436347100729557, 0.717337457277295, 0.30482944170395526, 0.6894951657589464, 0.9969025099669625, 0.5451691716132256, 0.018610192605270755, 0.43569745040575064, 0.9979854192156108, 0.6032741462215846, 0.093816255022648, 0.3016370731107923, 0.9980324519471001, 0.997121053310129, 0.9965420404351387, 0.996300869490988, 0.3001921052286756, 0.6993837345221272, 0.9915101243778498, 0.992138056621053, 0.9971567720548434, 0.8572636108226244, 0.14222782634102632, 0.9979869836900003, 0.9993696765373573, 0.9950600680295949, 0.9993302053917341, 0.6983417640127825, 0.2911978538870095, 0.009995349675755475, 0.8461315692326462, 0.08225221375078828, 0.07158988974605647, 0.996201231265182, 0.14562295352345878, 0.8515240502642928, 0.9966141809254793, 0.9982386865013956, 0.9985423153384482, 0.9952171509246531, 0.9972112927387907, 0.7879354028546355, 0.21134725649486316, 0.7652468401406184, 0.0832373755942427, 0.15170682971208752, 0.998397606217025, 0.9961705021544031, 0.9990731911735923, 0.9973908897273337, 0.0017049416918415961, 0.9976274288621155, 0.8985209461336091, 0.1003934018026379, 0.849622285592355, 0.15034468428177475, 0.9482783891719606, 0.05135924313585213, 0.489196154237567, 0.5104300440709172], \"Term\": [\"action\", \"action\", \"actual\", \"agre\", \"american\", \"american\", \"answer\", \"apr\", \"apr\", \"arab\", \"area\", \"area\", \"armenia\", \"armenian\", \"articl\", \"articl\", \"ask\", \"ask\", \"atho\", \"attack\", \"attempt\", \"attempt\", \"author\", \"believ\", \"bibl\", \"bike\", \"book\", \"case\", \"case\", \"case\", \"center\", \"center\", \"children\", \"children\", \"christ\", \"christian\", \"church\", \"citi\", \"citi\", \"claim\", \"com\", \"come\", \"come\", \"contact\", \"contact\", \"control\", \"countri\", \"cours\", \"cup\", \"discuss\", \"dod\", \"edu\", \"edu\", \"end\", \"end\", \"evid\", \"exampl\", \"exist\", \"exist\", \"fact\", \"fact\", \"fact\", \"faith\", \"fan\", \"fight\", \"fight\", \"final\", \"final\", \"follow\", \"follow\", \"forc\", \"game\", \"go\", \"go\", \"goal\", \"god\", \"good\", \"good\", \"govern\", \"guess\", \"hard\", \"have\", \"hell\", \"help\", \"hockei\", \"home\", \"home\", \"host\", \"isn\", \"isra\", \"israel\", \"jesu\", \"jew\", \"jewish\", \"kill\", \"know\", \"know\", \"land\", \"law\", \"leagu\", \"let\", \"let\", \"life\", \"like\", \"like\", \"list\", \"list\", \"live\", \"live\", \"local\", \"look\", \"look\", \"love\", \"man\", \"mayb\", \"member\", \"member\", \"member\", \"motorcycl\", \"nation\", \"nation\", \"need\", \"net\", \"new\", \"new\", \"nhl\", \"night\", \"nntp\", \"non\", \"number\", \"number\", \"number\", \"opinion\", \"opinion\", \"org\", \"org\", \"paul\", \"peac\", \"peopl\", \"peopl\", \"peopl\", \"person\", \"person\", \"person\", \"pick\", \"plai\", \"player\", \"playoff\", \"point\", \"point\", \"point\", \"polici\", \"polit\", \"possibl\", \"post\", \"present\", \"public\", \"question\", \"question\", \"read\", \"read\", \"reason\", \"red\", \"red\", \"refer\", \"religion\", \"report\", \"research\", \"research\", \"research\", \"return\", \"return\", \"ride\", \"right\", \"right\", \"right\", \"rutger\", \"said\", \"said\", \"said\", \"score\", \"season\", \"sens\", \"speak\", \"state\", \"state\", \"statement\", \"studi\", \"sun\", \"sure\", \"sure\", \"talk\", \"team\", \"thank\", \"thing\", \"think\", \"think\", \"think\", \"time\", \"time\", \"time\", \"toronto\", \"true\", \"true\", \"truth\", \"turkish\", \"turn\", \"understand\", \"us\", \"wai\", \"wai\", \"want\", \"want\", \"want\", \"war\", \"watch\", \"win\", \"wing\", \"wing\", \"word\", \"work\", \"work\", \"world\", \"world\", \"write\", \"write\", \"year\", \"year\"]}, \"R\": 30, \"lambda.step\": 0.01, \"plot.opts\": {\"xlab\": \"PC1\", \"ylab\": \"PC2\"}, \"topic.order\": [1, 3, 2, 4]};\n",
       "\n",
       "function LDAvis_load_lib(url, callback){\n",
       "  var s = document.createElement('script');\n",
       "  s.src = url;\n",
       "  s.async = true;\n",
       "  s.onreadystatechange = s.onload = callback;\n",
       "  s.onerror = function(){console.warn(\"failed to load library \" + url);};\n",
       "  document.getElementsByTagName(\"head\")[0].appendChild(s);\n",
       "}\n",
       "\n",
       "if(typeof(LDAvis) !== \"undefined\"){\n",
       "   // already loaded: just create the visualization\n",
       "   !function(LDAvis){\n",
       "       new LDAvis(\"#\" + \"ldavis_el4007949519252481005231501\", ldavis_el4007949519252481005231501_data);\n",
       "   }(LDAvis);\n",
       "}else if(typeof define === \"function\" && define.amd){\n",
       "   // require.js is available: use it to load d3/LDAvis\n",
       "   require.config({paths: {d3: \"https://d3js.org/d3.v5\"}});\n",
       "   require([\"d3\"], function(d3){\n",
       "      window.d3 = d3;\n",
       "      LDAvis_load_lib(\"https://cdn.jsdelivr.net/gh/bmabey/pyLDAvis@3.3.1/pyLDAvis/js/ldavis.v3.0.0.js\", function(){\n",
       "        new LDAvis(\"#\" + \"ldavis_el4007949519252481005231501\", ldavis_el4007949519252481005231501_data);\n",
       "      });\n",
       "    });\n",
       "}else{\n",
       "    // require.js not available: dynamically load d3 & LDAvis\n",
       "    LDAvis_load_lib(\"https://d3js.org/d3.v5.js\", function(){\n",
       "         LDAvis_load_lib(\"https://cdn.jsdelivr.net/gh/bmabey/pyLDAvis@3.3.1/pyLDAvis/js/ldavis.v3.0.0.js\", function(){\n",
       "                 new LDAvis(\"#\" + \"ldavis_el4007949519252481005231501\", ldavis_el4007949519252481005231501_data);\n",
       "            })\n",
       "         });\n",
       "}\n",
       "</script>"
      ],
      "text/plain": [
       "PreparedData(topic_coordinates=              x         y  topics  cluster       Freq\n",
       "topic                                                \n",
       "0      0.186274 -0.210517       1        1  40.990513\n",
       "2     -0.247370  0.188477       2        1  29.193029\n",
       "1     -0.190975 -0.181204       3        1  16.733466\n",
       "3      0.252071  0.203244       4        1  13.082992, topic_info=       Term         Freq        Total Category  logprob  loglift\n",
       "28     team  1501.000000  1501.000000  Default  30.0000  30.0000\n",
       "42      god  1996.000000  1996.000000  Default  29.0000  29.0000\n",
       "81   israel  1172.000000  1172.000000  Default  28.0000  28.0000\n",
       "18      edu  3103.000000  3103.000000  Default  27.0000  27.0000\n",
       "199    game  1072.000000  1072.000000  Default  26.0000  26.0000\n",
       "..      ...          ...          ...      ...      ...      ...\n",
       "273    case   186.117117   394.069464   Topic4  -4.5034   1.2837\n",
       "95     said   254.471539   842.071558   Topic4  -4.1906   0.8372\n",
       "88     live   216.782612   779.106403   Topic4  -4.3509   0.7546\n",
       "265    fact   191.349416   587.797229   Topic4  -4.4757   0.9116\n",
       "7       org   150.371704   302.290116   Topic4  -4.7167   1.3356\n",
       "\n",
       "[197 rows x 6 columns], token_table=      Topic      Freq      Term\n",
       "term                           \n",
       "322       2  0.295816    action\n",
       "322       4  0.699629    action\n",
       "69        1  0.995737    actual\n",
       "128       1  0.995186      agre\n",
       "205       3  0.002761  american\n",
       "...     ...       ...       ...\n",
       "157       3  0.150345     world\n",
       "31        1  0.948278     write\n",
       "31        4  0.051359     write\n",
       "115       1  0.489196      year\n",
       "115       3  0.510430      year\n",
       "\n",
       "[228 rows x 3 columns], R=30, lambda_step=0.01, plot_opts={'xlab': 'PC1', 'ylab': 'PC2'}, topic_order=[1, 3, 2, 4])"
      ]
     },
     "execution_count": 91,
     "metadata": {},
     "output_type": "execute_result"
    }
   ],
   "source": [
    "pyLDAvis.enable_notebook()\n",
    "LDAvis_prepared = prepare(lda, corpus, dictionary)\n",
    "LDAvis_prepared"
   ]
  },
  {
   "cell_type": "code",
   "execution_count": null,
   "metadata": {},
   "outputs": [],
   "source": []
  }
 ],
 "metadata": {
  "colab": {
   "include_colab_link": true,
   "name": "Clustering.ipynb",
   "provenance": []
  },
  "kernelspec": {
   "display_name": "Python 3 (ipykernel)",
   "language": "python",
   "name": "python3"
  },
  "language_info": {
   "codemirror_mode": {
    "name": "ipython",
    "version": 3
   },
   "file_extension": ".py",
   "mimetype": "text/x-python",
   "name": "python",
   "nbconvert_exporter": "python",
   "pygments_lexer": "ipython3",
   "version": "3.8.6"
  },
  "latex_envs": {
   "LaTeX_envs_menu_present": true,
   "autoclose": false,
   "autocomplete": true,
   "bibliofile": "biblio.bib",
   "cite_by": "apalike",
   "current_citInitial": 1,
   "eqLabelWithNumbers": true,
   "eqNumInitial": 1,
   "hotkeys": {
    "equation": "Ctrl-E",
    "itemize": "Ctrl-I"
   },
   "labels_anchors": false,
   "latex_user_defs": false,
   "report_style_numbering": false,
   "user_envs_cfg": false
  },
  "toc": {
   "base_numbering": 1,
   "nav_menu": {
    "height": "199px",
    "width": "172px"
   },
   "number_sections": true,
   "sideBar": true,
   "skip_h1_title": true,
   "title_cell": "Table of Contents",
   "title_sidebar": "Contents",
   "toc_cell": true,
   "toc_position": {
    "height": "calc(100% - 180px)",
    "left": "10px",
    "top": "150px",
    "width": "165px"
   },
   "toc_section_display": true,
   "toc_window_display": false
  }
 },
 "nbformat": 4,
 "nbformat_minor": 1
}
