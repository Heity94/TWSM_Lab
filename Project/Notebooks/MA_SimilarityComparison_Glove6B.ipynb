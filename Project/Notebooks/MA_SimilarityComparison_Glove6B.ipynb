{
  "nbformat": 4,
  "nbformat_minor": 0,
  "metadata": {
    "colab": {
      "name": "MA_SimilarityComparison_Glove6B.ipynb",
      "provenance": [],
      "collapsed_sections": [
        "glqBcwNPeJpa"
      ],
      "authorship_tag": "ABX9TyO8hxRldqiq6sFQB9CCoJQp",
      "include_colab_link": true
    },
    "kernelspec": {
      "name": "python3",
      "display_name": "Python 3"
    },
    "language_info": {
      "name": "python"
    },
    "accelerator": "GPU",
    "gpuClass": "standard"
  },
  "cells": [
    {
      "cell_type": "markdown",
      "metadata": {
        "id": "view-in-github",
        "colab_type": "text"
      },
      "source": [
        "<a href=\"https://colab.research.google.com/github/Heity94/TWSM_Lab/blob/main/Project/Notebooks/MA_SimilarityComparison_Glove6B.ipynb\" target=\"_parent\"><img src=\"https://colab.research.google.com/assets/colab-badge.svg\" alt=\"Open In Colab\"/></a>"
      ]
    },
    {
      "cell_type": "code",
      "execution_count": null,
      "metadata": {
        "colab": {
          "base_uri": "https://localhost:8080/"
        },
        "id": "a-gcmTlT7t2b",
        "outputId": "ee7bc03c-fb34-44f0-e4ce-fa2eb755b0bf"
      },
      "outputs": [
        {
          "output_type": "stream",
          "name": "stdout",
          "text": [
            "Mounted at /content/drive\n"
          ]
        }
      ],
      "source": [
        "from google.colab import drive\n",
        "drive.mount('/content/drive')\n",
        "\n",
        "#set path to data in Google Drive\n",
        "data_path = \"/content/drive/MyDrive/2022_Analytics Lab Student Projects/Data/Topic 1/Data_Team1/SynDet\""
      ]
    },
    {
      "cell_type": "code",
      "source": [
        "import pandas as pd\n",
        "import numpy as np\n",
        "import matplotlib.pyplot as plt\n",
        "import seaborn as sns\n",
        "import pickle\n",
        "import torch\n",
        "#import duckdb\n",
        "#import sqlalchemy\n",
        "\n",
        "#!pip install -U sentence-transformers\n",
        "#from sentence_transformers import util"
      ],
      "metadata": {
        "id": "nwS2if1b8KF9"
      },
      "execution_count": null,
      "outputs": []
    },
    {
      "cell_type": "code",
      "source": [
        "nounphrases = pd.read_csv(data_path+\"/SynDet_entities_train.csv\")\n",
        "nounphrases.head(10)"
      ],
      "metadata": {
        "id": "e4TyHgY68OYZ",
        "colab": {
          "base_uri": "https://localhost:8080/",
          "height": 363
        },
        "outputId": "0f441b83-426c-49fa-b341-ab3e6e59bb2d"
      },
      "execution_count": null,
      "outputs": [
        {
          "output_type": "execute_result",
          "data": {
            "text/plain": [
              "   Unnamed: 0  article_id    sentence_id                 ent_id  \\\n",
              "0           0         188  188_3753_3772               videotex   \n",
              "1           1         188  188_3753_3772               videotex   \n",
              "2           2         188  188_3753_3772               videotex   \n",
              "3           3         188  188_3753_3772               videotex   \n",
              "4           4         188  188_3753_3772               videotex   \n",
              "5           5         188  188_3828_3848  competitive advantage   \n",
              "6           6         188  188_3828_3848  competitive advantage   \n",
              "7           7         188  188_3828_3848  competitive advantage   \n",
              "8           8         188  188_3828_3848  competitive advantage   \n",
              "9           9         188  188_3848_3883             government   \n",
              "\n",
              "                noun_phrases true_ent_id  \n",
              "0                      which           0  \n",
              "1                         we           0  \n",
              "2             an information           0  \n",
              "3     communication resource           0  \n",
              "4         the Minitel system           0  \n",
              "5                         It           0  \n",
              "6                     any rm           0  \n",
              "7                    the eld           0  \n",
              "8  so competitive advantages           0  \n",
              "9                       This           0  "
            ],
            "text/html": [
              "\n",
              "  <div id=\"df-b6dc6d48-e9fb-4a8d-bd3f-dbdbe29551ba\">\n",
              "    <div class=\"colab-df-container\">\n",
              "      <div>\n",
              "<style scoped>\n",
              "    .dataframe tbody tr th:only-of-type {\n",
              "        vertical-align: middle;\n",
              "    }\n",
              "\n",
              "    .dataframe tbody tr th {\n",
              "        vertical-align: top;\n",
              "    }\n",
              "\n",
              "    .dataframe thead th {\n",
              "        text-align: right;\n",
              "    }\n",
              "</style>\n",
              "<table border=\"1\" class=\"dataframe\">\n",
              "  <thead>\n",
              "    <tr style=\"text-align: right;\">\n",
              "      <th></th>\n",
              "      <th>Unnamed: 0</th>\n",
              "      <th>article_id</th>\n",
              "      <th>sentence_id</th>\n",
              "      <th>ent_id</th>\n",
              "      <th>noun_phrases</th>\n",
              "      <th>true_ent_id</th>\n",
              "    </tr>\n",
              "  </thead>\n",
              "  <tbody>\n",
              "    <tr>\n",
              "      <th>0</th>\n",
              "      <td>0</td>\n",
              "      <td>188</td>\n",
              "      <td>188_3753_3772</td>\n",
              "      <td>videotex</td>\n",
              "      <td>which</td>\n",
              "      <td>0</td>\n",
              "    </tr>\n",
              "    <tr>\n",
              "      <th>1</th>\n",
              "      <td>1</td>\n",
              "      <td>188</td>\n",
              "      <td>188_3753_3772</td>\n",
              "      <td>videotex</td>\n",
              "      <td>we</td>\n",
              "      <td>0</td>\n",
              "    </tr>\n",
              "    <tr>\n",
              "      <th>2</th>\n",
              "      <td>2</td>\n",
              "      <td>188</td>\n",
              "      <td>188_3753_3772</td>\n",
              "      <td>videotex</td>\n",
              "      <td>an information</td>\n",
              "      <td>0</td>\n",
              "    </tr>\n",
              "    <tr>\n",
              "      <th>3</th>\n",
              "      <td>3</td>\n",
              "      <td>188</td>\n",
              "      <td>188_3753_3772</td>\n",
              "      <td>videotex</td>\n",
              "      <td>communication resource</td>\n",
              "      <td>0</td>\n",
              "    </tr>\n",
              "    <tr>\n",
              "      <th>4</th>\n",
              "      <td>4</td>\n",
              "      <td>188</td>\n",
              "      <td>188_3753_3772</td>\n",
              "      <td>videotex</td>\n",
              "      <td>the Minitel system</td>\n",
              "      <td>0</td>\n",
              "    </tr>\n",
              "    <tr>\n",
              "      <th>5</th>\n",
              "      <td>5</td>\n",
              "      <td>188</td>\n",
              "      <td>188_3828_3848</td>\n",
              "      <td>competitive advantage</td>\n",
              "      <td>It</td>\n",
              "      <td>0</td>\n",
              "    </tr>\n",
              "    <tr>\n",
              "      <th>6</th>\n",
              "      <td>6</td>\n",
              "      <td>188</td>\n",
              "      <td>188_3828_3848</td>\n",
              "      <td>competitive advantage</td>\n",
              "      <td>any rm</td>\n",
              "      <td>0</td>\n",
              "    </tr>\n",
              "    <tr>\n",
              "      <th>7</th>\n",
              "      <td>7</td>\n",
              "      <td>188</td>\n",
              "      <td>188_3828_3848</td>\n",
              "      <td>competitive advantage</td>\n",
              "      <td>the eld</td>\n",
              "      <td>0</td>\n",
              "    </tr>\n",
              "    <tr>\n",
              "      <th>8</th>\n",
              "      <td>8</td>\n",
              "      <td>188</td>\n",
              "      <td>188_3828_3848</td>\n",
              "      <td>competitive advantage</td>\n",
              "      <td>so competitive advantages</td>\n",
              "      <td>0</td>\n",
              "    </tr>\n",
              "    <tr>\n",
              "      <th>9</th>\n",
              "      <td>9</td>\n",
              "      <td>188</td>\n",
              "      <td>188_3848_3883</td>\n",
              "      <td>government</td>\n",
              "      <td>This</td>\n",
              "      <td>0</td>\n",
              "    </tr>\n",
              "  </tbody>\n",
              "</table>\n",
              "</div>\n",
              "      <button class=\"colab-df-convert\" onclick=\"convertToInteractive('df-b6dc6d48-e9fb-4a8d-bd3f-dbdbe29551ba')\"\n",
              "              title=\"Convert this dataframe to an interactive table.\"\n",
              "              style=\"display:none;\">\n",
              "        \n",
              "  <svg xmlns=\"http://www.w3.org/2000/svg\" height=\"24px\"viewBox=\"0 0 24 24\"\n",
              "       width=\"24px\">\n",
              "    <path d=\"M0 0h24v24H0V0z\" fill=\"none\"/>\n",
              "    <path d=\"M18.56 5.44l.94 2.06.94-2.06 2.06-.94-2.06-.94-.94-2.06-.94 2.06-2.06.94zm-11 1L8.5 8.5l.94-2.06 2.06-.94-2.06-.94L8.5 2.5l-.94 2.06-2.06.94zm10 10l.94 2.06.94-2.06 2.06-.94-2.06-.94-.94-2.06-.94 2.06-2.06.94z\"/><path d=\"M17.41 7.96l-1.37-1.37c-.4-.4-.92-.59-1.43-.59-.52 0-1.04.2-1.43.59L10.3 9.45l-7.72 7.72c-.78.78-.78 2.05 0 2.83L4 21.41c.39.39.9.59 1.41.59.51 0 1.02-.2 1.41-.59l7.78-7.78 2.81-2.81c.8-.78.8-2.07 0-2.86zM5.41 20L4 18.59l7.72-7.72 1.47 1.35L5.41 20z\"/>\n",
              "  </svg>\n",
              "      </button>\n",
              "      \n",
              "  <style>\n",
              "    .colab-df-container {\n",
              "      display:flex;\n",
              "      flex-wrap:wrap;\n",
              "      gap: 12px;\n",
              "    }\n",
              "\n",
              "    .colab-df-convert {\n",
              "      background-color: #E8F0FE;\n",
              "      border: none;\n",
              "      border-radius: 50%;\n",
              "      cursor: pointer;\n",
              "      display: none;\n",
              "      fill: #1967D2;\n",
              "      height: 32px;\n",
              "      padding: 0 0 0 0;\n",
              "      width: 32px;\n",
              "    }\n",
              "\n",
              "    .colab-df-convert:hover {\n",
              "      background-color: #E2EBFA;\n",
              "      box-shadow: 0px 1px 2px rgba(60, 64, 67, 0.3), 0px 1px 3px 1px rgba(60, 64, 67, 0.15);\n",
              "      fill: #174EA6;\n",
              "    }\n",
              "\n",
              "    [theme=dark] .colab-df-convert {\n",
              "      background-color: #3B4455;\n",
              "      fill: #D2E3FC;\n",
              "    }\n",
              "\n",
              "    [theme=dark] .colab-df-convert:hover {\n",
              "      background-color: #434B5C;\n",
              "      box-shadow: 0px 1px 3px 1px rgba(0, 0, 0, 0.15);\n",
              "      filter: drop-shadow(0px 1px 2px rgba(0, 0, 0, 0.3));\n",
              "      fill: #FFFFFF;\n",
              "    }\n",
              "  </style>\n",
              "\n",
              "      <script>\n",
              "        const buttonEl =\n",
              "          document.querySelector('#df-b6dc6d48-e9fb-4a8d-bd3f-dbdbe29551ba button.colab-df-convert');\n",
              "        buttonEl.style.display =\n",
              "          google.colab.kernel.accessAllowed ? 'block' : 'none';\n",
              "\n",
              "        async function convertToInteractive(key) {\n",
              "          const element = document.querySelector('#df-b6dc6d48-e9fb-4a8d-bd3f-dbdbe29551ba');\n",
              "          const dataTable =\n",
              "            await google.colab.kernel.invokeFunction('convertToInteractive',\n",
              "                                                     [key], {});\n",
              "          if (!dataTable) return;\n",
              "\n",
              "          const docLinkHtml = 'Like what you see? Visit the ' +\n",
              "            '<a target=\"_blank\" href=https://colab.research.google.com/notebooks/data_table.ipynb>data table notebook</a>'\n",
              "            + ' to learn more about interactive tables.';\n",
              "          element.innerHTML = '';\n",
              "          dataTable['output_type'] = 'display_data';\n",
              "          await google.colab.output.renderOutput(dataTable, element);\n",
              "          const docLink = document.createElement('div');\n",
              "          docLink.innerHTML = docLinkHtml;\n",
              "          element.appendChild(docLink);\n",
              "        }\n",
              "      </script>\n",
              "    </div>\n",
              "  </div>\n",
              "  "
            ]
          },
          "metadata": {},
          "execution_count": 3
        }
      ]
    },
    {
      "cell_type": "code",
      "source": [
        "# Filter for article 188\n",
        "nounphrases_188 = nounphrases.loc[nounphrases[\"article_id\"]==188]"
      ],
      "metadata": {
        "id": "ifsZo--iCqgt"
      },
      "execution_count": null,
      "outputs": []
    },
    {
      "cell_type": "code",
      "source": [
        "nounphrases_188['noun_phrases'] = nounphrases_188['noun_phrases'].astype(str)\n",
        "nounphrases_188 = nounphrases_188.reset_index(drop=True)\n",
        "nounphrases_188['noun_phrases']"
      ],
      "metadata": {
        "colab": {
          "base_uri": "https://localhost:8080/"
        },
        "id": "gM3CXSOH5f3w",
        "outputId": "616e1596-b465-466d-f20d-af714be1729e"
      },
      "execution_count": null,
      "outputs": [
        {
          "output_type": "stream",
          "name": "stderr",
          "text": [
            "/usr/local/lib/python3.7/dist-packages/ipykernel_launcher.py:1: SettingWithCopyWarning: \n",
            "A value is trying to be set on a copy of a slice from a DataFrame.\n",
            "Try using .loc[row_indexer,col_indexer] = value instead\n",
            "\n",
            "See the caveats in the documentation: https://pandas.pydata.org/pandas-docs/stable/user_guide/indexing.html#returning-a-view-versus-a-copy\n",
            "  \"\"\"Entry point for launching an IPython kernel.\n"
          ]
        },
        {
          "output_type": "execute_result",
          "data": {
            "text/plain": [
              "0                         which\n",
              "1                            we\n",
              "2                an information\n",
              "3        communication resource\n",
              "4            the Minitel system\n",
              "                 ...           \n",
              "3222                       mind\n",
              "3223          the French people\n",
              "3224             the government\n",
              "3225    the French superhighway\n",
              "3226       The Minitel terminal\n",
              "Name: noun_phrases, Length: 3227, dtype: object"
            ]
          },
          "metadata": {},
          "execution_count": 5
        }
      ]
    },
    {
      "cell_type": "code",
      "source": [
        "ontology_syn = pd.read_csv(data_path+\"/SynDet_ontology_train.csv\", index_col=0)\n",
        "ontology_syn.shape"
      ],
      "metadata": {
        "colab": {
          "base_uri": "https://localhost:8080/"
        },
        "id": "PqWOOlT_9O6S",
        "outputId": "daaccf6e-3e05-47ac-85c6-ef8ff4920c98"
      },
      "execution_count": null,
      "outputs": [
        {
          "output_type": "execute_result",
          "data": {
            "text/plain": [
              "(340613, 4)"
            ]
          },
          "metadata": {},
          "execution_count": 6
        }
      ]
    },
    {
      "cell_type": "code",
      "source": [
        "# Check number of synonyms per entity_id\n",
        "ent_sy_group = ontology_syn.groupby(\"entity_id\")[[\"synonym\"]].nunique().sort_values(by=\"synonym\", ascending=False)\n",
        "ent_sy_group"
      ],
      "metadata": {
        "colab": {
          "base_uri": "https://localhost:8080/",
          "height": 455
        },
        "id": "PNm_YkJq95Sj",
        "outputId": "4362e472-cc90-46b2-d06a-0d00231eac48"
      },
      "execution_count": null,
      "outputs": [
        {
          "output_type": "execute_result",
          "data": {
            "text/plain": [
              "                                      synonym\n",
              "entity_id                                    \n",
              "individual participant                 195173\n",
              "survey                                  36130\n",
              "three validities                        13677\n",
              "online learning system                   8583\n",
              "communication service infrastructure     7635\n",
              "...                                       ...\n",
              "Hardy-Weinberg equilibrium testing          1\n",
              "knowledge creation                          1\n",
              "commercial bank                             1\n",
              "technology threat avoidance theory          1\n",
              "data envelopment analysis                   1\n",
              "\n",
              "[2684 rows x 1 columns]"
            ],
            "text/html": [
              "\n",
              "  <div id=\"df-54396082-826d-4afd-a326-d5472ed50fd0\">\n",
              "    <div class=\"colab-df-container\">\n",
              "      <div>\n",
              "<style scoped>\n",
              "    .dataframe tbody tr th:only-of-type {\n",
              "        vertical-align: middle;\n",
              "    }\n",
              "\n",
              "    .dataframe tbody tr th {\n",
              "        vertical-align: top;\n",
              "    }\n",
              "\n",
              "    .dataframe thead th {\n",
              "        text-align: right;\n",
              "    }\n",
              "</style>\n",
              "<table border=\"1\" class=\"dataframe\">\n",
              "  <thead>\n",
              "    <tr style=\"text-align: right;\">\n",
              "      <th></th>\n",
              "      <th>synonym</th>\n",
              "    </tr>\n",
              "    <tr>\n",
              "      <th>entity_id</th>\n",
              "      <th></th>\n",
              "    </tr>\n",
              "  </thead>\n",
              "  <tbody>\n",
              "    <tr>\n",
              "      <th>individual participant</th>\n",
              "      <td>195173</td>\n",
              "    </tr>\n",
              "    <tr>\n",
              "      <th>survey</th>\n",
              "      <td>36130</td>\n",
              "    </tr>\n",
              "    <tr>\n",
              "      <th>three validities</th>\n",
              "      <td>13677</td>\n",
              "    </tr>\n",
              "    <tr>\n",
              "      <th>online learning system</th>\n",
              "      <td>8583</td>\n",
              "    </tr>\n",
              "    <tr>\n",
              "      <th>communication service infrastructure</th>\n",
              "      <td>7635</td>\n",
              "    </tr>\n",
              "    <tr>\n",
              "      <th>...</th>\n",
              "      <td>...</td>\n",
              "    </tr>\n",
              "    <tr>\n",
              "      <th>Hardy-Weinberg equilibrium testing</th>\n",
              "      <td>1</td>\n",
              "    </tr>\n",
              "    <tr>\n",
              "      <th>knowledge creation</th>\n",
              "      <td>1</td>\n",
              "    </tr>\n",
              "    <tr>\n",
              "      <th>commercial bank</th>\n",
              "      <td>1</td>\n",
              "    </tr>\n",
              "    <tr>\n",
              "      <th>technology threat avoidance theory</th>\n",
              "      <td>1</td>\n",
              "    </tr>\n",
              "    <tr>\n",
              "      <th>data envelopment analysis</th>\n",
              "      <td>1</td>\n",
              "    </tr>\n",
              "  </tbody>\n",
              "</table>\n",
              "<p>2684 rows × 1 columns</p>\n",
              "</div>\n",
              "      <button class=\"colab-df-convert\" onclick=\"convertToInteractive('df-54396082-826d-4afd-a326-d5472ed50fd0')\"\n",
              "              title=\"Convert this dataframe to an interactive table.\"\n",
              "              style=\"display:none;\">\n",
              "        \n",
              "  <svg xmlns=\"http://www.w3.org/2000/svg\" height=\"24px\"viewBox=\"0 0 24 24\"\n",
              "       width=\"24px\">\n",
              "    <path d=\"M0 0h24v24H0V0z\" fill=\"none\"/>\n",
              "    <path d=\"M18.56 5.44l.94 2.06.94-2.06 2.06-.94-2.06-.94-.94-2.06-.94 2.06-2.06.94zm-11 1L8.5 8.5l.94-2.06 2.06-.94-2.06-.94L8.5 2.5l-.94 2.06-2.06.94zm10 10l.94 2.06.94-2.06 2.06-.94-2.06-.94-.94-2.06-.94 2.06-2.06.94z\"/><path d=\"M17.41 7.96l-1.37-1.37c-.4-.4-.92-.59-1.43-.59-.52 0-1.04.2-1.43.59L10.3 9.45l-7.72 7.72c-.78.78-.78 2.05 0 2.83L4 21.41c.39.39.9.59 1.41.59.51 0 1.02-.2 1.41-.59l7.78-7.78 2.81-2.81c.8-.78.8-2.07 0-2.86zM5.41 20L4 18.59l7.72-7.72 1.47 1.35L5.41 20z\"/>\n",
              "  </svg>\n",
              "      </button>\n",
              "      \n",
              "  <style>\n",
              "    .colab-df-container {\n",
              "      display:flex;\n",
              "      flex-wrap:wrap;\n",
              "      gap: 12px;\n",
              "    }\n",
              "\n",
              "    .colab-df-convert {\n",
              "      background-color: #E8F0FE;\n",
              "      border: none;\n",
              "      border-radius: 50%;\n",
              "      cursor: pointer;\n",
              "      display: none;\n",
              "      fill: #1967D2;\n",
              "      height: 32px;\n",
              "      padding: 0 0 0 0;\n",
              "      width: 32px;\n",
              "    }\n",
              "\n",
              "    .colab-df-convert:hover {\n",
              "      background-color: #E2EBFA;\n",
              "      box-shadow: 0px 1px 2px rgba(60, 64, 67, 0.3), 0px 1px 3px 1px rgba(60, 64, 67, 0.15);\n",
              "      fill: #174EA6;\n",
              "    }\n",
              "\n",
              "    [theme=dark] .colab-df-convert {\n",
              "      background-color: #3B4455;\n",
              "      fill: #D2E3FC;\n",
              "    }\n",
              "\n",
              "    [theme=dark] .colab-df-convert:hover {\n",
              "      background-color: #434B5C;\n",
              "      box-shadow: 0px 1px 3px 1px rgba(0, 0, 0, 0.15);\n",
              "      filter: drop-shadow(0px 1px 2px rgba(0, 0, 0, 0.3));\n",
              "      fill: #FFFFFF;\n",
              "    }\n",
              "  </style>\n",
              "\n",
              "      <script>\n",
              "        const buttonEl =\n",
              "          document.querySelector('#df-54396082-826d-4afd-a326-d5472ed50fd0 button.colab-df-convert');\n",
              "        buttonEl.style.display =\n",
              "          google.colab.kernel.accessAllowed ? 'block' : 'none';\n",
              "\n",
              "        async function convertToInteractive(key) {\n",
              "          const element = document.querySelector('#df-54396082-826d-4afd-a326-d5472ed50fd0');\n",
              "          const dataTable =\n",
              "            await google.colab.kernel.invokeFunction('convertToInteractive',\n",
              "                                                     [key], {});\n",
              "          if (!dataTable) return;\n",
              "\n",
              "          const docLinkHtml = 'Like what you see? Visit the ' +\n",
              "            '<a target=\"_blank\" href=https://colab.research.google.com/notebooks/data_table.ipynb>data table notebook</a>'\n",
              "            + ' to learn more about interactive tables.';\n",
              "          element.innerHTML = '';\n",
              "          dataTable['output_type'] = 'display_data';\n",
              "          await google.colab.output.renderOutput(dataTable, element);\n",
              "          const docLink = document.createElement('div');\n",
              "          docLink.innerHTML = docLinkHtml;\n",
              "          element.appendChild(docLink);\n",
              "        }\n",
              "      </script>\n",
              "    </div>\n",
              "  </div>\n",
              "  "
            ]
          },
          "metadata": {},
          "execution_count": 7
        }
      ]
    },
    {
      "cell_type": "code",
      "source": [
        "# Downsample entities with more than 100 synonyms to a 100 synoyms (but always include \"main entity_id\" in subsample)\n",
        "idx = ent_sy_group[ent_sy_group[\"synonym\"]>100].index.tolist()\n",
        "\n",
        "dfs = []\n",
        "for entity in idx:\n",
        "  t1 = ontology_syn[(ontology_syn.entity_id==entity)&(ontology_syn.synonym==entity)]\n",
        "  t2 = ontology_syn[(ontology_syn.entity_id==entity)&(ontology_syn.synonym!=entity)].sample(99)\n",
        "  dfs.append(pd.concat([t1,t2]))\n",
        "dfs.append(ontology_syn.loc[~ontology_syn[\"entity_id\"].isin(idx)]) # Append dataframe for all entities with less then 100 synonyms to list\n",
        "\n",
        "# Combine all dataframes \n",
        "ontology_syn_ds = pd.concat(dfs).reset_index(drop=True)"
      ],
      "metadata": {
        "id": "F6e0HB0gC0lW"
      },
      "execution_count": null,
      "outputs": []
    },
    {
      "cell_type": "code",
      "source": [
        "#Show synonyms in ontology which appear in more than 1 entity\n",
        "ontology_syn_ds[ontology_syn_ds.synonym.duplicated(keep=False)].sort_values(by=\"synonym\")"
      ],
      "metadata": {
        "colab": {
          "base_uri": "https://localhost:8080/",
          "height": 424
        },
        "id": "KuHv4GANC2QP",
        "outputId": "da9c3b6a-85e2-401b-ec65-e4a089ce4682"
      },
      "execution_count": null,
      "outputs": [
        {
          "output_type": "execute_result",
          "data": {
            "text/plain": [
              "                                               entity_id  \\\n",
              "22253                          Pearson's Chi square test   \n",
              "21871  Pearson's chi squared test of independence bet...   \n",
              "22248                          Pearson's Chi square test   \n",
              "21865  Pearson's chi squared test of independence bet...   \n",
              "25266                   information technology operation   \n",
              "...                                                  ...   \n",
              "3967                      procurement information system   \n",
              "29501                                            website   \n",
              "29876                                    web application   \n",
              "9872                                   Chi square metric   \n",
              "21843                                   chi squared test   \n",
              "\n",
              "                     category            label                      synonym  \n",
              "22253   methodological entity  ANALYSIS_METHOD   Chi2 test for independence  \n",
              "21871   methodological entity  ANALYSIS_METHOD   Chi2 test for independence  \n",
              "22248   methodological entity  ANALYSIS_METHOD  Chi2 test for independences  \n",
              "21865   methodological entity  ANALYSIS_METHOD  Chi2 test for independences  \n",
              "25266  domain specific entity            TOPIC                EDP operation  \n",
              "...                       ...              ...                          ...  \n",
              "3967   domain specific entity       TECHNOLOGY       web based procurements  \n",
              "29501  domain specific entity       TECHNOLOGY                    web sites  \n",
              "29876  domain specific entity       TECHNOLOGY                    web sites  \n",
              "9872    methodological entity           METRIC                         χ 2S  \n",
              "21843   methodological entity  ANALYSIS_METHOD                         χ 2S  \n",
              "\n",
              "[306 rows x 4 columns]"
            ],
            "text/html": [
              "\n",
              "  <div id=\"df-2facc4d1-7f07-42d4-a829-62945a02d563\">\n",
              "    <div class=\"colab-df-container\">\n",
              "      <div>\n",
              "<style scoped>\n",
              "    .dataframe tbody tr th:only-of-type {\n",
              "        vertical-align: middle;\n",
              "    }\n",
              "\n",
              "    .dataframe tbody tr th {\n",
              "        vertical-align: top;\n",
              "    }\n",
              "\n",
              "    .dataframe thead th {\n",
              "        text-align: right;\n",
              "    }\n",
              "</style>\n",
              "<table border=\"1\" class=\"dataframe\">\n",
              "  <thead>\n",
              "    <tr style=\"text-align: right;\">\n",
              "      <th></th>\n",
              "      <th>entity_id</th>\n",
              "      <th>category</th>\n",
              "      <th>label</th>\n",
              "      <th>synonym</th>\n",
              "    </tr>\n",
              "  </thead>\n",
              "  <tbody>\n",
              "    <tr>\n",
              "      <th>22253</th>\n",
              "      <td>Pearson's Chi square test</td>\n",
              "      <td>methodological entity</td>\n",
              "      <td>ANALYSIS_METHOD</td>\n",
              "      <td>Chi2 test for independence</td>\n",
              "    </tr>\n",
              "    <tr>\n",
              "      <th>21871</th>\n",
              "      <td>Pearson's chi squared test of independence bet...</td>\n",
              "      <td>methodological entity</td>\n",
              "      <td>ANALYSIS_METHOD</td>\n",
              "      <td>Chi2 test for independence</td>\n",
              "    </tr>\n",
              "    <tr>\n",
              "      <th>22248</th>\n",
              "      <td>Pearson's Chi square test</td>\n",
              "      <td>methodological entity</td>\n",
              "      <td>ANALYSIS_METHOD</td>\n",
              "      <td>Chi2 test for independences</td>\n",
              "    </tr>\n",
              "    <tr>\n",
              "      <th>21865</th>\n",
              "      <td>Pearson's chi squared test of independence bet...</td>\n",
              "      <td>methodological entity</td>\n",
              "      <td>ANALYSIS_METHOD</td>\n",
              "      <td>Chi2 test for independences</td>\n",
              "    </tr>\n",
              "    <tr>\n",
              "      <th>25266</th>\n",
              "      <td>information technology operation</td>\n",
              "      <td>domain specific entity</td>\n",
              "      <td>TOPIC</td>\n",
              "      <td>EDP operation</td>\n",
              "    </tr>\n",
              "    <tr>\n",
              "      <th>...</th>\n",
              "      <td>...</td>\n",
              "      <td>...</td>\n",
              "      <td>...</td>\n",
              "      <td>...</td>\n",
              "    </tr>\n",
              "    <tr>\n",
              "      <th>3967</th>\n",
              "      <td>procurement information system</td>\n",
              "      <td>domain specific entity</td>\n",
              "      <td>TECHNOLOGY</td>\n",
              "      <td>web based procurements</td>\n",
              "    </tr>\n",
              "    <tr>\n",
              "      <th>29501</th>\n",
              "      <td>website</td>\n",
              "      <td>domain specific entity</td>\n",
              "      <td>TECHNOLOGY</td>\n",
              "      <td>web sites</td>\n",
              "    </tr>\n",
              "    <tr>\n",
              "      <th>29876</th>\n",
              "      <td>web application</td>\n",
              "      <td>domain specific entity</td>\n",
              "      <td>TECHNOLOGY</td>\n",
              "      <td>web sites</td>\n",
              "    </tr>\n",
              "    <tr>\n",
              "      <th>9872</th>\n",
              "      <td>Chi square metric</td>\n",
              "      <td>methodological entity</td>\n",
              "      <td>METRIC</td>\n",
              "      <td>χ 2S</td>\n",
              "    </tr>\n",
              "    <tr>\n",
              "      <th>21843</th>\n",
              "      <td>chi squared test</td>\n",
              "      <td>methodological entity</td>\n",
              "      <td>ANALYSIS_METHOD</td>\n",
              "      <td>χ 2S</td>\n",
              "    </tr>\n",
              "  </tbody>\n",
              "</table>\n",
              "<p>306 rows × 4 columns</p>\n",
              "</div>\n",
              "      <button class=\"colab-df-convert\" onclick=\"convertToInteractive('df-2facc4d1-7f07-42d4-a829-62945a02d563')\"\n",
              "              title=\"Convert this dataframe to an interactive table.\"\n",
              "              style=\"display:none;\">\n",
              "        \n",
              "  <svg xmlns=\"http://www.w3.org/2000/svg\" height=\"24px\"viewBox=\"0 0 24 24\"\n",
              "       width=\"24px\">\n",
              "    <path d=\"M0 0h24v24H0V0z\" fill=\"none\"/>\n",
              "    <path d=\"M18.56 5.44l.94 2.06.94-2.06 2.06-.94-2.06-.94-.94-2.06-.94 2.06-2.06.94zm-11 1L8.5 8.5l.94-2.06 2.06-.94-2.06-.94L8.5 2.5l-.94 2.06-2.06.94zm10 10l.94 2.06.94-2.06 2.06-.94-2.06-.94-.94-2.06-.94 2.06-2.06.94z\"/><path d=\"M17.41 7.96l-1.37-1.37c-.4-.4-.92-.59-1.43-.59-.52 0-1.04.2-1.43.59L10.3 9.45l-7.72 7.72c-.78.78-.78 2.05 0 2.83L4 21.41c.39.39.9.59 1.41.59.51 0 1.02-.2 1.41-.59l7.78-7.78 2.81-2.81c.8-.78.8-2.07 0-2.86zM5.41 20L4 18.59l7.72-7.72 1.47 1.35L5.41 20z\"/>\n",
              "  </svg>\n",
              "      </button>\n",
              "      \n",
              "  <style>\n",
              "    .colab-df-container {\n",
              "      display:flex;\n",
              "      flex-wrap:wrap;\n",
              "      gap: 12px;\n",
              "    }\n",
              "\n",
              "    .colab-df-convert {\n",
              "      background-color: #E8F0FE;\n",
              "      border: none;\n",
              "      border-radius: 50%;\n",
              "      cursor: pointer;\n",
              "      display: none;\n",
              "      fill: #1967D2;\n",
              "      height: 32px;\n",
              "      padding: 0 0 0 0;\n",
              "      width: 32px;\n",
              "    }\n",
              "\n",
              "    .colab-df-convert:hover {\n",
              "      background-color: #E2EBFA;\n",
              "      box-shadow: 0px 1px 2px rgba(60, 64, 67, 0.3), 0px 1px 3px 1px rgba(60, 64, 67, 0.15);\n",
              "      fill: #174EA6;\n",
              "    }\n",
              "\n",
              "    [theme=dark] .colab-df-convert {\n",
              "      background-color: #3B4455;\n",
              "      fill: #D2E3FC;\n",
              "    }\n",
              "\n",
              "    [theme=dark] .colab-df-convert:hover {\n",
              "      background-color: #434B5C;\n",
              "      box-shadow: 0px 1px 3px 1px rgba(0, 0, 0, 0.15);\n",
              "      filter: drop-shadow(0px 1px 2px rgba(0, 0, 0, 0.3));\n",
              "      fill: #FFFFFF;\n",
              "    }\n",
              "  </style>\n",
              "\n",
              "      <script>\n",
              "        const buttonEl =\n",
              "          document.querySelector('#df-2facc4d1-7f07-42d4-a829-62945a02d563 button.colab-df-convert');\n",
              "        buttonEl.style.display =\n",
              "          google.colab.kernel.accessAllowed ? 'block' : 'none';\n",
              "\n",
              "        async function convertToInteractive(key) {\n",
              "          const element = document.querySelector('#df-2facc4d1-7f07-42d4-a829-62945a02d563');\n",
              "          const dataTable =\n",
              "            await google.colab.kernel.invokeFunction('convertToInteractive',\n",
              "                                                     [key], {});\n",
              "          if (!dataTable) return;\n",
              "\n",
              "          const docLinkHtml = 'Like what you see? Visit the ' +\n",
              "            '<a target=\"_blank\" href=https://colab.research.google.com/notebooks/data_table.ipynb>data table notebook</a>'\n",
              "            + ' to learn more about interactive tables.';\n",
              "          element.innerHTML = '';\n",
              "          dataTable['output_type'] = 'display_data';\n",
              "          await google.colab.output.renderOutput(dataTable, element);\n",
              "          const docLink = document.createElement('div');\n",
              "          docLink.innerHTML = docLinkHtml;\n",
              "          element.appendChild(docLink);\n",
              "        }\n",
              "      </script>\n",
              "    </div>\n",
              "  </div>\n",
              "  "
            ]
          },
          "metadata": {},
          "execution_count": 9
        }
      ]
    },
    {
      "cell_type": "code",
      "source": [
        "#List of unique entities from ontology with synonyms with downsampling\n",
        "\n",
        "ontology_syn_ds_unique = ontology_syn_ds.drop_duplicates(subset=\"synonym\")"
      ],
      "metadata": {
        "id": "6NsFfGutDAG0"
      },
      "execution_count": null,
      "outputs": []
    },
    {
      "cell_type": "code",
      "source": [
        "ontology_syn_ds_unique = ontology_syn_ds_unique.reset_index(drop=True)\n",
        "ontology_syn_ds_unique[\"synonym\"][3115]"
      ],
      "metadata": {
        "colab": {
          "base_uri": "https://localhost:8080/",
          "height": 36
        },
        "id": "lRI_GZEg5SUN",
        "outputId": "ca82b2cd-0151-473d-ed49-c9a363e72ad3"
      },
      "execution_count": null,
      "outputs": [
        {
          "output_type": "execute_result",
          "data": {
            "text/plain": [
              "'digital mediated collaboration'"
            ],
            "application/vnd.google.colaboratory.intrinsic+json": {
              "type": "string"
            }
          },
          "metadata": {},
          "execution_count": 11
        }
      ]
    },
    {
      "cell_type": "code",
      "source": [
        "len(ontology_syn_ds_unique[\"synonym\"])"
      ],
      "metadata": {
        "colab": {
          "base_uri": "https://localhost:8080/"
        },
        "id": "vWBeIWCGyPZI",
        "outputId": "68459a91-043a-4637-decd-9e9102e9d29e"
      },
      "execution_count": null,
      "outputs": [
        {
          "output_type": "execute_result",
          "data": {
            "text/plain": [
              "32373"
            ]
          },
          "metadata": {},
          "execution_count": 12
        }
      ]
    },
    {
      "cell_type": "markdown",
      "source": [
        "# Using Glove"
      ],
      "metadata": {
        "id": "xRqFghxieJEM"
      }
    },
    {
      "cell_type": "markdown",
      "source": [
        "## Create embedding for the noun phrases"
      ],
      "metadata": {
        "id": "Ob0dBjBc19_E"
      }
    },
    {
      "cell_type": "code",
      "source": [
        "from nltk.tokenize import word_tokenize\n",
        "import nltk\n",
        "nltk.download('punkt')\n",
        "\n",
        "\n",
        "def create_corpus_tk(df):\n",
        "    corpus = []\n",
        "    for text in df:\n",
        "        words = text.split()\n",
        "        corpus.append(words)\n",
        "    return corpus"
      ],
      "metadata": {
        "id": "Qptw6a5meHxp",
        "colab": {
          "base_uri": "https://localhost:8080/"
        },
        "outputId": "cdcc1726-10a9-424d-ea00-eb32954202af"
      },
      "execution_count": null,
      "outputs": [
        {
          "output_type": "stream",
          "name": "stderr",
          "text": [
            "[nltk_data] Downloading package punkt to /root/nltk_data...\n",
            "[nltk_data]   Unzipping tokenizers/punkt.zip.\n"
          ]
        }
      ]
    },
    {
      "cell_type": "code",
      "source": [
        "# Create a corpus, where each noun phrase is splited in individual words \n",
        "corpus_nounphrase = create_corpus_tk(nounphrases_188[\"noun_phrases\"])\n",
        "\n",
        "corpus_nounphrase[2]"
      ],
      "metadata": {
        "colab": {
          "base_uri": "https://localhost:8080/"
        },
        "id": "r6stHA7peV9U",
        "outputId": "84035c76-3871-46a8-8fa2-ee881da2a569"
      },
      "execution_count": null,
      "outputs": [
        {
          "output_type": "execute_result",
          "data": {
            "text/plain": [
              "['an', 'information']"
            ]
          },
          "metadata": {},
          "execution_count": 14
        }
      ]
    },
    {
      "cell_type": "code",
      "source": [
        "num_words_nounphrase = len(corpus_nounphrase)\n",
        "num_words_nounphrase"
      ],
      "metadata": {
        "colab": {
          "base_uri": "https://localhost:8080/"
        },
        "id": "GyhixVAs2GK9",
        "outputId": "753128a5-85b7-485a-f618-1f756a5eb7f5"
      },
      "execution_count": null,
      "outputs": [
        {
          "output_type": "execute_result",
          "data": {
            "text/plain": [
              "3227"
            ]
          },
          "metadata": {},
          "execution_count": 15
        }
      ]
    },
    {
      "cell_type": "code",
      "source": [
        "# Tokenizing the words\n",
        "\n",
        "from keras.preprocessing.text import Tokenizer\n",
        "\n",
        "tokenizer_nounphrase = Tokenizer(num_words=num_words_nounphrase)\n",
        "tokenizer_nounphrase.fit_on_texts(nounphrases_188[\"noun_phrases\"])\n",
        "\n",
        "nounphrase_sequences = tokenizer_nounphrase.texts_to_sequences(nounphrases_188[\"noun_phrases\"])\n",
        "nounphrase_sequences[2]"
      ],
      "metadata": {
        "colab": {
          "base_uri": "https://localhost:8080/"
        },
        "id": "0WuTw8ym2hKH",
        "outputId": "b75456f4-bec0-440e-ce88-a2b50c62fbb1"
      },
      "execution_count": null,
      "outputs": [
        {
          "output_type": "execute_result",
          "data": {
            "text/plain": [
              "[21, 3]"
            ]
          },
          "metadata": {},
          "execution_count": 16
        }
      ]
    },
    {
      "cell_type": "code",
      "source": [
        "len(nounphrase_sequences)"
      ],
      "metadata": {
        "colab": {
          "base_uri": "https://localhost:8080/"
        },
        "id": "36mh49vjR6Pg",
        "outputId": "afcd1154-d01e-40b7-e695-ef944f2de5ae"
      },
      "execution_count": null,
      "outputs": [
        {
          "output_type": "execute_result",
          "data": {
            "text/plain": [
              "3227"
            ]
          },
          "metadata": {},
          "execution_count": 17
        }
      ]
    },
    {
      "cell_type": "code",
      "source": [
        "len(nounphrases_188[\"noun_phrases\"])"
      ],
      "metadata": {
        "colab": {
          "base_uri": "https://localhost:8080/"
        },
        "id": "TneS7UD3R-_t",
        "outputId": "1b6939bf-80f2-4354-f3aa-290186cbfef5"
      },
      "execution_count": null,
      "outputs": [
        {
          "output_type": "execute_result",
          "data": {
            "text/plain": [
              "3227"
            ]
          },
          "metadata": {},
          "execution_count": 18
        }
      ]
    },
    {
      "cell_type": "code",
      "source": [
        "print(nounphrases_188[\"noun_phrases\"][0])\n",
        "print(nounphrase_sequences[0])"
      ],
      "metadata": {
        "colab": {
          "base_uri": "https://localhost:8080/"
        },
        "id": "Aoz-o-fR4RNF",
        "outputId": "ae0f9ea5-885b-47df-abee-2d4b3dcdbccc"
      },
      "execution_count": null,
      "outputs": [
        {
          "output_type": "stream",
          "name": "stdout",
          "text": [
            "which\n",
            "[26]\n"
          ]
        }
      ]
    },
    {
      "cell_type": "code",
      "source": [
        "word_index_nounphrase = tokenizer_nounphrase.word_index\n",
        "print(\"Number of unique words:\", len(word_index_nounphrase))"
      ],
      "metadata": {
        "colab": {
          "base_uri": "https://localhost:8080/"
        },
        "id": "DA5-NvSE6Iqx",
        "outputId": "ab304a11-ccc9-403e-fad7-5d4beb25c806"
      },
      "execution_count": null,
      "outputs": [
        {
          "output_type": "stream",
          "name": "stdout",
          "text": [
            "Number of unique words: 822\n"
          ]
        }
      ]
    },
    {
      "cell_type": "code",
      "source": [
        "# Create a dictionary of word embedding from Glove (6B tokens, 100D word vector)\n",
        "\n",
        "embedding_dict = {}\n",
        "model = \"/content/drive/MyDrive/2022_Analytics Lab Student Projects/Data/Topic 1/Data_Team1/glove.6B.100d.txt\"\n",
        "\n",
        "with open(model, \"r\") as f:\n",
        "    for line in f:\n",
        "        values = line.split()\n",
        "        word = values[0]\n",
        "        vectors = np.asarray(values[1:], \"float32\")\n",
        "        embedding_dict[word] = vectors\n",
        "f.close()"
      ],
      "metadata": {
        "id": "jhgg2tnda1yM"
      },
      "execution_count": null,
      "outputs": []
    },
    {
      "cell_type": "code",
      "source": [
        "# To assign the pre-trained Glove embedding to our word index (individual word)\n",
        "\n",
        "def embedding_word(word_index):\n",
        "  num_words = len(word_index) + 1\n",
        "  embedding = np.zeros((num_words, 100))\n",
        "  for word, i in word_index.items():\n",
        "    if i < num_words:\n",
        "        emb_vec = embedding_dict.get(word)\n",
        "        if emb_vec is not None:\n",
        "            embedding[i] = emb_vec\n",
        "  return embedding"
      ],
      "metadata": {
        "id": "CiEC4Qy6bLiD"
      },
      "execution_count": null,
      "outputs": []
    },
    {
      "cell_type": "code",
      "source": [
        "embedding_nounphrase_word = embedding_word(word_index_nounphrase)"
      ],
      "metadata": {
        "id": "jQOTLK4-WXms"
      },
      "execution_count": null,
      "outputs": []
    },
    {
      "cell_type": "code",
      "source": [
        "word_index_nounphrase[\"information\"]"
      ],
      "metadata": {
        "colab": {
          "base_uri": "https://localhost:8080/"
        },
        "id": "uk41SDJ8XK-d",
        "outputId": "28ff2552-ce3d-42cb-ad63-72d74701e690"
      },
      "execution_count": null,
      "outputs": [
        {
          "output_type": "execute_result",
          "data": {
            "text/plain": [
              "3"
            ]
          },
          "metadata": {},
          "execution_count": 24
        }
      ]
    },
    {
      "cell_type": "code",
      "source": [
        "(embedding_nounphrase_word[3] == embedding_dict.get(\"information\")).all()"
      ],
      "metadata": {
        "colab": {
          "base_uri": "https://localhost:8080/"
        },
        "id": "XdgRcOUdXP95",
        "outputId": "ba1063bf-bef9-4383-a591-5be7ea18a65c"
      },
      "execution_count": null,
      "outputs": [
        {
          "output_type": "execute_result",
          "data": {
            "text/plain": [
              "True"
            ]
          },
          "metadata": {},
          "execution_count": 25
        }
      ]
    },
    {
      "cell_type": "code",
      "source": [
        "# To create embedding for the nounphrases, where we get the average of the embeddings of all the individual words in that nounphrase \n",
        "\n",
        "def embedding(sequences, embedding_word):\n",
        "  emb_list = []\n",
        "  for v in sequences:\n",
        "    v_list = []\n",
        "    for index in v:\n",
        "      v_list.append(embedding_word[index])\n",
        "    emb_list.append(np.mean(v_list, axis=0))\n",
        "  return emb_list"
      ],
      "metadata": {
        "id": "qaS3u_9JiqcQ"
      },
      "execution_count": null,
      "outputs": []
    },
    {
      "cell_type": "code",
      "source": [
        "embedding_nounphrase = embedding(nounphrase_sequences, embedding_nounphrase_word)\n",
        "len(embedding_nounphrase)"
      ],
      "metadata": {
        "id": "MSgWxX63s5nz",
        "colab": {
          "base_uri": "https://localhost:8080/"
        },
        "outputId": "f401a29b-b55a-4a3c-b74f-34b24d30c53b"
      },
      "execution_count": null,
      "outputs": [
        {
          "output_type": "stream",
          "name": "stderr",
          "text": [
            "/usr/local/lib/python3.7/dist-packages/numpy/core/fromnumeric.py:3441: RuntimeWarning: Mean of empty slice.\n",
            "  out=out, **kwargs)\n",
            "/usr/local/lib/python3.7/dist-packages/numpy/core/_methods.py:189: RuntimeWarning: invalid value encountered in double_scalars\n",
            "  ret = ret.dtype.type(ret / rcount)\n"
          ]
        },
        {
          "output_type": "execute_result",
          "data": {
            "text/plain": [
              "3227"
            ]
          },
          "metadata": {},
          "execution_count": 27
        }
      ]
    },
    {
      "cell_type": "code",
      "source": [
        "len(nounphrase_sequences)"
      ],
      "metadata": {
        "id": "k-e4L5oPjcHT",
        "colab": {
          "base_uri": "https://localhost:8080/"
        },
        "outputId": "423c502a-65c7-46dc-9222-bb513e946ff0"
      },
      "execution_count": null,
      "outputs": [
        {
          "output_type": "execute_result",
          "data": {
            "text/plain": [
              "3227"
            ]
          },
          "metadata": {},
          "execution_count": 28
        }
      ]
    },
    {
      "cell_type": "code",
      "source": [
        "len(nounphrases_188)"
      ],
      "metadata": {
        "colab": {
          "base_uri": "https://localhost:8080/"
        },
        "id": "I38MLLhibmMB",
        "outputId": "7671d413-168f-4d04-8e21-a97dfb8118c0"
      },
      "execution_count": null,
      "outputs": [
        {
          "output_type": "execute_result",
          "data": {
            "text/plain": [
              "3227"
            ]
          },
          "metadata": {},
          "execution_count": 29
        }
      ]
    },
    {
      "cell_type": "markdown",
      "source": [
        "## Creating embedding for the entities"
      ],
      "metadata": {
        "id": "T57xeJRlTneY"
      }
    },
    {
      "cell_type": "code",
      "source": [
        "corpus_entity = create_corpus_tk(ontology_syn_ds_unique[\"synonym\"])\n",
        "\n",
        "corpus_entity[0]"
      ],
      "metadata": {
        "id": "ha8dgjuWTmps",
        "colab": {
          "base_uri": "https://localhost:8080/"
        },
        "outputId": "9b93f033-e626-4bec-fa0a-b7300455bf38"
      },
      "execution_count": null,
      "outputs": [
        {
          "output_type": "execute_result",
          "data": {
            "text/plain": [
              "['individual', 'participant']"
            ]
          },
          "metadata": {},
          "execution_count": 30
        }
      ]
    },
    {
      "cell_type": "code",
      "source": [
        "num_words_entity = len(corpus_entity)\n",
        "num_words_entity"
      ],
      "metadata": {
        "colab": {
          "base_uri": "https://localhost:8080/"
        },
        "id": "tl5zzw2KblvR",
        "outputId": "7442d444-41ac-43da-cebe-90b36082fc78"
      },
      "execution_count": null,
      "outputs": [
        {
          "output_type": "execute_result",
          "data": {
            "text/plain": [
              "32373"
            ]
          },
          "metadata": {},
          "execution_count": 31
        }
      ]
    },
    {
      "cell_type": "code",
      "source": [
        "tokenizer_entity = Tokenizer(num_words=num_words_entity)\n",
        "tokenizer_entity.fit_on_texts(ontology_syn_ds_unique[\"synonym\"])\n",
        "\n",
        "entity_sequences = tokenizer_entity.texts_to_sequences(ontology_syn_ds_unique[\"synonym\"])"
      ],
      "metadata": {
        "id": "hhDK6RDcbtRN"
      },
      "execution_count": null,
      "outputs": []
    },
    {
      "cell_type": "code",
      "source": [
        "word_index_entity = tokenizer_entity.word_index\n",
        "print(\"Number of unique words:\", len(word_index_entity))"
      ],
      "metadata": {
        "colab": {
          "base_uri": "https://localhost:8080/"
        },
        "id": "P2Mnh78ib-w0",
        "outputId": "c48b5a53-6ec1-4219-f615-f896d3e3f7d8"
      },
      "execution_count": null,
      "outputs": [
        {
          "output_type": "stream",
          "name": "stdout",
          "text": [
            "Number of unique words: 5476\n"
          ]
        }
      ]
    },
    {
      "cell_type": "code",
      "source": [
        "embedding_entity_word = embedding_word(word_index_entity)"
      ],
      "metadata": {
        "id": "VRBtFaPbcVF3"
      },
      "execution_count": null,
      "outputs": []
    },
    {
      "cell_type": "code",
      "source": [
        "embedding_entity = embedding(entity_sequences, embedding_entity_word)"
      ],
      "metadata": {
        "id": "B0vsTab-ckye"
      },
      "execution_count": null,
      "outputs": []
    },
    {
      "cell_type": "markdown",
      "source": [
        "# Cosine similarity using for loop"
      ],
      "metadata": {
        "id": "glqBcwNPeJpa"
      }
    },
    {
      "cell_type": "code",
      "source": [
        "from numpy.linalg import norm\n",
        "from sklearn.metrics.pairwise import cosine_similarity"
      ],
      "metadata": {
        "id": "6m-xyc08Vmk-"
      },
      "execution_count": null,
      "outputs": []
    },
    {
      "cell_type": "code",
      "source": [
        "# Computing the cosine similarity of each noun phrase with each of the synonym and take the highest score\n",
        "def computing_cosine(embedding_nounphrase, embedding_entity, df_nounphrase, df_entity): \n",
        "  df = pd.DataFrame(columns=['cosine', 'nounphrase_id', 'nounphrase', 'entity_id', 'entity'])\n",
        "  for i1, np in enumerate(embedding_nounphrase): \n",
        "    df2 = pd.DataFrame(columns=['cosine', 'nounphrase_id', 'nounphrase', 'entity_id', 'entity'])\n",
        "    for i2, e in enumerate(embedding_entity): \n",
        "      cosine = cosine_similarity(np.reshape(1,-1), e.reshape(1,-1))\n",
        "      a = pd.Series([cosine, i1, df_nounphrase[i1], i2, df_entity[i2]], index=df2.columns)\n",
        "      df2 = df2.append(a, ignore_index=True)\n",
        "    max = df2.sort_values(by=['cosine'], ascending=False).head(1)\n",
        "    df = df.append(max, ignore_index=True)\n",
        "    \n",
        "  return df"
      ],
      "metadata": {
        "id": "LM5eDFniXDAS"
      },
      "execution_count": null,
      "outputs": []
    },
    {
      "cell_type": "code",
      "source": [
        "test_np = embedding_nounphrase[:10]\n",
        "test_entity = embedding_entity[:20]\n",
        "len(test_np)"
      ],
      "metadata": {
        "colab": {
          "base_uri": "https://localhost:8080/"
        },
        "id": "Vt7QDat_D8i3",
        "outputId": "f9880051-f358-4013-b3b3-5626160b6884"
      },
      "execution_count": null,
      "outputs": [
        {
          "output_type": "execute_result",
          "data": {
            "text/plain": [
              "10"
            ]
          },
          "metadata": {},
          "execution_count": 38
        }
      ]
    },
    {
      "cell_type": "code",
      "source": [
        "test = computing_cosine(test_np, test_entity, nounphrases_188[\"noun_phrases\"], ontology_syn_ds_unique[\"synonym\"])\n",
        "test"
      ],
      "metadata": {
        "colab": {
          "base_uri": "https://localhost:8080/",
          "height": 363
        },
        "id": "BSpic2bRdAsj",
        "outputId": "31ec8de5-fb5f-44a6-b8c0-0b0c99624ce2"
      },
      "execution_count": null,
      "outputs": [
        {
          "output_type": "execute_result",
          "data": {
            "text/plain": [
              "                   cosine nounphrase_id                 nounphrase entity_id  \\\n",
              "0  [[0.8407925151644017]]             0                      which         1   \n",
              "1   [[0.789508651033507]]             1                         we         1   \n",
              "2   [[0.851141980965083]]             2             an information        16   \n",
              "3  [[0.7447829682158479]]             3     communication resource         2   \n",
              "4  [[0.7302238893649966]]             4         the Minitel system        19   \n",
              "5  [[0.8653399079222501]]             5                         It         1   \n",
              "6  [[0.6329602596148854]]             6                     any rm         6   \n",
              "7  [[0.6168540336507342]]             7                    the eld         6   \n",
              "8   [[0.778325166374529]]             8  so competitive advantages         3   \n",
              "9  [[0.8493736394710465]]             9                       This         1   \n",
              "\n",
              "                                      entity  \n",
              "0              IS and security IT assistants  \n",
              "1              IS and security IT assistants  \n",
              "2         information and junior IS citizens  \n",
              "3     usable and knowledge research analysts  \n",
              "4     IT and multicultural security analysts  \n",
              "5              IS and security IT assistants  \n",
              "6            usable and IS senior individual  \n",
              "7            usable and IS senior individual  \n",
              "8  professional and financial usable bidders  \n",
              "9              IS and security IT assistants  "
            ],
            "text/html": [
              "\n",
              "  <div id=\"df-3696db0f-9073-4213-b25d-e98b5fafd7db\">\n",
              "    <div class=\"colab-df-container\">\n",
              "      <div>\n",
              "<style scoped>\n",
              "    .dataframe tbody tr th:only-of-type {\n",
              "        vertical-align: middle;\n",
              "    }\n",
              "\n",
              "    .dataframe tbody tr th {\n",
              "        vertical-align: top;\n",
              "    }\n",
              "\n",
              "    .dataframe thead th {\n",
              "        text-align: right;\n",
              "    }\n",
              "</style>\n",
              "<table border=\"1\" class=\"dataframe\">\n",
              "  <thead>\n",
              "    <tr style=\"text-align: right;\">\n",
              "      <th></th>\n",
              "      <th>cosine</th>\n",
              "      <th>nounphrase_id</th>\n",
              "      <th>nounphrase</th>\n",
              "      <th>entity_id</th>\n",
              "      <th>entity</th>\n",
              "    </tr>\n",
              "  </thead>\n",
              "  <tbody>\n",
              "    <tr>\n",
              "      <th>0</th>\n",
              "      <td>[[0.8407925151644017]]</td>\n",
              "      <td>0</td>\n",
              "      <td>which</td>\n",
              "      <td>1</td>\n",
              "      <td>IS and security IT assistants</td>\n",
              "    </tr>\n",
              "    <tr>\n",
              "      <th>1</th>\n",
              "      <td>[[0.789508651033507]]</td>\n",
              "      <td>1</td>\n",
              "      <td>we</td>\n",
              "      <td>1</td>\n",
              "      <td>IS and security IT assistants</td>\n",
              "    </tr>\n",
              "    <tr>\n",
              "      <th>2</th>\n",
              "      <td>[[0.851141980965083]]</td>\n",
              "      <td>2</td>\n",
              "      <td>an information</td>\n",
              "      <td>16</td>\n",
              "      <td>information and junior IS citizens</td>\n",
              "    </tr>\n",
              "    <tr>\n",
              "      <th>3</th>\n",
              "      <td>[[0.7447829682158479]]</td>\n",
              "      <td>3</td>\n",
              "      <td>communication resource</td>\n",
              "      <td>2</td>\n",
              "      <td>usable and knowledge research analysts</td>\n",
              "    </tr>\n",
              "    <tr>\n",
              "      <th>4</th>\n",
              "      <td>[[0.7302238893649966]]</td>\n",
              "      <td>4</td>\n",
              "      <td>the Minitel system</td>\n",
              "      <td>19</td>\n",
              "      <td>IT and multicultural security analysts</td>\n",
              "    </tr>\n",
              "    <tr>\n",
              "      <th>5</th>\n",
              "      <td>[[0.8653399079222501]]</td>\n",
              "      <td>5</td>\n",
              "      <td>It</td>\n",
              "      <td>1</td>\n",
              "      <td>IS and security IT assistants</td>\n",
              "    </tr>\n",
              "    <tr>\n",
              "      <th>6</th>\n",
              "      <td>[[0.6329602596148854]]</td>\n",
              "      <td>6</td>\n",
              "      <td>any rm</td>\n",
              "      <td>6</td>\n",
              "      <td>usable and IS senior individual</td>\n",
              "    </tr>\n",
              "    <tr>\n",
              "      <th>7</th>\n",
              "      <td>[[0.6168540336507342]]</td>\n",
              "      <td>7</td>\n",
              "      <td>the eld</td>\n",
              "      <td>6</td>\n",
              "      <td>usable and IS senior individual</td>\n",
              "    </tr>\n",
              "    <tr>\n",
              "      <th>8</th>\n",
              "      <td>[[0.778325166374529]]</td>\n",
              "      <td>8</td>\n",
              "      <td>so competitive advantages</td>\n",
              "      <td>3</td>\n",
              "      <td>professional and financial usable bidders</td>\n",
              "    </tr>\n",
              "    <tr>\n",
              "      <th>9</th>\n",
              "      <td>[[0.8493736394710465]]</td>\n",
              "      <td>9</td>\n",
              "      <td>This</td>\n",
              "      <td>1</td>\n",
              "      <td>IS and security IT assistants</td>\n",
              "    </tr>\n",
              "  </tbody>\n",
              "</table>\n",
              "</div>\n",
              "      <button class=\"colab-df-convert\" onclick=\"convertToInteractive('df-3696db0f-9073-4213-b25d-e98b5fafd7db')\"\n",
              "              title=\"Convert this dataframe to an interactive table.\"\n",
              "              style=\"display:none;\">\n",
              "        \n",
              "  <svg xmlns=\"http://www.w3.org/2000/svg\" height=\"24px\"viewBox=\"0 0 24 24\"\n",
              "       width=\"24px\">\n",
              "    <path d=\"M0 0h24v24H0V0z\" fill=\"none\"/>\n",
              "    <path d=\"M18.56 5.44l.94 2.06.94-2.06 2.06-.94-2.06-.94-.94-2.06-.94 2.06-2.06.94zm-11 1L8.5 8.5l.94-2.06 2.06-.94-2.06-.94L8.5 2.5l-.94 2.06-2.06.94zm10 10l.94 2.06.94-2.06 2.06-.94-2.06-.94-.94-2.06-.94 2.06-2.06.94z\"/><path d=\"M17.41 7.96l-1.37-1.37c-.4-.4-.92-.59-1.43-.59-.52 0-1.04.2-1.43.59L10.3 9.45l-7.72 7.72c-.78.78-.78 2.05 0 2.83L4 21.41c.39.39.9.59 1.41.59.51 0 1.02-.2 1.41-.59l7.78-7.78 2.81-2.81c.8-.78.8-2.07 0-2.86zM5.41 20L4 18.59l7.72-7.72 1.47 1.35L5.41 20z\"/>\n",
              "  </svg>\n",
              "      </button>\n",
              "      \n",
              "  <style>\n",
              "    .colab-df-container {\n",
              "      display:flex;\n",
              "      flex-wrap:wrap;\n",
              "      gap: 12px;\n",
              "    }\n",
              "\n",
              "    .colab-df-convert {\n",
              "      background-color: #E8F0FE;\n",
              "      border: none;\n",
              "      border-radius: 50%;\n",
              "      cursor: pointer;\n",
              "      display: none;\n",
              "      fill: #1967D2;\n",
              "      height: 32px;\n",
              "      padding: 0 0 0 0;\n",
              "      width: 32px;\n",
              "    }\n",
              "\n",
              "    .colab-df-convert:hover {\n",
              "      background-color: #E2EBFA;\n",
              "      box-shadow: 0px 1px 2px rgba(60, 64, 67, 0.3), 0px 1px 3px 1px rgba(60, 64, 67, 0.15);\n",
              "      fill: #174EA6;\n",
              "    }\n",
              "\n",
              "    [theme=dark] .colab-df-convert {\n",
              "      background-color: #3B4455;\n",
              "      fill: #D2E3FC;\n",
              "    }\n",
              "\n",
              "    [theme=dark] .colab-df-convert:hover {\n",
              "      background-color: #434B5C;\n",
              "      box-shadow: 0px 1px 3px 1px rgba(0, 0, 0, 0.15);\n",
              "      filter: drop-shadow(0px 1px 2px rgba(0, 0, 0, 0.3));\n",
              "      fill: #FFFFFF;\n",
              "    }\n",
              "  </style>\n",
              "\n",
              "      <script>\n",
              "        const buttonEl =\n",
              "          document.querySelector('#df-3696db0f-9073-4213-b25d-e98b5fafd7db button.colab-df-convert');\n",
              "        buttonEl.style.display =\n",
              "          google.colab.kernel.accessAllowed ? 'block' : 'none';\n",
              "\n",
              "        async function convertToInteractive(key) {\n",
              "          const element = document.querySelector('#df-3696db0f-9073-4213-b25d-e98b5fafd7db');\n",
              "          const dataTable =\n",
              "            await google.colab.kernel.invokeFunction('convertToInteractive',\n",
              "                                                     [key], {});\n",
              "          if (!dataTable) return;\n",
              "\n",
              "          const docLinkHtml = 'Like what you see? Visit the ' +\n",
              "            '<a target=\"_blank\" href=https://colab.research.google.com/notebooks/data_table.ipynb>data table notebook</a>'\n",
              "            + ' to learn more about interactive tables.';\n",
              "          element.innerHTML = '';\n",
              "          dataTable['output_type'] = 'display_data';\n",
              "          await google.colab.output.renderOutput(dataTable, element);\n",
              "          const docLink = document.createElement('div');\n",
              "          docLink.innerHTML = docLinkHtml;\n",
              "          element.appendChild(docLink);\n",
              "        }\n",
              "      </script>\n",
              "    </div>\n",
              "  </div>\n",
              "  "
            ]
          },
          "metadata": {},
          "execution_count": 39
        }
      ]
    },
    {
      "cell_type": "code",
      "source": [
        "cosine_table = computing_cosine(embedding_nounphrase, embedding_entity, nounphrases_188[\"noun_phrases\"], ontology_syn_ds_unique[\"synonym\"])\n",
        "cosine_table"
      ],
      "metadata": {
        "id": "cATXg1vmSMwO"
      },
      "execution_count": null,
      "outputs": []
    },
    {
      "cell_type": "markdown",
      "source": [
        "# Cosine Similarty using util.semanticsearch "
      ],
      "metadata": {
        "id": "Lvc9tN4eT2Sc"
      }
    },
    {
      "cell_type": "code",
      "source": [
        "import tensorflow as tf\n",
        "\n",
        "!pip install -U sentence-transformers\n",
        "\n",
        "from sentence_transformers import SentenceTransformer, util"
      ],
      "metadata": {
        "id": "LoioAPsRDImf",
        "colab": {
          "base_uri": "https://localhost:8080/"
        },
        "outputId": "14114314-7b63-4789-9076-854f5a547643"
      },
      "execution_count": null,
      "outputs": [
        {
          "output_type": "stream",
          "name": "stdout",
          "text": [
            "Looking in indexes: https://pypi.org/simple, https://us-python.pkg.dev/colab-wheels/public/simple/\n",
            "Collecting sentence-transformers\n",
            "  Downloading sentence-transformers-2.2.2.tar.gz (85 kB)\n",
            "\u001b[K     |████████████████████████████████| 85 kB 3.2 MB/s \n",
            "\u001b[?25hCollecting transformers<5.0.0,>=4.6.0\n",
            "  Downloading transformers-4.20.1-py3-none-any.whl (4.4 MB)\n",
            "\u001b[K     |████████████████████████████████| 4.4 MB 29.3 MB/s \n",
            "\u001b[?25hRequirement already satisfied: tqdm in /usr/local/lib/python3.7/dist-packages (from sentence-transformers) (4.64.0)\n",
            "Requirement already satisfied: torch>=1.6.0 in /usr/local/lib/python3.7/dist-packages (from sentence-transformers) (1.11.0+cu113)\n",
            "Requirement already satisfied: torchvision in /usr/local/lib/python3.7/dist-packages (from sentence-transformers) (0.12.0+cu113)\n",
            "Requirement already satisfied: numpy in /usr/local/lib/python3.7/dist-packages (from sentence-transformers) (1.21.6)\n",
            "Requirement already satisfied: scikit-learn in /usr/local/lib/python3.7/dist-packages (from sentence-transformers) (1.0.2)\n",
            "Requirement already satisfied: scipy in /usr/local/lib/python3.7/dist-packages (from sentence-transformers) (1.4.1)\n",
            "Requirement already satisfied: nltk in /usr/local/lib/python3.7/dist-packages (from sentence-transformers) (3.7)\n",
            "Collecting sentencepiece\n",
            "  Downloading sentencepiece-0.1.96-cp37-cp37m-manylinux_2_17_x86_64.manylinux2014_x86_64.whl (1.2 MB)\n",
            "\u001b[K     |████████████████████████████████| 1.2 MB 51.1 MB/s \n",
            "\u001b[?25hCollecting huggingface-hub>=0.4.0\n",
            "  Downloading huggingface_hub-0.8.1-py3-none-any.whl (101 kB)\n",
            "\u001b[K     |████████████████████████████████| 101 kB 15.1 MB/s \n",
            "\u001b[?25hRequirement already satisfied: requests in /usr/local/lib/python3.7/dist-packages (from huggingface-hub>=0.4.0->sentence-transformers) (2.23.0)\n",
            "Requirement already satisfied: packaging>=20.9 in /usr/local/lib/python3.7/dist-packages (from huggingface-hub>=0.4.0->sentence-transformers) (21.3)\n",
            "Requirement already satisfied: importlib-metadata in /usr/local/lib/python3.7/dist-packages (from huggingface-hub>=0.4.0->sentence-transformers) (4.11.4)\n",
            "Requirement already satisfied: typing-extensions>=3.7.4.3 in /usr/local/lib/python3.7/dist-packages (from huggingface-hub>=0.4.0->sentence-transformers) (4.1.1)\n",
            "Collecting pyyaml>=5.1\n",
            "  Downloading PyYAML-6.0-cp37-cp37m-manylinux_2_5_x86_64.manylinux1_x86_64.manylinux_2_12_x86_64.manylinux2010_x86_64.whl (596 kB)\n",
            "\u001b[K     |████████████████████████████████| 596 kB 73.8 MB/s \n",
            "\u001b[?25hRequirement already satisfied: filelock in /usr/local/lib/python3.7/dist-packages (from huggingface-hub>=0.4.0->sentence-transformers) (3.7.1)\n",
            "Requirement already satisfied: pyparsing!=3.0.5,>=2.0.2 in /usr/local/lib/python3.7/dist-packages (from packaging>=20.9->huggingface-hub>=0.4.0->sentence-transformers) (3.0.9)\n",
            "Requirement already satisfied: regex!=2019.12.17 in /usr/local/lib/python3.7/dist-packages (from transformers<5.0.0,>=4.6.0->sentence-transformers) (2022.6.2)\n",
            "Collecting tokenizers!=0.11.3,<0.13,>=0.11.1\n",
            "  Downloading tokenizers-0.12.1-cp37-cp37m-manylinux_2_12_x86_64.manylinux2010_x86_64.whl (6.6 MB)\n",
            "\u001b[K     |████████████████████████████████| 6.6 MB 44.3 MB/s \n",
            "\u001b[?25hRequirement already satisfied: zipp>=0.5 in /usr/local/lib/python3.7/dist-packages (from importlib-metadata->huggingface-hub>=0.4.0->sentence-transformers) (3.8.0)\n",
            "Requirement already satisfied: joblib in /usr/local/lib/python3.7/dist-packages (from nltk->sentence-transformers) (1.1.0)\n",
            "Requirement already satisfied: click in /usr/local/lib/python3.7/dist-packages (from nltk->sentence-transformers) (7.1.2)\n",
            "Requirement already satisfied: chardet<4,>=3.0.2 in /usr/local/lib/python3.7/dist-packages (from requests->huggingface-hub>=0.4.0->sentence-transformers) (3.0.4)\n",
            "Requirement already satisfied: idna<3,>=2.5 in /usr/local/lib/python3.7/dist-packages (from requests->huggingface-hub>=0.4.0->sentence-transformers) (2.10)\n",
            "Requirement already satisfied: urllib3!=1.25.0,!=1.25.1,<1.26,>=1.21.1 in /usr/local/lib/python3.7/dist-packages (from requests->huggingface-hub>=0.4.0->sentence-transformers) (1.24.3)\n",
            "Requirement already satisfied: certifi>=2017.4.17 in /usr/local/lib/python3.7/dist-packages (from requests->huggingface-hub>=0.4.0->sentence-transformers) (2022.6.15)\n",
            "Requirement already satisfied: threadpoolctl>=2.0.0 in /usr/local/lib/python3.7/dist-packages (from scikit-learn->sentence-transformers) (3.1.0)\n",
            "Requirement already satisfied: pillow!=8.3.*,>=5.3.0 in /usr/local/lib/python3.7/dist-packages (from torchvision->sentence-transformers) (7.1.2)\n",
            "Building wheels for collected packages: sentence-transformers\n",
            "  Building wheel for sentence-transformers (setup.py) ... \u001b[?25l\u001b[?25hdone\n",
            "  Created wheel for sentence-transformers: filename=sentence_transformers-2.2.2-py3-none-any.whl size=125938 sha256=fd4bc11235bd51c45644190e2ee71e9a8b58735e6ac13d08ff1d233fee09c554\n",
            "  Stored in directory: /root/.cache/pip/wheels/bf/06/fb/d59c1e5bd1dac7f6cf61ec0036cc3a10ab8fecaa6b2c3d3ee9\n",
            "Successfully built sentence-transformers\n",
            "Installing collected packages: pyyaml, tokenizers, huggingface-hub, transformers, sentencepiece, sentence-transformers\n",
            "  Attempting uninstall: pyyaml\n",
            "    Found existing installation: PyYAML 3.13\n",
            "    Uninstalling PyYAML-3.13:\n",
            "      Successfully uninstalled PyYAML-3.13\n",
            "Successfully installed huggingface-hub-0.8.1 pyyaml-6.0 sentence-transformers-2.2.2 sentencepiece-0.1.96 tokenizers-0.12.1 transformers-4.20.1\n"
          ]
        }
      ]
    },
    {
      "cell_type": "code",
      "source": [
        "# Create a function to convert the np array list of embedding to Pytorch tensor \n",
        "def to_pytorch_tensor(embedding):\n",
        "  list = []\n",
        "  empty = []\n",
        "  for idx, i in enumerate(embedding):\n",
        "    if i.shape != (100,): \n",
        "      empty.append(idx)\n",
        "    else:\n",
        "      embedding_tensor = torch.as_tensor(i)\n",
        "      list.append(embedding_tensor)\n",
        "  return torch.stack(list), empty"
      ],
      "metadata": {
        "id": "PDz8uUJfnC5g"
      },
      "execution_count": null,
      "outputs": []
    },
    {
      "cell_type": "code",
      "source": [
        "embedding_nounphrase_tensor, empty_nounphrases = to_pytorch_tensor(embedding_nounphrase)\n",
        "embedding_nounphrase_tensor.shape"
      ],
      "metadata": {
        "colab": {
          "base_uri": "https://localhost:8080/"
        },
        "id": "Aj1jlLho1IYo",
        "outputId": "e7983f2d-2cae-4df0-eef5-13a6cf899b24"
      },
      "execution_count": null,
      "outputs": [
        {
          "output_type": "execute_result",
          "data": {
            "text/plain": [
              "torch.Size([3213, 100])"
            ]
          },
          "metadata": {},
          "execution_count": 38
        }
      ]
    },
    {
      "cell_type": "code",
      "source": [
        "# Check if there are any empty noun phrase embedding\n",
        "empty_nounphrases"
      ],
      "metadata": {
        "colab": {
          "base_uri": "https://localhost:8080/"
        },
        "id": "eDkGRD7y0lfo",
        "outputId": "51a9c035-4e70-4537-ea45-336ae6c48eef"
      },
      "execution_count": null,
      "outputs": [
        {
          "output_type": "execute_result",
          "data": {
            "text/plain": [
              "[379, 386, 393, 688, 702, 992, 1021, 1612, 1622, 1852, 1926, 2871, 2883, 3049]"
            ]
          },
          "metadata": {},
          "execution_count": 39
        }
      ]
    },
    {
      "cell_type": "code",
      "source": [
        "# Dropping the rows with empty noun phrases\n",
        "for i in empty_nounphrases:\n",
        "  nounphrases_188 = nounphrases_188.drop([nounphrases_188.index[i]])"
      ],
      "metadata": {
        "id": "dQEhLH3gzpgc"
      },
      "execution_count": null,
      "outputs": []
    },
    {
      "cell_type": "code",
      "source": [
        "len(nounphrases_188)"
      ],
      "metadata": {
        "colab": {
          "base_uri": "https://localhost:8080/"
        },
        "id": "SOUugo7Iy7R6",
        "outputId": "90787502-905e-4bfd-936d-913499722a4b"
      },
      "execution_count": null,
      "outputs": [
        {
          "output_type": "execute_result",
          "data": {
            "text/plain": [
              "3213"
            ]
          },
          "metadata": {},
          "execution_count": 41
        }
      ]
    },
    {
      "cell_type": "code",
      "source": [
        "embedding_entity_tensor, empty = to_pytorch_tensor(embedding_entity)\n",
        "embedding_entity_tensor.shape"
      ],
      "metadata": {
        "colab": {
          "base_uri": "https://localhost:8080/"
        },
        "id": "mst8HmUtsns8",
        "outputId": "0b9460e9-d464-43b2-e3e8-9325a7f78a06"
      },
      "execution_count": null,
      "outputs": [
        {
          "output_type": "execute_result",
          "data": {
            "text/plain": [
              "torch.Size([32373, 100])"
            ]
          },
          "metadata": {},
          "execution_count": 42
        }
      ]
    },
    {
      "cell_type": "code",
      "source": [
        "# Checking if there is any empty entity embedding\n",
        "empty"
      ],
      "metadata": {
        "colab": {
          "base_uri": "https://localhost:8080/"
        },
        "id": "jf03qWP36jWh",
        "outputId": "9a32c20f-7a9c-49ba-dd31-7bee1450c055"
      },
      "execution_count": null,
      "outputs": [
        {
          "output_type": "execute_result",
          "data": {
            "text/plain": [
              "[]"
            ]
          },
          "metadata": {},
          "execution_count": 43
        }
      ]
    },
    {
      "cell_type": "code",
      "source": [
        "cosine_scores = util.semantic_search(embedding_nounphrase_tensor, embedding_entity_tensor, top_k=1)\n",
        "#cosine_scores"
      ],
      "metadata": {
        "id": "j0b63wRvuQUa"
      },
      "execution_count": null,
      "outputs": []
    },
    {
      "cell_type": "code",
      "source": [
        "  dfs = []\n",
        "  for idx, sim in enumerate(cosine_scores):\n",
        "    test = pd.DataFrame(sim)\n",
        "    test[\"sentence_id\"] = nounphrases_188.iloc[idx,2]\n",
        "    test[\"noun_phrase_txt\"] = nounphrases_188.iloc[idx,4]\n",
        "    test = test.rename(columns={\"corpus_id\":\"entity_id\"})\n",
        "    dfs.append(test)"
      ],
      "metadata": {
        "id": "0kL56FTCZeWm"
      },
      "execution_count": null,
      "outputs": []
    },
    {
      "cell_type": "code",
      "source": [
        "dfs_df = pd.concat(dfs)\n",
        "dfs_df = dfs_df[[\"score\", \"sentence_id\", \"noun_phrase_txt\", \"entity_id\"]] # reorder columns\n",
        "dfs_df[[\"main_entity_id\"]] = dfs_df[[\"entity_id\"]].applymap(lambda x:  ontology_syn_ds_unique.iloc[x,0])\n",
        "dfs_df[[\"entity_id\"]] = dfs_df[[\"entity_id\"]].applymap(lambda x:  ontology_syn_ds_unique.iloc[x,3])\n",
        "dfs_df = dfs_df.sort_values(by=\"score\", ascending=False, ignore_index=True) # sort by score and reset index\n",
        "\n",
        "dfs_df"
      ],
      "metadata": {
        "colab": {
          "base_uri": "https://localhost:8080/",
          "height": 424
        },
        "id": "q2W4QIxgUBVC",
        "outputId": "425753c5-b0a6-4a4d-86e4-95c1c5de5faa"
      },
      "execution_count": null,
      "outputs": [
        {
          "output_type": "execute_result",
          "data": {
            "text/plain": [
              "      score      sentence_id noun_phrase_txt               entity_id  \\\n",
              "0       1.0    188_3349_3371        services    ridehailing services   \n",
              "1       1.0    188_9906_9948        services    ridehailing services   \n",
              "2       1.0    188_2610_2634        services    ridehailing services   \n",
              "3       1.0    188_3613_3675        services    ridehailing services   \n",
              "4       1.0  188_10441_10500        services    ridehailing services   \n",
              "...     ...              ...             ...                     ...   \n",
              "3208    0.0    188_5860_5898    Steinmueller  individual participant   \n",
              "3209    0.0     188_830_1213          Quélin  individual participant   \n",
              "3210    0.0     188_830_1213        Ghertman  individual participant   \n",
              "3211    0.0     188_830_1213          Quélin  individual participant   \n",
              "3212    0.0    188_7486_7522           signi  individual participant   \n",
              "\n",
              "              main_entity_id  \n",
              "0      ride sharing platform  \n",
              "1      ride sharing platform  \n",
              "2      ride sharing platform  \n",
              "3      ride sharing platform  \n",
              "4      ride sharing platform  \n",
              "...                      ...  \n",
              "3208  individual participant  \n",
              "3209  individual participant  \n",
              "3210  individual participant  \n",
              "3211  individual participant  \n",
              "3212  individual participant  \n",
              "\n",
              "[3213 rows x 5 columns]"
            ],
            "text/html": [
              "\n",
              "  <div id=\"df-435a7a26-02d9-4c02-93ad-51a124ef5ada\">\n",
              "    <div class=\"colab-df-container\">\n",
              "      <div>\n",
              "<style scoped>\n",
              "    .dataframe tbody tr th:only-of-type {\n",
              "        vertical-align: middle;\n",
              "    }\n",
              "\n",
              "    .dataframe tbody tr th {\n",
              "        vertical-align: top;\n",
              "    }\n",
              "\n",
              "    .dataframe thead th {\n",
              "        text-align: right;\n",
              "    }\n",
              "</style>\n",
              "<table border=\"1\" class=\"dataframe\">\n",
              "  <thead>\n",
              "    <tr style=\"text-align: right;\">\n",
              "      <th></th>\n",
              "      <th>score</th>\n",
              "      <th>sentence_id</th>\n",
              "      <th>noun_phrase_txt</th>\n",
              "      <th>entity_id</th>\n",
              "      <th>main_entity_id</th>\n",
              "    </tr>\n",
              "  </thead>\n",
              "  <tbody>\n",
              "    <tr>\n",
              "      <th>0</th>\n",
              "      <td>1.0</td>\n",
              "      <td>188_3349_3371</td>\n",
              "      <td>services</td>\n",
              "      <td>ridehailing services</td>\n",
              "      <td>ride sharing platform</td>\n",
              "    </tr>\n",
              "    <tr>\n",
              "      <th>1</th>\n",
              "      <td>1.0</td>\n",
              "      <td>188_9906_9948</td>\n",
              "      <td>services</td>\n",
              "      <td>ridehailing services</td>\n",
              "      <td>ride sharing platform</td>\n",
              "    </tr>\n",
              "    <tr>\n",
              "      <th>2</th>\n",
              "      <td>1.0</td>\n",
              "      <td>188_2610_2634</td>\n",
              "      <td>services</td>\n",
              "      <td>ridehailing services</td>\n",
              "      <td>ride sharing platform</td>\n",
              "    </tr>\n",
              "    <tr>\n",
              "      <th>3</th>\n",
              "      <td>1.0</td>\n",
              "      <td>188_3613_3675</td>\n",
              "      <td>services</td>\n",
              "      <td>ridehailing services</td>\n",
              "      <td>ride sharing platform</td>\n",
              "    </tr>\n",
              "    <tr>\n",
              "      <th>4</th>\n",
              "      <td>1.0</td>\n",
              "      <td>188_10441_10500</td>\n",
              "      <td>services</td>\n",
              "      <td>ridehailing services</td>\n",
              "      <td>ride sharing platform</td>\n",
              "    </tr>\n",
              "    <tr>\n",
              "      <th>...</th>\n",
              "      <td>...</td>\n",
              "      <td>...</td>\n",
              "      <td>...</td>\n",
              "      <td>...</td>\n",
              "      <td>...</td>\n",
              "    </tr>\n",
              "    <tr>\n",
              "      <th>3208</th>\n",
              "      <td>0.0</td>\n",
              "      <td>188_5860_5898</td>\n",
              "      <td>Steinmueller</td>\n",
              "      <td>individual participant</td>\n",
              "      <td>individual participant</td>\n",
              "    </tr>\n",
              "    <tr>\n",
              "      <th>3209</th>\n",
              "      <td>0.0</td>\n",
              "      <td>188_830_1213</td>\n",
              "      <td>Quélin</td>\n",
              "      <td>individual participant</td>\n",
              "      <td>individual participant</td>\n",
              "    </tr>\n",
              "    <tr>\n",
              "      <th>3210</th>\n",
              "      <td>0.0</td>\n",
              "      <td>188_830_1213</td>\n",
              "      <td>Ghertman</td>\n",
              "      <td>individual participant</td>\n",
              "      <td>individual participant</td>\n",
              "    </tr>\n",
              "    <tr>\n",
              "      <th>3211</th>\n",
              "      <td>0.0</td>\n",
              "      <td>188_830_1213</td>\n",
              "      <td>Quélin</td>\n",
              "      <td>individual participant</td>\n",
              "      <td>individual participant</td>\n",
              "    </tr>\n",
              "    <tr>\n",
              "      <th>3212</th>\n",
              "      <td>0.0</td>\n",
              "      <td>188_7486_7522</td>\n",
              "      <td>signi</td>\n",
              "      <td>individual participant</td>\n",
              "      <td>individual participant</td>\n",
              "    </tr>\n",
              "  </tbody>\n",
              "</table>\n",
              "<p>3213 rows × 5 columns</p>\n",
              "</div>\n",
              "      <button class=\"colab-df-convert\" onclick=\"convertToInteractive('df-435a7a26-02d9-4c02-93ad-51a124ef5ada')\"\n",
              "              title=\"Convert this dataframe to an interactive table.\"\n",
              "              style=\"display:none;\">\n",
              "        \n",
              "  <svg xmlns=\"http://www.w3.org/2000/svg\" height=\"24px\"viewBox=\"0 0 24 24\"\n",
              "       width=\"24px\">\n",
              "    <path d=\"M0 0h24v24H0V0z\" fill=\"none\"/>\n",
              "    <path d=\"M18.56 5.44l.94 2.06.94-2.06 2.06-.94-2.06-.94-.94-2.06-.94 2.06-2.06.94zm-11 1L8.5 8.5l.94-2.06 2.06-.94-2.06-.94L8.5 2.5l-.94 2.06-2.06.94zm10 10l.94 2.06.94-2.06 2.06-.94-2.06-.94-.94-2.06-.94 2.06-2.06.94z\"/><path d=\"M17.41 7.96l-1.37-1.37c-.4-.4-.92-.59-1.43-.59-.52 0-1.04.2-1.43.59L10.3 9.45l-7.72 7.72c-.78.78-.78 2.05 0 2.83L4 21.41c.39.39.9.59 1.41.59.51 0 1.02-.2 1.41-.59l7.78-7.78 2.81-2.81c.8-.78.8-2.07 0-2.86zM5.41 20L4 18.59l7.72-7.72 1.47 1.35L5.41 20z\"/>\n",
              "  </svg>\n",
              "      </button>\n",
              "      \n",
              "  <style>\n",
              "    .colab-df-container {\n",
              "      display:flex;\n",
              "      flex-wrap:wrap;\n",
              "      gap: 12px;\n",
              "    }\n",
              "\n",
              "    .colab-df-convert {\n",
              "      background-color: #E8F0FE;\n",
              "      border: none;\n",
              "      border-radius: 50%;\n",
              "      cursor: pointer;\n",
              "      display: none;\n",
              "      fill: #1967D2;\n",
              "      height: 32px;\n",
              "      padding: 0 0 0 0;\n",
              "      width: 32px;\n",
              "    }\n",
              "\n",
              "    .colab-df-convert:hover {\n",
              "      background-color: #E2EBFA;\n",
              "      box-shadow: 0px 1px 2px rgba(60, 64, 67, 0.3), 0px 1px 3px 1px rgba(60, 64, 67, 0.15);\n",
              "      fill: #174EA6;\n",
              "    }\n",
              "\n",
              "    [theme=dark] .colab-df-convert {\n",
              "      background-color: #3B4455;\n",
              "      fill: #D2E3FC;\n",
              "    }\n",
              "\n",
              "    [theme=dark] .colab-df-convert:hover {\n",
              "      background-color: #434B5C;\n",
              "      box-shadow: 0px 1px 3px 1px rgba(0, 0, 0, 0.15);\n",
              "      filter: drop-shadow(0px 1px 2px rgba(0, 0, 0, 0.3));\n",
              "      fill: #FFFFFF;\n",
              "    }\n",
              "  </style>\n",
              "\n",
              "      <script>\n",
              "        const buttonEl =\n",
              "          document.querySelector('#df-435a7a26-02d9-4c02-93ad-51a124ef5ada button.colab-df-convert');\n",
              "        buttonEl.style.display =\n",
              "          google.colab.kernel.accessAllowed ? 'block' : 'none';\n",
              "\n",
              "        async function convertToInteractive(key) {\n",
              "          const element = document.querySelector('#df-435a7a26-02d9-4c02-93ad-51a124ef5ada');\n",
              "          const dataTable =\n",
              "            await google.colab.kernel.invokeFunction('convertToInteractive',\n",
              "                                                     [key], {});\n",
              "          if (!dataTable) return;\n",
              "\n",
              "          const docLinkHtml = 'Like what you see? Visit the ' +\n",
              "            '<a target=\"_blank\" href=https://colab.research.google.com/notebooks/data_table.ipynb>data table notebook</a>'\n",
              "            + ' to learn more about interactive tables.';\n",
              "          element.innerHTML = '';\n",
              "          dataTable['output_type'] = 'display_data';\n",
              "          await google.colab.output.renderOutput(dataTable, element);\n",
              "          const docLink = document.createElement('div');\n",
              "          docLink.innerHTML = docLinkHtml;\n",
              "          element.appendChild(docLink);\n",
              "        }\n",
              "      </script>\n",
              "    </div>\n",
              "  </div>\n",
              "  "
            ]
          },
          "metadata": {},
          "execution_count": 47
        }
      ]
    },
    {
      "cell_type": "code",
      "source": [
        "# Merge sim scores on entities sample to get \"true\" entity id\n",
        "sim_scores_sample_mapped = dfs_df.merge(nounphrases_188[[\"sentence_id\", \"noun_phrases\", \"true_ent_id\"]],\n",
        "                                               how=\"left\", left_on=[\"sentence_id\", \"noun_phrase_txt\"], \n",
        "                                               right_on=[\"sentence_id\", \"noun_phrases\"])\\\n",
        "                                               .drop(columns=[\"noun_phrases\"])"
      ],
      "metadata": {
        "id": "qMpyNkDjWiFI"
      },
      "execution_count": null,
      "outputs": []
    },
    {
      "cell_type": "code",
      "source": [
        "# Define columns which should be checked for duplicates\n",
        "col_dupl = sim_scores_sample_mapped.columns[1:].to_list()\n",
        "\n",
        "#Drop duplicates\n",
        "sim_scores_sample_mapped = sim_scores_sample_mapped.drop_duplicates(subset=col_dupl)"
      ],
      "metadata": {
        "id": "MMq9VcO_W87C"
      },
      "execution_count": null,
      "outputs": []
    },
    {
      "cell_type": "code",
      "source": [
        "#Merge sim scores again on entities sample to get \"true\" entity id, but this time with the true entity id which was found by Roland\n",
        "sim_scores_sample_mapped_f =sim_scores_sample_mapped.merge(nounphrases_188[[\"sentence_id\", \"ent_id\"]], \n",
        "                                                           how=\"left\", left_on=[\"sentence_id\", \"main_entity_id\"], \n",
        "                                                           right_on=[\"sentence_id\", \"ent_id\"])\\\n",
        "                                                           .rename(columns={\"ent_id\":\"true_ent_id_cmpl_sen\"})\\\n",
        "                                                           .drop_duplicates()"
      ],
      "metadata": {
        "id": "gjxm1is1XH8v"
      },
      "execution_count": null,
      "outputs": []
    },
    {
      "cell_type": "code",
      "source": [
        "# Define function to combine both columns \"true_ent_id\" & \"true_ent_id_cmpl_sen\"\n",
        "def true_ent_label(x):\n",
        "\n",
        "  if x.true_ent_id!=\"0\":\n",
        "    return x.true_ent_id\n",
        "  else:\n",
        "    return x.true_ent_id_cmpl_sen"
      ],
      "metadata": {
        "id": "k_nAMuUyXNgJ"
      },
      "execution_count": null,
      "outputs": []
    },
    {
      "cell_type": "code",
      "source": [
        "# Compare both columns and store correct value  in column true_entity_id\n",
        "sim_scores_sample_mapped_f[\"true_entity_id\"] = sim_scores_sample_mapped_f.apply(lambda x: true_ent_label(x), \n",
        "                                                                                axis=1, result_type=\"expand\")\n",
        "\n",
        "#Fill all NaN Values with 0 (no match)\n",
        "sim_scores_sample_mapped_f[\"true_entity_id\"] = sim_scores_sample_mapped_f[\"true_entity_id\"].fillna(0)\n",
        "\n",
        "#Drop columns \"true_ent_id\" & \"true_ent_id_cmpl_sen\"\n",
        "sim_scores_sample_mapped_f = sim_scores_sample_mapped_f.drop(columns=[\"true_ent_id\", \"true_ent_id_cmpl_sen\"])"
      ],
      "metadata": {
        "id": "m1ABEyrFVWu6"
      },
      "execution_count": null,
      "outputs": []
    },
    {
      "cell_type": "code",
      "source": [
        "sim_scores_sample_mapped_f.head(10)"
      ],
      "metadata": {
        "colab": {
          "base_uri": "https://localhost:8080/",
          "height": 363
        },
        "id": "XwiPS2aaXogy",
        "outputId": "c40246c3-aa69-46db-9565-e9fb24fe1e7f"
      },
      "execution_count": null,
      "outputs": [
        {
          "output_type": "execute_result",
          "data": {
            "text/plain": [
              "   score      sentence_id noun_phrase_txt             entity_id  \\\n",
              "0    1.0    188_3349_3371        services  ridehailing services   \n",
              "1    1.0    188_9906_9948        services  ridehailing services   \n",
              "2    1.0    188_2610_2634        services  ridehailing services   \n",
              "3    1.0    188_3613_3675        services  ridehailing services   \n",
              "4    1.0  188_10441_10500        services  ridehailing services   \n",
              "5    1.0      188_167_285        services  ridehailing services   \n",
              "6    1.0    188_5200_5225        services  ridehailing services   \n",
              "7    1.0    188_5256_5285        services  ridehailing services   \n",
              "8    1.0    188_8287_8342        services  ridehailing services   \n",
              "9    1.0    188_4241_4286        services  ridehailing services   \n",
              "\n",
              "          main_entity_id true_entity_id  \n",
              "0  ride sharing platform              0  \n",
              "1  ride sharing platform              0  \n",
              "2  ride sharing platform              0  \n",
              "3  ride sharing platform              0  \n",
              "4  ride sharing platform              0  \n",
              "5  ride sharing platform              0  \n",
              "6  ride sharing platform              0  \n",
              "7  ride sharing platform              0  \n",
              "8  ride sharing platform              0  \n",
              "9  ride sharing platform              0  "
            ],
            "text/html": [
              "\n",
              "  <div id=\"df-b986a728-8358-4466-b460-c952d7fdf1c6\">\n",
              "    <div class=\"colab-df-container\">\n",
              "      <div>\n",
              "<style scoped>\n",
              "    .dataframe tbody tr th:only-of-type {\n",
              "        vertical-align: middle;\n",
              "    }\n",
              "\n",
              "    .dataframe tbody tr th {\n",
              "        vertical-align: top;\n",
              "    }\n",
              "\n",
              "    .dataframe thead th {\n",
              "        text-align: right;\n",
              "    }\n",
              "</style>\n",
              "<table border=\"1\" class=\"dataframe\">\n",
              "  <thead>\n",
              "    <tr style=\"text-align: right;\">\n",
              "      <th></th>\n",
              "      <th>score</th>\n",
              "      <th>sentence_id</th>\n",
              "      <th>noun_phrase_txt</th>\n",
              "      <th>entity_id</th>\n",
              "      <th>main_entity_id</th>\n",
              "      <th>true_entity_id</th>\n",
              "    </tr>\n",
              "  </thead>\n",
              "  <tbody>\n",
              "    <tr>\n",
              "      <th>0</th>\n",
              "      <td>1.0</td>\n",
              "      <td>188_3349_3371</td>\n",
              "      <td>services</td>\n",
              "      <td>ridehailing services</td>\n",
              "      <td>ride sharing platform</td>\n",
              "      <td>0</td>\n",
              "    </tr>\n",
              "    <tr>\n",
              "      <th>1</th>\n",
              "      <td>1.0</td>\n",
              "      <td>188_9906_9948</td>\n",
              "      <td>services</td>\n",
              "      <td>ridehailing services</td>\n",
              "      <td>ride sharing platform</td>\n",
              "      <td>0</td>\n",
              "    </tr>\n",
              "    <tr>\n",
              "      <th>2</th>\n",
              "      <td>1.0</td>\n",
              "      <td>188_2610_2634</td>\n",
              "      <td>services</td>\n",
              "      <td>ridehailing services</td>\n",
              "      <td>ride sharing platform</td>\n",
              "      <td>0</td>\n",
              "    </tr>\n",
              "    <tr>\n",
              "      <th>3</th>\n",
              "      <td>1.0</td>\n",
              "      <td>188_3613_3675</td>\n",
              "      <td>services</td>\n",
              "      <td>ridehailing services</td>\n",
              "      <td>ride sharing platform</td>\n",
              "      <td>0</td>\n",
              "    </tr>\n",
              "    <tr>\n",
              "      <th>4</th>\n",
              "      <td>1.0</td>\n",
              "      <td>188_10441_10500</td>\n",
              "      <td>services</td>\n",
              "      <td>ridehailing services</td>\n",
              "      <td>ride sharing platform</td>\n",
              "      <td>0</td>\n",
              "    </tr>\n",
              "    <tr>\n",
              "      <th>5</th>\n",
              "      <td>1.0</td>\n",
              "      <td>188_167_285</td>\n",
              "      <td>services</td>\n",
              "      <td>ridehailing services</td>\n",
              "      <td>ride sharing platform</td>\n",
              "      <td>0</td>\n",
              "    </tr>\n",
              "    <tr>\n",
              "      <th>6</th>\n",
              "      <td>1.0</td>\n",
              "      <td>188_5200_5225</td>\n",
              "      <td>services</td>\n",
              "      <td>ridehailing services</td>\n",
              "      <td>ride sharing platform</td>\n",
              "      <td>0</td>\n",
              "    </tr>\n",
              "    <tr>\n",
              "      <th>7</th>\n",
              "      <td>1.0</td>\n",
              "      <td>188_5256_5285</td>\n",
              "      <td>services</td>\n",
              "      <td>ridehailing services</td>\n",
              "      <td>ride sharing platform</td>\n",
              "      <td>0</td>\n",
              "    </tr>\n",
              "    <tr>\n",
              "      <th>8</th>\n",
              "      <td>1.0</td>\n",
              "      <td>188_8287_8342</td>\n",
              "      <td>services</td>\n",
              "      <td>ridehailing services</td>\n",
              "      <td>ride sharing platform</td>\n",
              "      <td>0</td>\n",
              "    </tr>\n",
              "    <tr>\n",
              "      <th>9</th>\n",
              "      <td>1.0</td>\n",
              "      <td>188_4241_4286</td>\n",
              "      <td>services</td>\n",
              "      <td>ridehailing services</td>\n",
              "      <td>ride sharing platform</td>\n",
              "      <td>0</td>\n",
              "    </tr>\n",
              "  </tbody>\n",
              "</table>\n",
              "</div>\n",
              "      <button class=\"colab-df-convert\" onclick=\"convertToInteractive('df-b986a728-8358-4466-b460-c952d7fdf1c6')\"\n",
              "              title=\"Convert this dataframe to an interactive table.\"\n",
              "              style=\"display:none;\">\n",
              "        \n",
              "  <svg xmlns=\"http://www.w3.org/2000/svg\" height=\"24px\"viewBox=\"0 0 24 24\"\n",
              "       width=\"24px\">\n",
              "    <path d=\"M0 0h24v24H0V0z\" fill=\"none\"/>\n",
              "    <path d=\"M18.56 5.44l.94 2.06.94-2.06 2.06-.94-2.06-.94-.94-2.06-.94 2.06-2.06.94zm-11 1L8.5 8.5l.94-2.06 2.06-.94-2.06-.94L8.5 2.5l-.94 2.06-2.06.94zm10 10l.94 2.06.94-2.06 2.06-.94-2.06-.94-.94-2.06-.94 2.06-2.06.94z\"/><path d=\"M17.41 7.96l-1.37-1.37c-.4-.4-.92-.59-1.43-.59-.52 0-1.04.2-1.43.59L10.3 9.45l-7.72 7.72c-.78.78-.78 2.05 0 2.83L4 21.41c.39.39.9.59 1.41.59.51 0 1.02-.2 1.41-.59l7.78-7.78 2.81-2.81c.8-.78.8-2.07 0-2.86zM5.41 20L4 18.59l7.72-7.72 1.47 1.35L5.41 20z\"/>\n",
              "  </svg>\n",
              "      </button>\n",
              "      \n",
              "  <style>\n",
              "    .colab-df-container {\n",
              "      display:flex;\n",
              "      flex-wrap:wrap;\n",
              "      gap: 12px;\n",
              "    }\n",
              "\n",
              "    .colab-df-convert {\n",
              "      background-color: #E8F0FE;\n",
              "      border: none;\n",
              "      border-radius: 50%;\n",
              "      cursor: pointer;\n",
              "      display: none;\n",
              "      fill: #1967D2;\n",
              "      height: 32px;\n",
              "      padding: 0 0 0 0;\n",
              "      width: 32px;\n",
              "    }\n",
              "\n",
              "    .colab-df-convert:hover {\n",
              "      background-color: #E2EBFA;\n",
              "      box-shadow: 0px 1px 2px rgba(60, 64, 67, 0.3), 0px 1px 3px 1px rgba(60, 64, 67, 0.15);\n",
              "      fill: #174EA6;\n",
              "    }\n",
              "\n",
              "    [theme=dark] .colab-df-convert {\n",
              "      background-color: #3B4455;\n",
              "      fill: #D2E3FC;\n",
              "    }\n",
              "\n",
              "    [theme=dark] .colab-df-convert:hover {\n",
              "      background-color: #434B5C;\n",
              "      box-shadow: 0px 1px 3px 1px rgba(0, 0, 0, 0.15);\n",
              "      filter: drop-shadow(0px 1px 2px rgba(0, 0, 0, 0.3));\n",
              "      fill: #FFFFFF;\n",
              "    }\n",
              "  </style>\n",
              "\n",
              "      <script>\n",
              "        const buttonEl =\n",
              "          document.querySelector('#df-b986a728-8358-4466-b460-c952d7fdf1c6 button.colab-df-convert');\n",
              "        buttonEl.style.display =\n",
              "          google.colab.kernel.accessAllowed ? 'block' : 'none';\n",
              "\n",
              "        async function convertToInteractive(key) {\n",
              "          const element = document.querySelector('#df-b986a728-8358-4466-b460-c952d7fdf1c6');\n",
              "          const dataTable =\n",
              "            await google.colab.kernel.invokeFunction('convertToInteractive',\n",
              "                                                     [key], {});\n",
              "          if (!dataTable) return;\n",
              "\n",
              "          const docLinkHtml = 'Like what you see? Visit the ' +\n",
              "            '<a target=\"_blank\" href=https://colab.research.google.com/notebooks/data_table.ipynb>data table notebook</a>'\n",
              "            + ' to learn more about interactive tables.';\n",
              "          element.innerHTML = '';\n",
              "          dataTable['output_type'] = 'display_data';\n",
              "          await google.colab.output.renderOutput(dataTable, element);\n",
              "          const docLink = document.createElement('div');\n",
              "          docLink.innerHTML = docLinkHtml;\n",
              "          element.appendChild(docLink);\n",
              "        }\n",
              "      </script>\n",
              "    </div>\n",
              "  </div>\n",
              "  "
            ]
          },
          "metadata": {},
          "execution_count": 55
        }
      ]
    },
    {
      "cell_type": "code",
      "source": [
        "# Check wheter main_entity based on cosine similarity is identical to \"true\" main entity label \n",
        "sim_scores_sample_mapped_f[\"correct_match\"] = sim_scores_sample_mapped_f.main_entity_id==sim_scores_sample_mapped_f.true_entity_id"
      ],
      "metadata": {
        "id": "Ike9FpzUXxRz"
      },
      "execution_count": null,
      "outputs": []
    },
    {
      "cell_type": "code",
      "source": [
        "sim_scores_sample_mapped_f.head(3)"
      ],
      "metadata": {
        "colab": {
          "base_uri": "https://localhost:8080/",
          "height": 143
        },
        "id": "VPkxtaIDX1_6",
        "outputId": "312269d8-0bd3-4780-8c02-d866fa75d2d0"
      },
      "execution_count": null,
      "outputs": [
        {
          "output_type": "execute_result",
          "data": {
            "text/plain": [
              "   score    sentence_id noun_phrase_txt             entity_id  \\\n",
              "0    1.0  188_3349_3371        services  ridehailing services   \n",
              "1    1.0  188_9906_9948        services  ridehailing services   \n",
              "2    1.0  188_2610_2634        services  ridehailing services   \n",
              "\n",
              "          main_entity_id true_entity_id  correct_match  \n",
              "0  ride sharing platform              0          False  \n",
              "1  ride sharing platform              0          False  \n",
              "2  ride sharing platform              0          False  "
            ],
            "text/html": [
              "\n",
              "  <div id=\"df-0f3d6c45-5e47-4f19-9b6e-9e5e79df8536\">\n",
              "    <div class=\"colab-df-container\">\n",
              "      <div>\n",
              "<style scoped>\n",
              "    .dataframe tbody tr th:only-of-type {\n",
              "        vertical-align: middle;\n",
              "    }\n",
              "\n",
              "    .dataframe tbody tr th {\n",
              "        vertical-align: top;\n",
              "    }\n",
              "\n",
              "    .dataframe thead th {\n",
              "        text-align: right;\n",
              "    }\n",
              "</style>\n",
              "<table border=\"1\" class=\"dataframe\">\n",
              "  <thead>\n",
              "    <tr style=\"text-align: right;\">\n",
              "      <th></th>\n",
              "      <th>score</th>\n",
              "      <th>sentence_id</th>\n",
              "      <th>noun_phrase_txt</th>\n",
              "      <th>entity_id</th>\n",
              "      <th>main_entity_id</th>\n",
              "      <th>true_entity_id</th>\n",
              "      <th>correct_match</th>\n",
              "    </tr>\n",
              "  </thead>\n",
              "  <tbody>\n",
              "    <tr>\n",
              "      <th>0</th>\n",
              "      <td>1.0</td>\n",
              "      <td>188_3349_3371</td>\n",
              "      <td>services</td>\n",
              "      <td>ridehailing services</td>\n",
              "      <td>ride sharing platform</td>\n",
              "      <td>0</td>\n",
              "      <td>False</td>\n",
              "    </tr>\n",
              "    <tr>\n",
              "      <th>1</th>\n",
              "      <td>1.0</td>\n",
              "      <td>188_9906_9948</td>\n",
              "      <td>services</td>\n",
              "      <td>ridehailing services</td>\n",
              "      <td>ride sharing platform</td>\n",
              "      <td>0</td>\n",
              "      <td>False</td>\n",
              "    </tr>\n",
              "    <tr>\n",
              "      <th>2</th>\n",
              "      <td>1.0</td>\n",
              "      <td>188_2610_2634</td>\n",
              "      <td>services</td>\n",
              "      <td>ridehailing services</td>\n",
              "      <td>ride sharing platform</td>\n",
              "      <td>0</td>\n",
              "      <td>False</td>\n",
              "    </tr>\n",
              "  </tbody>\n",
              "</table>\n",
              "</div>\n",
              "      <button class=\"colab-df-convert\" onclick=\"convertToInteractive('df-0f3d6c45-5e47-4f19-9b6e-9e5e79df8536')\"\n",
              "              title=\"Convert this dataframe to an interactive table.\"\n",
              "              style=\"display:none;\">\n",
              "        \n",
              "  <svg xmlns=\"http://www.w3.org/2000/svg\" height=\"24px\"viewBox=\"0 0 24 24\"\n",
              "       width=\"24px\">\n",
              "    <path d=\"M0 0h24v24H0V0z\" fill=\"none\"/>\n",
              "    <path d=\"M18.56 5.44l.94 2.06.94-2.06 2.06-.94-2.06-.94-.94-2.06-.94 2.06-2.06.94zm-11 1L8.5 8.5l.94-2.06 2.06-.94-2.06-.94L8.5 2.5l-.94 2.06-2.06.94zm10 10l.94 2.06.94-2.06 2.06-.94-2.06-.94-.94-2.06-.94 2.06-2.06.94z\"/><path d=\"M17.41 7.96l-1.37-1.37c-.4-.4-.92-.59-1.43-.59-.52 0-1.04.2-1.43.59L10.3 9.45l-7.72 7.72c-.78.78-.78 2.05 0 2.83L4 21.41c.39.39.9.59 1.41.59.51 0 1.02-.2 1.41-.59l7.78-7.78 2.81-2.81c.8-.78.8-2.07 0-2.86zM5.41 20L4 18.59l7.72-7.72 1.47 1.35L5.41 20z\"/>\n",
              "  </svg>\n",
              "      </button>\n",
              "      \n",
              "  <style>\n",
              "    .colab-df-container {\n",
              "      display:flex;\n",
              "      flex-wrap:wrap;\n",
              "      gap: 12px;\n",
              "    }\n",
              "\n",
              "    .colab-df-convert {\n",
              "      background-color: #E8F0FE;\n",
              "      border: none;\n",
              "      border-radius: 50%;\n",
              "      cursor: pointer;\n",
              "      display: none;\n",
              "      fill: #1967D2;\n",
              "      height: 32px;\n",
              "      padding: 0 0 0 0;\n",
              "      width: 32px;\n",
              "    }\n",
              "\n",
              "    .colab-df-convert:hover {\n",
              "      background-color: #E2EBFA;\n",
              "      box-shadow: 0px 1px 2px rgba(60, 64, 67, 0.3), 0px 1px 3px 1px rgba(60, 64, 67, 0.15);\n",
              "      fill: #174EA6;\n",
              "    }\n",
              "\n",
              "    [theme=dark] .colab-df-convert {\n",
              "      background-color: #3B4455;\n",
              "      fill: #D2E3FC;\n",
              "    }\n",
              "\n",
              "    [theme=dark] .colab-df-convert:hover {\n",
              "      background-color: #434B5C;\n",
              "      box-shadow: 0px 1px 3px 1px rgba(0, 0, 0, 0.15);\n",
              "      filter: drop-shadow(0px 1px 2px rgba(0, 0, 0, 0.3));\n",
              "      fill: #FFFFFF;\n",
              "    }\n",
              "  </style>\n",
              "\n",
              "      <script>\n",
              "        const buttonEl =\n",
              "          document.querySelector('#df-0f3d6c45-5e47-4f19-9b6e-9e5e79df8536 button.colab-df-convert');\n",
              "        buttonEl.style.display =\n",
              "          google.colab.kernel.accessAllowed ? 'block' : 'none';\n",
              "\n",
              "        async function convertToInteractive(key) {\n",
              "          const element = document.querySelector('#df-0f3d6c45-5e47-4f19-9b6e-9e5e79df8536');\n",
              "          const dataTable =\n",
              "            await google.colab.kernel.invokeFunction('convertToInteractive',\n",
              "                                                     [key], {});\n",
              "          if (!dataTable) return;\n",
              "\n",
              "          const docLinkHtml = 'Like what you see? Visit the ' +\n",
              "            '<a target=\"_blank\" href=https://colab.research.google.com/notebooks/data_table.ipynb>data table notebook</a>'\n",
              "            + ' to learn more about interactive tables.';\n",
              "          element.innerHTML = '';\n",
              "          dataTable['output_type'] = 'display_data';\n",
              "          await google.colab.output.renderOutput(dataTable, element);\n",
              "          const docLink = document.createElement('div');\n",
              "          docLink.innerHTML = docLinkHtml;\n",
              "          element.appendChild(docLink);\n",
              "        }\n",
              "      </script>\n",
              "    </div>\n",
              "  </div>\n",
              "  "
            ]
          },
          "metadata": {},
          "execution_count": 58
        }
      ]
    },
    {
      "cell_type": "code",
      "source": [
        "# Check results for one sample sentence\n",
        "sim_scores_sample_mapped_f[(sim_scores_sample_mapped_f.sentence_id==\"188_5984_6028\")].sort_values(by=\"score\", ascending=False)"
      ],
      "metadata": {
        "colab": {
          "base_uri": "https://localhost:8080/",
          "height": 394
        },
        "id": "i7rA5O1rX5RE",
        "outputId": "31a33e5d-0009-4e99-d1f0-ee6fd7b7c1ec"
      },
      "execution_count": null,
      "outputs": [
        {
          "output_type": "execute_result",
          "data": {
            "text/plain": [
              "         score    sentence_id              noun_phrase_txt  \\\n",
              "137   1.000000  188_5984_6028                  application   \n",
              "291   1.000000  188_5984_6028   information infrastructure   \n",
              "447   0.958562  188_5984_6028          service development   \n",
              "570   0.940639  188_5984_6028           the private sector   \n",
              "742   0.937718  188_5984_6028              the development   \n",
              "1031  0.918924  188_5984_6028      the public institutions   \n",
              "2187  0.895045  188_5984_6028    innovative communications   \n",
              "2627  0.881901  188_5984_6028  an information superhighway   \n",
              "3278  0.848460  188_5984_6028                      a 'host   \n",
              "3545  0.798061  188_5984_6028           hardware receivers   \n",
              "3859  0.621976  188_5984_6028                 transmitters   \n",
              "\n",
              "                                              entity_id  \\\n",
              "137                        application productivenesses   \n",
              "291                          information infrastructure   \n",
              "447                     information service development   \n",
              "570                                      private sector   \n",
              "742                            IT development agilities   \n",
              "1031                            IT service institutions   \n",
              "2187  collaborative information communications techn...   \n",
              "2627                           information superhighway   \n",
              "3278                                     build a theory   \n",
              "3545                                           hardware   \n",
              "3859                              broadcasting stations   \n",
              "\n",
              "                             main_entity_id  \\\n",
              "137                         IT productivity   \n",
              "291   information technology infrastructure   \n",
              "447        information services development   \n",
              "570                          private sector   \n",
              "742                  IS development agility   \n",
              "1031                    IT service provider   \n",
              "2187    computer supported cooperative work   \n",
              "2627               information superhighway   \n",
              "3278                     theory development   \n",
              "3545                               hardware   \n",
              "3859                  broadcasting industry   \n",
              "\n",
              "                             true_entity_id  correct_match  \n",
              "137                                       0          False  \n",
              "291   information technology infrastructure           True  \n",
              "447                                       0          False  \n",
              "570                          private sector           True  \n",
              "742                                       0          False  \n",
              "1031                                      0          False  \n",
              "2187                                      0          False  \n",
              "2627               information superhighway           True  \n",
              "3278                                      0          False  \n",
              "3545                               hardware           True  \n",
              "3859                                      0          False  "
            ],
            "text/html": [
              "\n",
              "  <div id=\"df-510ebec6-4afc-43d1-8d67-bfab8bd45782\">\n",
              "    <div class=\"colab-df-container\">\n",
              "      <div>\n",
              "<style scoped>\n",
              "    .dataframe tbody tr th:only-of-type {\n",
              "        vertical-align: middle;\n",
              "    }\n",
              "\n",
              "    .dataframe tbody tr th {\n",
              "        vertical-align: top;\n",
              "    }\n",
              "\n",
              "    .dataframe thead th {\n",
              "        text-align: right;\n",
              "    }\n",
              "</style>\n",
              "<table border=\"1\" class=\"dataframe\">\n",
              "  <thead>\n",
              "    <tr style=\"text-align: right;\">\n",
              "      <th></th>\n",
              "      <th>score</th>\n",
              "      <th>sentence_id</th>\n",
              "      <th>noun_phrase_txt</th>\n",
              "      <th>entity_id</th>\n",
              "      <th>main_entity_id</th>\n",
              "      <th>true_entity_id</th>\n",
              "      <th>correct_match</th>\n",
              "    </tr>\n",
              "  </thead>\n",
              "  <tbody>\n",
              "    <tr>\n",
              "      <th>137</th>\n",
              "      <td>1.000000</td>\n",
              "      <td>188_5984_6028</td>\n",
              "      <td>application</td>\n",
              "      <td>application productivenesses</td>\n",
              "      <td>IT productivity</td>\n",
              "      <td>0</td>\n",
              "      <td>False</td>\n",
              "    </tr>\n",
              "    <tr>\n",
              "      <th>291</th>\n",
              "      <td>1.000000</td>\n",
              "      <td>188_5984_6028</td>\n",
              "      <td>information infrastructure</td>\n",
              "      <td>information infrastructure</td>\n",
              "      <td>information technology infrastructure</td>\n",
              "      <td>information technology infrastructure</td>\n",
              "      <td>True</td>\n",
              "    </tr>\n",
              "    <tr>\n",
              "      <th>447</th>\n",
              "      <td>0.958562</td>\n",
              "      <td>188_5984_6028</td>\n",
              "      <td>service development</td>\n",
              "      <td>information service development</td>\n",
              "      <td>information services development</td>\n",
              "      <td>0</td>\n",
              "      <td>False</td>\n",
              "    </tr>\n",
              "    <tr>\n",
              "      <th>570</th>\n",
              "      <td>0.940639</td>\n",
              "      <td>188_5984_6028</td>\n",
              "      <td>the private sector</td>\n",
              "      <td>private sector</td>\n",
              "      <td>private sector</td>\n",
              "      <td>private sector</td>\n",
              "      <td>True</td>\n",
              "    </tr>\n",
              "    <tr>\n",
              "      <th>742</th>\n",
              "      <td>0.937718</td>\n",
              "      <td>188_5984_6028</td>\n",
              "      <td>the development</td>\n",
              "      <td>IT development agilities</td>\n",
              "      <td>IS development agility</td>\n",
              "      <td>0</td>\n",
              "      <td>False</td>\n",
              "    </tr>\n",
              "    <tr>\n",
              "      <th>1031</th>\n",
              "      <td>0.918924</td>\n",
              "      <td>188_5984_6028</td>\n",
              "      <td>the public institutions</td>\n",
              "      <td>IT service institutions</td>\n",
              "      <td>IT service provider</td>\n",
              "      <td>0</td>\n",
              "      <td>False</td>\n",
              "    </tr>\n",
              "    <tr>\n",
              "      <th>2187</th>\n",
              "      <td>0.895045</td>\n",
              "      <td>188_5984_6028</td>\n",
              "      <td>innovative communications</td>\n",
              "      <td>collaborative information communications techn...</td>\n",
              "      <td>computer supported cooperative work</td>\n",
              "      <td>0</td>\n",
              "      <td>False</td>\n",
              "    </tr>\n",
              "    <tr>\n",
              "      <th>2627</th>\n",
              "      <td>0.881901</td>\n",
              "      <td>188_5984_6028</td>\n",
              "      <td>an information superhighway</td>\n",
              "      <td>information superhighway</td>\n",
              "      <td>information superhighway</td>\n",
              "      <td>information superhighway</td>\n",
              "      <td>True</td>\n",
              "    </tr>\n",
              "    <tr>\n",
              "      <th>3278</th>\n",
              "      <td>0.848460</td>\n",
              "      <td>188_5984_6028</td>\n",
              "      <td>a 'host</td>\n",
              "      <td>build a theory</td>\n",
              "      <td>theory development</td>\n",
              "      <td>0</td>\n",
              "      <td>False</td>\n",
              "    </tr>\n",
              "    <tr>\n",
              "      <th>3545</th>\n",
              "      <td>0.798061</td>\n",
              "      <td>188_5984_6028</td>\n",
              "      <td>hardware receivers</td>\n",
              "      <td>hardware</td>\n",
              "      <td>hardware</td>\n",
              "      <td>hardware</td>\n",
              "      <td>True</td>\n",
              "    </tr>\n",
              "    <tr>\n",
              "      <th>3859</th>\n",
              "      <td>0.621976</td>\n",
              "      <td>188_5984_6028</td>\n",
              "      <td>transmitters</td>\n",
              "      <td>broadcasting stations</td>\n",
              "      <td>broadcasting industry</td>\n",
              "      <td>0</td>\n",
              "      <td>False</td>\n",
              "    </tr>\n",
              "  </tbody>\n",
              "</table>\n",
              "</div>\n",
              "      <button class=\"colab-df-convert\" onclick=\"convertToInteractive('df-510ebec6-4afc-43d1-8d67-bfab8bd45782')\"\n",
              "              title=\"Convert this dataframe to an interactive table.\"\n",
              "              style=\"display:none;\">\n",
              "        \n",
              "  <svg xmlns=\"http://www.w3.org/2000/svg\" height=\"24px\"viewBox=\"0 0 24 24\"\n",
              "       width=\"24px\">\n",
              "    <path d=\"M0 0h24v24H0V0z\" fill=\"none\"/>\n",
              "    <path d=\"M18.56 5.44l.94 2.06.94-2.06 2.06-.94-2.06-.94-.94-2.06-.94 2.06-2.06.94zm-11 1L8.5 8.5l.94-2.06 2.06-.94-2.06-.94L8.5 2.5l-.94 2.06-2.06.94zm10 10l.94 2.06.94-2.06 2.06-.94-2.06-.94-.94-2.06-.94 2.06-2.06.94z\"/><path d=\"M17.41 7.96l-1.37-1.37c-.4-.4-.92-.59-1.43-.59-.52 0-1.04.2-1.43.59L10.3 9.45l-7.72 7.72c-.78.78-.78 2.05 0 2.83L4 21.41c.39.39.9.59 1.41.59.51 0 1.02-.2 1.41-.59l7.78-7.78 2.81-2.81c.8-.78.8-2.07 0-2.86zM5.41 20L4 18.59l7.72-7.72 1.47 1.35L5.41 20z\"/>\n",
              "  </svg>\n",
              "      </button>\n",
              "      \n",
              "  <style>\n",
              "    .colab-df-container {\n",
              "      display:flex;\n",
              "      flex-wrap:wrap;\n",
              "      gap: 12px;\n",
              "    }\n",
              "\n",
              "    .colab-df-convert {\n",
              "      background-color: #E8F0FE;\n",
              "      border: none;\n",
              "      border-radius: 50%;\n",
              "      cursor: pointer;\n",
              "      display: none;\n",
              "      fill: #1967D2;\n",
              "      height: 32px;\n",
              "      padding: 0 0 0 0;\n",
              "      width: 32px;\n",
              "    }\n",
              "\n",
              "    .colab-df-convert:hover {\n",
              "      background-color: #E2EBFA;\n",
              "      box-shadow: 0px 1px 2px rgba(60, 64, 67, 0.3), 0px 1px 3px 1px rgba(60, 64, 67, 0.15);\n",
              "      fill: #174EA6;\n",
              "    }\n",
              "\n",
              "    [theme=dark] .colab-df-convert {\n",
              "      background-color: #3B4455;\n",
              "      fill: #D2E3FC;\n",
              "    }\n",
              "\n",
              "    [theme=dark] .colab-df-convert:hover {\n",
              "      background-color: #434B5C;\n",
              "      box-shadow: 0px 1px 3px 1px rgba(0, 0, 0, 0.15);\n",
              "      filter: drop-shadow(0px 1px 2px rgba(0, 0, 0, 0.3));\n",
              "      fill: #FFFFFF;\n",
              "    }\n",
              "  </style>\n",
              "\n",
              "      <script>\n",
              "        const buttonEl =\n",
              "          document.querySelector('#df-510ebec6-4afc-43d1-8d67-bfab8bd45782 button.colab-df-convert');\n",
              "        buttonEl.style.display =\n",
              "          google.colab.kernel.accessAllowed ? 'block' : 'none';\n",
              "\n",
              "        async function convertToInteractive(key) {\n",
              "          const element = document.querySelector('#df-510ebec6-4afc-43d1-8d67-bfab8bd45782');\n",
              "          const dataTable =\n",
              "            await google.colab.kernel.invokeFunction('convertToInteractive',\n",
              "                                                     [key], {});\n",
              "          if (!dataTable) return;\n",
              "\n",
              "          const docLinkHtml = 'Like what you see? Visit the ' +\n",
              "            '<a target=\"_blank\" href=https://colab.research.google.com/notebooks/data_table.ipynb>data table notebook</a>'\n",
              "            + ' to learn more about interactive tables.';\n",
              "          element.innerHTML = '';\n",
              "          dataTable['output_type'] = 'display_data';\n",
              "          await google.colab.output.renderOutput(dataTable, element);\n",
              "          const docLink = document.createElement('div');\n",
              "          docLink.innerHTML = docLinkHtml;\n",
              "          element.appendChild(docLink);\n",
              "        }\n",
              "      </script>\n",
              "    </div>\n",
              "  </div>\n",
              "  "
            ]
          },
          "metadata": {},
          "execution_count": 59
        }
      ]
    },
    {
      "cell_type": "code",
      "source": [
        "# Create bins of similarity score to check the number of correct matches compared to the labels of the database\n",
        "grouped_df = sim_scores_sample_mapped_f.groupby(pd.cut(sim_scores_sample_mapped_f.score, np.arange(0.,1.1,0.1)))[[\"correct_match\"]]\n",
        "corr_match_bins = np.round(grouped_df.sum()/grouped_df.count(),2).rename(columns={\"correct_match\":\"pct_correct_in_bin\"})\n",
        "corr_match_bins[\"no_correct\"]= grouped_df.sum()\n",
        "corr_match_bins[\"total\"]= grouped_df.count()\n",
        "corr_match_bins = corr_match_bins[[\"total\", \"no_correct\", \"pct_correct_in_bin\"]]\n",
        "corr_match_bins = corr_match_bins.iloc[::-1] #reverse order"
      ],
      "metadata": {
        "id": "d1wJY33NX_NE"
      },
      "execution_count": null,
      "outputs": []
    },
    {
      "cell_type": "code",
      "source": [
        "corr_match_bins"
      ],
      "metadata": {
        "colab": {
          "base_uri": "https://localhost:8080/",
          "height": 394
        },
        "id": "1_JmcnuKYK1L",
        "outputId": "b3b83559-571a-45de-8b7e-e4c3c31311cf"
      },
      "execution_count": null,
      "outputs": [
        {
          "output_type": "execute_result",
          "data": {
            "text/plain": [
              "            total  no_correct  pct_correct_in_bin\n",
              "score                                            \n",
              "(0.9, 1.0]    482          92                0.19\n",
              "(0.8, 0.9]    638          62                0.10\n",
              "(0.7, 0.8]    168          12                0.07\n",
              "(0.6, 0.7]     95           0                0.00\n",
              "(0.5, 0.6]     51           1                0.02\n",
              "(0.4, 0.5]     30           0                0.00\n",
              "(0.3, 0.4]     20           0                0.00\n",
              "(0.2, 0.3]      0           0                 NaN\n",
              "(0.1, 0.2]      0           0                 NaN\n",
              "(0.0, 0.1]      0           0                 NaN"
            ],
            "text/html": [
              "\n",
              "  <div id=\"df-a10d1f97-6b56-423f-b587-d4463464830e\">\n",
              "    <div class=\"colab-df-container\">\n",
              "      <div>\n",
              "<style scoped>\n",
              "    .dataframe tbody tr th:only-of-type {\n",
              "        vertical-align: middle;\n",
              "    }\n",
              "\n",
              "    .dataframe tbody tr th {\n",
              "        vertical-align: top;\n",
              "    }\n",
              "\n",
              "    .dataframe thead th {\n",
              "        text-align: right;\n",
              "    }\n",
              "</style>\n",
              "<table border=\"1\" class=\"dataframe\">\n",
              "  <thead>\n",
              "    <tr style=\"text-align: right;\">\n",
              "      <th></th>\n",
              "      <th>total</th>\n",
              "      <th>no_correct</th>\n",
              "      <th>pct_correct_in_bin</th>\n",
              "    </tr>\n",
              "    <tr>\n",
              "      <th>score</th>\n",
              "      <th></th>\n",
              "      <th></th>\n",
              "      <th></th>\n",
              "    </tr>\n",
              "  </thead>\n",
              "  <tbody>\n",
              "    <tr>\n",
              "      <th>(0.9, 1.0]</th>\n",
              "      <td>482</td>\n",
              "      <td>92</td>\n",
              "      <td>0.19</td>\n",
              "    </tr>\n",
              "    <tr>\n",
              "      <th>(0.8, 0.9]</th>\n",
              "      <td>638</td>\n",
              "      <td>62</td>\n",
              "      <td>0.10</td>\n",
              "    </tr>\n",
              "    <tr>\n",
              "      <th>(0.7, 0.8]</th>\n",
              "      <td>168</td>\n",
              "      <td>12</td>\n",
              "      <td>0.07</td>\n",
              "    </tr>\n",
              "    <tr>\n",
              "      <th>(0.6, 0.7]</th>\n",
              "      <td>95</td>\n",
              "      <td>0</td>\n",
              "      <td>0.00</td>\n",
              "    </tr>\n",
              "    <tr>\n",
              "      <th>(0.5, 0.6]</th>\n",
              "      <td>51</td>\n",
              "      <td>1</td>\n",
              "      <td>0.02</td>\n",
              "    </tr>\n",
              "    <tr>\n",
              "      <th>(0.4, 0.5]</th>\n",
              "      <td>30</td>\n",
              "      <td>0</td>\n",
              "      <td>0.00</td>\n",
              "    </tr>\n",
              "    <tr>\n",
              "      <th>(0.3, 0.4]</th>\n",
              "      <td>20</td>\n",
              "      <td>0</td>\n",
              "      <td>0.00</td>\n",
              "    </tr>\n",
              "    <tr>\n",
              "      <th>(0.2, 0.3]</th>\n",
              "      <td>0</td>\n",
              "      <td>0</td>\n",
              "      <td>NaN</td>\n",
              "    </tr>\n",
              "    <tr>\n",
              "      <th>(0.1, 0.2]</th>\n",
              "      <td>0</td>\n",
              "      <td>0</td>\n",
              "      <td>NaN</td>\n",
              "    </tr>\n",
              "    <tr>\n",
              "      <th>(0.0, 0.1]</th>\n",
              "      <td>0</td>\n",
              "      <td>0</td>\n",
              "      <td>NaN</td>\n",
              "    </tr>\n",
              "  </tbody>\n",
              "</table>\n",
              "</div>\n",
              "      <button class=\"colab-df-convert\" onclick=\"convertToInteractive('df-a10d1f97-6b56-423f-b587-d4463464830e')\"\n",
              "              title=\"Convert this dataframe to an interactive table.\"\n",
              "              style=\"display:none;\">\n",
              "        \n",
              "  <svg xmlns=\"http://www.w3.org/2000/svg\" height=\"24px\"viewBox=\"0 0 24 24\"\n",
              "       width=\"24px\">\n",
              "    <path d=\"M0 0h24v24H0V0z\" fill=\"none\"/>\n",
              "    <path d=\"M18.56 5.44l.94 2.06.94-2.06 2.06-.94-2.06-.94-.94-2.06-.94 2.06-2.06.94zm-11 1L8.5 8.5l.94-2.06 2.06-.94-2.06-.94L8.5 2.5l-.94 2.06-2.06.94zm10 10l.94 2.06.94-2.06 2.06-.94-2.06-.94-.94-2.06-.94 2.06-2.06.94z\"/><path d=\"M17.41 7.96l-1.37-1.37c-.4-.4-.92-.59-1.43-.59-.52 0-1.04.2-1.43.59L10.3 9.45l-7.72 7.72c-.78.78-.78 2.05 0 2.83L4 21.41c.39.39.9.59 1.41.59.51 0 1.02-.2 1.41-.59l7.78-7.78 2.81-2.81c.8-.78.8-2.07 0-2.86zM5.41 20L4 18.59l7.72-7.72 1.47 1.35L5.41 20z\"/>\n",
              "  </svg>\n",
              "      </button>\n",
              "      \n",
              "  <style>\n",
              "    .colab-df-container {\n",
              "      display:flex;\n",
              "      flex-wrap:wrap;\n",
              "      gap: 12px;\n",
              "    }\n",
              "\n",
              "    .colab-df-convert {\n",
              "      background-color: #E8F0FE;\n",
              "      border: none;\n",
              "      border-radius: 50%;\n",
              "      cursor: pointer;\n",
              "      display: none;\n",
              "      fill: #1967D2;\n",
              "      height: 32px;\n",
              "      padding: 0 0 0 0;\n",
              "      width: 32px;\n",
              "    }\n",
              "\n",
              "    .colab-df-convert:hover {\n",
              "      background-color: #E2EBFA;\n",
              "      box-shadow: 0px 1px 2px rgba(60, 64, 67, 0.3), 0px 1px 3px 1px rgba(60, 64, 67, 0.15);\n",
              "      fill: #174EA6;\n",
              "    }\n",
              "\n",
              "    [theme=dark] .colab-df-convert {\n",
              "      background-color: #3B4455;\n",
              "      fill: #D2E3FC;\n",
              "    }\n",
              "\n",
              "    [theme=dark] .colab-df-convert:hover {\n",
              "      background-color: #434B5C;\n",
              "      box-shadow: 0px 1px 3px 1px rgba(0, 0, 0, 0.15);\n",
              "      filter: drop-shadow(0px 1px 2px rgba(0, 0, 0, 0.3));\n",
              "      fill: #FFFFFF;\n",
              "    }\n",
              "  </style>\n",
              "\n",
              "      <script>\n",
              "        const buttonEl =\n",
              "          document.querySelector('#df-a10d1f97-6b56-423f-b587-d4463464830e button.colab-df-convert');\n",
              "        buttonEl.style.display =\n",
              "          google.colab.kernel.accessAllowed ? 'block' : 'none';\n",
              "\n",
              "        async function convertToInteractive(key) {\n",
              "          const element = document.querySelector('#df-a10d1f97-6b56-423f-b587-d4463464830e');\n",
              "          const dataTable =\n",
              "            await google.colab.kernel.invokeFunction('convertToInteractive',\n",
              "                                                     [key], {});\n",
              "          if (!dataTable) return;\n",
              "\n",
              "          const docLinkHtml = 'Like what you see? Visit the ' +\n",
              "            '<a target=\"_blank\" href=https://colab.research.google.com/notebooks/data_table.ipynb>data table notebook</a>'\n",
              "            + ' to learn more about interactive tables.';\n",
              "          element.innerHTML = '';\n",
              "          dataTable['output_type'] = 'display_data';\n",
              "          await google.colab.output.renderOutput(dataTable, element);\n",
              "          const docLink = document.createElement('div');\n",
              "          docLink.innerHTML = docLinkHtml;\n",
              "          element.appendChild(docLink);\n",
              "        }\n",
              "      </script>\n",
              "    </div>\n",
              "  </div>\n",
              "  "
            ]
          },
          "metadata": {},
          "execution_count": 61
        }
      ]
    },
    {
      "cell_type": "code",
      "source": [
        "#corr_match_bins = corr_match_bins.iloc[::-1]\n",
        "corr_match_bins['pareto_correct_matches'] = 100 *corr_match_bins.no_correct.cumsum() / corr_match_bins.no_correct.sum()\n",
        "corr_match_bins['pareto_all_matches'] = 100 *corr_match_bins.total.cumsum() / corr_match_bins.total.sum()\n",
        "fig, axes = plt.subplots(1,2, figsize=(20,5))\n",
        "\n",
        "\n",
        "#First plot\n",
        "ax01 = corr_match_bins.plot(use_index=True, y='total',  kind='bar', ax=axes[0])\n",
        "ax02 = corr_match_bins.plot(use_index=True, y='pct_correct_in_bin', marker='D', color=\"C1\", kind='line', ax=axes[0], secondary_y=True)\n",
        "#ax1.invert_xaxis()\n",
        "for tick in ax01.get_xticklabels():\n",
        "    tick.set_rotation(45)\n",
        "#ax2.invert_xaxis()\n",
        "ax02.set_ylim([0,1]);\n",
        "axes[0].set_title(\"Total Number of matches and pct. of correct matches within each similarity score bin compared\");\n",
        "\n",
        "\n",
        "# First plot\n",
        "ax1 = corr_match_bins.plot(use_index=True, y='total',  kind='bar', ax=axes[1])\n",
        "ax2 = corr_match_bins.plot(use_index=True, y='pareto_correct_matches', marker='D', color=\"C1\", kind='line', ax=axes[1], secondary_y=True)\n",
        "ax4 = corr_match_bins.plot(use_index=True, y='pareto_all_matches', marker='D', color=\"red\", kind='line', ax=axes[1], secondary_y=True)\n",
        "axes[1].set_title(\"Total number and cumulated pct. of total and correct matches accross similarity scores\");\n",
        "#ax1.invert_xaxis()\n",
        "for tick in ax1.get_xticklabels():\n",
        "    tick.set_rotation(45)\n",
        "#ax2.invert_xaxis()\n",
        "ax2.set_ylim([0,110]);"
      ],
      "metadata": {
        "colab": {
          "base_uri": "https://localhost:8080/",
          "height": 379
        },
        "id": "QOlKcUxYYT6l",
        "outputId": "39a2c9f8-5522-464f-e557-b3071d36b876"
      },
      "execution_count": null,
      "outputs": [
        {
          "output_type": "display_data",
          "data": {
            "text/plain": [
              "<Figure size 1440x360 with 4 Axes>"
            ],
            "image/png": "[encoded data removed]"
          },
          "metadata": {
            "needs_background": "light"
          }
        }
      ]
    }
  ]
}