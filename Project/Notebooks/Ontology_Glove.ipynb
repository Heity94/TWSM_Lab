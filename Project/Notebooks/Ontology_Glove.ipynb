{
  "nbformat": 4,
  "nbformat_minor": 0,
  "metadata": {
    "colab": {
      "name": "Ontology_Glove.ipynb",
      "provenance": [],
      "collapsed_sections": [],
      "authorship_tag": "ABX9TyM3liw+VOiQNCJlrqs1qwKo",
      "include_colab_link": true
    },
    "kernelspec": {
      "name": "python3",
      "display_name": "Python 3"
    },
    "language_info": {
      "name": "python"
    }
  },
  "cells": [
    {
      "cell_type": "markdown",
      "metadata": {
        "id": "view-in-github",
        "colab_type": "text"
      },
      "source": [
        "<a href=\"https://colab.research.google.com/github/Heity94/TWSM_Lab/blob/main/Project/Notebooks/Ontology_Glove.ipynb\" target=\"_parent\"><img src=\"https://colab.research.google.com/assets/colab-badge.svg\" alt=\"Open In Colab\"/></a>"
      ]
    },
    {
      "cell_type": "code",
      "execution_count": 1,
      "metadata": {
        "colab": {
          "base_uri": "https://localhost:8080/"
        },
        "id": "a-gcmTlT7t2b",
        "outputId": "28d4bfe4-1e49-4050-b497-0b59e5f616dc"
      },
      "outputs": [
        {
          "output_type": "stream",
          "name": "stdout",
          "text": [
            "Mounted at /content/drive\n"
          ]
        }
      ],
      "source": [
        "from google.colab import drive\n",
        "drive.mount('/content/drive')\n",
        "\n",
        "#set path to data in Google Drive\n",
        "data_path = \"/content/drive/MyDrive/2022_Analytics Lab Student Projects/Data/Topic 1/Data_Team1/SynDet\""
      ]
    },
    {
      "cell_type": "code",
      "source": [
        "import pandas as pd\n",
        "import numpy as np\n",
        "import matplotlib.pyplot as plt\n",
        "import seaborn as sns\n",
        "import pickle\n",
        "import torch\n",
        "#import duckdb\n",
        "#import sqlalchemy\n",
        "\n",
        "#!pip install -U sentence-transformers\n",
        "#from sentence_transformers import util"
      ],
      "metadata": {
        "id": "nwS2if1b8KF9"
      },
      "execution_count": 2,
      "outputs": []
    },
    {
      "cell_type": "code",
      "source": [
        "nounphrases = pd.read_csv(data_path+\"/SynDet_entities_train.csv\")\n",
        "nounphrases.head(10)"
      ],
      "metadata": {
        "id": "e4TyHgY68OYZ",
        "colab": {
          "base_uri": "https://localhost:8080/",
          "height": 363
        },
        "outputId": "8ef13d70-f22f-4304-9f4f-df1d5b2ce624"
      },
      "execution_count": 3,
      "outputs": [
        {
          "output_type": "execute_result",
          "data": {
            "text/plain": [
              "   Unnamed: 0  article_id    sentence_id                 ent_id  \\\n",
              "0           0         188  188_3753_3772               videotex   \n",
              "1           1         188  188_3753_3772               videotex   \n",
              "2           2         188  188_3753_3772               videotex   \n",
              "3           3         188  188_3753_3772               videotex   \n",
              "4           4         188  188_3753_3772               videotex   \n",
              "5           5         188  188_3828_3848  competitive advantage   \n",
              "6           6         188  188_3828_3848  competitive advantage   \n",
              "7           7         188  188_3828_3848  competitive advantage   \n",
              "8           8         188  188_3828_3848  competitive advantage   \n",
              "9           9         188  188_3848_3883             government   \n",
              "\n",
              "                noun_phrases true_ent_id  \n",
              "0                      which           0  \n",
              "1                         we           0  \n",
              "2             an information           0  \n",
              "3     communication resource           0  \n",
              "4         the Minitel system           0  \n",
              "5                         It           0  \n",
              "6                     any rm           0  \n",
              "7                    the eld           0  \n",
              "8  so competitive advantages           0  \n",
              "9                       This           0  "
            ],
            "text/html": [
              "\n",
              "  <div id=\"df-7c290ed3-03a4-4cf5-81f2-52b0f2e4742a\">\n",
              "    <div class=\"colab-df-container\">\n",
              "      <div>\n",
              "<style scoped>\n",
              "    .dataframe tbody tr th:only-of-type {\n",
              "        vertical-align: middle;\n",
              "    }\n",
              "\n",
              "    .dataframe tbody tr th {\n",
              "        vertical-align: top;\n",
              "    }\n",
              "\n",
              "    .dataframe thead th {\n",
              "        text-align: right;\n",
              "    }\n",
              "</style>\n",
              "<table border=\"1\" class=\"dataframe\">\n",
              "  <thead>\n",
              "    <tr style=\"text-align: right;\">\n",
              "      <th></th>\n",
              "      <th>Unnamed: 0</th>\n",
              "      <th>article_id</th>\n",
              "      <th>sentence_id</th>\n",
              "      <th>ent_id</th>\n",
              "      <th>noun_phrases</th>\n",
              "      <th>true_ent_id</th>\n",
              "    </tr>\n",
              "  </thead>\n",
              "  <tbody>\n",
              "    <tr>\n",
              "      <th>0</th>\n",
              "      <td>0</td>\n",
              "      <td>188</td>\n",
              "      <td>188_3753_3772</td>\n",
              "      <td>videotex</td>\n",
              "      <td>which</td>\n",
              "      <td>0</td>\n",
              "    </tr>\n",
              "    <tr>\n",
              "      <th>1</th>\n",
              "      <td>1</td>\n",
              "      <td>188</td>\n",
              "      <td>188_3753_3772</td>\n",
              "      <td>videotex</td>\n",
              "      <td>we</td>\n",
              "      <td>0</td>\n",
              "    </tr>\n",
              "    <tr>\n",
              "      <th>2</th>\n",
              "      <td>2</td>\n",
              "      <td>188</td>\n",
              "      <td>188_3753_3772</td>\n",
              "      <td>videotex</td>\n",
              "      <td>an information</td>\n",
              "      <td>0</td>\n",
              "    </tr>\n",
              "    <tr>\n",
              "      <th>3</th>\n",
              "      <td>3</td>\n",
              "      <td>188</td>\n",
              "      <td>188_3753_3772</td>\n",
              "      <td>videotex</td>\n",
              "      <td>communication resource</td>\n",
              "      <td>0</td>\n",
              "    </tr>\n",
              "    <tr>\n",
              "      <th>4</th>\n",
              "      <td>4</td>\n",
              "      <td>188</td>\n",
              "      <td>188_3753_3772</td>\n",
              "      <td>videotex</td>\n",
              "      <td>the Minitel system</td>\n",
              "      <td>0</td>\n",
              "    </tr>\n",
              "    <tr>\n",
              "      <th>5</th>\n",
              "      <td>5</td>\n",
              "      <td>188</td>\n",
              "      <td>188_3828_3848</td>\n",
              "      <td>competitive advantage</td>\n",
              "      <td>It</td>\n",
              "      <td>0</td>\n",
              "    </tr>\n",
              "    <tr>\n",
              "      <th>6</th>\n",
              "      <td>6</td>\n",
              "      <td>188</td>\n",
              "      <td>188_3828_3848</td>\n",
              "      <td>competitive advantage</td>\n",
              "      <td>any rm</td>\n",
              "      <td>0</td>\n",
              "    </tr>\n",
              "    <tr>\n",
              "      <th>7</th>\n",
              "      <td>7</td>\n",
              "      <td>188</td>\n",
              "      <td>188_3828_3848</td>\n",
              "      <td>competitive advantage</td>\n",
              "      <td>the eld</td>\n",
              "      <td>0</td>\n",
              "    </tr>\n",
              "    <tr>\n",
              "      <th>8</th>\n",
              "      <td>8</td>\n",
              "      <td>188</td>\n",
              "      <td>188_3828_3848</td>\n",
              "      <td>competitive advantage</td>\n",
              "      <td>so competitive advantages</td>\n",
              "      <td>0</td>\n",
              "    </tr>\n",
              "    <tr>\n",
              "      <th>9</th>\n",
              "      <td>9</td>\n",
              "      <td>188</td>\n",
              "      <td>188_3848_3883</td>\n",
              "      <td>government</td>\n",
              "      <td>This</td>\n",
              "      <td>0</td>\n",
              "    </tr>\n",
              "  </tbody>\n",
              "</table>\n",
              "</div>\n",
              "      <button class=\"colab-df-convert\" onclick=\"convertToInteractive('df-7c290ed3-03a4-4cf5-81f2-52b0f2e4742a')\"\n",
              "              title=\"Convert this dataframe to an interactive table.\"\n",
              "              style=\"display:none;\">\n",
              "        \n",
              "  <svg xmlns=\"http://www.w3.org/2000/svg\" height=\"24px\"viewBox=\"0 0 24 24\"\n",
              "       width=\"24px\">\n",
              "    <path d=\"M0 0h24v24H0V0z\" fill=\"none\"/>\n",
              "    <path d=\"M18.56 5.44l.94 2.06.94-2.06 2.06-.94-2.06-.94-.94-2.06-.94 2.06-2.06.94zm-11 1L8.5 8.5l.94-2.06 2.06-.94-2.06-.94L8.5 2.5l-.94 2.06-2.06.94zm10 10l.94 2.06.94-2.06 2.06-.94-2.06-.94-.94-2.06-.94 2.06-2.06.94z\"/><path d=\"M17.41 7.96l-1.37-1.37c-.4-.4-.92-.59-1.43-.59-.52 0-1.04.2-1.43.59L10.3 9.45l-7.72 7.72c-.78.78-.78 2.05 0 2.83L4 21.41c.39.39.9.59 1.41.59.51 0 1.02-.2 1.41-.59l7.78-7.78 2.81-2.81c.8-.78.8-2.07 0-2.86zM5.41 20L4 18.59l7.72-7.72 1.47 1.35L5.41 20z\"/>\n",
              "  </svg>\n",
              "      </button>\n",
              "      \n",
              "  <style>\n",
              "    .colab-df-container {\n",
              "      display:flex;\n",
              "      flex-wrap:wrap;\n",
              "      gap: 12px;\n",
              "    }\n",
              "\n",
              "    .colab-df-convert {\n",
              "      background-color: #E8F0FE;\n",
              "      border: none;\n",
              "      border-radius: 50%;\n",
              "      cursor: pointer;\n",
              "      display: none;\n",
              "      fill: #1967D2;\n",
              "      height: 32px;\n",
              "      padding: 0 0 0 0;\n",
              "      width: 32px;\n",
              "    }\n",
              "\n",
              "    .colab-df-convert:hover {\n",
              "      background-color: #E2EBFA;\n",
              "      box-shadow: 0px 1px 2px rgba(60, 64, 67, 0.3), 0px 1px 3px 1px rgba(60, 64, 67, 0.15);\n",
              "      fill: #174EA6;\n",
              "    }\n",
              "\n",
              "    [theme=dark] .colab-df-convert {\n",
              "      background-color: #3B4455;\n",
              "      fill: #D2E3FC;\n",
              "    }\n",
              "\n",
              "    [theme=dark] .colab-df-convert:hover {\n",
              "      background-color: #434B5C;\n",
              "      box-shadow: 0px 1px 3px 1px rgba(0, 0, 0, 0.15);\n",
              "      filter: drop-shadow(0px 1px 2px rgba(0, 0, 0, 0.3));\n",
              "      fill: #FFFFFF;\n",
              "    }\n",
              "  </style>\n",
              "\n",
              "      <script>\n",
              "        const buttonEl =\n",
              "          document.querySelector('#df-7c290ed3-03a4-4cf5-81f2-52b0f2e4742a button.colab-df-convert');\n",
              "        buttonEl.style.display =\n",
              "          google.colab.kernel.accessAllowed ? 'block' : 'none';\n",
              "\n",
              "        async function convertToInteractive(key) {\n",
              "          const element = document.querySelector('#df-7c290ed3-03a4-4cf5-81f2-52b0f2e4742a');\n",
              "          const dataTable =\n",
              "            await google.colab.kernel.invokeFunction('convertToInteractive',\n",
              "                                                     [key], {});\n",
              "          if (!dataTable) return;\n",
              "\n",
              "          const docLinkHtml = 'Like what you see? Visit the ' +\n",
              "            '<a target=\"_blank\" href=https://colab.research.google.com/notebooks/data_table.ipynb>data table notebook</a>'\n",
              "            + ' to learn more about interactive tables.';\n",
              "          element.innerHTML = '';\n",
              "          dataTable['output_type'] = 'display_data';\n",
              "          await google.colab.output.renderOutput(dataTable, element);\n",
              "          const docLink = document.createElement('div');\n",
              "          docLink.innerHTML = docLinkHtml;\n",
              "          element.appendChild(docLink);\n",
              "        }\n",
              "      </script>\n",
              "    </div>\n",
              "  </div>\n",
              "  "
            ]
          },
          "metadata": {},
          "execution_count": 3
        }
      ]
    },
    {
      "cell_type": "code",
      "source": [
        "# Filter for article 188\n",
        "nounphrases_188 = nounphrases.loc[nounphrases[\"article_id\"]==188]"
      ],
      "metadata": {
        "id": "ifsZo--iCqgt"
      },
      "execution_count": 4,
      "outputs": []
    },
    {
      "cell_type": "code",
      "source": [
        "nounphrases_188['noun_phrases'] = nounphrases_188['noun_phrases'].astype(str)\n",
        "print (nounphrases_188.dtypes)"
      ],
      "metadata": {
        "colab": {
          "base_uri": "https://localhost:8080/"
        },
        "id": "gM3CXSOH5f3w",
        "outputId": "79a14235-d956-41fc-a77e-f25e28b7cae2"
      },
      "execution_count": 5,
      "outputs": [
        {
          "output_type": "stream",
          "name": "stdout",
          "text": [
            "Unnamed: 0       int64\n",
            "article_id       int64\n",
            "sentence_id     object\n",
            "ent_id          object\n",
            "noun_phrases    object\n",
            "true_ent_id     object\n",
            "dtype: object\n"
          ]
        },
        {
          "output_type": "stream",
          "name": "stderr",
          "text": [
            "/usr/local/lib/python3.7/dist-packages/ipykernel_launcher.py:1: SettingWithCopyWarning: \n",
            "A value is trying to be set on a copy of a slice from a DataFrame.\n",
            "Try using .loc[row_indexer,col_indexer] = value instead\n",
            "\n",
            "See the caveats in the documentation: https://pandas.pydata.org/pandas-docs/stable/user_guide/indexing.html#returning-a-view-versus-a-copy\n",
            "  \"\"\"Entry point for launching an IPython kernel.\n"
          ]
        }
      ]
    },
    {
      "cell_type": "code",
      "source": [
        "ontology_syn = pd.read_csv(data_path+\"/SynDet_ontology_train.csv\", index_col=0)\n",
        "ontology_syn.shape"
      ],
      "metadata": {
        "colab": {
          "base_uri": "https://localhost:8080/"
        },
        "id": "PqWOOlT_9O6S",
        "outputId": "f8ba38d4-efef-4cf2-a814-daa4e4d9b303"
      },
      "execution_count": 6,
      "outputs": [
        {
          "output_type": "execute_result",
          "data": {
            "text/plain": [
              "(340613, 4)"
            ]
          },
          "metadata": {},
          "execution_count": 6
        }
      ]
    },
    {
      "cell_type": "code",
      "source": [
        "# Check number of synonyms per entity_id\n",
        "ent_sy_group = ontology_syn.groupby(\"entity_id\")[[\"synonym\"]].nunique().sort_values(by=\"synonym\", ascending=False)\n",
        "ent_sy_group"
      ],
      "metadata": {
        "colab": {
          "base_uri": "https://localhost:8080/",
          "height": 455
        },
        "id": "PNm_YkJq95Sj",
        "outputId": "17b791bd-2168-4f2f-af61-a1945bc00395"
      },
      "execution_count": 7,
      "outputs": [
        {
          "output_type": "execute_result",
          "data": {
            "text/plain": [
              "                                      synonym\n",
              "entity_id                                    \n",
              "individual participant                 195173\n",
              "survey                                  36130\n",
              "three validities                        13677\n",
              "online learning system                   8583\n",
              "communication service infrastructure     7635\n",
              "...                                       ...\n",
              "Hardy-Weinberg equilibrium testing          1\n",
              "knowledge creation                          1\n",
              "commercial bank                             1\n",
              "technology threat avoidance theory          1\n",
              "data envelopment analysis                   1\n",
              "\n",
              "[2684 rows x 1 columns]"
            ],
            "text/html": [
              "\n",
              "  <div id=\"df-1b84d6f8-0a38-458c-9503-7ca9277d5395\">\n",
              "    <div class=\"colab-df-container\">\n",
              "      <div>\n",
              "<style scoped>\n",
              "    .dataframe tbody tr th:only-of-type {\n",
              "        vertical-align: middle;\n",
              "    }\n",
              "\n",
              "    .dataframe tbody tr th {\n",
              "        vertical-align: top;\n",
              "    }\n",
              "\n",
              "    .dataframe thead th {\n",
              "        text-align: right;\n",
              "    }\n",
              "</style>\n",
              "<table border=\"1\" class=\"dataframe\">\n",
              "  <thead>\n",
              "    <tr style=\"text-align: right;\">\n",
              "      <th></th>\n",
              "      <th>synonym</th>\n",
              "    </tr>\n",
              "    <tr>\n",
              "      <th>entity_id</th>\n",
              "      <th></th>\n",
              "    </tr>\n",
              "  </thead>\n",
              "  <tbody>\n",
              "    <tr>\n",
              "      <th>individual participant</th>\n",
              "      <td>195173</td>\n",
              "    </tr>\n",
              "    <tr>\n",
              "      <th>survey</th>\n",
              "      <td>36130</td>\n",
              "    </tr>\n",
              "    <tr>\n",
              "      <th>three validities</th>\n",
              "      <td>13677</td>\n",
              "    </tr>\n",
              "    <tr>\n",
              "      <th>online learning system</th>\n",
              "      <td>8583</td>\n",
              "    </tr>\n",
              "    <tr>\n",
              "      <th>communication service infrastructure</th>\n",
              "      <td>7635</td>\n",
              "    </tr>\n",
              "    <tr>\n",
              "      <th>...</th>\n",
              "      <td>...</td>\n",
              "    </tr>\n",
              "    <tr>\n",
              "      <th>Hardy-Weinberg equilibrium testing</th>\n",
              "      <td>1</td>\n",
              "    </tr>\n",
              "    <tr>\n",
              "      <th>knowledge creation</th>\n",
              "      <td>1</td>\n",
              "    </tr>\n",
              "    <tr>\n",
              "      <th>commercial bank</th>\n",
              "      <td>1</td>\n",
              "    </tr>\n",
              "    <tr>\n",
              "      <th>technology threat avoidance theory</th>\n",
              "      <td>1</td>\n",
              "    </tr>\n",
              "    <tr>\n",
              "      <th>data envelopment analysis</th>\n",
              "      <td>1</td>\n",
              "    </tr>\n",
              "  </tbody>\n",
              "</table>\n",
              "<p>2684 rows × 1 columns</p>\n",
              "</div>\n",
              "      <button class=\"colab-df-convert\" onclick=\"convertToInteractive('df-1b84d6f8-0a38-458c-9503-7ca9277d5395')\"\n",
              "              title=\"Convert this dataframe to an interactive table.\"\n",
              "              style=\"display:none;\">\n",
              "        \n",
              "  <svg xmlns=\"http://www.w3.org/2000/svg\" height=\"24px\"viewBox=\"0 0 24 24\"\n",
              "       width=\"24px\">\n",
              "    <path d=\"M0 0h24v24H0V0z\" fill=\"none\"/>\n",
              "    <path d=\"M18.56 5.44l.94 2.06.94-2.06 2.06-.94-2.06-.94-.94-2.06-.94 2.06-2.06.94zm-11 1L8.5 8.5l.94-2.06 2.06-.94-2.06-.94L8.5 2.5l-.94 2.06-2.06.94zm10 10l.94 2.06.94-2.06 2.06-.94-2.06-.94-.94-2.06-.94 2.06-2.06.94z\"/><path d=\"M17.41 7.96l-1.37-1.37c-.4-.4-.92-.59-1.43-.59-.52 0-1.04.2-1.43.59L10.3 9.45l-7.72 7.72c-.78.78-.78 2.05 0 2.83L4 21.41c.39.39.9.59 1.41.59.51 0 1.02-.2 1.41-.59l7.78-7.78 2.81-2.81c.8-.78.8-2.07 0-2.86zM5.41 20L4 18.59l7.72-7.72 1.47 1.35L5.41 20z\"/>\n",
              "  </svg>\n",
              "      </button>\n",
              "      \n",
              "  <style>\n",
              "    .colab-df-container {\n",
              "      display:flex;\n",
              "      flex-wrap:wrap;\n",
              "      gap: 12px;\n",
              "    }\n",
              "\n",
              "    .colab-df-convert {\n",
              "      background-color: #E8F0FE;\n",
              "      border: none;\n",
              "      border-radius: 50%;\n",
              "      cursor: pointer;\n",
              "      display: none;\n",
              "      fill: #1967D2;\n",
              "      height: 32px;\n",
              "      padding: 0 0 0 0;\n",
              "      width: 32px;\n",
              "    }\n",
              "\n",
              "    .colab-df-convert:hover {\n",
              "      background-color: #E2EBFA;\n",
              "      box-shadow: 0px 1px 2px rgba(60, 64, 67, 0.3), 0px 1px 3px 1px rgba(60, 64, 67, 0.15);\n",
              "      fill: #174EA6;\n",
              "    }\n",
              "\n",
              "    [theme=dark] .colab-df-convert {\n",
              "      background-color: #3B4455;\n",
              "      fill: #D2E3FC;\n",
              "    }\n",
              "\n",
              "    [theme=dark] .colab-df-convert:hover {\n",
              "      background-color: #434B5C;\n",
              "      box-shadow: 0px 1px 3px 1px rgba(0, 0, 0, 0.15);\n",
              "      filter: drop-shadow(0px 1px 2px rgba(0, 0, 0, 0.3));\n",
              "      fill: #FFFFFF;\n",
              "    }\n",
              "  </style>\n",
              "\n",
              "      <script>\n",
              "        const buttonEl =\n",
              "          document.querySelector('#df-1b84d6f8-0a38-458c-9503-7ca9277d5395 button.colab-df-convert');\n",
              "        buttonEl.style.display =\n",
              "          google.colab.kernel.accessAllowed ? 'block' : 'none';\n",
              "\n",
              "        async function convertToInteractive(key) {\n",
              "          const element = document.querySelector('#df-1b84d6f8-0a38-458c-9503-7ca9277d5395');\n",
              "          const dataTable =\n",
              "            await google.colab.kernel.invokeFunction('convertToInteractive',\n",
              "                                                     [key], {});\n",
              "          if (!dataTable) return;\n",
              "\n",
              "          const docLinkHtml = 'Like what you see? Visit the ' +\n",
              "            '<a target=\"_blank\" href=https://colab.research.google.com/notebooks/data_table.ipynb>data table notebook</a>'\n",
              "            + ' to learn more about interactive tables.';\n",
              "          element.innerHTML = '';\n",
              "          dataTable['output_type'] = 'display_data';\n",
              "          await google.colab.output.renderOutput(dataTable, element);\n",
              "          const docLink = document.createElement('div');\n",
              "          docLink.innerHTML = docLinkHtml;\n",
              "          element.appendChild(docLink);\n",
              "        }\n",
              "      </script>\n",
              "    </div>\n",
              "  </div>\n",
              "  "
            ]
          },
          "metadata": {},
          "execution_count": 7
        }
      ]
    },
    {
      "cell_type": "code",
      "source": [
        "# Downsample entities with more than 100 synonyms to a 100 synoyms (but always include \"main entity_id\" in subsample)\n",
        "idx = ent_sy_group[ent_sy_group[\"synonym\"]>100].index.tolist()\n",
        "\n",
        "dfs = []\n",
        "for entity in idx:\n",
        "  t1 = ontology_syn[(ontology_syn.entity_id==entity)&(ontology_syn.synonym==entity)]\n",
        "  t2 = ontology_syn[(ontology_syn.entity_id==entity)&(ontology_syn.synonym!=entity)].sample(99)\n",
        "  dfs.append(pd.concat([t1,t2]))\n",
        "dfs.append(ontology_syn.loc[~ontology_syn[\"entity_id\"].isin(idx)]) # Append dataframe for all entities with less then 100 synonyms to list\n",
        "\n",
        "# Combine all dataframes \n",
        "ontology_syn_ds = pd.concat(dfs).reset_index(drop=True)"
      ],
      "metadata": {
        "id": "F6e0HB0gC0lW"
      },
      "execution_count": 8,
      "outputs": []
    },
    {
      "cell_type": "code",
      "source": [
        "#Show synonyms in ontology which appear in more than 1 entity\n",
        "ontology_syn_ds[ontology_syn_ds.synonym.duplicated(keep=False)].sort_values(by=\"synonym\")"
      ],
      "metadata": {
        "colab": {
          "base_uri": "https://localhost:8080/",
          "height": 424
        },
        "id": "KuHv4GANC2QP",
        "outputId": "4c272487-34a9-4eaa-e169-ad87d56dc257"
      },
      "execution_count": 9,
      "outputs": [
        {
          "output_type": "execute_result",
          "data": {
            "text/plain": [
              "                                               entity_id  \\\n",
              "22253                          Pearson's Chi square test   \n",
              "21871  Pearson's chi squared test of independence bet...   \n",
              "22248                          Pearson's Chi square test   \n",
              "21865  Pearson's chi squared test of independence bet...   \n",
              "26033                                 systems operations   \n",
              "...                                                  ...   \n",
              "3966                      procurement information system   \n",
              "29501                                            website   \n",
              "29876                                    web application   \n",
              "9832                                   Chi square metric   \n",
              "21843                                   chi squared test   \n",
              "\n",
              "                     category            label                      synonym  \n",
              "22253   methodological entity  ANALYSIS_METHOD   Chi2 test for independence  \n",
              "21871   methodological entity  ANALYSIS_METHOD   Chi2 test for independence  \n",
              "22248   methodological entity  ANALYSIS_METHOD  Chi2 test for independences  \n",
              "21865   methodological entity  ANALYSIS_METHOD  Chi2 test for independences  \n",
              "26033  domain specific entity            TOPIC                EDP operation  \n",
              "...                       ...              ...                          ...  \n",
              "3966   domain specific entity       TECHNOLOGY             web procurements  \n",
              "29501  domain specific entity       TECHNOLOGY                    web sites  \n",
              "29876  domain specific entity       TECHNOLOGY                    web sites  \n",
              "9832    methodological entity           METRIC                         χ 2S  \n",
              "21843   methodological entity  ANALYSIS_METHOD                         χ 2S  \n",
              "\n",
              "[306 rows x 4 columns]"
            ],
            "text/html": [
              "\n",
              "  <div id=\"df-4123aa71-bb98-429c-a480-66f811848654\">\n",
              "    <div class=\"colab-df-container\">\n",
              "      <div>\n",
              "<style scoped>\n",
              "    .dataframe tbody tr th:only-of-type {\n",
              "        vertical-align: middle;\n",
              "    }\n",
              "\n",
              "    .dataframe tbody tr th {\n",
              "        vertical-align: top;\n",
              "    }\n",
              "\n",
              "    .dataframe thead th {\n",
              "        text-align: right;\n",
              "    }\n",
              "</style>\n",
              "<table border=\"1\" class=\"dataframe\">\n",
              "  <thead>\n",
              "    <tr style=\"text-align: right;\">\n",
              "      <th></th>\n",
              "      <th>entity_id</th>\n",
              "      <th>category</th>\n",
              "      <th>label</th>\n",
              "      <th>synonym</th>\n",
              "    </tr>\n",
              "  </thead>\n",
              "  <tbody>\n",
              "    <tr>\n",
              "      <th>22253</th>\n",
              "      <td>Pearson's Chi square test</td>\n",
              "      <td>methodological entity</td>\n",
              "      <td>ANALYSIS_METHOD</td>\n",
              "      <td>Chi2 test for independence</td>\n",
              "    </tr>\n",
              "    <tr>\n",
              "      <th>21871</th>\n",
              "      <td>Pearson's chi squared test of independence bet...</td>\n",
              "      <td>methodological entity</td>\n",
              "      <td>ANALYSIS_METHOD</td>\n",
              "      <td>Chi2 test for independence</td>\n",
              "    </tr>\n",
              "    <tr>\n",
              "      <th>22248</th>\n",
              "      <td>Pearson's Chi square test</td>\n",
              "      <td>methodological entity</td>\n",
              "      <td>ANALYSIS_METHOD</td>\n",
              "      <td>Chi2 test for independences</td>\n",
              "    </tr>\n",
              "    <tr>\n",
              "      <th>21865</th>\n",
              "      <td>Pearson's chi squared test of independence bet...</td>\n",
              "      <td>methodological entity</td>\n",
              "      <td>ANALYSIS_METHOD</td>\n",
              "      <td>Chi2 test for independences</td>\n",
              "    </tr>\n",
              "    <tr>\n",
              "      <th>26033</th>\n",
              "      <td>systems operations</td>\n",
              "      <td>domain specific entity</td>\n",
              "      <td>TOPIC</td>\n",
              "      <td>EDP operation</td>\n",
              "    </tr>\n",
              "    <tr>\n",
              "      <th>...</th>\n",
              "      <td>...</td>\n",
              "      <td>...</td>\n",
              "      <td>...</td>\n",
              "      <td>...</td>\n",
              "    </tr>\n",
              "    <tr>\n",
              "      <th>3966</th>\n",
              "      <td>procurement information system</td>\n",
              "      <td>domain specific entity</td>\n",
              "      <td>TECHNOLOGY</td>\n",
              "      <td>web procurements</td>\n",
              "    </tr>\n",
              "    <tr>\n",
              "      <th>29501</th>\n",
              "      <td>website</td>\n",
              "      <td>domain specific entity</td>\n",
              "      <td>TECHNOLOGY</td>\n",
              "      <td>web sites</td>\n",
              "    </tr>\n",
              "    <tr>\n",
              "      <th>29876</th>\n",
              "      <td>web application</td>\n",
              "      <td>domain specific entity</td>\n",
              "      <td>TECHNOLOGY</td>\n",
              "      <td>web sites</td>\n",
              "    </tr>\n",
              "    <tr>\n",
              "      <th>9832</th>\n",
              "      <td>Chi square metric</td>\n",
              "      <td>methodological entity</td>\n",
              "      <td>METRIC</td>\n",
              "      <td>χ 2S</td>\n",
              "    </tr>\n",
              "    <tr>\n",
              "      <th>21843</th>\n",
              "      <td>chi squared test</td>\n",
              "      <td>methodological entity</td>\n",
              "      <td>ANALYSIS_METHOD</td>\n",
              "      <td>χ 2S</td>\n",
              "    </tr>\n",
              "  </tbody>\n",
              "</table>\n",
              "<p>306 rows × 4 columns</p>\n",
              "</div>\n",
              "      <button class=\"colab-df-convert\" onclick=\"convertToInteractive('df-4123aa71-bb98-429c-a480-66f811848654')\"\n",
              "              title=\"Convert this dataframe to an interactive table.\"\n",
              "              style=\"display:none;\">\n",
              "        \n",
              "  <svg xmlns=\"http://www.w3.org/2000/svg\" height=\"24px\"viewBox=\"0 0 24 24\"\n",
              "       width=\"24px\">\n",
              "    <path d=\"M0 0h24v24H0V0z\" fill=\"none\"/>\n",
              "    <path d=\"M18.56 5.44l.94 2.06.94-2.06 2.06-.94-2.06-.94-.94-2.06-.94 2.06-2.06.94zm-11 1L8.5 8.5l.94-2.06 2.06-.94-2.06-.94L8.5 2.5l-.94 2.06-2.06.94zm10 10l.94 2.06.94-2.06 2.06-.94-2.06-.94-.94-2.06-.94 2.06-2.06.94z\"/><path d=\"M17.41 7.96l-1.37-1.37c-.4-.4-.92-.59-1.43-.59-.52 0-1.04.2-1.43.59L10.3 9.45l-7.72 7.72c-.78.78-.78 2.05 0 2.83L4 21.41c.39.39.9.59 1.41.59.51 0 1.02-.2 1.41-.59l7.78-7.78 2.81-2.81c.8-.78.8-2.07 0-2.86zM5.41 20L4 18.59l7.72-7.72 1.47 1.35L5.41 20z\"/>\n",
              "  </svg>\n",
              "      </button>\n",
              "      \n",
              "  <style>\n",
              "    .colab-df-container {\n",
              "      display:flex;\n",
              "      flex-wrap:wrap;\n",
              "      gap: 12px;\n",
              "    }\n",
              "\n",
              "    .colab-df-convert {\n",
              "      background-color: #E8F0FE;\n",
              "      border: none;\n",
              "      border-radius: 50%;\n",
              "      cursor: pointer;\n",
              "      display: none;\n",
              "      fill: #1967D2;\n",
              "      height: 32px;\n",
              "      padding: 0 0 0 0;\n",
              "      width: 32px;\n",
              "    }\n",
              "\n",
              "    .colab-df-convert:hover {\n",
              "      background-color: #E2EBFA;\n",
              "      box-shadow: 0px 1px 2px rgba(60, 64, 67, 0.3), 0px 1px 3px 1px rgba(60, 64, 67, 0.15);\n",
              "      fill: #174EA6;\n",
              "    }\n",
              "\n",
              "    [theme=dark] .colab-df-convert {\n",
              "      background-color: #3B4455;\n",
              "      fill: #D2E3FC;\n",
              "    }\n",
              "\n",
              "    [theme=dark] .colab-df-convert:hover {\n",
              "      background-color: #434B5C;\n",
              "      box-shadow: 0px 1px 3px 1px rgba(0, 0, 0, 0.15);\n",
              "      filter: drop-shadow(0px 1px 2px rgba(0, 0, 0, 0.3));\n",
              "      fill: #FFFFFF;\n",
              "    }\n",
              "  </style>\n",
              "\n",
              "      <script>\n",
              "        const buttonEl =\n",
              "          document.querySelector('#df-4123aa71-bb98-429c-a480-66f811848654 button.colab-df-convert');\n",
              "        buttonEl.style.display =\n",
              "          google.colab.kernel.accessAllowed ? 'block' : 'none';\n",
              "\n",
              "        async function convertToInteractive(key) {\n",
              "          const element = document.querySelector('#df-4123aa71-bb98-429c-a480-66f811848654');\n",
              "          const dataTable =\n",
              "            await google.colab.kernel.invokeFunction('convertToInteractive',\n",
              "                                                     [key], {});\n",
              "          if (!dataTable) return;\n",
              "\n",
              "          const docLinkHtml = 'Like what you see? Visit the ' +\n",
              "            '<a target=\"_blank\" href=https://colab.research.google.com/notebooks/data_table.ipynb>data table notebook</a>'\n",
              "            + ' to learn more about interactive tables.';\n",
              "          element.innerHTML = '';\n",
              "          dataTable['output_type'] = 'display_data';\n",
              "          await google.colab.output.renderOutput(dataTable, element);\n",
              "          const docLink = document.createElement('div');\n",
              "          docLink.innerHTML = docLinkHtml;\n",
              "          element.appendChild(docLink);\n",
              "        }\n",
              "      </script>\n",
              "    </div>\n",
              "  </div>\n",
              "  "
            ]
          },
          "metadata": {},
          "execution_count": 9
        }
      ]
    },
    {
      "cell_type": "code",
      "source": [
        "#List of unique entities from ontology with synonyms with downsampling\n",
        "\n",
        "ontology_syn_ds_unique = ontology_syn_ds.drop_duplicates(subset=\"synonym\")"
      ],
      "metadata": {
        "id": "6NsFfGutDAG0"
      },
      "execution_count": 10,
      "outputs": []
    },
    {
      "cell_type": "markdown",
      "source": [
        "# Using Glove"
      ],
      "metadata": {
        "id": "xRqFghxieJEM"
      }
    },
    {
      "cell_type": "markdown",
      "source": [
        "## Create embedding for the noun phrases"
      ],
      "metadata": {
        "id": "Ob0dBjBc19_E"
      }
    },
    {
      "cell_type": "code",
      "source": [
        "from nltk.tokenize import word_tokenize\n",
        "import nltk\n",
        "nltk.download('punkt')\n",
        "\n",
        "\n",
        "def create_corpus_tk(df):\n",
        "    corpus = []\n",
        "    for text in df:\n",
        "        words = text.split()\n",
        "        corpus.append(words)\n",
        "    return corpus"
      ],
      "metadata": {
        "id": "Qptw6a5meHxp",
        "colab": {
          "base_uri": "https://localhost:8080/"
        },
        "outputId": "1f6af799-caa1-4cfd-979b-39170f7bdc4c"
      },
      "execution_count": 11,
      "outputs": [
        {
          "output_type": "stream",
          "name": "stderr",
          "text": [
            "[nltk_data] Downloading package punkt to /root/nltk_data...\n",
            "[nltk_data]   Unzipping tokenizers/punkt.zip.\n"
          ]
        }
      ]
    },
    {
      "cell_type": "code",
      "source": [
        "# Create a corpus, where each noun phrase is splited in individual words \n",
        "corpus_nounphrase = create_corpus_tk(nounphrases_188[\"noun_phrases\"])\n",
        "\n",
        "corpus_nounphrase[2]"
      ],
      "metadata": {
        "colab": {
          "base_uri": "https://localhost:8080/"
        },
        "id": "r6stHA7peV9U",
        "outputId": "4f9fcfd1-c253-4a41-b36e-322faf067bc4"
      },
      "execution_count": 12,
      "outputs": [
        {
          "output_type": "execute_result",
          "data": {
            "text/plain": [
              "['an', 'information']"
            ]
          },
          "metadata": {},
          "execution_count": 12
        }
      ]
    },
    {
      "cell_type": "code",
      "source": [
        "num_words_nounphrase = len(corpus_nounphrase)\n",
        "num_words_nounphrase"
      ],
      "metadata": {
        "colab": {
          "base_uri": "https://localhost:8080/"
        },
        "id": "GyhixVAs2GK9",
        "outputId": "e50ec0d8-06ec-4ac1-c5ea-82300086dcda"
      },
      "execution_count": 13,
      "outputs": [
        {
          "output_type": "execute_result",
          "data": {
            "text/plain": [
              "3227"
            ]
          },
          "metadata": {},
          "execution_count": 13
        }
      ]
    },
    {
      "cell_type": "code",
      "source": [
        "# Tokenizing the words\n",
        "\n",
        "from keras.preprocessing.text import Tokenizer\n",
        "\n",
        "tokenizer_nounphrase = Tokenizer(num_words=num_words_nounphrase)\n",
        "tokenizer_nounphrase.fit_on_texts(nounphrases_188[\"noun_phrases\"])\n",
        "\n",
        "nounphrase_sequences = tokenizer_nounphrase.texts_to_sequences(nounphrases_188[\"noun_phrases\"])\n",
        "nounphrase_sequences[2]"
      ],
      "metadata": {
        "colab": {
          "base_uri": "https://localhost:8080/"
        },
        "id": "0WuTw8ym2hKH",
        "outputId": "0f00f83a-c6c5-4131-d90a-c7dc56f04a47"
      },
      "execution_count": 14,
      "outputs": [
        {
          "output_type": "execute_result",
          "data": {
            "text/plain": [
              "[21, 3]"
            ]
          },
          "metadata": {},
          "execution_count": 14
        }
      ]
    },
    {
      "cell_type": "code",
      "source": [
        "len(nounphrase_sequences)"
      ],
      "metadata": {
        "colab": {
          "base_uri": "https://localhost:8080/"
        },
        "id": "36mh49vjR6Pg",
        "outputId": "d6d10372-94e2-4afe-db22-3aefa107f49c"
      },
      "execution_count": 15,
      "outputs": [
        {
          "output_type": "execute_result",
          "data": {
            "text/plain": [
              "3227"
            ]
          },
          "metadata": {},
          "execution_count": 15
        }
      ]
    },
    {
      "cell_type": "code",
      "source": [
        "len(nounphrases_188[\"noun_phrases\"])"
      ],
      "metadata": {
        "colab": {
          "base_uri": "https://localhost:8080/"
        },
        "id": "TneS7UD3R-_t",
        "outputId": "eb65d9f4-071b-442e-cfcb-be6a0fef8b2c"
      },
      "execution_count": 16,
      "outputs": [
        {
          "output_type": "execute_result",
          "data": {
            "text/plain": [
              "3227"
            ]
          },
          "metadata": {},
          "execution_count": 16
        }
      ]
    },
    {
      "cell_type": "code",
      "source": [
        "print(nounphrases_188[\"noun_phrases\"][0])\n",
        "print(nounphrase_sequences[0])"
      ],
      "metadata": {
        "colab": {
          "base_uri": "https://localhost:8080/"
        },
        "id": "Aoz-o-fR4RNF",
        "outputId": "1f67a780-f8a8-4b90-a800-f91f2e823400"
      },
      "execution_count": 17,
      "outputs": [
        {
          "output_type": "stream",
          "name": "stdout",
          "text": [
            "which\n",
            "[26]\n"
          ]
        }
      ]
    },
    {
      "cell_type": "code",
      "source": [
        "word_index_nounphrase = tokenizer_nounphrase.word_index\n",
        "print(\"Number of unique words:\", len(word_index_nounphrase))"
      ],
      "metadata": {
        "colab": {
          "base_uri": "https://localhost:8080/"
        },
        "id": "DA5-NvSE6Iqx",
        "outputId": "08b37fc8-8d23-4cd2-83ba-6e86882bd769"
      },
      "execution_count": 18,
      "outputs": [
        {
          "output_type": "stream",
          "name": "stdout",
          "text": [
            "Number of unique words: 822\n"
          ]
        }
      ]
    },
    {
      "cell_type": "code",
      "source": [
        "# Create a dictionary of word embedding from Glove (6B tokens, 100D word vector)\n",
        "\n",
        "embedding_dict = {}\n",
        "model = \"/content/drive/MyDrive/2022_Analytics Lab Student Projects/Data/Topic 1/Data_Team1/glove.6B.100d.txt\"\n",
        "\n",
        "with open(model, \"r\") as f:\n",
        "    for line in f:\n",
        "        values = line.split()\n",
        "        word = values[0]\n",
        "        vectors = np.asarray(values[1:], \"float32\")\n",
        "        embedding_dict[word] = vectors\n",
        "f.close()"
      ],
      "metadata": {
        "id": "jhgg2tnda1yM"
      },
      "execution_count": 19,
      "outputs": []
    },
    {
      "cell_type": "code",
      "source": [
        "# To assign the pre-trained Glove embedding to our word index (individual word)\n",
        "\n",
        "def embedding_word(word_index):\n",
        "  num_words = len(word_index) + 1\n",
        "  embedding = np.zeros((num_words, 100))\n",
        "  for word, i in word_index.items():\n",
        "    if i < num_words:\n",
        "        emb_vec = embedding_dict.get(word)\n",
        "        if emb_vec is not None:\n",
        "            embedding[i] = emb_vec\n",
        "  return embedding"
      ],
      "metadata": {
        "id": "CiEC4Qy6bLiD"
      },
      "execution_count": 20,
      "outputs": []
    },
    {
      "cell_type": "code",
      "source": [
        "embedding_nounphrase_word = embedding_word(word_index_nounphrase)"
      ],
      "metadata": {
        "id": "jQOTLK4-WXms"
      },
      "execution_count": 21,
      "outputs": []
    },
    {
      "cell_type": "code",
      "source": [
        "word_index_nounphrase[\"information\"]"
      ],
      "metadata": {
        "colab": {
          "base_uri": "https://localhost:8080/"
        },
        "id": "uk41SDJ8XK-d",
        "outputId": "7fd56d78-8c68-4860-d344-8add3796b035"
      },
      "execution_count": 22,
      "outputs": [
        {
          "output_type": "execute_result",
          "data": {
            "text/plain": [
              "3"
            ]
          },
          "metadata": {},
          "execution_count": 22
        }
      ]
    },
    {
      "cell_type": "code",
      "source": [
        "(embedding_nounphrase_word[3] == embedding_dict.get(\"information\")).all()"
      ],
      "metadata": {
        "colab": {
          "base_uri": "https://localhost:8080/"
        },
        "id": "XdgRcOUdXP95",
        "outputId": "1ac06c85-3894-41e3-e1f2-b24921c717b2"
      },
      "execution_count": 23,
      "outputs": [
        {
          "output_type": "execute_result",
          "data": {
            "text/plain": [
              "True"
            ]
          },
          "metadata": {},
          "execution_count": 23
        }
      ]
    },
    {
      "cell_type": "code",
      "source": [
        "# To create embedding for the nounphrases, where we get the average of the embeddings of all the individual words in that nounphrase \n",
        "\n",
        "def embedding(sequences, embedding_word):\n",
        "  emb_list = []\n",
        "  for v in sequences:\n",
        "    v_list = []\n",
        "    for index in v:\n",
        "      v_list.append(embedding_word[index])\n",
        "    emb_list.append(np.mean(v_list, axis=0))\n",
        "  return emb_list"
      ],
      "metadata": {
        "id": "qaS3u_9JiqcQ"
      },
      "execution_count": 24,
      "outputs": []
    },
    {
      "cell_type": "code",
      "source": [
        "embedding_nounphrase = embedding(nounphrase_sequences, embedding_nounphrase_word)\n",
        "len(embedding_nounphrase)"
      ],
      "metadata": {
        "id": "MSgWxX63s5nz",
        "colab": {
          "base_uri": "https://localhost:8080/"
        },
        "outputId": "fd384789-3445-4bd8-c42f-06c29a51eb70"
      },
      "execution_count": 25,
      "outputs": [
        {
          "output_type": "stream",
          "name": "stderr",
          "text": [
            "/usr/local/lib/python3.7/dist-packages/numpy/core/fromnumeric.py:3441: RuntimeWarning: Mean of empty slice.\n",
            "  out=out, **kwargs)\n",
            "/usr/local/lib/python3.7/dist-packages/numpy/core/_methods.py:189: RuntimeWarning: invalid value encountered in double_scalars\n",
            "  ret = ret.dtype.type(ret / rcount)\n"
          ]
        },
        {
          "output_type": "execute_result",
          "data": {
            "text/plain": [
              "3227"
            ]
          },
          "metadata": {},
          "execution_count": 25
        }
      ]
    },
    {
      "cell_type": "code",
      "source": [
        "len(nounphrase_sequences)"
      ],
      "metadata": {
        "id": "k-e4L5oPjcHT",
        "colab": {
          "base_uri": "https://localhost:8080/"
        },
        "outputId": "fed6b4ee-c1ea-4e7f-c2a0-61e90b233f5b"
      },
      "execution_count": 26,
      "outputs": [
        {
          "output_type": "execute_result",
          "data": {
            "text/plain": [
              "3227"
            ]
          },
          "metadata": {},
          "execution_count": 26
        }
      ]
    },
    {
      "cell_type": "markdown",
      "source": [
        "## Creating embedding for the entities"
      ],
      "metadata": {
        "id": "T57xeJRlTneY"
      }
    },
    {
      "cell_type": "code",
      "source": [
        "corpus_entity = create_corpus_tk(ontology_syn_ds_unique[\"synonym\"])\n",
        "\n",
        "corpus_entity[0]"
      ],
      "metadata": {
        "id": "ha8dgjuWTmps",
        "colab": {
          "base_uri": "https://localhost:8080/"
        },
        "outputId": "1014e201-f5d3-40b3-a443-258f6d7ed145"
      },
      "execution_count": 27,
      "outputs": [
        {
          "output_type": "execute_result",
          "data": {
            "text/plain": [
              "['individual', 'participant']"
            ]
          },
          "metadata": {},
          "execution_count": 27
        }
      ]
    },
    {
      "cell_type": "code",
      "source": [
        "num_words_entity = len(corpus_entity)\n",
        "num_words_entity"
      ],
      "metadata": {
        "colab": {
          "base_uri": "https://localhost:8080/"
        },
        "id": "tl5zzw2KblvR",
        "outputId": "a9270ca9-784f-4e80-8b8a-af9798b58aaa"
      },
      "execution_count": 28,
      "outputs": [
        {
          "output_type": "execute_result",
          "data": {
            "text/plain": [
              "32373"
            ]
          },
          "metadata": {},
          "execution_count": 28
        }
      ]
    },
    {
      "cell_type": "code",
      "source": [
        "tokenizer_entity = Tokenizer(num_words=num_words_entity)\n",
        "tokenizer_entity.fit_on_texts(ontology_syn_ds_unique[\"synonym\"])\n",
        "\n",
        "entity_sequences = tokenizer_entity.texts_to_sequences(ontology_syn_ds_unique[\"synonym\"])"
      ],
      "metadata": {
        "id": "hhDK6RDcbtRN"
      },
      "execution_count": 29,
      "outputs": []
    },
    {
      "cell_type": "code",
      "source": [
        "word_index_entity = tokenizer_entity.word_index\n",
        "print(\"Number of unique words:\", len(word_index_entity))"
      ],
      "metadata": {
        "colab": {
          "base_uri": "https://localhost:8080/"
        },
        "id": "P2Mnh78ib-w0",
        "outputId": "b809bfa4-dfbe-4d64-9279-066daf809872"
      },
      "execution_count": 30,
      "outputs": [
        {
          "output_type": "stream",
          "name": "stdout",
          "text": [
            "Number of unique words: 5463\n"
          ]
        }
      ]
    },
    {
      "cell_type": "code",
      "source": [
        "embedding_entity_word = embedding_word(word_index_entity)"
      ],
      "metadata": {
        "id": "VRBtFaPbcVF3"
      },
      "execution_count": 31,
      "outputs": []
    },
    {
      "cell_type": "code",
      "source": [
        "embedding_entity = embedding(entity_sequences, embedding_entity_word)"
      ],
      "metadata": {
        "id": "B0vsTab-ckye"
      },
      "execution_count": 32,
      "outputs": []
    },
    {
      "cell_type": "code",
      "source": [
        ""
      ],
      "metadata": {
        "id": "LYhiIgZW9fFE"
      },
      "execution_count": 32,
      "outputs": []
    },
    {
      "cell_type": "markdown",
      "source": [
        "# Compute the cosine similarity"
      ],
      "metadata": {
        "id": "glqBcwNPeJpa"
      }
    },
    {
      "cell_type": "code",
      "source": [
        "from numpy.linalg import norm"
      ],
      "metadata": {
        "id": "6m-xyc08Vmk-"
      },
      "execution_count": 33,
      "outputs": []
    },
    {
      "cell_type": "code",
      "source": [
        "\n",
        "def cosine_similarity(embedding_nounphrase, embedding_entity): \n",
        "  df = pd.DataFrame(columns=['cosine', 'nounphrase_id', 'entity_id'])\n",
        "  for i1, np in enumerate(embedding_nounphrase): \n",
        "    df2 = pd.DataFrame(columns=['cosine', 'nounphrase_id', 'entity_id'])\n",
        "    for i2, e in enumerate(embedding_entity): \n",
        "      cosine = np.dot(np,e)/(norm(np)*norm(e))\n",
        "      a = pd.Series([cosine, i1, i2], index=df2.columns)\n",
        "      df2 = df2.append(a, ignore_index=True)\n",
        "    df2 = df2.sort_values(by=['cosine'], ascending=False)\n",
        "    max = df2[1]\n",
        "    df.append(max, ignore_index=True)\n",
        "  return df"
      ],
      "metadata": {
        "id": "dd3WqSFneOOj"
      },
      "execution_count": 34,
      "outputs": []
    },
    {
      "cell_type": "code",
      "source": [
        "test_np = embedding_nounphrase[:1]\n",
        "test_entity = embedding_entity[:10]\n",
        "len(test_np)"
      ],
      "metadata": {
        "colab": {
          "base_uri": "https://localhost:8080/"
        },
        "id": "Vt7QDat_D8i3",
        "outputId": "7252ab82-55bd-4228-8557-6f2b84af5e75"
      },
      "execution_count": 35,
      "outputs": [
        {
          "output_type": "execute_result",
          "data": {
            "text/plain": [
              "1"
            ]
          },
          "metadata": {},
          "execution_count": 35
        }
      ]
    },
    {
      "cell_type": "code",
      "source": [
        "cosine = np.dot(embedding_nounphrase[40], embedding_entity[3])/(norm(embedding_nounphrase[40])*norm(embedding_entity[3]))\n",
        "cosine"
      ],
      "metadata": {
        "colab": {
          "base_uri": "https://localhost:8080/"
        },
        "id": "2ehPyKyX6G8p",
        "outputId": "3d4ec1db-175d-4a02-a3c4-bb5bedf9dbe4"
      },
      "execution_count": 37,
      "outputs": [
        {
          "output_type": "execute_result",
          "data": {
            "text/plain": [
              "0.7044787226025018"
            ]
          },
          "metadata": {},
          "execution_count": 37
        }
      ]
    },
    {
      "cell_type": "code",
      "source": [
        "from sklearn.metrics.pairwise import cosine_similarity\n",
        "\n",
        "df2 = pd.DataFrame(columns=['cosine', 'nounphrase_id', 'entity_id'])\n",
        "cosine = np.dot(embedding_nounphrase[40],embedding_entity[3])/(norm(embedding_nounphrase[40])*norm(embedding_entity[3]))\n",
        "#cosine = cosine_similarity(embedding_nounphrase[40], embedding_entity[3])\n",
        "\n",
        "a = pd.Series([cosine, 40, 3], index=df2.columns)\n",
        "df2 = df2.append(a, ignore_index=True)\n",
        "df2"
      ],
      "metadata": {
        "colab": {
          "base_uri": "https://localhost:8080/",
          "height": 81
        },
        "id": "FeGZ9CD2Lyau",
        "outputId": "12f3e17d-ed0f-443c-e442-4597169a973b"
      },
      "execution_count": 36,
      "outputs": [
        {
          "output_type": "execute_result",
          "data": {
            "text/plain": [
              "     cosine  nounphrase_id  entity_id\n",
              "0  0.704479           40.0        3.0"
            ],
            "text/html": [
              "\n",
              "  <div id=\"df-a3fcf72e-6304-405e-a8de-8939888c4fa7\">\n",
              "    <div class=\"colab-df-container\">\n",
              "      <div>\n",
              "<style scoped>\n",
              "    .dataframe tbody tr th:only-of-type {\n",
              "        vertical-align: middle;\n",
              "    }\n",
              "\n",
              "    .dataframe tbody tr th {\n",
              "        vertical-align: top;\n",
              "    }\n",
              "\n",
              "    .dataframe thead th {\n",
              "        text-align: right;\n",
              "    }\n",
              "</style>\n",
              "<table border=\"1\" class=\"dataframe\">\n",
              "  <thead>\n",
              "    <tr style=\"text-align: right;\">\n",
              "      <th></th>\n",
              "      <th>cosine</th>\n",
              "      <th>nounphrase_id</th>\n",
              "      <th>entity_id</th>\n",
              "    </tr>\n",
              "  </thead>\n",
              "  <tbody>\n",
              "    <tr>\n",
              "      <th>0</th>\n",
              "      <td>0.704479</td>\n",
              "      <td>40.0</td>\n",
              "      <td>3.0</td>\n",
              "    </tr>\n",
              "  </tbody>\n",
              "</table>\n",
              "</div>\n",
              "      <button class=\"colab-df-convert\" onclick=\"convertToInteractive('df-a3fcf72e-6304-405e-a8de-8939888c4fa7')\"\n",
              "              title=\"Convert this dataframe to an interactive table.\"\n",
              "              style=\"display:none;\">\n",
              "        \n",
              "  <svg xmlns=\"http://www.w3.org/2000/svg\" height=\"24px\"viewBox=\"0 0 24 24\"\n",
              "       width=\"24px\">\n",
              "    <path d=\"M0 0h24v24H0V0z\" fill=\"none\"/>\n",
              "    <path d=\"M18.56 5.44l.94 2.06.94-2.06 2.06-.94-2.06-.94-.94-2.06-.94 2.06-2.06.94zm-11 1L8.5 8.5l.94-2.06 2.06-.94-2.06-.94L8.5 2.5l-.94 2.06-2.06.94zm10 10l.94 2.06.94-2.06 2.06-.94-2.06-.94-.94-2.06-.94 2.06-2.06.94z\"/><path d=\"M17.41 7.96l-1.37-1.37c-.4-.4-.92-.59-1.43-.59-.52 0-1.04.2-1.43.59L10.3 9.45l-7.72 7.72c-.78.78-.78 2.05 0 2.83L4 21.41c.39.39.9.59 1.41.59.51 0 1.02-.2 1.41-.59l7.78-7.78 2.81-2.81c.8-.78.8-2.07 0-2.86zM5.41 20L4 18.59l7.72-7.72 1.47 1.35L5.41 20z\"/>\n",
              "  </svg>\n",
              "      </button>\n",
              "      \n",
              "  <style>\n",
              "    .colab-df-container {\n",
              "      display:flex;\n",
              "      flex-wrap:wrap;\n",
              "      gap: 12px;\n",
              "    }\n",
              "\n",
              "    .colab-df-convert {\n",
              "      background-color: #E8F0FE;\n",
              "      border: none;\n",
              "      border-radius: 50%;\n",
              "      cursor: pointer;\n",
              "      display: none;\n",
              "      fill: #1967D2;\n",
              "      height: 32px;\n",
              "      padding: 0 0 0 0;\n",
              "      width: 32px;\n",
              "    }\n",
              "\n",
              "    .colab-df-convert:hover {\n",
              "      background-color: #E2EBFA;\n",
              "      box-shadow: 0px 1px 2px rgba(60, 64, 67, 0.3), 0px 1px 3px 1px rgba(60, 64, 67, 0.15);\n",
              "      fill: #174EA6;\n",
              "    }\n",
              "\n",
              "    [theme=dark] .colab-df-convert {\n",
              "      background-color: #3B4455;\n",
              "      fill: #D2E3FC;\n",
              "    }\n",
              "\n",
              "    [theme=dark] .colab-df-convert:hover {\n",
              "      background-color: #434B5C;\n",
              "      box-shadow: 0px 1px 3px 1px rgba(0, 0, 0, 0.15);\n",
              "      filter: drop-shadow(0px 1px 2px rgba(0, 0, 0, 0.3));\n",
              "      fill: #FFFFFF;\n",
              "    }\n",
              "  </style>\n",
              "\n",
              "      <script>\n",
              "        const buttonEl =\n",
              "          document.querySelector('#df-a3fcf72e-6304-405e-a8de-8939888c4fa7 button.colab-df-convert');\n",
              "        buttonEl.style.display =\n",
              "          google.colab.kernel.accessAllowed ? 'block' : 'none';\n",
              "\n",
              "        async function convertToInteractive(key) {\n",
              "          const element = document.querySelector('#df-a3fcf72e-6304-405e-a8de-8939888c4fa7');\n",
              "          const dataTable =\n",
              "            await google.colab.kernel.invokeFunction('convertToInteractive',\n",
              "                                                     [key], {});\n",
              "          if (!dataTable) return;\n",
              "\n",
              "          const docLinkHtml = 'Like what you see? Visit the ' +\n",
              "            '<a target=\"_blank\" href=https://colab.research.google.com/notebooks/data_table.ipynb>data table notebook</a>'\n",
              "            + ' to learn more about interactive tables.';\n",
              "          element.innerHTML = '';\n",
              "          dataTable['output_type'] = 'display_data';\n",
              "          await google.colab.output.renderOutput(dataTable, element);\n",
              "          const docLink = document.createElement('div');\n",
              "          docLink.innerHTML = docLinkHtml;\n",
              "          element.appendChild(docLink);\n",
              "        }\n",
              "      </script>\n",
              "    </div>\n",
              "  </div>\n",
              "  "
            ]
          },
          "metadata": {},
          "execution_count": 36
        }
      ]
    },
    {
      "cell_type": "code",
      "source": [
        "for i1, np in enumerate(test_np): \n",
        "    df2 = pd.DataFrame(columns=['cosine', 'nounphrase_id', 'entity_id'])\n",
        "    for i2, e in enumerate(test_entity): \n",
        "      cosine = np.dot(np,e)/(norm(np)*norm(e))\n",
        "      a = pd.Series([cosine, i1, i2], index=df2.columns)\n",
        "      df2 = df2.append(a, ignore_index=True)\n",
        "    df2 = df2.sort_values(by=['cosine'], ascending=False)\n",
        "    max = df2[1]\n",
        "    print(max)"
      ],
      "metadata": {
        "colab": {
          "base_uri": "https://localhost:8080/",
          "height": 235
        },
        "id": "ePAjiltvlLuA",
        "outputId": "5b8f0b06-4fdd-486f-d5ec-f730291c4e94"
      },
      "execution_count": 38,
      "outputs": [
        {
          "output_type": "error",
          "ename": "ValueError",
          "evalue": "ignored",
          "traceback": [
            "\u001b[0;31m---------------------------------------------------------------------------\u001b[0m",
            "\u001b[0;31mValueError\u001b[0m                                Traceback (most recent call last)",
            "\u001b[0;32m<ipython-input-38-2cabfeaf13f1>\u001b[0m in \u001b[0;36m<module>\u001b[0;34m()\u001b[0m\n\u001b[1;32m      2\u001b[0m     \u001b[0mdf2\u001b[0m \u001b[0;34m=\u001b[0m \u001b[0mpd\u001b[0m\u001b[0;34m.\u001b[0m\u001b[0mDataFrame\u001b[0m\u001b[0;34m(\u001b[0m\u001b[0mcolumns\u001b[0m\u001b[0;34m=\u001b[0m\u001b[0;34m[\u001b[0m\u001b[0;34m'cosine'\u001b[0m\u001b[0;34m,\u001b[0m \u001b[0;34m'nounphrase_id'\u001b[0m\u001b[0;34m,\u001b[0m \u001b[0;34m'entity_id'\u001b[0m\u001b[0;34m]\u001b[0m\u001b[0;34m)\u001b[0m\u001b[0;34m\u001b[0m\u001b[0;34m\u001b[0m\u001b[0m\n\u001b[1;32m      3\u001b[0m     \u001b[0;32mfor\u001b[0m \u001b[0mi2\u001b[0m\u001b[0;34m,\u001b[0m \u001b[0me\u001b[0m \u001b[0;32min\u001b[0m \u001b[0menumerate\u001b[0m\u001b[0;34m(\u001b[0m\u001b[0mtest_entity\u001b[0m\u001b[0;34m)\u001b[0m\u001b[0;34m:\u001b[0m\u001b[0;34m\u001b[0m\u001b[0;34m\u001b[0m\u001b[0m\n\u001b[0;32m----> 4\u001b[0;31m       \u001b[0mcosine\u001b[0m \u001b[0;34m=\u001b[0m \u001b[0mnp\u001b[0m\u001b[0;34m.\u001b[0m\u001b[0mdot\u001b[0m\u001b[0;34m(\u001b[0m\u001b[0mnp\u001b[0m\u001b[0;34m,\u001b[0m\u001b[0me\u001b[0m\u001b[0;34m)\u001b[0m\u001b[0;34m/\u001b[0m\u001b[0;34m(\u001b[0m\u001b[0mnorm\u001b[0m\u001b[0;34m(\u001b[0m\u001b[0mnp\u001b[0m\u001b[0;34m)\u001b[0m\u001b[0;34m*\u001b[0m\u001b[0mnorm\u001b[0m\u001b[0;34m(\u001b[0m\u001b[0me\u001b[0m\u001b[0;34m)\u001b[0m\u001b[0;34m)\u001b[0m\u001b[0;34m\u001b[0m\u001b[0;34m\u001b[0m\u001b[0m\n\u001b[0m\u001b[1;32m      5\u001b[0m       \u001b[0ma\u001b[0m \u001b[0;34m=\u001b[0m \u001b[0mpd\u001b[0m\u001b[0;34m.\u001b[0m\u001b[0mSeries\u001b[0m\u001b[0;34m(\u001b[0m\u001b[0;34m[\u001b[0m\u001b[0mcosine\u001b[0m\u001b[0;34m,\u001b[0m \u001b[0mi1\u001b[0m\u001b[0;34m,\u001b[0m \u001b[0mi2\u001b[0m\u001b[0;34m]\u001b[0m\u001b[0;34m,\u001b[0m \u001b[0mindex\u001b[0m\u001b[0;34m=\u001b[0m\u001b[0mdf2\u001b[0m\u001b[0;34m.\u001b[0m\u001b[0mcolumns\u001b[0m\u001b[0;34m)\u001b[0m\u001b[0;34m\u001b[0m\u001b[0;34m\u001b[0m\u001b[0m\n\u001b[1;32m      6\u001b[0m       \u001b[0mdf2\u001b[0m \u001b[0;34m=\u001b[0m \u001b[0mdf2\u001b[0m\u001b[0;34m.\u001b[0m\u001b[0mappend\u001b[0m\u001b[0;34m(\u001b[0m\u001b[0ma\u001b[0m\u001b[0;34m,\u001b[0m \u001b[0mignore_index\u001b[0m\u001b[0;34m=\u001b[0m\u001b[0;32mTrue\u001b[0m\u001b[0;34m)\u001b[0m\u001b[0;34m\u001b[0m\u001b[0;34m\u001b[0m\u001b[0m\n",
            "\u001b[0;31mValueError\u001b[0m: output array is not acceptable (must have the right datatype, number of dimensions, and be a C-Array)"
          ]
        }
      ]
    },
    {
      "cell_type": "code",
      "source": [
        "test_cosine = cosine_similarity(test_np, test_entity)\n",
        "test_cosine"
      ],
      "metadata": {
        "colab": {
          "base_uri": "https://localhost:8080/",
          "height": 182
        },
        "id": "6mqvpt334Eu6",
        "outputId": "19f55deb-902a-43d6-af0e-0d45c2f9136e"
      },
      "execution_count": null,
      "outputs": [
        {
          "output_type": "error",
          "ename": "NameError",
          "evalue": "ignored",
          "traceback": [
            "\u001b[0;31m---------------------------------------------------------------------------\u001b[0m",
            "\u001b[0;31mNameError\u001b[0m                                 Traceback (most recent call last)",
            "\u001b[0;32m<ipython-input-48-5972ccd6fa4e>\u001b[0m in \u001b[0;36m<module>\u001b[0;34m()\u001b[0m\n\u001b[0;32m----> 1\u001b[0;31m \u001b[0mtest_cosine\u001b[0m \u001b[0;34m=\u001b[0m \u001b[0mcosine_similarity\u001b[0m\u001b[0;34m(\u001b[0m\u001b[0mtest_np\u001b[0m\u001b[0;34m,\u001b[0m \u001b[0mtest_entity\u001b[0m\u001b[0;34m)\u001b[0m\u001b[0;34m\u001b[0m\u001b[0;34m\u001b[0m\u001b[0m\n\u001b[0m\u001b[1;32m      2\u001b[0m \u001b[0mtest_cosine\u001b[0m\u001b[0;34m\u001b[0m\u001b[0;34m\u001b[0m\u001b[0m\n",
            "\u001b[0;31mNameError\u001b[0m: name 'cosine_similarity' is not defined"
          ]
        }
      ]
    },
    {
      "cell_type": "code",
      "source": [
        "nounphrases_188[\"noun_phrases\"][40]"
      ],
      "metadata": {
        "colab": {
          "base_uri": "https://localhost:8080/",
          "height": 36
        },
        "id": "IH9CAUoYMrx2",
        "outputId": "72f654b1-7d88-4bf8-d969-45d440de4305"
      },
      "execution_count": null,
      "outputs": [
        {
          "output_type": "execute_result",
          "data": {
            "text/plain": [
              "'a market-led strategy'"
            ],
            "application/vnd.google.colaboratory.intrinsic+json": {
              "type": "string"
            }
          },
          "metadata": {},
          "execution_count": 47
        }
      ]
    },
    {
      "cell_type": "code",
      "source": [
        "corpus_entity[3]"
      ],
      "metadata": {
        "colab": {
          "base_uri": "https://localhost:8080/"
        },
        "id": "z0eELe4fM0Il",
        "outputId": "d51f36fb-ba88-4d41-d229-5582deddbbb4"
      },
      "execution_count": null,
      "outputs": [
        {
          "output_type": "execute_result",
          "data": {
            "text/plain": [
              "['research', 'and', 'executive', 'multicultural', 'professional']"
            ]
          },
          "metadata": {},
          "execution_count": 46
        }
      ]
    },
    {
      "cell_type": "markdown",
      "source": [
        "# Test"
      ],
      "metadata": {
        "id": "Lvc9tN4eT2Sc"
      }
    },
    {
      "cell_type": "code",
      "source": [
        ""
      ],
      "metadata": {
        "id": "UilDo3aCTeGI"
      },
      "execution_count": null,
      "outputs": []
    },
    {
      "cell_type": "code",
      "source": [
        "# Test \n",
        "!pip install -U sentence-transformers\n",
        "\n",
        "from sentence_transformers import SentenceTransformer, util\n",
        "\n",
        "model = SentenceTransformer('sentence-transformers/all-MiniLM-L6-v2')"
      ],
      "metadata": {
        "id": "LoioAPsRDImf"
      },
      "execution_count": null,
      "outputs": []
    },
    {
      "cell_type": "code",
      "source": [
        "embeddings_sentences = model.encode(nounphrases_188.noun_phrases.to_list(), convert_to_tensor=True, show_progress_bar=True)\n",
        "\n",
        "embeddings_sentences.shape"
      ],
      "metadata": {
        "id": "nlgKqt6OUV3E"
      },
      "execution_count": null,
      "outputs": []
    },
    {
      "cell_type": "code",
      "source": [
        "embeddings_sentences.shape"
      ],
      "metadata": {
        "colab": {
          "base_uri": "https://localhost:8080/"
        },
        "id": "_wIFkLVUUm3G",
        "outputId": "9fe31324-e374-4183-d5a4-4d8c46d25840"
      },
      "execution_count": null,
      "outputs": [
        {
          "output_type": "execute_result",
          "data": {
            "text/plain": [
              "torch.Size([3206, 384])"
            ]
          },
          "metadata": {},
          "execution_count": 22
        }
      ]
    }
  ]
}