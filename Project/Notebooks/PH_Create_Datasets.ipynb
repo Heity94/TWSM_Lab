{
  "cells": [
    {
      "cell_type": "code",
      "execution_count": 2,
      "metadata": {
        "id": "ZLCnX2r2075S"
      },
      "outputs": [],
      "source": [
        "# Declare whether you are on Colab or local\n",
        "colab = True"
      ]
    },
    {
      "cell_type": "code",
      "execution_count": 3,
      "metadata": {
        "id": "gnOLlVER1KDP",
        "outputId": "3bb1519a-9e62-4f22-dabd-614b34081626",
        "colab": {
          "base_uri": "https://localhost:8080/"
        }
      },
      "outputs": [
        {
          "output_type": "stream",
          "name": "stdout",
          "text": [
            "Drive already mounted at /content/drive; to attempt to forcibly remount, call drive.mount(\"/content/drive\", force_remount=True).\n"
          ]
        }
      ],
      "source": [
        "if colab==True:\n",
        "  \n",
        "  #Mount drive\n",
        "  from google.colab import drive\n",
        "  drive.mount('/content/drive')\n",
        "\n",
        "  #set path to data in Google Drive\n",
        "  data_path = \"/content/drive/MyDrive/2022_Analytics Lab Student Projects/Data/All Topics\"\n",
        "  data_path_group = data_path[:-10]+\"Topic 1/Data_Team1/\" # create new data path to access files created by Team1\n",
        "\n",
        "  #install required packages\n",
        "  #!pip install duckdb\n",
        "  #!pip install -U sentence-transformers\n",
        "\n",
        "\n",
        "else:\n",
        "    data_path_group = \"../data/\""
      ]
    },
    {
      "cell_type": "code",
      "execution_count": 1,
      "metadata": {
        "id": "bwv57XAzz4IH"
      },
      "outputs": [],
      "source": [
        "#Imports\n",
        "import pandas as pd\n",
        "import numpy as np\n",
        "import matplotlib.pyplot as plt"
      ]
    },
    {
      "cell_type": "markdown",
      "metadata": {
        "id": "TwsxrkY0V7P5"
      },
      "source": [
        "# Task 1: New entity recognition"
      ]
    },
    {
      "cell_type": "markdown",
      "metadata": {
        "id": "3RLREEe0Bcfp"
      },
      "source": [
        "## Load data"
      ]
    },
    {
      "cell_type": "markdown",
      "metadata": {
        "id": "RCmSzNDwPZXB"
      },
      "source": [
        "#### Noun phrases"
      ]
    },
    {
      "cell_type": "code",
      "execution_count": 4,
      "metadata": {
        "id": "5jUm9T4WWhWL"
      },
      "outputs": [],
      "source": [
        "NER_entities_train_df = pd.read_csv(data_path_group+\"NER/NER_entities_train.csv\", index_col=0)\n",
        "NER_entities_val_df = pd.read_csv(data_path_group+\"NER/NER_entities_val.csv\", index_col=0)\n",
        "NER_entities_test_df = pd.read_csv(data_path_group+\"NER/NER_entities_test.csv\", index_col=0)"
      ]
    },
    {
      "cell_type": "code",
      "execution_count": 5,
      "metadata": {
        "colab": {
          "base_uri": "https://localhost:8080/",
          "height": 206
        },
        "id": "4N1D9vq_Wj1k",
        "outputId": "b4f4c6df-bae7-451f-df30-91ae02973b46"
      },
      "outputs": [
        {
          "output_type": "execute_result",
          "data": {
            "text/plain": [
              "          article_id   sentence_id                ent_id  \\\n",
              "13172372        4994  4994_204_223  programming language   \n",
              "13172373        4994  4994_204_223  programming language   \n",
              "13172374        4994  4994_204_223  programming language   \n",
              "13172375        4994  4994_204_223  programming language   \n",
              "13172376        4994  4994_204_223  programming language   \n",
              "\n",
              "                   noun_phrases           true_ent_id  \n",
              "13172372             management                     0  \n",
              "13172373              databases                     0  \n",
              "13172374  programming languages  programming language  \n",
              "13172375          globalization                     0  \n",
              "13172376            IS.ABSTRACT                     0  "
            ],
            "text/html": [
              "\n",
              "  <div id=\"df-345f6c8e-b944-43ba-99d7-09d5d94fe3b7\">\n",
              "    <div class=\"colab-df-container\">\n",
              "      <div>\n",
              "<style scoped>\n",
              "    .dataframe tbody tr th:only-of-type {\n",
              "        vertical-align: middle;\n",
              "    }\n",
              "\n",
              "    .dataframe tbody tr th {\n",
              "        vertical-align: top;\n",
              "    }\n",
              "\n",
              "    .dataframe thead th {\n",
              "        text-align: right;\n",
              "    }\n",
              "</style>\n",
              "<table border=\"1\" class=\"dataframe\">\n",
              "  <thead>\n",
              "    <tr style=\"text-align: right;\">\n",
              "      <th></th>\n",
              "      <th>article_id</th>\n",
              "      <th>sentence_id</th>\n",
              "      <th>ent_id</th>\n",
              "      <th>noun_phrases</th>\n",
              "      <th>true_ent_id</th>\n",
              "    </tr>\n",
              "  </thead>\n",
              "  <tbody>\n",
              "    <tr>\n",
              "      <th>13172372</th>\n",
              "      <td>4994</td>\n",
              "      <td>4994_204_223</td>\n",
              "      <td>programming language</td>\n",
              "      <td>management</td>\n",
              "      <td>0</td>\n",
              "    </tr>\n",
              "    <tr>\n",
              "      <th>13172373</th>\n",
              "      <td>4994</td>\n",
              "      <td>4994_204_223</td>\n",
              "      <td>programming language</td>\n",
              "      <td>databases</td>\n",
              "      <td>0</td>\n",
              "    </tr>\n",
              "    <tr>\n",
              "      <th>13172374</th>\n",
              "      <td>4994</td>\n",
              "      <td>4994_204_223</td>\n",
              "      <td>programming language</td>\n",
              "      <td>programming languages</td>\n",
              "      <td>programming language</td>\n",
              "    </tr>\n",
              "    <tr>\n",
              "      <th>13172375</th>\n",
              "      <td>4994</td>\n",
              "      <td>4994_204_223</td>\n",
              "      <td>programming language</td>\n",
              "      <td>globalization</td>\n",
              "      <td>0</td>\n",
              "    </tr>\n",
              "    <tr>\n",
              "      <th>13172376</th>\n",
              "      <td>4994</td>\n",
              "      <td>4994_204_223</td>\n",
              "      <td>programming language</td>\n",
              "      <td>IS.ABSTRACT</td>\n",
              "      <td>0</td>\n",
              "    </tr>\n",
              "  </tbody>\n",
              "</table>\n",
              "</div>\n",
              "      <button class=\"colab-df-convert\" onclick=\"convertToInteractive('df-345f6c8e-b944-43ba-99d7-09d5d94fe3b7')\"\n",
              "              title=\"Convert this dataframe to an interactive table.\"\n",
              "              style=\"display:none;\">\n",
              "        \n",
              "  <svg xmlns=\"http://www.w3.org/2000/svg\" height=\"24px\"viewBox=\"0 0 24 24\"\n",
              "       width=\"24px\">\n",
              "    <path d=\"M0 0h24v24H0V0z\" fill=\"none\"/>\n",
              "    <path d=\"M18.56 5.44l.94 2.06.94-2.06 2.06-.94-2.06-.94-.94-2.06-.94 2.06-2.06.94zm-11 1L8.5 8.5l.94-2.06 2.06-.94-2.06-.94L8.5 2.5l-.94 2.06-2.06.94zm10 10l.94 2.06.94-2.06 2.06-.94-2.06-.94-.94-2.06-.94 2.06-2.06.94z\"/><path d=\"M17.41 7.96l-1.37-1.37c-.4-.4-.92-.59-1.43-.59-.52 0-1.04.2-1.43.59L10.3 9.45l-7.72 7.72c-.78.78-.78 2.05 0 2.83L4 21.41c.39.39.9.59 1.41.59.51 0 1.02-.2 1.41-.59l7.78-7.78 2.81-2.81c.8-.78.8-2.07 0-2.86zM5.41 20L4 18.59l7.72-7.72 1.47 1.35L5.41 20z\"/>\n",
              "  </svg>\n",
              "      </button>\n",
              "      \n",
              "  <style>\n",
              "    .colab-df-container {\n",
              "      display:flex;\n",
              "      flex-wrap:wrap;\n",
              "      gap: 12px;\n",
              "    }\n",
              "\n",
              "    .colab-df-convert {\n",
              "      background-color: #E8F0FE;\n",
              "      border: none;\n",
              "      border-radius: 50%;\n",
              "      cursor: pointer;\n",
              "      display: none;\n",
              "      fill: #1967D2;\n",
              "      height: 32px;\n",
              "      padding: 0 0 0 0;\n",
              "      width: 32px;\n",
              "    }\n",
              "\n",
              "    .colab-df-convert:hover {\n",
              "      background-color: #E2EBFA;\n",
              "      box-shadow: 0px 1px 2px rgba(60, 64, 67, 0.3), 0px 1px 3px 1px rgba(60, 64, 67, 0.15);\n",
              "      fill: #174EA6;\n",
              "    }\n",
              "\n",
              "    [theme=dark] .colab-df-convert {\n",
              "      background-color: #3B4455;\n",
              "      fill: #D2E3FC;\n",
              "    }\n",
              "\n",
              "    [theme=dark] .colab-df-convert:hover {\n",
              "      background-color: #434B5C;\n",
              "      box-shadow: 0px 1px 3px 1px rgba(0, 0, 0, 0.15);\n",
              "      filter: drop-shadow(0px 1px 2px rgba(0, 0, 0, 0.3));\n",
              "      fill: #FFFFFF;\n",
              "    }\n",
              "  </style>\n",
              "\n",
              "      <script>\n",
              "        const buttonEl =\n",
              "          document.querySelector('#df-345f6c8e-b944-43ba-99d7-09d5d94fe3b7 button.colab-df-convert');\n",
              "        buttonEl.style.display =\n",
              "          google.colab.kernel.accessAllowed ? 'block' : 'none';\n",
              "\n",
              "        async function convertToInteractive(key) {\n",
              "          const element = document.querySelector('#df-345f6c8e-b944-43ba-99d7-09d5d94fe3b7');\n",
              "          const dataTable =\n",
              "            await google.colab.kernel.invokeFunction('convertToInteractive',\n",
              "                                                     [key], {});\n",
              "          if (!dataTable) return;\n",
              "\n",
              "          const docLinkHtml = 'Like what you see? Visit the ' +\n",
              "            '<a target=\"_blank\" href=https://colab.research.google.com/notebooks/data_table.ipynb>data table notebook</a>'\n",
              "            + ' to learn more about interactive tables.';\n",
              "          element.innerHTML = '';\n",
              "          dataTable['output_type'] = 'display_data';\n",
              "          await google.colab.output.renderOutput(dataTable, element);\n",
              "          const docLink = document.createElement('div');\n",
              "          docLink.innerHTML = docLinkHtml;\n",
              "          element.appendChild(docLink);\n",
              "        }\n",
              "      </script>\n",
              "    </div>\n",
              "  </div>\n",
              "  "
            ]
          },
          "metadata": {},
          "execution_count": 5
        }
      ],
      "source": [
        "NER_entities_train_df.tail(5)"
      ]
    },
    {
      "cell_type": "markdown",
      "metadata": {
        "id": "QoH7ls0nWg51"
      },
      "source": [
        "### Ontology"
      ]
    },
    {
      "cell_type": "code",
      "execution_count": 6,
      "metadata": {
        "id": "J5xhQAbzVwUz"
      },
      "outputs": [],
      "source": [
        "NER_ontology_train_df = pd.read_csv(data_path_group+\"NER/NER_ontology_train.csv\", index_col=0)\n",
        "NER_ontology_val_df = pd.read_csv(data_path_group+\"NER/NER_ontology_val.csv\", index_col=0)\n",
        "NER_ontology_test_df = pd.read_csv(data_path_group+\"NER/NER_ontology_test.csv\", index_col=0)"
      ]
    },
    {
      "cell_type": "code",
      "source": [
        "#Remove whitespaces\n",
        "NER_ontology_train_df[\"synonym\"] = NER_ontology_train_df.synonym.str.strip()\n",
        "NER_ontology_val_df[\"synonym\"] = NER_ontology_val_df.synonym.str.strip()\n",
        "NER_ontology_test_df[\"synonym\"] = NER_ontology_test_df.synonym.str.strip()"
      ],
      "metadata": {
        "id": "7NfjuNdBR7RB"
      },
      "execution_count": 32,
      "outputs": []
    },
    {
      "cell_type": "code",
      "source": [
        "#NER_ontology_train_df.to_csv(data_path_group+\"NER/NER_ontology_train.csv\")\n",
        "#NER_ontology_val_df.to_csv(data_path_group+\"NER/NER_ontology_val.csv\")\n",
        "#NER_ontology_test_df.to_csv(data_path_group+\"NER/NER_ontology_test.csv\")"
      ],
      "metadata": {
        "id": "0XT0HxBjSMl4"
      },
      "execution_count": 34,
      "outputs": []
    },
    {
      "cell_type": "code",
      "execution_count": 7,
      "metadata": {
        "colab": {
          "base_uri": "https://localhost:8080/",
          "height": 206
        },
        "id": "In6RAk65WefK",
        "outputId": "b78d3cb2-bdae-41be-9641-82fc837a2ce6"
      },
      "outputs": [
        {
          "output_type": "execute_result",
          "data": {
            "text/plain": [
              "     entity_id                category  label             synonym\n",
              "0     IS topic  domain specific entity  TOPIC            IS topic\n",
              "1     IS topic  domain specific entity  TOPIC           IS topics\n",
              "2  IS sourcing  domain specific entity  TOPIC    IS / IT sourcing\n",
              "3  IS sourcing  domain specific entity  TOPIC       tool sourcing\n",
              "4  IS sourcing  domain specific entity  TOPIC  software sourcings"
            ],
            "text/html": [
              "\n",
              "  <div id=\"df-5bca2f80-af8f-4a2f-8f4d-75d004e9f4b3\">\n",
              "    <div class=\"colab-df-container\">\n",
              "      <div>\n",
              "<style scoped>\n",
              "    .dataframe tbody tr th:only-of-type {\n",
              "        vertical-align: middle;\n",
              "    }\n",
              "\n",
              "    .dataframe tbody tr th {\n",
              "        vertical-align: top;\n",
              "    }\n",
              "\n",
              "    .dataframe thead th {\n",
              "        text-align: right;\n",
              "    }\n",
              "</style>\n",
              "<table border=\"1\" class=\"dataframe\">\n",
              "  <thead>\n",
              "    <tr style=\"text-align: right;\">\n",
              "      <th></th>\n",
              "      <th>entity_id</th>\n",
              "      <th>category</th>\n",
              "      <th>label</th>\n",
              "      <th>synonym</th>\n",
              "    </tr>\n",
              "  </thead>\n",
              "  <tbody>\n",
              "    <tr>\n",
              "      <th>0</th>\n",
              "      <td>IS topic</td>\n",
              "      <td>domain specific entity</td>\n",
              "      <td>TOPIC</td>\n",
              "      <td>IS topic</td>\n",
              "    </tr>\n",
              "    <tr>\n",
              "      <th>1</th>\n",
              "      <td>IS topic</td>\n",
              "      <td>domain specific entity</td>\n",
              "      <td>TOPIC</td>\n",
              "      <td>IS topics</td>\n",
              "    </tr>\n",
              "    <tr>\n",
              "      <th>2</th>\n",
              "      <td>IS sourcing</td>\n",
              "      <td>domain specific entity</td>\n",
              "      <td>TOPIC</td>\n",
              "      <td>IS / IT sourcing</td>\n",
              "    </tr>\n",
              "    <tr>\n",
              "      <th>3</th>\n",
              "      <td>IS sourcing</td>\n",
              "      <td>domain specific entity</td>\n",
              "      <td>TOPIC</td>\n",
              "      <td>tool sourcing</td>\n",
              "    </tr>\n",
              "    <tr>\n",
              "      <th>4</th>\n",
              "      <td>IS sourcing</td>\n",
              "      <td>domain specific entity</td>\n",
              "      <td>TOPIC</td>\n",
              "      <td>software sourcings</td>\n",
              "    </tr>\n",
              "  </tbody>\n",
              "</table>\n",
              "</div>\n",
              "      <button class=\"colab-df-convert\" onclick=\"convertToInteractive('df-5bca2f80-af8f-4a2f-8f4d-75d004e9f4b3')\"\n",
              "              title=\"Convert this dataframe to an interactive table.\"\n",
              "              style=\"display:none;\">\n",
              "        \n",
              "  <svg xmlns=\"http://www.w3.org/2000/svg\" height=\"24px\"viewBox=\"0 0 24 24\"\n",
              "       width=\"24px\">\n",
              "    <path d=\"M0 0h24v24H0V0z\" fill=\"none\"/>\n",
              "    <path d=\"M18.56 5.44l.94 2.06.94-2.06 2.06-.94-2.06-.94-.94-2.06-.94 2.06-2.06.94zm-11 1L8.5 8.5l.94-2.06 2.06-.94-2.06-.94L8.5 2.5l-.94 2.06-2.06.94zm10 10l.94 2.06.94-2.06 2.06-.94-2.06-.94-.94-2.06-.94 2.06-2.06.94z\"/><path d=\"M17.41 7.96l-1.37-1.37c-.4-.4-.92-.59-1.43-.59-.52 0-1.04.2-1.43.59L10.3 9.45l-7.72 7.72c-.78.78-.78 2.05 0 2.83L4 21.41c.39.39.9.59 1.41.59.51 0 1.02-.2 1.41-.59l7.78-7.78 2.81-2.81c.8-.78.8-2.07 0-2.86zM5.41 20L4 18.59l7.72-7.72 1.47 1.35L5.41 20z\"/>\n",
              "  </svg>\n",
              "      </button>\n",
              "      \n",
              "  <style>\n",
              "    .colab-df-container {\n",
              "      display:flex;\n",
              "      flex-wrap:wrap;\n",
              "      gap: 12px;\n",
              "    }\n",
              "\n",
              "    .colab-df-convert {\n",
              "      background-color: #E8F0FE;\n",
              "      border: none;\n",
              "      border-radius: 50%;\n",
              "      cursor: pointer;\n",
              "      display: none;\n",
              "      fill: #1967D2;\n",
              "      height: 32px;\n",
              "      padding: 0 0 0 0;\n",
              "      width: 32px;\n",
              "    }\n",
              "\n",
              "    .colab-df-convert:hover {\n",
              "      background-color: #E2EBFA;\n",
              "      box-shadow: 0px 1px 2px rgba(60, 64, 67, 0.3), 0px 1px 3px 1px rgba(60, 64, 67, 0.15);\n",
              "      fill: #174EA6;\n",
              "    }\n",
              "\n",
              "    [theme=dark] .colab-df-convert {\n",
              "      background-color: #3B4455;\n",
              "      fill: #D2E3FC;\n",
              "    }\n",
              "\n",
              "    [theme=dark] .colab-df-convert:hover {\n",
              "      background-color: #434B5C;\n",
              "      box-shadow: 0px 1px 3px 1px rgba(0, 0, 0, 0.15);\n",
              "      filter: drop-shadow(0px 1px 2px rgba(0, 0, 0, 0.3));\n",
              "      fill: #FFFFFF;\n",
              "    }\n",
              "  </style>\n",
              "\n",
              "      <script>\n",
              "        const buttonEl =\n",
              "          document.querySelector('#df-5bca2f80-af8f-4a2f-8f4d-75d004e9f4b3 button.colab-df-convert');\n",
              "        buttonEl.style.display =\n",
              "          google.colab.kernel.accessAllowed ? 'block' : 'none';\n",
              "\n",
              "        async function convertToInteractive(key) {\n",
              "          const element = document.querySelector('#df-5bca2f80-af8f-4a2f-8f4d-75d004e9f4b3');\n",
              "          const dataTable =\n",
              "            await google.colab.kernel.invokeFunction('convertToInteractive',\n",
              "                                                     [key], {});\n",
              "          if (!dataTable) return;\n",
              "\n",
              "          const docLinkHtml = 'Like what you see? Visit the ' +\n",
              "            '<a target=\"_blank\" href=https://colab.research.google.com/notebooks/data_table.ipynb>data table notebook</a>'\n",
              "            + ' to learn more about interactive tables.';\n",
              "          element.innerHTML = '';\n",
              "          dataTable['output_type'] = 'display_data';\n",
              "          await google.colab.output.renderOutput(dataTable, element);\n",
              "          const docLink = document.createElement('div');\n",
              "          docLink.innerHTML = docLinkHtml;\n",
              "          element.appendChild(docLink);\n",
              "        }\n",
              "      </script>\n",
              "    </div>\n",
              "  </div>\n",
              "  "
            ]
          },
          "metadata": {},
          "execution_count": 7
        }
      ],
      "source": [
        "NER_ontology_train_df.head(5)"
      ]
    },
    {
      "cell_type": "markdown",
      "metadata": {
        "id": "Gu93a7zBX0wG"
      },
      "source": [
        "## Remove entity tags from noun phrases which are not correct "
      ]
    },
    {
      "cell_type": "markdown",
      "metadata": {
        "id": "xm8dq4G7ab7V"
      },
      "source": [
        "As we can see our dataframe has the lable ent_id \"programming language\" for all noun phrases, even though only \"programming languages\" is a synonym of this enitity!! This is due to the fact that Sebastian & Rolands DB only contain the labels per sentence, but not the position of this label within the sentence.\n",
        "In order to train our model properly we have to create a new column where we only match the true main entity to the correct noun phrases and set all others to 0. This matching will probably not 100% accurate as some noun phrases may be split differently with our spacy model as they are in the synonyms databse, but thats a risk we have to take"
      ]
    },
    {
      "cell_type": "code",
      "execution_count": 8,
      "metadata": {
        "colab": {
          "base_uri": "https://localhost:8080/",
          "height": 206
        },
        "id": "KPtVa7qYYAxe",
        "outputId": "459b2d82-fc0d-4d2f-ed07-1421aea4c209"
      },
      "outputs": [
        {
          "output_type": "execute_result",
          "data": {
            "text/plain": [
              "   article_id    sentence_id    ent_id            noun_phrases\n",
              "0         188  188_3753_3772  videotex                   which\n",
              "1         188  188_3753_3772  videotex                      we\n",
              "2         188  188_3753_3772  videotex          an information\n",
              "3         188  188_3753_3772  videotex  communication resource\n",
              "4         188  188_3753_3772  videotex      the Minitel system"
            ],
            "text/html": [
              "\n",
              "  <div id=\"df-98c25714-582c-42dc-b502-a0a516809301\">\n",
              "    <div class=\"colab-df-container\">\n",
              "      <div>\n",
              "<style scoped>\n",
              "    .dataframe tbody tr th:only-of-type {\n",
              "        vertical-align: middle;\n",
              "    }\n",
              "\n",
              "    .dataframe tbody tr th {\n",
              "        vertical-align: top;\n",
              "    }\n",
              "\n",
              "    .dataframe thead th {\n",
              "        text-align: right;\n",
              "    }\n",
              "</style>\n",
              "<table border=\"1\" class=\"dataframe\">\n",
              "  <thead>\n",
              "    <tr style=\"text-align: right;\">\n",
              "      <th></th>\n",
              "      <th>article_id</th>\n",
              "      <th>sentence_id</th>\n",
              "      <th>ent_id</th>\n",
              "      <th>noun_phrases</th>\n",
              "    </tr>\n",
              "  </thead>\n",
              "  <tbody>\n",
              "    <tr>\n",
              "      <th>0</th>\n",
              "      <td>188</td>\n",
              "      <td>188_3753_3772</td>\n",
              "      <td>videotex</td>\n",
              "      <td>which</td>\n",
              "    </tr>\n",
              "    <tr>\n",
              "      <th>1</th>\n",
              "      <td>188</td>\n",
              "      <td>188_3753_3772</td>\n",
              "      <td>videotex</td>\n",
              "      <td>we</td>\n",
              "    </tr>\n",
              "    <tr>\n",
              "      <th>2</th>\n",
              "      <td>188</td>\n",
              "      <td>188_3753_3772</td>\n",
              "      <td>videotex</td>\n",
              "      <td>an information</td>\n",
              "    </tr>\n",
              "    <tr>\n",
              "      <th>3</th>\n",
              "      <td>188</td>\n",
              "      <td>188_3753_3772</td>\n",
              "      <td>videotex</td>\n",
              "      <td>communication resource</td>\n",
              "    </tr>\n",
              "    <tr>\n",
              "      <th>4</th>\n",
              "      <td>188</td>\n",
              "      <td>188_3753_3772</td>\n",
              "      <td>videotex</td>\n",
              "      <td>the Minitel system</td>\n",
              "    </tr>\n",
              "  </tbody>\n",
              "</table>\n",
              "</div>\n",
              "      <button class=\"colab-df-convert\" onclick=\"convertToInteractive('df-98c25714-582c-42dc-b502-a0a516809301')\"\n",
              "              title=\"Convert this dataframe to an interactive table.\"\n",
              "              style=\"display:none;\">\n",
              "        \n",
              "  <svg xmlns=\"http://www.w3.org/2000/svg\" height=\"24px\"viewBox=\"0 0 24 24\"\n",
              "       width=\"24px\">\n",
              "    <path d=\"M0 0h24v24H0V0z\" fill=\"none\"/>\n",
              "    <path d=\"M18.56 5.44l.94 2.06.94-2.06 2.06-.94-2.06-.94-.94-2.06-.94 2.06-2.06.94zm-11 1L8.5 8.5l.94-2.06 2.06-.94-2.06-.94L8.5 2.5l-.94 2.06-2.06.94zm10 10l.94 2.06.94-2.06 2.06-.94-2.06-.94-.94-2.06-.94 2.06-2.06.94z\"/><path d=\"M17.41 7.96l-1.37-1.37c-.4-.4-.92-.59-1.43-.59-.52 0-1.04.2-1.43.59L10.3 9.45l-7.72 7.72c-.78.78-.78 2.05 0 2.83L4 21.41c.39.39.9.59 1.41.59.51 0 1.02-.2 1.41-.59l7.78-7.78 2.81-2.81c.8-.78.8-2.07 0-2.86zM5.41 20L4 18.59l7.72-7.72 1.47 1.35L5.41 20z\"/>\n",
              "  </svg>\n",
              "      </button>\n",
              "      \n",
              "  <style>\n",
              "    .colab-df-container {\n",
              "      display:flex;\n",
              "      flex-wrap:wrap;\n",
              "      gap: 12px;\n",
              "    }\n",
              "\n",
              "    .colab-df-convert {\n",
              "      background-color: #E8F0FE;\n",
              "      border: none;\n",
              "      border-radius: 50%;\n",
              "      cursor: pointer;\n",
              "      display: none;\n",
              "      fill: #1967D2;\n",
              "      height: 32px;\n",
              "      padding: 0 0 0 0;\n",
              "      width: 32px;\n",
              "    }\n",
              "\n",
              "    .colab-df-convert:hover {\n",
              "      background-color: #E2EBFA;\n",
              "      box-shadow: 0px 1px 2px rgba(60, 64, 67, 0.3), 0px 1px 3px 1px rgba(60, 64, 67, 0.15);\n",
              "      fill: #174EA6;\n",
              "    }\n",
              "\n",
              "    [theme=dark] .colab-df-convert {\n",
              "      background-color: #3B4455;\n",
              "      fill: #D2E3FC;\n",
              "    }\n",
              "\n",
              "    [theme=dark] .colab-df-convert:hover {\n",
              "      background-color: #434B5C;\n",
              "      box-shadow: 0px 1px 3px 1px rgba(0, 0, 0, 0.15);\n",
              "      filter: drop-shadow(0px 1px 2px rgba(0, 0, 0, 0.3));\n",
              "      fill: #FFFFFF;\n",
              "    }\n",
              "  </style>\n",
              "\n",
              "      <script>\n",
              "        const buttonEl =\n",
              "          document.querySelector('#df-98c25714-582c-42dc-b502-a0a516809301 button.colab-df-convert');\n",
              "        buttonEl.style.display =\n",
              "          google.colab.kernel.accessAllowed ? 'block' : 'none';\n",
              "\n",
              "        async function convertToInteractive(key) {\n",
              "          const element = document.querySelector('#df-98c25714-582c-42dc-b502-a0a516809301');\n",
              "          const dataTable =\n",
              "            await google.colab.kernel.invokeFunction('convertToInteractive',\n",
              "                                                     [key], {});\n",
              "          if (!dataTable) return;\n",
              "\n",
              "          const docLinkHtml = 'Like what you see? Visit the ' +\n",
              "            '<a target=\"_blank\" href=https://colab.research.google.com/notebooks/data_table.ipynb>data table notebook</a>'\n",
              "            + ' to learn more about interactive tables.';\n",
              "          element.innerHTML = '';\n",
              "          dataTable['output_type'] = 'display_data';\n",
              "          await google.colab.output.renderOutput(dataTable, element);\n",
              "          const docLink = document.createElement('div');\n",
              "          docLink.innerHTML = docLinkHtml;\n",
              "          element.appendChild(docLink);\n",
              "        }\n",
              "      </script>\n",
              "    </div>\n",
              "  </div>\n",
              "  "
            ]
          },
          "metadata": {},
          "execution_count": 8
        }
      ],
      "source": [
        "NER_entities_train_df.head(5)"
      ]
    },
    {
      "cell_type": "code",
      "source": [
        "#Left Merge synonyms from ontology on entities noun phrases to get true main entity id on a noun phrase level\n",
        "NER_entities_train_df = NER_entities_train_df.merge(\n",
        "    NER_ontology_train_df[[\"synonym\",\"entity_id\"]], \n",
        "    how=\"left\", left_on=\"noun_phrases\", right_on=\"synonym\").drop(columns=[\"synonym\"]).fillna(0)\n",
        "\n",
        "#Rename column\n",
        "NER_entities_train_df.rename(columns={\"entity_id\": \"true_ent_id\"}, inplace=True)"
      ],
      "metadata": {
        "id": "zssMeM20QPvv"
      },
      "execution_count": 36,
      "outputs": []
    },
    {
      "cell_type": "code",
      "execution_count": 37,
      "metadata": {
        "colab": {
          "base_uri": "https://localhost:8080/",
          "height": 394
        },
        "id": "bvcS-u-lJDWn",
        "outputId": "c92cda77-901e-4ef5-93fc-22bcf0ad0ded"
      },
      "outputs": [
        {
          "output_type": "execute_result",
          "data": {
            "text/plain": [
              "    article_id    sentence_id                    ent_id  \\\n",
              "9          188  188_3848_3883                government   \n",
              "10         188  188_3848_3883                government   \n",
              "11         188  188_3848_3883                government   \n",
              "12         188  188_3848_3883                government   \n",
              "13         188  188_3848_3883                government   \n",
              "14         188  188_3848_3883                government   \n",
              "15         188  188_3848_3883                government   \n",
              "16         188  188_3848_3883                government   \n",
              "17         188  188_3848_3883                government   \n",
              "18         188  188_3883_3924  information superhighway   \n",
              "19         188  188_3883_3924  information superhighway   \n",
              "\n",
              "                      noun_phrases                 true_ent_id  \n",
              "9                             This                           0  \n",
              "10                further ampli ed                           0  \n",
              "11                        business  organizational participant  \n",
              "12              the infrastructure                           0  \n",
              "13                           place                           0  \n",
              "14                           which                           0  \n",
              "15                  the government                           0  \n",
              "16                     the control                           0  \n",
              "17                  individual rms                           0  \n",
              "18                 the high degree                           0  \n",
              "19  public institution involvement                           0  "
            ],
            "text/html": [
              "\n",
              "  <div id=\"df-8061ecc9-7915-4035-86b0-716acb1af8b4\">\n",
              "    <div class=\"colab-df-container\">\n",
              "      <div>\n",
              "<style scoped>\n",
              "    .dataframe tbody tr th:only-of-type {\n",
              "        vertical-align: middle;\n",
              "    }\n",
              "\n",
              "    .dataframe tbody tr th {\n",
              "        vertical-align: top;\n",
              "    }\n",
              "\n",
              "    .dataframe thead th {\n",
              "        text-align: right;\n",
              "    }\n",
              "</style>\n",
              "<table border=\"1\" class=\"dataframe\">\n",
              "  <thead>\n",
              "    <tr style=\"text-align: right;\">\n",
              "      <th></th>\n",
              "      <th>article_id</th>\n",
              "      <th>sentence_id</th>\n",
              "      <th>ent_id</th>\n",
              "      <th>noun_phrases</th>\n",
              "      <th>true_ent_id</th>\n",
              "    </tr>\n",
              "  </thead>\n",
              "  <tbody>\n",
              "    <tr>\n",
              "      <th>9</th>\n",
              "      <td>188</td>\n",
              "      <td>188_3848_3883</td>\n",
              "      <td>government</td>\n",
              "      <td>This</td>\n",
              "      <td>0</td>\n",
              "    </tr>\n",
              "    <tr>\n",
              "      <th>10</th>\n",
              "      <td>188</td>\n",
              "      <td>188_3848_3883</td>\n",
              "      <td>government</td>\n",
              "      <td>further ampli ed</td>\n",
              "      <td>0</td>\n",
              "    </tr>\n",
              "    <tr>\n",
              "      <th>11</th>\n",
              "      <td>188</td>\n",
              "      <td>188_3848_3883</td>\n",
              "      <td>government</td>\n",
              "      <td>business</td>\n",
              "      <td>organizational participant</td>\n",
              "    </tr>\n",
              "    <tr>\n",
              "      <th>12</th>\n",
              "      <td>188</td>\n",
              "      <td>188_3848_3883</td>\n",
              "      <td>government</td>\n",
              "      <td>the infrastructure</td>\n",
              "      <td>0</td>\n",
              "    </tr>\n",
              "    <tr>\n",
              "      <th>13</th>\n",
              "      <td>188</td>\n",
              "      <td>188_3848_3883</td>\n",
              "      <td>government</td>\n",
              "      <td>place</td>\n",
              "      <td>0</td>\n",
              "    </tr>\n",
              "    <tr>\n",
              "      <th>14</th>\n",
              "      <td>188</td>\n",
              "      <td>188_3848_3883</td>\n",
              "      <td>government</td>\n",
              "      <td>which</td>\n",
              "      <td>0</td>\n",
              "    </tr>\n",
              "    <tr>\n",
              "      <th>15</th>\n",
              "      <td>188</td>\n",
              "      <td>188_3848_3883</td>\n",
              "      <td>government</td>\n",
              "      <td>the government</td>\n",
              "      <td>0</td>\n",
              "    </tr>\n",
              "    <tr>\n",
              "      <th>16</th>\n",
              "      <td>188</td>\n",
              "      <td>188_3848_3883</td>\n",
              "      <td>government</td>\n",
              "      <td>the control</td>\n",
              "      <td>0</td>\n",
              "    </tr>\n",
              "    <tr>\n",
              "      <th>17</th>\n",
              "      <td>188</td>\n",
              "      <td>188_3848_3883</td>\n",
              "      <td>government</td>\n",
              "      <td>individual rms</td>\n",
              "      <td>0</td>\n",
              "    </tr>\n",
              "    <tr>\n",
              "      <th>18</th>\n",
              "      <td>188</td>\n",
              "      <td>188_3883_3924</td>\n",
              "      <td>information superhighway</td>\n",
              "      <td>the high degree</td>\n",
              "      <td>0</td>\n",
              "    </tr>\n",
              "    <tr>\n",
              "      <th>19</th>\n",
              "      <td>188</td>\n",
              "      <td>188_3883_3924</td>\n",
              "      <td>information superhighway</td>\n",
              "      <td>public institution involvement</td>\n",
              "      <td>0</td>\n",
              "    </tr>\n",
              "  </tbody>\n",
              "</table>\n",
              "</div>\n",
              "      <button class=\"colab-df-convert\" onclick=\"convertToInteractive('df-8061ecc9-7915-4035-86b0-716acb1af8b4')\"\n",
              "              title=\"Convert this dataframe to an interactive table.\"\n",
              "              style=\"display:none;\">\n",
              "        \n",
              "  <svg xmlns=\"http://www.w3.org/2000/svg\" height=\"24px\"viewBox=\"0 0 24 24\"\n",
              "       width=\"24px\">\n",
              "    <path d=\"M0 0h24v24H0V0z\" fill=\"none\"/>\n",
              "    <path d=\"M18.56 5.44l.94 2.06.94-2.06 2.06-.94-2.06-.94-.94-2.06-.94 2.06-2.06.94zm-11 1L8.5 8.5l.94-2.06 2.06-.94-2.06-.94L8.5 2.5l-.94 2.06-2.06.94zm10 10l.94 2.06.94-2.06 2.06-.94-2.06-.94-.94-2.06-.94 2.06-2.06.94z\"/><path d=\"M17.41 7.96l-1.37-1.37c-.4-.4-.92-.59-1.43-.59-.52 0-1.04.2-1.43.59L10.3 9.45l-7.72 7.72c-.78.78-.78 2.05 0 2.83L4 21.41c.39.39.9.59 1.41.59.51 0 1.02-.2 1.41-.59l7.78-7.78 2.81-2.81c.8-.78.8-2.07 0-2.86zM5.41 20L4 18.59l7.72-7.72 1.47 1.35L5.41 20z\"/>\n",
              "  </svg>\n",
              "      </button>\n",
              "      \n",
              "  <style>\n",
              "    .colab-df-container {\n",
              "      display:flex;\n",
              "      flex-wrap:wrap;\n",
              "      gap: 12px;\n",
              "    }\n",
              "\n",
              "    .colab-df-convert {\n",
              "      background-color: #E8F0FE;\n",
              "      border: none;\n",
              "      border-radius: 50%;\n",
              "      cursor: pointer;\n",
              "      display: none;\n",
              "      fill: #1967D2;\n",
              "      height: 32px;\n",
              "      padding: 0 0 0 0;\n",
              "      width: 32px;\n",
              "    }\n",
              "\n",
              "    .colab-df-convert:hover {\n",
              "      background-color: #E2EBFA;\n",
              "      box-shadow: 0px 1px 2px rgba(60, 64, 67, 0.3), 0px 1px 3px 1px rgba(60, 64, 67, 0.15);\n",
              "      fill: #174EA6;\n",
              "    }\n",
              "\n",
              "    [theme=dark] .colab-df-convert {\n",
              "      background-color: #3B4455;\n",
              "      fill: #D2E3FC;\n",
              "    }\n",
              "\n",
              "    [theme=dark] .colab-df-convert:hover {\n",
              "      background-color: #434B5C;\n",
              "      box-shadow: 0px 1px 3px 1px rgba(0, 0, 0, 0.15);\n",
              "      filter: drop-shadow(0px 1px 2px rgba(0, 0, 0, 0.3));\n",
              "      fill: #FFFFFF;\n",
              "    }\n",
              "  </style>\n",
              "\n",
              "      <script>\n",
              "        const buttonEl =\n",
              "          document.querySelector('#df-8061ecc9-7915-4035-86b0-716acb1af8b4 button.colab-df-convert');\n",
              "        buttonEl.style.display =\n",
              "          google.colab.kernel.accessAllowed ? 'block' : 'none';\n",
              "\n",
              "        async function convertToInteractive(key) {\n",
              "          const element = document.querySelector('#df-8061ecc9-7915-4035-86b0-716acb1af8b4');\n",
              "          const dataTable =\n",
              "            await google.colab.kernel.invokeFunction('convertToInteractive',\n",
              "                                                     [key], {});\n",
              "          if (!dataTable) return;\n",
              "\n",
              "          const docLinkHtml = 'Like what you see? Visit the ' +\n",
              "            '<a target=\"_blank\" href=https://colab.research.google.com/notebooks/data_table.ipynb>data table notebook</a>'\n",
              "            + ' to learn more about interactive tables.';\n",
              "          element.innerHTML = '';\n",
              "          dataTable['output_type'] = 'display_data';\n",
              "          await google.colab.output.renderOutput(dataTable, element);\n",
              "          const docLink = document.createElement('div');\n",
              "          docLink.innerHTML = docLinkHtml;\n",
              "          element.appendChild(docLink);\n",
              "        }\n",
              "      </script>\n",
              "    </div>\n",
              "  </div>\n",
              "  "
            ]
          },
          "metadata": {},
          "execution_count": 37
        }
      ],
      "source": [
        "# Check results\n",
        "NER_entities_train_df.iloc[9:20]"
      ]
    },
    {
      "cell_type": "markdown",
      "source": [
        "As we can see this merge was working, however unfortunately we are not able to get all correct matches, because our noun phrases from spacy sometimes do not exactly match the synonym in the ontology (e.g. row 15). We could also remove stop words before merging, but for the sake of time we decided against it. "
      ],
      "metadata": {
        "id": "thoiQ15ZQ_eO"
      }
    },
    {
      "cell_type": "markdown",
      "metadata": {
        "id": "0pU8tmXqJKgP"
      },
      "source": [
        "Let's put the above code in a function so we can reuse it later"
      ]
    },
    {
      "cell_type": "code",
      "execution_count": 38,
      "metadata": {
        "id": "e0nTx198J5aK"
      },
      "outputs": [],
      "source": [
        "def correct_tagging(NER_entites_df, NER_ontology_df):\n",
        "\n",
        "  #Left Merge synonyms from ontology on entities noun phrases to get true main entity id on a noun phrase level\n",
        "  NER_entites_df = NER_entites_df.merge(\n",
        "      NER_ontology_df[[\"synonym\",\"entity_id\"]], \n",
        "      how=\"left\", left_on=\"noun_phrases\", right_on=\"synonym\").drop(columns=[\"synonym\"]).fillna(0)\n",
        "\n",
        "  #Rename column\n",
        "  NER_entites_df.rename(columns={\"entity_id\": \"true_ent_id\"}, inplace=True)\n",
        "\n",
        "  return NER_entites_df"
      ]
    },
    {
      "cell_type": "code",
      "execution_count": 39,
      "metadata": {
        "id": "P1gJvgNsKS2Z"
      },
      "outputs": [],
      "source": [
        "# Lets apply them to all entities dataframes\n",
        "#NER_entities_train_df = correct_tagging(NER_entities_train_df, NER_ontology_train_df)\n",
        "NER_entities_val_df = correct_tagging(NER_entities_val_df, NER_ontology_val_df)\n",
        "NER_entities_test_df = correct_tagging(NER_entities_test_df, NER_ontology_test_df)"
      ]
    },
    {
      "cell_type": "code",
      "execution_count": 43,
      "metadata": {
        "id": "wOxZPFJpLAfc"
      },
      "outputs": [],
      "source": [
        "##Store them as .csvs in Google Drive\n",
        "#NER_entities_train_df.to_csv(data_path_group+\"NER/NER_entities_train.csv\")\n",
        "#NER_entities_val_df.to_csv(data_path_group+\"NER/NER_entities_val.csv\")\n",
        "#NER_entities_test_df.to_csv(data_path_group+\"NER/NER_entities_test.csv\")"
      ]
    },
    {
      "cell_type": "markdown",
      "metadata": {
        "id": "9OW1BC-hNNvN"
      },
      "source": [
        "## Create training datasets to fine tune models"
      ]
    },
    {
      "cell_type": "markdown",
      "metadata": {
        "id": "-NzDv6HQO5ZZ"
      },
      "source": [
        "![image.png](data:image/png;base64,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)"
      ]
    },
    {
      "cell_type": "markdown",
      "metadata": {
        "id": "kPDkMyoxShTW"
      },
      "source": [
        "### Idea 1: Comparison entities and synonyms"
      ]
    },
    {
      "cell_type": "code",
      "execution_count": 61,
      "metadata": {
        "colab": {
          "base_uri": "https://localhost:8080/",
          "height": 206
        },
        "id": "2YOl_SfcO5RL",
        "outputId": "2a151c76-1cff-4eb9-edf0-8851e48aa0ae"
      },
      "outputs": [
        {
          "output_type": "execute_result",
          "data": {
            "text/plain": [
              "     entity_id                category  label             synonym\n",
              "0     IS topic  domain specific entity  TOPIC            IS topic\n",
              "1     IS topic  domain specific entity  TOPIC           IS topics\n",
              "2  IS sourcing  domain specific entity  TOPIC    IS / IT sourcing\n",
              "3  IS sourcing  domain specific entity  TOPIC       tool sourcing\n",
              "4  IS sourcing  domain specific entity  TOPIC  software sourcings"
            ],
            "text/html": [
              "\n",
              "  <div id=\"df-d5a45468-c52a-47f7-b62b-2851b02aeed5\">\n",
              "    <div class=\"colab-df-container\">\n",
              "      <div>\n",
              "<style scoped>\n",
              "    .dataframe tbody tr th:only-of-type {\n",
              "        vertical-align: middle;\n",
              "    }\n",
              "\n",
              "    .dataframe tbody tr th {\n",
              "        vertical-align: top;\n",
              "    }\n",
              "\n",
              "    .dataframe thead th {\n",
              "        text-align: right;\n",
              "    }\n",
              "</style>\n",
              "<table border=\"1\" class=\"dataframe\">\n",
              "  <thead>\n",
              "    <tr style=\"text-align: right;\">\n",
              "      <th></th>\n",
              "      <th>entity_id</th>\n",
              "      <th>category</th>\n",
              "      <th>label</th>\n",
              "      <th>synonym</th>\n",
              "    </tr>\n",
              "  </thead>\n",
              "  <tbody>\n",
              "    <tr>\n",
              "      <th>0</th>\n",
              "      <td>IS topic</td>\n",
              "      <td>domain specific entity</td>\n",
              "      <td>TOPIC</td>\n",
              "      <td>IS topic</td>\n",
              "    </tr>\n",
              "    <tr>\n",
              "      <th>1</th>\n",
              "      <td>IS topic</td>\n",
              "      <td>domain specific entity</td>\n",
              "      <td>TOPIC</td>\n",
              "      <td>IS topics</td>\n",
              "    </tr>\n",
              "    <tr>\n",
              "      <th>2</th>\n",
              "      <td>IS sourcing</td>\n",
              "      <td>domain specific entity</td>\n",
              "      <td>TOPIC</td>\n",
              "      <td>IS / IT sourcing</td>\n",
              "    </tr>\n",
              "    <tr>\n",
              "      <th>3</th>\n",
              "      <td>IS sourcing</td>\n",
              "      <td>domain specific entity</td>\n",
              "      <td>TOPIC</td>\n",
              "      <td>tool sourcing</td>\n",
              "    </tr>\n",
              "    <tr>\n",
              "      <th>4</th>\n",
              "      <td>IS sourcing</td>\n",
              "      <td>domain specific entity</td>\n",
              "      <td>TOPIC</td>\n",
              "      <td>software sourcings</td>\n",
              "    </tr>\n",
              "  </tbody>\n",
              "</table>\n",
              "</div>\n",
              "      <button class=\"colab-df-convert\" onclick=\"convertToInteractive('df-d5a45468-c52a-47f7-b62b-2851b02aeed5')\"\n",
              "              title=\"Convert this dataframe to an interactive table.\"\n",
              "              style=\"display:none;\">\n",
              "        \n",
              "  <svg xmlns=\"http://www.w3.org/2000/svg\" height=\"24px\"viewBox=\"0 0 24 24\"\n",
              "       width=\"24px\">\n",
              "    <path d=\"M0 0h24v24H0V0z\" fill=\"none\"/>\n",
              "    <path d=\"M18.56 5.44l.94 2.06.94-2.06 2.06-.94-2.06-.94-.94-2.06-.94 2.06-2.06.94zm-11 1L8.5 8.5l.94-2.06 2.06-.94-2.06-.94L8.5 2.5l-.94 2.06-2.06.94zm10 10l.94 2.06.94-2.06 2.06-.94-2.06-.94-.94-2.06-.94 2.06-2.06.94z\"/><path d=\"M17.41 7.96l-1.37-1.37c-.4-.4-.92-.59-1.43-.59-.52 0-1.04.2-1.43.59L10.3 9.45l-7.72 7.72c-.78.78-.78 2.05 0 2.83L4 21.41c.39.39.9.59 1.41.59.51 0 1.02-.2 1.41-.59l7.78-7.78 2.81-2.81c.8-.78.8-2.07 0-2.86zM5.41 20L4 18.59l7.72-7.72 1.47 1.35L5.41 20z\"/>\n",
              "  </svg>\n",
              "      </button>\n",
              "      \n",
              "  <style>\n",
              "    .colab-df-container {\n",
              "      display:flex;\n",
              "      flex-wrap:wrap;\n",
              "      gap: 12px;\n",
              "    }\n",
              "\n",
              "    .colab-df-convert {\n",
              "      background-color: #E8F0FE;\n",
              "      border: none;\n",
              "      border-radius: 50%;\n",
              "      cursor: pointer;\n",
              "      display: none;\n",
              "      fill: #1967D2;\n",
              "      height: 32px;\n",
              "      padding: 0 0 0 0;\n",
              "      width: 32px;\n",
              "    }\n",
              "\n",
              "    .colab-df-convert:hover {\n",
              "      background-color: #E2EBFA;\n",
              "      box-shadow: 0px 1px 2px rgba(60, 64, 67, 0.3), 0px 1px 3px 1px rgba(60, 64, 67, 0.15);\n",
              "      fill: #174EA6;\n",
              "    }\n",
              "\n",
              "    [theme=dark] .colab-df-convert {\n",
              "      background-color: #3B4455;\n",
              "      fill: #D2E3FC;\n",
              "    }\n",
              "\n",
              "    [theme=dark] .colab-df-convert:hover {\n",
              "      background-color: #434B5C;\n",
              "      box-shadow: 0px 1px 3px 1px rgba(0, 0, 0, 0.15);\n",
              "      filter: drop-shadow(0px 1px 2px rgba(0, 0, 0, 0.3));\n",
              "      fill: #FFFFFF;\n",
              "    }\n",
              "  </style>\n",
              "\n",
              "      <script>\n",
              "        const buttonEl =\n",
              "          document.querySelector('#df-d5a45468-c52a-47f7-b62b-2851b02aeed5 button.colab-df-convert');\n",
              "        buttonEl.style.display =\n",
              "          google.colab.kernel.accessAllowed ? 'block' : 'none';\n",
              "\n",
              "        async function convertToInteractive(key) {\n",
              "          const element = document.querySelector('#df-d5a45468-c52a-47f7-b62b-2851b02aeed5');\n",
              "          const dataTable =\n",
              "            await google.colab.kernel.invokeFunction('convertToInteractive',\n",
              "                                                     [key], {});\n",
              "          if (!dataTable) return;\n",
              "\n",
              "          const docLinkHtml = 'Like what you see? Visit the ' +\n",
              "            '<a target=\"_blank\" href=https://colab.research.google.com/notebooks/data_table.ipynb>data table notebook</a>'\n",
              "            + ' to learn more about interactive tables.';\n",
              "          element.innerHTML = '';\n",
              "          dataTable['output_type'] = 'display_data';\n",
              "          await google.colab.output.renderOutput(dataTable, element);\n",
              "          const docLink = document.createElement('div');\n",
              "          docLink.innerHTML = docLinkHtml;\n",
              "          element.appendChild(docLink);\n",
              "        }\n",
              "      </script>\n",
              "    </div>\n",
              "  </div>\n",
              "  "
            ]
          },
          "metadata": {},
          "execution_count": 61
        }
      ],
      "source": [
        "NER_ontology_train_df.head()"
      ]
    },
    {
      "cell_type": "code",
      "execution_count": 62,
      "metadata": {
        "colab": {
          "base_uri": "https://localhost:8080/"
        },
        "id": "wcEgBPK5OZcL",
        "outputId": "087caa7b-1a7b-4a6f-cbb0-86c5e9debb3b"
      },
      "outputs": [
        {
          "output_type": "execute_result",
          "data": {
            "text/plain": [
              "PARTICIPANTS         237958\n",
              "COLLECTION_METHOD     59969\n",
              "TECHNOLOGY            38765\n",
              "TOPIC                 21198\n",
              "VALIDITY              16854\n",
              "ANALYSIS_METHOD        3371\n",
              "CONCEPTUAL_METHOD      3101\n",
              "SECTOR                 2470\n",
              "METRIC                 1541\n",
              "MODEL_ELEMENT          1524\n",
              "THEORY                  972\n",
              "COMPANY_TYPE            508\n",
              "SAMPLING                306\n",
              "PARADIGM                243\n",
              "LEVEL                    26\n",
              "Name: label, dtype: int64"
            ]
          },
          "metadata": {},
          "execution_count": 62
        }
      ],
      "source": [
        "NER_ontology_train_df.label.value_counts()"
      ]
    },
    {
      "cell_type": "code",
      "execution_count": 8,
      "metadata": {
        "id": "2eebVz93P_QX"
      },
      "outputs": [],
      "source": [
        "# Add new column to label whether entity_id and synonym are indeed synonmys\n",
        "NER_ontology_train_df[\"is_synonym\"] = 1"
      ]
    },
    {
      "cell_type": "code",
      "execution_count": 9,
      "metadata": {
        "id": "m9GZ4rNJP4FZ"
      },
      "outputs": [],
      "source": [
        "#Filter out identical rows (main entity and synonym is the same word/phrase)\n",
        "NER_ontology_train_df = NER_ontology_train_df.loc[NER_ontology_train_df.entity_id!=NER_ontology_train_df.synonym]"
      ]
    },
    {
      "cell_type": "code",
      "execution_count": 10,
      "metadata": {
        "colab": {
          "base_uri": "https://localhost:8080/",
          "height": 143
        },
        "id": "CBywRpUSP_Ao",
        "outputId": "d57c4050-b897-4fa4-df5b-547ef4c87027"
      },
      "outputs": [
        {
          "output_type": "execute_result",
          "data": {
            "text/plain": [
              "     entity_id                category  label           synonym  is_synonym\n",
              "1     IS topic  domain specific entity  TOPIC         IS topics           1\n",
              "2  IS sourcing  domain specific entity  TOPIC  IS / IT sourcing           1\n",
              "3  IS sourcing  domain specific entity  TOPIC     tool sourcing           1"
            ],
            "text/html": [
              "\n",
              "  <div id=\"df-d9562dbd-e44e-47b9-89ee-1e4093deb355\">\n",
              "    <div class=\"colab-df-container\">\n",
              "      <div>\n",
              "<style scoped>\n",
              "    .dataframe tbody tr th:only-of-type {\n",
              "        vertical-align: middle;\n",
              "    }\n",
              "\n",
              "    .dataframe tbody tr th {\n",
              "        vertical-align: top;\n",
              "    }\n",
              "\n",
              "    .dataframe thead th {\n",
              "        text-align: right;\n",
              "    }\n",
              "</style>\n",
              "<table border=\"1\" class=\"dataframe\">\n",
              "  <thead>\n",
              "    <tr style=\"text-align: right;\">\n",
              "      <th></th>\n",
              "      <th>entity_id</th>\n",
              "      <th>category</th>\n",
              "      <th>label</th>\n",
              "      <th>synonym</th>\n",
              "      <th>is_synonym</th>\n",
              "    </tr>\n",
              "  </thead>\n",
              "  <tbody>\n",
              "    <tr>\n",
              "      <th>1</th>\n",
              "      <td>IS topic</td>\n",
              "      <td>domain specific entity</td>\n",
              "      <td>TOPIC</td>\n",
              "      <td>IS topics</td>\n",
              "      <td>1</td>\n",
              "    </tr>\n",
              "    <tr>\n",
              "      <th>2</th>\n",
              "      <td>IS sourcing</td>\n",
              "      <td>domain specific entity</td>\n",
              "      <td>TOPIC</td>\n",
              "      <td>IS / IT sourcing</td>\n",
              "      <td>1</td>\n",
              "    </tr>\n",
              "    <tr>\n",
              "      <th>3</th>\n",
              "      <td>IS sourcing</td>\n",
              "      <td>domain specific entity</td>\n",
              "      <td>TOPIC</td>\n",
              "      <td>tool sourcing</td>\n",
              "      <td>1</td>\n",
              "    </tr>\n",
              "  </tbody>\n",
              "</table>\n",
              "</div>\n",
              "      <button class=\"colab-df-convert\" onclick=\"convertToInteractive('df-d9562dbd-e44e-47b9-89ee-1e4093deb355')\"\n",
              "              title=\"Convert this dataframe to an interactive table.\"\n",
              "              style=\"display:none;\">\n",
              "        \n",
              "  <svg xmlns=\"http://www.w3.org/2000/svg\" height=\"24px\"viewBox=\"0 0 24 24\"\n",
              "       width=\"24px\">\n",
              "    <path d=\"M0 0h24v24H0V0z\" fill=\"none\"/>\n",
              "    <path d=\"M18.56 5.44l.94 2.06.94-2.06 2.06-.94-2.06-.94-.94-2.06-.94 2.06-2.06.94zm-11 1L8.5 8.5l.94-2.06 2.06-.94-2.06-.94L8.5 2.5l-.94 2.06-2.06.94zm10 10l.94 2.06.94-2.06 2.06-.94-2.06-.94-.94-2.06-.94 2.06-2.06.94z\"/><path d=\"M17.41 7.96l-1.37-1.37c-.4-.4-.92-.59-1.43-.59-.52 0-1.04.2-1.43.59L10.3 9.45l-7.72 7.72c-.78.78-.78 2.05 0 2.83L4 21.41c.39.39.9.59 1.41.59.51 0 1.02-.2 1.41-.59l7.78-7.78 2.81-2.81c.8-.78.8-2.07 0-2.86zM5.41 20L4 18.59l7.72-7.72 1.47 1.35L5.41 20z\"/>\n",
              "  </svg>\n",
              "      </button>\n",
              "      \n",
              "  <style>\n",
              "    .colab-df-container {\n",
              "      display:flex;\n",
              "      flex-wrap:wrap;\n",
              "      gap: 12px;\n",
              "    }\n",
              "\n",
              "    .colab-df-convert {\n",
              "      background-color: #E8F0FE;\n",
              "      border: none;\n",
              "      border-radius: 50%;\n",
              "      cursor: pointer;\n",
              "      display: none;\n",
              "      fill: #1967D2;\n",
              "      height: 32px;\n",
              "      padding: 0 0 0 0;\n",
              "      width: 32px;\n",
              "    }\n",
              "\n",
              "    .colab-df-convert:hover {\n",
              "      background-color: #E2EBFA;\n",
              "      box-shadow: 0px 1px 2px rgba(60, 64, 67, 0.3), 0px 1px 3px 1px rgba(60, 64, 67, 0.15);\n",
              "      fill: #174EA6;\n",
              "    }\n",
              "\n",
              "    [theme=dark] .colab-df-convert {\n",
              "      background-color: #3B4455;\n",
              "      fill: #D2E3FC;\n",
              "    }\n",
              "\n",
              "    [theme=dark] .colab-df-convert:hover {\n",
              "      background-color: #434B5C;\n",
              "      box-shadow: 0px 1px 3px 1px rgba(0, 0, 0, 0.15);\n",
              "      filter: drop-shadow(0px 1px 2px rgba(0, 0, 0, 0.3));\n",
              "      fill: #FFFFFF;\n",
              "    }\n",
              "  </style>\n",
              "\n",
              "      <script>\n",
              "        const buttonEl =\n",
              "          document.querySelector('#df-d9562dbd-e44e-47b9-89ee-1e4093deb355 button.colab-df-convert');\n",
              "        buttonEl.style.display =\n",
              "          google.colab.kernel.accessAllowed ? 'block' : 'none';\n",
              "\n",
              "        async function convertToInteractive(key) {\n",
              "          const element = document.querySelector('#df-d9562dbd-e44e-47b9-89ee-1e4093deb355');\n",
              "          const dataTable =\n",
              "            await google.colab.kernel.invokeFunction('convertToInteractive',\n",
              "                                                     [key], {});\n",
              "          if (!dataTable) return;\n",
              "\n",
              "          const docLinkHtml = 'Like what you see? Visit the ' +\n",
              "            '<a target=\"_blank\" href=https://colab.research.google.com/notebooks/data_table.ipynb>data table notebook</a>'\n",
              "            + ' to learn more about interactive tables.';\n",
              "          element.innerHTML = '';\n",
              "          dataTable['output_type'] = 'display_data';\n",
              "          await google.colab.output.renderOutput(dataTable, element);\n",
              "          const docLink = document.createElement('div');\n",
              "          docLink.innerHTML = docLinkHtml;\n",
              "          element.appendChild(docLink);\n",
              "        }\n",
              "      </script>\n",
              "    </div>\n",
              "  </div>\n",
              "  "
            ]
          },
          "metadata": {},
          "execution_count": 10
        }
      ],
      "source": [
        "NER_ontology_train_df.head(3)"
      ]
    },
    {
      "cell_type": "markdown",
      "metadata": {
        "id": "EwiqQVVIS2Bz"
      },
      "source": [
        "Now our dataset only consists of positive examples. In order to also give the model some negative examples we will randomly draw 100 other entity id from the training set which do not belong to this entity, but are in the same `category` (to ensure some more or less meaningful relation)"
      ]
    },
    {
      "cell_type": "code",
      "execution_count": 11,
      "metadata": {
        "id": "8x0h2IsGUP7V"
      },
      "outputs": [],
      "source": [
        "NER_ontology_train_unique_ents_df = NER_ontology_train_df[[\"entity_id\", \"category\", \"label\"]].drop_duplicates(\"entity_id\")"
      ]
    },
    {
      "cell_type": "code",
      "execution_count": 12,
      "metadata": {
        "id": "g3F627CcUi_Z"
      },
      "outputs": [],
      "source": [
        "NER_ontology_train_unique_ents_df[\"synonym\"] = NER_ontology_train_unique_ents_df.apply(lambda x: np.random.choice(NER_ontology_train_df[(NER_ontology_train_df.category==x.category)&(NER_ontology_train_df.entity_id!=x.entity_id)].entity_id.unique(),100, replace=True), axis=1)"
      ]
    },
    {
      "cell_type": "code",
      "execution_count": 13,
      "metadata": {
        "id": "Gt0mWf0DbB0G"
      },
      "outputs": [],
      "source": [
        "NER_ontology_train_unique_ents_df[\"is_synonym\"]=0"
      ]
    },
    {
      "cell_type": "code",
      "execution_count": 14,
      "metadata": {
        "id": "UNWHz--xbBxO"
      },
      "outputs": [],
      "source": [
        "NER_ontology_train_unique_ents_df = NER_ontology_train_unique_ents_df.explode(\"synonym\")"
      ]
    },
    {
      "cell_type": "code",
      "execution_count": 15,
      "metadata": {
        "id": "KnoVZM3PPzAp"
      },
      "outputs": [],
      "source": [
        "# Drop duplicates (because we draw with replacement)\n",
        "NER_ontology_train_unique_ents_df = NER_ontology_train_unique_ents_df.drop_duplicates()"
      ]
    },
    {
      "cell_type": "code",
      "execution_count": 16,
      "metadata": {
        "colab": {
          "base_uri": "https://localhost:8080/",
          "height": 423
        },
        "id": "fnVhL7ouelq2",
        "outputId": "2b958e65-6476-42e6-8f1d-80962bdb7533"
      },
      "outputs": [
        {
          "output_type": "execute_result",
          "data": {
            "text/plain": [
              "                    entity_id                category     label  \\\n",
              "1                    IS topic  domain specific entity     TOPIC   \n",
              "1                    IS topic  domain specific entity     TOPIC   \n",
              "1                    IS topic  domain specific entity     TOPIC   \n",
              "1                    IS topic  domain specific entity     TOPIC   \n",
              "1                    IS topic  domain specific entity     TOPIC   \n",
              "...                       ...                     ...       ...   \n",
              "16870  common-method variance   methodological entity  VALIDITY   \n",
              "16870  common-method variance   methodological entity  VALIDITY   \n",
              "16870  common-method variance   methodological entity  VALIDITY   \n",
              "16870  common-method variance   methodological entity  VALIDITY   \n",
              "16870  common-method variance   methodological entity  VALIDITY   \n",
              "\n",
              "                                 synonym  is_synonym  \n",
              "1                                   Hulu           0  \n",
              "1                     electronic finance           0  \n",
              "1                            news agency           0  \n",
              "1                      document database           0  \n",
              "1                       foundry industry           0  \n",
              "...                                  ...         ...  \n",
              "16870   goodness of fit statistical test           0  \n",
              "16870                   Student's t-test           0  \n",
              "16870                               BERT           0  \n",
              "16870  instrumental variables estimation           0  \n",
              "16870               area under the curve           0  \n",
              "\n",
              "[177860 rows x 5 columns]"
            ],
            "text/html": [
              "\n",
              "  <div id=\"df-1d20b10f-310b-45f9-b460-5d9dc7dde98d\">\n",
              "    <div class=\"colab-df-container\">\n",
              "      <div>\n",
              "<style scoped>\n",
              "    .dataframe tbody tr th:only-of-type {\n",
              "        vertical-align: middle;\n",
              "    }\n",
              "\n",
              "    .dataframe tbody tr th {\n",
              "        vertical-align: top;\n",
              "    }\n",
              "\n",
              "    .dataframe thead th {\n",
              "        text-align: right;\n",
              "    }\n",
              "</style>\n",
              "<table border=\"1\" class=\"dataframe\">\n",
              "  <thead>\n",
              "    <tr style=\"text-align: right;\">\n",
              "      <th></th>\n",
              "      <th>entity_id</th>\n",
              "      <th>category</th>\n",
              "      <th>label</th>\n",
              "      <th>synonym</th>\n",
              "      <th>is_synonym</th>\n",
              "    </tr>\n",
              "  </thead>\n",
              "  <tbody>\n",
              "    <tr>\n",
              "      <th>1</th>\n",
              "      <td>IS topic</td>\n",
              "      <td>domain specific entity</td>\n",
              "      <td>TOPIC</td>\n",
              "      <td>Hulu</td>\n",
              "      <td>0</td>\n",
              "    </tr>\n",
              "    <tr>\n",
              "      <th>1</th>\n",
              "      <td>IS topic</td>\n",
              "      <td>domain specific entity</td>\n",
              "      <td>TOPIC</td>\n",
              "      <td>electronic finance</td>\n",
              "      <td>0</td>\n",
              "    </tr>\n",
              "    <tr>\n",
              "      <th>1</th>\n",
              "      <td>IS topic</td>\n",
              "      <td>domain specific entity</td>\n",
              "      <td>TOPIC</td>\n",
              "      <td>news agency</td>\n",
              "      <td>0</td>\n",
              "    </tr>\n",
              "    <tr>\n",
              "      <th>1</th>\n",
              "      <td>IS topic</td>\n",
              "      <td>domain specific entity</td>\n",
              "      <td>TOPIC</td>\n",
              "      <td>document database</td>\n",
              "      <td>0</td>\n",
              "    </tr>\n",
              "    <tr>\n",
              "      <th>1</th>\n",
              "      <td>IS topic</td>\n",
              "      <td>domain specific entity</td>\n",
              "      <td>TOPIC</td>\n",
              "      <td>foundry industry</td>\n",
              "      <td>0</td>\n",
              "    </tr>\n",
              "    <tr>\n",
              "      <th>...</th>\n",
              "      <td>...</td>\n",
              "      <td>...</td>\n",
              "      <td>...</td>\n",
              "      <td>...</td>\n",
              "      <td>...</td>\n",
              "    </tr>\n",
              "    <tr>\n",
              "      <th>16870</th>\n",
              "      <td>common-method variance</td>\n",
              "      <td>methodological entity</td>\n",
              "      <td>VALIDITY</td>\n",
              "      <td>goodness of fit statistical test</td>\n",
              "      <td>0</td>\n",
              "    </tr>\n",
              "    <tr>\n",
              "      <th>16870</th>\n",
              "      <td>common-method variance</td>\n",
              "      <td>methodological entity</td>\n",
              "      <td>VALIDITY</td>\n",
              "      <td>Student's t-test</td>\n",
              "      <td>0</td>\n",
              "    </tr>\n",
              "    <tr>\n",
              "      <th>16870</th>\n",
              "      <td>common-method variance</td>\n",
              "      <td>methodological entity</td>\n",
              "      <td>VALIDITY</td>\n",
              "      <td>BERT</td>\n",
              "      <td>0</td>\n",
              "    </tr>\n",
              "    <tr>\n",
              "      <th>16870</th>\n",
              "      <td>common-method variance</td>\n",
              "      <td>methodological entity</td>\n",
              "      <td>VALIDITY</td>\n",
              "      <td>instrumental variables estimation</td>\n",
              "      <td>0</td>\n",
              "    </tr>\n",
              "    <tr>\n",
              "      <th>16870</th>\n",
              "      <td>common-method variance</td>\n",
              "      <td>methodological entity</td>\n",
              "      <td>VALIDITY</td>\n",
              "      <td>area under the curve</td>\n",
              "      <td>0</td>\n",
              "    </tr>\n",
              "  </tbody>\n",
              "</table>\n",
              "<p>177860 rows × 5 columns</p>\n",
              "</div>\n",
              "      <button class=\"colab-df-convert\" onclick=\"convertToInteractive('df-1d20b10f-310b-45f9-b460-5d9dc7dde98d')\"\n",
              "              title=\"Convert this dataframe to an interactive table.\"\n",
              "              style=\"display:none;\">\n",
              "        \n",
              "  <svg xmlns=\"http://www.w3.org/2000/svg\" height=\"24px\"viewBox=\"0 0 24 24\"\n",
              "       width=\"24px\">\n",
              "    <path d=\"M0 0h24v24H0V0z\" fill=\"none\"/>\n",
              "    <path d=\"M18.56 5.44l.94 2.06.94-2.06 2.06-.94-2.06-.94-.94-2.06-.94 2.06-2.06.94zm-11 1L8.5 8.5l.94-2.06 2.06-.94-2.06-.94L8.5 2.5l-.94 2.06-2.06.94zm10 10l.94 2.06.94-2.06 2.06-.94-2.06-.94-.94-2.06-.94 2.06-2.06.94z\"/><path d=\"M17.41 7.96l-1.37-1.37c-.4-.4-.92-.59-1.43-.59-.52 0-1.04.2-1.43.59L10.3 9.45l-7.72 7.72c-.78.78-.78 2.05 0 2.83L4 21.41c.39.39.9.59 1.41.59.51 0 1.02-.2 1.41-.59l7.78-7.78 2.81-2.81c.8-.78.8-2.07 0-2.86zM5.41 20L4 18.59l7.72-7.72 1.47 1.35L5.41 20z\"/>\n",
              "  </svg>\n",
              "      </button>\n",
              "      \n",
              "  <style>\n",
              "    .colab-df-container {\n",
              "      display:flex;\n",
              "      flex-wrap:wrap;\n",
              "      gap: 12px;\n",
              "    }\n",
              "\n",
              "    .colab-df-convert {\n",
              "      background-color: #E8F0FE;\n",
              "      border: none;\n",
              "      border-radius: 50%;\n",
              "      cursor: pointer;\n",
              "      display: none;\n",
              "      fill: #1967D2;\n",
              "      height: 32px;\n",
              "      padding: 0 0 0 0;\n",
              "      width: 32px;\n",
              "    }\n",
              "\n",
              "    .colab-df-convert:hover {\n",
              "      background-color: #E2EBFA;\n",
              "      box-shadow: 0px 1px 2px rgba(60, 64, 67, 0.3), 0px 1px 3px 1px rgba(60, 64, 67, 0.15);\n",
              "      fill: #174EA6;\n",
              "    }\n",
              "\n",
              "    [theme=dark] .colab-df-convert {\n",
              "      background-color: #3B4455;\n",
              "      fill: #D2E3FC;\n",
              "    }\n",
              "\n",
              "    [theme=dark] .colab-df-convert:hover {\n",
              "      background-color: #434B5C;\n",
              "      box-shadow: 0px 1px 3px 1px rgba(0, 0, 0, 0.15);\n",
              "      filter: drop-shadow(0px 1px 2px rgba(0, 0, 0, 0.3));\n",
              "      fill: #FFFFFF;\n",
              "    }\n",
              "  </style>\n",
              "\n",
              "      <script>\n",
              "        const buttonEl =\n",
              "          document.querySelector('#df-1d20b10f-310b-45f9-b460-5d9dc7dde98d button.colab-df-convert');\n",
              "        buttonEl.style.display =\n",
              "          google.colab.kernel.accessAllowed ? 'block' : 'none';\n",
              "\n",
              "        async function convertToInteractive(key) {\n",
              "          const element = document.querySelector('#df-1d20b10f-310b-45f9-b460-5d9dc7dde98d');\n",
              "          const dataTable =\n",
              "            await google.colab.kernel.invokeFunction('convertToInteractive',\n",
              "                                                     [key], {});\n",
              "          if (!dataTable) return;\n",
              "\n",
              "          const docLinkHtml = 'Like what you see? Visit the ' +\n",
              "            '<a target=\"_blank\" href=https://colab.research.google.com/notebooks/data_table.ipynb>data table notebook</a>'\n",
              "            + ' to learn more about interactive tables.';\n",
              "          element.innerHTML = '';\n",
              "          dataTable['output_type'] = 'display_data';\n",
              "          await google.colab.output.renderOutput(dataTable, element);\n",
              "          const docLink = document.createElement('div');\n",
              "          docLink.innerHTML = docLinkHtml;\n",
              "          element.appendChild(docLink);\n",
              "        }\n",
              "      </script>\n",
              "    </div>\n",
              "  </div>\n",
              "  "
            ]
          },
          "metadata": {},
          "execution_count": 16
        }
      ],
      "source": [
        "NER_ontology_train_unique_ents_df"
      ]
    },
    {
      "cell_type": "code",
      "execution_count": 17,
      "metadata": {
        "id": "K8tJieXGbBt5"
      },
      "outputs": [],
      "source": [
        "NER_ontology_train_df = pd.concat([NER_ontology_train_df, NER_ontology_train_unique_ents_df], axis=0).reset_index(drop=True)"
      ]
    },
    {
      "cell_type": "code",
      "execution_count": 18,
      "metadata": {
        "id": "Rkf3651BbBi8"
      },
      "outputs": [],
      "source": [
        "#shuffle\n",
        "NER_ontology_train_df = NER_ontology_train_df.sample(frac=1)"
      ]
    },
    {
      "cell_type": "code",
      "execution_count": 19,
      "metadata": {
        "colab": {
          "base_uri": "https://localhost:8080/"
        },
        "id": "VDNQMPdJdI-p",
        "outputId": "d86617e6-5519-4c2f-c3ec-fd6cc6bc7e5d"
      },
      "outputs": [
        {
          "output_type": "execute_result",
          "data": {
            "text/plain": [
              "1    386914\n",
              "0    177860\n",
              "Name: is_synonym, dtype: int64"
            ]
          },
          "metadata": {},
          "execution_count": 19
        }
      ],
      "source": [
        "NER_ontology_train_df.is_synonym.value_counts()"
      ]
    },
    {
      "cell_type": "code",
      "execution_count": 20,
      "metadata": {
        "colab": {
          "base_uri": "https://localhost:8080/",
          "height": 537
        },
        "id": "z9l_-rWdk3mo",
        "outputId": "d8524ccb-3d82-46a9-d48e-794644ad34c6"
      },
      "outputs": [
        {
          "output_type": "execute_result",
          "data": {
            "text/plain": [
              "                         entity_id                category              label  \\\n",
              "410538             digital economy  domain specific entity              TOPIC   \n",
              "60151       individual participant            study object       PARTICIPANTS   \n",
              "241573      individual participant            study object       PARTICIPANTS   \n",
              "217700      individual participant            study object       PARTICIPANTS   \n",
              "228572      individual participant            study object       PARTICIPANTS   \n",
              "...                            ...                     ...                ...   \n",
              "524184              web technology  domain specific entity         TECHNOLOGY   \n",
              "130190      individual participant            study object       PARTICIPANTS   \n",
              "260726  organizational participant            study object       PARTICIPANTS   \n",
              "79879       individual participant            study object       PARTICIPANTS   \n",
              "337680                      survey         research method  COLLECTION_METHOD   \n",
              "\n",
              "                                                  synonym  is_synonym  \n",
              "410538                                   banking industry           0  \n",
              "60151          information and research research managers           1  \n",
              "241573                       junior financial agents ( )S           1  \n",
              "217700                    junior and IS financial manager           1  \n",
              "228572             research and business knowledge worker           1  \n",
              "...                                                   ...         ...  \n",
              "524184                       Advanced Encryption Standard           0  \n",
              "130190              business and chief business assistant           1  \n",
              "260726                        international medium up ( )           1  \n",
              "79879                       business and research bidders           1  \n",
              "337680  standardized based email questionnaire methodo...           1  \n",
              "\n",
              "[564774 rows x 5 columns]"
            ],
            "text/html": [
              "\n",
              "  <div id=\"df-7b79792e-a020-4c83-a521-42832b10f51b\">\n",
              "    <div class=\"colab-df-container\">\n",
              "      <div>\n",
              "<style scoped>\n",
              "    .dataframe tbody tr th:only-of-type {\n",
              "        vertical-align: middle;\n",
              "    }\n",
              "\n",
              "    .dataframe tbody tr th {\n",
              "        vertical-align: top;\n",
              "    }\n",
              "\n",
              "    .dataframe thead th {\n",
              "        text-align: right;\n",
              "    }\n",
              "</style>\n",
              "<table border=\"1\" class=\"dataframe\">\n",
              "  <thead>\n",
              "    <tr style=\"text-align: right;\">\n",
              "      <th></th>\n",
              "      <th>entity_id</th>\n",
              "      <th>category</th>\n",
              "      <th>label</th>\n",
              "      <th>synonym</th>\n",
              "      <th>is_synonym</th>\n",
              "    </tr>\n",
              "  </thead>\n",
              "  <tbody>\n",
              "    <tr>\n",
              "      <th>410538</th>\n",
              "      <td>digital economy</td>\n",
              "      <td>domain specific entity</td>\n",
              "      <td>TOPIC</td>\n",
              "      <td>banking industry</td>\n",
              "      <td>0</td>\n",
              "    </tr>\n",
              "    <tr>\n",
              "      <th>60151</th>\n",
              "      <td>individual participant</td>\n",
              "      <td>study object</td>\n",
              "      <td>PARTICIPANTS</td>\n",
              "      <td>information and research research managers</td>\n",
              "      <td>1</td>\n",
              "    </tr>\n",
              "    <tr>\n",
              "      <th>241573</th>\n",
              "      <td>individual participant</td>\n",
              "      <td>study object</td>\n",
              "      <td>PARTICIPANTS</td>\n",
              "      <td>junior financial agents ( )S</td>\n",
              "      <td>1</td>\n",
              "    </tr>\n",
              "    <tr>\n",
              "      <th>217700</th>\n",
              "      <td>individual participant</td>\n",
              "      <td>study object</td>\n",
              "      <td>PARTICIPANTS</td>\n",
              "      <td>junior and IS financial manager</td>\n",
              "      <td>1</td>\n",
              "    </tr>\n",
              "    <tr>\n",
              "      <th>228572</th>\n",
              "      <td>individual participant</td>\n",
              "      <td>study object</td>\n",
              "      <td>PARTICIPANTS</td>\n",
              "      <td>research and business knowledge worker</td>\n",
              "      <td>1</td>\n",
              "    </tr>\n",
              "    <tr>\n",
              "      <th>...</th>\n",
              "      <td>...</td>\n",
              "      <td>...</td>\n",
              "      <td>...</td>\n",
              "      <td>...</td>\n",
              "      <td>...</td>\n",
              "    </tr>\n",
              "    <tr>\n",
              "      <th>524184</th>\n",
              "      <td>web technology</td>\n",
              "      <td>domain specific entity</td>\n",
              "      <td>TECHNOLOGY</td>\n",
              "      <td>Advanced Encryption Standard</td>\n",
              "      <td>0</td>\n",
              "    </tr>\n",
              "    <tr>\n",
              "      <th>130190</th>\n",
              "      <td>individual participant</td>\n",
              "      <td>study object</td>\n",
              "      <td>PARTICIPANTS</td>\n",
              "      <td>business and chief business assistant</td>\n",
              "      <td>1</td>\n",
              "    </tr>\n",
              "    <tr>\n",
              "      <th>260726</th>\n",
              "      <td>organizational participant</td>\n",
              "      <td>study object</td>\n",
              "      <td>PARTICIPANTS</td>\n",
              "      <td>international medium up ( )</td>\n",
              "      <td>1</td>\n",
              "    </tr>\n",
              "    <tr>\n",
              "      <th>79879</th>\n",
              "      <td>individual participant</td>\n",
              "      <td>study object</td>\n",
              "      <td>PARTICIPANTS</td>\n",
              "      <td>business and research bidders</td>\n",
              "      <td>1</td>\n",
              "    </tr>\n",
              "    <tr>\n",
              "      <th>337680</th>\n",
              "      <td>survey</td>\n",
              "      <td>research method</td>\n",
              "      <td>COLLECTION_METHOD</td>\n",
              "      <td>standardized based email questionnaire methodo...</td>\n",
              "      <td>1</td>\n",
              "    </tr>\n",
              "  </tbody>\n",
              "</table>\n",
              "<p>564774 rows × 5 columns</p>\n",
              "</div>\n",
              "      <button class=\"colab-df-convert\" onclick=\"convertToInteractive('df-7b79792e-a020-4c83-a521-42832b10f51b')\"\n",
              "              title=\"Convert this dataframe to an interactive table.\"\n",
              "              style=\"display:none;\">\n",
              "        \n",
              "  <svg xmlns=\"http://www.w3.org/2000/svg\" height=\"24px\"viewBox=\"0 0 24 24\"\n",
              "       width=\"24px\">\n",
              "    <path d=\"M0 0h24v24H0V0z\" fill=\"none\"/>\n",
              "    <path d=\"M18.56 5.44l.94 2.06.94-2.06 2.06-.94-2.06-.94-.94-2.06-.94 2.06-2.06.94zm-11 1L8.5 8.5l.94-2.06 2.06-.94-2.06-.94L8.5 2.5l-.94 2.06-2.06.94zm10 10l.94 2.06.94-2.06 2.06-.94-2.06-.94-.94-2.06-.94 2.06-2.06.94z\"/><path d=\"M17.41 7.96l-1.37-1.37c-.4-.4-.92-.59-1.43-.59-.52 0-1.04.2-1.43.59L10.3 9.45l-7.72 7.72c-.78.78-.78 2.05 0 2.83L4 21.41c.39.39.9.59 1.41.59.51 0 1.02-.2 1.41-.59l7.78-7.78 2.81-2.81c.8-.78.8-2.07 0-2.86zM5.41 20L4 18.59l7.72-7.72 1.47 1.35L5.41 20z\"/>\n",
              "  </svg>\n",
              "      </button>\n",
              "      \n",
              "  <style>\n",
              "    .colab-df-container {\n",
              "      display:flex;\n",
              "      flex-wrap:wrap;\n",
              "      gap: 12px;\n",
              "    }\n",
              "\n",
              "    .colab-df-convert {\n",
              "      background-color: #E8F0FE;\n",
              "      border: none;\n",
              "      border-radius: 50%;\n",
              "      cursor: pointer;\n",
              "      display: none;\n",
              "      fill: #1967D2;\n",
              "      height: 32px;\n",
              "      padding: 0 0 0 0;\n",
              "      width: 32px;\n",
              "    }\n",
              "\n",
              "    .colab-df-convert:hover {\n",
              "      background-color: #E2EBFA;\n",
              "      box-shadow: 0px 1px 2px rgba(60, 64, 67, 0.3), 0px 1px 3px 1px rgba(60, 64, 67, 0.15);\n",
              "      fill: #174EA6;\n",
              "    }\n",
              "\n",
              "    [theme=dark] .colab-df-convert {\n",
              "      background-color: #3B4455;\n",
              "      fill: #D2E3FC;\n",
              "    }\n",
              "\n",
              "    [theme=dark] .colab-df-convert:hover {\n",
              "      background-color: #434B5C;\n",
              "      box-shadow: 0px 1px 3px 1px rgba(0, 0, 0, 0.15);\n",
              "      filter: drop-shadow(0px 1px 2px rgba(0, 0, 0, 0.3));\n",
              "      fill: #FFFFFF;\n",
              "    }\n",
              "  </style>\n",
              "\n",
              "      <script>\n",
              "        const buttonEl =\n",
              "          document.querySelector('#df-7b79792e-a020-4c83-a521-42832b10f51b button.colab-df-convert');\n",
              "        buttonEl.style.display =\n",
              "          google.colab.kernel.accessAllowed ? 'block' : 'none';\n",
              "\n",
              "        async function convertToInteractive(key) {\n",
              "          const element = document.querySelector('#df-7b79792e-a020-4c83-a521-42832b10f51b');\n",
              "          const dataTable =\n",
              "            await google.colab.kernel.invokeFunction('convertToInteractive',\n",
              "                                                     [key], {});\n",
              "          if (!dataTable) return;\n",
              "\n",
              "          const docLinkHtml = 'Like what you see? Visit the ' +\n",
              "            '<a target=\"_blank\" href=https://colab.research.google.com/notebooks/data_table.ipynb>data table notebook</a>'\n",
              "            + ' to learn more about interactive tables.';\n",
              "          element.innerHTML = '';\n",
              "          dataTable['output_type'] = 'display_data';\n",
              "          await google.colab.output.renderOutput(dataTable, element);\n",
              "          const docLink = document.createElement('div');\n",
              "          docLink.innerHTML = docLinkHtml;\n",
              "          element.appendChild(docLink);\n",
              "        }\n",
              "      </script>\n",
              "    </div>\n",
              "  </div>\n",
              "  "
            ]
          },
          "metadata": {},
          "execution_count": 20
        }
      ],
      "source": [
        "NER_ontology_train_df"
      ]
    },
    {
      "cell_type": "code",
      "execution_count": 21,
      "metadata": {
        "id": "Cgc-S6RsPzAr"
      },
      "outputs": [],
      "source": [
        "#NER_ontology_train_df.to_csv(data_path_group+\"NER/Synonym_Dataset/NER_ontology_train_df_syn.csv\")"
      ]
    },
    {
      "cell_type": "markdown",
      "metadata": {
        "id": "c7JTCQ5yPzAr"
      },
      "source": [
        "#### Create function"
      ]
    },
    {
      "cell_type": "markdown",
      "metadata": {
        "id": "nKfOLhdRPzAr"
      },
      "source": [
        "Since this is working now. Let's put it into a function to reuse later: "
      ]
    },
    {
      "cell_type": "code",
      "execution_count": 4,
      "metadata": {
        "id": "0I7wjSEBPzAr"
      },
      "outputs": [],
      "source": [
        "def rand_sample_false_syn(x, ontology_df):\n",
        "\n",
        "    try:\n",
        "        return np.random.choice(ontology_df[\n",
        "                                (ontology_df.category==x.category)&\n",
        "                                (ontology_df.entity_id!=x.entity_id)\n",
        "                                ]\n",
        "                            .entity_id.unique(),100, replace=True)    \n",
        "    \n",
        "    except:\n",
        "        return np.random.choice(ontology_df[\n",
        "                        #(ontology_df.category==x.category)&\n",
        "                        (ontology_df.entity_id!=x.entity_id)\n",
        "                        ]\n",
        "                    .entity_id.unique(),100, replace=True)    "
      ]
    },
    {
      "cell_type": "code",
      "execution_count": 5,
      "metadata": {
        "id": "OqQk_83yPzAr"
      },
      "outputs": [],
      "source": [
        "def create_synonyms_dataset(ontology_df, return_false_syn=True):\n",
        "    \n",
        "    #Filter out identical rows (main entity and synonym is the same word/phrase)\n",
        "    ontology_df = ontology_df.loc[ontology_df.entity_id!=ontology_df.synonym]\n",
        "\n",
        "    # Add new column to label whether entity_id and synonym are indeed synonmys\n",
        "    ontology_df[\"is_synonym\"] = 1\n",
        "\n",
        "    ontology_false_synonyms_df = ontology_df[[\"entity_id\", \"category\", \"label\"]].drop_duplicates(\"entity_id\")\n",
        "\n",
        "    ontology_false_synonyms_df[\"synonym\"] = ontology_false_synonyms_df.apply(\n",
        "                                        lambda x: rand_sample_false_syn(x,ontology_df), axis=1)\n",
        "\n",
        "\n",
        "    ontology_false_synonyms_df[\"is_synonym\"]=0\n",
        "\n",
        "    ontology_false_synonyms_df = ontology_false_synonyms_df.explode(\"synonym\")\n",
        "\n",
        "    # Drop duplicates (because we draw with replacement)\n",
        "    ontology_false_synonyms_df = ontology_false_synonyms_df.drop_duplicates()\n",
        "\n",
        "    ontology_df = pd.concat([ontology_df, ontology_false_synonyms_df], axis=0).reset_index(drop=True).sample(frac=1)\n",
        "\n",
        "    if return_false_syn==False:\n",
        "        return ontology_df\n",
        "\n",
        "    return ontology_df, ontology_false_synonyms_df"
      ]
    },
    {
      "cell_type": "code",
      "execution_count": 24,
      "metadata": {
        "id": "rL1n2925PzAs",
        "outputId": "46dac15e-df79-4fd4-d771-c9b31a3a15b9",
        "colab": {
          "base_uri": "https://localhost:8080/"
        }
      },
      "outputs": [
        {
          "output_type": "stream",
          "name": "stderr",
          "text": [
            "/usr/local/lib/python3.7/dist-packages/ipykernel_launcher.py:7: SettingWithCopyWarning: \n",
            "A value is trying to be set on a copy of a slice from a DataFrame.\n",
            "Try using .loc[row_indexer,col_indexer] = value instead\n",
            "\n",
            "See the caveats in the documentation: https://pandas.pydata.org/pandas-docs/stable/user_guide/indexing.html#returning-a-view-versus-a-copy\n",
            "  import sys\n"
          ]
        }
      ],
      "source": [
        "NER_ontology_val_df_syn, ontology_false_syn_val_df = create_synonyms_dataset(NER_ontology_val_df)\n",
        "NER_ontology_test_df_syn, ontology_false_syn_test_df = create_synonyms_dataset(NER_ontology_test_df)"
      ]
    },
    {
      "cell_type": "code",
      "execution_count": 25,
      "metadata": {
        "id": "nsY9WOqlPzAs"
      },
      "outputs": [],
      "source": [
        "#NER_ontology_val_df_syn.to_csv(data_path_group+\"NER/Synonym_Dataset/NER_ontology_val_df_syn.csv\")\n",
        "#NER_ontology_test_df_syn.to_csv(data_path_group+\"NER/Synonym_Dataset/NER_ontology_test_df_syn.csv\")"
      ]
    },
    {
      "cell_type": "markdown",
      "metadata": {
        "id": "gb6AAeGulCmK"
      },
      "source": [
        "### Idea 2: Triplet dataset\n",
        "Triplet dataset with \"main\" entity as anchor, synonyms as positives and other entities as negatives"
      ]
    },
    {
      "cell_type": "code",
      "execution_count": 26,
      "metadata": {
        "id": "rx9Cg8cek3fy"
      },
      "outputs": [],
      "source": [
        "NER_ontology_train_triplets = NER_ontology_train_df.merge(NER_ontology_train_unique_ents_df, how=\"inner\", on=\"entity_id\")"
      ]
    },
    {
      "cell_type": "code",
      "execution_count": 27,
      "metadata": {
        "id": "8Tt9005jPzAt"
      },
      "outputs": [],
      "source": [
        "NER_ontology_train_triplets = NER_ontology_train_triplets.loc[NER_ontology_train_triplets.is_synonym_x==1]"
      ]
    },
    {
      "cell_type": "code",
      "execution_count": 28,
      "metadata": {
        "id": "DxD_BaCsPzAu",
        "outputId": "89680d1e-e623-475d-dc1c-0b821fd66740",
        "colab": {
          "base_uri": "https://localhost:8080/"
        }
      },
      "outputs": [
        {
          "output_type": "execute_result",
          "data": {
            "text/plain": [
              "(17103121, 9)"
            ]
          },
          "metadata": {},
          "execution_count": 28
        }
      ],
      "source": [
        "NER_ontology_train_triplets.shape"
      ]
    },
    {
      "cell_type": "markdown",
      "metadata": {
        "id": "Y5dDe5FcPzAu"
      },
      "source": [
        "This would be a very big triplet dataset ^^. Maybe lets just keep one triplet per main-entity and real_synonym pair ..."
      ]
    },
    {
      "cell_type": "code",
      "execution_count": 29,
      "metadata": {
        "id": "3UhG92gTPzAu"
      },
      "outputs": [],
      "source": [
        "# shuffle and then only keep first row for duplicate entity id and synonym_x\n",
        "NER_ontology_train_triplets = NER_ontology_train_triplets.sample(frac=1).drop_duplicates([\"entity_id\", \"synonym_x\"]).loc[:,[\"entity_id\", \"synonym_x\", \"synonym_y\"]].reset_index(drop=True)"
      ]
    },
    {
      "cell_type": "code",
      "execution_count": 30,
      "metadata": {
        "id": "b0RXvGTVPzAu",
        "outputId": "662cf8d9-471a-4713-f3d1-8f587e129755",
        "colab": {
          "base_uri": "https://localhost:8080/"
        }
      },
      "outputs": [
        {
          "output_type": "execute_result",
          "data": {
            "text/plain": [
              "(386914, 3)"
            ]
          },
          "metadata": {},
          "execution_count": 30
        }
      ],
      "source": [
        "# Much better\n",
        "NER_ontology_train_triplets.shape"
      ]
    },
    {
      "cell_type": "code",
      "execution_count": 31,
      "metadata": {
        "id": "jXFOBlX8PzAu"
      },
      "outputs": [],
      "source": [
        "# Rename columns\n",
        "NER_ontology_train_triplets.columns = [\"entity_id\", \"positive_example\", \"negative_example\"]"
      ]
    },
    {
      "cell_type": "code",
      "execution_count": 32,
      "metadata": {
        "id": "ZUj6BMV6PzAv",
        "outputId": "e8f14f18-9c93-474a-bd61-23e165d6fc23",
        "colab": {
          "base_uri": "https://localhost:8080/"
        }
      },
      "outputs": [
        {
          "output_type": "execute_result",
          "data": {
            "text/plain": [
              "(386914, 3)"
            ]
          },
          "metadata": {},
          "execution_count": 32
        }
      ],
      "source": [
        "NER_ontology_train_triplets.shape"
      ]
    },
    {
      "cell_type": "code",
      "execution_count": 33,
      "metadata": {
        "id": "d2QgDeMxPzAv",
        "outputId": "4a8d6852-26e5-4036-9464-f5ed55e3cb58",
        "colab": {
          "base_uri": "https://localhost:8080/"
        }
      },
      "outputs": [
        {
          "output_type": "execute_result",
          "data": {
            "text/plain": [
              "individual participant                           228593\n",
              "survey                                            42097\n",
              "three validities                                  16001\n",
              "online learning system                            10074\n",
              "communication service infrastructure               8931\n",
              "                                                  ...  \n",
              "web crawling                                          1\n",
              "wide area network                                     1\n",
              "social penetration theory                             1\n",
              "structured systems analysis and design method         1\n",
              "automated clearing house                              1\n",
              "Name: entity_id, Length: 1975, dtype: int64"
            ]
          },
          "metadata": {},
          "execution_count": 33
        }
      ],
      "source": [
        "NER_ontology_train_triplets.entity_id.value_counts()"
      ]
    },
    {
      "cell_type": "markdown",
      "metadata": {
        "id": "0IMWS_EOPzAv"
      },
      "source": [
        "A lot better than before, but there are some entities which appear way more often than others! (Because they have a very high number of synonyms). Let's further decrease the size of this dataset by dropping duplicates of entity_id and negative example"
      ]
    },
    {
      "cell_type": "code",
      "execution_count": 34,
      "metadata": {
        "id": "Df6IJJIuPzAw"
      },
      "outputs": [],
      "source": [
        "NER_ontology_train_triplets = NER_ontology_train_triplets.drop_duplicates([\"entity_id\", \"negative_example\"])"
      ]
    },
    {
      "cell_type": "code",
      "execution_count": 35,
      "metadata": {
        "id": "Z9CBPEv2PzAw",
        "outputId": "e36a29a5-5f5e-43f9-85a3-96b8e740b7fb",
        "colab": {
          "base_uri": "https://localhost:8080/",
          "height": 282
        }
      },
      "outputs": [
        {
          "output_type": "execute_result",
          "data": {
            "text/plain": [
              "<matplotlib.axes._subplots.AxesSubplot at 0x7fb5988c51d0>"
            ]
          },
          "metadata": {},
          "execution_count": 35
        },
        {
          "output_type": "display_data",
          "data": {
            "text/plain": [
              "<Figure size 432x288 with 1 Axes>"
            ],
            "image/png": "[encoded data removed]"
          },
          "metadata": {
            "needs_background": "light"
          }
        }
      ],
      "source": [
        "NER_ontology_train_triplets.entity_id.value_counts().plot()"
      ]
    },
    {
      "cell_type": "markdown",
      "metadata": {
        "id": "o4SGUdy1PzAw"
      },
      "source": [
        "Still not perfectly balanced, but definetly an improvement to before"
      ]
    },
    {
      "cell_type": "code",
      "execution_count": 36,
      "metadata": {
        "id": "0JpJGS0RPzAw",
        "outputId": "436d6955-7d5e-4608-d988-06ac4227af85",
        "colab": {
          "base_uri": "https://localhost:8080/"
        }
      },
      "outputs": [
        {
          "output_type": "execute_result",
          "data": {
            "text/plain": [
              "(24205, 3)"
            ]
          },
          "metadata": {},
          "execution_count": 36
        }
      ],
      "source": [
        "NER_ontology_train_triplets.shape"
      ]
    },
    {
      "cell_type": "code",
      "execution_count": 38,
      "metadata": {
        "id": "Ekfh8mftPzAw"
      },
      "outputs": [],
      "source": [
        "#NER_ontology_train_triplets.to_csv(data_path_group+\"NER/Triplets_Dataset/NER_ontology_train_triplets.csv\")"
      ]
    },
    {
      "cell_type": "markdown",
      "metadata": {
        "id": "A4jEkNQdPzAx"
      },
      "source": [
        "#### Create function"
      ]
    },
    {
      "cell_type": "markdown",
      "metadata": {
        "id": "Jt7uR8-yPzAy"
      },
      "source": [
        "Now that this code is working as well. Let's put it into a function for future use"
      ]
    },
    {
      "cell_type": "code",
      "execution_count": 6,
      "metadata": {
        "id": "90KGp1oSPzAy"
      },
      "outputs": [],
      "source": [
        "def create_triplets_dataset(ontology_df, ontology_false_syn_df):\n",
        "\n",
        "    ontology_triplets_df = ontology_df.merge(ontology_false_syn_df, how=\"inner\", on=\"entity_id\")\n",
        "\n",
        "    ontology_triplets_df = ontology_triplets_df.loc[ontology_triplets_df.is_synonym_x==1]\n",
        "\n",
        "    ontology_triplets_df = ontology_triplets_df.sample(frac=1)\\\n",
        "                                .drop_duplicates([\"entity_id\", \"synonym_x\"])\\\n",
        "                                .loc[:,[\"entity_id\", \"synonym_x\", \"synonym_y\"]]\\\n",
        "                                .reset_index(drop=True)\n",
        "\n",
        "    # Rename columns\n",
        "    ontology_triplets_df.columns = [\"entity_id\", \"positive_example\", \"negative_example\"]\n",
        "\n",
        "    ontology_triplets_df = ontology_triplets_df.drop_duplicates([\"entity_id\", \"negative_example\"])\n",
        "\n",
        "    return ontology_triplets_df\n"
      ]
    },
    {
      "cell_type": "code",
      "execution_count": 40,
      "metadata": {
        "id": "Cal6QlFoPzAz"
      },
      "outputs": [],
      "source": [
        "NER_ontology_val_triplets = create_triplets_dataset(NER_ontology_val_df_syn, ontology_false_syn_val_df)\n",
        "NER_ontology_test_triplets = create_triplets_dataset(NER_ontology_test_df_syn, ontology_false_syn_test_df)"
      ]
    },
    {
      "cell_type": "code",
      "execution_count": 42,
      "metadata": {
        "id": "-TOnRWEYPzAz"
      },
      "outputs": [],
      "source": [
        "#NER_ontology_val_triplets.to_csv(data_path_group+\"NER/Triplets_Dataset/NER_ontology_val_triplets.csv\")\n",
        "#NER_ontology_test_triplets.to_csv(data_path_group+\"NER/Triplets_Dataset/NER_ontology_test_triplets.csv\")"
      ]
    },
    {
      "cell_type": "markdown",
      "metadata": {
        "id": "d2zR_8gKPzA0"
      },
      "source": [
        "### Idea 3: Classification dataset for each sentence"
      ]
    },
    {
      "cell_type": "markdown",
      "metadata": {
        "id": "GJDD0iejPzA0"
      },
      "source": [
        "For this Dataset we can just take the sentences from Drive and filter out all the sentences from test and val"
      ]
    },
    {
      "cell_type": "code",
      "execution_count": 42,
      "metadata": {
        "id": "5lgn_ywqPzA0"
      },
      "outputs": [],
      "source": [
        ""
      ]
    },
    {
      "cell_type": "markdown",
      "metadata": {
        "id": "sFH0ZNTiMM-U"
      },
      "source": [
        "# Task 2: Synonym Detection"
      ]
    },
    {
      "cell_type": "markdown",
      "metadata": {
        "id": "RJejxFpPNTaX"
      },
      "source": [
        "## Load data"
      ]
    },
    {
      "cell_type": "markdown",
      "metadata": {
        "id": "cMLLEvp_NTaX"
      },
      "source": [
        "#### Noun phrases"
      ]
    },
    {
      "cell_type": "code",
      "execution_count": 7,
      "metadata": {
        "id": "E7RatyS8NTaY"
      },
      "outputs": [],
      "source": [
        "SynDet_entities_train_df = pd.read_csv(data_path_group+\"SynDet/SynDet_entities_train.csv\", index_col=0)\n",
        "SynDet_entities_val_df = pd.read_csv(data_path_group+\"SynDet/SynDet_entities_val.csv\", index_col=0)\n",
        "SynDet_entities_test_df = pd.read_csv(data_path_group+\"SynDet/SynDet_entities_test.csv\", index_col=0)"
      ]
    },
    {
      "cell_type": "code",
      "execution_count": 45,
      "metadata": {
        "colab": {
          "base_uri": "https://localhost:8080/",
          "height": 206
        },
        "id": "9ivWSQ9TNTaY",
        "outputId": "c88b3b4d-b358-4091-82f6-b1772f9d3618"
      },
      "outputs": [
        {
          "output_type": "execute_result",
          "data": {
            "text/plain": [
              "          article_id   sentence_id                ent_id  \\\n",
              "13826402        4994  4994_204_223  programming language   \n",
              "13826403        4994  4994_204_223  programming language   \n",
              "13826404        4994  4994_204_223  programming language   \n",
              "13826405        4994  4994_204_223  programming language   \n",
              "13826406        4994  4994_204_223  programming language   \n",
              "\n",
              "                   noun_phrases           true_ent_id  \n",
              "13826402             management                     0  \n",
              "13826403              databases                     0  \n",
              "13826404  programming languages  programming language  \n",
              "13826405          globalization                     0  \n",
              "13826406            IS.ABSTRACT                     0  "
            ],
            "text/html": [
              "\n",
              "  <div id=\"df-aa6c13be-c2e2-44ca-b27d-3d65aeda5490\">\n",
              "    <div class=\"colab-df-container\">\n",
              "      <div>\n",
              "<style scoped>\n",
              "    .dataframe tbody tr th:only-of-type {\n",
              "        vertical-align: middle;\n",
              "    }\n",
              "\n",
              "    .dataframe tbody tr th {\n",
              "        vertical-align: top;\n",
              "    }\n",
              "\n",
              "    .dataframe thead th {\n",
              "        text-align: right;\n",
              "    }\n",
              "</style>\n",
              "<table border=\"1\" class=\"dataframe\">\n",
              "  <thead>\n",
              "    <tr style=\"text-align: right;\">\n",
              "      <th></th>\n",
              "      <th>article_id</th>\n",
              "      <th>sentence_id</th>\n",
              "      <th>ent_id</th>\n",
              "      <th>noun_phrases</th>\n",
              "      <th>true_ent_id</th>\n",
              "    </tr>\n",
              "  </thead>\n",
              "  <tbody>\n",
              "    <tr>\n",
              "      <th>13826402</th>\n",
              "      <td>4994</td>\n",
              "      <td>4994_204_223</td>\n",
              "      <td>programming language</td>\n",
              "      <td>management</td>\n",
              "      <td>0</td>\n",
              "    </tr>\n",
              "    <tr>\n",
              "      <th>13826403</th>\n",
              "      <td>4994</td>\n",
              "      <td>4994_204_223</td>\n",
              "      <td>programming language</td>\n",
              "      <td>databases</td>\n",
              "      <td>0</td>\n",
              "    </tr>\n",
              "    <tr>\n",
              "      <th>13826404</th>\n",
              "      <td>4994</td>\n",
              "      <td>4994_204_223</td>\n",
              "      <td>programming language</td>\n",
              "      <td>programming languages</td>\n",
              "      <td>programming language</td>\n",
              "    </tr>\n",
              "    <tr>\n",
              "      <th>13826405</th>\n",
              "      <td>4994</td>\n",
              "      <td>4994_204_223</td>\n",
              "      <td>programming language</td>\n",
              "      <td>globalization</td>\n",
              "      <td>0</td>\n",
              "    </tr>\n",
              "    <tr>\n",
              "      <th>13826406</th>\n",
              "      <td>4994</td>\n",
              "      <td>4994_204_223</td>\n",
              "      <td>programming language</td>\n",
              "      <td>IS.ABSTRACT</td>\n",
              "      <td>0</td>\n",
              "    </tr>\n",
              "  </tbody>\n",
              "</table>\n",
              "</div>\n",
              "      <button class=\"colab-df-convert\" onclick=\"convertToInteractive('df-aa6c13be-c2e2-44ca-b27d-3d65aeda5490')\"\n",
              "              title=\"Convert this dataframe to an interactive table.\"\n",
              "              style=\"display:none;\">\n",
              "        \n",
              "  <svg xmlns=\"http://www.w3.org/2000/svg\" height=\"24px\"viewBox=\"0 0 24 24\"\n",
              "       width=\"24px\">\n",
              "    <path d=\"M0 0h24v24H0V0z\" fill=\"none\"/>\n",
              "    <path d=\"M18.56 5.44l.94 2.06.94-2.06 2.06-.94-2.06-.94-.94-2.06-.94 2.06-2.06.94zm-11 1L8.5 8.5l.94-2.06 2.06-.94-2.06-.94L8.5 2.5l-.94 2.06-2.06.94zm10 10l.94 2.06.94-2.06 2.06-.94-2.06-.94-.94-2.06-.94 2.06-2.06.94z\"/><path d=\"M17.41 7.96l-1.37-1.37c-.4-.4-.92-.59-1.43-.59-.52 0-1.04.2-1.43.59L10.3 9.45l-7.72 7.72c-.78.78-.78 2.05 0 2.83L4 21.41c.39.39.9.59 1.41.59.51 0 1.02-.2 1.41-.59l7.78-7.78 2.81-2.81c.8-.78.8-2.07 0-2.86zM5.41 20L4 18.59l7.72-7.72 1.47 1.35L5.41 20z\"/>\n",
              "  </svg>\n",
              "      </button>\n",
              "      \n",
              "  <style>\n",
              "    .colab-df-container {\n",
              "      display:flex;\n",
              "      flex-wrap:wrap;\n",
              "      gap: 12px;\n",
              "    }\n",
              "\n",
              "    .colab-df-convert {\n",
              "      background-color: #E8F0FE;\n",
              "      border: none;\n",
              "      border-radius: 50%;\n",
              "      cursor: pointer;\n",
              "      display: none;\n",
              "      fill: #1967D2;\n",
              "      height: 32px;\n",
              "      padding: 0 0 0 0;\n",
              "      width: 32px;\n",
              "    }\n",
              "\n",
              "    .colab-df-convert:hover {\n",
              "      background-color: #E2EBFA;\n",
              "      box-shadow: 0px 1px 2px rgba(60, 64, 67, 0.3), 0px 1px 3px 1px rgba(60, 64, 67, 0.15);\n",
              "      fill: #174EA6;\n",
              "    }\n",
              "\n",
              "    [theme=dark] .colab-df-convert {\n",
              "      background-color: #3B4455;\n",
              "      fill: #D2E3FC;\n",
              "    }\n",
              "\n",
              "    [theme=dark] .colab-df-convert:hover {\n",
              "      background-color: #434B5C;\n",
              "      box-shadow: 0px 1px 3px 1px rgba(0, 0, 0, 0.15);\n",
              "      filter: drop-shadow(0px 1px 2px rgba(0, 0, 0, 0.3));\n",
              "      fill: #FFFFFF;\n",
              "    }\n",
              "  </style>\n",
              "\n",
              "      <script>\n",
              "        const buttonEl =\n",
              "          document.querySelector('#df-aa6c13be-c2e2-44ca-b27d-3d65aeda5490 button.colab-df-convert');\n",
              "        buttonEl.style.display =\n",
              "          google.colab.kernel.accessAllowed ? 'block' : 'none';\n",
              "\n",
              "        async function convertToInteractive(key) {\n",
              "          const element = document.querySelector('#df-aa6c13be-c2e2-44ca-b27d-3d65aeda5490');\n",
              "          const dataTable =\n",
              "            await google.colab.kernel.invokeFunction('convertToInteractive',\n",
              "                                                     [key], {});\n",
              "          if (!dataTable) return;\n",
              "\n",
              "          const docLinkHtml = 'Like what you see? Visit the ' +\n",
              "            '<a target=\"_blank\" href=https://colab.research.google.com/notebooks/data_table.ipynb>data table notebook</a>'\n",
              "            + ' to learn more about interactive tables.';\n",
              "          element.innerHTML = '';\n",
              "          dataTable['output_type'] = 'display_data';\n",
              "          await google.colab.output.renderOutput(dataTable, element);\n",
              "          const docLink = document.createElement('div');\n",
              "          docLink.innerHTML = docLinkHtml;\n",
              "          element.appendChild(docLink);\n",
              "        }\n",
              "      </script>\n",
              "    </div>\n",
              "  </div>\n",
              "  "
            ]
          },
          "metadata": {},
          "execution_count": 45
        }
      ],
      "source": [
        "SynDet_entities_train_df.tail(5)"
      ]
    },
    {
      "cell_type": "markdown",
      "metadata": {
        "id": "pjUKvu2cNTaZ"
      },
      "source": [
        "### Ontology"
      ]
    },
    {
      "cell_type": "code",
      "execution_count": 8,
      "metadata": {
        "id": "3m-6zdMGNTaZ"
      },
      "outputs": [],
      "source": [
        "SynDet_ontology_train_df = pd.read_csv(data_path_group+\"SynDet/SynDet_ontology_train.csv\", index_col=0)\n",
        "SynDet_ontology_val_df = pd.read_csv(data_path_group+\"SynDet/SynDet_ontology_val.csv\", index_col=0)\n",
        "SynDet_ontology_test_df = pd.read_csv(data_path_group+\"SynDet/SynDet_ontology_test.csv\", index_col=0)"
      ]
    },
    {
      "cell_type": "code",
      "source": [
        "#Remove whitespaces\n",
        "SynDet_ontology_train_df[\"synonym\"] = SynDet_ontology_train_df.synonym.str.strip()\n",
        "SynDet_ontology_val_df[\"synonym\"] = SynDet_ontology_val_df.synonym.str.strip()\n",
        "SynDet_ontology_test_df[\"synonym\"] = SynDet_ontology_test_df.synonym.str.strip()"
      ],
      "metadata": {
        "id": "J-zexFb5U2c0"
      },
      "execution_count": 48,
      "outputs": []
    },
    {
      "cell_type": "code",
      "execution_count": 47,
      "metadata": {
        "colab": {
          "base_uri": "https://localhost:8080/",
          "height": 206
        },
        "id": "CvyHn9uUNTab",
        "outputId": "5be070c8-22aa-45a5-dcec-1ba0c200ae4e"
      },
      "outputs": [
        {
          "output_type": "execute_result",
          "data": {
            "text/plain": [
              "                entity_id                category              label  \\\n",
              "0                sampling   methodological entity           SAMPLING   \n",
              "0    data analysis method   methodological entity    ANALYSIS_METHOD   \n",
              "0      statistical metric   methodological entity             METRIC   \n",
              "0  data collection method         research method  COLLECTION_METHOD   \n",
              "0         economic sector  domain specific entity             SECTOR   \n",
              "\n",
              "                       synonym  \n",
              "0                     sampling  \n",
              "0  data analysis investigation  \n",
              "0           statistical metric  \n",
              "0     data collection analyses  \n",
              "0             economic sectors  "
            ],
            "text/html": [
              "\n",
              "  <div id=\"df-624840f4-c13d-4478-b489-67cf0604952e\">\n",
              "    <div class=\"colab-df-container\">\n",
              "      <div>\n",
              "<style scoped>\n",
              "    .dataframe tbody tr th:only-of-type {\n",
              "        vertical-align: middle;\n",
              "    }\n",
              "\n",
              "    .dataframe tbody tr th {\n",
              "        vertical-align: top;\n",
              "    }\n",
              "\n",
              "    .dataframe thead th {\n",
              "        text-align: right;\n",
              "    }\n",
              "</style>\n",
              "<table border=\"1\" class=\"dataframe\">\n",
              "  <thead>\n",
              "    <tr style=\"text-align: right;\">\n",
              "      <th></th>\n",
              "      <th>entity_id</th>\n",
              "      <th>category</th>\n",
              "      <th>label</th>\n",
              "      <th>synonym</th>\n",
              "    </tr>\n",
              "  </thead>\n",
              "  <tbody>\n",
              "    <tr>\n",
              "      <th>0</th>\n",
              "      <td>sampling</td>\n",
              "      <td>methodological entity</td>\n",
              "      <td>SAMPLING</td>\n",
              "      <td>sampling</td>\n",
              "    </tr>\n",
              "    <tr>\n",
              "      <th>0</th>\n",
              "      <td>data analysis method</td>\n",
              "      <td>methodological entity</td>\n",
              "      <td>ANALYSIS_METHOD</td>\n",
              "      <td>data analysis investigation</td>\n",
              "    </tr>\n",
              "    <tr>\n",
              "      <th>0</th>\n",
              "      <td>statistical metric</td>\n",
              "      <td>methodological entity</td>\n",
              "      <td>METRIC</td>\n",
              "      <td>statistical metric</td>\n",
              "    </tr>\n",
              "    <tr>\n",
              "      <th>0</th>\n",
              "      <td>data collection method</td>\n",
              "      <td>research method</td>\n",
              "      <td>COLLECTION_METHOD</td>\n",
              "      <td>data collection analyses</td>\n",
              "    </tr>\n",
              "    <tr>\n",
              "      <th>0</th>\n",
              "      <td>economic sector</td>\n",
              "      <td>domain specific entity</td>\n",
              "      <td>SECTOR</td>\n",
              "      <td>economic sectors</td>\n",
              "    </tr>\n",
              "  </tbody>\n",
              "</table>\n",
              "</div>\n",
              "      <button class=\"colab-df-convert\" onclick=\"convertToInteractive('df-624840f4-c13d-4478-b489-67cf0604952e')\"\n",
              "              title=\"Convert this dataframe to an interactive table.\"\n",
              "              style=\"display:none;\">\n",
              "        \n",
              "  <svg xmlns=\"http://www.w3.org/2000/svg\" height=\"24px\"viewBox=\"0 0 24 24\"\n",
              "       width=\"24px\">\n",
              "    <path d=\"M0 0h24v24H0V0z\" fill=\"none\"/>\n",
              "    <path d=\"M18.56 5.44l.94 2.06.94-2.06 2.06-.94-2.06-.94-.94-2.06-.94 2.06-2.06.94zm-11 1L8.5 8.5l.94-2.06 2.06-.94-2.06-.94L8.5 2.5l-.94 2.06-2.06.94zm10 10l.94 2.06.94-2.06 2.06-.94-2.06-.94-.94-2.06-.94 2.06-2.06.94z\"/><path d=\"M17.41 7.96l-1.37-1.37c-.4-.4-.92-.59-1.43-.59-.52 0-1.04.2-1.43.59L10.3 9.45l-7.72 7.72c-.78.78-.78 2.05 0 2.83L4 21.41c.39.39.9.59 1.41.59.51 0 1.02-.2 1.41-.59l7.78-7.78 2.81-2.81c.8-.78.8-2.07 0-2.86zM5.41 20L4 18.59l7.72-7.72 1.47 1.35L5.41 20z\"/>\n",
              "  </svg>\n",
              "      </button>\n",
              "      \n",
              "  <style>\n",
              "    .colab-df-container {\n",
              "      display:flex;\n",
              "      flex-wrap:wrap;\n",
              "      gap: 12px;\n",
              "    }\n",
              "\n",
              "    .colab-df-convert {\n",
              "      background-color: #E8F0FE;\n",
              "      border: none;\n",
              "      border-radius: 50%;\n",
              "      cursor: pointer;\n",
              "      display: none;\n",
              "      fill: #1967D2;\n",
              "      height: 32px;\n",
              "      padding: 0 0 0 0;\n",
              "      width: 32px;\n",
              "    }\n",
              "\n",
              "    .colab-df-convert:hover {\n",
              "      background-color: #E2EBFA;\n",
              "      box-shadow: 0px 1px 2px rgba(60, 64, 67, 0.3), 0px 1px 3px 1px rgba(60, 64, 67, 0.15);\n",
              "      fill: #174EA6;\n",
              "    }\n",
              "\n",
              "    [theme=dark] .colab-df-convert {\n",
              "      background-color: #3B4455;\n",
              "      fill: #D2E3FC;\n",
              "    }\n",
              "\n",
              "    [theme=dark] .colab-df-convert:hover {\n",
              "      background-color: #434B5C;\n",
              "      box-shadow: 0px 1px 3px 1px rgba(0, 0, 0, 0.15);\n",
              "      filter: drop-shadow(0px 1px 2px rgba(0, 0, 0, 0.3));\n",
              "      fill: #FFFFFF;\n",
              "    }\n",
              "  </style>\n",
              "\n",
              "      <script>\n",
              "        const buttonEl =\n",
              "          document.querySelector('#df-624840f4-c13d-4478-b489-67cf0604952e button.colab-df-convert');\n",
              "        buttonEl.style.display =\n",
              "          google.colab.kernel.accessAllowed ? 'block' : 'none';\n",
              "\n",
              "        async function convertToInteractive(key) {\n",
              "          const element = document.querySelector('#df-624840f4-c13d-4478-b489-67cf0604952e');\n",
              "          const dataTable =\n",
              "            await google.colab.kernel.invokeFunction('convertToInteractive',\n",
              "                                                     [key], {});\n",
              "          if (!dataTable) return;\n",
              "\n",
              "          const docLinkHtml = 'Like what you see? Visit the ' +\n",
              "            '<a target=\"_blank\" href=https://colab.research.google.com/notebooks/data_table.ipynb>data table notebook</a>'\n",
              "            + ' to learn more about interactive tables.';\n",
              "          element.innerHTML = '';\n",
              "          dataTable['output_type'] = 'display_data';\n",
              "          await google.colab.output.renderOutput(dataTable, element);\n",
              "          const docLink = document.createElement('div');\n",
              "          docLink.innerHTML = docLinkHtml;\n",
              "          element.appendChild(docLink);\n",
              "        }\n",
              "      </script>\n",
              "    </div>\n",
              "  </div>\n",
              "  "
            ]
          },
          "metadata": {},
          "execution_count": 47
        }
      ],
      "source": [
        "SynDet_ontology_train_df.head(5)"
      ]
    },
    {
      "cell_type": "code",
      "source": [
        "#SynDet_ontology_train_df.to_csv(data_path_group+\"SynDet/SynDet_ontology_train.csv\")\n",
        "#SynDet_ontology_val_df.to_csv(data_path_group+\"SynDet/SynDet_ontology_val.csv\")\n",
        "#SynDet_ontology_test_df.to_csv(data_path_group+\"SynDet/SynDet_ontology_test.csv\")"
      ],
      "metadata": {
        "id": "3NEw1U_8U2c1"
      },
      "execution_count": 49,
      "outputs": []
    },
    {
      "cell_type": "markdown",
      "metadata": {
        "id": "pJuN2WAkN_0W"
      },
      "source": [
        "## Remove entity tags from noun phrases which are not correct "
      ]
    },
    {
      "cell_type": "code",
      "execution_count": 57,
      "metadata": {
        "id": "jABkFlkUN_0k"
      },
      "outputs": [],
      "source": [
        "# Lets apply them to all entities dataframes\n",
        "SynDet_entities_train_df = correct_tagging(SynDet_entities_train_df, SynDet_ontology_train_df)\n",
        "SynDet_entities_val_df = correct_tagging(SynDet_entities_val_df, SynDet_ontology_val_df)\n",
        "SynDet_entities_test_df = correct_tagging(SynDet_entities_test_df, SynDet_ontology_test_df)"
      ]
    },
    {
      "cell_type": "code",
      "execution_count": 60,
      "metadata": {
        "id": "i9b3FgCaN_0l"
      },
      "outputs": [],
      "source": [
        "##Store them as .csvs in Google Drive\n",
        "#SynDet_entities_train_df.to_csv(data_path_group+\"SynDet/SynDet_entities_train.csv\")\n",
        "#SynDet_entities_val_df.to_csv(data_path_group+\"SynDet/SynDet_entities_val.csv\")\n",
        "#SynDet_entities_test_df.to_csv(data_path_group+\"SynDet/SynDet_entities_test.csv\")"
      ]
    },
    {
      "cell_type": "markdown",
      "metadata": {
        "id": "rKdsG4mKPzA3"
      },
      "source": [
        "## Create training datasets to fine tune models"
      ]
    },
    {
      "cell_type": "markdown",
      "metadata": {
        "id": "1kkaDIrHPzA4"
      },
      "source": [
        "### Idea 1: Comparison entities and synonyms"
      ]
    },
    {
      "cell_type": "code",
      "execution_count": 9,
      "metadata": {
        "id": "bJESvlZfPzA4",
        "outputId": "c49535c5-f6cc-4f93-c263-04f86aaf9643",
        "colab": {
          "base_uri": "https://localhost:8080/"
        }
      },
      "outputs": [
        {
          "output_type": "stream",
          "name": "stderr",
          "text": [
            "/usr/local/lib/python3.7/dist-packages/ipykernel_launcher.py:7: SettingWithCopyWarning: \n",
            "A value is trying to be set on a copy of a slice from a DataFrame.\n",
            "Try using .loc[row_indexer,col_indexer] = value instead\n",
            "\n",
            "See the caveats in the documentation: https://pandas.pydata.org/pandas-docs/stable/user_guide/indexing.html#returning-a-view-versus-a-copy\n",
            "  import sys\n"
          ]
        }
      ],
      "source": [
        "SynDet_ontology_train_df_syn, SynDet_ontology_false_syn_train_df = create_synonyms_dataset(SynDet_ontology_train_df)\n",
        "SynDet_ontology_val_df_syn, SynDet_ontology_false_syn_val_df = create_synonyms_dataset(SynDet_ontology_val_df)\n",
        "SynDet_ontology_test_df_syn, SynDet_ontology_false_syn_test_df = create_synonyms_dataset(SynDet_ontology_test_df)"
      ]
    },
    {
      "cell_type": "code",
      "execution_count": 46,
      "metadata": {
        "id": "_cwQWBmnPzA4",
        "outputId": "e11cc96d-0b14-411b-f0f2-49f30b4dd4e3",
        "colab": {
          "base_uri": "https://localhost:8080/",
          "height": 554
        }
      },
      "outputs": [
        {
          "output_type": "execute_result",
          "data": {
            "text/plain": [
              "                         entity_id                category              label  \\\n",
              "235036      individual participant            study object       PARTICIPANTS   \n",
              "189726      individual participant            study object       PARTICIPANTS   \n",
              "291037      individual participant            study object       PARTICIPANTS   \n",
              "31468                       survey         research method  COLLECTION_METHOD   \n",
              "288690      individual participant            study object       PARTICIPANTS   \n",
              "...                            ...                     ...                ...   \n",
              "429344   year 2000 date conversion  domain specific entity              TOPIC   \n",
              "473389  generalized additive model   methodological entity    ANALYSIS_METHOD   \n",
              "401338   rule-based representation  domain specific entity         TECHNOLOGY   \n",
              "90436       individual participant            study object       PARTICIPANTS   \n",
              "512304      systems implementation  domain specific entity              TOPIC   \n",
              "\n",
              "                                                  synonym  is_synonym  \n",
              "235036                       usable and information agent           1  \n",
              "189726        professional and senior research executives           1  \n",
              "291037                       business and IS IS informant           1  \n",
              "31468   telephone based postal questionnaire descriptions           1  \n",
              "288690               business and professional individual           1  \n",
              "...                                                   ...         ...  \n",
              "429344                              intellectual property           0  \n",
              "473389                                     QDA Miner Lite           0  \n",
              "401338                                  IT centralization           0  \n",
              "90436             multicultural and professional citizens           1  \n",
              "512304                                    IS satisfaction           0  \n",
              "\n",
              "[567429 rows x 5 columns]"
            ],
            "text/html": [
              "\n",
              "  <div id=\"df-08bae3e4-0036-4be8-8fa3-b76909760df1\">\n",
              "    <div class=\"colab-df-container\">\n",
              "      <div>\n",
              "<style scoped>\n",
              "    .dataframe tbody tr th:only-of-type {\n",
              "        vertical-align: middle;\n",
              "    }\n",
              "\n",
              "    .dataframe tbody tr th {\n",
              "        vertical-align: top;\n",
              "    }\n",
              "\n",
              "    .dataframe thead th {\n",
              "        text-align: right;\n",
              "    }\n",
              "</style>\n",
              "<table border=\"1\" class=\"dataframe\">\n",
              "  <thead>\n",
              "    <tr style=\"text-align: right;\">\n",
              "      <th></th>\n",
              "      <th>entity_id</th>\n",
              "      <th>category</th>\n",
              "      <th>label</th>\n",
              "      <th>synonym</th>\n",
              "      <th>is_synonym</th>\n",
              "    </tr>\n",
              "  </thead>\n",
              "  <tbody>\n",
              "    <tr>\n",
              "      <th>235036</th>\n",
              "      <td>individual participant</td>\n",
              "      <td>study object</td>\n",
              "      <td>PARTICIPANTS</td>\n",
              "      <td>usable and information agent</td>\n",
              "      <td>1</td>\n",
              "    </tr>\n",
              "    <tr>\n",
              "      <th>189726</th>\n",
              "      <td>individual participant</td>\n",
              "      <td>study object</td>\n",
              "      <td>PARTICIPANTS</td>\n",
              "      <td>professional and senior research executives</td>\n",
              "      <td>1</td>\n",
              "    </tr>\n",
              "    <tr>\n",
              "      <th>291037</th>\n",
              "      <td>individual participant</td>\n",
              "      <td>study object</td>\n",
              "      <td>PARTICIPANTS</td>\n",
              "      <td>business and IS IS informant</td>\n",
              "      <td>1</td>\n",
              "    </tr>\n",
              "    <tr>\n",
              "      <th>31468</th>\n",
              "      <td>survey</td>\n",
              "      <td>research method</td>\n",
              "      <td>COLLECTION_METHOD</td>\n",
              "      <td>telephone based postal questionnaire descriptions</td>\n",
              "      <td>1</td>\n",
              "    </tr>\n",
              "    <tr>\n",
              "      <th>288690</th>\n",
              "      <td>individual participant</td>\n",
              "      <td>study object</td>\n",
              "      <td>PARTICIPANTS</td>\n",
              "      <td>business and professional individual</td>\n",
              "      <td>1</td>\n",
              "    </tr>\n",
              "    <tr>\n",
              "      <th>...</th>\n",
              "      <td>...</td>\n",
              "      <td>...</td>\n",
              "      <td>...</td>\n",
              "      <td>...</td>\n",
              "      <td>...</td>\n",
              "    </tr>\n",
              "    <tr>\n",
              "      <th>429344</th>\n",
              "      <td>year 2000 date conversion</td>\n",
              "      <td>domain specific entity</td>\n",
              "      <td>TOPIC</td>\n",
              "      <td>intellectual property</td>\n",
              "      <td>0</td>\n",
              "    </tr>\n",
              "    <tr>\n",
              "      <th>473389</th>\n",
              "      <td>generalized additive model</td>\n",
              "      <td>methodological entity</td>\n",
              "      <td>ANALYSIS_METHOD</td>\n",
              "      <td>QDA Miner Lite</td>\n",
              "      <td>0</td>\n",
              "    </tr>\n",
              "    <tr>\n",
              "      <th>401338</th>\n",
              "      <td>rule-based representation</td>\n",
              "      <td>domain specific entity</td>\n",
              "      <td>TECHNOLOGY</td>\n",
              "      <td>IT centralization</td>\n",
              "      <td>0</td>\n",
              "    </tr>\n",
              "    <tr>\n",
              "      <th>90436</th>\n",
              "      <td>individual participant</td>\n",
              "      <td>study object</td>\n",
              "      <td>PARTICIPANTS</td>\n",
              "      <td>multicultural and professional citizens</td>\n",
              "      <td>1</td>\n",
              "    </tr>\n",
              "    <tr>\n",
              "      <th>512304</th>\n",
              "      <td>systems implementation</td>\n",
              "      <td>domain specific entity</td>\n",
              "      <td>TOPIC</td>\n",
              "      <td>IS satisfaction</td>\n",
              "      <td>0</td>\n",
              "    </tr>\n",
              "  </tbody>\n",
              "</table>\n",
              "<p>567429 rows × 5 columns</p>\n",
              "</div>\n",
              "      <button class=\"colab-df-convert\" onclick=\"convertToInteractive('df-08bae3e4-0036-4be8-8fa3-b76909760df1')\"\n",
              "              title=\"Convert this dataframe to an interactive table.\"\n",
              "              style=\"display:none;\">\n",
              "        \n",
              "  <svg xmlns=\"http://www.w3.org/2000/svg\" height=\"24px\"viewBox=\"0 0 24 24\"\n",
              "       width=\"24px\">\n",
              "    <path d=\"M0 0h24v24H0V0z\" fill=\"none\"/>\n",
              "    <path d=\"M18.56 5.44l.94 2.06.94-2.06 2.06-.94-2.06-.94-.94-2.06-.94 2.06-2.06.94zm-11 1L8.5 8.5l.94-2.06 2.06-.94-2.06-.94L8.5 2.5l-.94 2.06-2.06.94zm10 10l.94 2.06.94-2.06 2.06-.94-2.06-.94-.94-2.06-.94 2.06-2.06.94z\"/><path d=\"M17.41 7.96l-1.37-1.37c-.4-.4-.92-.59-1.43-.59-.52 0-1.04.2-1.43.59L10.3 9.45l-7.72 7.72c-.78.78-.78 2.05 0 2.83L4 21.41c.39.39.9.59 1.41.59.51 0 1.02-.2 1.41-.59l7.78-7.78 2.81-2.81c.8-.78.8-2.07 0-2.86zM5.41 20L4 18.59l7.72-7.72 1.47 1.35L5.41 20z\"/>\n",
              "  </svg>\n",
              "      </button>\n",
              "      \n",
              "  <style>\n",
              "    .colab-df-container {\n",
              "      display:flex;\n",
              "      flex-wrap:wrap;\n",
              "      gap: 12px;\n",
              "    }\n",
              "\n",
              "    .colab-df-convert {\n",
              "      background-color: #E8F0FE;\n",
              "      border: none;\n",
              "      border-radius: 50%;\n",
              "      cursor: pointer;\n",
              "      display: none;\n",
              "      fill: #1967D2;\n",
              "      height: 32px;\n",
              "      padding: 0 0 0 0;\n",
              "      width: 32px;\n",
              "    }\n",
              "\n",
              "    .colab-df-convert:hover {\n",
              "      background-color: #E2EBFA;\n",
              "      box-shadow: 0px 1px 2px rgba(60, 64, 67, 0.3), 0px 1px 3px 1px rgba(60, 64, 67, 0.15);\n",
              "      fill: #174EA6;\n",
              "    }\n",
              "\n",
              "    [theme=dark] .colab-df-convert {\n",
              "      background-color: #3B4455;\n",
              "      fill: #D2E3FC;\n",
              "    }\n",
              "\n",
              "    [theme=dark] .colab-df-convert:hover {\n",
              "      background-color: #434B5C;\n",
              "      box-shadow: 0px 1px 3px 1px rgba(0, 0, 0, 0.15);\n",
              "      filter: drop-shadow(0px 1px 2px rgba(0, 0, 0, 0.3));\n",
              "      fill: #FFFFFF;\n",
              "    }\n",
              "  </style>\n",
              "\n",
              "      <script>\n",
              "        const buttonEl =\n",
              "          document.querySelector('#df-08bae3e4-0036-4be8-8fa3-b76909760df1 button.colab-df-convert');\n",
              "        buttonEl.style.display =\n",
              "          google.colab.kernel.accessAllowed ? 'block' : 'none';\n",
              "\n",
              "        async function convertToInteractive(key) {\n",
              "          const element = document.querySelector('#df-08bae3e4-0036-4be8-8fa3-b76909760df1');\n",
              "          const dataTable =\n",
              "            await google.colab.kernel.invokeFunction('convertToInteractive',\n",
              "                                                     [key], {});\n",
              "          if (!dataTable) return;\n",
              "\n",
              "          const docLinkHtml = 'Like what you see? Visit the ' +\n",
              "            '<a target=\"_blank\" href=https://colab.research.google.com/notebooks/data_table.ipynb>data table notebook</a>'\n",
              "            + ' to learn more about interactive tables.';\n",
              "          element.innerHTML = '';\n",
              "          dataTable['output_type'] = 'display_data';\n",
              "          await google.colab.output.renderOutput(dataTable, element);\n",
              "          const docLink = document.createElement('div');\n",
              "          docLink.innerHTML = docLinkHtml;\n",
              "          element.appendChild(docLink);\n",
              "        }\n",
              "      </script>\n",
              "    </div>\n",
              "  </div>\n",
              "  "
            ]
          },
          "metadata": {},
          "execution_count": 46
        }
      ],
      "source": [
        "SynDet_ontology_train_df_syn"
      ]
    },
    {
      "cell_type": "code",
      "execution_count": 47,
      "metadata": {
        "id": "Gm7I7_k-PzA4"
      },
      "outputs": [],
      "source": [
        "#SynDet_ontology_train_df_syn.to_csv(data_path_group+\"SynDet/Synonym_Dataset/SynDet_ontology_train_df_syn.csv\")\n",
        "#SynDet_ontology_val_df_syn.to_csv(data_path_group+\"SynDet/Synonym_Dataset/SynDet_ontology_val_df_syn.csv\")\n",
        "#SynDet_ontology_test_df_syn.to_csv(data_path_group+\"SynDet/Synonym_Dataset/SynDet_ontology_test_df_syn.csv\")"
      ]
    },
    {
      "cell_type": "markdown",
      "metadata": {
        "id": "dqMpb-zqPzA4"
      },
      "source": [
        "### Idea 2: Triplet dataset\n",
        "Triplet dataset with \"main\" entity as anchor, synonyms as positives and other entities as negatives"
      ]
    },
    {
      "cell_type": "code",
      "execution_count": 10,
      "metadata": {
        "id": "KTvi7vlQPzA4"
      },
      "outputs": [],
      "source": [
        "SynDet_ontology_train_triplets = create_triplets_dataset(SynDet_ontology_train_df_syn, SynDet_ontology_false_syn_train_df)\n",
        "SynDet_ontology_val_triplets = create_triplets_dataset(SynDet_ontology_val_df_syn, SynDet_ontology_false_syn_val_df)\n",
        "SynDet_ontology_test_triplets = create_triplets_dataset(SynDet_ontology_test_df_syn, SynDet_ontology_false_syn_test_df)"
      ]
    },
    {
      "cell_type": "code",
      "execution_count": 11,
      "metadata": {
        "id": "mUBae9nRPzA5",
        "outputId": "4ee83bfe-496f-4699-c9b2-414a482c5145",
        "colab": {
          "base_uri": "https://localhost:8080/",
          "height": 423
        }
      },
      "outputs": [
        {
          "output_type": "execute_result",
          "data": {
            "text/plain": [
              "                                   entity_id  \\\n",
              "0                   electronic health record   \n",
              "1                          archival research   \n",
              "2       communication service infrastructure   \n",
              "3                                     survey   \n",
              "4                           three validities   \n",
              "...                                      ...   \n",
              "315756                             Qualtrics   \n",
              "323058            multi national corporation   \n",
              "329137                  business cooperation   \n",
              "329856                     Prolific Academic   \n",
              "337049                               startup   \n",
              "\n",
              "                                        positive_example  \\\n",
              "0                                 online medical records   \n",
              "1                       government data sources analysis   \n",
              "2                digital enabled communication computers   \n",
              "3       quantitative based supervised polling techniques   \n",
              "4                    test convergent and design validity   \n",
              "...                                                  ...   \n",
              "315756                                        Qualtricss   \n",
              "323058                         multi national businesses   \n",
              "329137                             business cooperations   \n",
              "329856                                          Prolific   \n",
              "337049                                          startups   \n",
              "\n",
              "                    negative_example  \n",
              "0                     postal banking  \n",
              "1             action design research  \n",
              "2           model driven development  \n",
              "3          hierarchical Markov model  \n",
              "4              binary classification  \n",
              "...                              ...  \n",
              "315756  multi divisional corporation  \n",
              "323058                       startup  \n",
              "329137        individual participant  \n",
              "329856        Amazon Mechanical Turk  \n",
              "337049          business cooperation  \n",
              "\n",
              "[24512 rows x 3 columns]"
            ],
            "text/html": [
              "\n",
              "  <div id=\"df-c2247ee8-5927-48b2-a9a1-1774770e07b2\">\n",
              "    <div class=\"colab-df-container\">\n",
              "      <div>\n",
              "<style scoped>\n",
              "    .dataframe tbody tr th:only-of-type {\n",
              "        vertical-align: middle;\n",
              "    }\n",
              "\n",
              "    .dataframe tbody tr th {\n",
              "        vertical-align: top;\n",
              "    }\n",
              "\n",
              "    .dataframe thead th {\n",
              "        text-align: right;\n",
              "    }\n",
              "</style>\n",
              "<table border=\"1\" class=\"dataframe\">\n",
              "  <thead>\n",
              "    <tr style=\"text-align: right;\">\n",
              "      <th></th>\n",
              "      <th>entity_id</th>\n",
              "      <th>positive_example</th>\n",
              "      <th>negative_example</th>\n",
              "    </tr>\n",
              "  </thead>\n",
              "  <tbody>\n",
              "    <tr>\n",
              "      <th>0</th>\n",
              "      <td>electronic health record</td>\n",
              "      <td>online medical records</td>\n",
              "      <td>postal banking</td>\n",
              "    </tr>\n",
              "    <tr>\n",
              "      <th>1</th>\n",
              "      <td>archival research</td>\n",
              "      <td>government data sources analysis</td>\n",
              "      <td>action design research</td>\n",
              "    </tr>\n",
              "    <tr>\n",
              "      <th>2</th>\n",
              "      <td>communication service infrastructure</td>\n",
              "      <td>digital enabled communication computers</td>\n",
              "      <td>model driven development</td>\n",
              "    </tr>\n",
              "    <tr>\n",
              "      <th>3</th>\n",
              "      <td>survey</td>\n",
              "      <td>quantitative based supervised polling techniques</td>\n",
              "      <td>hierarchical Markov model</td>\n",
              "    </tr>\n",
              "    <tr>\n",
              "      <th>4</th>\n",
              "      <td>three validities</td>\n",
              "      <td>test convergent and design validity</td>\n",
              "      <td>binary classification</td>\n",
              "    </tr>\n",
              "    <tr>\n",
              "      <th>...</th>\n",
              "      <td>...</td>\n",
              "      <td>...</td>\n",
              "      <td>...</td>\n",
              "    </tr>\n",
              "    <tr>\n",
              "      <th>315756</th>\n",
              "      <td>Qualtrics</td>\n",
              "      <td>Qualtricss</td>\n",
              "      <td>multi divisional corporation</td>\n",
              "    </tr>\n",
              "    <tr>\n",
              "      <th>323058</th>\n",
              "      <td>multi national corporation</td>\n",
              "      <td>multi national businesses</td>\n",
              "      <td>startup</td>\n",
              "    </tr>\n",
              "    <tr>\n",
              "      <th>329137</th>\n",
              "      <td>business cooperation</td>\n",
              "      <td>business cooperations</td>\n",
              "      <td>individual participant</td>\n",
              "    </tr>\n",
              "    <tr>\n",
              "      <th>329856</th>\n",
              "      <td>Prolific Academic</td>\n",
              "      <td>Prolific</td>\n",
              "      <td>Amazon Mechanical Turk</td>\n",
              "    </tr>\n",
              "    <tr>\n",
              "      <th>337049</th>\n",
              "      <td>startup</td>\n",
              "      <td>startups</td>\n",
              "      <td>business cooperation</td>\n",
              "    </tr>\n",
              "  </tbody>\n",
              "</table>\n",
              "<p>24512 rows × 3 columns</p>\n",
              "</div>\n",
              "      <button class=\"colab-df-convert\" onclick=\"convertToInteractive('df-c2247ee8-5927-48b2-a9a1-1774770e07b2')\"\n",
              "              title=\"Convert this dataframe to an interactive table.\"\n",
              "              style=\"display:none;\">\n",
              "        \n",
              "  <svg xmlns=\"http://www.w3.org/2000/svg\" height=\"24px\"viewBox=\"0 0 24 24\"\n",
              "       width=\"24px\">\n",
              "    <path d=\"M0 0h24v24H0V0z\" fill=\"none\"/>\n",
              "    <path d=\"M18.56 5.44l.94 2.06.94-2.06 2.06-.94-2.06-.94-.94-2.06-.94 2.06-2.06.94zm-11 1L8.5 8.5l.94-2.06 2.06-.94-2.06-.94L8.5 2.5l-.94 2.06-2.06.94zm10 10l.94 2.06.94-2.06 2.06-.94-2.06-.94-.94-2.06-.94 2.06-2.06.94z\"/><path d=\"M17.41 7.96l-1.37-1.37c-.4-.4-.92-.59-1.43-.59-.52 0-1.04.2-1.43.59L10.3 9.45l-7.72 7.72c-.78.78-.78 2.05 0 2.83L4 21.41c.39.39.9.59 1.41.59.51 0 1.02-.2 1.41-.59l7.78-7.78 2.81-2.81c.8-.78.8-2.07 0-2.86zM5.41 20L4 18.59l7.72-7.72 1.47 1.35L5.41 20z\"/>\n",
              "  </svg>\n",
              "      </button>\n",
              "      \n",
              "  <style>\n",
              "    .colab-df-container {\n",
              "      display:flex;\n",
              "      flex-wrap:wrap;\n",
              "      gap: 12px;\n",
              "    }\n",
              "\n",
              "    .colab-df-convert {\n",
              "      background-color: #E8F0FE;\n",
              "      border: none;\n",
              "      border-radius: 50%;\n",
              "      cursor: pointer;\n",
              "      display: none;\n",
              "      fill: #1967D2;\n",
              "      height: 32px;\n",
              "      padding: 0 0 0 0;\n",
              "      width: 32px;\n",
              "    }\n",
              "\n",
              "    .colab-df-convert:hover {\n",
              "      background-color: #E2EBFA;\n",
              "      box-shadow: 0px 1px 2px rgba(60, 64, 67, 0.3), 0px 1px 3px 1px rgba(60, 64, 67, 0.15);\n",
              "      fill: #174EA6;\n",
              "    }\n",
              "\n",
              "    [theme=dark] .colab-df-convert {\n",
              "      background-color: #3B4455;\n",
              "      fill: #D2E3FC;\n",
              "    }\n",
              "\n",
              "    [theme=dark] .colab-df-convert:hover {\n",
              "      background-color: #434B5C;\n",
              "      box-shadow: 0px 1px 3px 1px rgba(0, 0, 0, 0.15);\n",
              "      filter: drop-shadow(0px 1px 2px rgba(0, 0, 0, 0.3));\n",
              "      fill: #FFFFFF;\n",
              "    }\n",
              "  </style>\n",
              "\n",
              "      <script>\n",
              "        const buttonEl =\n",
              "          document.querySelector('#df-c2247ee8-5927-48b2-a9a1-1774770e07b2 button.colab-df-convert');\n",
              "        buttonEl.style.display =\n",
              "          google.colab.kernel.accessAllowed ? 'block' : 'none';\n",
              "\n",
              "        async function convertToInteractive(key) {\n",
              "          const element = document.querySelector('#df-c2247ee8-5927-48b2-a9a1-1774770e07b2');\n",
              "          const dataTable =\n",
              "            await google.colab.kernel.invokeFunction('convertToInteractive',\n",
              "                                                     [key], {});\n",
              "          if (!dataTable) return;\n",
              "\n",
              "          const docLinkHtml = 'Like what you see? Visit the ' +\n",
              "            '<a target=\"_blank\" href=https://colab.research.google.com/notebooks/data_table.ipynb>data table notebook</a>'\n",
              "            + ' to learn more about interactive tables.';\n",
              "          element.innerHTML = '';\n",
              "          dataTable['output_type'] = 'display_data';\n",
              "          await google.colab.output.renderOutput(dataTable, element);\n",
              "          const docLink = document.createElement('div');\n",
              "          docLink.innerHTML = docLinkHtml;\n",
              "          element.appendChild(docLink);\n",
              "        }\n",
              "      </script>\n",
              "    </div>\n",
              "  </div>\n",
              "  "
            ]
          },
          "metadata": {},
          "execution_count": 11
        }
      ],
      "source": [
        "SynDet_ontology_train_triplets"
      ]
    },
    {
      "cell_type": "code",
      "execution_count": 12,
      "metadata": {
        "id": "cqYEoQipPzA5"
      },
      "outputs": [],
      "source": [
        "#SynDet_ontology_train_triplets.to_csv(data_path_group+\"SynDet/Triplets_Dataset/SynDet_ontology_train_triplets.csv\")\n",
        "#SynDet_ontology_val_triplets.to_csv(data_path_group+\"SynDet/Triplets_Dataset/SynDet_ontology_val_triplets.csv\")\n",
        "#SynDet_ontology_test_triplets.to_csv(data_path_group+\"SynDet/Triplets_Dataset/SynDet_ontology_test_triplets.csv\")"
      ]
    },
    {
      "cell_type": "code",
      "source": [
        ""
      ],
      "metadata": {
        "id": "Lxu0sHACc-5v"
      },
      "execution_count": null,
      "outputs": []
    }
  ],
  "metadata": {
    "colab": {
      "collapsed_sections": [
        "pJuN2WAkN_0W"
      ],
      "name": "PH_Create_Datasets.ipynb",
      "provenance": [],
      "toc_visible": true
    },
    "gpuClass": "standard",
    "kernelspec": {
      "display_name": "Python 3.6.13 ('venv_twsm': virtualenv)",
      "language": "python",
      "name": "python3"
    },
    "language_info": {
      "codemirror_mode": {
        "name": "ipython",
        "version": 3
      },
      "file_extension": ".py",
      "mimetype": "text/x-python",
      "name": "python",
      "nbconvert_exporter": "python",
      "pygments_lexer": "ipython3",
      "version": "3.6.13"
    },
    "vscode": {
      "interpreter": {
        "hash": "bc3437d78d39a64ecbd99ab84a83860c02a7486eba5e02bcbbbc8697c30c1d9b"
      }
    }
  },
  "nbformat": 4,
  "nbformat_minor": 0
}