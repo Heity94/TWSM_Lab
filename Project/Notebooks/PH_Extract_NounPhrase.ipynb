{
  "nbformat": 4,
  "nbformat_minor": 0,
  "metadata": {
    "colab": {
      "name": "Kopie von MA_NounPhrase.ipynb",
      "provenance": [],
      "collapsed_sections": [],
      "include_colab_link": true
    },
    "kernelspec": {
      "name": "python3",
      "display_name": "Python 3"
    },
    "language_info": {
      "name": "python"
    },
    "gpuClass": "standard"
  },
  "cells": [
    {
      "cell_type": "markdown",
      "metadata": {
        "id": "view-in-github",
        "colab_type": "text"
      },
      "source": [
        "<a href=\"https://colab.research.google.com/github/Heity94/TWSM_Lab/blob/main/Project/Notebooks/PH_Extract_NounPhrase.ipynb\" target=\"_parent\"><img src=\"https://colab.research.google.com/assets/colab-badge.svg\" alt=\"Open In Colab\"/></a>"
      ]
    },
    {
      "cell_type": "code",
      "source": [
        "import pandas as pd\n",
        "import pickle\n",
        "import spacy"
      ],
      "metadata": {
        "id": "buqRzAxqa1hf"
      },
      "execution_count": 1,
      "outputs": []
    },
    {
      "cell_type": "code",
      "source": [
        "#load spacy model but exclude not required components for tagging\n",
        "nlp = spacy.load(\"en_core_web_sm\", disable=[\"lemmatizer\", \"ner\"]) "
      ],
      "metadata": {
        "id": "UebEGpsWbSNK"
      },
      "execution_count": 2,
      "outputs": []
    },
    {
      "cell_type": "code",
      "source": [
        "#show pipeline components\n",
        "nlp.pipeline"
      ],
      "metadata": {
        "colab": {
          "base_uri": "https://localhost:8080/"
        },
        "id": "RuVKSeJBfxe-",
        "outputId": "63221491-eda7-4254-c9ef-d9b286ee2e47"
      },
      "execution_count": 3,
      "outputs": [
        {
          "output_type": "execute_result",
          "data": {
            "text/plain": [
              "[('tok2vec', <spacy.pipeline.tok2vec.Tok2Vec at 0x7f7b38ecb280>),\n",
              " ('tagger', <spacy.pipeline.tagger.Tagger at 0x7f7b38ecb130>),\n",
              " ('parser', <spacy.pipeline.dep_parser.DependencyParser at 0x7f7b38dbab50>),\n",
              " ('attribute_ruler',\n",
              "  <spacy.pipeline.attributeruler.AttributeRuler at 0x7f7b38cc14b0>)]"
            ]
          },
          "metadata": {},
          "execution_count": 3
        }
      ]
    },
    {
      "cell_type": "code",
      "execution_count": 4,
      "metadata": {
        "id": "XtRijiIlaem2"
      },
      "outputs": [],
      "source": [
        "# Declare whether you are on Colab or local\n",
        "colab = True"
      ]
    },
    {
      "cell_type": "code",
      "source": [
        "if colab==True:\n",
        "  \n",
        "  #Mount drive\n",
        "  from google.colab import drive\n",
        "  drive.mount('/content/drive')\n",
        "\n",
        "  #set path to data in Google Drive\n",
        "  data_path = \"/content/drive/MyDrive/2022_Analytics Lab Student Projects/Data/All Topics\""
      ],
      "metadata": {
        "colab": {
          "base_uri": "https://localhost:8080/"
        },
        "id": "5-1ToOThanFt",
        "outputId": "c0d912a4-c4c5-44db-d63a-15e9a45d9ffb"
      },
      "execution_count": 5,
      "outputs": [
        {
          "output_type": "stream",
          "name": "stdout",
          "text": [
            "Drive already mounted at /content/drive; to attempt to forcibly remount, call drive.mount(\"/content/drive\", force_remount=True).\n"
          ]
        }
      ]
    },
    {
      "cell_type": "code",
      "source": [
        "sentences = pd.read_csv(data_path+\"/Fulltext of Corpus/sentences.csv\")#, nrows=1000)"
      ],
      "metadata": {
        "id": "h59zg2XAsGGH"
      },
      "execution_count": 6,
      "outputs": []
    },
    {
      "cell_type": "code",
      "source": [
        "sentences_clean = sentences.loc[~sentences.sentence_type.isin([\"EMPTY\", \"TAG\"])] #which sentence types can we also ignore???\n",
        "del sentences\n",
        "sentences_clean = sentences_clean.drop_duplicates(subset=\"sentence\")\n",
        "sentences_clean = sentences_clean[[\"sentence_id\", \"sentence\"]]"
      ],
      "metadata": {
        "id": "5H4wMyI5rmDv"
      },
      "execution_count": 7,
      "outputs": []
    },
    {
      "cell_type": "code",
      "source": [
        "sentences_clean.head(2)"
      ],
      "metadata": {
        "colab": {
          "base_uri": "https://localhost:8080/",
          "height": 112
        },
        "id": "8SpB5MO5tJph",
        "outputId": "07cac87b-f05d-483d-e11e-8a7cfa8c7140"
      },
      "execution_count": 8,
      "outputs": [
        {
          "output_type": "execute_result",
          "data": {
            "text/plain": [
              "  sentence_id                                           sentence\n",
              "2      1_2_22  Examining interdependence between product user...\n",
              "5     1_24_25                                                  A"
            ],
            "text/html": [
              "\n",
              "  <div id=\"df-e8d93e45-d840-4b1e-92ab-48ca8ce2bdaa\">\n",
              "    <div class=\"colab-df-container\">\n",
              "      <div>\n",
              "<style scoped>\n",
              "    .dataframe tbody tr th:only-of-type {\n",
              "        vertical-align: middle;\n",
              "    }\n",
              "\n",
              "    .dataframe tbody tr th {\n",
              "        vertical-align: top;\n",
              "    }\n",
              "\n",
              "    .dataframe thead th {\n",
              "        text-align: right;\n",
              "    }\n",
              "</style>\n",
              "<table border=\"1\" class=\"dataframe\">\n",
              "  <thead>\n",
              "    <tr style=\"text-align: right;\">\n",
              "      <th></th>\n",
              "      <th>sentence_id</th>\n",
              "      <th>sentence</th>\n",
              "    </tr>\n",
              "  </thead>\n",
              "  <tbody>\n",
              "    <tr>\n",
              "      <th>2</th>\n",
              "      <td>1_2_22</td>\n",
              "      <td>Examining interdependence between product user...</td>\n",
              "    </tr>\n",
              "    <tr>\n",
              "      <th>5</th>\n",
              "      <td>1_24_25</td>\n",
              "      <td>A</td>\n",
              "    </tr>\n",
              "  </tbody>\n",
              "</table>\n",
              "</div>\n",
              "      <button class=\"colab-df-convert\" onclick=\"convertToInteractive('df-e8d93e45-d840-4b1e-92ab-48ca8ce2bdaa')\"\n",
              "              title=\"Convert this dataframe to an interactive table.\"\n",
              "              style=\"display:none;\">\n",
              "        \n",
              "  <svg xmlns=\"http://www.w3.org/2000/svg\" height=\"24px\"viewBox=\"0 0 24 24\"\n",
              "       width=\"24px\">\n",
              "    <path d=\"M0 0h24v24H0V0z\" fill=\"none\"/>\n",
              "    <path d=\"M18.56 5.44l.94 2.06.94-2.06 2.06-.94-2.06-.94-.94-2.06-.94 2.06-2.06.94zm-11 1L8.5 8.5l.94-2.06 2.06-.94-2.06-.94L8.5 2.5l-.94 2.06-2.06.94zm10 10l.94 2.06.94-2.06 2.06-.94-2.06-.94-.94-2.06-.94 2.06-2.06.94z\"/><path d=\"M17.41 7.96l-1.37-1.37c-.4-.4-.92-.59-1.43-.59-.52 0-1.04.2-1.43.59L10.3 9.45l-7.72 7.72c-.78.78-.78 2.05 0 2.83L4 21.41c.39.39.9.59 1.41.59.51 0 1.02-.2 1.41-.59l7.78-7.78 2.81-2.81c.8-.78.8-2.07 0-2.86zM5.41 20L4 18.59l7.72-7.72 1.47 1.35L5.41 20z\"/>\n",
              "  </svg>\n",
              "      </button>\n",
              "      \n",
              "  <style>\n",
              "    .colab-df-container {\n",
              "      display:flex;\n",
              "      flex-wrap:wrap;\n",
              "      gap: 12px;\n",
              "    }\n",
              "\n",
              "    .colab-df-convert {\n",
              "      background-color: #E8F0FE;\n",
              "      border: none;\n",
              "      border-radius: 50%;\n",
              "      cursor: pointer;\n",
              "      display: none;\n",
              "      fill: #1967D2;\n",
              "      height: 32px;\n",
              "      padding: 0 0 0 0;\n",
              "      width: 32px;\n",
              "    }\n",
              "\n",
              "    .colab-df-convert:hover {\n",
              "      background-color: #E2EBFA;\n",
              "      box-shadow: 0px 1px 2px rgba(60, 64, 67, 0.3), 0px 1px 3px 1px rgba(60, 64, 67, 0.15);\n",
              "      fill: #174EA6;\n",
              "    }\n",
              "\n",
              "    [theme=dark] .colab-df-convert {\n",
              "      background-color: #3B4455;\n",
              "      fill: #D2E3FC;\n",
              "    }\n",
              "\n",
              "    [theme=dark] .colab-df-convert:hover {\n",
              "      background-color: #434B5C;\n",
              "      box-shadow: 0px 1px 3px 1px rgba(0, 0, 0, 0.15);\n",
              "      filter: drop-shadow(0px 1px 2px rgba(0, 0, 0, 0.3));\n",
              "      fill: #FFFFFF;\n",
              "    }\n",
              "  </style>\n",
              "\n",
              "      <script>\n",
              "        const buttonEl =\n",
              "          document.querySelector('#df-e8d93e45-d840-4b1e-92ab-48ca8ce2bdaa button.colab-df-convert');\n",
              "        buttonEl.style.display =\n",
              "          google.colab.kernel.accessAllowed ? 'block' : 'none';\n",
              "\n",
              "        async function convertToInteractive(key) {\n",
              "          const element = document.querySelector('#df-e8d93e45-d840-4b1e-92ab-48ca8ce2bdaa');\n",
              "          const dataTable =\n",
              "            await google.colab.kernel.invokeFunction('convertToInteractive',\n",
              "                                                     [key], {});\n",
              "          if (!dataTable) return;\n",
              "\n",
              "          const docLinkHtml = 'Like what you see? Visit the ' +\n",
              "            '<a target=\"_blank\" href=https://colab.research.google.com/notebooks/data_table.ipynb>data table notebook</a>'\n",
              "            + ' to learn more about interactive tables.';\n",
              "          element.innerHTML = '';\n",
              "          dataTable['output_type'] = 'display_data';\n",
              "          await google.colab.output.renderOutput(dataTable, element);\n",
              "          const docLink = document.createElement('div');\n",
              "          docLink.innerHTML = docLinkHtml;\n",
              "          element.appendChild(docLink);\n",
              "        }\n",
              "      </script>\n",
              "    </div>\n",
              "  </div>\n",
              "  "
            ]
          },
          "metadata": {},
          "execution_count": 8
        }
      ]
    },
    {
      "cell_type": "code",
      "source": [
        "sentences_clean.shape"
      ],
      "metadata": {
        "colab": {
          "base_uri": "https://localhost:8080/"
        },
        "id": "T6Cu8tXNj-yr",
        "outputId": "172de182-41cc-498b-90e1-14281fe8c970"
      },
      "execution_count": 9,
      "outputs": [
        {
          "output_type": "execute_result",
          "data": {
            "text/plain": [
              "(3231381, 2)"
            ]
          },
          "metadata": {},
          "execution_count": 9
        }
      ]
    },
    {
      "cell_type": "markdown",
      "source": [
        "## Create spacy pipe functions & joblib functions"
      ],
      "metadata": {
        "id": "jTrssL8J4Oa7"
      }
    },
    {
      "cell_type": "code",
      "source": [
        "def pos_noun_pipe(doc):\n",
        "    noun_list = [tok.text for tok in doc.noun_chunks] \n",
        "    return noun_list"
      ],
      "metadata": {
        "id": "lDkSSnbwik7M"
      },
      "execution_count": 10,
      "outputs": []
    },
    {
      "cell_type": "code",
      "source": [
        "from joblib import Parallel, delayed\n",
        "\n",
        "def chunker(iterable, total_length, chunksize):\n",
        "    return (iterable[pos: pos + chunksize] for pos in range(0, total_length, chunksize))\n",
        "\n",
        "def flatten(list_of_lists):\n",
        "    \"Flatten a list of lists to a combined list\"\n",
        "    return [item for sublist in list_of_lists for item in sublist]\n",
        "\n",
        "def process_chunk(texts):\n",
        "    preproc_pipe = []\n",
        "    for doc in nlp.pipe(texts, batch_size=1000):\n",
        "        preproc_pipe.append(pos_noun_pipe(doc))\n",
        "    return preproc_pipe\n",
        "\n",
        "def preprocess_parallel(texts, chunksize=5000):\n",
        "    executor = Parallel(n_jobs=7, backend='multiprocessing', prefer=\"processes\")\n",
        "    do = delayed(process_chunk)\n",
        "    tasks = (do(chunk) for chunk in chunker(texts, len(texts), chunksize=chunksize))\n",
        "    result = executor(tasks)\n",
        "    return flatten(result)"
      ],
      "metadata": {
        "id": "Ua2ay-D-h29Z"
      },
      "execution_count": 11,
      "outputs": []
    },
    {
      "cell_type": "code",
      "source": [
        "sentences_clean.shape"
      ],
      "metadata": {
        "colab": {
          "base_uri": "https://localhost:8080/"
        },
        "id": "9ugPn8mDjbaB",
        "outputId": "ea0fe6bb-cc61-4e95-9437-b684e0781d50"
      },
      "execution_count": 12,
      "outputs": [
        {
          "output_type": "execute_result",
          "data": {
            "text/plain": [
              "(3231381, 2)"
            ]
          },
          "metadata": {},
          "execution_count": 12
        }
      ]
    },
    {
      "cell_type": "markdown",
      "source": [
        "## Test different batch and chunk sizes"
      ],
      "metadata": {
        "id": "UBACpKddt5OR"
      }
    },
    {
      "cell_type": "code",
      "source": [
        "# test\n",
        "tst = sentences_clean.iloc[:100].copy()"
      ],
      "metadata": {
        "id": "LdCkAuX7kc83"
      },
      "execution_count": 13,
      "outputs": []
    },
    {
      "cell_type": "code",
      "source": [
        "%%time\n",
        "tst['noun_phrases'] = preprocess_parallel(tst['sentence'].astype(\"object\"), chunksize=10_000)"
      ],
      "metadata": {
        "colab": {
          "base_uri": "https://localhost:8080/"
        },
        "id": "G6EOgWhXkc11",
        "outputId": "ecc70b5f-195c-44a8-8ea5-a03d75917b25"
      },
      "execution_count": 14,
      "outputs": [
        {
          "output_type": "stream",
          "name": "stdout",
          "text": [
            "CPU times: user 326 ms, sys: 502 ms, total: 828 ms\n",
            "Wall time: 1.6 s\n"
          ]
        }
      ]
    },
    {
      "cell_type": "markdown",
      "source": [
        "- 10000 in 17 bei 5000 chunk and 1000 batch\n",
        "- 10000 in 22 bei 500 chunk and 1000 batch\n",
        "- 10000 in 22 bei 10000 chunk and 5000 batch\n",
        "- 10000 in 20 bei 10000 chunk and 1000 batch"
      ],
      "metadata": {
        "id": "JxJS93Lqmuvw"
      }
    },
    {
      "cell_type": "markdown",
      "source": [
        "- 20_000 in 37.3 bei 5000 chunk and 1000 batch\n",
        "- 20_000 in 37.9 bei 5000 chunk and 2000 batch\n",
        "- 20_000 in 35.3 bei 5000 chunk and 100 batch\n",
        "- 20_000 in 33.1 bei 10_000 chunk and 100 batch\n",
        "- 20_000 in 35.2 bei 10_000 chunk and 50 batch\n",
        "- 20_000 in 40.7 bei 10_000 chunk and 200 batch"
      ],
      "metadata": {
        "id": "GoC13eCkpgo4"
      }
    },
    {
      "cell_type": "code",
      "source": [
        "# Assuming the speed would be constant it would take 1.5 hrs to do all sentences\n",
        "sentences_clean.shape[0]/600/60/60"
      ],
      "metadata": {
        "colab": {
          "base_uri": "https://localhost:8080/"
        },
        "id": "RhqhaqDOjzs1",
        "outputId": "0c46760e-80df-4dab-e7f7-21e418319dfa"
      },
      "execution_count": 15,
      "outputs": [
        {
          "output_type": "execute_result",
          "data": {
            "text/plain": [
              "1.4960097222222224"
            ]
          },
          "metadata": {},
          "execution_count": 15
        }
      ]
    },
    {
      "cell_type": "markdown",
      "source": [
        "## POS Tag all sentences\n",
        "With 10_000 chunksize and 1000 batch size"
      ],
      "metadata": {
        "id": "TPb-yeTLt9QG"
      }
    },
    {
      "cell_type": "code",
      "source": [
        "%%time\n",
        "sentences_clean['noun_phrases'] = preprocess_parallel(sentences_clean['sentence'].astype(str), chunksize=10_000)"
      ],
      "metadata": {
        "colab": {
          "base_uri": "https://localhost:8080/"
        },
        "id": "Ip14QRkih20S",
        "outputId": "8beb50bc-d6a2-4f1b-afb1-603fe2a9fdf7"
      },
      "execution_count": 16,
      "outputs": [
        {
          "output_type": "stream",
          "name": "stdout",
          "text": [
            "CPU times: user 1min 13s, sys: 17 s, total: 1min 30s\n",
            "Wall time: 1h 33min 50s\n"
          ]
        }
      ]
    },
    {
      "cell_type": "code",
      "source": [
        "# Lets check some sample rows\n",
        "sentences_clean.sample(5)"
      ],
      "metadata": {
        "colab": {
          "base_uri": "https://localhost:8080/",
          "height": 206
        },
        "id": "_-fuMDYivFAH",
        "outputId": "baab63a4-f08b-496b-b431-190981447f23"
      },
      "execution_count": 17,
      "outputs": [
        {
          "output_type": "execute_result",
          "data": {
            "text/plain": [
              "              sentence_id                                           sentence  \\\n",
              "5328168  5464_19948_19961  In comparison, the catalog group averages were...   \n",
              "3282534    3416_4198_4213  perceptions and expectations of the system and...   \n",
              "4528287  4634_23914_23918                              −6415.4 \\n0.050 \\n \\n   \n",
              "2671193  2860_14753_14782  With behavior controls, sensemakers are told h...   \n",
              "4921098    5032_6663_6675  forming all the substrings that still include ...   \n",
              "\n",
              "                                              noun_phrases  \n",
              "5328168  [comparison, the catalog group averages, both ...  \n",
              "3282534  [perceptions, expectations, the system, organi...  \n",
              "4528287                                          [−6415.4]  \n",
              "2671193  [behavior controls, sensemakers, their work, s...  \n",
              "4921098            [all the substrings, that, the symbols]  "
            ],
            "text/html": [
              "\n",
              "  <div id=\"df-e02a4c98-b7a0-4fc7-b501-ec037ada0bd6\">\n",
              "    <div class=\"colab-df-container\">\n",
              "      <div>\n",
              "<style scoped>\n",
              "    .dataframe tbody tr th:only-of-type {\n",
              "        vertical-align: middle;\n",
              "    }\n",
              "\n",
              "    .dataframe tbody tr th {\n",
              "        vertical-align: top;\n",
              "    }\n",
              "\n",
              "    .dataframe thead th {\n",
              "        text-align: right;\n",
              "    }\n",
              "</style>\n",
              "<table border=\"1\" class=\"dataframe\">\n",
              "  <thead>\n",
              "    <tr style=\"text-align: right;\">\n",
              "      <th></th>\n",
              "      <th>sentence_id</th>\n",
              "      <th>sentence</th>\n",
              "      <th>noun_phrases</th>\n",
              "    </tr>\n",
              "  </thead>\n",
              "  <tbody>\n",
              "    <tr>\n",
              "      <th>5328168</th>\n",
              "      <td>5464_19948_19961</td>\n",
              "      <td>In comparison, the catalog group averages were...</td>\n",
              "      <td>[comparison, the catalog group averages, both ...</td>\n",
              "    </tr>\n",
              "    <tr>\n",
              "      <th>3282534</th>\n",
              "      <td>3416_4198_4213</td>\n",
              "      <td>perceptions and expectations of the system and...</td>\n",
              "      <td>[perceptions, expectations, the system, organi...</td>\n",
              "    </tr>\n",
              "    <tr>\n",
              "      <th>4528287</th>\n",
              "      <td>4634_23914_23918</td>\n",
              "      <td>−6415.4 \\n0.050 \\n \\n</td>\n",
              "      <td>[−6415.4]</td>\n",
              "    </tr>\n",
              "    <tr>\n",
              "      <th>2671193</th>\n",
              "      <td>2860_14753_14782</td>\n",
              "      <td>With behavior controls, sensemakers are told h...</td>\n",
              "      <td>[behavior controls, sensemakers, their work, s...</td>\n",
              "    </tr>\n",
              "    <tr>\n",
              "      <th>4921098</th>\n",
              "      <td>5032_6663_6675</td>\n",
              "      <td>forming all the substrings that still include ...</td>\n",
              "      <td>[all the substrings, that, the symbols]</td>\n",
              "    </tr>\n",
              "  </tbody>\n",
              "</table>\n",
              "</div>\n",
              "      <button class=\"colab-df-convert\" onclick=\"convertToInteractive('df-e02a4c98-b7a0-4fc7-b501-ec037ada0bd6')\"\n",
              "              title=\"Convert this dataframe to an interactive table.\"\n",
              "              style=\"display:none;\">\n",
              "        \n",
              "  <svg xmlns=\"http://www.w3.org/2000/svg\" height=\"24px\"viewBox=\"0 0 24 24\"\n",
              "       width=\"24px\">\n",
              "    <path d=\"M0 0h24v24H0V0z\" fill=\"none\"/>\n",
              "    <path d=\"M18.56 5.44l.94 2.06.94-2.06 2.06-.94-2.06-.94-.94-2.06-.94 2.06-2.06.94zm-11 1L8.5 8.5l.94-2.06 2.06-.94-2.06-.94L8.5 2.5l-.94 2.06-2.06.94zm10 10l.94 2.06.94-2.06 2.06-.94-2.06-.94-.94-2.06-.94 2.06-2.06.94z\"/><path d=\"M17.41 7.96l-1.37-1.37c-.4-.4-.92-.59-1.43-.59-.52 0-1.04.2-1.43.59L10.3 9.45l-7.72 7.72c-.78.78-.78 2.05 0 2.83L4 21.41c.39.39.9.59 1.41.59.51 0 1.02-.2 1.41-.59l7.78-7.78 2.81-2.81c.8-.78.8-2.07 0-2.86zM5.41 20L4 18.59l7.72-7.72 1.47 1.35L5.41 20z\"/>\n",
              "  </svg>\n",
              "      </button>\n",
              "      \n",
              "  <style>\n",
              "    .colab-df-container {\n",
              "      display:flex;\n",
              "      flex-wrap:wrap;\n",
              "      gap: 12px;\n",
              "    }\n",
              "\n",
              "    .colab-df-convert {\n",
              "      background-color: #E8F0FE;\n",
              "      border: none;\n",
              "      border-radius: 50%;\n",
              "      cursor: pointer;\n",
              "      display: none;\n",
              "      fill: #1967D2;\n",
              "      height: 32px;\n",
              "      padding: 0 0 0 0;\n",
              "      width: 32px;\n",
              "    }\n",
              "\n",
              "    .colab-df-convert:hover {\n",
              "      background-color: #E2EBFA;\n",
              "      box-shadow: 0px 1px 2px rgba(60, 64, 67, 0.3), 0px 1px 3px 1px rgba(60, 64, 67, 0.15);\n",
              "      fill: #174EA6;\n",
              "    }\n",
              "\n",
              "    [theme=dark] .colab-df-convert {\n",
              "      background-color: #3B4455;\n",
              "      fill: #D2E3FC;\n",
              "    }\n",
              "\n",
              "    [theme=dark] .colab-df-convert:hover {\n",
              "      background-color: #434B5C;\n",
              "      box-shadow: 0px 1px 3px 1px rgba(0, 0, 0, 0.15);\n",
              "      filter: drop-shadow(0px 1px 2px rgba(0, 0, 0, 0.3));\n",
              "      fill: #FFFFFF;\n",
              "    }\n",
              "  </style>\n",
              "\n",
              "      <script>\n",
              "        const buttonEl =\n",
              "          document.querySelector('#df-e02a4c98-b7a0-4fc7-b501-ec037ada0bd6 button.colab-df-convert');\n",
              "        buttonEl.style.display =\n",
              "          google.colab.kernel.accessAllowed ? 'block' : 'none';\n",
              "\n",
              "        async function convertToInteractive(key) {\n",
              "          const element = document.querySelector('#df-e02a4c98-b7a0-4fc7-b501-ec037ada0bd6');\n",
              "          const dataTable =\n",
              "            await google.colab.kernel.invokeFunction('convertToInteractive',\n",
              "                                                     [key], {});\n",
              "          if (!dataTable) return;\n",
              "\n",
              "          const docLinkHtml = 'Like what you see? Visit the ' +\n",
              "            '<a target=\"_blank\" href=https://colab.research.google.com/notebooks/data_table.ipynb>data table notebook</a>'\n",
              "            + ' to learn more about interactive tables.';\n",
              "          element.innerHTML = '';\n",
              "          dataTable['output_type'] = 'display_data';\n",
              "          await google.colab.output.renderOutput(dataTable, element);\n",
              "          const docLink = document.createElement('div');\n",
              "          docLink.innerHTML = docLinkHtml;\n",
              "          element.appendChild(docLink);\n",
              "        }\n",
              "      </script>\n",
              "    </div>\n",
              "  </div>\n",
              "  "
            ]
          },
          "metadata": {},
          "execution_count": 17
        }
      ]
    },
    {
      "cell_type": "code",
      "source": [
        "sentences_clean.shape"
      ],
      "metadata": {
        "colab": {
          "base_uri": "https://localhost:8080/"
        },
        "id": "lYabc2w8kL2t",
        "outputId": "cefd5c89-a01d-4ea4-daed-607beffaa244"
      },
      "execution_count": 19,
      "outputs": [
        {
          "output_type": "execute_result",
          "data": {
            "text/plain": [
              "(3231381, 3)"
            ]
          },
          "metadata": {},
          "execution_count": 19
        }
      ]
    },
    {
      "cell_type": "code",
      "source": [
        "# Drop sentence from the dataframe\n",
        "sentences_tagged = sentences_clean.drop(columns=[\"sentence\"])"
      ],
      "metadata": {
        "id": "7JyCSWlLuoRk"
      },
      "execution_count": 20,
      "outputs": []
    },
    {
      "cell_type": "code",
      "source": [
        "# Explode list of noun_phrases per sentence\n",
        "sentences_tagged = sentences_tagged.explode(\"noun_phrases\")"
      ],
      "metadata": {
        "id": "mXHl1Iaeh2pf"
      },
      "execution_count": 27,
      "outputs": []
    },
    {
      "cell_type": "code",
      "source": [
        "sentences_tagged.shape"
      ],
      "metadata": {
        "colab": {
          "base_uri": "https://localhost:8080/"
        },
        "id": "06bZ3D60kTDh",
        "outputId": "dc5f2860-e2bd-4800-812e-4979a7251d6a"
      },
      "execution_count": 28,
      "outputs": [
        {
          "output_type": "execute_result",
          "data": {
            "text/plain": [
              "(17483785, 2)"
            ]
          },
          "metadata": {},
          "execution_count": 28
        }
      ]
    },
    {
      "cell_type": "code",
      "source": [
        "# Lets check some sample rows\n",
        "sentences_tagged.sample(5)"
      ],
      "metadata": {
        "id": "kAsNH0D4h2XT",
        "colab": {
          "base_uri": "https://localhost:8080/",
          "height": 206
        },
        "outputId": "33cd2711-c6c0-49be-e281-fbce37cacd8f"
      },
      "execution_count": 29,
      "outputs": [
        {
          "output_type": "execute_result",
          "data": {
            "text/plain": [
              "              sentence_id      noun_phrases\n",
              "3076220  3237_13455_13493  the availability\n",
              "1370134    1485_3235_3263       the pathway\n",
              "2202976  2389_16132_16168        principles\n",
              "2797178    2964_1654_1656             Power\n",
              "2601318    2786_3985_4019   the performance"
            ],
            "text/html": [
              "\n",
              "  <div id=\"df-dbcc697b-f305-448c-a5b1-1e64726e7156\">\n",
              "    <div class=\"colab-df-container\">\n",
              "      <div>\n",
              "<style scoped>\n",
              "    .dataframe tbody tr th:only-of-type {\n",
              "        vertical-align: middle;\n",
              "    }\n",
              "\n",
              "    .dataframe tbody tr th {\n",
              "        vertical-align: top;\n",
              "    }\n",
              "\n",
              "    .dataframe thead th {\n",
              "        text-align: right;\n",
              "    }\n",
              "</style>\n",
              "<table border=\"1\" class=\"dataframe\">\n",
              "  <thead>\n",
              "    <tr style=\"text-align: right;\">\n",
              "      <th></th>\n",
              "      <th>sentence_id</th>\n",
              "      <th>noun_phrases</th>\n",
              "    </tr>\n",
              "  </thead>\n",
              "  <tbody>\n",
              "    <tr>\n",
              "      <th>3076220</th>\n",
              "      <td>3237_13455_13493</td>\n",
              "      <td>the availability</td>\n",
              "    </tr>\n",
              "    <tr>\n",
              "      <th>1370134</th>\n",
              "      <td>1485_3235_3263</td>\n",
              "      <td>the pathway</td>\n",
              "    </tr>\n",
              "    <tr>\n",
              "      <th>2202976</th>\n",
              "      <td>2389_16132_16168</td>\n",
              "      <td>principles</td>\n",
              "    </tr>\n",
              "    <tr>\n",
              "      <th>2797178</th>\n",
              "      <td>2964_1654_1656</td>\n",
              "      <td>Power</td>\n",
              "    </tr>\n",
              "    <tr>\n",
              "      <th>2601318</th>\n",
              "      <td>2786_3985_4019</td>\n",
              "      <td>the performance</td>\n",
              "    </tr>\n",
              "  </tbody>\n",
              "</table>\n",
              "</div>\n",
              "      <button class=\"colab-df-convert\" onclick=\"convertToInteractive('df-dbcc697b-f305-448c-a5b1-1e64726e7156')\"\n",
              "              title=\"Convert this dataframe to an interactive table.\"\n",
              "              style=\"display:none;\">\n",
              "        \n",
              "  <svg xmlns=\"http://www.w3.org/2000/svg\" height=\"24px\"viewBox=\"0 0 24 24\"\n",
              "       width=\"24px\">\n",
              "    <path d=\"M0 0h24v24H0V0z\" fill=\"none\"/>\n",
              "    <path d=\"M18.56 5.44l.94 2.06.94-2.06 2.06-.94-2.06-.94-.94-2.06-.94 2.06-2.06.94zm-11 1L8.5 8.5l.94-2.06 2.06-.94-2.06-.94L8.5 2.5l-.94 2.06-2.06.94zm10 10l.94 2.06.94-2.06 2.06-.94-2.06-.94-.94-2.06-.94 2.06-2.06.94z\"/><path d=\"M17.41 7.96l-1.37-1.37c-.4-.4-.92-.59-1.43-.59-.52 0-1.04.2-1.43.59L10.3 9.45l-7.72 7.72c-.78.78-.78 2.05 0 2.83L4 21.41c.39.39.9.59 1.41.59.51 0 1.02-.2 1.41-.59l7.78-7.78 2.81-2.81c.8-.78.8-2.07 0-2.86zM5.41 20L4 18.59l7.72-7.72 1.47 1.35L5.41 20z\"/>\n",
              "  </svg>\n",
              "      </button>\n",
              "      \n",
              "  <style>\n",
              "    .colab-df-container {\n",
              "      display:flex;\n",
              "      flex-wrap:wrap;\n",
              "      gap: 12px;\n",
              "    }\n",
              "\n",
              "    .colab-df-convert {\n",
              "      background-color: #E8F0FE;\n",
              "      border: none;\n",
              "      border-radius: 50%;\n",
              "      cursor: pointer;\n",
              "      display: none;\n",
              "      fill: #1967D2;\n",
              "      height: 32px;\n",
              "      padding: 0 0 0 0;\n",
              "      width: 32px;\n",
              "    }\n",
              "\n",
              "    .colab-df-convert:hover {\n",
              "      background-color: #E2EBFA;\n",
              "      box-shadow: 0px 1px 2px rgba(60, 64, 67, 0.3), 0px 1px 3px 1px rgba(60, 64, 67, 0.15);\n",
              "      fill: #174EA6;\n",
              "    }\n",
              "\n",
              "    [theme=dark] .colab-df-convert {\n",
              "      background-color: #3B4455;\n",
              "      fill: #D2E3FC;\n",
              "    }\n",
              "\n",
              "    [theme=dark] .colab-df-convert:hover {\n",
              "      background-color: #434B5C;\n",
              "      box-shadow: 0px 1px 3px 1px rgba(0, 0, 0, 0.15);\n",
              "      filter: drop-shadow(0px 1px 2px rgba(0, 0, 0, 0.3));\n",
              "      fill: #FFFFFF;\n",
              "    }\n",
              "  </style>\n",
              "\n",
              "      <script>\n",
              "        const buttonEl =\n",
              "          document.querySelector('#df-dbcc697b-f305-448c-a5b1-1e64726e7156 button.colab-df-convert');\n",
              "        buttonEl.style.display =\n",
              "          google.colab.kernel.accessAllowed ? 'block' : 'none';\n",
              "\n",
              "        async function convertToInteractive(key) {\n",
              "          const element = document.querySelector('#df-dbcc697b-f305-448c-a5b1-1e64726e7156');\n",
              "          const dataTable =\n",
              "            await google.colab.kernel.invokeFunction('convertToInteractive',\n",
              "                                                     [key], {});\n",
              "          if (!dataTable) return;\n",
              "\n",
              "          const docLinkHtml = 'Like what you see? Visit the ' +\n",
              "            '<a target=\"_blank\" href=https://colab.research.google.com/notebooks/data_table.ipynb>data table notebook</a>'\n",
              "            + ' to learn more about interactive tables.';\n",
              "          element.innerHTML = '';\n",
              "          dataTable['output_type'] = 'display_data';\n",
              "          await google.colab.output.renderOutput(dataTable, element);\n",
              "          const docLink = document.createElement('div');\n",
              "          docLink.innerHTML = docLinkHtml;\n",
              "          element.appendChild(docLink);\n",
              "        }\n",
              "      </script>\n",
              "    </div>\n",
              "  </div>\n",
              "  "
            ]
          },
          "metadata": {},
          "execution_count": 29
        }
      ]
    },
    {
      "cell_type": "code",
      "source": [
        "data_path_group = data_path[:-10]+\"Topic 1/Data_Team1/\""
      ],
      "metadata": {
        "id": "tO0qq1qgvNia"
      },
      "execution_count": 30,
      "outputs": []
    },
    {
      "cell_type": "code",
      "source": [
        "sentences_tagged.to_csv(data_path_group+\"sentences_noun_phrs_cmpl.csv\")"
      ],
      "metadata": {
        "id": "5FDx8Bk1vNib"
      },
      "execution_count": 31,
      "outputs": []
    },
    {
      "cell_type": "code",
      "source": [
        ""
      ],
      "metadata": {
        "id": "vMd5MV_TmYxi"
      },
      "execution_count": null,
      "outputs": []
    }
  ]
}