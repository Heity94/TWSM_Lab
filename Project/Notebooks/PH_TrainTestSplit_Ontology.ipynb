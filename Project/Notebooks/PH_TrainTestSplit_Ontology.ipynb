{
  "nbformat": 4,
  "nbformat_minor": 0,
  "metadata": {
    "colab": {
      "name": "PH_TrainTestSplit_Ontology.ipynb",
      "provenance": [],
      "collapsed_sections": [],
      "toc_visible": true,
      "authorship_tag": "ABX9TyMRnT09pw711oFt3/tEma26",
      "include_colab_link": true
    },
    "kernelspec": {
      "name": "python3",
      "display_name": "Python 3"
    },
    "language_info": {
      "name": "python"
    }
  },
  "cells": [
    {
      "cell_type": "markdown",
      "metadata": {
        "id": "view-in-github",
        "colab_type": "text"
      },
      "source": [
        "<a href=\"https://colab.research.google.com/github/Heity94/TWSM_Lab/blob/main/Project/Notebooks/PH_TrainTestSplit_Ontology.ipynb\" target=\"_parent\"><img src=\"https://colab.research.google.com/assets/colab-badge.svg\" alt=\"Open In Colab\"/></a>"
      ]
    },
    {
      "cell_type": "code",
      "source": [
        "# Declare whether you are on Colab or local\n",
        "colab = True"
      ],
      "metadata": {
        "id": "ZLCnX2r2075S"
      },
      "execution_count": 1,
      "outputs": []
    },
    {
      "cell_type": "code",
      "source": [
        "if colab==True:\n",
        "  \n",
        "  #Mount drive\n",
        "  from google.colab import drive\n",
        "  drive.mount('/content/drive')\n",
        "\n",
        "  #set path to data in Google Drive\n",
        "  data_path = \"/content/drive/MyDrive/2022_Analytics Lab Student Projects/Data/All Topics\"\n",
        "\n",
        "  #install required packages\n",
        "  !pip install duckdb\n",
        "  #!pip install -U sentence-transformers"
      ],
      "metadata": {
        "id": "gnOLlVER1KDP",
        "colab": {
          "base_uri": "https://localhost:8080/"
        },
        "outputId": "0e4a2869-3575-40bb-e7ab-254e7fe852bb"
      },
      "execution_count": 4,
      "outputs": [
        {
          "output_type": "stream",
          "name": "stdout",
          "text": [
            "Drive already mounted at /content/drive; to attempt to forcibly remount, call drive.mount(\"/content/drive\", force_remount=True).\n",
            "Looking in indexes: https://pypi.org/simple, https://us-python.pkg.dev/colab-wheels/public/simple/\n",
            "Collecting duckdb\n",
            "  Using cached duckdb-0.4.0-cp37-cp37m-manylinux_2_17_x86_64.manylinux2014_x86_64.whl (15.7 MB)\n",
            "Requirement already satisfied: numpy>=1.14 in /usr/local/lib/python3.7/dist-packages (from duckdb) (1.21.6)\n",
            "Installing collected packages: duckdb\n",
            "Successfully installed duckdb-0.4.0\n"
          ]
        }
      ]
    },
    {
      "cell_type": "code",
      "execution_count": 5,
      "metadata": {
        "id": "RZ15XodGz4Io"
      },
      "outputs": [],
      "source": [
        "# Import sentence_transformers \n",
        "# from sentence_transformers import SentenceTransformer, util"
      ]
    },
    {
      "cell_type": "code",
      "execution_count": 6,
      "metadata": {
        "id": "bwv57XAzz4IH"
      },
      "outputs": [],
      "source": [
        "#Imports\n",
        "import pandas as pd\n",
        "import numpy as np\n",
        "import matplotlib.pyplot as plt\n",
        "import seaborn as sns\n",
        "import pickle\n",
        "import duckdb\n",
        "import sqlalchemy\n",
        "#%load_ext sql"
      ]
    },
    {
      "cell_type": "markdown",
      "source": [
        "# Train-validation-test split the ontology"
      ],
      "metadata": {
        "id": "bJQPOkEnEij4"
      }
    },
    {
      "cell_type": "markdown",
      "source": [
        "### Load data"
      ],
      "metadata": {
        "id": "cP9RMv6dEAF-"
      }
    },
    {
      "cell_type": "markdown",
      "source": [
        "#### Ontology + synonyms"
      ],
      "metadata": {
        "id": "uzpj55-LPpPw"
      }
    },
    {
      "cell_type": "code",
      "source": [
        "if colab==True:\n",
        "  ontology_syn = pd.read_csv(data_path+\"/Synonyms in Ontology/isontology.csv\", index_col=0)\n",
        "else:\n",
        "  ontology_syn = pd.read_csv(\"../Data/SynonymsinOntology/isontology.csv\", index_col=0)\n",
        "ontology_syn.shape"
      ],
      "metadata": {
        "colab": {
          "base_uri": "https://localhost:8080/"
        },
        "id": "qQ8vcHhIF7vT",
        "outputId": "3e6104f7-0bd1-4f31-b137-a984b82f90a7"
      },
      "execution_count": 7,
      "outputs": [
        {
          "output_type": "execute_result",
          "data": {
            "text/plain": [
              "(397942, 4)"
            ]
          },
          "metadata": {},
          "execution_count": 7
        }
      ]
    },
    {
      "cell_type": "code",
      "source": [
        "ontology_syn.head()"
      ],
      "metadata": {
        "colab": {
          "base_uri": "https://localhost:8080/",
          "height": 206
        },
        "id": "1IF-_3yrE23p",
        "outputId": "5907db30-55d8-4416-a441-a1767a223d06"
      },
      "execution_count": 10,
      "outputs": [
        {
          "output_type": "execute_result",
          "data": {
            "text/plain": [
              "     entity_id                category  label             synonym\n",
              "0     IS topic  domain specific entity  TOPIC            IS topic\n",
              "1     IS topic  domain specific entity  TOPIC           IS topics\n",
              "2  IS sourcing  domain specific entity  TOPIC    IS / IT sourcing\n",
              "3  IS sourcing  domain specific entity  TOPIC       tool sourcing\n",
              "4  IS sourcing  domain specific entity  TOPIC  software sourcings"
            ],
            "text/html": [
              "\n",
              "  <div id=\"df-df5cec6c-a8b5-41b2-bee9-9d5ee8f18bf8\">\n",
              "    <div class=\"colab-df-container\">\n",
              "      <div>\n",
              "<style scoped>\n",
              "    .dataframe tbody tr th:only-of-type {\n",
              "        vertical-align: middle;\n",
              "    }\n",
              "\n",
              "    .dataframe tbody tr th {\n",
              "        vertical-align: top;\n",
              "    }\n",
              "\n",
              "    .dataframe thead th {\n",
              "        text-align: right;\n",
              "    }\n",
              "</style>\n",
              "<table border=\"1\" class=\"dataframe\">\n",
              "  <thead>\n",
              "    <tr style=\"text-align: right;\">\n",
              "      <th></th>\n",
              "      <th>entity_id</th>\n",
              "      <th>category</th>\n",
              "      <th>label</th>\n",
              "      <th>synonym</th>\n",
              "    </tr>\n",
              "  </thead>\n",
              "  <tbody>\n",
              "    <tr>\n",
              "      <th>0</th>\n",
              "      <td>IS topic</td>\n",
              "      <td>domain specific entity</td>\n",
              "      <td>TOPIC</td>\n",
              "      <td>IS topic</td>\n",
              "    </tr>\n",
              "    <tr>\n",
              "      <th>1</th>\n",
              "      <td>IS topic</td>\n",
              "      <td>domain specific entity</td>\n",
              "      <td>TOPIC</td>\n",
              "      <td>IS topics</td>\n",
              "    </tr>\n",
              "    <tr>\n",
              "      <th>2</th>\n",
              "      <td>IS sourcing</td>\n",
              "      <td>domain specific entity</td>\n",
              "      <td>TOPIC</td>\n",
              "      <td>IS / IT sourcing</td>\n",
              "    </tr>\n",
              "    <tr>\n",
              "      <th>3</th>\n",
              "      <td>IS sourcing</td>\n",
              "      <td>domain specific entity</td>\n",
              "      <td>TOPIC</td>\n",
              "      <td>tool sourcing</td>\n",
              "    </tr>\n",
              "    <tr>\n",
              "      <th>4</th>\n",
              "      <td>IS sourcing</td>\n",
              "      <td>domain specific entity</td>\n",
              "      <td>TOPIC</td>\n",
              "      <td>software sourcings</td>\n",
              "    </tr>\n",
              "  </tbody>\n",
              "</table>\n",
              "</div>\n",
              "      <button class=\"colab-df-convert\" onclick=\"convertToInteractive('df-df5cec6c-a8b5-41b2-bee9-9d5ee8f18bf8')\"\n",
              "              title=\"Convert this dataframe to an interactive table.\"\n",
              "              style=\"display:none;\">\n",
              "        \n",
              "  <svg xmlns=\"http://www.w3.org/2000/svg\" height=\"24px\"viewBox=\"0 0 24 24\"\n",
              "       width=\"24px\">\n",
              "    <path d=\"M0 0h24v24H0V0z\" fill=\"none\"/>\n",
              "    <path d=\"M18.56 5.44l.94 2.06.94-2.06 2.06-.94-2.06-.94-.94-2.06-.94 2.06-2.06.94zm-11 1L8.5 8.5l.94-2.06 2.06-.94-2.06-.94L8.5 2.5l-.94 2.06-2.06.94zm10 10l.94 2.06.94-2.06 2.06-.94-2.06-.94-.94-2.06-.94 2.06-2.06.94z\"/><path d=\"M17.41 7.96l-1.37-1.37c-.4-.4-.92-.59-1.43-.59-.52 0-1.04.2-1.43.59L10.3 9.45l-7.72 7.72c-.78.78-.78 2.05 0 2.83L4 21.41c.39.39.9.59 1.41.59.51 0 1.02-.2 1.41-.59l7.78-7.78 2.81-2.81c.8-.78.8-2.07 0-2.86zM5.41 20L4 18.59l7.72-7.72 1.47 1.35L5.41 20z\"/>\n",
              "  </svg>\n",
              "      </button>\n",
              "      \n",
              "  <style>\n",
              "    .colab-df-container {\n",
              "      display:flex;\n",
              "      flex-wrap:wrap;\n",
              "      gap: 12px;\n",
              "    }\n",
              "\n",
              "    .colab-df-convert {\n",
              "      background-color: #E8F0FE;\n",
              "      border: none;\n",
              "      border-radius: 50%;\n",
              "      cursor: pointer;\n",
              "      display: none;\n",
              "      fill: #1967D2;\n",
              "      height: 32px;\n",
              "      padding: 0 0 0 0;\n",
              "      width: 32px;\n",
              "    }\n",
              "\n",
              "    .colab-df-convert:hover {\n",
              "      background-color: #E2EBFA;\n",
              "      box-shadow: 0px 1px 2px rgba(60, 64, 67, 0.3), 0px 1px 3px 1px rgba(60, 64, 67, 0.15);\n",
              "      fill: #174EA6;\n",
              "    }\n",
              "\n",
              "    [theme=dark] .colab-df-convert {\n",
              "      background-color: #3B4455;\n",
              "      fill: #D2E3FC;\n",
              "    }\n",
              "\n",
              "    [theme=dark] .colab-df-convert:hover {\n",
              "      background-color: #434B5C;\n",
              "      box-shadow: 0px 1px 3px 1px rgba(0, 0, 0, 0.15);\n",
              "      filter: drop-shadow(0px 1px 2px rgba(0, 0, 0, 0.3));\n",
              "      fill: #FFFFFF;\n",
              "    }\n",
              "  </style>\n",
              "\n",
              "      <script>\n",
              "        const buttonEl =\n",
              "          document.querySelector('#df-df5cec6c-a8b5-41b2-bee9-9d5ee8f18bf8 button.colab-df-convert');\n",
              "        buttonEl.style.display =\n",
              "          google.colab.kernel.accessAllowed ? 'block' : 'none';\n",
              "\n",
              "        async function convertToInteractive(key) {\n",
              "          const element = document.querySelector('#df-df5cec6c-a8b5-41b2-bee9-9d5ee8f18bf8');\n",
              "          const dataTable =\n",
              "            await google.colab.kernel.invokeFunction('convertToInteractive',\n",
              "                                                     [key], {});\n",
              "          if (!dataTable) return;\n",
              "\n",
              "          const docLinkHtml = 'Like what you see? Visit the ' +\n",
              "            '<a target=\"_blank\" href=https://colab.research.google.com/notebooks/data_table.ipynb>data table notebook</a>'\n",
              "            + ' to learn more about interactive tables.';\n",
              "          element.innerHTML = '';\n",
              "          dataTable['output_type'] = 'display_data';\n",
              "          await google.colab.output.renderOutput(dataTable, element);\n",
              "          const docLink = document.createElement('div');\n",
              "          docLink.innerHTML = docLinkHtml;\n",
              "          element.appendChild(docLink);\n",
              "        }\n",
              "      </script>\n",
              "    </div>\n",
              "  </div>\n",
              "  "
            ]
          },
          "metadata": {},
          "execution_count": 10
        }
      ]
    },
    {
      "cell_type": "code",
      "source": [
        "## Check number of synonyms per entity_id\n",
        "#ent_sy_group = ontology_syn.groupby(\"entity_id\")[[\"synonym\"]].nunique().sort_values(by=\"synonym\", ascending=False)"
      ],
      "metadata": {
        "id": "bvTOGaPbGwxC"
      },
      "execution_count": 11,
      "outputs": []
    },
    {
      "cell_type": "code",
      "source": [
        "# # Downsample entities with more than 100 synonyms to a 100 synoyms (but always include \"main entity_id\" in subsample)\n",
        "# idx = ent_sy_group[ent_sy_group[\"synonym\"]>100].index.tolist()\n",
        "\n",
        "# dfs = []\n",
        "# for entity in idx:\n",
        "#   t1 = ontology_syn[(ontology_syn.entity_id==entity)&(ontology_syn.synonym==entity)]\n",
        "#   t2 = ontology_syn[(ontology_syn.entity_id==entity)&(ontology_syn.synonym!=entity)].sample(99)\n",
        "#   dfs.append(pd.concat([t1,t2]))\n",
        "# dfs.append(ontology_syn.loc[~ontology_syn[\"entity_id\"].isin(idx)]) # Append dataframe for all entities with less then 100 synonyms to list\n",
        "\n",
        "# # Combine all dataframes \n",
        "# ontology_syn_ds = pd.concat(dfs).reset_index(drop=True)"
      ],
      "metadata": {
        "id": "Sr9XB4llGIwR"
      },
      "execution_count": 12,
      "outputs": []
    },
    {
      "cell_type": "code",
      "source": [
        "#Show synonyms in ontology which appear in more than 1 entity\n",
        "#ontology_syn_ds[ontology_syn_ds.synonym.duplicated(keep=False)].sort_values(by=\"synonym\")"
      ],
      "metadata": {
        "id": "NnLHZUIlWWEt"
      },
      "execution_count": 13,
      "outputs": []
    },
    {
      "cell_type": "code",
      "source": [
        "#List of unique entities from ontology with synonyms with downsampling (apparently there are some duplicates in there?!)\n",
        "#entities_syn_unique_ds = ontology_syn_ds.synonym.unique().tolist()\n",
        "#ontology_syn_ds_unique = ontology_syn_ds.drop_duplicates(subset=\"synonym\")"
      ],
      "metadata": {
        "id": "RBU4KchiG7i1"
      },
      "execution_count": 14,
      "outputs": []
    },
    {
      "cell_type": "markdown",
      "source": [
        "#### Ontology.json (only structure of ontology with \"main\" entity ids (without synonmys)"
      ],
      "metadata": {
        "id": "Xs_VcozqFowh"
      }
    },
    {
      "cell_type": "code",
      "source": [
        "if colab==True:\n",
        "  ontology_json = pd.read_json(data_path+\"/Ontology/isontology.json\")#, orient=\"values\")#, index_col=0)"
      ],
      "metadata": {
        "id": "3oiutzymFxP0"
      },
      "execution_count": 33,
      "outputs": []
    },
    {
      "cell_type": "code",
      "source": [
        "ontology_json"
      ],
      "metadata": {
        "colab": {
          "base_uri": "https://localhost:8080/",
          "height": 520
        },
        "id": "MHvVLpbwHsbf",
        "outputId": "871d1bbd-464d-4139-c20f-a06884ca5ddb"
      },
      "execution_count": 34,
      "outputs": [
        {
          "output_type": "execute_result",
          "data": {
            "text/plain": [
              "                                                 root\n",
              "0   {'IS topic': [{'IS sourcing': [{'outsourcing':...\n",
              "1   {'research paradigm': [{'positivism': ['logica...\n",
              "2   {'model': ['taxonomy', 'framework', {'research...\n",
              "3   {'economic sector': ['private household', {'go...\n",
              "4   {'company type': [{'small and mid-size enterpr...\n",
              "5   {'participant': [{'individual participant': ['...\n",
              "6   {'level of analysis': [{'macro level': [{'soci...\n",
              "7   {'theory': [{'information systems theory': ['t...\n",
              "8   {'data analysis method': [{'qualitative analys...\n",
              "9   {'sampling': [{'non probabilistic sampling': [...\n",
              "10  {'IS technology': [{'enterprise information sy...\n",
              "11  {'conceptual method': [{'literature study': [{...\n",
              "12  {'statistical metric': [{'descriptive statisti...\n",
              "13  {'data collection method': [{'empirical quanti...\n",
              "14  {'validity': [{'one validity': [{'test validit..."
            ],
            "text/html": [
              "\n",
              "  <div id=\"df-c2801377-7808-4cfa-9abe-316672e5f510\">\n",
              "    <div class=\"colab-df-container\">\n",
              "      <div>\n",
              "<style scoped>\n",
              "    .dataframe tbody tr th:only-of-type {\n",
              "        vertical-align: middle;\n",
              "    }\n",
              "\n",
              "    .dataframe tbody tr th {\n",
              "        vertical-align: top;\n",
              "    }\n",
              "\n",
              "    .dataframe thead th {\n",
              "        text-align: right;\n",
              "    }\n",
              "</style>\n",
              "<table border=\"1\" class=\"dataframe\">\n",
              "  <thead>\n",
              "    <tr style=\"text-align: right;\">\n",
              "      <th></th>\n",
              "      <th>root</th>\n",
              "    </tr>\n",
              "  </thead>\n",
              "  <tbody>\n",
              "    <tr>\n",
              "      <th>0</th>\n",
              "      <td>{'IS topic': [{'IS sourcing': [{'outsourcing':...</td>\n",
              "    </tr>\n",
              "    <tr>\n",
              "      <th>1</th>\n",
              "      <td>{'research paradigm': [{'positivism': ['logica...</td>\n",
              "    </tr>\n",
              "    <tr>\n",
              "      <th>2</th>\n",
              "      <td>{'model': ['taxonomy', 'framework', {'research...</td>\n",
              "    </tr>\n",
              "    <tr>\n",
              "      <th>3</th>\n",
              "      <td>{'economic sector': ['private household', {'go...</td>\n",
              "    </tr>\n",
              "    <tr>\n",
              "      <th>4</th>\n",
              "      <td>{'company type': [{'small and mid-size enterpr...</td>\n",
              "    </tr>\n",
              "    <tr>\n",
              "      <th>5</th>\n",
              "      <td>{'participant': [{'individual participant': ['...</td>\n",
              "    </tr>\n",
              "    <tr>\n",
              "      <th>6</th>\n",
              "      <td>{'level of analysis': [{'macro level': [{'soci...</td>\n",
              "    </tr>\n",
              "    <tr>\n",
              "      <th>7</th>\n",
              "      <td>{'theory': [{'information systems theory': ['t...</td>\n",
              "    </tr>\n",
              "    <tr>\n",
              "      <th>8</th>\n",
              "      <td>{'data analysis method': [{'qualitative analys...</td>\n",
              "    </tr>\n",
              "    <tr>\n",
              "      <th>9</th>\n",
              "      <td>{'sampling': [{'non probabilistic sampling': [...</td>\n",
              "    </tr>\n",
              "    <tr>\n",
              "      <th>10</th>\n",
              "      <td>{'IS technology': [{'enterprise information sy...</td>\n",
              "    </tr>\n",
              "    <tr>\n",
              "      <th>11</th>\n",
              "      <td>{'conceptual method': [{'literature study': [{...</td>\n",
              "    </tr>\n",
              "    <tr>\n",
              "      <th>12</th>\n",
              "      <td>{'statistical metric': [{'descriptive statisti...</td>\n",
              "    </tr>\n",
              "    <tr>\n",
              "      <th>13</th>\n",
              "      <td>{'data collection method': [{'empirical quanti...</td>\n",
              "    </tr>\n",
              "    <tr>\n",
              "      <th>14</th>\n",
              "      <td>{'validity': [{'one validity': [{'test validit...</td>\n",
              "    </tr>\n",
              "  </tbody>\n",
              "</table>\n",
              "</div>\n",
              "      <button class=\"colab-df-convert\" onclick=\"convertToInteractive('df-c2801377-7808-4cfa-9abe-316672e5f510')\"\n",
              "              title=\"Convert this dataframe to an interactive table.\"\n",
              "              style=\"display:none;\">\n",
              "        \n",
              "  <svg xmlns=\"http://www.w3.org/2000/svg\" height=\"24px\"viewBox=\"0 0 24 24\"\n",
              "       width=\"24px\">\n",
              "    <path d=\"M0 0h24v24H0V0z\" fill=\"none\"/>\n",
              "    <path d=\"M18.56 5.44l.94 2.06.94-2.06 2.06-.94-2.06-.94-.94-2.06-.94 2.06-2.06.94zm-11 1L8.5 8.5l.94-2.06 2.06-.94-2.06-.94L8.5 2.5l-.94 2.06-2.06.94zm10 10l.94 2.06.94-2.06 2.06-.94-2.06-.94-.94-2.06-.94 2.06-2.06.94z\"/><path d=\"M17.41 7.96l-1.37-1.37c-.4-.4-.92-.59-1.43-.59-.52 0-1.04.2-1.43.59L10.3 9.45l-7.72 7.72c-.78.78-.78 2.05 0 2.83L4 21.41c.39.39.9.59 1.41.59.51 0 1.02-.2 1.41-.59l7.78-7.78 2.81-2.81c.8-.78.8-2.07 0-2.86zM5.41 20L4 18.59l7.72-7.72 1.47 1.35L5.41 20z\"/>\n",
              "  </svg>\n",
              "      </button>\n",
              "      \n",
              "  <style>\n",
              "    .colab-df-container {\n",
              "      display:flex;\n",
              "      flex-wrap:wrap;\n",
              "      gap: 12px;\n",
              "    }\n",
              "\n",
              "    .colab-df-convert {\n",
              "      background-color: #E8F0FE;\n",
              "      border: none;\n",
              "      border-radius: 50%;\n",
              "      cursor: pointer;\n",
              "      display: none;\n",
              "      fill: #1967D2;\n",
              "      height: 32px;\n",
              "      padding: 0 0 0 0;\n",
              "      width: 32px;\n",
              "    }\n",
              "\n",
              "    .colab-df-convert:hover {\n",
              "      background-color: #E2EBFA;\n",
              "      box-shadow: 0px 1px 2px rgba(60, 64, 67, 0.3), 0px 1px 3px 1px rgba(60, 64, 67, 0.15);\n",
              "      fill: #174EA6;\n",
              "    }\n",
              "\n",
              "    [theme=dark] .colab-df-convert {\n",
              "      background-color: #3B4455;\n",
              "      fill: #D2E3FC;\n",
              "    }\n",
              "\n",
              "    [theme=dark] .colab-df-convert:hover {\n",
              "      background-color: #434B5C;\n",
              "      box-shadow: 0px 1px 3px 1px rgba(0, 0, 0, 0.15);\n",
              "      filter: drop-shadow(0px 1px 2px rgba(0, 0, 0, 0.3));\n",
              "      fill: #FFFFFF;\n",
              "    }\n",
              "  </style>\n",
              "\n",
              "      <script>\n",
              "        const buttonEl =\n",
              "          document.querySelector('#df-c2801377-7808-4cfa-9abe-316672e5f510 button.colab-df-convert');\n",
              "        buttonEl.style.display =\n",
              "          google.colab.kernel.accessAllowed ? 'block' : 'none';\n",
              "\n",
              "        async function convertToInteractive(key) {\n",
              "          const element = document.querySelector('#df-c2801377-7808-4cfa-9abe-316672e5f510');\n",
              "          const dataTable =\n",
              "            await google.colab.kernel.invokeFunction('convertToInteractive',\n",
              "                                                     [key], {});\n",
              "          if (!dataTable) return;\n",
              "\n",
              "          const docLinkHtml = 'Like what you see? Visit the ' +\n",
              "            '<a target=\"_blank\" href=https://colab.research.google.com/notebooks/data_table.ipynb>data table notebook</a>'\n",
              "            + ' to learn more about interactive tables.';\n",
              "          element.innerHTML = '';\n",
              "          dataTable['output_type'] = 'display_data';\n",
              "          await google.colab.output.renderOutput(dataTable, element);\n",
              "          const docLink = document.createElement('div');\n",
              "          docLink.innerHTML = docLinkHtml;\n",
              "          element.appendChild(docLink);\n",
              "        }\n",
              "      </script>\n",
              "    </div>\n",
              "  </div>\n",
              "  "
            ]
          },
          "metadata": {},
          "execution_count": 34
        }
      ]
    },
    {
      "cell_type": "code",
      "source": [
        ""
      ],
      "metadata": {
        "id": "T_Jx5IcGF830"
      },
      "execution_count": null,
      "outputs": []
    },
    {
      "cell_type": "markdown",
      "source": [
        "#### Entities (Sentence_id + tagged entity_id) by Rolands script"
      ],
      "metadata": {
        "id": "1Qc3ClKUPu8y"
      }
    },
    {
      "cell_type": "code",
      "source": [
        "# Note that DBeaver must be closed, before you can run this command!\n",
        "if colab==True:\n",
        "  con = duckdb.connect(database=data_path+'/Extracted Information of Corpus/isrecon.duckdb', read_only=False)\n",
        "else:\n",
        "  con = duckdb.connect(database='../Data/ExtractedInformationofCorpus/isrecon.duckdb', read_only=False)"
      ],
      "metadata": {
        "id": "X16xHa4EMt_H"
      },
      "execution_count": 35,
      "outputs": []
    },
    {
      "cell_type": "markdown",
      "source": [
        "Lets load all the labeled main entities fro the duckdb"
      ],
      "metadata": {
        "id": "MKGjB60uJ0sl"
      }
    },
    {
      "cell_type": "code",
      "source": [
        "# Load first article as df\n",
        "entities = con.execute(\"\"\"\n",
        "                       SELECT article_id, sentence_id, ent_id, level_1, level_2, level_3, level_4, level_5, level_6, level_7, level_8, level_9, level_10,\n",
        "                       FROM entities e\n",
        "                       \"\"\").fetchdf()\n",
        "\n",
        "entities.shape"
      ],
      "metadata": {
        "colab": {
          "base_uri": "https://localhost:8080/"
        },
        "id": "5ZLnM9ShMorg",
        "outputId": "5ea765b7-7f23-4010-c635-e9a85824c1b4"
      },
      "execution_count": 49,
      "outputs": [
        {
          "output_type": "execute_result",
          "data": {
            "text/plain": [
              "(1797740, 13)"
            ]
          },
          "metadata": {},
          "execution_count": 49
        }
      ]
    },
    {
      "cell_type": "code",
      "source": [
        "# Main entities of first level of ontology\n",
        "entities.level_1.unique()"
      ],
      "metadata": {
        "colab": {
          "base_uri": "https://localhost:8080/"
        },
        "id": "UTYFb7HXaJhx",
        "outputId": "3b6e2939-3ded-424e-da28-28780beff363"
      },
      "execution_count": 72,
      "outputs": [
        {
          "output_type": "execute_result",
          "data": {
            "text/plain": [
              "array(['domain specific entity', 'theoretical entity',\n",
              "       'methodological entity'], dtype=object)"
            ]
          },
          "metadata": {},
          "execution_count": 72
        }
      ]
    },
    {
      "cell_type": "code",
      "source": [
        "# Main entities of 2nd level of ontology\n",
        "entities.level_2.unique()"
      ],
      "metadata": {
        "colab": {
          "base_uri": "https://localhost:8080/"
        },
        "id": "nEi1Dez2l2Hw",
        "outputId": "04454296-568b-4f6b-8a57-2bf6eac5291b"
      },
      "execution_count": 73,
      "outputs": [
        {
          "output_type": "execute_result",
          "data": {
            "text/plain": [
              "array(['IS technology', 'IS topic', 'economic sector', 'model',\n",
              "       'study object', 'research method', 'data analysis method',\n",
              "       'level of analysis', 'statistical metric', 'validity', 'theory',\n",
              "       'sampling', 'research paradigm'], dtype=object)"
            ]
          },
          "metadata": {},
          "execution_count": 73
        }
      ]
    },
    {
      "cell_type": "code",
      "source": [
        "# Distribution of entities from database accross first and second level\n",
        "entities.groupby([\"level_1\", \"level_2\"])[[\"ent_id\"]].aggregate([\"count\", \"nunique\"])"
      ],
      "metadata": {
        "colab": {
          "base_uri": "https://localhost:8080/",
          "height": 520
        },
        "id": "VBMNVrh2l67M",
        "outputId": "c11eb8a4-d646-4d4d-aa7c-3673de9e61d3"
      },
      "execution_count": 81,
      "outputs": [
        {
          "output_type": "execute_result",
          "data": {
            "text/plain": [
              "                                             ent_id        \n",
              "                                              count nunique\n",
              "level_1                level_2                             \n",
              "domain specific entity IS technology         463211     475\n",
              "                       IS topic              461262     416\n",
              "                       economic sector       102057     234\n",
              "                       study object           61799      21\n",
              "methodological entity  data analysis method   73002     292\n",
              "                       research method       257820     272\n",
              "                       sampling                6148      27\n",
              "                       statistical metric     78673      87\n",
              "                       validity               11357      25\n",
              "theoretical entity     level of analysis      12064      13\n",
              "                       model                 196827      31\n",
              "                       research paradigm      13429      14\n",
              "                       theory                 60091     223"
            ],
            "text/html": [
              "\n",
              "  <div id=\"df-decfdc45-1be0-4ddb-806b-d8113a15366f\">\n",
              "    <div class=\"colab-df-container\">\n",
              "      <div>\n",
              "<style scoped>\n",
              "    .dataframe tbody tr th:only-of-type {\n",
              "        vertical-align: middle;\n",
              "    }\n",
              "\n",
              "    .dataframe tbody tr th {\n",
              "        vertical-align: top;\n",
              "    }\n",
              "\n",
              "    .dataframe thead tr th {\n",
              "        text-align: left;\n",
              "    }\n",
              "\n",
              "    .dataframe thead tr:last-of-type th {\n",
              "        text-align: right;\n",
              "    }\n",
              "</style>\n",
              "<table border=\"1\" class=\"dataframe\">\n",
              "  <thead>\n",
              "    <tr>\n",
              "      <th></th>\n",
              "      <th></th>\n",
              "      <th colspan=\"2\" halign=\"left\">ent_id</th>\n",
              "    </tr>\n",
              "    <tr>\n",
              "      <th></th>\n",
              "      <th></th>\n",
              "      <th>count</th>\n",
              "      <th>nunique</th>\n",
              "    </tr>\n",
              "    <tr>\n",
              "      <th>level_1</th>\n",
              "      <th>level_2</th>\n",
              "      <th></th>\n",
              "      <th></th>\n",
              "    </tr>\n",
              "  </thead>\n",
              "  <tbody>\n",
              "    <tr>\n",
              "      <th rowspan=\"4\" valign=\"top\">domain specific entity</th>\n",
              "      <th>IS technology</th>\n",
              "      <td>463211</td>\n",
              "      <td>475</td>\n",
              "    </tr>\n",
              "    <tr>\n",
              "      <th>IS topic</th>\n",
              "      <td>461262</td>\n",
              "      <td>416</td>\n",
              "    </tr>\n",
              "    <tr>\n",
              "      <th>economic sector</th>\n",
              "      <td>102057</td>\n",
              "      <td>234</td>\n",
              "    </tr>\n",
              "    <tr>\n",
              "      <th>study object</th>\n",
              "      <td>61799</td>\n",
              "      <td>21</td>\n",
              "    </tr>\n",
              "    <tr>\n",
              "      <th rowspan=\"5\" valign=\"top\">methodological entity</th>\n",
              "      <th>data analysis method</th>\n",
              "      <td>73002</td>\n",
              "      <td>292</td>\n",
              "    </tr>\n",
              "    <tr>\n",
              "      <th>research method</th>\n",
              "      <td>257820</td>\n",
              "      <td>272</td>\n",
              "    </tr>\n",
              "    <tr>\n",
              "      <th>sampling</th>\n",
              "      <td>6148</td>\n",
              "      <td>27</td>\n",
              "    </tr>\n",
              "    <tr>\n",
              "      <th>statistical metric</th>\n",
              "      <td>78673</td>\n",
              "      <td>87</td>\n",
              "    </tr>\n",
              "    <tr>\n",
              "      <th>validity</th>\n",
              "      <td>11357</td>\n",
              "      <td>25</td>\n",
              "    </tr>\n",
              "    <tr>\n",
              "      <th rowspan=\"4\" valign=\"top\">theoretical entity</th>\n",
              "      <th>level of analysis</th>\n",
              "      <td>12064</td>\n",
              "      <td>13</td>\n",
              "    </tr>\n",
              "    <tr>\n",
              "      <th>model</th>\n",
              "      <td>196827</td>\n",
              "      <td>31</td>\n",
              "    </tr>\n",
              "    <tr>\n",
              "      <th>research paradigm</th>\n",
              "      <td>13429</td>\n",
              "      <td>14</td>\n",
              "    </tr>\n",
              "    <tr>\n",
              "      <th>theory</th>\n",
              "      <td>60091</td>\n",
              "      <td>223</td>\n",
              "    </tr>\n",
              "  </tbody>\n",
              "</table>\n",
              "</div>\n",
              "      <button class=\"colab-df-convert\" onclick=\"convertToInteractive('df-decfdc45-1be0-4ddb-806b-d8113a15366f')\"\n",
              "              title=\"Convert this dataframe to an interactive table.\"\n",
              "              style=\"display:none;\">\n",
              "        \n",
              "  <svg xmlns=\"http://www.w3.org/2000/svg\" height=\"24px\"viewBox=\"0 0 24 24\"\n",
              "       width=\"24px\">\n",
              "    <path d=\"M0 0h24v24H0V0z\" fill=\"none\"/>\n",
              "    <path d=\"M18.56 5.44l.94 2.06.94-2.06 2.06-.94-2.06-.94-.94-2.06-.94 2.06-2.06.94zm-11 1L8.5 8.5l.94-2.06 2.06-.94-2.06-.94L8.5 2.5l-.94 2.06-2.06.94zm10 10l.94 2.06.94-2.06 2.06-.94-2.06-.94-.94-2.06-.94 2.06-2.06.94z\"/><path d=\"M17.41 7.96l-1.37-1.37c-.4-.4-.92-.59-1.43-.59-.52 0-1.04.2-1.43.59L10.3 9.45l-7.72 7.72c-.78.78-.78 2.05 0 2.83L4 21.41c.39.39.9.59 1.41.59.51 0 1.02-.2 1.41-.59l7.78-7.78 2.81-2.81c.8-.78.8-2.07 0-2.86zM5.41 20L4 18.59l7.72-7.72 1.47 1.35L5.41 20z\"/>\n",
              "  </svg>\n",
              "      </button>\n",
              "      \n",
              "  <style>\n",
              "    .colab-df-container {\n",
              "      display:flex;\n",
              "      flex-wrap:wrap;\n",
              "      gap: 12px;\n",
              "    }\n",
              "\n",
              "    .colab-df-convert {\n",
              "      background-color: #E8F0FE;\n",
              "      border: none;\n",
              "      border-radius: 50%;\n",
              "      cursor: pointer;\n",
              "      display: none;\n",
              "      fill: #1967D2;\n",
              "      height: 32px;\n",
              "      padding: 0 0 0 0;\n",
              "      width: 32px;\n",
              "    }\n",
              "\n",
              "    .colab-df-convert:hover {\n",
              "      background-color: #E2EBFA;\n",
              "      box-shadow: 0px 1px 2px rgba(60, 64, 67, 0.3), 0px 1px 3px 1px rgba(60, 64, 67, 0.15);\n",
              "      fill: #174EA6;\n",
              "    }\n",
              "\n",
              "    [theme=dark] .colab-df-convert {\n",
              "      background-color: #3B4455;\n",
              "      fill: #D2E3FC;\n",
              "    }\n",
              "\n",
              "    [theme=dark] .colab-df-convert:hover {\n",
              "      background-color: #434B5C;\n",
              "      box-shadow: 0px 1px 3px 1px rgba(0, 0, 0, 0.15);\n",
              "      filter: drop-shadow(0px 1px 2px rgba(0, 0, 0, 0.3));\n",
              "      fill: #FFFFFF;\n",
              "    }\n",
              "  </style>\n",
              "\n",
              "      <script>\n",
              "        const buttonEl =\n",
              "          document.querySelector('#df-decfdc45-1be0-4ddb-806b-d8113a15366f button.colab-df-convert');\n",
              "        buttonEl.style.display =\n",
              "          google.colab.kernel.accessAllowed ? 'block' : 'none';\n",
              "\n",
              "        async function convertToInteractive(key) {\n",
              "          const element = document.querySelector('#df-decfdc45-1be0-4ddb-806b-d8113a15366f');\n",
              "          const dataTable =\n",
              "            await google.colab.kernel.invokeFunction('convertToInteractive',\n",
              "                                                     [key], {});\n",
              "          if (!dataTable) return;\n",
              "\n",
              "          const docLinkHtml = 'Like what you see? Visit the ' +\n",
              "            '<a target=\"_blank\" href=https://colab.research.google.com/notebooks/data_table.ipynb>data table notebook</a>'\n",
              "            + ' to learn more about interactive tables.';\n",
              "          element.innerHTML = '';\n",
              "          dataTable['output_type'] = 'display_data';\n",
              "          await google.colab.output.renderOutput(dataTable, element);\n",
              "          const docLink = document.createElement('div');\n",
              "          docLink.innerHTML = docLinkHtml;\n",
              "          element.appendChild(docLink);\n",
              "        }\n",
              "      </script>\n",
              "    </div>\n",
              "  </div>\n",
              "  "
            ]
          },
          "metadata": {},
          "execution_count": 81
        }
      ]
    },
    {
      "cell_type": "markdown",
      "source": [
        "## `Train-val-test` split of the existing ontology"
      ],
      "metadata": {
        "id": "i_oA2IiTn6-h"
      }
    },
    {
      "cell_type": "markdown",
      "source": [
        "In order to determine how well our model/embeddings are in identifing new entities or synonyms for existing entities we have to create a `train-val-test split` version of the existing ontology. Meaning we have to select some entities which will be removed from the ontology for training. \n"
      ],
      "metadata": {
        "id": "xOYJ3xwjaa3h"
      }
    },
    {
      "cell_type": "markdown",
      "source": [
        "- We will remove different nodes across all main topics and levels of the ontology to assess how our model is handling with missing nodes from different \"levels\"\n",
        "- To determine which nodes to include we used the `ontology.json` file since here the hierarchy is already visually included, so it was easy to define some random nodes (and child nodes)"
      ],
      "metadata": {
        "id": "Kdwo7fggo__R"
      }
    },
    {
      "cell_type": "markdown",
      "source": [
        "**Entities we selected to remove**:\n",
        "- **domain specific entity**\n",
        "  - IS topic\n",
        "    - business process outsourcing\n",
        "    - cybersecurity behavior\n",
        "    - user interface\n",
        "    - IT planning + all child nodes\n",
        "  - IS technology\n",
        "    - online marketing + all child nodes\n",
        "    - video game\n",
        "    - non volatile memory\n",
        "  - Economic sector\n",
        "    - forest industry + all child nodes\n",
        "    - hedge fund\n",
        "    - structural engineering + all child nodes\n",
        "  - stody object\n",
        "    - crowdsourcing of participant + all child nodes\n",
        "    - startup\n",
        "    - microenterprise\n",
        "- **methodological entity**\n",
        "  - research method\n",
        "    - pilot experiment\n",
        "    - completely randomized design\n",
        "    - survey design problem + all child nodes\n",
        "    - action research + all child nodes\n",
        "    - delphi study\n",
        "    - Markov model + all child nodes\n",
        "    - database modeling\n",
        "  - data analysis method\n",
        "    - constant comparative analysis\n",
        "    - ensemble learning + all child nodes\n",
        "    - sentiment analysis + all child nodes\n",
        "    - autoregressive moving average model\n",
        "  - statistical metric\n",
        "    - correlation direction + all child nodes\n",
        "    - Chi square metric\n",
        "    - confusion matrix\n",
        "  - validity\n",
        "    - formative validity\n",
        "    - criterion validity + all child nodes\n",
        "  - sampling\n",
        "    - oversampling + all child nodes\n",
        "    - quota sampling\n",
        "- **theoretical entity**\n",
        "  - level of analysis\n",
        "    - micro level + all child nodes\n",
        "    - country level\n",
        "  - model\n",
        "    - causal model\n",
        "    - control variable\n",
        "    - taxonomy\n",
        "    - theoretical link + all child nodes\n",
        "  - research paradigm\n",
        "    - interpretivism\n",
        "    - realism + all child nodes\n",
        "  - theory\n",
        "    - IT security theory + all child nodes \n",
        "    - theory of task technology fit\n",
        "    - personality theory + all child nodes\n",
        "    - uncanny valley theory\n"
      ],
      "metadata": {
        "id": "NrPMCWKLpelR"
      }
    },
    {
      "cell_type": "markdown",
      "source": [
        "We also stored the list above in an Excel list for further processing"
      ],
      "metadata": {
        "id": "LkExPJjD67YV"
      }
    },
    {
      "cell_type": "code",
      "source": [
        "data_path_group = data_path[:-10]+\"Topic 1/Data_Team1/\" # create new data path to access files created by Team1\n",
        "\n",
        "entities_to_removed = pd.read_excel(data_path_group+\"ent_to_remove_from_ontology.xlsx\") #load excel list as dataframe\n",
        "entities_to_removed[\"entity_id_to_remove\"] = entities_to_removed.entity_id_to_remove.str.strip() #remove whitespace"
      ],
      "metadata": {
        "id": "JbrEmT-ppeal"
      },
      "execution_count": 302,
      "outputs": []
    },
    {
      "cell_type": "code",
      "source": [
        "entities_to_removed.head(2)"
      ],
      "metadata": {
        "colab": {
          "base_uri": "https://localhost:8080/",
          "height": 112
        },
        "id": "d9AkIQ8mB1Fa",
        "outputId": "5ec10b3a-df65-4d8a-f143-669d69d9bc81"
      },
      "execution_count": 303,
      "outputs": [
        {
          "output_type": "execute_result",
          "data": {
            "text/plain": [
              "                  level_1   level_2           entity_id_to_remove  \\\n",
              "0  domain specific entity  IS topic  business process outsourcing   \n",
              "1  domain specific entity  IS topic        cybersecurity behavior   \n",
              "\n",
              "   is_parent_node  \n",
              "0             1.0  \n",
              "1             1.0  "
            ],
            "text/html": [
              "\n",
              "  <div id=\"df-1f91bb8a-247e-4305-937e-b3449688d138\">\n",
              "    <div class=\"colab-df-container\">\n",
              "      <div>\n",
              "<style scoped>\n",
              "    .dataframe tbody tr th:only-of-type {\n",
              "        vertical-align: middle;\n",
              "    }\n",
              "\n",
              "    .dataframe tbody tr th {\n",
              "        vertical-align: top;\n",
              "    }\n",
              "\n",
              "    .dataframe thead th {\n",
              "        text-align: right;\n",
              "    }\n",
              "</style>\n",
              "<table border=\"1\" class=\"dataframe\">\n",
              "  <thead>\n",
              "    <tr style=\"text-align: right;\">\n",
              "      <th></th>\n",
              "      <th>level_1</th>\n",
              "      <th>level_2</th>\n",
              "      <th>entity_id_to_remove</th>\n",
              "      <th>is_parent_node</th>\n",
              "    </tr>\n",
              "  </thead>\n",
              "  <tbody>\n",
              "    <tr>\n",
              "      <th>0</th>\n",
              "      <td>domain specific entity</td>\n",
              "      <td>IS topic</td>\n",
              "      <td>business process outsourcing</td>\n",
              "      <td>1.0</td>\n",
              "    </tr>\n",
              "    <tr>\n",
              "      <th>1</th>\n",
              "      <td>domain specific entity</td>\n",
              "      <td>IS topic</td>\n",
              "      <td>cybersecurity behavior</td>\n",
              "      <td>1.0</td>\n",
              "    </tr>\n",
              "  </tbody>\n",
              "</table>\n",
              "</div>\n",
              "      <button class=\"colab-df-convert\" onclick=\"convertToInteractive('df-1f91bb8a-247e-4305-937e-b3449688d138')\"\n",
              "              title=\"Convert this dataframe to an interactive table.\"\n",
              "              style=\"display:none;\">\n",
              "        \n",
              "  <svg xmlns=\"http://www.w3.org/2000/svg\" height=\"24px\"viewBox=\"0 0 24 24\"\n",
              "       width=\"24px\">\n",
              "    <path d=\"M0 0h24v24H0V0z\" fill=\"none\"/>\n",
              "    <path d=\"M18.56 5.44l.94 2.06.94-2.06 2.06-.94-2.06-.94-.94-2.06-.94 2.06-2.06.94zm-11 1L8.5 8.5l.94-2.06 2.06-.94-2.06-.94L8.5 2.5l-.94 2.06-2.06.94zm10 10l.94 2.06.94-2.06 2.06-.94-2.06-.94-.94-2.06-.94 2.06-2.06.94z\"/><path d=\"M17.41 7.96l-1.37-1.37c-.4-.4-.92-.59-1.43-.59-.52 0-1.04.2-1.43.59L10.3 9.45l-7.72 7.72c-.78.78-.78 2.05 0 2.83L4 21.41c.39.39.9.59 1.41.59.51 0 1.02-.2 1.41-.59l7.78-7.78 2.81-2.81c.8-.78.8-2.07 0-2.86zM5.41 20L4 18.59l7.72-7.72 1.47 1.35L5.41 20z\"/>\n",
              "  </svg>\n",
              "      </button>\n",
              "      \n",
              "  <style>\n",
              "    .colab-df-container {\n",
              "      display:flex;\n",
              "      flex-wrap:wrap;\n",
              "      gap: 12px;\n",
              "    }\n",
              "\n",
              "    .colab-df-convert {\n",
              "      background-color: #E8F0FE;\n",
              "      border: none;\n",
              "      border-radius: 50%;\n",
              "      cursor: pointer;\n",
              "      display: none;\n",
              "      fill: #1967D2;\n",
              "      height: 32px;\n",
              "      padding: 0 0 0 0;\n",
              "      width: 32px;\n",
              "    }\n",
              "\n",
              "    .colab-df-convert:hover {\n",
              "      background-color: #E2EBFA;\n",
              "      box-shadow: 0px 1px 2px rgba(60, 64, 67, 0.3), 0px 1px 3px 1px rgba(60, 64, 67, 0.15);\n",
              "      fill: #174EA6;\n",
              "    }\n",
              "\n",
              "    [theme=dark] .colab-df-convert {\n",
              "      background-color: #3B4455;\n",
              "      fill: #D2E3FC;\n",
              "    }\n",
              "\n",
              "    [theme=dark] .colab-df-convert:hover {\n",
              "      background-color: #434B5C;\n",
              "      box-shadow: 0px 1px 3px 1px rgba(0, 0, 0, 0.15);\n",
              "      filter: drop-shadow(0px 1px 2px rgba(0, 0, 0, 0.3));\n",
              "      fill: #FFFFFF;\n",
              "    }\n",
              "  </style>\n",
              "\n",
              "      <script>\n",
              "        const buttonEl =\n",
              "          document.querySelector('#df-1f91bb8a-247e-4305-937e-b3449688d138 button.colab-df-convert');\n",
              "        buttonEl.style.display =\n",
              "          google.colab.kernel.accessAllowed ? 'block' : 'none';\n",
              "\n",
              "        async function convertToInteractive(key) {\n",
              "          const element = document.querySelector('#df-1f91bb8a-247e-4305-937e-b3449688d138');\n",
              "          const dataTable =\n",
              "            await google.colab.kernel.invokeFunction('convertToInteractive',\n",
              "                                                     [key], {});\n",
              "          if (!dataTable) return;\n",
              "\n",
              "          const docLinkHtml = 'Like what you see? Visit the ' +\n",
              "            '<a target=\"_blank\" href=https://colab.research.google.com/notebooks/data_table.ipynb>data table notebook</a>'\n",
              "            + ' to learn more about interactive tables.';\n",
              "          element.innerHTML = '';\n",
              "          dataTable['output_type'] = 'display_data';\n",
              "          await google.colab.output.renderOutput(dataTable, element);\n",
              "          const docLink = document.createElement('div');\n",
              "          docLink.innerHTML = docLinkHtml;\n",
              "          element.appendChild(docLink);\n",
              "        }\n",
              "      </script>\n",
              "    </div>\n",
              "  </div>\n",
              "  "
            ]
          },
          "metadata": {},
          "execution_count": 303
        }
      ]
    },
    {
      "cell_type": "code",
      "source": [
        "# Create list of entites which should be removed\n",
        "ent_to_rmv_list = entities_to_removed.entity_id_to_remove.to_list()"
      ],
      "metadata": {
        "id": "lnPeADsC2nRg"
      },
      "execution_count": 304,
      "outputs": []
    },
    {
      "cell_type": "markdown",
      "source": [
        "Now we want to enhance this dataframe to also include: \n",
        "- a list of different entities which belong to the specific parent node\n",
        "- a list of sentences in which the entity occurs\n",
        "- a list of articles in which the entity occurs\n",
        "- also we want the number of occurences for all three points from above"
      ],
      "metadata": {
        "id": "7DzDUS7bZmRS"
      }
    },
    {
      "cell_type": "code",
      "source": [
        "tmp_list=[] # List of entities and child nodes which have to be removed from train ontology \n",
        "entities_to_remove_cmpl=[] # temporary list to add list of child nodes to each entity\n",
        "\n",
        "for entity in ent_to_rmv_list:\n",
        "  \n",
        "  #print(entity, (entities.values == entity).any(1).astype(int).max()) #to visually check if the random picked nodes are even included in entities database (so if there has been a match yet)\n",
        "  \n",
        "  tmp_ = entities[entities.values == entity][[\"ent_id\", \"article_id\", \"sentence_id\"]].apply(lambda x: x.unique().tolist()) #get all the unique values for all three columns\n",
        "  df_tmp = pd.DataFrame(tmp_).T #store results as df\n",
        "  df_tmp.columns=[\"ent_list\", \"articles_list\", \"sentences_list\"] #rename columns\n",
        "  tmp_list.append(df_tmp) #add df to list\n",
        "\n",
        "  entities_to_remove_cmpl+=tmp_[\"ent_id\"] # add all parent (and child) entities to a list which then can be excluded from the train dataframe\n",
        "\n",
        "# Add list of children per entity, list of articles and sentences as new column to dataframe\n",
        "entities_to_removed = pd.concat((entities_to_removed, pd.concat(tmp_list).reset_index(drop=True)), axis=1)\n",
        "\n",
        "# add number of occurences as separate columns\n",
        "entities_to_removed[[\"num_ent\", \"num_articles\", \"num_sentences\"]] = entities_to_removed[[\"ent_list\", \"articles_list\", \"sentences_list\"]].applymap(lambda x: len(x))"
      ],
      "metadata": {
        "id": "XE691P3FZOt8"
      },
      "execution_count": 305,
      "outputs": []
    },
    {
      "cell_type": "code",
      "source": [
        "entities_to_removed.sample(5)"
      ],
      "metadata": {
        "colab": {
          "base_uri": "https://localhost:8080/",
          "height": 528
        },
        "id": "Oe5GLtNTLwXY",
        "outputId": "e3fb7aed-f208-43ac-c90e-93ef84ca9cc3"
      },
      "execution_count": 306,
      "outputs": [
        {
          "output_type": "execute_result",
          "data": {
            "text/plain": [
              "                   level_1               level_2  \\\n",
              "22   methodological entity  data analysis method   \n",
              "0   domain specific entity              IS topic   \n",
              "31      theoretical entity     level of analysis   \n",
              "9   domain specific entity       Economic sector   \n",
              "4   domain specific entity         IS technology   \n",
              "\n",
              "             entity_id_to_remove  is_parent_node  \\\n",
              "22            sentiment analysis             1.0   \n",
              "0   business process outsourcing             1.0   \n",
              "31                   micro level             1.0   \n",
              "9         structural engineering             1.0   \n",
              "4               online marketing             1.0   \n",
              "\n",
              "                                             ent_list  \\\n",
              "22  [sentiment analysis, aspect-based sentiment an...   \n",
              "0   [business process outsourcing, knowledge proce...   \n",
              "31       [individual level, micro level, group level]   \n",
              "9      [sustainable building, structural engineering]   \n",
              "4   [search engine marketing, online advertising, ...   \n",
              "\n",
              "                                        articles_list  \\\n",
              "22  [1417, 4062, 2271, 2661, 443, 5616, 5776, 6106...   \n",
              "0   [5414, 5218, 440, 5609, 5610, 5611, 1195, 2659...   \n",
              "31  [4244, 4245, 3024, 3027, 5413, 5414, 3197, 319...   \n",
              "9   [2470, 1417, 679, 3059, 6172, 1270, 240, 242, ...   \n",
              "4   [191, 192, 431, 5414, 4061, 4062, 1623, 2465, ...   \n",
              "\n",
              "                                       sentences_list  num_ent  num_articles  \\\n",
              "22  [1417_3537_3568, 4062_9470_9492, 4062_19999_20...        2           107   \n",
              "0   [5414_1618_1639, 5218_4403_4488, 440_8401_8438...        3           130   \n",
              "31  [4244_11296_11362, 4245_8613_8628, 3024_633_65...        3          1369   \n",
              "9   [2470_7901_7930, 1417_791_827, 679_3131_3142, ...        2            26   \n",
              "4   [191_2_16, 191_21_55, 191_124_138, 191_138_171...        9           628   \n",
              "\n",
              "    num_sentences  \n",
              "22            484  \n",
              "0             351  \n",
              "31           4655  \n",
              "9              37  \n",
              "4            5965  "
            ],
            "text/html": [
              "\n",
              "  <div id=\"df-397065dc-187d-447d-8739-80aeaf8fae55\">\n",
              "    <div class=\"colab-df-container\">\n",
              "      <div>\n",
              "<style scoped>\n",
              "    .dataframe tbody tr th:only-of-type {\n",
              "        vertical-align: middle;\n",
              "    }\n",
              "\n",
              "    .dataframe tbody tr th {\n",
              "        vertical-align: top;\n",
              "    }\n",
              "\n",
              "    .dataframe thead th {\n",
              "        text-align: right;\n",
              "    }\n",
              "</style>\n",
              "<table border=\"1\" class=\"dataframe\">\n",
              "  <thead>\n",
              "    <tr style=\"text-align: right;\">\n",
              "      <th></th>\n",
              "      <th>level_1</th>\n",
              "      <th>level_2</th>\n",
              "      <th>entity_id_to_remove</th>\n",
              "      <th>is_parent_node</th>\n",
              "      <th>ent_list</th>\n",
              "      <th>articles_list</th>\n",
              "      <th>sentences_list</th>\n",
              "      <th>num_ent</th>\n",
              "      <th>num_articles</th>\n",
              "      <th>num_sentences</th>\n",
              "    </tr>\n",
              "  </thead>\n",
              "  <tbody>\n",
              "    <tr>\n",
              "      <th>22</th>\n",
              "      <td>methodological entity</td>\n",
              "      <td>data analysis method</td>\n",
              "      <td>sentiment analysis</td>\n",
              "      <td>1.0</td>\n",
              "      <td>[sentiment analysis, aspect-based sentiment an...</td>\n",
              "      <td>[1417, 4062, 2271, 2661, 443, 5616, 5776, 6106...</td>\n",
              "      <td>[1417_3537_3568, 4062_9470_9492, 4062_19999_20...</td>\n",
              "      <td>2</td>\n",
              "      <td>107</td>\n",
              "      <td>484</td>\n",
              "    </tr>\n",
              "    <tr>\n",
              "      <th>0</th>\n",
              "      <td>domain specific entity</td>\n",
              "      <td>IS topic</td>\n",
              "      <td>business process outsourcing</td>\n",
              "      <td>1.0</td>\n",
              "      <td>[business process outsourcing, knowledge proce...</td>\n",
              "      <td>[5414, 5218, 440, 5609, 5610, 5611, 1195, 2659...</td>\n",
              "      <td>[5414_1618_1639, 5218_4403_4488, 440_8401_8438...</td>\n",
              "      <td>3</td>\n",
              "      <td>130</td>\n",
              "      <td>351</td>\n",
              "    </tr>\n",
              "    <tr>\n",
              "      <th>31</th>\n",
              "      <td>theoretical entity</td>\n",
              "      <td>level of analysis</td>\n",
              "      <td>micro level</td>\n",
              "      <td>1.0</td>\n",
              "      <td>[individual level, micro level, group level]</td>\n",
              "      <td>[4244, 4245, 3024, 3027, 5413, 5414, 3197, 319...</td>\n",
              "      <td>[4244_11296_11362, 4245_8613_8628, 3024_633_65...</td>\n",
              "      <td>3</td>\n",
              "      <td>1369</td>\n",
              "      <td>4655</td>\n",
              "    </tr>\n",
              "    <tr>\n",
              "      <th>9</th>\n",
              "      <td>domain specific entity</td>\n",
              "      <td>Economic sector</td>\n",
              "      <td>structural engineering</td>\n",
              "      <td>1.0</td>\n",
              "      <td>[sustainable building, structural engineering]</td>\n",
              "      <td>[2470, 1417, 679, 3059, 6172, 1270, 240, 242, ...</td>\n",
              "      <td>[2470_7901_7930, 1417_791_827, 679_3131_3142, ...</td>\n",
              "      <td>2</td>\n",
              "      <td>26</td>\n",
              "      <td>37</td>\n",
              "    </tr>\n",
              "    <tr>\n",
              "      <th>4</th>\n",
              "      <td>domain specific entity</td>\n",
              "      <td>IS technology</td>\n",
              "      <td>online marketing</td>\n",
              "      <td>1.0</td>\n",
              "      <td>[search engine marketing, online advertising, ...</td>\n",
              "      <td>[191, 192, 431, 5414, 4061, 4062, 1623, 2465, ...</td>\n",
              "      <td>[191_2_16, 191_21_55, 191_124_138, 191_138_171...</td>\n",
              "      <td>9</td>\n",
              "      <td>628</td>\n",
              "      <td>5965</td>\n",
              "    </tr>\n",
              "  </tbody>\n",
              "</table>\n",
              "</div>\n",
              "      <button class=\"colab-df-convert\" onclick=\"convertToInteractive('df-397065dc-187d-447d-8739-80aeaf8fae55')\"\n",
              "              title=\"Convert this dataframe to an interactive table.\"\n",
              "              style=\"display:none;\">\n",
              "        \n",
              "  <svg xmlns=\"http://www.w3.org/2000/svg\" height=\"24px\"viewBox=\"0 0 24 24\"\n",
              "       width=\"24px\">\n",
              "    <path d=\"M0 0h24v24H0V0z\" fill=\"none\"/>\n",
              "    <path d=\"M18.56 5.44l.94 2.06.94-2.06 2.06-.94-2.06-.94-.94-2.06-.94 2.06-2.06.94zm-11 1L8.5 8.5l.94-2.06 2.06-.94-2.06-.94L8.5 2.5l-.94 2.06-2.06.94zm10 10l.94 2.06.94-2.06 2.06-.94-2.06-.94-.94-2.06-.94 2.06-2.06.94z\"/><path d=\"M17.41 7.96l-1.37-1.37c-.4-.4-.92-.59-1.43-.59-.52 0-1.04.2-1.43.59L10.3 9.45l-7.72 7.72c-.78.78-.78 2.05 0 2.83L4 21.41c.39.39.9.59 1.41.59.51 0 1.02-.2 1.41-.59l7.78-7.78 2.81-2.81c.8-.78.8-2.07 0-2.86zM5.41 20L4 18.59l7.72-7.72 1.47 1.35L5.41 20z\"/>\n",
              "  </svg>\n",
              "      </button>\n",
              "      \n",
              "  <style>\n",
              "    .colab-df-container {\n",
              "      display:flex;\n",
              "      flex-wrap:wrap;\n",
              "      gap: 12px;\n",
              "    }\n",
              "\n",
              "    .colab-df-convert {\n",
              "      background-color: #E8F0FE;\n",
              "      border: none;\n",
              "      border-radius: 50%;\n",
              "      cursor: pointer;\n",
              "      display: none;\n",
              "      fill: #1967D2;\n",
              "      height: 32px;\n",
              "      padding: 0 0 0 0;\n",
              "      width: 32px;\n",
              "    }\n",
              "\n",
              "    .colab-df-convert:hover {\n",
              "      background-color: #E2EBFA;\n",
              "      box-shadow: 0px 1px 2px rgba(60, 64, 67, 0.3), 0px 1px 3px 1px rgba(60, 64, 67, 0.15);\n",
              "      fill: #174EA6;\n",
              "    }\n",
              "\n",
              "    [theme=dark] .colab-df-convert {\n",
              "      background-color: #3B4455;\n",
              "      fill: #D2E3FC;\n",
              "    }\n",
              "\n",
              "    [theme=dark] .colab-df-convert:hover {\n",
              "      background-color: #434B5C;\n",
              "      box-shadow: 0px 1px 3px 1px rgba(0, 0, 0, 0.15);\n",
              "      filter: drop-shadow(0px 1px 2px rgba(0, 0, 0, 0.3));\n",
              "      fill: #FFFFFF;\n",
              "    }\n",
              "  </style>\n",
              "\n",
              "      <script>\n",
              "        const buttonEl =\n",
              "          document.querySelector('#df-397065dc-187d-447d-8739-80aeaf8fae55 button.colab-df-convert');\n",
              "        buttonEl.style.display =\n",
              "          google.colab.kernel.accessAllowed ? 'block' : 'none';\n",
              "\n",
              "        async function convertToInteractive(key) {\n",
              "          const element = document.querySelector('#df-397065dc-187d-447d-8739-80aeaf8fae55');\n",
              "          const dataTable =\n",
              "            await google.colab.kernel.invokeFunction('convertToInteractive',\n",
              "                                                     [key], {});\n",
              "          if (!dataTable) return;\n",
              "\n",
              "          const docLinkHtml = 'Like what you see? Visit the ' +\n",
              "            '<a target=\"_blank\" href=https://colab.research.google.com/notebooks/data_table.ipynb>data table notebook</a>'\n",
              "            + ' to learn more about interactive tables.';\n",
              "          element.innerHTML = '';\n",
              "          dataTable['output_type'] = 'display_data';\n",
              "          await google.colab.output.renderOutput(dataTable, element);\n",
              "          const docLink = document.createElement('div');\n",
              "          docLink.innerHTML = docLinkHtml;\n",
              "          element.appendChild(docLink);\n",
              "        }\n",
              "      </script>\n",
              "    </div>\n",
              "  </div>\n",
              "  "
            ]
          },
          "metadata": {},
          "execution_count": 306
        }
      ]
    },
    {
      "cell_type": "code",
      "source": [
        "# Check number of entities which need to be removed\n",
        "len(entities_to_remove_cmpl)"
      ],
      "metadata": {
        "colab": {
          "base_uri": "https://localhost:8080/"
        },
        "id": "IthJOIfV5whc",
        "outputId": "71524174-0180-49a2-b75f-8f39e52ec4d3"
      },
      "execution_count": 307,
      "outputs": [
        {
          "output_type": "execute_result",
          "data": {
            "text/plain": [
              "121"
            ]
          },
          "metadata": {},
          "execution_count": 307
        }
      ]
    },
    {
      "cell_type": "markdown",
      "source": [
        "### Create train dataframe of ontology"
      ],
      "metadata": {
        "id": "TUi3Ly-WMtGl"
      }
    },
    {
      "cell_type": "code",
      "source": [
        "# Create train dataframe which does NOT contain any of the entities and porential children\n",
        "entities_train = entities[~entities.ent_id.isin(entities_to_remove_cmpl)]\n",
        "entities_train.shape"
      ],
      "metadata": {
        "colab": {
          "base_uri": "https://localhost:8080/"
        },
        "id": "CLvI9GyK843O",
        "outputId": "6c101335-d090-48dc-8725-8a8d8e38171d"
      },
      "execution_count": 222,
      "outputs": [
        {
          "output_type": "execute_result",
          "data": {
            "text/plain": [
              "(1745546, 13)"
            ]
          },
          "metadata": {},
          "execution_count": 222
        }
      ]
    },
    {
      "cell_type": "markdown",
      "source": [
        "### Create validation dataframe of ontology"
      ],
      "metadata": {
        "id": "GzahARV6MxNP"
      }
    },
    {
      "cell_type": "markdown",
      "source": [
        "For the validation and test set we need to further split the `entities_to_removed` dataframe"
      ],
      "metadata": {
        "id": "bIUBID0sa-0D"
      }
    },
    {
      "cell_type": "code",
      "source": [
        "entities[entities.ent_id.isin(entities_to_remove_cmpl)]"
      ],
      "metadata": {
        "id": "ITTsz7nw84xw"
      },
      "execution_count": null,
      "outputs": []
    },
    {
      "cell_type": "code",
      "source": [
        "52194/1745546"
      ],
      "metadata": {
        "colab": {
          "base_uri": "https://localhost:8080/"
        },
        "id": "VUrohsrI84r4",
        "outputId": "8b5aa18b-d374-4ea1-d9cf-6e60fd48265a"
      },
      "execution_count": 145,
      "outputs": [
        {
          "output_type": "execute_result",
          "data": {
            "text/plain": [
              "0.02990124579930864"
            ]
          },
          "metadata": {},
          "execution_count": 145
        }
      ]
    },
    {
      "cell_type": "code",
      "source": [
        ""
      ],
      "metadata": {
        "id": "QHJc31Kea9dp"
      },
      "execution_count": null,
      "outputs": []
    },
    {
      "cell_type": "code",
      "source": [
        "entities_to_removed.head()"
      ],
      "metadata": {
        "colab": {
          "base_uri": "https://localhost:8080/",
          "height": 652
        },
        "id": "eexBc5sOY2SO",
        "outputId": "06945680-189f-4b9c-afe4-640ffd276ba8"
      },
      "execution_count": 301,
      "outputs": [
        {
          "output_type": "execute_result",
          "data": {
            "text/plain": [
              "                  level_1        level_2           entity_id_to_remove  \\\n",
              "0  domain specific entity       IS topic  business process outsourcing   \n",
              "1  domain specific entity       IS topic        cybersecurity behavior   \n",
              "2  domain specific entity       IS topic                user interface   \n",
              "3  domain specific entity       IS topic                   IT planning   \n",
              "4  domain specific entity  IS technology              online marketing   \n",
              "\n",
              "   is_parent_node                                         article_id  \\\n",
              "0             1.0  [5414, 5218, 440, 5609, 5610, 5611, 1195, 2659...   \n",
              "1             1.0  [1622, 1018, 3375, 2474, 6330, 5947, 1845, 425...   \n",
              "2             1.0  [1836, 434, 4244, 3373, 5413, 5415, 3196, 5606...   \n",
              "3             1.0  [1834, 4246, 3025, 2467, 4631, 2848, 2851, 369...   \n",
              "4             1.0  [191, 192, 431, 5414, 4061, 4062, 1623, 2465, ...   \n",
              "\n",
              "                                         sentence_id  \\\n",
              "0  [5414_1618_1639, 5218_4403_4488, 440_8401_8438...   \n",
              "1  [1622_3154_3221, 1622_3221_3320, 1622_3346_336...   \n",
              "2  [1836_5404_5485, 434_1460_1510, 4244_8878_8906...   \n",
              "3  [1834_10730_10748, 1834_10941_10959, 4246_7037...   \n",
              "4  [191_2_16, 191_21_55, 191_124_138, 191_138_171...   \n",
              "\n",
              "                                              ent_id  num_ent  num_articles  \\\n",
              "0  [business process outsourcing, knowledge proce...        3           130   \n",
              "1  [privacy behavior, information security policy...        4           121   \n",
              "2  [user interface, graphical user interface, voi...        5           980   \n",
              "3  [IT planning, IT policy, IT strategic planning...        4           728   \n",
              "4  [search engine marketing, online advertising, ...        9           628   \n",
              "\n",
              "   num_sentences                                           ent_list  \\\n",
              "0            351  [business process outsourcing, knowledge proce...   \n",
              "1            695  [privacy behavior, information security policy...   \n",
              "2           2694  [user interface, graphical user interface, voi...   \n",
              "3           3431  [IT planning, IT policy, IT strategic planning...   \n",
              "4           5965  [search engine marketing, online advertising, ...   \n",
              "\n",
              "                                       articles_list  \\\n",
              "0  [5414, 5218, 440, 5609, 5610, 5611, 1195, 2659...   \n",
              "1  [1622, 1018, 3375, 2474, 6330, 5947, 1845, 425...   \n",
              "2  [1836, 434, 4244, 3373, 5413, 5415, 3196, 5606...   \n",
              "3  [1834, 4246, 3025, 2467, 4631, 2848, 2851, 369...   \n",
              "4  [191, 192, 431, 5414, 4061, 4062, 1623, 2465, ...   \n",
              "\n",
              "                                      sentences_list  \n",
              "0  [5414_1618_1639, 5218_4403_4488, 440_8401_8438...  \n",
              "1  [1622_3154_3221, 1622_3221_3320, 1622_3346_336...  \n",
              "2  [1836_5404_5485, 434_1460_1510, 4244_8878_8906...  \n",
              "3  [1834_10730_10748, 1834_10941_10959, 4246_7037...  \n",
              "4  [191_2_16, 191_21_55, 191_124_138, 191_138_171...  "
            ],
            "text/html": [
              "\n",
              "  <div id=\"df-9dadd5cb-8a56-4bca-b4b1-1bc63eb9b59c\">\n",
              "    <div class=\"colab-df-container\">\n",
              "      <div>\n",
              "<style scoped>\n",
              "    .dataframe tbody tr th:only-of-type {\n",
              "        vertical-align: middle;\n",
              "    }\n",
              "\n",
              "    .dataframe tbody tr th {\n",
              "        vertical-align: top;\n",
              "    }\n",
              "\n",
              "    .dataframe thead th {\n",
              "        text-align: right;\n",
              "    }\n",
              "</style>\n",
              "<table border=\"1\" class=\"dataframe\">\n",
              "  <thead>\n",
              "    <tr style=\"text-align: right;\">\n",
              "      <th></th>\n",
              "      <th>level_1</th>\n",
              "      <th>level_2</th>\n",
              "      <th>entity_id_to_remove</th>\n",
              "      <th>is_parent_node</th>\n",
              "      <th>article_id</th>\n",
              "      <th>sentence_id</th>\n",
              "      <th>ent_id</th>\n",
              "      <th>num_ent</th>\n",
              "      <th>num_articles</th>\n",
              "      <th>num_sentences</th>\n",
              "      <th>ent_list</th>\n",
              "      <th>articles_list</th>\n",
              "      <th>sentences_list</th>\n",
              "    </tr>\n",
              "  </thead>\n",
              "  <tbody>\n",
              "    <tr>\n",
              "      <th>0</th>\n",
              "      <td>domain specific entity</td>\n",
              "      <td>IS topic</td>\n",
              "      <td>business process outsourcing</td>\n",
              "      <td>1.0</td>\n",
              "      <td>[5414, 5218, 440, 5609, 5610, 5611, 1195, 2659...</td>\n",
              "      <td>[5414_1618_1639, 5218_4403_4488, 440_8401_8438...</td>\n",
              "      <td>[business process outsourcing, knowledge proce...</td>\n",
              "      <td>3</td>\n",
              "      <td>130</td>\n",
              "      <td>351</td>\n",
              "      <td>[business process outsourcing, knowledge proce...</td>\n",
              "      <td>[5414, 5218, 440, 5609, 5610, 5611, 1195, 2659...</td>\n",
              "      <td>[5414_1618_1639, 5218_4403_4488, 440_8401_8438...</td>\n",
              "    </tr>\n",
              "    <tr>\n",
              "      <th>1</th>\n",
              "      <td>domain specific entity</td>\n",
              "      <td>IS topic</td>\n",
              "      <td>cybersecurity behavior</td>\n",
              "      <td>1.0</td>\n",
              "      <td>[1622, 1018, 3375, 2474, 6330, 5947, 1845, 425...</td>\n",
              "      <td>[1622_3154_3221, 1622_3221_3320, 1622_3346_336...</td>\n",
              "      <td>[privacy behavior, information security policy...</td>\n",
              "      <td>4</td>\n",
              "      <td>121</td>\n",
              "      <td>695</td>\n",
              "      <td>[privacy behavior, information security policy...</td>\n",
              "      <td>[1622, 1018, 3375, 2474, 6330, 5947, 1845, 425...</td>\n",
              "      <td>[1622_3154_3221, 1622_3221_3320, 1622_3346_336...</td>\n",
              "    </tr>\n",
              "    <tr>\n",
              "      <th>2</th>\n",
              "      <td>domain specific entity</td>\n",
              "      <td>IS topic</td>\n",
              "      <td>user interface</td>\n",
              "      <td>1.0</td>\n",
              "      <td>[1836, 434, 4244, 3373, 5413, 5415, 3196, 5606...</td>\n",
              "      <td>[1836_5404_5485, 434_1460_1510, 4244_8878_8906...</td>\n",
              "      <td>[user interface, graphical user interface, voi...</td>\n",
              "      <td>5</td>\n",
              "      <td>980</td>\n",
              "      <td>2694</td>\n",
              "      <td>[user interface, graphical user interface, voi...</td>\n",
              "      <td>[1836, 434, 4244, 3373, 5413, 5415, 3196, 5606...</td>\n",
              "      <td>[1836_5404_5485, 434_1460_1510, 4244_8878_8906...</td>\n",
              "    </tr>\n",
              "    <tr>\n",
              "      <th>3</th>\n",
              "      <td>domain specific entity</td>\n",
              "      <td>IS topic</td>\n",
              "      <td>IT planning</td>\n",
              "      <td>1.0</td>\n",
              "      <td>[1834, 4246, 3025, 2467, 4631, 2848, 2851, 369...</td>\n",
              "      <td>[1834_10730_10748, 1834_10941_10959, 4246_7037...</td>\n",
              "      <td>[IT planning, IT policy, IT strategic planning...</td>\n",
              "      <td>4</td>\n",
              "      <td>728</td>\n",
              "      <td>3431</td>\n",
              "      <td>[IT planning, IT policy, IT strategic planning...</td>\n",
              "      <td>[1834, 4246, 3025, 2467, 4631, 2848, 2851, 369...</td>\n",
              "      <td>[1834_10730_10748, 1834_10941_10959, 4246_7037...</td>\n",
              "    </tr>\n",
              "    <tr>\n",
              "      <th>4</th>\n",
              "      <td>domain specific entity</td>\n",
              "      <td>IS technology</td>\n",
              "      <td>online marketing</td>\n",
              "      <td>1.0</td>\n",
              "      <td>[191, 192, 431, 5414, 4061, 4062, 1623, 2465, ...</td>\n",
              "      <td>[191_2_16, 191_21_55, 191_124_138, 191_138_171...</td>\n",
              "      <td>[search engine marketing, online advertising, ...</td>\n",
              "      <td>9</td>\n",
              "      <td>628</td>\n",
              "      <td>5965</td>\n",
              "      <td>[search engine marketing, online advertising, ...</td>\n",
              "      <td>[191, 192, 431, 5414, 4061, 4062, 1623, 2465, ...</td>\n",
              "      <td>[191_2_16, 191_21_55, 191_124_138, 191_138_171...</td>\n",
              "    </tr>\n",
              "  </tbody>\n",
              "</table>\n",
              "</div>\n",
              "      <button class=\"colab-df-convert\" onclick=\"convertToInteractive('df-9dadd5cb-8a56-4bca-b4b1-1bc63eb9b59c')\"\n",
              "              title=\"Convert this dataframe to an interactive table.\"\n",
              "              style=\"display:none;\">\n",
              "        \n",
              "  <svg xmlns=\"http://www.w3.org/2000/svg\" height=\"24px\"viewBox=\"0 0 24 24\"\n",
              "       width=\"24px\">\n",
              "    <path d=\"M0 0h24v24H0V0z\" fill=\"none\"/>\n",
              "    <path d=\"M18.56 5.44l.94 2.06.94-2.06 2.06-.94-2.06-.94-.94-2.06-.94 2.06-2.06.94zm-11 1L8.5 8.5l.94-2.06 2.06-.94-2.06-.94L8.5 2.5l-.94 2.06-2.06.94zm10 10l.94 2.06.94-2.06 2.06-.94-2.06-.94-.94-2.06-.94 2.06-2.06.94z\"/><path d=\"M17.41 7.96l-1.37-1.37c-.4-.4-.92-.59-1.43-.59-.52 0-1.04.2-1.43.59L10.3 9.45l-7.72 7.72c-.78.78-.78 2.05 0 2.83L4 21.41c.39.39.9.59 1.41.59.51 0 1.02-.2 1.41-.59l7.78-7.78 2.81-2.81c.8-.78.8-2.07 0-2.86zM5.41 20L4 18.59l7.72-7.72 1.47 1.35L5.41 20z\"/>\n",
              "  </svg>\n",
              "      </button>\n",
              "      \n",
              "  <style>\n",
              "    .colab-df-container {\n",
              "      display:flex;\n",
              "      flex-wrap:wrap;\n",
              "      gap: 12px;\n",
              "    }\n",
              "\n",
              "    .colab-df-convert {\n",
              "      background-color: #E8F0FE;\n",
              "      border: none;\n",
              "      border-radius: 50%;\n",
              "      cursor: pointer;\n",
              "      display: none;\n",
              "      fill: #1967D2;\n",
              "      height: 32px;\n",
              "      padding: 0 0 0 0;\n",
              "      width: 32px;\n",
              "    }\n",
              "\n",
              "    .colab-df-convert:hover {\n",
              "      background-color: #E2EBFA;\n",
              "      box-shadow: 0px 1px 2px rgba(60, 64, 67, 0.3), 0px 1px 3px 1px rgba(60, 64, 67, 0.15);\n",
              "      fill: #174EA6;\n",
              "    }\n",
              "\n",
              "    [theme=dark] .colab-df-convert {\n",
              "      background-color: #3B4455;\n",
              "      fill: #D2E3FC;\n",
              "    }\n",
              "\n",
              "    [theme=dark] .colab-df-convert:hover {\n",
              "      background-color: #434B5C;\n",
              "      box-shadow: 0px 1px 3px 1px rgba(0, 0, 0, 0.15);\n",
              "      filter: drop-shadow(0px 1px 2px rgba(0, 0, 0, 0.3));\n",
              "      fill: #FFFFFF;\n",
              "    }\n",
              "  </style>\n",
              "\n",
              "      <script>\n",
              "        const buttonEl =\n",
              "          document.querySelector('#df-9dadd5cb-8a56-4bca-b4b1-1bc63eb9b59c button.colab-df-convert');\n",
              "        buttonEl.style.display =\n",
              "          google.colab.kernel.accessAllowed ? 'block' : 'none';\n",
              "\n",
              "        async function convertToInteractive(key) {\n",
              "          const element = document.querySelector('#df-9dadd5cb-8a56-4bca-b4b1-1bc63eb9b59c');\n",
              "          const dataTable =\n",
              "            await google.colab.kernel.invokeFunction('convertToInteractive',\n",
              "                                                     [key], {});\n",
              "          if (!dataTable) return;\n",
              "\n",
              "          const docLinkHtml = 'Like what you see? Visit the ' +\n",
              "            '<a target=\"_blank\" href=https://colab.research.google.com/notebooks/data_table.ipynb>data table notebook</a>'\n",
              "            + ' to learn more about interactive tables.';\n",
              "          element.innerHTML = '';\n",
              "          dataTable['output_type'] = 'display_data';\n",
              "          await google.colab.output.renderOutput(dataTable, element);\n",
              "          const docLink = document.createElement('div');\n",
              "          docLink.innerHTML = docLinkHtml;\n",
              "          element.appendChild(docLink);\n",
              "        }\n",
              "      </script>\n",
              "    </div>\n",
              "  </div>\n",
              "  "
            ]
          },
          "metadata": {},
          "execution_count": 301
        }
      ]
    },
    {
      "cell_type": "code",
      "source": [
        ""
      ],
      "metadata": {
        "id": "jyYJHAp084dz"
      },
      "execution_count": null,
      "outputs": []
    }
  ]
}