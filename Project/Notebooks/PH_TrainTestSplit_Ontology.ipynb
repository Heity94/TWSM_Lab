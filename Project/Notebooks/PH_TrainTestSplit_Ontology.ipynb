{
  "nbformat": 4,
  "nbformat_minor": 0,
  "metadata": {
    "colab": {
      "name": "PH_TrainTestSplit_Ontology.ipynb",
      "provenance": [],
      "collapsed_sections": [],
      "toc_visible": true,
      "authorship_tag": "ABX9TyP52lhSt3tvN9iS+mRbZ3A9",
      "include_colab_link": true
    },
    "kernelspec": {
      "name": "python3",
      "display_name": "Python 3"
    },
    "language_info": {
      "name": "python"
    }
  },
  "cells": [
    {
      "cell_type": "markdown",
      "metadata": {
        "id": "view-in-github",
        "colab_type": "text"
      },
      "source": [
        "<a href=\"https://colab.research.google.com/github/Heity94/TWSM_Lab/blob/main/Project/Notebooks/PH_TrainTestSplit_Ontology.ipynb\" target=\"_parent\"><img src=\"https://colab.research.google.com/assets/colab-badge.svg\" alt=\"Open In Colab\"/></a>"
      ]
    },
    {
      "cell_type": "code",
      "source": [
        "# Declare whether you are on Colab or local\n",
        "colab = True"
      ],
      "metadata": {
        "id": "ZLCnX2r2075S"
      },
      "execution_count": 1,
      "outputs": []
    },
    {
      "cell_type": "code",
      "source": [
        "if colab==True:\n",
        "  \n",
        "  #Mount drive\n",
        "  from google.colab import drive\n",
        "  drive.mount('/content/drive')\n",
        "\n",
        "  #set path to data in Google Drive\n",
        "  data_path = \"/content/drive/MyDrive/2022_Analytics Lab Student Projects/Data/All Topics\"\n",
        "\n",
        "  #install required packages\n",
        "  !pip install duckdb\n",
        "  #!pip install -U sentence-transformers"
      ],
      "metadata": {
        "id": "gnOLlVER1KDP",
        "colab": {
          "base_uri": "https://localhost:8080/"
        },
        "outputId": "18dd3d06-447f-456e-ba10-022d6d4945db"
      },
      "execution_count": 2,
      "outputs": [
        {
          "output_type": "stream",
          "name": "stdout",
          "text": [
            "Mounted at /content/drive\n",
            "Looking in indexes: https://pypi.org/simple, https://us-python.pkg.dev/colab-wheels/public/simple/\n",
            "Collecting duckdb\n",
            "  Downloading duckdb-0.4.0-cp37-cp37m-manylinux_2_17_x86_64.manylinux2014_x86_64.whl (15.7 MB)\n",
            "\u001b[K     |████████████████████████████████| 15.7 MB 7.6 MB/s \n",
            "\u001b[?25hRequirement already satisfied: numpy>=1.14 in /usr/local/lib/python3.7/dist-packages (from duckdb) (1.21.6)\n",
            "Installing collected packages: duckdb\n",
            "Successfully installed duckdb-0.4.0\n"
          ]
        }
      ]
    },
    {
      "cell_type": "code",
      "execution_count": 3,
      "metadata": {
        "id": "RZ15XodGz4Io"
      },
      "outputs": [],
      "source": [
        "# Import sentence_transformers \n",
        "# from sentence_transformers import SentenceTransformer, util"
      ]
    },
    {
      "cell_type": "code",
      "execution_count": 4,
      "metadata": {
        "id": "bwv57XAzz4IH"
      },
      "outputs": [],
      "source": [
        "#Imports\n",
        "import pandas as pd\n",
        "import numpy as np\n",
        "import matplotlib.pyplot as plt\n",
        "import seaborn as sns\n",
        "import pickle\n",
        "import duckdb\n",
        "import sqlalchemy\n",
        "#%load_ext sql"
      ]
    },
    {
      "cell_type": "markdown",
      "source": [
        "# Train-validation-test split the ontology"
      ],
      "metadata": {
        "id": "bJQPOkEnEij4"
      }
    },
    {
      "cell_type": "markdown",
      "source": [
        "### Load data"
      ],
      "metadata": {
        "id": "cP9RMv6dEAF-"
      }
    },
    {
      "cell_type": "markdown",
      "source": [
        "We have multiple data sources which we could use to \"split\" the ontoloogy. "
      ],
      "metadata": {
        "id": "Ph7cmhSZyGKs"
      }
    },
    {
      "cell_type": "markdown",
      "source": [
        "#### Ontology + synonyms"
      ],
      "metadata": {
        "id": "uzpj55-LPpPw"
      }
    },
    {
      "cell_type": "markdown",
      "source": [
        "This list \"only\" contains the main entity_id and the synonym. Will be relevant as soon as we have a list of main entities which we want to exclude from the train dataset ."
      ],
      "metadata": {
        "id": "AInBBksvyRoi"
      }
    },
    {
      "cell_type": "code",
      "source": [
        "if colab==True:\n",
        "  ontology_syn = pd.read_csv(data_path+\"/Synonyms in Ontology/isontology.csv\", index_col=0)\n",
        "else:\n",
        "  ontology_syn = pd.read_csv(\"../Data/SynonymsinOntology/isontology.csv\", index_col=0)\n",
        "ontology_syn.shape"
      ],
      "metadata": {
        "colab": {
          "base_uri": "https://localhost:8080/"
        },
        "id": "qQ8vcHhIF7vT",
        "outputId": "6a01b38a-5f69-484e-a6f7-167cf2d9f2c7"
      },
      "execution_count": 5,
      "outputs": [
        {
          "output_type": "execute_result",
          "data": {
            "text/plain": [
              "(397942, 4)"
            ]
          },
          "metadata": {},
          "execution_count": 5
        }
      ]
    },
    {
      "cell_type": "code",
      "source": [
        "ontology_syn.head()"
      ],
      "metadata": {
        "colab": {
          "base_uri": "https://localhost:8080/",
          "height": 206
        },
        "id": "1IF-_3yrE23p",
        "outputId": "44bd9428-62ad-4f54-cd7b-c8de8bdf6103"
      },
      "execution_count": 8,
      "outputs": [
        {
          "output_type": "execute_result",
          "data": {
            "text/plain": [
              "     entity_id                category  label             synonym\n",
              "0     IS topic  domain specific entity  TOPIC            IS topic\n",
              "1     IS topic  domain specific entity  TOPIC           IS topics\n",
              "2  IS sourcing  domain specific entity  TOPIC    IS / IT sourcing\n",
              "3  IS sourcing  domain specific entity  TOPIC       tool sourcing\n",
              "4  IS sourcing  domain specific entity  TOPIC  software sourcings"
            ],
            "text/html": [
              "\n",
              "  <div id=\"df-0167b077-67ca-423d-8434-67a74191b3a6\">\n",
              "    <div class=\"colab-df-container\">\n",
              "      <div>\n",
              "<style scoped>\n",
              "    .dataframe tbody tr th:only-of-type {\n",
              "        vertical-align: middle;\n",
              "    }\n",
              "\n",
              "    .dataframe tbody tr th {\n",
              "        vertical-align: top;\n",
              "    }\n",
              "\n",
              "    .dataframe thead th {\n",
              "        text-align: right;\n",
              "    }\n",
              "</style>\n",
              "<table border=\"1\" class=\"dataframe\">\n",
              "  <thead>\n",
              "    <tr style=\"text-align: right;\">\n",
              "      <th></th>\n",
              "      <th>entity_id</th>\n",
              "      <th>category</th>\n",
              "      <th>label</th>\n",
              "      <th>synonym</th>\n",
              "    </tr>\n",
              "  </thead>\n",
              "  <tbody>\n",
              "    <tr>\n",
              "      <th>0</th>\n",
              "      <td>IS topic</td>\n",
              "      <td>domain specific entity</td>\n",
              "      <td>TOPIC</td>\n",
              "      <td>IS topic</td>\n",
              "    </tr>\n",
              "    <tr>\n",
              "      <th>1</th>\n",
              "      <td>IS topic</td>\n",
              "      <td>domain specific entity</td>\n",
              "      <td>TOPIC</td>\n",
              "      <td>IS topics</td>\n",
              "    </tr>\n",
              "    <tr>\n",
              "      <th>2</th>\n",
              "      <td>IS sourcing</td>\n",
              "      <td>domain specific entity</td>\n",
              "      <td>TOPIC</td>\n",
              "      <td>IS / IT sourcing</td>\n",
              "    </tr>\n",
              "    <tr>\n",
              "      <th>3</th>\n",
              "      <td>IS sourcing</td>\n",
              "      <td>domain specific entity</td>\n",
              "      <td>TOPIC</td>\n",
              "      <td>tool sourcing</td>\n",
              "    </tr>\n",
              "    <tr>\n",
              "      <th>4</th>\n",
              "      <td>IS sourcing</td>\n",
              "      <td>domain specific entity</td>\n",
              "      <td>TOPIC</td>\n",
              "      <td>software sourcings</td>\n",
              "    </tr>\n",
              "  </tbody>\n",
              "</table>\n",
              "</div>\n",
              "      <button class=\"colab-df-convert\" onclick=\"convertToInteractive('df-0167b077-67ca-423d-8434-67a74191b3a6')\"\n",
              "              title=\"Convert this dataframe to an interactive table.\"\n",
              "              style=\"display:none;\">\n",
              "        \n",
              "  <svg xmlns=\"http://www.w3.org/2000/svg\" height=\"24px\"viewBox=\"0 0 24 24\"\n",
              "       width=\"24px\">\n",
              "    <path d=\"M0 0h24v24H0V0z\" fill=\"none\"/>\n",
              "    <path d=\"M18.56 5.44l.94 2.06.94-2.06 2.06-.94-2.06-.94-.94-2.06-.94 2.06-2.06.94zm-11 1L8.5 8.5l.94-2.06 2.06-.94-2.06-.94L8.5 2.5l-.94 2.06-2.06.94zm10 10l.94 2.06.94-2.06 2.06-.94-2.06-.94-.94-2.06-.94 2.06-2.06.94z\"/><path d=\"M17.41 7.96l-1.37-1.37c-.4-.4-.92-.59-1.43-.59-.52 0-1.04.2-1.43.59L10.3 9.45l-7.72 7.72c-.78.78-.78 2.05 0 2.83L4 21.41c.39.39.9.59 1.41.59.51 0 1.02-.2 1.41-.59l7.78-7.78 2.81-2.81c.8-.78.8-2.07 0-2.86zM5.41 20L4 18.59l7.72-7.72 1.47 1.35L5.41 20z\"/>\n",
              "  </svg>\n",
              "      </button>\n",
              "      \n",
              "  <style>\n",
              "    .colab-df-container {\n",
              "      display:flex;\n",
              "      flex-wrap:wrap;\n",
              "      gap: 12px;\n",
              "    }\n",
              "\n",
              "    .colab-df-convert {\n",
              "      background-color: #E8F0FE;\n",
              "      border: none;\n",
              "      border-radius: 50%;\n",
              "      cursor: pointer;\n",
              "      display: none;\n",
              "      fill: #1967D2;\n",
              "      height: 32px;\n",
              "      padding: 0 0 0 0;\n",
              "      width: 32px;\n",
              "    }\n",
              "\n",
              "    .colab-df-convert:hover {\n",
              "      background-color: #E2EBFA;\n",
              "      box-shadow: 0px 1px 2px rgba(60, 64, 67, 0.3), 0px 1px 3px 1px rgba(60, 64, 67, 0.15);\n",
              "      fill: #174EA6;\n",
              "    }\n",
              "\n",
              "    [theme=dark] .colab-df-convert {\n",
              "      background-color: #3B4455;\n",
              "      fill: #D2E3FC;\n",
              "    }\n",
              "\n",
              "    [theme=dark] .colab-df-convert:hover {\n",
              "      background-color: #434B5C;\n",
              "      box-shadow: 0px 1px 3px 1px rgba(0, 0, 0, 0.15);\n",
              "      filter: drop-shadow(0px 1px 2px rgba(0, 0, 0, 0.3));\n",
              "      fill: #FFFFFF;\n",
              "    }\n",
              "  </style>\n",
              "\n",
              "      <script>\n",
              "        const buttonEl =\n",
              "          document.querySelector('#df-0167b077-67ca-423d-8434-67a74191b3a6 button.colab-df-convert');\n",
              "        buttonEl.style.display =\n",
              "          google.colab.kernel.accessAllowed ? 'block' : 'none';\n",
              "\n",
              "        async function convertToInteractive(key) {\n",
              "          const element = document.querySelector('#df-0167b077-67ca-423d-8434-67a74191b3a6');\n",
              "          const dataTable =\n",
              "            await google.colab.kernel.invokeFunction('convertToInteractive',\n",
              "                                                     [key], {});\n",
              "          if (!dataTable) return;\n",
              "\n",
              "          const docLinkHtml = 'Like what you see? Visit the ' +\n",
              "            '<a target=\"_blank\" href=https://colab.research.google.com/notebooks/data_table.ipynb>data table notebook</a>'\n",
              "            + ' to learn more about interactive tables.';\n",
              "          element.innerHTML = '';\n",
              "          dataTable['output_type'] = 'display_data';\n",
              "          await google.colab.output.renderOutput(dataTable, element);\n",
              "          const docLink = document.createElement('div');\n",
              "          docLink.innerHTML = docLinkHtml;\n",
              "          element.appendChild(docLink);\n",
              "        }\n",
              "      </script>\n",
              "    </div>\n",
              "  </div>\n",
              "  "
            ]
          },
          "metadata": {},
          "execution_count": 8
        }
      ]
    },
    {
      "cell_type": "markdown",
      "source": [
        "##### Downsampling entities with more than 100 synonyms"
      ],
      "metadata": {
        "id": "dbsPnTiPytVb"
      }
    },
    {
      "cell_type": "code",
      "source": [
        "## Check number of synonyms per entity_id\n",
        "#ent_sy_group = ontology_syn.groupby(\"entity_id\")[[\"synonym\"]].nunique().sort_values(by=\"synonym\", ascending=False)"
      ],
      "metadata": {
        "id": "bvTOGaPbGwxC"
      },
      "execution_count": 9,
      "outputs": []
    },
    {
      "cell_type": "code",
      "source": [
        "# # Downsample entities with more than 100 synonyms to a 100 synoyms (but always include \"main entity_id\" in subsample)\n",
        "# idx = ent_sy_group[ent_sy_group[\"synonym\"]>100].index.tolist()\n",
        "\n",
        "# dfs = []\n",
        "# for entity in idx:\n",
        "#   t1 = ontology_syn[(ontology_syn.entity_id==entity)&(ontology_syn.synonym==entity)]\n",
        "#   t2 = ontology_syn[(ontology_syn.entity_id==entity)&(ontology_syn.synonym!=entity)].sample(99)\n",
        "#   dfs.append(pd.concat([t1,t2]))\n",
        "# dfs.append(ontology_syn.loc[~ontology_syn[\"entity_id\"].isin(idx)]) # Append dataframe for all entities with less then 100 synonyms to list\n",
        "\n",
        "# # Combine all dataframes \n",
        "# ontology_syn_ds = pd.concat(dfs).reset_index(drop=True)"
      ],
      "metadata": {
        "id": "Sr9XB4llGIwR"
      },
      "execution_count": 10,
      "outputs": []
    },
    {
      "cell_type": "code",
      "source": [
        "#Show synonyms in ontology which appear in more than 1 entity\n",
        "#ontology_syn_ds[ontology_syn_ds.synonym.duplicated(keep=False)].sort_values(by=\"synonym\")"
      ],
      "metadata": {
        "id": "NnLHZUIlWWEt"
      },
      "execution_count": 11,
      "outputs": []
    },
    {
      "cell_type": "code",
      "source": [
        "#List of unique entities from ontology with synonyms with downsampling (apparently there are some duplicates in there?!)\n",
        "#entities_syn_unique_ds = ontology_syn_ds.synonym.unique().tolist()\n",
        "#ontology_syn_ds_unique = ontology_syn_ds.drop_duplicates(subset=\"synonym\")"
      ],
      "metadata": {
        "id": "RBU4KchiG7i1"
      },
      "execution_count": 12,
      "outputs": []
    },
    {
      "cell_type": "markdown",
      "source": [
        "#### Ontology.json (only structure of ontology with \"main\" entity ids (without synonmys))"
      ],
      "metadata": {
        "id": "Xs_VcozqFowh"
      }
    },
    {
      "cell_type": "markdown",
      "source": [
        "I did not manage yet to flatten the json file, therefore I used the entities table from the duckdb instead (see next section) "
      ],
      "metadata": {
        "id": "T_Jx5IcGF830"
      }
    },
    {
      "cell_type": "code",
      "source": [
        "if colab==True:\n",
        "  ontology_json = pd.read_json(data_path+\"/Ontology/isontology.json\")#, orient=\"values\")#, index_col=0)"
      ],
      "metadata": {
        "id": "3oiutzymFxP0"
      },
      "execution_count": 13,
      "outputs": []
    },
    {
      "cell_type": "code",
      "source": [
        "ontology_json.head()"
      ],
      "metadata": {
        "colab": {
          "base_uri": "https://localhost:8080/",
          "height": 206
        },
        "id": "MHvVLpbwHsbf",
        "outputId": "e9f60293-f02a-4645-b068-5b9d72a89925"
      },
      "execution_count": 14,
      "outputs": [
        {
          "output_type": "execute_result",
          "data": {
            "text/plain": [
              "                                                root\n",
              "0  {'IS topic': [{'IS sourcing': [{'outsourcing':...\n",
              "1  {'research paradigm': [{'positivism': ['logica...\n",
              "2  {'model': ['taxonomy', 'framework', {'research...\n",
              "3  {'economic sector': ['private household', {'go...\n",
              "4  {'company type': [{'small and mid-size enterpr..."
            ],
            "text/html": [
              "\n",
              "  <div id=\"df-9f0ed0b6-0da3-49c2-b511-b6161e890760\">\n",
              "    <div class=\"colab-df-container\">\n",
              "      <div>\n",
              "<style scoped>\n",
              "    .dataframe tbody tr th:only-of-type {\n",
              "        vertical-align: middle;\n",
              "    }\n",
              "\n",
              "    .dataframe tbody tr th {\n",
              "        vertical-align: top;\n",
              "    }\n",
              "\n",
              "    .dataframe thead th {\n",
              "        text-align: right;\n",
              "    }\n",
              "</style>\n",
              "<table border=\"1\" class=\"dataframe\">\n",
              "  <thead>\n",
              "    <tr style=\"text-align: right;\">\n",
              "      <th></th>\n",
              "      <th>root</th>\n",
              "    </tr>\n",
              "  </thead>\n",
              "  <tbody>\n",
              "    <tr>\n",
              "      <th>0</th>\n",
              "      <td>{'IS topic': [{'IS sourcing': [{'outsourcing':...</td>\n",
              "    </tr>\n",
              "    <tr>\n",
              "      <th>1</th>\n",
              "      <td>{'research paradigm': [{'positivism': ['logica...</td>\n",
              "    </tr>\n",
              "    <tr>\n",
              "      <th>2</th>\n",
              "      <td>{'model': ['taxonomy', 'framework', {'research...</td>\n",
              "    </tr>\n",
              "    <tr>\n",
              "      <th>3</th>\n",
              "      <td>{'economic sector': ['private household', {'go...</td>\n",
              "    </tr>\n",
              "    <tr>\n",
              "      <th>4</th>\n",
              "      <td>{'company type': [{'small and mid-size enterpr...</td>\n",
              "    </tr>\n",
              "  </tbody>\n",
              "</table>\n",
              "</div>\n",
              "      <button class=\"colab-df-convert\" onclick=\"convertToInteractive('df-9f0ed0b6-0da3-49c2-b511-b6161e890760')\"\n",
              "              title=\"Convert this dataframe to an interactive table.\"\n",
              "              style=\"display:none;\">\n",
              "        \n",
              "  <svg xmlns=\"http://www.w3.org/2000/svg\" height=\"24px\"viewBox=\"0 0 24 24\"\n",
              "       width=\"24px\">\n",
              "    <path d=\"M0 0h24v24H0V0z\" fill=\"none\"/>\n",
              "    <path d=\"M18.56 5.44l.94 2.06.94-2.06 2.06-.94-2.06-.94-.94-2.06-.94 2.06-2.06.94zm-11 1L8.5 8.5l.94-2.06 2.06-.94-2.06-.94L8.5 2.5l-.94 2.06-2.06.94zm10 10l.94 2.06.94-2.06 2.06-.94-2.06-.94-.94-2.06-.94 2.06-2.06.94z\"/><path d=\"M17.41 7.96l-1.37-1.37c-.4-.4-.92-.59-1.43-.59-.52 0-1.04.2-1.43.59L10.3 9.45l-7.72 7.72c-.78.78-.78 2.05 0 2.83L4 21.41c.39.39.9.59 1.41.59.51 0 1.02-.2 1.41-.59l7.78-7.78 2.81-2.81c.8-.78.8-2.07 0-2.86zM5.41 20L4 18.59l7.72-7.72 1.47 1.35L5.41 20z\"/>\n",
              "  </svg>\n",
              "      </button>\n",
              "      \n",
              "  <style>\n",
              "    .colab-df-container {\n",
              "      display:flex;\n",
              "      flex-wrap:wrap;\n",
              "      gap: 12px;\n",
              "    }\n",
              "\n",
              "    .colab-df-convert {\n",
              "      background-color: #E8F0FE;\n",
              "      border: none;\n",
              "      border-radius: 50%;\n",
              "      cursor: pointer;\n",
              "      display: none;\n",
              "      fill: #1967D2;\n",
              "      height: 32px;\n",
              "      padding: 0 0 0 0;\n",
              "      width: 32px;\n",
              "    }\n",
              "\n",
              "    .colab-df-convert:hover {\n",
              "      background-color: #E2EBFA;\n",
              "      box-shadow: 0px 1px 2px rgba(60, 64, 67, 0.3), 0px 1px 3px 1px rgba(60, 64, 67, 0.15);\n",
              "      fill: #174EA6;\n",
              "    }\n",
              "\n",
              "    [theme=dark] .colab-df-convert {\n",
              "      background-color: #3B4455;\n",
              "      fill: #D2E3FC;\n",
              "    }\n",
              "\n",
              "    [theme=dark] .colab-df-convert:hover {\n",
              "      background-color: #434B5C;\n",
              "      box-shadow: 0px 1px 3px 1px rgba(0, 0, 0, 0.15);\n",
              "      filter: drop-shadow(0px 1px 2px rgba(0, 0, 0, 0.3));\n",
              "      fill: #FFFFFF;\n",
              "    }\n",
              "  </style>\n",
              "\n",
              "      <script>\n",
              "        const buttonEl =\n",
              "          document.querySelector('#df-9f0ed0b6-0da3-49c2-b511-b6161e890760 button.colab-df-convert');\n",
              "        buttonEl.style.display =\n",
              "          google.colab.kernel.accessAllowed ? 'block' : 'none';\n",
              "\n",
              "        async function convertToInteractive(key) {\n",
              "          const element = document.querySelector('#df-9f0ed0b6-0da3-49c2-b511-b6161e890760');\n",
              "          const dataTable =\n",
              "            await google.colab.kernel.invokeFunction('convertToInteractive',\n",
              "                                                     [key], {});\n",
              "          if (!dataTable) return;\n",
              "\n",
              "          const docLinkHtml = 'Like what you see? Visit the ' +\n",
              "            '<a target=\"_blank\" href=https://colab.research.google.com/notebooks/data_table.ipynb>data table notebook</a>'\n",
              "            + ' to learn more about interactive tables.';\n",
              "          element.innerHTML = '';\n",
              "          dataTable['output_type'] = 'display_data';\n",
              "          await google.colab.output.renderOutput(dataTable, element);\n",
              "          const docLink = document.createElement('div');\n",
              "          docLink.innerHTML = docLinkHtml;\n",
              "          element.appendChild(docLink);\n",
              "        }\n",
              "      </script>\n",
              "    </div>\n",
              "  </div>\n",
              "  "
            ]
          },
          "metadata": {},
          "execution_count": 14
        }
      ]
    },
    {
      "cell_type": "markdown",
      "source": [
        "#### Entities (Sentence_id + tagged entity_id) by Rolands script"
      ],
      "metadata": {
        "id": "1Qc3ClKUPu8y"
      }
    },
    {
      "cell_type": "code",
      "source": [
        "# Note that DBeaver must be closed, before you can run this command!\n",
        "if colab==True:\n",
        "  con = duckdb.connect(database=data_path+'/Extracted Information of Corpus/isrecon.duckdb', read_only=False)\n",
        "else:\n",
        "  con = duckdb.connect(database='../Data/ExtractedInformationofCorpus/isrecon.duckdb', read_only=False)"
      ],
      "metadata": {
        "id": "X16xHa4EMt_H"
      },
      "execution_count": 15,
      "outputs": []
    },
    {
      "cell_type": "markdown",
      "source": [
        "Lets load all the entities from the duckdb"
      ],
      "metadata": {
        "id": "MKGjB60uJ0sl"
      }
    },
    {
      "cell_type": "code",
      "source": [
        "# Load first article as df\n",
        "entities = con.execute(\"\"\"\n",
        "                       SELECT article_id, sentence_id, ent_id, level_1, level_2, level_3, level_4, level_5, level_6, level_7, level_8, level_9, level_10,\n",
        "                       FROM entities e\n",
        "                       \"\"\").fetchdf()\n",
        "\n",
        "entities.shape"
      ],
      "metadata": {
        "colab": {
          "base_uri": "https://localhost:8080/"
        },
        "id": "5ZLnM9ShMorg",
        "outputId": "5dc797f5-152d-4d6f-d5d6-41b032655ffb"
      },
      "execution_count": 16,
      "outputs": [
        {
          "output_type": "execute_result",
          "data": {
            "text/plain": [
              "(1797740, 13)"
            ]
          },
          "metadata": {},
          "execution_count": 16
        }
      ]
    },
    {
      "cell_type": "code",
      "source": [
        "# Main entities of first level of ontology\n",
        "entities.level_1.unique()"
      ],
      "metadata": {
        "colab": {
          "base_uri": "https://localhost:8080/"
        },
        "id": "UTYFb7HXaJhx",
        "outputId": "774ba14a-b62b-4817-e414-28ae2d4d4cf3"
      },
      "execution_count": 17,
      "outputs": [
        {
          "output_type": "execute_result",
          "data": {
            "text/plain": [
              "array(['domain specific entity', 'theoretical entity',\n",
              "       'methodological entity'], dtype=object)"
            ]
          },
          "metadata": {},
          "execution_count": 17
        }
      ]
    },
    {
      "cell_type": "code",
      "source": [
        "# Distribution of entities from database accross first and second level\n",
        "entities.groupby([\"level_1\", \"level_2\"])[[\"ent_id\"]].aggregate([\"count\", \"nunique\"])"
      ],
      "metadata": {
        "colab": {
          "base_uri": "https://localhost:8080/",
          "height": 520
        },
        "id": "VBMNVrh2l67M",
        "outputId": "883feb13-4f8d-47be-ad5c-c2b5ff452680"
      },
      "execution_count": 19,
      "outputs": [
        {
          "output_type": "execute_result",
          "data": {
            "text/plain": [
              "                                             ent_id        \n",
              "                                              count nunique\n",
              "level_1                level_2                             \n",
              "domain specific entity IS technology         463211     475\n",
              "                       IS topic              461262     416\n",
              "                       economic sector       102057     234\n",
              "                       study object           61799      21\n",
              "methodological entity  data analysis method   73002     292\n",
              "                       research method       257820     272\n",
              "                       sampling                6148      27\n",
              "                       statistical metric     78673      87\n",
              "                       validity               11357      25\n",
              "theoretical entity     level of analysis      12064      13\n",
              "                       model                 196827      31\n",
              "                       research paradigm      13429      14\n",
              "                       theory                 60091     223"
            ],
            "text/html": [
              "\n",
              "  <div id=\"df-52d7f02e-23c7-4bb7-ba98-a8d9cd0b6527\">\n",
              "    <div class=\"colab-df-container\">\n",
              "      <div>\n",
              "<style scoped>\n",
              "    .dataframe tbody tr th:only-of-type {\n",
              "        vertical-align: middle;\n",
              "    }\n",
              "\n",
              "    .dataframe tbody tr th {\n",
              "        vertical-align: top;\n",
              "    }\n",
              "\n",
              "    .dataframe thead tr th {\n",
              "        text-align: left;\n",
              "    }\n",
              "\n",
              "    .dataframe thead tr:last-of-type th {\n",
              "        text-align: right;\n",
              "    }\n",
              "</style>\n",
              "<table border=\"1\" class=\"dataframe\">\n",
              "  <thead>\n",
              "    <tr>\n",
              "      <th></th>\n",
              "      <th></th>\n",
              "      <th colspan=\"2\" halign=\"left\">ent_id</th>\n",
              "    </tr>\n",
              "    <tr>\n",
              "      <th></th>\n",
              "      <th></th>\n",
              "      <th>count</th>\n",
              "      <th>nunique</th>\n",
              "    </tr>\n",
              "    <tr>\n",
              "      <th>level_1</th>\n",
              "      <th>level_2</th>\n",
              "      <th></th>\n",
              "      <th></th>\n",
              "    </tr>\n",
              "  </thead>\n",
              "  <tbody>\n",
              "    <tr>\n",
              "      <th rowspan=\"4\" valign=\"top\">domain specific entity</th>\n",
              "      <th>IS technology</th>\n",
              "      <td>463211</td>\n",
              "      <td>475</td>\n",
              "    </tr>\n",
              "    <tr>\n",
              "      <th>IS topic</th>\n",
              "      <td>461262</td>\n",
              "      <td>416</td>\n",
              "    </tr>\n",
              "    <tr>\n",
              "      <th>economic sector</th>\n",
              "      <td>102057</td>\n",
              "      <td>234</td>\n",
              "    </tr>\n",
              "    <tr>\n",
              "      <th>study object</th>\n",
              "      <td>61799</td>\n",
              "      <td>21</td>\n",
              "    </tr>\n",
              "    <tr>\n",
              "      <th rowspan=\"5\" valign=\"top\">methodological entity</th>\n",
              "      <th>data analysis method</th>\n",
              "      <td>73002</td>\n",
              "      <td>292</td>\n",
              "    </tr>\n",
              "    <tr>\n",
              "      <th>research method</th>\n",
              "      <td>257820</td>\n",
              "      <td>272</td>\n",
              "    </tr>\n",
              "    <tr>\n",
              "      <th>sampling</th>\n",
              "      <td>6148</td>\n",
              "      <td>27</td>\n",
              "    </tr>\n",
              "    <tr>\n",
              "      <th>statistical metric</th>\n",
              "      <td>78673</td>\n",
              "      <td>87</td>\n",
              "    </tr>\n",
              "    <tr>\n",
              "      <th>validity</th>\n",
              "      <td>11357</td>\n",
              "      <td>25</td>\n",
              "    </tr>\n",
              "    <tr>\n",
              "      <th rowspan=\"4\" valign=\"top\">theoretical entity</th>\n",
              "      <th>level of analysis</th>\n",
              "      <td>12064</td>\n",
              "      <td>13</td>\n",
              "    </tr>\n",
              "    <tr>\n",
              "      <th>model</th>\n",
              "      <td>196827</td>\n",
              "      <td>31</td>\n",
              "    </tr>\n",
              "    <tr>\n",
              "      <th>research paradigm</th>\n",
              "      <td>13429</td>\n",
              "      <td>14</td>\n",
              "    </tr>\n",
              "    <tr>\n",
              "      <th>theory</th>\n",
              "      <td>60091</td>\n",
              "      <td>223</td>\n",
              "    </tr>\n",
              "  </tbody>\n",
              "</table>\n",
              "</div>\n",
              "      <button class=\"colab-df-convert\" onclick=\"convertToInteractive('df-52d7f02e-23c7-4bb7-ba98-a8d9cd0b6527')\"\n",
              "              title=\"Convert this dataframe to an interactive table.\"\n",
              "              style=\"display:none;\">\n",
              "        \n",
              "  <svg xmlns=\"http://www.w3.org/2000/svg\" height=\"24px\"viewBox=\"0 0 24 24\"\n",
              "       width=\"24px\">\n",
              "    <path d=\"M0 0h24v24H0V0z\" fill=\"none\"/>\n",
              "    <path d=\"M18.56 5.44l.94 2.06.94-2.06 2.06-.94-2.06-.94-.94-2.06-.94 2.06-2.06.94zm-11 1L8.5 8.5l.94-2.06 2.06-.94-2.06-.94L8.5 2.5l-.94 2.06-2.06.94zm10 10l.94 2.06.94-2.06 2.06-.94-2.06-.94-.94-2.06-.94 2.06-2.06.94z\"/><path d=\"M17.41 7.96l-1.37-1.37c-.4-.4-.92-.59-1.43-.59-.52 0-1.04.2-1.43.59L10.3 9.45l-7.72 7.72c-.78.78-.78 2.05 0 2.83L4 21.41c.39.39.9.59 1.41.59.51 0 1.02-.2 1.41-.59l7.78-7.78 2.81-2.81c.8-.78.8-2.07 0-2.86zM5.41 20L4 18.59l7.72-7.72 1.47 1.35L5.41 20z\"/>\n",
              "  </svg>\n",
              "      </button>\n",
              "      \n",
              "  <style>\n",
              "    .colab-df-container {\n",
              "      display:flex;\n",
              "      flex-wrap:wrap;\n",
              "      gap: 12px;\n",
              "    }\n",
              "\n",
              "    .colab-df-convert {\n",
              "      background-color: #E8F0FE;\n",
              "      border: none;\n",
              "      border-radius: 50%;\n",
              "      cursor: pointer;\n",
              "      display: none;\n",
              "      fill: #1967D2;\n",
              "      height: 32px;\n",
              "      padding: 0 0 0 0;\n",
              "      width: 32px;\n",
              "    }\n",
              "\n",
              "    .colab-df-convert:hover {\n",
              "      background-color: #E2EBFA;\n",
              "      box-shadow: 0px 1px 2px rgba(60, 64, 67, 0.3), 0px 1px 3px 1px rgba(60, 64, 67, 0.15);\n",
              "      fill: #174EA6;\n",
              "    }\n",
              "\n",
              "    [theme=dark] .colab-df-convert {\n",
              "      background-color: #3B4455;\n",
              "      fill: #D2E3FC;\n",
              "    }\n",
              "\n",
              "    [theme=dark] .colab-df-convert:hover {\n",
              "      background-color: #434B5C;\n",
              "      box-shadow: 0px 1px 3px 1px rgba(0, 0, 0, 0.15);\n",
              "      filter: drop-shadow(0px 1px 2px rgba(0, 0, 0, 0.3));\n",
              "      fill: #FFFFFF;\n",
              "    }\n",
              "  </style>\n",
              "\n",
              "      <script>\n",
              "        const buttonEl =\n",
              "          document.querySelector('#df-52d7f02e-23c7-4bb7-ba98-a8d9cd0b6527 button.colab-df-convert');\n",
              "        buttonEl.style.display =\n",
              "          google.colab.kernel.accessAllowed ? 'block' : 'none';\n",
              "\n",
              "        async function convertToInteractive(key) {\n",
              "          const element = document.querySelector('#df-52d7f02e-23c7-4bb7-ba98-a8d9cd0b6527');\n",
              "          const dataTable =\n",
              "            await google.colab.kernel.invokeFunction('convertToInteractive',\n",
              "                                                     [key], {});\n",
              "          if (!dataTable) return;\n",
              "\n",
              "          const docLinkHtml = 'Like what you see? Visit the ' +\n",
              "            '<a target=\"_blank\" href=https://colab.research.google.com/notebooks/data_table.ipynb>data table notebook</a>'\n",
              "            + ' to learn more about interactive tables.';\n",
              "          element.innerHTML = '';\n",
              "          dataTable['output_type'] = 'display_data';\n",
              "          await google.colab.output.renderOutput(dataTable, element);\n",
              "          const docLink = document.createElement('div');\n",
              "          docLink.innerHTML = docLinkHtml;\n",
              "          element.appendChild(docLink);\n",
              "        }\n",
              "      </script>\n",
              "    </div>\n",
              "  </div>\n",
              "  "
            ]
          },
          "metadata": {},
          "execution_count": 19
        }
      ]
    },
    {
      "cell_type": "markdown",
      "source": [
        "## `Train-val-test` split of the existing ontology"
      ],
      "metadata": {
        "id": "i_oA2IiTn6-h"
      }
    },
    {
      "cell_type": "markdown",
      "source": [
        "In order to determine how well our model/embeddings are in identifing new entities or synonyms for existing entities we have to create a `train-val-test split` version of the existing ontology. Meaning we have to select some entities which will be removed from the ontology for training. \n"
      ],
      "metadata": {
        "id": "xOYJ3xwjaa3h"
      }
    },
    {
      "cell_type": "markdown",
      "source": [
        "- We will remove different nodes across all main topics and levels of the ontology to assess how our model is handling with missing nodes from different \"levels\"\n",
        "- To determine which nodes to include we used the `ontology.json` file since here the hierarchy is already visually included, so it was easy to define some random nodes (and child nodes)"
      ],
      "metadata": {
        "id": "Kdwo7fggo__R"
      }
    },
    {
      "cell_type": "markdown",
      "source": [
        "**We selcted the following entities as part of the validattion-test set:**\n",
        "\n",
        "|    | level_1                | level_2              | entity_id_to_remove                 |   is_parent_node |\n",
        "|---:|:-----------------------|:---------------------|:------------------------------------|-----------------:|\n",
        "|  0 | domain specific entity | IS topic             | business process outsourcing        |                1 |\n",
        "|  1 | domain specific entity | IS topic             | cybersecurity behavior              |                1 |\n",
        "|  2 | domain specific entity | IS topic             | user interface                      |                1 |\n",
        "|  3 | domain specific entity | IS topic             | IT planning                         |                1 |\n",
        "|  4 | domain specific entity | IS topic             | business process management         |                1 |\n",
        "|  5 | domain specific entity | IS topic             | sharing platform                    |                1 |\n",
        "|  6 | domain specific entity | IS topic             | software license                    |                1 |\n",
        "|  7 | domain specific entity | IS topic             | IT recruiting                       |                0 |\n",
        "|  8 | domain specific entity | IS technology        | enterprise service bus              |                0 |\n",
        "|  9 | domain specific entity | IS technology        | online marketing                    |                1 |\n",
        "| 10 | domain specific entity | IS technology        | video game                          |                1 |\n",
        "| 11 | domain specific entity | IS technology        | non volatile memory                 |                1 |\n",
        "| 12 | domain specific entity | IS technology        | recommender system                  |                1 |\n",
        "| 13 | domain specific entity | IS technology        | digital asset management            |                0 |\n",
        "| 14 | domain specific entity | IS technology        | high level language                 |                1 |\n",
        "| 15 | domain specific entity | Economic sector      | forest industry                     |                1 |\n",
        "| 16 | domain specific entity | Economic sector      | hedge fund                          |                0 |\n",
        "| 17 | domain specific entity | Economic sector      | structural engineering              |                1 |\n",
        "| 18 | domain specific entity | Economic sector      | research institute                  |                0 |\n",
        "| 19 | domain specific entity | Economic sector      | private household                   |                0 |\n",
        "| 20 | domain specific entity | Economic sector      | plastics industry                   |                1 |\n",
        "| 21 | domain specific entity | study object         | crowdsourcing of participant        |                1 |\n",
        "| 22 | domain specific entity | study object         | startup                             |                0 |\n",
        "| 23 | methodological entity  | study object         | microenterprise                     |                0 |\n",
        "| 24 | methodological entity  | research method      | pilot experiment                    |                0 |\n",
        "| 25 | methodological entity  | research method      | completely randomized design        |                0 |\n",
        "| 26 | methodological entity  | research method      | survey design problem               |                1 |\n",
        "| 27 | methodological entity  | research method      | action research                     |                1 |\n",
        "| 28 | methodological entity  | research method      | delphi study                        |                0 |\n",
        "| 29 | methodological entity  | research method      | Markov model                        |                1 |\n",
        "| 30 | methodological entity  | research method      | database modeling                   |                1 |\n",
        "| 31 | methodological entity  | data analysis method | constant comparative analysis       |                0 |\n",
        "| 32 | methodological entity  | data analysis method | ensemble learning                   |                1 |\n",
        "| 33 | methodological entity  | data analysis method | sentiment analysis                  |                1 |\n",
        "| 34 | methodological entity  | data analysis method | autoregressive moving average model |                0 |\n",
        "| 35 | methodological entity  | data analysis method | correlation direction               |                1 |\n",
        "| 36 | methodological entity  | data analysis method | recurrent neural network            |                1 |\n",
        "| 37 | methodological entity  | data analysis method | exploratory factor analysis         |                0 |\n",
        "| 38 | methodological entity  | data analysis method | confirmatory factor analysis        |                0 |\n",
        "| 39 | methodological entity  | data analysis method | survival function                   |                1 |\n",
        "| 40 | methodological entity  | data analysis method | p hacking                           |                0 |\n",
        "| 41 | methodological entity  | statistical metric   | Chi square metric                   |                0 |\n",
        "| 42 | methodological entity  | statistical metric   | confusion matrix                    |                0 |\n",
        "| 43 | methodological entity  | validity             | formative validity                  |                0 |\n",
        "| 44 | methodological entity  | validity             | criterion validity                  |                1 |\n",
        "| 45 | methodological entity  | sampling             | oversampling                        |                1 |\n",
        "| 46 | theoretical entity     | sampling             | quota sampling                      |                0 |\n",
        "| 47 | theoretical entity     | level of analysis    | micro level                         |                1 |\n",
        "| 48 | theoretical entity     | level of analysis    | country level                       |                0 |\n",
        "| 49 | theoretical entity     | model                | causal model                        |                0 |\n",
        "| 50 | theoretical entity     | model                | control variable                    |                0 |\n",
        "| 51 | theoretical entity     | model                | taxonomy                            |                0 |\n",
        "| 52 | theoretical entity     | model                | theoretical link                    |                1 |\n",
        "| 53 | theoretical entity     | research paradigm    | interpretivism                      |                0 |\n",
        "| 54 | theoretical entity     | research paradigm    | realism                             |                1 |\n",
        "| 55 | theoretical entity     | theory               | IT security theory                  |                1 |\n",
        "| 56 | theoretical entity     | theory               | theory of task technology fit       |                0 |\n",
        "| 57 | theoretical entity     | theory               | personality theory                  |                1 |\n",
        "| 58 | theoretical entity     | theory               | equity theory                       |                0 |\n",
        "| 59 | theoretical entity     | theory               | theory of work design               |                1 |\n",
        "| 60 | theoretical entity     | theory               | personality theory                  |                1 |                 |                0 |\n",
        "| 61 | theoretical entity     | theory               | uncanny valley theory               |                0 |"
      ],
      "metadata": {
        "id": "KV1B8mIz3lg8"
      }
    },
    {
      "cell_type": "markdown",
      "source": [
        "We also stored the list above in an Excel format for further processing"
      ],
      "metadata": {
        "id": "LkExPJjD67YV"
      }
    },
    {
      "cell_type": "code",
      "source": [
        "data_path_group = data_path[:-10]+\"Topic 1/Data_Team1/\" # create new data path to access files created by Team1\n",
        "\n",
        "entities_to_removed = pd.read_excel(data_path_group+\"ent_to_remove_from_ontology.xlsx\") #load excel list as dataframe\n",
        "entities_to_removed[\"entity_id_to_remove\"] = entities_to_removed.entity_id_to_remove.str.strip() #remove whitespace"
      ],
      "metadata": {
        "id": "JbrEmT-ppeal"
      },
      "execution_count": 78,
      "outputs": []
    },
    {
      "cell_type": "code",
      "source": [
        "entities_to_removed.head(2)"
      ],
      "metadata": {
        "colab": {
          "base_uri": "https://localhost:8080/",
          "height": 112
        },
        "id": "d9AkIQ8mB1Fa",
        "outputId": "f19188c7-37f3-425c-807b-7fd5cd421956"
      },
      "execution_count": 79,
      "outputs": [
        {
          "output_type": "execute_result",
          "data": {
            "text/plain": [
              "                  level_1   level_2           entity_id_to_remove  \\\n",
              "0  domain specific entity  IS topic  business process outsourcing   \n",
              "1  domain specific entity  IS topic        cybersecurity behavior   \n",
              "\n",
              "   is_parent_node  \n",
              "0             1.0  \n",
              "1             1.0  "
            ],
            "text/html": [
              "\n",
              "  <div id=\"df-30b85785-e20a-40e4-843a-644df2d25e5a\">\n",
              "    <div class=\"colab-df-container\">\n",
              "      <div>\n",
              "<style scoped>\n",
              "    .dataframe tbody tr th:only-of-type {\n",
              "        vertical-align: middle;\n",
              "    }\n",
              "\n",
              "    .dataframe tbody tr th {\n",
              "        vertical-align: top;\n",
              "    }\n",
              "\n",
              "    .dataframe thead th {\n",
              "        text-align: right;\n",
              "    }\n",
              "</style>\n",
              "<table border=\"1\" class=\"dataframe\">\n",
              "  <thead>\n",
              "    <tr style=\"text-align: right;\">\n",
              "      <th></th>\n",
              "      <th>level_1</th>\n",
              "      <th>level_2</th>\n",
              "      <th>entity_id_to_remove</th>\n",
              "      <th>is_parent_node</th>\n",
              "    </tr>\n",
              "  </thead>\n",
              "  <tbody>\n",
              "    <tr>\n",
              "      <th>0</th>\n",
              "      <td>domain specific entity</td>\n",
              "      <td>IS topic</td>\n",
              "      <td>business process outsourcing</td>\n",
              "      <td>1.0</td>\n",
              "    </tr>\n",
              "    <tr>\n",
              "      <th>1</th>\n",
              "      <td>domain specific entity</td>\n",
              "      <td>IS topic</td>\n",
              "      <td>cybersecurity behavior</td>\n",
              "      <td>1.0</td>\n",
              "    </tr>\n",
              "  </tbody>\n",
              "</table>\n",
              "</div>\n",
              "      <button class=\"colab-df-convert\" onclick=\"convertToInteractive('df-30b85785-e20a-40e4-843a-644df2d25e5a')\"\n",
              "              title=\"Convert this dataframe to an interactive table.\"\n",
              "              style=\"display:none;\">\n",
              "        \n",
              "  <svg xmlns=\"http://www.w3.org/2000/svg\" height=\"24px\"viewBox=\"0 0 24 24\"\n",
              "       width=\"24px\">\n",
              "    <path d=\"M0 0h24v24H0V0z\" fill=\"none\"/>\n",
              "    <path d=\"M18.56 5.44l.94 2.06.94-2.06 2.06-.94-2.06-.94-.94-2.06-.94 2.06-2.06.94zm-11 1L8.5 8.5l.94-2.06 2.06-.94-2.06-.94L8.5 2.5l-.94 2.06-2.06.94zm10 10l.94 2.06.94-2.06 2.06-.94-2.06-.94-.94-2.06-.94 2.06-2.06.94z\"/><path d=\"M17.41 7.96l-1.37-1.37c-.4-.4-.92-.59-1.43-.59-.52 0-1.04.2-1.43.59L10.3 9.45l-7.72 7.72c-.78.78-.78 2.05 0 2.83L4 21.41c.39.39.9.59 1.41.59.51 0 1.02-.2 1.41-.59l7.78-7.78 2.81-2.81c.8-.78.8-2.07 0-2.86zM5.41 20L4 18.59l7.72-7.72 1.47 1.35L5.41 20z\"/>\n",
              "  </svg>\n",
              "      </button>\n",
              "      \n",
              "  <style>\n",
              "    .colab-df-container {\n",
              "      display:flex;\n",
              "      flex-wrap:wrap;\n",
              "      gap: 12px;\n",
              "    }\n",
              "\n",
              "    .colab-df-convert {\n",
              "      background-color: #E8F0FE;\n",
              "      border: none;\n",
              "      border-radius: 50%;\n",
              "      cursor: pointer;\n",
              "      display: none;\n",
              "      fill: #1967D2;\n",
              "      height: 32px;\n",
              "      padding: 0 0 0 0;\n",
              "      width: 32px;\n",
              "    }\n",
              "\n",
              "    .colab-df-convert:hover {\n",
              "      background-color: #E2EBFA;\n",
              "      box-shadow: 0px 1px 2px rgba(60, 64, 67, 0.3), 0px 1px 3px 1px rgba(60, 64, 67, 0.15);\n",
              "      fill: #174EA6;\n",
              "    }\n",
              "\n",
              "    [theme=dark] .colab-df-convert {\n",
              "      background-color: #3B4455;\n",
              "      fill: #D2E3FC;\n",
              "    }\n",
              "\n",
              "    [theme=dark] .colab-df-convert:hover {\n",
              "      background-color: #434B5C;\n",
              "      box-shadow: 0px 1px 3px 1px rgba(0, 0, 0, 0.15);\n",
              "      filter: drop-shadow(0px 1px 2px rgba(0, 0, 0, 0.3));\n",
              "      fill: #FFFFFF;\n",
              "    }\n",
              "  </style>\n",
              "\n",
              "      <script>\n",
              "        const buttonEl =\n",
              "          document.querySelector('#df-30b85785-e20a-40e4-843a-644df2d25e5a button.colab-df-convert');\n",
              "        buttonEl.style.display =\n",
              "          google.colab.kernel.accessAllowed ? 'block' : 'none';\n",
              "\n",
              "        async function convertToInteractive(key) {\n",
              "          const element = document.querySelector('#df-30b85785-e20a-40e4-843a-644df2d25e5a');\n",
              "          const dataTable =\n",
              "            await google.colab.kernel.invokeFunction('convertToInteractive',\n",
              "                                                     [key], {});\n",
              "          if (!dataTable) return;\n",
              "\n",
              "          const docLinkHtml = 'Like what you see? Visit the ' +\n",
              "            '<a target=\"_blank\" href=https://colab.research.google.com/notebooks/data_table.ipynb>data table notebook</a>'\n",
              "            + ' to learn more about interactive tables.';\n",
              "          element.innerHTML = '';\n",
              "          dataTable['output_type'] = 'display_data';\n",
              "          await google.colab.output.renderOutput(dataTable, element);\n",
              "          const docLink = document.createElement('div');\n",
              "          docLink.innerHTML = docLinkHtml;\n",
              "          element.appendChild(docLink);\n",
              "        }\n",
              "      </script>\n",
              "    </div>\n",
              "  </div>\n",
              "  "
            ]
          },
          "metadata": {},
          "execution_count": 79
        }
      ]
    },
    {
      "cell_type": "code",
      "source": [
        "# Create list of entites which should be removed\n",
        "ent_to_rmv_list = entities_to_removed.entity_id_to_remove.to_list()"
      ],
      "metadata": {
        "id": "lnPeADsC2nRg"
      },
      "execution_count": 80,
      "outputs": []
    },
    {
      "cell_type": "markdown",
      "source": [
        "Now we want to enhance this dataframe to also include: \n",
        "- a list of different entities which belong to the specific parent node\n",
        "- a list of sentences in which the entity occurs\n",
        "- a list of articles in which the entity occurs\n",
        "- also we want the number of occurences for all three points from above"
      ],
      "metadata": {
        "id": "7DzDUS7bZmRS"
      }
    },
    {
      "cell_type": "code",
      "source": [
        "#entities[entities.values == \"social rank theory\"][[\"ent_id\", \"article_id\", \"sentence_id\"]]"
      ],
      "metadata": {
        "id": "PKaGl1aY-bga"
      },
      "execution_count": 81,
      "outputs": []
    },
    {
      "cell_type": "code",
      "source": [
        "tmp_list=[] # List of entities and child nodes which have to be removed from train ontology \n",
        "\n",
        "for entity in ent_to_rmv_list:\n",
        "  \n",
        "  #print(entity, (entities.values == entity).any(1).astype(int).max()) #to visually check if the random picked nodes are even included in entities database (so if there has been a match yet)\n",
        "\n",
        "  tmp_ = entities[entities.values == entity][[\"ent_id\", \"article_id\", \"sentence_id\"]].apply(lambda x: x.unique().tolist()) #get all the unique values for all three columns\n",
        "  df_tmp = pd.DataFrame(tmp_).T #store results as df'\n",
        "  df_tmp.columns=[\"ent_list\", \"articles_list\", \"sentences_list\"] #rename columns\n",
        "  tmp_list.append(df_tmp) #add df to list\n",
        "\n",
        "# Add list of children per entity, list of articles and sentences as new column to dataframe\n",
        "entities_to_removed = pd.concat((entities_to_removed, pd.concat(tmp_list).reset_index(drop=True)), axis=1)\n",
        "\n",
        "# add number of occurences as separate columns\n",
        "entities_to_removed[[\"num_ent\", \"num_articles\", \"num_sentences\"]] = entities_to_removed[[\"ent_list\", \"articles_list\", \"sentences_list\"]].applymap(lambda x: len(x))"
      ],
      "metadata": {
        "id": "XE691P3FZOt8"
      },
      "execution_count": null,
      "outputs": []
    },
    {
      "cell_type": "code",
      "source": [
        "entities_to_removed.sample(5)"
      ],
      "metadata": {
        "colab": {
          "base_uri": "https://localhost:8080/",
          "height": 458
        },
        "id": "Oe5GLtNTLwXY",
        "outputId": "890d71a3-cf28-455b-9063-001085c91585"
      },
      "execution_count": 83,
      "outputs": [
        {
          "output_type": "execute_result",
          "data": {
            "text/plain": [
              "                   level_1               level_2  \\\n",
              "53      theoretical entity     research paradigm   \n",
              "31   methodological entity  data analysis method   \n",
              "12  domain specific entity         IS technology   \n",
              "47      theoretical entity     level of analysis   \n",
              "34   methodological entity  data analysis method   \n",
              "\n",
              "                    entity_id_to_remove  is_parent_node  \\\n",
              "53                       interpretivism             0.0   \n",
              "31        constant comparative analysis             0.0   \n",
              "12                   recommender system             1.0   \n",
              "47                          micro level             1.0   \n",
              "34  autoregressive moving average model             0.0   \n",
              "\n",
              "                                             ent_list  \\\n",
              "53                                   [interpretivism]   \n",
              "31                    [constant comparative analysis]   \n",
              "12  [recommender system, collaborative filtering, ...   \n",
              "47       [individual level, micro level, group level]   \n",
              "34              [autoregressive moving average model]   \n",
              "\n",
              "                                        articles_list  \\\n",
              "53  [4249, 5607, 862, 1018, 5942, 5943, 4250, 4251...   \n",
              "31  [864, 2470, 2269, 2270, 2271, 6491, 6493, 2119...   \n",
              "12  [1838, 5414, 5415, 5604, 1623, 2656, 2657, 439...   \n",
              "47  [4244, 4245, 3024, 3027, 5413, 5414, 3197, 319...   \n",
              "34           [3694, 42, 6558, 6419, 2582, 5351, 3156]   \n",
              "\n",
              "                                       sentences_list  num_ent  num_articles  \\\n",
              "53  [4249_17_46, 4249_668_732, 4249_732_818, 4249_...        1           604   \n",
              "31  [864_5070_5096, 864_5842_5867, 2470_5181_5222,...        1           130   \n",
              "12  [1838_2291_2339, 5414_13785_13803, 5415_10502_...        3           311   \n",
              "47  [4244_11296_11362, 4245_8613_8628, 3024_633_65...        3          1369   \n",
              "34  [3694_5319_5342, 3694_5342_5362, 3694_5766_578...        1             7   \n",
              "\n",
              "    num_sentences  \n",
              "53           2275  \n",
              "31            300  \n",
              "12           2680  \n",
              "47           4655  \n",
              "34             46  "
            ],
            "text/html": [
              "\n",
              "  <div id=\"df-33886c1e-515e-4ee8-8e1c-4e5b9bcb4c35\">\n",
              "    <div class=\"colab-df-container\">\n",
              "      <div>\n",
              "<style scoped>\n",
              "    .dataframe tbody tr th:only-of-type {\n",
              "        vertical-align: middle;\n",
              "    }\n",
              "\n",
              "    .dataframe tbody tr th {\n",
              "        vertical-align: top;\n",
              "    }\n",
              "\n",
              "    .dataframe thead th {\n",
              "        text-align: right;\n",
              "    }\n",
              "</style>\n",
              "<table border=\"1\" class=\"dataframe\">\n",
              "  <thead>\n",
              "    <tr style=\"text-align: right;\">\n",
              "      <th></th>\n",
              "      <th>level_1</th>\n",
              "      <th>level_2</th>\n",
              "      <th>entity_id_to_remove</th>\n",
              "      <th>is_parent_node</th>\n",
              "      <th>ent_list</th>\n",
              "      <th>articles_list</th>\n",
              "      <th>sentences_list</th>\n",
              "      <th>num_ent</th>\n",
              "      <th>num_articles</th>\n",
              "      <th>num_sentences</th>\n",
              "    </tr>\n",
              "  </thead>\n",
              "  <tbody>\n",
              "    <tr>\n",
              "      <th>53</th>\n",
              "      <td>theoretical entity</td>\n",
              "      <td>research paradigm</td>\n",
              "      <td>interpretivism</td>\n",
              "      <td>0.0</td>\n",
              "      <td>[interpretivism]</td>\n",
              "      <td>[4249, 5607, 862, 1018, 5942, 5943, 4250, 4251...</td>\n",
              "      <td>[4249_17_46, 4249_668_732, 4249_732_818, 4249_...</td>\n",
              "      <td>1</td>\n",
              "      <td>604</td>\n",
              "      <td>2275</td>\n",
              "    </tr>\n",
              "    <tr>\n",
              "      <th>31</th>\n",
              "      <td>methodological entity</td>\n",
              "      <td>data analysis method</td>\n",
              "      <td>constant comparative analysis</td>\n",
              "      <td>0.0</td>\n",
              "      <td>[constant comparative analysis]</td>\n",
              "      <td>[864, 2470, 2269, 2270, 2271, 6491, 6493, 2119...</td>\n",
              "      <td>[864_5070_5096, 864_5842_5867, 2470_5181_5222,...</td>\n",
              "      <td>1</td>\n",
              "      <td>130</td>\n",
              "      <td>300</td>\n",
              "    </tr>\n",
              "    <tr>\n",
              "      <th>12</th>\n",
              "      <td>domain specific entity</td>\n",
              "      <td>IS technology</td>\n",
              "      <td>recommender system</td>\n",
              "      <td>1.0</td>\n",
              "      <td>[recommender system, collaborative filtering, ...</td>\n",
              "      <td>[1838, 5414, 5415, 5604, 1623, 2656, 2657, 439...</td>\n",
              "      <td>[1838_2291_2339, 5414_13785_13803, 5415_10502_...</td>\n",
              "      <td>3</td>\n",
              "      <td>311</td>\n",
              "      <td>2680</td>\n",
              "    </tr>\n",
              "    <tr>\n",
              "      <th>47</th>\n",
              "      <td>theoretical entity</td>\n",
              "      <td>level of analysis</td>\n",
              "      <td>micro level</td>\n",
              "      <td>1.0</td>\n",
              "      <td>[individual level, micro level, group level]</td>\n",
              "      <td>[4244, 4245, 3024, 3027, 5413, 5414, 3197, 319...</td>\n",
              "      <td>[4244_11296_11362, 4245_8613_8628, 3024_633_65...</td>\n",
              "      <td>3</td>\n",
              "      <td>1369</td>\n",
              "      <td>4655</td>\n",
              "    </tr>\n",
              "    <tr>\n",
              "      <th>34</th>\n",
              "      <td>methodological entity</td>\n",
              "      <td>data analysis method</td>\n",
              "      <td>autoregressive moving average model</td>\n",
              "      <td>0.0</td>\n",
              "      <td>[autoregressive moving average model]</td>\n",
              "      <td>[3694, 42, 6558, 6419, 2582, 5351, 3156]</td>\n",
              "      <td>[3694_5319_5342, 3694_5342_5362, 3694_5766_578...</td>\n",
              "      <td>1</td>\n",
              "      <td>7</td>\n",
              "      <td>46</td>\n",
              "    </tr>\n",
              "  </tbody>\n",
              "</table>\n",
              "</div>\n",
              "      <button class=\"colab-df-convert\" onclick=\"convertToInteractive('df-33886c1e-515e-4ee8-8e1c-4e5b9bcb4c35')\"\n",
              "              title=\"Convert this dataframe to an interactive table.\"\n",
              "              style=\"display:none;\">\n",
              "        \n",
              "  <svg xmlns=\"http://www.w3.org/2000/svg\" height=\"24px\"viewBox=\"0 0 24 24\"\n",
              "       width=\"24px\">\n",
              "    <path d=\"M0 0h24v24H0V0z\" fill=\"none\"/>\n",
              "    <path d=\"M18.56 5.44l.94 2.06.94-2.06 2.06-.94-2.06-.94-.94-2.06-.94 2.06-2.06.94zm-11 1L8.5 8.5l.94-2.06 2.06-.94-2.06-.94L8.5 2.5l-.94 2.06-2.06.94zm10 10l.94 2.06.94-2.06 2.06-.94-2.06-.94-.94-2.06-.94 2.06-2.06.94z\"/><path d=\"M17.41 7.96l-1.37-1.37c-.4-.4-.92-.59-1.43-.59-.52 0-1.04.2-1.43.59L10.3 9.45l-7.72 7.72c-.78.78-.78 2.05 0 2.83L4 21.41c.39.39.9.59 1.41.59.51 0 1.02-.2 1.41-.59l7.78-7.78 2.81-2.81c.8-.78.8-2.07 0-2.86zM5.41 20L4 18.59l7.72-7.72 1.47 1.35L5.41 20z\"/>\n",
              "  </svg>\n",
              "      </button>\n",
              "      \n",
              "  <style>\n",
              "    .colab-df-container {\n",
              "      display:flex;\n",
              "      flex-wrap:wrap;\n",
              "      gap: 12px;\n",
              "    }\n",
              "\n",
              "    .colab-df-convert {\n",
              "      background-color: #E8F0FE;\n",
              "      border: none;\n",
              "      border-radius: 50%;\n",
              "      cursor: pointer;\n",
              "      display: none;\n",
              "      fill: #1967D2;\n",
              "      height: 32px;\n",
              "      padding: 0 0 0 0;\n",
              "      width: 32px;\n",
              "    }\n",
              "\n",
              "    .colab-df-convert:hover {\n",
              "      background-color: #E2EBFA;\n",
              "      box-shadow: 0px 1px 2px rgba(60, 64, 67, 0.3), 0px 1px 3px 1px rgba(60, 64, 67, 0.15);\n",
              "      fill: #174EA6;\n",
              "    }\n",
              "\n",
              "    [theme=dark] .colab-df-convert {\n",
              "      background-color: #3B4455;\n",
              "      fill: #D2E3FC;\n",
              "    }\n",
              "\n",
              "    [theme=dark] .colab-df-convert:hover {\n",
              "      background-color: #434B5C;\n",
              "      box-shadow: 0px 1px 3px 1px rgba(0, 0, 0, 0.15);\n",
              "      filter: drop-shadow(0px 1px 2px rgba(0, 0, 0, 0.3));\n",
              "      fill: #FFFFFF;\n",
              "    }\n",
              "  </style>\n",
              "\n",
              "      <script>\n",
              "        const buttonEl =\n",
              "          document.querySelector('#df-33886c1e-515e-4ee8-8e1c-4e5b9bcb4c35 button.colab-df-convert');\n",
              "        buttonEl.style.display =\n",
              "          google.colab.kernel.accessAllowed ? 'block' : 'none';\n",
              "\n",
              "        async function convertToInteractive(key) {\n",
              "          const element = document.querySelector('#df-33886c1e-515e-4ee8-8e1c-4e5b9bcb4c35');\n",
              "          const dataTable =\n",
              "            await google.colab.kernel.invokeFunction('convertToInteractive',\n",
              "                                                     [key], {});\n",
              "          if (!dataTable) return;\n",
              "\n",
              "          const docLinkHtml = 'Like what you see? Visit the ' +\n",
              "            '<a target=\"_blank\" href=https://colab.research.google.com/notebooks/data_table.ipynb>data table notebook</a>'\n",
              "            + ' to learn more about interactive tables.';\n",
              "          element.innerHTML = '';\n",
              "          dataTable['output_type'] = 'display_data';\n",
              "          await google.colab.output.renderOutput(dataTable, element);\n",
              "          const docLink = document.createElement('div');\n",
              "          docLink.innerHTML = docLinkHtml;\n",
              "          element.appendChild(docLink);\n",
              "        }\n",
              "      </script>\n",
              "    </div>\n",
              "  </div>\n",
              "  "
            ]
          },
          "metadata": {},
          "execution_count": 83
        }
      ]
    },
    {
      "cell_type": "code",
      "source": [
        "#flatten list of entities which need to be removed \n",
        "entities_to_remove_cmpl = [x for xs in entities_to_removed.ent_list.to_list() for x in xs] # add all parent (and child) entities to a list which then can be excluded from the train dataframe"
      ],
      "metadata": {
        "id": "TL2AKYJX46g1"
      },
      "execution_count": 84,
      "outputs": []
    },
    {
      "cell_type": "code",
      "source": [
        "# Check number of entities which need to be removed from train set\n",
        "len(entities_to_remove_cmpl)"
      ],
      "metadata": {
        "colab": {
          "base_uri": "https://localhost:8080/"
        },
        "id": "IthJOIfV5whc",
        "outputId": "d0461a1d-02b1-46c6-a4f8-58134a0ad573"
      },
      "execution_count": 85,
      "outputs": [
        {
          "output_type": "execute_result",
          "data": {
            "text/plain": [
              "168"
            ]
          },
          "metadata": {},
          "execution_count": 85
        }
      ]
    },
    {
      "cell_type": "code",
      "source": [
        "# Store final entities_to_remove df as .csv\n",
        "#entities_to_removed.to_csv(data_path_group+\"ent_to_remove_from_ontology_final.csv\")"
      ],
      "metadata": {
        "id": "m1D_unRX38gY"
      },
      "execution_count": 87,
      "outputs": []
    },
    {
      "cell_type": "markdown",
      "source": [
        "### Create train dataframe of ontology"
      ],
      "metadata": {
        "id": "TUi3Ly-WMtGl"
      }
    },
    {
      "cell_type": "code",
      "source": [
        "# Create train dataframe which does NOT contain any of the entities and porential children\n",
        "entities_train = entities[~entities.ent_id.isin(entities_to_remove_cmpl)]\n",
        "entities_train.shape"
      ],
      "metadata": {
        "colab": {
          "base_uri": "https://localhost:8080/"
        },
        "id": "CLvI9GyK843O",
        "outputId": "035bc214-3aab-429d-b1c6-47356b1f7196"
      },
      "execution_count": 88,
      "outputs": [
        {
          "output_type": "execute_result",
          "data": {
            "text/plain": [
              "(1716198, 13)"
            ]
          },
          "metadata": {},
          "execution_count": 88
        }
      ]
    },
    {
      "cell_type": "code",
      "source": [
        "# Store train df as .csv\n",
        "#entities_train.to_csv(data_path_group+\"ontology_train.csv\")"
      ],
      "metadata": {
        "id": "9IGf_ta13MyN"
      },
      "execution_count": 89,
      "outputs": []
    },
    {
      "cell_type": "markdown",
      "source": [
        "### Create validation dataframe of ontology"
      ],
      "metadata": {
        "id": "GzahARV6MxNP"
      }
    },
    {
      "cell_type": "markdown",
      "source": [
        "For the validation and test set we need to further split the `entities_to_removed` dataframe"
      ],
      "metadata": {
        "id": "bIUBID0sa-0D"
      }
    },
    {
      "cell_type": "code",
      "source": [
        "entities_to_removed.groupby([\"level_1\", \"level_2\"])[[\"num_ent\"]].aggregate([\"sum\"])"
      ],
      "metadata": {
        "id": "DjYiu-nV5zpr",
        "outputId": "9ea3bf35-7754-49e5-fc16-3a2fd4968138",
        "colab": {
          "base_uri": "https://localhost:8080/",
          "height": 582
        }
      },
      "execution_count": 90,
      "outputs": [
        {
          "output_type": "execute_result",
          "data": {
            "text/plain": [
              "                                            num_ent\n",
              "                                                sum\n",
              "level_1                level_2                     \n",
              "domain specific entity Economic sector           13\n",
              "                       IS technology             38\n",
              "                       IS topic                  35\n",
              "                       study object               6\n",
              "methodological entity  data analysis method      23\n",
              "                       research method           19\n",
              "                       sampling                   2\n",
              "                       statistical metric         2\n",
              "                       study object               1\n",
              "                       validity                   4\n",
              "theoretical entity     level of analysis          4\n",
              "                       model                      5\n",
              "                       research paradigm          3\n",
              "                       sampling                   1\n",
              "                       theory                    12"
            ],
            "text/html": [
              "\n",
              "  <div id=\"df-0545c26d-eadd-4d0a-961b-dfced83c2fe5\">\n",
              "    <div class=\"colab-df-container\">\n",
              "      <div>\n",
              "<style scoped>\n",
              "    .dataframe tbody tr th:only-of-type {\n",
              "        vertical-align: middle;\n",
              "    }\n",
              "\n",
              "    .dataframe tbody tr th {\n",
              "        vertical-align: top;\n",
              "    }\n",
              "\n",
              "    .dataframe thead tr th {\n",
              "        text-align: left;\n",
              "    }\n",
              "\n",
              "    .dataframe thead tr:last-of-type th {\n",
              "        text-align: right;\n",
              "    }\n",
              "</style>\n",
              "<table border=\"1\" class=\"dataframe\">\n",
              "  <thead>\n",
              "    <tr>\n",
              "      <th></th>\n",
              "      <th></th>\n",
              "      <th>num_ent</th>\n",
              "    </tr>\n",
              "    <tr>\n",
              "      <th></th>\n",
              "      <th></th>\n",
              "      <th>sum</th>\n",
              "    </tr>\n",
              "    <tr>\n",
              "      <th>level_1</th>\n",
              "      <th>level_2</th>\n",
              "      <th></th>\n",
              "    </tr>\n",
              "  </thead>\n",
              "  <tbody>\n",
              "    <tr>\n",
              "      <th rowspan=\"4\" valign=\"top\">domain specific entity</th>\n",
              "      <th>Economic sector</th>\n",
              "      <td>13</td>\n",
              "    </tr>\n",
              "    <tr>\n",
              "      <th>IS technology</th>\n",
              "      <td>38</td>\n",
              "    </tr>\n",
              "    <tr>\n",
              "      <th>IS topic</th>\n",
              "      <td>35</td>\n",
              "    </tr>\n",
              "    <tr>\n",
              "      <th>study object</th>\n",
              "      <td>6</td>\n",
              "    </tr>\n",
              "    <tr>\n",
              "      <th rowspan=\"6\" valign=\"top\">methodological entity</th>\n",
              "      <th>data analysis method</th>\n",
              "      <td>23</td>\n",
              "    </tr>\n",
              "    <tr>\n",
              "      <th>research method</th>\n",
              "      <td>19</td>\n",
              "    </tr>\n",
              "    <tr>\n",
              "      <th>sampling</th>\n",
              "      <td>2</td>\n",
              "    </tr>\n",
              "    <tr>\n",
              "      <th>statistical metric</th>\n",
              "      <td>2</td>\n",
              "    </tr>\n",
              "    <tr>\n",
              "      <th>study object</th>\n",
              "      <td>1</td>\n",
              "    </tr>\n",
              "    <tr>\n",
              "      <th>validity</th>\n",
              "      <td>4</td>\n",
              "    </tr>\n",
              "    <tr>\n",
              "      <th rowspan=\"5\" valign=\"top\">theoretical entity</th>\n",
              "      <th>level of analysis</th>\n",
              "      <td>4</td>\n",
              "    </tr>\n",
              "    <tr>\n",
              "      <th>model</th>\n",
              "      <td>5</td>\n",
              "    </tr>\n",
              "    <tr>\n",
              "      <th>research paradigm</th>\n",
              "      <td>3</td>\n",
              "    </tr>\n",
              "    <tr>\n",
              "      <th>sampling</th>\n",
              "      <td>1</td>\n",
              "    </tr>\n",
              "    <tr>\n",
              "      <th>theory</th>\n",
              "      <td>12</td>\n",
              "    </tr>\n",
              "  </tbody>\n",
              "</table>\n",
              "</div>\n",
              "      <button class=\"colab-df-convert\" onclick=\"convertToInteractive('df-0545c26d-eadd-4d0a-961b-dfced83c2fe5')\"\n",
              "              title=\"Convert this dataframe to an interactive table.\"\n",
              "              style=\"display:none;\">\n",
              "        \n",
              "  <svg xmlns=\"http://www.w3.org/2000/svg\" height=\"24px\"viewBox=\"0 0 24 24\"\n",
              "       width=\"24px\">\n",
              "    <path d=\"M0 0h24v24H0V0z\" fill=\"none\"/>\n",
              "    <path d=\"M18.56 5.44l.94 2.06.94-2.06 2.06-.94-2.06-.94-.94-2.06-.94 2.06-2.06.94zm-11 1L8.5 8.5l.94-2.06 2.06-.94-2.06-.94L8.5 2.5l-.94 2.06-2.06.94zm10 10l.94 2.06.94-2.06 2.06-.94-2.06-.94-.94-2.06-.94 2.06-2.06.94z\"/><path d=\"M17.41 7.96l-1.37-1.37c-.4-.4-.92-.59-1.43-.59-.52 0-1.04.2-1.43.59L10.3 9.45l-7.72 7.72c-.78.78-.78 2.05 0 2.83L4 21.41c.39.39.9.59 1.41.59.51 0 1.02-.2 1.41-.59l7.78-7.78 2.81-2.81c.8-.78.8-2.07 0-2.86zM5.41 20L4 18.59l7.72-7.72 1.47 1.35L5.41 20z\"/>\n",
              "  </svg>\n",
              "      </button>\n",
              "      \n",
              "  <style>\n",
              "    .colab-df-container {\n",
              "      display:flex;\n",
              "      flex-wrap:wrap;\n",
              "      gap: 12px;\n",
              "    }\n",
              "\n",
              "    .colab-df-convert {\n",
              "      background-color: #E8F0FE;\n",
              "      border: none;\n",
              "      border-radius: 50%;\n",
              "      cursor: pointer;\n",
              "      display: none;\n",
              "      fill: #1967D2;\n",
              "      height: 32px;\n",
              "      padding: 0 0 0 0;\n",
              "      width: 32px;\n",
              "    }\n",
              "\n",
              "    .colab-df-convert:hover {\n",
              "      background-color: #E2EBFA;\n",
              "      box-shadow: 0px 1px 2px rgba(60, 64, 67, 0.3), 0px 1px 3px 1px rgba(60, 64, 67, 0.15);\n",
              "      fill: #174EA6;\n",
              "    }\n",
              "\n",
              "    [theme=dark] .colab-df-convert {\n",
              "      background-color: #3B4455;\n",
              "      fill: #D2E3FC;\n",
              "    }\n",
              "\n",
              "    [theme=dark] .colab-df-convert:hover {\n",
              "      background-color: #434B5C;\n",
              "      box-shadow: 0px 1px 3px 1px rgba(0, 0, 0, 0.15);\n",
              "      filter: drop-shadow(0px 1px 2px rgba(0, 0, 0, 0.3));\n",
              "      fill: #FFFFFF;\n",
              "    }\n",
              "  </style>\n",
              "\n",
              "      <script>\n",
              "        const buttonEl =\n",
              "          document.querySelector('#df-0545c26d-eadd-4d0a-961b-dfced83c2fe5 button.colab-df-convert');\n",
              "        buttonEl.style.display =\n",
              "          google.colab.kernel.accessAllowed ? 'block' : 'none';\n",
              "\n",
              "        async function convertToInteractive(key) {\n",
              "          const element = document.querySelector('#df-0545c26d-eadd-4d0a-961b-dfced83c2fe5');\n",
              "          const dataTable =\n",
              "            await google.colab.kernel.invokeFunction('convertToInteractive',\n",
              "                                                     [key], {});\n",
              "          if (!dataTable) return;\n",
              "\n",
              "          const docLinkHtml = 'Like what you see? Visit the ' +\n",
              "            '<a target=\"_blank\" href=https://colab.research.google.com/notebooks/data_table.ipynb>data table notebook</a>'\n",
              "            + ' to learn more about interactive tables.';\n",
              "          element.innerHTML = '';\n",
              "          dataTable['output_type'] = 'display_data';\n",
              "          await google.colab.output.renderOutput(dataTable, element);\n",
              "          const docLink = document.createElement('div');\n",
              "          docLink.innerHTML = docLinkHtml;\n",
              "          element.appendChild(docLink);\n",
              "        }\n",
              "      </script>\n",
              "    </div>\n",
              "  </div>\n",
              "  "
            ]
          },
          "metadata": {},
          "execution_count": 90
        }
      ]
    },
    {
      "cell_type": "code",
      "source": [
        ""
      ],
      "metadata": {
        "id": "jyYJHAp084dz"
      },
      "execution_count": null,
      "outputs": []
    }
  ]
}