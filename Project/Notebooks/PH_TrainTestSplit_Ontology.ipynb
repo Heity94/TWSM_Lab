{
  "nbformat": 4,
  "nbformat_minor": 0,
  "metadata": {
    "colab": {
      "name": "PH_TrainTestSplit_Ontology.ipynb",
      "provenance": [],
      "collapsed_sections": [],
      "toc_visible": true,
      "authorship_tag": "ABX9TyOJbqQ8U6CF80JiqurgR7i/",
      "include_colab_link": true
    },
    "kernelspec": {
      "name": "python3",
      "display_name": "Python 3"
    },
    "language_info": {
      "name": "python"
    }
  },
  "cells": [
    {
      "cell_type": "markdown",
      "metadata": {
        "id": "view-in-github",
        "colab_type": "text"
      },
      "source": [
        "<a href=\"https://colab.research.google.com/github/Heity94/TWSM_Lab/blob/main/Project/Notebooks/PH_TrainTestSplit_Ontology.ipynb\" target=\"_parent\"><img src=\"https://colab.research.google.com/assets/colab-badge.svg\" alt=\"Open In Colab\"/></a>"
      ]
    },
    {
      "cell_type": "code",
      "source": [
        "# Declare whether you are on Colab or local\n",
        "colab = True"
      ],
      "metadata": {
        "id": "ZLCnX2r2075S"
      },
      "execution_count": 1,
      "outputs": []
    },
    {
      "cell_type": "code",
      "source": [
        "if colab==True:\n",
        "  \n",
        "  #Mount drive\n",
        "  from google.colab import drive\n",
        "  drive.mount('/content/drive')\n",
        "\n",
        "  #set path to data in Google Drive\n",
        "  data_path = \"/content/drive/MyDrive/2022_Analytics Lab Student Projects/Data/All Topics\"\n",
        "\n",
        "  #install required packages\n",
        "  !pip install duckdb\n",
        "  #!pip install -U sentence-transformers"
      ],
      "metadata": {
        "id": "gnOLlVER1KDP",
        "colab": {
          "base_uri": "https://localhost:8080/"
        },
        "outputId": "aa52d0ac-d1d7-47f8-e5d0-dde90346e63c"
      },
      "execution_count": 2,
      "outputs": [
        {
          "output_type": "stream",
          "name": "stdout",
          "text": [
            "Drive already mounted at /content/drive; to attempt to forcibly remount, call drive.mount(\"/content/drive\", force_remount=True).\n",
            "Looking in indexes: https://pypi.org/simple, https://us-python.pkg.dev/colab-wheels/public/simple/\n",
            "Requirement already satisfied: duckdb in /usr/local/lib/python3.7/dist-packages (0.4.0)\n",
            "Requirement already satisfied: numpy>=1.14 in /usr/local/lib/python3.7/dist-packages (from duckdb) (1.21.6)\n"
          ]
        }
      ]
    },
    {
      "cell_type": "code",
      "execution_count": 3,
      "metadata": {
        "id": "RZ15XodGz4Io"
      },
      "outputs": [],
      "source": [
        "# Import sentence_transformers \n",
        "# from sentence_transformers import SentenceTransformer, util"
      ]
    },
    {
      "cell_type": "code",
      "execution_count": 4,
      "metadata": {
        "id": "bwv57XAzz4IH"
      },
      "outputs": [],
      "source": [
        "#Imports\n",
        "import pandas as pd\n",
        "import numpy as np\n",
        "import matplotlib.pyplot as plt\n",
        "import seaborn as sns\n",
        "import pickle\n",
        "import duckdb\n",
        "import sqlalchemy\n",
        "#%load_ext sql"
      ]
    },
    {
      "cell_type": "markdown",
      "source": [
        "### Load data"
      ],
      "metadata": {
        "id": "cP9RMv6dEAF-"
      }
    },
    {
      "cell_type": "markdown",
      "source": [
        "We have multiple data sources which we could use to \"split\" the ontoloogy. "
      ],
      "metadata": {
        "id": "Ph7cmhSZyGKs"
      }
    },
    {
      "cell_type": "markdown",
      "source": [
        "#### Ontology + synonyms"
      ],
      "metadata": {
        "id": "uzpj55-LPpPw"
      }
    },
    {
      "cell_type": "markdown",
      "source": [
        "This list \"only\" contains the main entity_id and the synonym. Will be relevant as soon as we have a list of main entities which we want to exclude from the train dataset ."
      ],
      "metadata": {
        "id": "AInBBksvyRoi"
      }
    },
    {
      "cell_type": "code",
      "source": [
        "if colab==True:\n",
        "  ontology_syn = pd.read_csv(data_path+\"/Synonyms in Ontology/isontology.csv\", index_col=0)\n",
        "else:\n",
        "  ontology_syn = pd.read_csv(\"../Data/SynonymsinOntology/isontology.csv\", index_col=0)\n",
        "ontology_syn.shape"
      ],
      "metadata": {
        "colab": {
          "base_uri": "https://localhost:8080/"
        },
        "id": "qQ8vcHhIF7vT",
        "outputId": "1e163b71-2a57-4fda-b5ac-67f8bdbedcda"
      },
      "execution_count": 5,
      "outputs": [
        {
          "output_type": "execute_result",
          "data": {
            "text/plain": [
              "(397942, 4)"
            ]
          },
          "metadata": {},
          "execution_count": 5
        }
      ]
    },
    {
      "cell_type": "code",
      "source": [
        "ontology_syn.head()"
      ],
      "metadata": {
        "colab": {
          "base_uri": "https://localhost:8080/",
          "height": 206
        },
        "id": "1IF-_3yrE23p",
        "outputId": "94ba9683-5d31-412e-f93f-534b334c4c06"
      },
      "execution_count": 6,
      "outputs": [
        {
          "output_type": "execute_result",
          "data": {
            "text/plain": [
              "     entity_id                category  label             synonym\n",
              "0     IS topic  domain specific entity  TOPIC            IS topic\n",
              "1     IS topic  domain specific entity  TOPIC           IS topics\n",
              "2  IS sourcing  domain specific entity  TOPIC    IS / IT sourcing\n",
              "3  IS sourcing  domain specific entity  TOPIC       tool sourcing\n",
              "4  IS sourcing  domain specific entity  TOPIC  software sourcings"
            ],
            "text/html": [
              "\n",
              "  <div id=\"df-b965f09f-1605-46d5-bd8f-ca6e0ea43d20\">\n",
              "    <div class=\"colab-df-container\">\n",
              "      <div>\n",
              "<style scoped>\n",
              "    .dataframe tbody tr th:only-of-type {\n",
              "        vertical-align: middle;\n",
              "    }\n",
              "\n",
              "    .dataframe tbody tr th {\n",
              "        vertical-align: top;\n",
              "    }\n",
              "\n",
              "    .dataframe thead th {\n",
              "        text-align: right;\n",
              "    }\n",
              "</style>\n",
              "<table border=\"1\" class=\"dataframe\">\n",
              "  <thead>\n",
              "    <tr style=\"text-align: right;\">\n",
              "      <th></th>\n",
              "      <th>entity_id</th>\n",
              "      <th>category</th>\n",
              "      <th>label</th>\n",
              "      <th>synonym</th>\n",
              "    </tr>\n",
              "  </thead>\n",
              "  <tbody>\n",
              "    <tr>\n",
              "      <th>0</th>\n",
              "      <td>IS topic</td>\n",
              "      <td>domain specific entity</td>\n",
              "      <td>TOPIC</td>\n",
              "      <td>IS topic</td>\n",
              "    </tr>\n",
              "    <tr>\n",
              "      <th>1</th>\n",
              "      <td>IS topic</td>\n",
              "      <td>domain specific entity</td>\n",
              "      <td>TOPIC</td>\n",
              "      <td>IS topics</td>\n",
              "    </tr>\n",
              "    <tr>\n",
              "      <th>2</th>\n",
              "      <td>IS sourcing</td>\n",
              "      <td>domain specific entity</td>\n",
              "      <td>TOPIC</td>\n",
              "      <td>IS / IT sourcing</td>\n",
              "    </tr>\n",
              "    <tr>\n",
              "      <th>3</th>\n",
              "      <td>IS sourcing</td>\n",
              "      <td>domain specific entity</td>\n",
              "      <td>TOPIC</td>\n",
              "      <td>tool sourcing</td>\n",
              "    </tr>\n",
              "    <tr>\n",
              "      <th>4</th>\n",
              "      <td>IS sourcing</td>\n",
              "      <td>domain specific entity</td>\n",
              "      <td>TOPIC</td>\n",
              "      <td>software sourcings</td>\n",
              "    </tr>\n",
              "  </tbody>\n",
              "</table>\n",
              "</div>\n",
              "      <button class=\"colab-df-convert\" onclick=\"convertToInteractive('df-b965f09f-1605-46d5-bd8f-ca6e0ea43d20')\"\n",
              "              title=\"Convert this dataframe to an interactive table.\"\n",
              "              style=\"display:none;\">\n",
              "        \n",
              "  <svg xmlns=\"http://www.w3.org/2000/svg\" height=\"24px\"viewBox=\"0 0 24 24\"\n",
              "       width=\"24px\">\n",
              "    <path d=\"M0 0h24v24H0V0z\" fill=\"none\"/>\n",
              "    <path d=\"M18.56 5.44l.94 2.06.94-2.06 2.06-.94-2.06-.94-.94-2.06-.94 2.06-2.06.94zm-11 1L8.5 8.5l.94-2.06 2.06-.94-2.06-.94L8.5 2.5l-.94 2.06-2.06.94zm10 10l.94 2.06.94-2.06 2.06-.94-2.06-.94-.94-2.06-.94 2.06-2.06.94z\"/><path d=\"M17.41 7.96l-1.37-1.37c-.4-.4-.92-.59-1.43-.59-.52 0-1.04.2-1.43.59L10.3 9.45l-7.72 7.72c-.78.78-.78 2.05 0 2.83L4 21.41c.39.39.9.59 1.41.59.51 0 1.02-.2 1.41-.59l7.78-7.78 2.81-2.81c.8-.78.8-2.07 0-2.86zM5.41 20L4 18.59l7.72-7.72 1.47 1.35L5.41 20z\"/>\n",
              "  </svg>\n",
              "      </button>\n",
              "      \n",
              "  <style>\n",
              "    .colab-df-container {\n",
              "      display:flex;\n",
              "      flex-wrap:wrap;\n",
              "      gap: 12px;\n",
              "    }\n",
              "\n",
              "    .colab-df-convert {\n",
              "      background-color: #E8F0FE;\n",
              "      border: none;\n",
              "      border-radius: 50%;\n",
              "      cursor: pointer;\n",
              "      display: none;\n",
              "      fill: #1967D2;\n",
              "      height: 32px;\n",
              "      padding: 0 0 0 0;\n",
              "      width: 32px;\n",
              "    }\n",
              "\n",
              "    .colab-df-convert:hover {\n",
              "      background-color: #E2EBFA;\n",
              "      box-shadow: 0px 1px 2px rgba(60, 64, 67, 0.3), 0px 1px 3px 1px rgba(60, 64, 67, 0.15);\n",
              "      fill: #174EA6;\n",
              "    }\n",
              "\n",
              "    [theme=dark] .colab-df-convert {\n",
              "      background-color: #3B4455;\n",
              "      fill: #D2E3FC;\n",
              "    }\n",
              "\n",
              "    [theme=dark] .colab-df-convert:hover {\n",
              "      background-color: #434B5C;\n",
              "      box-shadow: 0px 1px 3px 1px rgba(0, 0, 0, 0.15);\n",
              "      filter: drop-shadow(0px 1px 2px rgba(0, 0, 0, 0.3));\n",
              "      fill: #FFFFFF;\n",
              "    }\n",
              "  </style>\n",
              "\n",
              "      <script>\n",
              "        const buttonEl =\n",
              "          document.querySelector('#df-b965f09f-1605-46d5-bd8f-ca6e0ea43d20 button.colab-df-convert');\n",
              "        buttonEl.style.display =\n",
              "          google.colab.kernel.accessAllowed ? 'block' : 'none';\n",
              "\n",
              "        async function convertToInteractive(key) {\n",
              "          const element = document.querySelector('#df-b965f09f-1605-46d5-bd8f-ca6e0ea43d20');\n",
              "          const dataTable =\n",
              "            await google.colab.kernel.invokeFunction('convertToInteractive',\n",
              "                                                     [key], {});\n",
              "          if (!dataTable) return;\n",
              "\n",
              "          const docLinkHtml = 'Like what you see? Visit the ' +\n",
              "            '<a target=\"_blank\" href=https://colab.research.google.com/notebooks/data_table.ipynb>data table notebook</a>'\n",
              "            + ' to learn more about interactive tables.';\n",
              "          element.innerHTML = '';\n",
              "          dataTable['output_type'] = 'display_data';\n",
              "          await google.colab.output.renderOutput(dataTable, element);\n",
              "          const docLink = document.createElement('div');\n",
              "          docLink.innerHTML = docLinkHtml;\n",
              "          element.appendChild(docLink);\n",
              "        }\n",
              "      </script>\n",
              "    </div>\n",
              "  </div>\n",
              "  "
            ]
          },
          "metadata": {},
          "execution_count": 6
        }
      ]
    },
    {
      "cell_type": "markdown",
      "source": [
        "##### Downsampling entities with more than 100 synonyms"
      ],
      "metadata": {
        "id": "dbsPnTiPytVb"
      }
    },
    {
      "cell_type": "code",
      "source": [
        "## Check number of synonyms per entity_id\n",
        "#ent_sy_group = ontology_syn.groupby(\"entity_id\")[[\"synonym\"]].nunique().sort_values(by=\"synonym\", ascending=False)"
      ],
      "metadata": {
        "id": "bvTOGaPbGwxC"
      },
      "execution_count": 7,
      "outputs": []
    },
    {
      "cell_type": "code",
      "source": [
        "# # Downsample entities with more than 100 synonyms to a 100 synoyms (but always include \"main entity_id\" in subsample)\n",
        "# idx = ent_sy_group[ent_sy_group[\"synonym\"]>100].index.tolist()\n",
        "\n",
        "# dfs = []\n",
        "# for entity in idx:\n",
        "#   t1 = ontology_syn[(ontology_syn.entity_id==entity)&(ontology_syn.synonym==entity)]\n",
        "#   t2 = ontology_syn[(ontology_syn.entity_id==entity)&(ontology_syn.synonym!=entity)].sample(99)\n",
        "#   dfs.append(pd.concat([t1,t2]))\n",
        "# dfs.append(ontology_syn.loc[~ontology_syn[\"entity_id\"].isin(idx)]) # Append dataframe for all entities with less then 100 synonyms to list\n",
        "\n",
        "# # Combine all dataframes \n",
        "# ontology_syn_ds = pd.concat(dfs).reset_index(drop=True)"
      ],
      "metadata": {
        "id": "Sr9XB4llGIwR"
      },
      "execution_count": 8,
      "outputs": []
    },
    {
      "cell_type": "code",
      "source": [
        "#Show synonyms in ontology which appear in more than 1 entity\n",
        "#ontology_syn_ds[ontology_syn_ds.synonym.duplicated(keep=False)].sort_values(by=\"synonym\")"
      ],
      "metadata": {
        "id": "NnLHZUIlWWEt"
      },
      "execution_count": 9,
      "outputs": []
    },
    {
      "cell_type": "code",
      "source": [
        "#List of unique entities from ontology with synonyms with downsampling (apparently there are some duplicates in there?!)\n",
        "#entities_syn_unique_ds = ontology_syn_ds.synonym.unique().tolist()\n",
        "#ontology_syn_ds_unique = ontology_syn_ds.drop_duplicates(subset=\"synonym\")"
      ],
      "metadata": {
        "id": "RBU4KchiG7i1"
      },
      "execution_count": 10,
      "outputs": []
    },
    {
      "cell_type": "markdown",
      "source": [
        "#### Ontology.json (only structure of ontology with \"main\" entity ids (without synonmys))"
      ],
      "metadata": {
        "id": "Xs_VcozqFowh"
      }
    },
    {
      "cell_type": "markdown",
      "source": [
        "I did not manage yet to flatten the json file, therefore I used the entities table from the duckdb instead (see next section) "
      ],
      "metadata": {
        "id": "T_Jx5IcGF830"
      }
    },
    {
      "cell_type": "code",
      "source": [
        "if colab==True:\n",
        "  ontology_json = pd.read_json(data_path+\"/Ontology/isontology.json\")#, orient=\"values\")#, index_col=0)"
      ],
      "metadata": {
        "id": "3oiutzymFxP0"
      },
      "execution_count": 11,
      "outputs": []
    },
    {
      "cell_type": "code",
      "source": [
        "ontology_json.head()"
      ],
      "metadata": {
        "colab": {
          "base_uri": "https://localhost:8080/",
          "height": 206
        },
        "id": "MHvVLpbwHsbf",
        "outputId": "af908d05-a77a-4052-9887-8a2d94034597"
      },
      "execution_count": 12,
      "outputs": [
        {
          "output_type": "execute_result",
          "data": {
            "text/plain": [
              "                                                root\n",
              "0  {'IS topic': [{'IS sourcing': [{'outsourcing':...\n",
              "1  {'research paradigm': [{'positivism': ['logica...\n",
              "2  {'model': ['taxonomy', 'framework', {'research...\n",
              "3  {'economic sector': ['private household', {'go...\n",
              "4  {'company type': [{'small and mid-size enterpr..."
            ],
            "text/html": [
              "\n",
              "  <div id=\"df-ab9ea8c3-7806-44d2-a93d-c50a6696cc94\">\n",
              "    <div class=\"colab-df-container\">\n",
              "      <div>\n",
              "<style scoped>\n",
              "    .dataframe tbody tr th:only-of-type {\n",
              "        vertical-align: middle;\n",
              "    }\n",
              "\n",
              "    .dataframe tbody tr th {\n",
              "        vertical-align: top;\n",
              "    }\n",
              "\n",
              "    .dataframe thead th {\n",
              "        text-align: right;\n",
              "    }\n",
              "</style>\n",
              "<table border=\"1\" class=\"dataframe\">\n",
              "  <thead>\n",
              "    <tr style=\"text-align: right;\">\n",
              "      <th></th>\n",
              "      <th>root</th>\n",
              "    </tr>\n",
              "  </thead>\n",
              "  <tbody>\n",
              "    <tr>\n",
              "      <th>0</th>\n",
              "      <td>{'IS topic': [{'IS sourcing': [{'outsourcing':...</td>\n",
              "    </tr>\n",
              "    <tr>\n",
              "      <th>1</th>\n",
              "      <td>{'research paradigm': [{'positivism': ['logica...</td>\n",
              "    </tr>\n",
              "    <tr>\n",
              "      <th>2</th>\n",
              "      <td>{'model': ['taxonomy', 'framework', {'research...</td>\n",
              "    </tr>\n",
              "    <tr>\n",
              "      <th>3</th>\n",
              "      <td>{'economic sector': ['private household', {'go...</td>\n",
              "    </tr>\n",
              "    <tr>\n",
              "      <th>4</th>\n",
              "      <td>{'company type': [{'small and mid-size enterpr...</td>\n",
              "    </tr>\n",
              "  </tbody>\n",
              "</table>\n",
              "</div>\n",
              "      <button class=\"colab-df-convert\" onclick=\"convertToInteractive('df-ab9ea8c3-7806-44d2-a93d-c50a6696cc94')\"\n",
              "              title=\"Convert this dataframe to an interactive table.\"\n",
              "              style=\"display:none;\">\n",
              "        \n",
              "  <svg xmlns=\"http://www.w3.org/2000/svg\" height=\"24px\"viewBox=\"0 0 24 24\"\n",
              "       width=\"24px\">\n",
              "    <path d=\"M0 0h24v24H0V0z\" fill=\"none\"/>\n",
              "    <path d=\"M18.56 5.44l.94 2.06.94-2.06 2.06-.94-2.06-.94-.94-2.06-.94 2.06-2.06.94zm-11 1L8.5 8.5l.94-2.06 2.06-.94-2.06-.94L8.5 2.5l-.94 2.06-2.06.94zm10 10l.94 2.06.94-2.06 2.06-.94-2.06-.94-.94-2.06-.94 2.06-2.06.94z\"/><path d=\"M17.41 7.96l-1.37-1.37c-.4-.4-.92-.59-1.43-.59-.52 0-1.04.2-1.43.59L10.3 9.45l-7.72 7.72c-.78.78-.78 2.05 0 2.83L4 21.41c.39.39.9.59 1.41.59.51 0 1.02-.2 1.41-.59l7.78-7.78 2.81-2.81c.8-.78.8-2.07 0-2.86zM5.41 20L4 18.59l7.72-7.72 1.47 1.35L5.41 20z\"/>\n",
              "  </svg>\n",
              "      </button>\n",
              "      \n",
              "  <style>\n",
              "    .colab-df-container {\n",
              "      display:flex;\n",
              "      flex-wrap:wrap;\n",
              "      gap: 12px;\n",
              "    }\n",
              "\n",
              "    .colab-df-convert {\n",
              "      background-color: #E8F0FE;\n",
              "      border: none;\n",
              "      border-radius: 50%;\n",
              "      cursor: pointer;\n",
              "      display: none;\n",
              "      fill: #1967D2;\n",
              "      height: 32px;\n",
              "      padding: 0 0 0 0;\n",
              "      width: 32px;\n",
              "    }\n",
              "\n",
              "    .colab-df-convert:hover {\n",
              "      background-color: #E2EBFA;\n",
              "      box-shadow: 0px 1px 2px rgba(60, 64, 67, 0.3), 0px 1px 3px 1px rgba(60, 64, 67, 0.15);\n",
              "      fill: #174EA6;\n",
              "    }\n",
              "\n",
              "    [theme=dark] .colab-df-convert {\n",
              "      background-color: #3B4455;\n",
              "      fill: #D2E3FC;\n",
              "    }\n",
              "\n",
              "    [theme=dark] .colab-df-convert:hover {\n",
              "      background-color: #434B5C;\n",
              "      box-shadow: 0px 1px 3px 1px rgba(0, 0, 0, 0.15);\n",
              "      filter: drop-shadow(0px 1px 2px rgba(0, 0, 0, 0.3));\n",
              "      fill: #FFFFFF;\n",
              "    }\n",
              "  </style>\n",
              "\n",
              "      <script>\n",
              "        const buttonEl =\n",
              "          document.querySelector('#df-ab9ea8c3-7806-44d2-a93d-c50a6696cc94 button.colab-df-convert');\n",
              "        buttonEl.style.display =\n",
              "          google.colab.kernel.accessAllowed ? 'block' : 'none';\n",
              "\n",
              "        async function convertToInteractive(key) {\n",
              "          const element = document.querySelector('#df-ab9ea8c3-7806-44d2-a93d-c50a6696cc94');\n",
              "          const dataTable =\n",
              "            await google.colab.kernel.invokeFunction('convertToInteractive',\n",
              "                                                     [key], {});\n",
              "          if (!dataTable) return;\n",
              "\n",
              "          const docLinkHtml = 'Like what you see? Visit the ' +\n",
              "            '<a target=\"_blank\" href=https://colab.research.google.com/notebooks/data_table.ipynb>data table notebook</a>'\n",
              "            + ' to learn more about interactive tables.';\n",
              "          element.innerHTML = '';\n",
              "          dataTable['output_type'] = 'display_data';\n",
              "          await google.colab.output.renderOutput(dataTable, element);\n",
              "          const docLink = document.createElement('div');\n",
              "          docLink.innerHTML = docLinkHtml;\n",
              "          element.appendChild(docLink);\n",
              "        }\n",
              "      </script>\n",
              "    </div>\n",
              "  </div>\n",
              "  "
            ]
          },
          "metadata": {},
          "execution_count": 12
        }
      ]
    },
    {
      "cell_type": "markdown",
      "source": [
        "#### Entities (Sentence_id + tagged entity_id) by Rolands script"
      ],
      "metadata": {
        "id": "1Qc3ClKUPu8y"
      }
    },
    {
      "cell_type": "code",
      "source": [
        "# Note that DBeaver must be closed, before you can run this command!\n",
        "if colab==True:\n",
        "  con = duckdb.connect(database=data_path+'/Extracted Information of Corpus/isrecon.duckdb', read_only=False)\n",
        "else:\n",
        "  con = duckdb.connect(database='../Data/ExtractedInformationofCorpus/isrecon.duckdb', read_only=False)"
      ],
      "metadata": {
        "id": "X16xHa4EMt_H"
      },
      "execution_count": 13,
      "outputs": []
    },
    {
      "cell_type": "markdown",
      "source": [
        "Lets load all the entities from the duckdb"
      ],
      "metadata": {
        "id": "MKGjB60uJ0sl"
      }
    },
    {
      "cell_type": "code",
      "source": [
        "# Load first article as df\n",
        "entities = con.execute(\"\"\"\n",
        "                       SELECT article_id, sentence_id, ent_id, level_1, level_2, level_3, level_4, level_5, level_6, level_7, level_8, level_9, level_10,\n",
        "                       FROM entities e\n",
        "                       \"\"\").fetchdf()\n",
        "\n",
        "entities.shape"
      ],
      "metadata": {
        "colab": {
          "base_uri": "https://localhost:8080/"
        },
        "id": "5ZLnM9ShMorg",
        "outputId": "58a6ae1b-5bbc-42b7-b33d-c49b94c0fc04"
      },
      "execution_count": 14,
      "outputs": [
        {
          "output_type": "execute_result",
          "data": {
            "text/plain": [
              "(1797740, 13)"
            ]
          },
          "metadata": {},
          "execution_count": 14
        }
      ]
    },
    {
      "cell_type": "code",
      "source": [
        "# Main entities of first level of ontology\n",
        "entities.level_1.unique()"
      ],
      "metadata": {
        "colab": {
          "base_uri": "https://localhost:8080/"
        },
        "id": "UTYFb7HXaJhx",
        "outputId": "e19a16d4-313d-4134-ea0f-d4606cdd1516"
      },
      "execution_count": 15,
      "outputs": [
        {
          "output_type": "execute_result",
          "data": {
            "text/plain": [
              "array(['domain specific entity', 'theoretical entity',\n",
              "       'methodological entity'], dtype=object)"
            ]
          },
          "metadata": {},
          "execution_count": 15
        }
      ]
    },
    {
      "cell_type": "code",
      "source": [
        "# Distribution of entities from database accross first and second level\n",
        "entities.groupby([\"level_1\", \"level_2\"])[[\"ent_id\"]].aggregate([\"count\", \"nunique\"])"
      ],
      "metadata": {
        "colab": {
          "base_uri": "https://localhost:8080/",
          "height": 520
        },
        "id": "VBMNVrh2l67M",
        "outputId": "a54a9b82-7c7e-4f7a-d7cf-6fcf7f01a7c0"
      },
      "execution_count": 16,
      "outputs": [
        {
          "output_type": "execute_result",
          "data": {
            "text/plain": [
              "                                             ent_id        \n",
              "                                              count nunique\n",
              "level_1                level_2                             \n",
              "domain specific entity IS technology         463211     475\n",
              "                       IS topic              461262     416\n",
              "                       economic sector       102057     234\n",
              "                       study object           61799      21\n",
              "methodological entity  data analysis method   73002     292\n",
              "                       research method       257820     272\n",
              "                       sampling                6148      27\n",
              "                       statistical metric     78673      87\n",
              "                       validity               11357      25\n",
              "theoretical entity     level of analysis      12064      13\n",
              "                       model                 196827      31\n",
              "                       research paradigm      13429      14\n",
              "                       theory                 60091     223"
            ],
            "text/html": [
              "\n",
              "  <div id=\"df-fd9e94ab-593f-4c63-8348-d424fab10139\">\n",
              "    <div class=\"colab-df-container\">\n",
              "      <div>\n",
              "<style scoped>\n",
              "    .dataframe tbody tr th:only-of-type {\n",
              "        vertical-align: middle;\n",
              "    }\n",
              "\n",
              "    .dataframe tbody tr th {\n",
              "        vertical-align: top;\n",
              "    }\n",
              "\n",
              "    .dataframe thead tr th {\n",
              "        text-align: left;\n",
              "    }\n",
              "\n",
              "    .dataframe thead tr:last-of-type th {\n",
              "        text-align: right;\n",
              "    }\n",
              "</style>\n",
              "<table border=\"1\" class=\"dataframe\">\n",
              "  <thead>\n",
              "    <tr>\n",
              "      <th></th>\n",
              "      <th></th>\n",
              "      <th colspan=\"2\" halign=\"left\">ent_id</th>\n",
              "    </tr>\n",
              "    <tr>\n",
              "      <th></th>\n",
              "      <th></th>\n",
              "      <th>count</th>\n",
              "      <th>nunique</th>\n",
              "    </tr>\n",
              "    <tr>\n",
              "      <th>level_1</th>\n",
              "      <th>level_2</th>\n",
              "      <th></th>\n",
              "      <th></th>\n",
              "    </tr>\n",
              "  </thead>\n",
              "  <tbody>\n",
              "    <tr>\n",
              "      <th rowspan=\"4\" valign=\"top\">domain specific entity</th>\n",
              "      <th>IS technology</th>\n",
              "      <td>463211</td>\n",
              "      <td>475</td>\n",
              "    </tr>\n",
              "    <tr>\n",
              "      <th>IS topic</th>\n",
              "      <td>461262</td>\n",
              "      <td>416</td>\n",
              "    </tr>\n",
              "    <tr>\n",
              "      <th>economic sector</th>\n",
              "      <td>102057</td>\n",
              "      <td>234</td>\n",
              "    </tr>\n",
              "    <tr>\n",
              "      <th>study object</th>\n",
              "      <td>61799</td>\n",
              "      <td>21</td>\n",
              "    </tr>\n",
              "    <tr>\n",
              "      <th rowspan=\"5\" valign=\"top\">methodological entity</th>\n",
              "      <th>data analysis method</th>\n",
              "      <td>73002</td>\n",
              "      <td>292</td>\n",
              "    </tr>\n",
              "    <tr>\n",
              "      <th>research method</th>\n",
              "      <td>257820</td>\n",
              "      <td>272</td>\n",
              "    </tr>\n",
              "    <tr>\n",
              "      <th>sampling</th>\n",
              "      <td>6148</td>\n",
              "      <td>27</td>\n",
              "    </tr>\n",
              "    <tr>\n",
              "      <th>statistical metric</th>\n",
              "      <td>78673</td>\n",
              "      <td>87</td>\n",
              "    </tr>\n",
              "    <tr>\n",
              "      <th>validity</th>\n",
              "      <td>11357</td>\n",
              "      <td>25</td>\n",
              "    </tr>\n",
              "    <tr>\n",
              "      <th rowspan=\"4\" valign=\"top\">theoretical entity</th>\n",
              "      <th>level of analysis</th>\n",
              "      <td>12064</td>\n",
              "      <td>13</td>\n",
              "    </tr>\n",
              "    <tr>\n",
              "      <th>model</th>\n",
              "      <td>196827</td>\n",
              "      <td>31</td>\n",
              "    </tr>\n",
              "    <tr>\n",
              "      <th>research paradigm</th>\n",
              "      <td>13429</td>\n",
              "      <td>14</td>\n",
              "    </tr>\n",
              "    <tr>\n",
              "      <th>theory</th>\n",
              "      <td>60091</td>\n",
              "      <td>223</td>\n",
              "    </tr>\n",
              "  </tbody>\n",
              "</table>\n",
              "</div>\n",
              "      <button class=\"colab-df-convert\" onclick=\"convertToInteractive('df-fd9e94ab-593f-4c63-8348-d424fab10139')\"\n",
              "              title=\"Convert this dataframe to an interactive table.\"\n",
              "              style=\"display:none;\">\n",
              "        \n",
              "  <svg xmlns=\"http://www.w3.org/2000/svg\" height=\"24px\"viewBox=\"0 0 24 24\"\n",
              "       width=\"24px\">\n",
              "    <path d=\"M0 0h24v24H0V0z\" fill=\"none\"/>\n",
              "    <path d=\"M18.56 5.44l.94 2.06.94-2.06 2.06-.94-2.06-.94-.94-2.06-.94 2.06-2.06.94zm-11 1L8.5 8.5l.94-2.06 2.06-.94-2.06-.94L8.5 2.5l-.94 2.06-2.06.94zm10 10l.94 2.06.94-2.06 2.06-.94-2.06-.94-.94-2.06-.94 2.06-2.06.94z\"/><path d=\"M17.41 7.96l-1.37-1.37c-.4-.4-.92-.59-1.43-.59-.52 0-1.04.2-1.43.59L10.3 9.45l-7.72 7.72c-.78.78-.78 2.05 0 2.83L4 21.41c.39.39.9.59 1.41.59.51 0 1.02-.2 1.41-.59l7.78-7.78 2.81-2.81c.8-.78.8-2.07 0-2.86zM5.41 20L4 18.59l7.72-7.72 1.47 1.35L5.41 20z\"/>\n",
              "  </svg>\n",
              "      </button>\n",
              "      \n",
              "  <style>\n",
              "    .colab-df-container {\n",
              "      display:flex;\n",
              "      flex-wrap:wrap;\n",
              "      gap: 12px;\n",
              "    }\n",
              "\n",
              "    .colab-df-convert {\n",
              "      background-color: #E8F0FE;\n",
              "      border: none;\n",
              "      border-radius: 50%;\n",
              "      cursor: pointer;\n",
              "      display: none;\n",
              "      fill: #1967D2;\n",
              "      height: 32px;\n",
              "      padding: 0 0 0 0;\n",
              "      width: 32px;\n",
              "    }\n",
              "\n",
              "    .colab-df-convert:hover {\n",
              "      background-color: #E2EBFA;\n",
              "      box-shadow: 0px 1px 2px rgba(60, 64, 67, 0.3), 0px 1px 3px 1px rgba(60, 64, 67, 0.15);\n",
              "      fill: #174EA6;\n",
              "    }\n",
              "\n",
              "    [theme=dark] .colab-df-convert {\n",
              "      background-color: #3B4455;\n",
              "      fill: #D2E3FC;\n",
              "    }\n",
              "\n",
              "    [theme=dark] .colab-df-convert:hover {\n",
              "      background-color: #434B5C;\n",
              "      box-shadow: 0px 1px 3px 1px rgba(0, 0, 0, 0.15);\n",
              "      filter: drop-shadow(0px 1px 2px rgba(0, 0, 0, 0.3));\n",
              "      fill: #FFFFFF;\n",
              "    }\n",
              "  </style>\n",
              "\n",
              "      <script>\n",
              "        const buttonEl =\n",
              "          document.querySelector('#df-fd9e94ab-593f-4c63-8348-d424fab10139 button.colab-df-convert');\n",
              "        buttonEl.style.display =\n",
              "          google.colab.kernel.accessAllowed ? 'block' : 'none';\n",
              "\n",
              "        async function convertToInteractive(key) {\n",
              "          const element = document.querySelector('#df-fd9e94ab-593f-4c63-8348-d424fab10139');\n",
              "          const dataTable =\n",
              "            await google.colab.kernel.invokeFunction('convertToInteractive',\n",
              "                                                     [key], {});\n",
              "          if (!dataTable) return;\n",
              "\n",
              "          const docLinkHtml = 'Like what you see? Visit the ' +\n",
              "            '<a target=\"_blank\" href=https://colab.research.google.com/notebooks/data_table.ipynb>data table notebook</a>'\n",
              "            + ' to learn more about interactive tables.';\n",
              "          element.innerHTML = '';\n",
              "          dataTable['output_type'] = 'display_data';\n",
              "          await google.colab.output.renderOutput(dataTable, element);\n",
              "          const docLink = document.createElement('div');\n",
              "          docLink.innerHTML = docLinkHtml;\n",
              "          element.appendChild(docLink);\n",
              "        }\n",
              "      </script>\n",
              "    </div>\n",
              "  </div>\n",
              "  "
            ]
          },
          "metadata": {},
          "execution_count": 16
        }
      ]
    },
    {
      "cell_type": "markdown",
      "source": [
        "# Train-validation-test split"
      ],
      "metadata": {
        "id": "bJQPOkEnEij4"
      }
    },
    {
      "cell_type": "markdown",
      "source": [
        "Our task is to find **new entity candidates** and/or **synoynmys for existing entities**.\n",
        "<br>\n",
        "In order to achive this goal we will compute a similarity score between the existing entities/ synonyms and the noun phrases of the sentences\n",
        "<br> \n",
        "\n",
        "To evaluate our model on **both tasks (new entity recognition and synonym detection)** we will create **two different datasets**: \n",
        "\n",
        "1. Dataset where some synonyms have been removed from the existing ontology (Synonym detection)\n",
        "2. Dataset where some entities (incl. child nodes) across different levels of the ontology have been removed (new entity recognition)\n",
        "\n",
        "For both datasets we will prepare a train-, validation- and test-set. \n",
        "- Since we always need two datasets to compute the similarity we need to prepare the train, val & test-set versions for both the list of entities & synonyms and the list of noun phrases per sentence. \n",
        "\n"
      ],
      "metadata": {
        "id": "HjBw4i6jVfQs"
      }
    },
    {
      "cell_type": "markdown",
      "source": [
        "## New entities recognition "
      ],
      "metadata": {
        "id": "V8hxqQz8ZTJI"
      }
    },
    {
      "cell_type": "markdown",
      "source": [
        "In order to determine how well our model/embeddings are in identifing new entities we have to create a `train-val-test split` version of the existing ontology. Meaning we have to select some entities which will be removed from the ontology for training. \n"
      ],
      "metadata": {
        "id": "xOYJ3xwjaa3h"
      }
    },
    {
      "cell_type": "markdown",
      "source": [
        "### Select entities for validation and test dataset"
      ],
      "metadata": {
        "id": "i_oA2IiTn6-h"
      }
    },
    {
      "cell_type": "markdown",
      "source": [
        "- We will remove different nodes across all main topics and levels of the ontology to assess how our model is handling with missing nodes from different \"levels\"\n",
        "- To determine which nodes to include we used the `ontology.json` file since here the hierarchy is already visually included, so it was easy to define some random nodes (and child nodes)"
      ],
      "metadata": {
        "id": "Kdwo7fggo__R"
      }
    },
    {
      "cell_type": "markdown",
      "source": [
        "**We selcted the following entities as part of the validattion-test set:**\n",
        "\n",
        "|    | level_1                | level_2              | entity_id_to_remove                 |   has_child_nodes |\n",
        "|---:|:-----------------------|:---------------------|:------------------------------------|------------------:|\n",
        "|  0 | domain specific entity | IS topic             | business process outsourcing        |                 1 |\n",
        "|  1 | domain specific entity | IS topic             | cybersecurity behavior              |                 1 |\n",
        "|  2 | domain specific entity | IS topic             | user interface                      |                 1 |\n",
        "|  3 | domain specific entity | IS topic             | IT planning                         |                 1 |\n",
        "|  4 | domain specific entity | IS topic             | business process management         |                 1 |\n",
        "|  5 | domain specific entity | IS topic             | sharing platform                    |                 1 |\n",
        "|  6 | domain specific entity | IS topic             | software license                    |                 1 |\n",
        "|  7 | domain specific entity | IS topic             | IT recruiting                       |                 0 |\n",
        "|  8 | domain specific entity | IS technology        | enterprise service bus              |                 0 |\n",
        "|  9 | domain specific entity | IS technology        | online marketing                    |                 1 |\n",
        "| 10 | domain specific entity | IS technology        | video game                          |                 1 |\n",
        "| 11 | domain specific entity | IS technology        | optical storage device              |                 1 |\n",
        "| 12 | domain specific entity | IS technology        | recommender system                  |                 1 |\n",
        "| 13 | domain specific entity | IS technology        | digital asset management            |                 0 |\n",
        "| 14 | domain specific entity | IS technology        | high level language                 |                 1 |\n",
        "| 15 | domain specific entity | Economic sector      | forest industry                     |                 1 |\n",
        "| 16 | domain specific entity | Economic sector      | hedge fund                          |                 0 |\n",
        "| 17 | domain specific entity | Economic sector      | structural engineering              |                 1 |\n",
        "| 18 | domain specific entity | Economic sector      | research institute                  |                 0 |\n",
        "| 19 | domain specific entity | Economic sector      | private household                   |                 0 |\n",
        "| 20 | domain specific entity | Economic sector      | plastics industry                   |                 1 |\n",
        "| 21 | domain specific entity | study object         | group participant                   |                 0 |\n",
        "| 22 | domain specific entity | study object         | startup                             |                 0 |\n",
        "| 23 | domain specific entity | study object         | microenterprise                     |                 0 |\n",
        "| 24 | methodological entity  | research method      | pilot experiment                    |                 0 |\n",
        "| 25 | methodological entity  | research method      | completely randomized design        |                 0 |\n",
        "| 26 | methodological entity  | research method      | pilot survey                        |                 0 |\n",
        "| 27 | methodological entity  | research method      | action research                     |                 1 |\n",
        "| 28 | methodological entity  | research method      | delphi study                        |                 0 |\n",
        "| 29 | methodological entity  | research method      | Markov model                        |                 1 |\n",
        "| 30 | methodological entity  | research method      | database modeling                   |                 1 |\n",
        "| 31 | methodological entity  | data analysis method | constant comparative analysis       |                 0 |\n",
        "| 32 | methodological entity  | data analysis method | ensemble learning                   |                 1 |\n",
        "| 33 | methodological entity  | data analysis method | sentiment analysis                  |                 1 |\n",
        "| 34 | methodological entity  | data analysis method | autoregressive moving average model |                 0 |\n",
        "| 35 | methodological entity  | data analysis method | positive correlation                |                 0 |\n",
        "| 36 | methodological entity  | data analysis method | recurrent neural network            |                 1 |\n",
        "| 37 | methodological entity  | data analysis method | exploratory factor analysis         |                 0 |\n",
        "| 38 | methodological entity  | data analysis method | confirmatory factor analysis        |                 0 |\n",
        "| 39 | methodological entity  | data analysis method | survival function                   |                 1 |\n",
        "| 40 | methodological entity  | data analysis method | p hacking                           |                 0 |\n",
        "| 41 | methodological entity  | statistical metric   | Chi square metric                   |                 0 |\n",
        "| 42 | methodological entity  | statistical metric   | confusion matrix                    |                 0 |\n",
        "| 43 | methodological entity  | statistical metric   | contingency table                   |                 0 |\n",
        "| 44 | methodological entity  | validity             | formative validity                  |                 0 |\n",
        "| 45 | methodological entity  | validity             | criterion validity                  |                 1 |\n",
        "| 46 | methodological entity  | sampling             | oversampling                        |                 1 |\n",
        "| 47 | methodological entity  | sampling             | quota sampling                      |                 0 |\n",
        "| 48 | theoretical entity     | level of analysis    | micro level                         |                 1 |\n",
        "| 49 | theoretical entity     | level of analysis    | country level                       |                 0 |\n",
        "| 50 | theoretical entity     | model                | causal model                        |                 0 |\n",
        "| 51 | theoretical entity     | model                | control variable                    |                 0 |\n",
        "| 52 | theoretical entity     | model                | taxonomy                            |                 0 |\n",
        "| 53 | theoretical entity     | model                | theoretical link                    |                 1 |\n",
        "| 54 | theoretical entity     | model                | control variable                    |                 0 |\n",
        "| 55 | theoretical entity     | model                | null hypothesis                     |                 0 |\n",
        "| 56 | theoretical entity     | model                | nomological network                 |                 0 |\n",
        "| 57 | theoretical entity     | research paradigm    | interpretivism                      |                 0 |\n",
        "| 58 | theoretical entity     | research paradigm    | realism                             |                 1 |\n",
        "| 59 | theoretical entity     | theory               | IT security theory                  |                 1 |\n",
        "| 60 | theoretical entity     | theory               | theory of task technology fit       |                 0 |\n",
        "| 61 | theoretical entity     | theory               | personality theory                  |                 1 |\n",
        "| 62 | theoretical entity     | theory               | equity theory                       |                 0 |\n",
        "| 63 | theoretical entity     | theory               | two-factor theory                   |                 0 |\n",
        "| 64 | theoretical entity     | theory               | personality theory                  |                 1 |\n",
        "| 65 | theoretical entity     | theory               | uncanny valley theory               |                 0 |"
      ],
      "metadata": {
        "id": "KV1B8mIz3lg8"
      }
    },
    {
      "cell_type": "markdown",
      "source": [
        "We also stored the list above in an Excel format for further processing"
      ],
      "metadata": {
        "id": "LkExPJjD67YV"
      }
    },
    {
      "cell_type": "markdown",
      "source": [
        "### Load and preprocess list of selected entities"
      ],
      "metadata": {
        "id": "f6cACmVh9pS4"
      }
    },
    {
      "cell_type": "code",
      "source": [
        "data_path_group = data_path[:-10]+\"Topic 1/Data_Team1/\" # create new data path to access files created by Team1\n",
        "\n",
        "entities_to_removed = pd.read_excel(data_path_group+\"NER_ent_to_remove_from_ontology.xlsx\") #load excel list as dataframe\n",
        "entities_to_removed[\"entity_id_to_remove\"] = entities_to_removed.entity_id_to_remove.str.strip() #remove whitespace"
      ],
      "metadata": {
        "id": "JbrEmT-ppeal"
      },
      "execution_count": 17,
      "outputs": []
    },
    {
      "cell_type": "code",
      "source": [
        "entities_to_removed.head(2)"
      ],
      "metadata": {
        "colab": {
          "base_uri": "https://localhost:8080/",
          "height": 112
        },
        "id": "d9AkIQ8mB1Fa",
        "outputId": "963fdc67-7b3a-4fbb-fcda-eac92de8a4c5"
      },
      "execution_count": 18,
      "outputs": [
        {
          "output_type": "execute_result",
          "data": {
            "text/plain": [
              "                  level_1   level_2           entity_id_to_remove  \\\n",
              "0  domain specific entity  IS topic  business process outsourcing   \n",
              "1  domain specific entity  IS topic        cybersecurity behavior   \n",
              "\n",
              "   has_child_nodes  \n",
              "0              1.0  \n",
              "1              1.0  "
            ],
            "text/html": [
              "\n",
              "  <div id=\"df-fc231680-066e-456c-99d7-bf8a52a4709c\">\n",
              "    <div class=\"colab-df-container\">\n",
              "      <div>\n",
              "<style scoped>\n",
              "    .dataframe tbody tr th:only-of-type {\n",
              "        vertical-align: middle;\n",
              "    }\n",
              "\n",
              "    .dataframe tbody tr th {\n",
              "        vertical-align: top;\n",
              "    }\n",
              "\n",
              "    .dataframe thead th {\n",
              "        text-align: right;\n",
              "    }\n",
              "</style>\n",
              "<table border=\"1\" class=\"dataframe\">\n",
              "  <thead>\n",
              "    <tr style=\"text-align: right;\">\n",
              "      <th></th>\n",
              "      <th>level_1</th>\n",
              "      <th>level_2</th>\n",
              "      <th>entity_id_to_remove</th>\n",
              "      <th>has_child_nodes</th>\n",
              "    </tr>\n",
              "  </thead>\n",
              "  <tbody>\n",
              "    <tr>\n",
              "      <th>0</th>\n",
              "      <td>domain specific entity</td>\n",
              "      <td>IS topic</td>\n",
              "      <td>business process outsourcing</td>\n",
              "      <td>1.0</td>\n",
              "    </tr>\n",
              "    <tr>\n",
              "      <th>1</th>\n",
              "      <td>domain specific entity</td>\n",
              "      <td>IS topic</td>\n",
              "      <td>cybersecurity behavior</td>\n",
              "      <td>1.0</td>\n",
              "    </tr>\n",
              "  </tbody>\n",
              "</table>\n",
              "</div>\n",
              "      <button class=\"colab-df-convert\" onclick=\"convertToInteractive('df-fc231680-066e-456c-99d7-bf8a52a4709c')\"\n",
              "              title=\"Convert this dataframe to an interactive table.\"\n",
              "              style=\"display:none;\">\n",
              "        \n",
              "  <svg xmlns=\"http://www.w3.org/2000/svg\" height=\"24px\"viewBox=\"0 0 24 24\"\n",
              "       width=\"24px\">\n",
              "    <path d=\"M0 0h24v24H0V0z\" fill=\"none\"/>\n",
              "    <path d=\"M18.56 5.44l.94 2.06.94-2.06 2.06-.94-2.06-.94-.94-2.06-.94 2.06-2.06.94zm-11 1L8.5 8.5l.94-2.06 2.06-.94-2.06-.94L8.5 2.5l-.94 2.06-2.06.94zm10 10l.94 2.06.94-2.06 2.06-.94-2.06-.94-.94-2.06-.94 2.06-2.06.94z\"/><path d=\"M17.41 7.96l-1.37-1.37c-.4-.4-.92-.59-1.43-.59-.52 0-1.04.2-1.43.59L10.3 9.45l-7.72 7.72c-.78.78-.78 2.05 0 2.83L4 21.41c.39.39.9.59 1.41.59.51 0 1.02-.2 1.41-.59l7.78-7.78 2.81-2.81c.8-.78.8-2.07 0-2.86zM5.41 20L4 18.59l7.72-7.72 1.47 1.35L5.41 20z\"/>\n",
              "  </svg>\n",
              "      </button>\n",
              "      \n",
              "  <style>\n",
              "    .colab-df-container {\n",
              "      display:flex;\n",
              "      flex-wrap:wrap;\n",
              "      gap: 12px;\n",
              "    }\n",
              "\n",
              "    .colab-df-convert {\n",
              "      background-color: #E8F0FE;\n",
              "      border: none;\n",
              "      border-radius: 50%;\n",
              "      cursor: pointer;\n",
              "      display: none;\n",
              "      fill: #1967D2;\n",
              "      height: 32px;\n",
              "      padding: 0 0 0 0;\n",
              "      width: 32px;\n",
              "    }\n",
              "\n",
              "    .colab-df-convert:hover {\n",
              "      background-color: #E2EBFA;\n",
              "      box-shadow: 0px 1px 2px rgba(60, 64, 67, 0.3), 0px 1px 3px 1px rgba(60, 64, 67, 0.15);\n",
              "      fill: #174EA6;\n",
              "    }\n",
              "\n",
              "    [theme=dark] .colab-df-convert {\n",
              "      background-color: #3B4455;\n",
              "      fill: #D2E3FC;\n",
              "    }\n",
              "\n",
              "    [theme=dark] .colab-df-convert:hover {\n",
              "      background-color: #434B5C;\n",
              "      box-shadow: 0px 1px 3px 1px rgba(0, 0, 0, 0.15);\n",
              "      filter: drop-shadow(0px 1px 2px rgba(0, 0, 0, 0.3));\n",
              "      fill: #FFFFFF;\n",
              "    }\n",
              "  </style>\n",
              "\n",
              "      <script>\n",
              "        const buttonEl =\n",
              "          document.querySelector('#df-fc231680-066e-456c-99d7-bf8a52a4709c button.colab-df-convert');\n",
              "        buttonEl.style.display =\n",
              "          google.colab.kernel.accessAllowed ? 'block' : 'none';\n",
              "\n",
              "        async function convertToInteractive(key) {\n",
              "          const element = document.querySelector('#df-fc231680-066e-456c-99d7-bf8a52a4709c');\n",
              "          const dataTable =\n",
              "            await google.colab.kernel.invokeFunction('convertToInteractive',\n",
              "                                                     [key], {});\n",
              "          if (!dataTable) return;\n",
              "\n",
              "          const docLinkHtml = 'Like what you see? Visit the ' +\n",
              "            '<a target=\"_blank\" href=https://colab.research.google.com/notebooks/data_table.ipynb>data table notebook</a>'\n",
              "            + ' to learn more about interactive tables.';\n",
              "          element.innerHTML = '';\n",
              "          dataTable['output_type'] = 'display_data';\n",
              "          await google.colab.output.renderOutput(dataTable, element);\n",
              "          const docLink = document.createElement('div');\n",
              "          docLink.innerHTML = docLinkHtml;\n",
              "          element.appendChild(docLink);\n",
              "        }\n",
              "      </script>\n",
              "    </div>\n",
              "  </div>\n",
              "  "
            ]
          },
          "metadata": {},
          "execution_count": 18
        }
      ]
    },
    {
      "cell_type": "markdown",
      "source": [
        "Now we want to further enhance this dataframe to also include the entity level as well as the level and the name of the parent entitiy"
      ],
      "metadata": {
        "id": "3GxUy1MFmSzg"
      }
    },
    {
      "cell_type": "code",
      "source": [
        "# Create list of entites which should be removed\n",
        "ent_to_rmv_list = entities_to_removed.entity_id_to_remove.to_list()"
      ],
      "metadata": {
        "id": "lnPeADsC2nRg"
      },
      "execution_count": 19,
      "outputs": []
    },
    {
      "cell_type": "code",
      "source": [
        "col_names = ['ent_id', 'level_1', 'level_2', 'level_3', 'level_4', 'level_5', 'level_6', 'level_7', 'level_8', 'level_9', 'level_10']\n",
        "entities[col_names].sample(1)"
      ],
      "metadata": {
        "colab": {
          "base_uri": "https://localhost:8080/",
          "height": 81
        },
        "id": "1hChJJJBmjwP",
        "outputId": "27289374-5684-4507-de97-050ea00b74e3"
      },
      "execution_count": 20,
      "outputs": [
        {
          "output_type": "execute_result",
          "data": {
            "text/plain": [
              "               ent_id                 level_1        level_2        level_3  \\\n",
              "954554  mobile system  domain specific entity  IS technology  mobile system   \n",
              "\n",
              "       level_4 level_5 level_6 level_7 level_8 level_9 level_10  \n",
              "954554     NaN     NaN     NaN     NaN     NaN     NaN      NaN  "
            ],
            "text/html": [
              "\n",
              "  <div id=\"df-45b1ef37-33f1-46cf-8288-13c6f90590ea\">\n",
              "    <div class=\"colab-df-container\">\n",
              "      <div>\n",
              "<style scoped>\n",
              "    .dataframe tbody tr th:only-of-type {\n",
              "        vertical-align: middle;\n",
              "    }\n",
              "\n",
              "    .dataframe tbody tr th {\n",
              "        vertical-align: top;\n",
              "    }\n",
              "\n",
              "    .dataframe thead th {\n",
              "        text-align: right;\n",
              "    }\n",
              "</style>\n",
              "<table border=\"1\" class=\"dataframe\">\n",
              "  <thead>\n",
              "    <tr style=\"text-align: right;\">\n",
              "      <th></th>\n",
              "      <th>ent_id</th>\n",
              "      <th>level_1</th>\n",
              "      <th>level_2</th>\n",
              "      <th>level_3</th>\n",
              "      <th>level_4</th>\n",
              "      <th>level_5</th>\n",
              "      <th>level_6</th>\n",
              "      <th>level_7</th>\n",
              "      <th>level_8</th>\n",
              "      <th>level_9</th>\n",
              "      <th>level_10</th>\n",
              "    </tr>\n",
              "  </thead>\n",
              "  <tbody>\n",
              "    <tr>\n",
              "      <th>954554</th>\n",
              "      <td>mobile system</td>\n",
              "      <td>domain specific entity</td>\n",
              "      <td>IS technology</td>\n",
              "      <td>mobile system</td>\n",
              "      <td>NaN</td>\n",
              "      <td>NaN</td>\n",
              "      <td>NaN</td>\n",
              "      <td>NaN</td>\n",
              "      <td>NaN</td>\n",
              "      <td>NaN</td>\n",
              "      <td>NaN</td>\n",
              "    </tr>\n",
              "  </tbody>\n",
              "</table>\n",
              "</div>\n",
              "      <button class=\"colab-df-convert\" onclick=\"convertToInteractive('df-45b1ef37-33f1-46cf-8288-13c6f90590ea')\"\n",
              "              title=\"Convert this dataframe to an interactive table.\"\n",
              "              style=\"display:none;\">\n",
              "        \n",
              "  <svg xmlns=\"http://www.w3.org/2000/svg\" height=\"24px\"viewBox=\"0 0 24 24\"\n",
              "       width=\"24px\">\n",
              "    <path d=\"M0 0h24v24H0V0z\" fill=\"none\"/>\n",
              "    <path d=\"M18.56 5.44l.94 2.06.94-2.06 2.06-.94-2.06-.94-.94-2.06-.94 2.06-2.06.94zm-11 1L8.5 8.5l.94-2.06 2.06-.94-2.06-.94L8.5 2.5l-.94 2.06-2.06.94zm10 10l.94 2.06.94-2.06 2.06-.94-2.06-.94-.94-2.06-.94 2.06-2.06.94z\"/><path d=\"M17.41 7.96l-1.37-1.37c-.4-.4-.92-.59-1.43-.59-.52 0-1.04.2-1.43.59L10.3 9.45l-7.72 7.72c-.78.78-.78 2.05 0 2.83L4 21.41c.39.39.9.59 1.41.59.51 0 1.02-.2 1.41-.59l7.78-7.78 2.81-2.81c.8-.78.8-2.07 0-2.86zM5.41 20L4 18.59l7.72-7.72 1.47 1.35L5.41 20z\"/>\n",
              "  </svg>\n",
              "      </button>\n",
              "      \n",
              "  <style>\n",
              "    .colab-df-container {\n",
              "      display:flex;\n",
              "      flex-wrap:wrap;\n",
              "      gap: 12px;\n",
              "    }\n",
              "\n",
              "    .colab-df-convert {\n",
              "      background-color: #E8F0FE;\n",
              "      border: none;\n",
              "      border-radius: 50%;\n",
              "      cursor: pointer;\n",
              "      display: none;\n",
              "      fill: #1967D2;\n",
              "      height: 32px;\n",
              "      padding: 0 0 0 0;\n",
              "      width: 32px;\n",
              "    }\n",
              "\n",
              "    .colab-df-convert:hover {\n",
              "      background-color: #E2EBFA;\n",
              "      box-shadow: 0px 1px 2px rgba(60, 64, 67, 0.3), 0px 1px 3px 1px rgba(60, 64, 67, 0.15);\n",
              "      fill: #174EA6;\n",
              "    }\n",
              "\n",
              "    [theme=dark] .colab-df-convert {\n",
              "      background-color: #3B4455;\n",
              "      fill: #D2E3FC;\n",
              "    }\n",
              "\n",
              "    [theme=dark] .colab-df-convert:hover {\n",
              "      background-color: #434B5C;\n",
              "      box-shadow: 0px 1px 3px 1px rgba(0, 0, 0, 0.15);\n",
              "      filter: drop-shadow(0px 1px 2px rgba(0, 0, 0, 0.3));\n",
              "      fill: #FFFFFF;\n",
              "    }\n",
              "  </style>\n",
              "\n",
              "      <script>\n",
              "        const buttonEl =\n",
              "          document.querySelector('#df-45b1ef37-33f1-46cf-8288-13c6f90590ea button.colab-df-convert');\n",
              "        buttonEl.style.display =\n",
              "          google.colab.kernel.accessAllowed ? 'block' : 'none';\n",
              "\n",
              "        async function convertToInteractive(key) {\n",
              "          const element = document.querySelector('#df-45b1ef37-33f1-46cf-8288-13c6f90590ea');\n",
              "          const dataTable =\n",
              "            await google.colab.kernel.invokeFunction('convertToInteractive',\n",
              "                                                     [key], {});\n",
              "          if (!dataTable) return;\n",
              "\n",
              "          const docLinkHtml = 'Like what you see? Visit the ' +\n",
              "            '<a target=\"_blank\" href=https://colab.research.google.com/notebooks/data_table.ipynb>data table notebook</a>'\n",
              "            + ' to learn more about interactive tables.';\n",
              "          element.innerHTML = '';\n",
              "          dataTable['output_type'] = 'display_data';\n",
              "          await google.colab.output.renderOutput(dataTable, element);\n",
              "          const docLink = document.createElement('div');\n",
              "          docLink.innerHTML = docLinkHtml;\n",
              "          element.appendChild(docLink);\n",
              "        }\n",
              "      </script>\n",
              "    </div>\n",
              "  </div>\n",
              "  "
            ]
          },
          "metadata": {},
          "execution_count": 20
        }
      ]
    },
    {
      "cell_type": "markdown",
      "source": [
        "Each entry in the entity table includes information about the matched entity as well as the \"position\" within the ontology"
      ],
      "metadata": {
        "id": "Iy0e2-_bmtC3"
      }
    },
    {
      "cell_type": "code",
      "source": [
        "# Define function to get last index which is not NaN => The level of the entity within the ontology\n",
        "def get_last(a):\n",
        "  '''Get last index of list which is not NaN'''\n",
        "  for i, e in enumerate(reversed(a)):\n",
        "    if e is not np.nan:\n",
        "      return len(a) - i -1\n",
        "  return -1"
      ],
      "metadata": {
        "id": "DrT_IinmTWsz"
      },
      "execution_count": 21,
      "outputs": []
    },
    {
      "cell_type": "code",
      "source": [
        "# Function to take a dataframe and create dictonary of level of entity, level of parent entity and name of parent entity\n",
        "def get_idx_par_ent(df):\n",
        "  '''Get level of entity, level of parent entity and name of parent entity'''\n",
        "  ent_lvls = df.values.flatten().tolist() \n",
        "  lvl_ent = get_last(ent_lvls)\n",
        "  lvl_par_ent = lvl_ent-1\n",
        "  par_ent = ent_lvls[lvl_par_ent]\n",
        "\n",
        "  return {\"entity_id\":ent_lvls[0], \"lvl_ent\":lvl_ent, \"lvl_par_ent\":lvl_par_ent, \"par_ent\":par_ent}"
      ],
      "metadata": {
        "id": "I-sUIuwDXtnY"
      },
      "execution_count": 22,
      "outputs": []
    },
    {
      "cell_type": "code",
      "source": [
        "col_names = ['ent_id', 'level_1', 'level_2', 'level_3', 'level_4', 'level_5', 'level_6', 'level_7', 'level_8', 'level_9', 'level_10']\n",
        "\n",
        "# Create df which includes one row per entity which should be removed (since we only care about the position in the ontology)\n",
        "ent_rmv_uniq = entities[entities.ent_id.isin(entities_to_removed.entity_id_to_remove.to_list())].drop_duplicates(\"ent_id\")[col_names]\n",
        "\n",
        "# Apply function to get level information of each entity and store result as dataframe\n",
        "ent_rmv_uniq_df = ent_rmv_uniq.apply(lambda x: get_idx_par_ent(x), axis=1, result_type='expand')"
      ],
      "metadata": {
        "id": "zVbs9GzOdh_r"
      },
      "execution_count": 23,
      "outputs": []
    },
    {
      "cell_type": "code",
      "source": [
        "# Merge resulting dataframe onto existing entities_to_removed df\n",
        "entities_to_removed = entities_to_removed.merge(ent_rmv_uniq_df ,left_on=\"entity_id_to_remove\", \n",
        "                                                right_on=\"entity_id\", how=\"left\").drop(columns=\"entity_id\")"
      ],
      "metadata": {
        "id": "u4YjtUBrgl6g"
      },
      "execution_count": 24,
      "outputs": []
    },
    {
      "cell_type": "code",
      "source": [
        "# Check that we found a parent entity from each entity in the list\n",
        "entities_to_removed[entities_to_removed.lvl_par_ent.isna()]"
      ],
      "metadata": {
        "colab": {
          "base_uri": "https://localhost:8080/",
          "height": 49
        },
        "id": "981D8hxar0Gy",
        "outputId": "9e2469d9-f10c-4359-ae77-c203b5dbdd39"
      },
      "execution_count": 25,
      "outputs": [
        {
          "output_type": "execute_result",
          "data": {
            "text/plain": [
              "Empty DataFrame\n",
              "Columns: [level_1, level_2, entity_id_to_remove, has_child_nodes, lvl_ent, lvl_par_ent, par_ent]\n",
              "Index: []"
            ],
            "text/html": [
              "\n",
              "  <div id=\"df-c9ffa763-bf25-461d-bffa-7a6ca2833773\">\n",
              "    <div class=\"colab-df-container\">\n",
              "      <div>\n",
              "<style scoped>\n",
              "    .dataframe tbody tr th:only-of-type {\n",
              "        vertical-align: middle;\n",
              "    }\n",
              "\n",
              "    .dataframe tbody tr th {\n",
              "        vertical-align: top;\n",
              "    }\n",
              "\n",
              "    .dataframe thead th {\n",
              "        text-align: right;\n",
              "    }\n",
              "</style>\n",
              "<table border=\"1\" class=\"dataframe\">\n",
              "  <thead>\n",
              "    <tr style=\"text-align: right;\">\n",
              "      <th></th>\n",
              "      <th>level_1</th>\n",
              "      <th>level_2</th>\n",
              "      <th>entity_id_to_remove</th>\n",
              "      <th>has_child_nodes</th>\n",
              "      <th>lvl_ent</th>\n",
              "      <th>lvl_par_ent</th>\n",
              "      <th>par_ent</th>\n",
              "    </tr>\n",
              "  </thead>\n",
              "  <tbody>\n",
              "  </tbody>\n",
              "</table>\n",
              "</div>\n",
              "      <button class=\"colab-df-convert\" onclick=\"convertToInteractive('df-c9ffa763-bf25-461d-bffa-7a6ca2833773')\"\n",
              "              title=\"Convert this dataframe to an interactive table.\"\n",
              "              style=\"display:none;\">\n",
              "        \n",
              "  <svg xmlns=\"http://www.w3.org/2000/svg\" height=\"24px\"viewBox=\"0 0 24 24\"\n",
              "       width=\"24px\">\n",
              "    <path d=\"M0 0h24v24H0V0z\" fill=\"none\"/>\n",
              "    <path d=\"M18.56 5.44l.94 2.06.94-2.06 2.06-.94-2.06-.94-.94-2.06-.94 2.06-2.06.94zm-11 1L8.5 8.5l.94-2.06 2.06-.94-2.06-.94L8.5 2.5l-.94 2.06-2.06.94zm10 10l.94 2.06.94-2.06 2.06-.94-2.06-.94-.94-2.06-.94 2.06-2.06.94z\"/><path d=\"M17.41 7.96l-1.37-1.37c-.4-.4-.92-.59-1.43-.59-.52 0-1.04.2-1.43.59L10.3 9.45l-7.72 7.72c-.78.78-.78 2.05 0 2.83L4 21.41c.39.39.9.59 1.41.59.51 0 1.02-.2 1.41-.59l7.78-7.78 2.81-2.81c.8-.78.8-2.07 0-2.86zM5.41 20L4 18.59l7.72-7.72 1.47 1.35L5.41 20z\"/>\n",
              "  </svg>\n",
              "      </button>\n",
              "      \n",
              "  <style>\n",
              "    .colab-df-container {\n",
              "      display:flex;\n",
              "      flex-wrap:wrap;\n",
              "      gap: 12px;\n",
              "    }\n",
              "\n",
              "    .colab-df-convert {\n",
              "      background-color: #E8F0FE;\n",
              "      border: none;\n",
              "      border-radius: 50%;\n",
              "      cursor: pointer;\n",
              "      display: none;\n",
              "      fill: #1967D2;\n",
              "      height: 32px;\n",
              "      padding: 0 0 0 0;\n",
              "      width: 32px;\n",
              "    }\n",
              "\n",
              "    .colab-df-convert:hover {\n",
              "      background-color: #E2EBFA;\n",
              "      box-shadow: 0px 1px 2px rgba(60, 64, 67, 0.3), 0px 1px 3px 1px rgba(60, 64, 67, 0.15);\n",
              "      fill: #174EA6;\n",
              "    }\n",
              "\n",
              "    [theme=dark] .colab-df-convert {\n",
              "      background-color: #3B4455;\n",
              "      fill: #D2E3FC;\n",
              "    }\n",
              "\n",
              "    [theme=dark] .colab-df-convert:hover {\n",
              "      background-color: #434B5C;\n",
              "      box-shadow: 0px 1px 3px 1px rgba(0, 0, 0, 0.15);\n",
              "      filter: drop-shadow(0px 1px 2px rgba(0, 0, 0, 0.3));\n",
              "      fill: #FFFFFF;\n",
              "    }\n",
              "  </style>\n",
              "\n",
              "      <script>\n",
              "        const buttonEl =\n",
              "          document.querySelector('#df-c9ffa763-bf25-461d-bffa-7a6ca2833773 button.colab-df-convert');\n",
              "        buttonEl.style.display =\n",
              "          google.colab.kernel.accessAllowed ? 'block' : 'none';\n",
              "\n",
              "        async function convertToInteractive(key) {\n",
              "          const element = document.querySelector('#df-c9ffa763-bf25-461d-bffa-7a6ca2833773');\n",
              "          const dataTable =\n",
              "            await google.colab.kernel.invokeFunction('convertToInteractive',\n",
              "                                                     [key], {});\n",
              "          if (!dataTable) return;\n",
              "\n",
              "          const docLinkHtml = 'Like what you see? Visit the ' +\n",
              "            '<a target=\"_blank\" href=https://colab.research.google.com/notebooks/data_table.ipynb>data table notebook</a>'\n",
              "            + ' to learn more about interactive tables.';\n",
              "          element.innerHTML = '';\n",
              "          dataTable['output_type'] = 'display_data';\n",
              "          await google.colab.output.renderOutput(dataTable, element);\n",
              "          const docLink = document.createElement('div');\n",
              "          docLink.innerHTML = docLinkHtml;\n",
              "          element.appendChild(docLink);\n",
              "        }\n",
              "      </script>\n",
              "    </div>\n",
              "  </div>\n",
              "  "
            ]
          },
          "metadata": {},
          "execution_count": 25
        }
      ]
    },
    {
      "cell_type": "code",
      "source": [
        "# Chck results visually\n",
        "entities_to_removed.sample(2)"
      ],
      "metadata": {
        "colab": {
          "base_uri": "https://localhost:8080/",
          "height": 112
        },
        "id": "hEiRK_Gpl5a_",
        "outputId": "6548b404-216e-48ef-feb2-78cce0f91631"
      },
      "execution_count": 26,
      "outputs": [
        {
          "output_type": "execute_result",
          "data": {
            "text/plain": [
              "                  level_1               level_2 entity_id_to_remove  \\\n",
              "55     theoretical entity                 model     null hypothesis   \n",
              "33  methodological entity  data analysis method  sentiment analysis   \n",
              "\n",
              "    has_child_nodes  lvl_ent  lvl_par_ent              par_ent  \n",
              "55              0.0        6            5  research hypothesis  \n",
              "33              1.0        9            8      NLP application  "
            ],
            "text/html": [
              "\n",
              "  <div id=\"df-19c3cc55-de91-45d2-9d62-3fe26a74b73f\">\n",
              "    <div class=\"colab-df-container\">\n",
              "      <div>\n",
              "<style scoped>\n",
              "    .dataframe tbody tr th:only-of-type {\n",
              "        vertical-align: middle;\n",
              "    }\n",
              "\n",
              "    .dataframe tbody tr th {\n",
              "        vertical-align: top;\n",
              "    }\n",
              "\n",
              "    .dataframe thead th {\n",
              "        text-align: right;\n",
              "    }\n",
              "</style>\n",
              "<table border=\"1\" class=\"dataframe\">\n",
              "  <thead>\n",
              "    <tr style=\"text-align: right;\">\n",
              "      <th></th>\n",
              "      <th>level_1</th>\n",
              "      <th>level_2</th>\n",
              "      <th>entity_id_to_remove</th>\n",
              "      <th>has_child_nodes</th>\n",
              "      <th>lvl_ent</th>\n",
              "      <th>lvl_par_ent</th>\n",
              "      <th>par_ent</th>\n",
              "    </tr>\n",
              "  </thead>\n",
              "  <tbody>\n",
              "    <tr>\n",
              "      <th>55</th>\n",
              "      <td>theoretical entity</td>\n",
              "      <td>model</td>\n",
              "      <td>null hypothesis</td>\n",
              "      <td>0.0</td>\n",
              "      <td>6</td>\n",
              "      <td>5</td>\n",
              "      <td>research hypothesis</td>\n",
              "    </tr>\n",
              "    <tr>\n",
              "      <th>33</th>\n",
              "      <td>methodological entity</td>\n",
              "      <td>data analysis method</td>\n",
              "      <td>sentiment analysis</td>\n",
              "      <td>1.0</td>\n",
              "      <td>9</td>\n",
              "      <td>8</td>\n",
              "      <td>NLP application</td>\n",
              "    </tr>\n",
              "  </tbody>\n",
              "</table>\n",
              "</div>\n",
              "      <button class=\"colab-df-convert\" onclick=\"convertToInteractive('df-19c3cc55-de91-45d2-9d62-3fe26a74b73f')\"\n",
              "              title=\"Convert this dataframe to an interactive table.\"\n",
              "              style=\"display:none;\">\n",
              "        \n",
              "  <svg xmlns=\"http://www.w3.org/2000/svg\" height=\"24px\"viewBox=\"0 0 24 24\"\n",
              "       width=\"24px\">\n",
              "    <path d=\"M0 0h24v24H0V0z\" fill=\"none\"/>\n",
              "    <path d=\"M18.56 5.44l.94 2.06.94-2.06 2.06-.94-2.06-.94-.94-2.06-.94 2.06-2.06.94zm-11 1L8.5 8.5l.94-2.06 2.06-.94-2.06-.94L8.5 2.5l-.94 2.06-2.06.94zm10 10l.94 2.06.94-2.06 2.06-.94-2.06-.94-.94-2.06-.94 2.06-2.06.94z\"/><path d=\"M17.41 7.96l-1.37-1.37c-.4-.4-.92-.59-1.43-.59-.52 0-1.04.2-1.43.59L10.3 9.45l-7.72 7.72c-.78.78-.78 2.05 0 2.83L4 21.41c.39.39.9.59 1.41.59.51 0 1.02-.2 1.41-.59l7.78-7.78 2.81-2.81c.8-.78.8-2.07 0-2.86zM5.41 20L4 18.59l7.72-7.72 1.47 1.35L5.41 20z\"/>\n",
              "  </svg>\n",
              "      </button>\n",
              "      \n",
              "  <style>\n",
              "    .colab-df-container {\n",
              "      display:flex;\n",
              "      flex-wrap:wrap;\n",
              "      gap: 12px;\n",
              "    }\n",
              "\n",
              "    .colab-df-convert {\n",
              "      background-color: #E8F0FE;\n",
              "      border: none;\n",
              "      border-radius: 50%;\n",
              "      cursor: pointer;\n",
              "      display: none;\n",
              "      fill: #1967D2;\n",
              "      height: 32px;\n",
              "      padding: 0 0 0 0;\n",
              "      width: 32px;\n",
              "    }\n",
              "\n",
              "    .colab-df-convert:hover {\n",
              "      background-color: #E2EBFA;\n",
              "      box-shadow: 0px 1px 2px rgba(60, 64, 67, 0.3), 0px 1px 3px 1px rgba(60, 64, 67, 0.15);\n",
              "      fill: #174EA6;\n",
              "    }\n",
              "\n",
              "    [theme=dark] .colab-df-convert {\n",
              "      background-color: #3B4455;\n",
              "      fill: #D2E3FC;\n",
              "    }\n",
              "\n",
              "    [theme=dark] .colab-df-convert:hover {\n",
              "      background-color: #434B5C;\n",
              "      box-shadow: 0px 1px 3px 1px rgba(0, 0, 0, 0.15);\n",
              "      filter: drop-shadow(0px 1px 2px rgba(0, 0, 0, 0.3));\n",
              "      fill: #FFFFFF;\n",
              "    }\n",
              "  </style>\n",
              "\n",
              "      <script>\n",
              "        const buttonEl =\n",
              "          document.querySelector('#df-19c3cc55-de91-45d2-9d62-3fe26a74b73f button.colab-df-convert');\n",
              "        buttonEl.style.display =\n",
              "          google.colab.kernel.accessAllowed ? 'block' : 'none';\n",
              "\n",
              "        async function convertToInteractive(key) {\n",
              "          const element = document.querySelector('#df-19c3cc55-de91-45d2-9d62-3fe26a74b73f');\n",
              "          const dataTable =\n",
              "            await google.colab.kernel.invokeFunction('convertToInteractive',\n",
              "                                                     [key], {});\n",
              "          if (!dataTable) return;\n",
              "\n",
              "          const docLinkHtml = 'Like what you see? Visit the ' +\n",
              "            '<a target=\"_blank\" href=https://colab.research.google.com/notebooks/data_table.ipynb>data table notebook</a>'\n",
              "            + ' to learn more about interactive tables.';\n",
              "          element.innerHTML = '';\n",
              "          dataTable['output_type'] = 'display_data';\n",
              "          await google.colab.output.renderOutput(dataTable, element);\n",
              "          const docLink = document.createElement('div');\n",
              "          docLink.innerHTML = docLinkHtml;\n",
              "          element.appendChild(docLink);\n",
              "        }\n",
              "      </script>\n",
              "    </div>\n",
              "  </div>\n",
              "  "
            ]
          },
          "metadata": {},
          "execution_count": 26
        }
      ]
    },
    {
      "cell_type": "markdown",
      "source": [
        "Now we want to even further enhance this dataframe to also include: \n",
        "- a list of different entities which belong to the specific parent node\n",
        "- a list of sentences in which the entity occurs\n",
        "- a list of articles in which the entity occurs\n",
        "- also we want the number of occurences for all three points from above"
      ],
      "metadata": {
        "id": "7DzDUS7bZmRS"
      }
    },
    {
      "cell_type": "code",
      "source": [
        "tmp_list=[] # List of entities and child nodes which have to be removed from train ontology \n",
        "\n",
        "for entity in ent_to_rmv_list:\n",
        "  \n",
        "  #print(entity, (entities.values == entity).any(1).astype(int).max()) #to visually check if the random picked nodes are even included in entities database (so if there has been a match yet)\n",
        "\n",
        "  tmp_ = entities[entities.values == entity][[\"ent_id\", \"article_id\", \"sentence_id\"]].apply(lambda x: x.unique().tolist()) #get all the unique values for all three columns\n",
        "  df_tmp = pd.DataFrame(tmp_).T #store results as df'\n",
        "  df_tmp.columns=[\"ent_list\", \"articles_list\", \"sentences_list\"] #rename columns\n",
        "  tmp_list.append(df_tmp) #add df to list\n",
        "\n",
        "# Add list of children per entity, list of articles and sentences as new column to dataframe\n",
        "entities_to_removed = pd.concat((entities_to_removed, pd.concat(tmp_list).reset_index(drop=True)), axis=1)\n",
        "\n",
        "# add number of occurences as separate columns\n",
        "entities_to_removed[[\"num_ent\", \"num_articles\", \"num_sentences\"]] = entities_to_removed[[\"ent_list\", \"articles_list\", \"sentences_list\"]].applymap(lambda x: len(x))"
      ],
      "metadata": {
        "id": "XE691P3FZOt8"
      },
      "execution_count": 27,
      "outputs": []
    },
    {
      "cell_type": "code",
      "source": [
        "entities_to_removed.sample(3)"
      ],
      "metadata": {
        "colab": {
          "base_uri": "https://localhost:8080/",
          "height": 346
        },
        "id": "Oe5GLtNTLwXY",
        "outputId": "7eb384e3-fc2c-4800-e7cb-77a6fff3a98e"
      },
      "execution_count": 28,
      "outputs": [
        {
          "output_type": "execute_result",
          "data": {
            "text/plain": [
              "                   level_1               level_2 entity_id_to_remove  \\\n",
              "22  domain specific entity          study object             startup   \n",
              "19  domain specific entity       Economic sector   private household   \n",
              "40   methodological entity  data analysis method           p hacking   \n",
              "\n",
              "    has_child_nodes  lvl_ent  lvl_par_ent          par_ent  \\\n",
              "22              0.0        4            3     company type   \n",
              "19              0.0        3            2  economic sector   \n",
              "40              0.0        5            4    data dredging   \n",
              "\n",
              "               ent_list                                      articles_list  \\\n",
              "22            [startup]  [4061, 5218, 2847, 6327, 3376, 5611, 5220, 522...   \n",
              "19  [private household]  [1835, 433, 3374, 5605, 6100, 1416, 2113, 5220...   \n",
              "40          [p hacking]                                 [4089, 2500, 5321]   \n",
              "\n",
              "                                       sentences_list  num_ent  num_articles  \\\n",
              "22  [4061_16772_16822, 5218_12213_12258, 2847_4805...        1           179   \n",
              "19  [1835_3579_3628, 433_16_59, 433_962_992, 433_2...        1           412   \n",
              "40  [4089_6578_6636, 4089_6636_6657, 4089_6739_680...        1             3   \n",
              "\n",
              "    num_sentences  \n",
              "22            442  \n",
              "19           1967  \n",
              "40              7  "
            ],
            "text/html": [
              "\n",
              "  <div id=\"df-71dccac1-5ef2-429b-b6d1-e90a4d09449a\">\n",
              "    <div class=\"colab-df-container\">\n",
              "      <div>\n",
              "<style scoped>\n",
              "    .dataframe tbody tr th:only-of-type {\n",
              "        vertical-align: middle;\n",
              "    }\n",
              "\n",
              "    .dataframe tbody tr th {\n",
              "        vertical-align: top;\n",
              "    }\n",
              "\n",
              "    .dataframe thead th {\n",
              "        text-align: right;\n",
              "    }\n",
              "</style>\n",
              "<table border=\"1\" class=\"dataframe\">\n",
              "  <thead>\n",
              "    <tr style=\"text-align: right;\">\n",
              "      <th></th>\n",
              "      <th>level_1</th>\n",
              "      <th>level_2</th>\n",
              "      <th>entity_id_to_remove</th>\n",
              "      <th>has_child_nodes</th>\n",
              "      <th>lvl_ent</th>\n",
              "      <th>lvl_par_ent</th>\n",
              "      <th>par_ent</th>\n",
              "      <th>ent_list</th>\n",
              "      <th>articles_list</th>\n",
              "      <th>sentences_list</th>\n",
              "      <th>num_ent</th>\n",
              "      <th>num_articles</th>\n",
              "      <th>num_sentences</th>\n",
              "    </tr>\n",
              "  </thead>\n",
              "  <tbody>\n",
              "    <tr>\n",
              "      <th>22</th>\n",
              "      <td>domain specific entity</td>\n",
              "      <td>study object</td>\n",
              "      <td>startup</td>\n",
              "      <td>0.0</td>\n",
              "      <td>4</td>\n",
              "      <td>3</td>\n",
              "      <td>company type</td>\n",
              "      <td>[startup]</td>\n",
              "      <td>[4061, 5218, 2847, 6327, 3376, 5611, 5220, 522...</td>\n",
              "      <td>[4061_16772_16822, 5218_12213_12258, 2847_4805...</td>\n",
              "      <td>1</td>\n",
              "      <td>179</td>\n",
              "      <td>442</td>\n",
              "    </tr>\n",
              "    <tr>\n",
              "      <th>19</th>\n",
              "      <td>domain specific entity</td>\n",
              "      <td>Economic sector</td>\n",
              "      <td>private household</td>\n",
              "      <td>0.0</td>\n",
              "      <td>3</td>\n",
              "      <td>2</td>\n",
              "      <td>economic sector</td>\n",
              "      <td>[private household]</td>\n",
              "      <td>[1835, 433, 3374, 5605, 6100, 1416, 2113, 5220...</td>\n",
              "      <td>[1835_3579_3628, 433_16_59, 433_962_992, 433_2...</td>\n",
              "      <td>1</td>\n",
              "      <td>412</td>\n",
              "      <td>1967</td>\n",
              "    </tr>\n",
              "    <tr>\n",
              "      <th>40</th>\n",
              "      <td>methodological entity</td>\n",
              "      <td>data analysis method</td>\n",
              "      <td>p hacking</td>\n",
              "      <td>0.0</td>\n",
              "      <td>5</td>\n",
              "      <td>4</td>\n",
              "      <td>data dredging</td>\n",
              "      <td>[p hacking]</td>\n",
              "      <td>[4089, 2500, 5321]</td>\n",
              "      <td>[4089_6578_6636, 4089_6636_6657, 4089_6739_680...</td>\n",
              "      <td>1</td>\n",
              "      <td>3</td>\n",
              "      <td>7</td>\n",
              "    </tr>\n",
              "  </tbody>\n",
              "</table>\n",
              "</div>\n",
              "      <button class=\"colab-df-convert\" onclick=\"convertToInteractive('df-71dccac1-5ef2-429b-b6d1-e90a4d09449a')\"\n",
              "              title=\"Convert this dataframe to an interactive table.\"\n",
              "              style=\"display:none;\">\n",
              "        \n",
              "  <svg xmlns=\"http://www.w3.org/2000/svg\" height=\"24px\"viewBox=\"0 0 24 24\"\n",
              "       width=\"24px\">\n",
              "    <path d=\"M0 0h24v24H0V0z\" fill=\"none\"/>\n",
              "    <path d=\"M18.56 5.44l.94 2.06.94-2.06 2.06-.94-2.06-.94-.94-2.06-.94 2.06-2.06.94zm-11 1L8.5 8.5l.94-2.06 2.06-.94-2.06-.94L8.5 2.5l-.94 2.06-2.06.94zm10 10l.94 2.06.94-2.06 2.06-.94-2.06-.94-.94-2.06-.94 2.06-2.06.94z\"/><path d=\"M17.41 7.96l-1.37-1.37c-.4-.4-.92-.59-1.43-.59-.52 0-1.04.2-1.43.59L10.3 9.45l-7.72 7.72c-.78.78-.78 2.05 0 2.83L4 21.41c.39.39.9.59 1.41.59.51 0 1.02-.2 1.41-.59l7.78-7.78 2.81-2.81c.8-.78.8-2.07 0-2.86zM5.41 20L4 18.59l7.72-7.72 1.47 1.35L5.41 20z\"/>\n",
              "  </svg>\n",
              "      </button>\n",
              "      \n",
              "  <style>\n",
              "    .colab-df-container {\n",
              "      display:flex;\n",
              "      flex-wrap:wrap;\n",
              "      gap: 12px;\n",
              "    }\n",
              "\n",
              "    .colab-df-convert {\n",
              "      background-color: #E8F0FE;\n",
              "      border: none;\n",
              "      border-radius: 50%;\n",
              "      cursor: pointer;\n",
              "      display: none;\n",
              "      fill: #1967D2;\n",
              "      height: 32px;\n",
              "      padding: 0 0 0 0;\n",
              "      width: 32px;\n",
              "    }\n",
              "\n",
              "    .colab-df-convert:hover {\n",
              "      background-color: #E2EBFA;\n",
              "      box-shadow: 0px 1px 2px rgba(60, 64, 67, 0.3), 0px 1px 3px 1px rgba(60, 64, 67, 0.15);\n",
              "      fill: #174EA6;\n",
              "    }\n",
              "\n",
              "    [theme=dark] .colab-df-convert {\n",
              "      background-color: #3B4455;\n",
              "      fill: #D2E3FC;\n",
              "    }\n",
              "\n",
              "    [theme=dark] .colab-df-convert:hover {\n",
              "      background-color: #434B5C;\n",
              "      box-shadow: 0px 1px 3px 1px rgba(0, 0, 0, 0.15);\n",
              "      filter: drop-shadow(0px 1px 2px rgba(0, 0, 0, 0.3));\n",
              "      fill: #FFFFFF;\n",
              "    }\n",
              "  </style>\n",
              "\n",
              "      <script>\n",
              "        const buttonEl =\n",
              "          document.querySelector('#df-71dccac1-5ef2-429b-b6d1-e90a4d09449a button.colab-df-convert');\n",
              "        buttonEl.style.display =\n",
              "          google.colab.kernel.accessAllowed ? 'block' : 'none';\n",
              "\n",
              "        async function convertToInteractive(key) {\n",
              "          const element = document.querySelector('#df-71dccac1-5ef2-429b-b6d1-e90a4d09449a');\n",
              "          const dataTable =\n",
              "            await google.colab.kernel.invokeFunction('convertToInteractive',\n",
              "                                                     [key], {});\n",
              "          if (!dataTable) return;\n",
              "\n",
              "          const docLinkHtml = 'Like what you see? Visit the ' +\n",
              "            '<a target=\"_blank\" href=https://colab.research.google.com/notebooks/data_table.ipynb>data table notebook</a>'\n",
              "            + ' to learn more about interactive tables.';\n",
              "          element.innerHTML = '';\n",
              "          dataTable['output_type'] = 'display_data';\n",
              "          await google.colab.output.renderOutput(dataTable, element);\n",
              "          const docLink = document.createElement('div');\n",
              "          docLink.innerHTML = docLinkHtml;\n",
              "          element.appendChild(docLink);\n",
              "        }\n",
              "      </script>\n",
              "    </div>\n",
              "  </div>\n",
              "  "
            ]
          },
          "metadata": {},
          "execution_count": 28
        }
      ]
    },
    {
      "cell_type": "markdown",
      "source": [
        "Now we can create a list of all entities and child entities which we then use to filter the entity dataframe "
      ],
      "metadata": {
        "id": "DC79ModAd-S3"
      }
    },
    {
      "cell_type": "code",
      "source": [
        "#flatten list of entities which need to be removed \n",
        "entities_to_remove_cmpl = [x for xs in entities_to_removed.ent_list.to_list() for x in xs] # add all parent (and child) entities to a list which then can be excluded from the train dataframe"
      ],
      "metadata": {
        "id": "TL2AKYJX46g1"
      },
      "execution_count": 29,
      "outputs": []
    },
    {
      "cell_type": "code",
      "source": [
        "# Check number of entities which need to be removed from train set\n",
        "len(entities_to_remove_cmpl)"
      ],
      "metadata": {
        "colab": {
          "base_uri": "https://localhost:8080/"
        },
        "id": "IthJOIfV5whc",
        "outputId": "9f2a99aa-43fa-47ed-9ff0-b1fc89dbab2b"
      },
      "execution_count": 30,
      "outputs": [
        {
          "output_type": "execute_result",
          "data": {
            "text/plain": [
              "156"
            ]
          },
          "metadata": {},
          "execution_count": 30
        }
      ]
    },
    {
      "cell_type": "code",
      "source": [
        "# Lets check the distributiton of the selcted entities accross the ontology\n",
        "entities_to_removed.groupby([\"level_1\", \"level_2\", \"lvl_ent\"]).aggregate({'num_ent' :[\"sum\"], \"entity_id_to_remove\":[\"count\"]})"
      ],
      "metadata": {
        "colab": {
          "base_uri": "https://localhost:8080/",
          "height": 1000
        },
        "id": "3N6FKsSt3E4f",
        "outputId": "3e3ada02-d67e-45a5-f9df-36a5aaf52676"
      },
      "execution_count": 31,
      "outputs": [
        {
          "output_type": "execute_result",
          "data": {
            "text/plain": [
              "                                                    num_ent  \\\n",
              "                                                        sum   \n",
              "level_1                level_2              lvl_ent           \n",
              "domain specific entity Economic sector      3             1   \n",
              "                                            4            10   \n",
              "                                            5             2   \n",
              "                       IS technology        4            16   \n",
              "                                            5            12   \n",
              "                                            7             4   \n",
              "                       IS topic             3            10   \n",
              "                                            4            10   \n",
              "                                            5             9   \n",
              "                                            6             6   \n",
              "                       study object         4             2   \n",
              "                                            5             1   \n",
              "methodological entity  data analysis method 4             1   \n",
              "                                            5             6   \n",
              "                                            6             1   \n",
              "                                            7             3   \n",
              "                                            8             8   \n",
              "                                            9             2   \n",
              "                       research method      5             3   \n",
              "                                            6            11   \n",
              "                                            7             2   \n",
              "                       sampling             4             3   \n",
              "                       statistical metric   3             2   \n",
              "                                            4             1   \n",
              "                       validity             4             1   \n",
              "                                            5             3   \n",
              "theoretical entity     level of analysis    3             3   \n",
              "                                            4             1   \n",
              "                       model                3             2   \n",
              "                                            4             1   \n",
              "                                            5             4   \n",
              "                                            6             1   \n",
              "                       research paradigm    3             2   \n",
              "                                            4             1   \n",
              "                       theory               4            10   \n",
              "                                            5             1   \n",
              "\n",
              "                                                    entity_id_to_remove  \n",
              "                                                                  count  \n",
              "level_1                level_2              lvl_ent                      \n",
              "domain specific entity Economic sector      3                         1  \n",
              "                                            4                         3  \n",
              "                                            5                         2  \n",
              "                       IS technology        4                         2  \n",
              "                                            5                         4  \n",
              "                                            7                         1  \n",
              "                       IS topic             3                         1  \n",
              "                                            4                         3  \n",
              "                                            5                         3  \n",
              "                                            6                         1  \n",
              "                       study object         4                         2  \n",
              "                                            5                         1  \n",
              "methodological entity  data analysis method 4                         1  \n",
              "                                            5                         3  \n",
              "                                            6                         1  \n",
              "                                            7                         3  \n",
              "                                            8                         1  \n",
              "                                            9                         1  \n",
              "                       research method      5                         1  \n",
              "                                            6                         4  \n",
              "                                            7                         2  \n",
              "                       sampling             4                         2  \n",
              "                       statistical metric   3                         2  \n",
              "                                            4                         1  \n",
              "                       validity             4                         1  \n",
              "                                            5                         1  \n",
              "theoretical entity     level of analysis    3                         1  \n",
              "                                            4                         1  \n",
              "                       model                3                         2  \n",
              "                                            4                         1  \n",
              "                                            5                         3  \n",
              "                                            6                         1  \n",
              "                       research paradigm    3                         1  \n",
              "                                            4                         1  \n",
              "                       theory               4                         6  \n",
              "                                            5                         1  "
            ],
            "text/html": [
              "\n",
              "  <div id=\"df-aca59987-8f0d-484f-8980-8712d7a81920\">\n",
              "    <div class=\"colab-df-container\">\n",
              "      <div>\n",
              "<style scoped>\n",
              "    .dataframe tbody tr th:only-of-type {\n",
              "        vertical-align: middle;\n",
              "    }\n",
              "\n",
              "    .dataframe tbody tr th {\n",
              "        vertical-align: top;\n",
              "    }\n",
              "\n",
              "    .dataframe thead tr th {\n",
              "        text-align: left;\n",
              "    }\n",
              "\n",
              "    .dataframe thead tr:last-of-type th {\n",
              "        text-align: right;\n",
              "    }\n",
              "</style>\n",
              "<table border=\"1\" class=\"dataframe\">\n",
              "  <thead>\n",
              "    <tr>\n",
              "      <th></th>\n",
              "      <th></th>\n",
              "      <th></th>\n",
              "      <th>num_ent</th>\n",
              "      <th>entity_id_to_remove</th>\n",
              "    </tr>\n",
              "    <tr>\n",
              "      <th></th>\n",
              "      <th></th>\n",
              "      <th></th>\n",
              "      <th>sum</th>\n",
              "      <th>count</th>\n",
              "    </tr>\n",
              "    <tr>\n",
              "      <th>level_1</th>\n",
              "      <th>level_2</th>\n",
              "      <th>lvl_ent</th>\n",
              "      <th></th>\n",
              "      <th></th>\n",
              "    </tr>\n",
              "  </thead>\n",
              "  <tbody>\n",
              "    <tr>\n",
              "      <th rowspan=\"12\" valign=\"top\">domain specific entity</th>\n",
              "      <th rowspan=\"3\" valign=\"top\">Economic sector</th>\n",
              "      <th>3</th>\n",
              "      <td>1</td>\n",
              "      <td>1</td>\n",
              "    </tr>\n",
              "    <tr>\n",
              "      <th>4</th>\n",
              "      <td>10</td>\n",
              "      <td>3</td>\n",
              "    </tr>\n",
              "    <tr>\n",
              "      <th>5</th>\n",
              "      <td>2</td>\n",
              "      <td>2</td>\n",
              "    </tr>\n",
              "    <tr>\n",
              "      <th rowspan=\"3\" valign=\"top\">IS technology</th>\n",
              "      <th>4</th>\n",
              "      <td>16</td>\n",
              "      <td>2</td>\n",
              "    </tr>\n",
              "    <tr>\n",
              "      <th>5</th>\n",
              "      <td>12</td>\n",
              "      <td>4</td>\n",
              "    </tr>\n",
              "    <tr>\n",
              "      <th>7</th>\n",
              "      <td>4</td>\n",
              "      <td>1</td>\n",
              "    </tr>\n",
              "    <tr>\n",
              "      <th rowspan=\"4\" valign=\"top\">IS topic</th>\n",
              "      <th>3</th>\n",
              "      <td>10</td>\n",
              "      <td>1</td>\n",
              "    </tr>\n",
              "    <tr>\n",
              "      <th>4</th>\n",
              "      <td>10</td>\n",
              "      <td>3</td>\n",
              "    </tr>\n",
              "    <tr>\n",
              "      <th>5</th>\n",
              "      <td>9</td>\n",
              "      <td>3</td>\n",
              "    </tr>\n",
              "    <tr>\n",
              "      <th>6</th>\n",
              "      <td>6</td>\n",
              "      <td>1</td>\n",
              "    </tr>\n",
              "    <tr>\n",
              "      <th rowspan=\"2\" valign=\"top\">study object</th>\n",
              "      <th>4</th>\n",
              "      <td>2</td>\n",
              "      <td>2</td>\n",
              "    </tr>\n",
              "    <tr>\n",
              "      <th>5</th>\n",
              "      <td>1</td>\n",
              "      <td>1</td>\n",
              "    </tr>\n",
              "    <tr>\n",
              "      <th rowspan=\"14\" valign=\"top\">methodological entity</th>\n",
              "      <th rowspan=\"6\" valign=\"top\">data analysis method</th>\n",
              "      <th>4</th>\n",
              "      <td>1</td>\n",
              "      <td>1</td>\n",
              "    </tr>\n",
              "    <tr>\n",
              "      <th>5</th>\n",
              "      <td>6</td>\n",
              "      <td>3</td>\n",
              "    </tr>\n",
              "    <tr>\n",
              "      <th>6</th>\n",
              "      <td>1</td>\n",
              "      <td>1</td>\n",
              "    </tr>\n",
              "    <tr>\n",
              "      <th>7</th>\n",
              "      <td>3</td>\n",
              "      <td>3</td>\n",
              "    </tr>\n",
              "    <tr>\n",
              "      <th>8</th>\n",
              "      <td>8</td>\n",
              "      <td>1</td>\n",
              "    </tr>\n",
              "    <tr>\n",
              "      <th>9</th>\n",
              "      <td>2</td>\n",
              "      <td>1</td>\n",
              "    </tr>\n",
              "    <tr>\n",
              "      <th rowspan=\"3\" valign=\"top\">research method</th>\n",
              "      <th>5</th>\n",
              "      <td>3</td>\n",
              "      <td>1</td>\n",
              "    </tr>\n",
              "    <tr>\n",
              "      <th>6</th>\n",
              "      <td>11</td>\n",
              "      <td>4</td>\n",
              "    </tr>\n",
              "    <tr>\n",
              "      <th>7</th>\n",
              "      <td>2</td>\n",
              "      <td>2</td>\n",
              "    </tr>\n",
              "    <tr>\n",
              "      <th>sampling</th>\n",
              "      <th>4</th>\n",
              "      <td>3</td>\n",
              "      <td>2</td>\n",
              "    </tr>\n",
              "    <tr>\n",
              "      <th rowspan=\"2\" valign=\"top\">statistical metric</th>\n",
              "      <th>3</th>\n",
              "      <td>2</td>\n",
              "      <td>2</td>\n",
              "    </tr>\n",
              "    <tr>\n",
              "      <th>4</th>\n",
              "      <td>1</td>\n",
              "      <td>1</td>\n",
              "    </tr>\n",
              "    <tr>\n",
              "      <th rowspan=\"2\" valign=\"top\">validity</th>\n",
              "      <th>4</th>\n",
              "      <td>1</td>\n",
              "      <td>1</td>\n",
              "    </tr>\n",
              "    <tr>\n",
              "      <th>5</th>\n",
              "      <td>3</td>\n",
              "      <td>1</td>\n",
              "    </tr>\n",
              "    <tr>\n",
              "      <th rowspan=\"10\" valign=\"top\">theoretical entity</th>\n",
              "      <th rowspan=\"2\" valign=\"top\">level of analysis</th>\n",
              "      <th>3</th>\n",
              "      <td>3</td>\n",
              "      <td>1</td>\n",
              "    </tr>\n",
              "    <tr>\n",
              "      <th>4</th>\n",
              "      <td>1</td>\n",
              "      <td>1</td>\n",
              "    </tr>\n",
              "    <tr>\n",
              "      <th rowspan=\"4\" valign=\"top\">model</th>\n",
              "      <th>3</th>\n",
              "      <td>2</td>\n",
              "      <td>2</td>\n",
              "    </tr>\n",
              "    <tr>\n",
              "      <th>4</th>\n",
              "      <td>1</td>\n",
              "      <td>1</td>\n",
              "    </tr>\n",
              "    <tr>\n",
              "      <th>5</th>\n",
              "      <td>4</td>\n",
              "      <td>3</td>\n",
              "    </tr>\n",
              "    <tr>\n",
              "      <th>6</th>\n",
              "      <td>1</td>\n",
              "      <td>1</td>\n",
              "    </tr>\n",
              "    <tr>\n",
              "      <th rowspan=\"2\" valign=\"top\">research paradigm</th>\n",
              "      <th>3</th>\n",
              "      <td>2</td>\n",
              "      <td>1</td>\n",
              "    </tr>\n",
              "    <tr>\n",
              "      <th>4</th>\n",
              "      <td>1</td>\n",
              "      <td>1</td>\n",
              "    </tr>\n",
              "    <tr>\n",
              "      <th rowspan=\"2\" valign=\"top\">theory</th>\n",
              "      <th>4</th>\n",
              "      <td>10</td>\n",
              "      <td>6</td>\n",
              "    </tr>\n",
              "    <tr>\n",
              "      <th>5</th>\n",
              "      <td>1</td>\n",
              "      <td>1</td>\n",
              "    </tr>\n",
              "  </tbody>\n",
              "</table>\n",
              "</div>\n",
              "      <button class=\"colab-df-convert\" onclick=\"convertToInteractive('df-aca59987-8f0d-484f-8980-8712d7a81920')\"\n",
              "              title=\"Convert this dataframe to an interactive table.\"\n",
              "              style=\"display:none;\">\n",
              "        \n",
              "  <svg xmlns=\"http://www.w3.org/2000/svg\" height=\"24px\"viewBox=\"0 0 24 24\"\n",
              "       width=\"24px\">\n",
              "    <path d=\"M0 0h24v24H0V0z\" fill=\"none\"/>\n",
              "    <path d=\"M18.56 5.44l.94 2.06.94-2.06 2.06-.94-2.06-.94-.94-2.06-.94 2.06-2.06.94zm-11 1L8.5 8.5l.94-2.06 2.06-.94-2.06-.94L8.5 2.5l-.94 2.06-2.06.94zm10 10l.94 2.06.94-2.06 2.06-.94-2.06-.94-.94-2.06-.94 2.06-2.06.94z\"/><path d=\"M17.41 7.96l-1.37-1.37c-.4-.4-.92-.59-1.43-.59-.52 0-1.04.2-1.43.59L10.3 9.45l-7.72 7.72c-.78.78-.78 2.05 0 2.83L4 21.41c.39.39.9.59 1.41.59.51 0 1.02-.2 1.41-.59l7.78-7.78 2.81-2.81c.8-.78.8-2.07 0-2.86zM5.41 20L4 18.59l7.72-7.72 1.47 1.35L5.41 20z\"/>\n",
              "  </svg>\n",
              "      </button>\n",
              "      \n",
              "  <style>\n",
              "    .colab-df-container {\n",
              "      display:flex;\n",
              "      flex-wrap:wrap;\n",
              "      gap: 12px;\n",
              "    }\n",
              "\n",
              "    .colab-df-convert {\n",
              "      background-color: #E8F0FE;\n",
              "      border: none;\n",
              "      border-radius: 50%;\n",
              "      cursor: pointer;\n",
              "      display: none;\n",
              "      fill: #1967D2;\n",
              "      height: 32px;\n",
              "      padding: 0 0 0 0;\n",
              "      width: 32px;\n",
              "    }\n",
              "\n",
              "    .colab-df-convert:hover {\n",
              "      background-color: #E2EBFA;\n",
              "      box-shadow: 0px 1px 2px rgba(60, 64, 67, 0.3), 0px 1px 3px 1px rgba(60, 64, 67, 0.15);\n",
              "      fill: #174EA6;\n",
              "    }\n",
              "\n",
              "    [theme=dark] .colab-df-convert {\n",
              "      background-color: #3B4455;\n",
              "      fill: #D2E3FC;\n",
              "    }\n",
              "\n",
              "    [theme=dark] .colab-df-convert:hover {\n",
              "      background-color: #434B5C;\n",
              "      box-shadow: 0px 1px 3px 1px rgba(0, 0, 0, 0.15);\n",
              "      filter: drop-shadow(0px 1px 2px rgba(0, 0, 0, 0.3));\n",
              "      fill: #FFFFFF;\n",
              "    }\n",
              "  </style>\n",
              "\n",
              "      <script>\n",
              "        const buttonEl =\n",
              "          document.querySelector('#df-aca59987-8f0d-484f-8980-8712d7a81920 button.colab-df-convert');\n",
              "        buttonEl.style.display =\n",
              "          google.colab.kernel.accessAllowed ? 'block' : 'none';\n",
              "\n",
              "        async function convertToInteractive(key) {\n",
              "          const element = document.querySelector('#df-aca59987-8f0d-484f-8980-8712d7a81920');\n",
              "          const dataTable =\n",
              "            await google.colab.kernel.invokeFunction('convertToInteractive',\n",
              "                                                     [key], {});\n",
              "          if (!dataTable) return;\n",
              "\n",
              "          const docLinkHtml = 'Like what you see? Visit the ' +\n",
              "            '<a target=\"_blank\" href=https://colab.research.google.com/notebooks/data_table.ipynb>data table notebook</a>'\n",
              "            + ' to learn more about interactive tables.';\n",
              "          element.innerHTML = '';\n",
              "          dataTable['output_type'] = 'display_data';\n",
              "          await google.colab.output.renderOutput(dataTable, element);\n",
              "          const docLink = document.createElement('div');\n",
              "          docLink.innerHTML = docLinkHtml;\n",
              "          element.appendChild(docLink);\n",
              "        }\n",
              "      </script>\n",
              "    </div>\n",
              "  </div>\n",
              "  "
            ]
          },
          "metadata": {},
          "execution_count": 31
        }
      ]
    },
    {
      "cell_type": "code",
      "source": [
        "# Store final entities_to_remove df as .csv\n",
        "entities_to_removed.to_csv(data_path_group+\"NER_ent_to_remove_from_ontology_final.csv\")"
      ],
      "metadata": {
        "id": "m1D_unRX38gY"
      },
      "execution_count": 32,
      "outputs": []
    },
    {
      "cell_type": "markdown",
      "source": [
        "### Create train, validation & test sets for new entity recognition"
      ],
      "metadata": {
        "id": "TUi3Ly-WMtGl"
      }
    },
    {
      "cell_type": "markdown",
      "source": [
        "Since we try to compute a similarity score between the existing entities/ synonyms and the noun phrases of the sentences, we need two different lists for each of our train, val and test dataset: \n",
        "1.   List of the entites and synoynms\n",
        "2.   List of noun phrases per sentence \n",
        "\n",
        "The synonym data has already been loaded at the beginning of the notebook, the noun phrases for each sentence still need to be loaded\n",
        "\n"
      ],
      "metadata": {
        "id": "2_yW71_B7i3u"
      }
    },
    {
      "cell_type": "markdown",
      "source": [
        "#### Load sentences \n",
        "*Probably not needed, since we will only work with the noun phrases of each sentence*"
      ],
      "metadata": {
        "id": "edPqtNti8pVa"
      }
    },
    {
      "cell_type": "code",
      "source": [
        "# # Sentences (text & id)\n",
        "# sentences = pd.read_csv(data_path+\"/Fulltext of Corpus/sentences.csv\")\n",
        "# sentences_clean = sentences.loc[~sentences.sentence_type.isin([\"EMPTY\", \"TAG\"])] #which sentence types can we also ignore???\n",
        "# del sentences\n",
        "# sentences_clean = sentences_clean.drop_duplicates(subset=\"sentence\") # Drop duplicate sentences (we only care about different sentences)\n",
        "# sentences_clean = sentences_clean[[\"sentence_id\", \"sentence\"]]"
      ],
      "metadata": {
        "id": "xd1bi2IgBMh2"
      },
      "execution_count": 33,
      "outputs": []
    },
    {
      "cell_type": "code",
      "source": [
        "# sentences_clean = sentences_clean[[\"article_id\",\"sentence_id\", \"sentence\"]] # only keep columns of interest"
      ],
      "metadata": {
        "id": "1tERniuwDqGW"
      },
      "execution_count": 34,
      "outputs": []
    },
    {
      "cell_type": "markdown",
      "source": [
        "#### Load noun phrases per sentence"
      ],
      "metadata": {
        "id": "nrP0R38w7duH"
      }
    },
    {
      "cell_type": "code",
      "source": [
        "###BLOCKER "
      ],
      "metadata": {
        "id": "QnCVp65h7dei"
      },
      "execution_count": 35,
      "outputs": []
    },
    {
      "cell_type": "markdown",
      "source": [
        "#### Create train datasets"
      ],
      "metadata": {
        "id": "UZAC6bSG8tdI"
      }
    },
    {
      "cell_type": "markdown",
      "source": [
        "##### Entities + noun phrases"
      ],
      "metadata": {
        "id": "mXHEUmV-b5SQ"
      }
    },
    {
      "cell_type": "markdown",
      "source": [
        "Let's first create the train dataset of the entities + noun phrases"
      ],
      "metadata": {
        "id": "1BEUlXPObq4r"
      }
    },
    {
      "cell_type": "code",
      "source": [
        "# Create train dataframe which does NOT contain any of the entities and porential children\n",
        "entities_train = entities[~entities.ent_id.isin(entities_to_remove_cmpl)]\n",
        "entities_train.shape"
      ],
      "metadata": {
        "colab": {
          "base_uri": "https://localhost:8080/"
        },
        "id": "CLvI9GyK843O",
        "outputId": "5fb5433b-69cf-4d07-eb77-d444e95e37a9"
      },
      "execution_count": 36,
      "outputs": [
        {
          "output_type": "execute_result",
          "data": {
            "text/plain": [
              "(1709078, 13)"
            ]
          },
          "metadata": {},
          "execution_count": 36
        }
      ]
    },
    {
      "cell_type": "code",
      "source": [
        "# This entity table now has to be merged with the noun phrases of each sentence\n",
        "entities_train.head(2)"
      ],
      "metadata": {
        "id": "s1JcrHKS-IOU",
        "outputId": "988acf2a-62c1-44b3-f08c-13a4273a6109",
        "colab": {
          "base_uri": "https://localhost:8080/",
          "height": 226
        }
      },
      "execution_count": 37,
      "outputs": [
        {
          "output_type": "execute_result",
          "data": {
            "text/plain": [
              "   article_id    sentence_id                 ent_id                 level_1  \\\n",
              "0         188  188_3753_3772               videotex  domain specific entity   \n",
              "1         188  188_3828_3848  competitive advantage  domain specific entity   \n",
              "\n",
              "         level_2                                level_3  \\\n",
              "0  IS technology  information technology infrastructure   \n",
              "1       IS topic                          IS evaluation   \n",
              "\n",
              "                                level_4                 level_5    level_6  \\\n",
              "0  communication service infrastructure                videotex        NaN   \n",
              "1                   evaluation criteria  IS evaluation criteria  IS impact   \n",
              "\n",
              "                 level_7                level_8 level_9 level_10  \n",
              "0                    NaN                    NaN     NaN      NaN  \n",
              "1  organizational impact  competitive advantage     NaN      NaN  "
            ],
            "text/html": [
              "\n",
              "  <div id=\"df-7c9c4e99-f93a-4504-b74d-81b8659c9096\">\n",
              "    <div class=\"colab-df-container\">\n",
              "      <div>\n",
              "<style scoped>\n",
              "    .dataframe tbody tr th:only-of-type {\n",
              "        vertical-align: middle;\n",
              "    }\n",
              "\n",
              "    .dataframe tbody tr th {\n",
              "        vertical-align: top;\n",
              "    }\n",
              "\n",
              "    .dataframe thead th {\n",
              "        text-align: right;\n",
              "    }\n",
              "</style>\n",
              "<table border=\"1\" class=\"dataframe\">\n",
              "  <thead>\n",
              "    <tr style=\"text-align: right;\">\n",
              "      <th></th>\n",
              "      <th>article_id</th>\n",
              "      <th>sentence_id</th>\n",
              "      <th>ent_id</th>\n",
              "      <th>level_1</th>\n",
              "      <th>level_2</th>\n",
              "      <th>level_3</th>\n",
              "      <th>level_4</th>\n",
              "      <th>level_5</th>\n",
              "      <th>level_6</th>\n",
              "      <th>level_7</th>\n",
              "      <th>level_8</th>\n",
              "      <th>level_9</th>\n",
              "      <th>level_10</th>\n",
              "    </tr>\n",
              "  </thead>\n",
              "  <tbody>\n",
              "    <tr>\n",
              "      <th>0</th>\n",
              "      <td>188</td>\n",
              "      <td>188_3753_3772</td>\n",
              "      <td>videotex</td>\n",
              "      <td>domain specific entity</td>\n",
              "      <td>IS technology</td>\n",
              "      <td>information technology infrastructure</td>\n",
              "      <td>communication service infrastructure</td>\n",
              "      <td>videotex</td>\n",
              "      <td>NaN</td>\n",
              "      <td>NaN</td>\n",
              "      <td>NaN</td>\n",
              "      <td>NaN</td>\n",
              "      <td>NaN</td>\n",
              "    </tr>\n",
              "    <tr>\n",
              "      <th>1</th>\n",
              "      <td>188</td>\n",
              "      <td>188_3828_3848</td>\n",
              "      <td>competitive advantage</td>\n",
              "      <td>domain specific entity</td>\n",
              "      <td>IS topic</td>\n",
              "      <td>IS evaluation</td>\n",
              "      <td>evaluation criteria</td>\n",
              "      <td>IS evaluation criteria</td>\n",
              "      <td>IS impact</td>\n",
              "      <td>organizational impact</td>\n",
              "      <td>competitive advantage</td>\n",
              "      <td>NaN</td>\n",
              "      <td>NaN</td>\n",
              "    </tr>\n",
              "  </tbody>\n",
              "</table>\n",
              "</div>\n",
              "      <button class=\"colab-df-convert\" onclick=\"convertToInteractive('df-7c9c4e99-f93a-4504-b74d-81b8659c9096')\"\n",
              "              title=\"Convert this dataframe to an interactive table.\"\n",
              "              style=\"display:none;\">\n",
              "        \n",
              "  <svg xmlns=\"http://www.w3.org/2000/svg\" height=\"24px\"viewBox=\"0 0 24 24\"\n",
              "       width=\"24px\">\n",
              "    <path d=\"M0 0h24v24H0V0z\" fill=\"none\"/>\n",
              "    <path d=\"M18.56 5.44l.94 2.06.94-2.06 2.06-.94-2.06-.94-.94-2.06-.94 2.06-2.06.94zm-11 1L8.5 8.5l.94-2.06 2.06-.94-2.06-.94L8.5 2.5l-.94 2.06-2.06.94zm10 10l.94 2.06.94-2.06 2.06-.94-2.06-.94-.94-2.06-.94 2.06-2.06.94z\"/><path d=\"M17.41 7.96l-1.37-1.37c-.4-.4-.92-.59-1.43-.59-.52 0-1.04.2-1.43.59L10.3 9.45l-7.72 7.72c-.78.78-.78 2.05 0 2.83L4 21.41c.39.39.9.59 1.41.59.51 0 1.02-.2 1.41-.59l7.78-7.78 2.81-2.81c.8-.78.8-2.07 0-2.86zM5.41 20L4 18.59l7.72-7.72 1.47 1.35L5.41 20z\"/>\n",
              "  </svg>\n",
              "      </button>\n",
              "      \n",
              "  <style>\n",
              "    .colab-df-container {\n",
              "      display:flex;\n",
              "      flex-wrap:wrap;\n",
              "      gap: 12px;\n",
              "    }\n",
              "\n",
              "    .colab-df-convert {\n",
              "      background-color: #E8F0FE;\n",
              "      border: none;\n",
              "      border-radius: 50%;\n",
              "      cursor: pointer;\n",
              "      display: none;\n",
              "      fill: #1967D2;\n",
              "      height: 32px;\n",
              "      padding: 0 0 0 0;\n",
              "      width: 32px;\n",
              "    }\n",
              "\n",
              "    .colab-df-convert:hover {\n",
              "      background-color: #E2EBFA;\n",
              "      box-shadow: 0px 1px 2px rgba(60, 64, 67, 0.3), 0px 1px 3px 1px rgba(60, 64, 67, 0.15);\n",
              "      fill: #174EA6;\n",
              "    }\n",
              "\n",
              "    [theme=dark] .colab-df-convert {\n",
              "      background-color: #3B4455;\n",
              "      fill: #D2E3FC;\n",
              "    }\n",
              "\n",
              "    [theme=dark] .colab-df-convert:hover {\n",
              "      background-color: #434B5C;\n",
              "      box-shadow: 0px 1px 3px 1px rgba(0, 0, 0, 0.15);\n",
              "      filter: drop-shadow(0px 1px 2px rgba(0, 0, 0, 0.3));\n",
              "      fill: #FFFFFF;\n",
              "    }\n",
              "  </style>\n",
              "\n",
              "      <script>\n",
              "        const buttonEl =\n",
              "          document.querySelector('#df-7c9c4e99-f93a-4504-b74d-81b8659c9096 button.colab-df-convert');\n",
              "        buttonEl.style.display =\n",
              "          google.colab.kernel.accessAllowed ? 'block' : 'none';\n",
              "\n",
              "        async function convertToInteractive(key) {\n",
              "          const element = document.querySelector('#df-7c9c4e99-f93a-4504-b74d-81b8659c9096');\n",
              "          const dataTable =\n",
              "            await google.colab.kernel.invokeFunction('convertToInteractive',\n",
              "                                                     [key], {});\n",
              "          if (!dataTable) return;\n",
              "\n",
              "          const docLinkHtml = 'Like what you see? Visit the ' +\n",
              "            '<a target=\"_blank\" href=https://colab.research.google.com/notebooks/data_table.ipynb>data table notebook</a>'\n",
              "            + ' to learn more about interactive tables.';\n",
              "          element.innerHTML = '';\n",
              "          dataTable['output_type'] = 'display_data';\n",
              "          await google.colab.output.renderOutput(dataTable, element);\n",
              "          const docLink = document.createElement('div');\n",
              "          docLink.innerHTML = docLinkHtml;\n",
              "          element.appendChild(docLink);\n",
              "        }\n",
              "      </script>\n",
              "    </div>\n",
              "  </div>\n",
              "  "
            ]
          },
          "metadata": {},
          "execution_count": 37
        }
      ]
    },
    {
      "cell_type": "code",
      "source": [
        "# Blocker merge with noun phrases"
      ],
      "metadata": {
        "id": "HVWVVFkU-ech"
      },
      "execution_count": 38,
      "outputs": []
    },
    {
      "cell_type": "code",
      "source": [
        ""
      ],
      "metadata": {
        "id": "cG9I93pJ-eUq"
      },
      "execution_count": 38,
      "outputs": []
    },
    {
      "cell_type": "code",
      "source": [
        "# Store train df as .csv\n",
        "entities_train.to_csv(data_path_group+\"NER_entities_train.csv\")"
      ],
      "metadata": {
        "id": "9IGf_ta13MyN"
      },
      "execution_count": 39,
      "outputs": []
    },
    {
      "cell_type": "markdown",
      "source": [
        "##### Ontology + Synonyms"
      ],
      "metadata": {
        "id": "HhTWhPwMb_WQ"
      }
    },
    {
      "cell_type": "markdown",
      "source": [
        "Let's now create the train dataset of the ontology + synonyms"
      ],
      "metadata": {
        "id": "EbAkyEt-bxGk"
      }
    },
    {
      "cell_type": "code",
      "source": [
        "# Filter entities & synonyms to only include the entities which are present in the training set \n",
        "ontology_train = ontology_syn[ontology_syn.entity_id.isin(entities_train.ent_id)]"
      ],
      "metadata": {
        "id": "ZiV0DIZFbxAD"
      },
      "execution_count": 40,
      "outputs": []
    },
    {
      "cell_type": "code",
      "source": [
        "# Store ontology_train df as .csv\n",
        "ontology_train.to_csv(data_path_group+\"NER_ontology_train.csv\")"
      ],
      "metadata": {
        "id": "_j0mBVQzbw57"
      },
      "execution_count": 41,
      "outputs": []
    },
    {
      "cell_type": "markdown",
      "source": [
        "#### Create test datasets"
      ],
      "metadata": {
        "id": "etJH8iXG2SpO"
      }
    },
    {
      "cell_type": "markdown",
      "source": [
        "For the validation and test set we need to further split the `entities_to_removed` dataframe"
      ],
      "metadata": {
        "id": "bIUBID0sa-0D"
      }
    },
    {
      "cell_type": "code",
      "source": [
        "# Check Distribution of entities from val_test split accross first and second level\n",
        "entities[entities.ent_id.isin(entities_to_remove_cmpl)].groupby([\"level_1\", \"level_2\"])[[\"ent_id\"]].aggregate([\"count\", \"nunique\"])"
      ],
      "metadata": {
        "colab": {
          "base_uri": "https://localhost:8080/",
          "height": 520
        },
        "id": "mbmpTRPptUUK",
        "outputId": "63b903e4-e8bb-44f9-965d-b987fbf89b01"
      },
      "execution_count": 42,
      "outputs": [
        {
          "output_type": "execute_result",
          "data": {
            "text/plain": [
              "                                            ent_id        \n",
              "                                             count nunique\n",
              "level_1                level_2                            \n",
              "domain specific entity IS technology         12211      32\n",
              "                       IS topic              29120      35\n",
              "                       economic sector        2960      13\n",
              "                       study object           7644       3\n",
              "methodological entity  data analysis method   2733      20\n",
              "                       research method        4737      16\n",
              "                       sampling                 39       3\n",
              "                       statistical metric     2833       4\n",
              "                       validity                447       4\n",
              "theoretical entity     level of analysis      5464       4\n",
              "                       model                 15619       7\n",
              "                       research paradigm      3615       3\n",
              "                       theory                 1240       9"
            ],
            "text/html": [
              "\n",
              "  <div id=\"df-46d3508a-48f4-4ae7-b5a8-16ac29b09ea8\">\n",
              "    <div class=\"colab-df-container\">\n",
              "      <div>\n",
              "<style scoped>\n",
              "    .dataframe tbody tr th:only-of-type {\n",
              "        vertical-align: middle;\n",
              "    }\n",
              "\n",
              "    .dataframe tbody tr th {\n",
              "        vertical-align: top;\n",
              "    }\n",
              "\n",
              "    .dataframe thead tr th {\n",
              "        text-align: left;\n",
              "    }\n",
              "\n",
              "    .dataframe thead tr:last-of-type th {\n",
              "        text-align: right;\n",
              "    }\n",
              "</style>\n",
              "<table border=\"1\" class=\"dataframe\">\n",
              "  <thead>\n",
              "    <tr>\n",
              "      <th></th>\n",
              "      <th></th>\n",
              "      <th colspan=\"2\" halign=\"left\">ent_id</th>\n",
              "    </tr>\n",
              "    <tr>\n",
              "      <th></th>\n",
              "      <th></th>\n",
              "      <th>count</th>\n",
              "      <th>nunique</th>\n",
              "    </tr>\n",
              "    <tr>\n",
              "      <th>level_1</th>\n",
              "      <th>level_2</th>\n",
              "      <th></th>\n",
              "      <th></th>\n",
              "    </tr>\n",
              "  </thead>\n",
              "  <tbody>\n",
              "    <tr>\n",
              "      <th rowspan=\"4\" valign=\"top\">domain specific entity</th>\n",
              "      <th>IS technology</th>\n",
              "      <td>12211</td>\n",
              "      <td>32</td>\n",
              "    </tr>\n",
              "    <tr>\n",
              "      <th>IS topic</th>\n",
              "      <td>29120</td>\n",
              "      <td>35</td>\n",
              "    </tr>\n",
              "    <tr>\n",
              "      <th>economic sector</th>\n",
              "      <td>2960</td>\n",
              "      <td>13</td>\n",
              "    </tr>\n",
              "    <tr>\n",
              "      <th>study object</th>\n",
              "      <td>7644</td>\n",
              "      <td>3</td>\n",
              "    </tr>\n",
              "    <tr>\n",
              "      <th rowspan=\"5\" valign=\"top\">methodological entity</th>\n",
              "      <th>data analysis method</th>\n",
              "      <td>2733</td>\n",
              "      <td>20</td>\n",
              "    </tr>\n",
              "    <tr>\n",
              "      <th>research method</th>\n",
              "      <td>4737</td>\n",
              "      <td>16</td>\n",
              "    </tr>\n",
              "    <tr>\n",
              "      <th>sampling</th>\n",
              "      <td>39</td>\n",
              "      <td>3</td>\n",
              "    </tr>\n",
              "    <tr>\n",
              "      <th>statistical metric</th>\n",
              "      <td>2833</td>\n",
              "      <td>4</td>\n",
              "    </tr>\n",
              "    <tr>\n",
              "      <th>validity</th>\n",
              "      <td>447</td>\n",
              "      <td>4</td>\n",
              "    </tr>\n",
              "    <tr>\n",
              "      <th rowspan=\"4\" valign=\"top\">theoretical entity</th>\n",
              "      <th>level of analysis</th>\n",
              "      <td>5464</td>\n",
              "      <td>4</td>\n",
              "    </tr>\n",
              "    <tr>\n",
              "      <th>model</th>\n",
              "      <td>15619</td>\n",
              "      <td>7</td>\n",
              "    </tr>\n",
              "    <tr>\n",
              "      <th>research paradigm</th>\n",
              "      <td>3615</td>\n",
              "      <td>3</td>\n",
              "    </tr>\n",
              "    <tr>\n",
              "      <th>theory</th>\n",
              "      <td>1240</td>\n",
              "      <td>9</td>\n",
              "    </tr>\n",
              "  </tbody>\n",
              "</table>\n",
              "</div>\n",
              "      <button class=\"colab-df-convert\" onclick=\"convertToInteractive('df-46d3508a-48f4-4ae7-b5a8-16ac29b09ea8')\"\n",
              "              title=\"Convert this dataframe to an interactive table.\"\n",
              "              style=\"display:none;\">\n",
              "        \n",
              "  <svg xmlns=\"http://www.w3.org/2000/svg\" height=\"24px\"viewBox=\"0 0 24 24\"\n",
              "       width=\"24px\">\n",
              "    <path d=\"M0 0h24v24H0V0z\" fill=\"none\"/>\n",
              "    <path d=\"M18.56 5.44l.94 2.06.94-2.06 2.06-.94-2.06-.94-.94-2.06-.94 2.06-2.06.94zm-11 1L8.5 8.5l.94-2.06 2.06-.94-2.06-.94L8.5 2.5l-.94 2.06-2.06.94zm10 10l.94 2.06.94-2.06 2.06-.94-2.06-.94-.94-2.06-.94 2.06-2.06.94z\"/><path d=\"M17.41 7.96l-1.37-1.37c-.4-.4-.92-.59-1.43-.59-.52 0-1.04.2-1.43.59L10.3 9.45l-7.72 7.72c-.78.78-.78 2.05 0 2.83L4 21.41c.39.39.9.59 1.41.59.51 0 1.02-.2 1.41-.59l7.78-7.78 2.81-2.81c.8-.78.8-2.07 0-2.86zM5.41 20L4 18.59l7.72-7.72 1.47 1.35L5.41 20z\"/>\n",
              "  </svg>\n",
              "      </button>\n",
              "      \n",
              "  <style>\n",
              "    .colab-df-container {\n",
              "      display:flex;\n",
              "      flex-wrap:wrap;\n",
              "      gap: 12px;\n",
              "    }\n",
              "\n",
              "    .colab-df-convert {\n",
              "      background-color: #E8F0FE;\n",
              "      border: none;\n",
              "      border-radius: 50%;\n",
              "      cursor: pointer;\n",
              "      display: none;\n",
              "      fill: #1967D2;\n",
              "      height: 32px;\n",
              "      padding: 0 0 0 0;\n",
              "      width: 32px;\n",
              "    }\n",
              "\n",
              "    .colab-df-convert:hover {\n",
              "      background-color: #E2EBFA;\n",
              "      box-shadow: 0px 1px 2px rgba(60, 64, 67, 0.3), 0px 1px 3px 1px rgba(60, 64, 67, 0.15);\n",
              "      fill: #174EA6;\n",
              "    }\n",
              "\n",
              "    [theme=dark] .colab-df-convert {\n",
              "      background-color: #3B4455;\n",
              "      fill: #D2E3FC;\n",
              "    }\n",
              "\n",
              "    [theme=dark] .colab-df-convert:hover {\n",
              "      background-color: #434B5C;\n",
              "      box-shadow: 0px 1px 3px 1px rgba(0, 0, 0, 0.15);\n",
              "      filter: drop-shadow(0px 1px 2px rgba(0, 0, 0, 0.3));\n",
              "      fill: #FFFFFF;\n",
              "    }\n",
              "  </style>\n",
              "\n",
              "      <script>\n",
              "        const buttonEl =\n",
              "          document.querySelector('#df-46d3508a-48f4-4ae7-b5a8-16ac29b09ea8 button.colab-df-convert');\n",
              "        buttonEl.style.display =\n",
              "          google.colab.kernel.accessAllowed ? 'block' : 'none';\n",
              "\n",
              "        async function convertToInteractive(key) {\n",
              "          const element = document.querySelector('#df-46d3508a-48f4-4ae7-b5a8-16ac29b09ea8');\n",
              "          const dataTable =\n",
              "            await google.colab.kernel.invokeFunction('convertToInteractive',\n",
              "                                                     [key], {});\n",
              "          if (!dataTable) return;\n",
              "\n",
              "          const docLinkHtml = 'Like what you see? Visit the ' +\n",
              "            '<a target=\"_blank\" href=https://colab.research.google.com/notebooks/data_table.ipynb>data table notebook</a>'\n",
              "            + ' to learn more about interactive tables.';\n",
              "          element.innerHTML = '';\n",
              "          dataTable['output_type'] = 'display_data';\n",
              "          await google.colab.output.renderOutput(dataTable, element);\n",
              "          const docLink = document.createElement('div');\n",
              "          docLink.innerHTML = docLinkHtml;\n",
              "          element.appendChild(docLink);\n",
              "        }\n",
              "      </script>\n",
              "    </div>\n",
              "  </div>\n",
              "  "
            ]
          },
          "metadata": {},
          "execution_count": 42
        }
      ]
    },
    {
      "cell_type": "markdown",
      "source": [
        "##### Entities + noun phrases"
      ],
      "metadata": {
        "id": "VWO0VOlNc2WT"
      }
    },
    {
      "cell_type": "markdown",
      "source": [
        "Let's now create the test dataset of the entities + noun phrases"
      ],
      "metadata": {
        "id": "zlMtiVDYc2WU"
      }
    },
    {
      "cell_type": "code",
      "source": [
        "# Select every 3rd row from the entities removed as part of the test set\n",
        "test_ent_df = entities_to_removed.sort_values([\"level_1\", \"level_2\"]).reset_index(drop=True).iloc[::3, :]"
      ],
      "metadata": {
        "id": "5356VVxVxuSY"
      },
      "execution_count": 43,
      "outputs": []
    },
    {
      "cell_type": "code",
      "source": [
        "test_entities_list = [x for xs in test_ent_df.ent_list.to_list() for x in xs] "
      ],
      "metadata": {
        "id": "kJ-gxyNY0vmp"
      },
      "execution_count": 44,
      "outputs": []
    },
    {
      "cell_type": "code",
      "source": [
        "# Create train dataframe which does NOT contain any of the entities and porential children\n",
        "entities_test = entities[entities.ent_id.isin(test_entities_list)]\n",
        "entities_test.shape"
      ],
      "metadata": {
        "colab": {
          "base_uri": "https://localhost:8080/"
        },
        "id": "kI75Cvx71CqT",
        "outputId": "cf347888-722b-42fc-e14a-cd71e9f9e947"
      },
      "execution_count": 45,
      "outputs": [
        {
          "output_type": "execute_result",
          "data": {
            "text/plain": [
              "(29080, 13)"
            ]
          },
          "metadata": {},
          "execution_count": 45
        }
      ]
    },
    {
      "cell_type": "code",
      "source": [
        "entities_test.ent_id.nunique()"
      ],
      "metadata": {
        "id": "jUHGPEIBekdp",
        "outputId": "c29b60e9-5cf6-490d-ef24-5912631dc807",
        "colab": {
          "base_uri": "https://localhost:8080/"
        }
      },
      "execution_count": 46,
      "outputs": [
        {
          "output_type": "execute_result",
          "data": {
            "text/plain": [
              "52"
            ]
          },
          "metadata": {},
          "execution_count": 46
        }
      ]
    },
    {
      "cell_type": "code",
      "source": [
        "# This entity table now has to be merged with the noun phrases of each sentence\n",
        "entities_test.head(2)"
      ],
      "metadata": {
        "id": "jz3G2Mx1-WG7",
        "outputId": "d7959b4d-33de-434b-9ad2-70bbf61ff8dc",
        "colab": {
          "base_uri": "https://localhost:8080/",
          "height": 191
        }
      },
      "execution_count": 47,
      "outputs": [
        {
          "output_type": "execute_result",
          "data": {
            "text/plain": [
              "     article_id    sentence_id             ent_id                 level_1  \\\n",
              "407         190  190_7560_7615  group participant  domain specific entity   \n",
              "424         190  190_8074_8122   control variable      theoretical entity   \n",
              "\n",
              "          level_2        level_3            level_4           level_5 level_6  \\\n",
              "407  study object    participant  group participant               NaN     NaN   \n",
              "424         model  model element           variable  control variable     NaN   \n",
              "\n",
              "    level_7 level_8 level_9 level_10  \n",
              "407     NaN     NaN     NaN      NaN  \n",
              "424     NaN     NaN     NaN      NaN  "
            ],
            "text/html": [
              "\n",
              "  <div id=\"df-e6c2c9fd-726a-4403-943c-6e82dba6b367\">\n",
              "    <div class=\"colab-df-container\">\n",
              "      <div>\n",
              "<style scoped>\n",
              "    .dataframe tbody tr th:only-of-type {\n",
              "        vertical-align: middle;\n",
              "    }\n",
              "\n",
              "    .dataframe tbody tr th {\n",
              "        vertical-align: top;\n",
              "    }\n",
              "\n",
              "    .dataframe thead th {\n",
              "        text-align: right;\n",
              "    }\n",
              "</style>\n",
              "<table border=\"1\" class=\"dataframe\">\n",
              "  <thead>\n",
              "    <tr style=\"text-align: right;\">\n",
              "      <th></th>\n",
              "      <th>article_id</th>\n",
              "      <th>sentence_id</th>\n",
              "      <th>ent_id</th>\n",
              "      <th>level_1</th>\n",
              "      <th>level_2</th>\n",
              "      <th>level_3</th>\n",
              "      <th>level_4</th>\n",
              "      <th>level_5</th>\n",
              "      <th>level_6</th>\n",
              "      <th>level_7</th>\n",
              "      <th>level_8</th>\n",
              "      <th>level_9</th>\n",
              "      <th>level_10</th>\n",
              "    </tr>\n",
              "  </thead>\n",
              "  <tbody>\n",
              "    <tr>\n",
              "      <th>407</th>\n",
              "      <td>190</td>\n",
              "      <td>190_7560_7615</td>\n",
              "      <td>group participant</td>\n",
              "      <td>domain specific entity</td>\n",
              "      <td>study object</td>\n",
              "      <td>participant</td>\n",
              "      <td>group participant</td>\n",
              "      <td>NaN</td>\n",
              "      <td>NaN</td>\n",
              "      <td>NaN</td>\n",
              "      <td>NaN</td>\n",
              "      <td>NaN</td>\n",
              "      <td>NaN</td>\n",
              "    </tr>\n",
              "    <tr>\n",
              "      <th>424</th>\n",
              "      <td>190</td>\n",
              "      <td>190_8074_8122</td>\n",
              "      <td>control variable</td>\n",
              "      <td>theoretical entity</td>\n",
              "      <td>model</td>\n",
              "      <td>model element</td>\n",
              "      <td>variable</td>\n",
              "      <td>control variable</td>\n",
              "      <td>NaN</td>\n",
              "      <td>NaN</td>\n",
              "      <td>NaN</td>\n",
              "      <td>NaN</td>\n",
              "      <td>NaN</td>\n",
              "    </tr>\n",
              "  </tbody>\n",
              "</table>\n",
              "</div>\n",
              "      <button class=\"colab-df-convert\" onclick=\"convertToInteractive('df-e6c2c9fd-726a-4403-943c-6e82dba6b367')\"\n",
              "              title=\"Convert this dataframe to an interactive table.\"\n",
              "              style=\"display:none;\">\n",
              "        \n",
              "  <svg xmlns=\"http://www.w3.org/2000/svg\" height=\"24px\"viewBox=\"0 0 24 24\"\n",
              "       width=\"24px\">\n",
              "    <path d=\"M0 0h24v24H0V0z\" fill=\"none\"/>\n",
              "    <path d=\"M18.56 5.44l.94 2.06.94-2.06 2.06-.94-2.06-.94-.94-2.06-.94 2.06-2.06.94zm-11 1L8.5 8.5l.94-2.06 2.06-.94-2.06-.94L8.5 2.5l-.94 2.06-2.06.94zm10 10l.94 2.06.94-2.06 2.06-.94-2.06-.94-.94-2.06-.94 2.06-2.06.94z\"/><path d=\"M17.41 7.96l-1.37-1.37c-.4-.4-.92-.59-1.43-.59-.52 0-1.04.2-1.43.59L10.3 9.45l-7.72 7.72c-.78.78-.78 2.05 0 2.83L4 21.41c.39.39.9.59 1.41.59.51 0 1.02-.2 1.41-.59l7.78-7.78 2.81-2.81c.8-.78.8-2.07 0-2.86zM5.41 20L4 18.59l7.72-7.72 1.47 1.35L5.41 20z\"/>\n",
              "  </svg>\n",
              "      </button>\n",
              "      \n",
              "  <style>\n",
              "    .colab-df-container {\n",
              "      display:flex;\n",
              "      flex-wrap:wrap;\n",
              "      gap: 12px;\n",
              "    }\n",
              "\n",
              "    .colab-df-convert {\n",
              "      background-color: #E8F0FE;\n",
              "      border: none;\n",
              "      border-radius: 50%;\n",
              "      cursor: pointer;\n",
              "      display: none;\n",
              "      fill: #1967D2;\n",
              "      height: 32px;\n",
              "      padding: 0 0 0 0;\n",
              "      width: 32px;\n",
              "    }\n",
              "\n",
              "    .colab-df-convert:hover {\n",
              "      background-color: #E2EBFA;\n",
              "      box-shadow: 0px 1px 2px rgba(60, 64, 67, 0.3), 0px 1px 3px 1px rgba(60, 64, 67, 0.15);\n",
              "      fill: #174EA6;\n",
              "    }\n",
              "\n",
              "    [theme=dark] .colab-df-convert {\n",
              "      background-color: #3B4455;\n",
              "      fill: #D2E3FC;\n",
              "    }\n",
              "\n",
              "    [theme=dark] .colab-df-convert:hover {\n",
              "      background-color: #434B5C;\n",
              "      box-shadow: 0px 1px 3px 1px rgba(0, 0, 0, 0.15);\n",
              "      filter: drop-shadow(0px 1px 2px rgba(0, 0, 0, 0.3));\n",
              "      fill: #FFFFFF;\n",
              "    }\n",
              "  </style>\n",
              "\n",
              "      <script>\n",
              "        const buttonEl =\n",
              "          document.querySelector('#df-e6c2c9fd-726a-4403-943c-6e82dba6b367 button.colab-df-convert');\n",
              "        buttonEl.style.display =\n",
              "          google.colab.kernel.accessAllowed ? 'block' : 'none';\n",
              "\n",
              "        async function convertToInteractive(key) {\n",
              "          const element = document.querySelector('#df-e6c2c9fd-726a-4403-943c-6e82dba6b367');\n",
              "          const dataTable =\n",
              "            await google.colab.kernel.invokeFunction('convertToInteractive',\n",
              "                                                     [key], {});\n",
              "          if (!dataTable) return;\n",
              "\n",
              "          const docLinkHtml = 'Like what you see? Visit the ' +\n",
              "            '<a target=\"_blank\" href=https://colab.research.google.com/notebooks/data_table.ipynb>data table notebook</a>'\n",
              "            + ' to learn more about interactive tables.';\n",
              "          element.innerHTML = '';\n",
              "          dataTable['output_type'] = 'display_data';\n",
              "          await google.colab.output.renderOutput(dataTable, element);\n",
              "          const docLink = document.createElement('div');\n",
              "          docLink.innerHTML = docLinkHtml;\n",
              "          element.appendChild(docLink);\n",
              "        }\n",
              "      </script>\n",
              "    </div>\n",
              "  </div>\n",
              "  "
            ]
          },
          "metadata": {},
          "execution_count": 47
        }
      ]
    },
    {
      "cell_type": "code",
      "source": [
        "# Blocker merge with noun phrases"
      ],
      "metadata": {
        "id": "9vgRJWJa-dWL"
      },
      "execution_count": 48,
      "outputs": []
    },
    {
      "cell_type": "code",
      "source": [
        ""
      ],
      "metadata": {
        "id": "-R7Z361N-dKS"
      },
      "execution_count": 48,
      "outputs": []
    },
    {
      "cell_type": "code",
      "source": [
        "# Store test df as .csv\n",
        "entities_test.to_csv(data_path_group+\"NER_entities_test.csv\")"
      ],
      "metadata": {
        "id": "nsNY8rWk2Wzg"
      },
      "execution_count": 49,
      "outputs": []
    },
    {
      "cell_type": "markdown",
      "source": [
        "##### Ontology + Synonyms"
      ],
      "metadata": {
        "id": "x-JjE1yhcyXb"
      }
    },
    {
      "cell_type": "markdown",
      "source": [
        "Let's now create the test dataset of the ontology + synonyms"
      ],
      "metadata": {
        "id": "QkFKREiHcyXb"
      }
    },
    {
      "cell_type": "code",
      "source": [
        "# Filter entities & synonyms to only include the entities which are present in the training set \n",
        "ontology_test = ontology_syn[ontology_syn.entity_id.isin(entities_test.ent_id)]"
      ],
      "metadata": {
        "id": "u9P6lV3XcyXb"
      },
      "execution_count": 50,
      "outputs": []
    },
    {
      "cell_type": "code",
      "source": [
        "ontology_test.shape"
      ],
      "metadata": {
        "id": "LDdzncf4d-cA",
        "outputId": "eabd7b54-2390-4330-aca1-d201eebdbf9a",
        "colab": {
          "base_uri": "https://localhost:8080/"
        }
      },
      "execution_count": 51,
      "outputs": [
        {
          "output_type": "execute_result",
          "data": {
            "text/plain": [
              "(5205, 4)"
            ]
          },
          "metadata": {},
          "execution_count": 51
        }
      ]
    },
    {
      "cell_type": "code",
      "source": [
        "# Store ontology_train df as .csv\n",
        "ontology_test.to_csv(data_path_group+\"NER_ontology_test.csv\")"
      ],
      "metadata": {
        "id": "VRKcDoyQcyXc"
      },
      "execution_count": 52,
      "outputs": []
    },
    {
      "cell_type": "markdown",
      "source": [
        "#### Create validation datasets"
      ],
      "metadata": {
        "id": "NST6Iw612WgK"
      }
    },
    {
      "cell_type": "markdown",
      "source": [
        "##### Entities + noun phrases"
      ],
      "metadata": {
        "id": "SZ8ri6QddphW"
      }
    },
    {
      "cell_type": "markdown",
      "source": [
        "Let's now create the validation dataset of the entities + noun phrases"
      ],
      "metadata": {
        "id": "RKyOiEZ9dphW"
      }
    },
    {
      "cell_type": "code",
      "source": [
        "# Select all rows/ entities which have not been selected for the test set \n",
        "val_ent_df = entities_to_removed[~entities_to_removed.entity_id_to_remove.isin(test_entities_list)]"
      ],
      "metadata": {
        "id": "nEt9Wkip1YZQ"
      },
      "execution_count": 53,
      "outputs": []
    },
    {
      "cell_type": "code",
      "source": [
        "# flatten list\n",
        "val_entities_list = [x for xs in val_ent_df.ent_list.to_list() for x in xs] "
      ],
      "metadata": {
        "id": "iFSaxL4b2AzE"
      },
      "execution_count": 54,
      "outputs": []
    },
    {
      "cell_type": "code",
      "source": [
        "# Create train dataframe which does NOT contain any of the entities and porential children\n",
        "entities_val = entities[entities.ent_id.isin(val_entities_list)]\n",
        "entities_val.shape"
      ],
      "metadata": {
        "colab": {
          "base_uri": "https://localhost:8080/"
        },
        "id": "ACV9x9eh2Av_",
        "outputId": "535aedf1-3f81-45c6-d405-b6a05233c3b1"
      },
      "execution_count": 55,
      "outputs": [
        {
          "output_type": "execute_result",
          "data": {
            "text/plain": [
              "(59582, 13)"
            ]
          },
          "metadata": {},
          "execution_count": 55
        }
      ]
    },
    {
      "cell_type": "code",
      "source": [
        "entities_val.ent_id.nunique()"
      ],
      "metadata": {
        "id": "OxtTcGDPebxx",
        "outputId": "2b690107-d5ba-49b7-8266-6d347fd2a350",
        "colab": {
          "base_uri": "https://localhost:8080/"
        }
      },
      "execution_count": 56,
      "outputs": [
        {
          "output_type": "execute_result",
          "data": {
            "text/plain": [
              "101"
            ]
          },
          "metadata": {},
          "execution_count": 56
        }
      ]
    },
    {
      "cell_type": "code",
      "source": [
        "# This entity table now has to be merged with the noun phrases of each sentence\n",
        "entities_val.head(2)"
      ],
      "metadata": {
        "id": "_Lg_a2xC-Z2t",
        "outputId": "92775c9d-bfef-4ee8-c27e-92cf2d2a40a1",
        "colab": {
          "base_uri": "https://localhost:8080/",
          "height": 208
        }
      },
      "execution_count": 57,
      "outputs": [
        {
          "output_type": "execute_result",
          "data": {
            "text/plain": [
              "     article_id    sentence_id                        ent_id  \\\n",
              "237         189  189_4267_4292                   causal link   \n",
              "365         190  190_5779_5825  business process improvement   \n",
              "\n",
              "                    level_1   level_2                      level_3  \\\n",
              "237      theoretical entity     model                model element   \n",
              "365  domain specific entity  IS topic  business process management   \n",
              "\n",
              "                       level_4                       level_5      level_6  \\\n",
              "237                 model link              theoretical link  causal link   \n",
              "365  business process redesign  business process improvement          NaN   \n",
              "\n",
              "    level_7 level_8 level_9 level_10  \n",
              "237     NaN     NaN     NaN      NaN  \n",
              "365     NaN     NaN     NaN      NaN  "
            ],
            "text/html": [
              "\n",
              "  <div id=\"df-6cffa337-2fd2-4b4f-beeb-9d8d13c297d4\">\n",
              "    <div class=\"colab-df-container\">\n",
              "      <div>\n",
              "<style scoped>\n",
              "    .dataframe tbody tr th:only-of-type {\n",
              "        vertical-align: middle;\n",
              "    }\n",
              "\n",
              "    .dataframe tbody tr th {\n",
              "        vertical-align: top;\n",
              "    }\n",
              "\n",
              "    .dataframe thead th {\n",
              "        text-align: right;\n",
              "    }\n",
              "</style>\n",
              "<table border=\"1\" class=\"dataframe\">\n",
              "  <thead>\n",
              "    <tr style=\"text-align: right;\">\n",
              "      <th></th>\n",
              "      <th>article_id</th>\n",
              "      <th>sentence_id</th>\n",
              "      <th>ent_id</th>\n",
              "      <th>level_1</th>\n",
              "      <th>level_2</th>\n",
              "      <th>level_3</th>\n",
              "      <th>level_4</th>\n",
              "      <th>level_5</th>\n",
              "      <th>level_6</th>\n",
              "      <th>level_7</th>\n",
              "      <th>level_8</th>\n",
              "      <th>level_9</th>\n",
              "      <th>level_10</th>\n",
              "    </tr>\n",
              "  </thead>\n",
              "  <tbody>\n",
              "    <tr>\n",
              "      <th>237</th>\n",
              "      <td>189</td>\n",
              "      <td>189_4267_4292</td>\n",
              "      <td>causal link</td>\n",
              "      <td>theoretical entity</td>\n",
              "      <td>model</td>\n",
              "      <td>model element</td>\n",
              "      <td>model link</td>\n",
              "      <td>theoretical link</td>\n",
              "      <td>causal link</td>\n",
              "      <td>NaN</td>\n",
              "      <td>NaN</td>\n",
              "      <td>NaN</td>\n",
              "      <td>NaN</td>\n",
              "    </tr>\n",
              "    <tr>\n",
              "      <th>365</th>\n",
              "      <td>190</td>\n",
              "      <td>190_5779_5825</td>\n",
              "      <td>business process improvement</td>\n",
              "      <td>domain specific entity</td>\n",
              "      <td>IS topic</td>\n",
              "      <td>business process management</td>\n",
              "      <td>business process redesign</td>\n",
              "      <td>business process improvement</td>\n",
              "      <td>NaN</td>\n",
              "      <td>NaN</td>\n",
              "      <td>NaN</td>\n",
              "      <td>NaN</td>\n",
              "      <td>NaN</td>\n",
              "    </tr>\n",
              "  </tbody>\n",
              "</table>\n",
              "</div>\n",
              "      <button class=\"colab-df-convert\" onclick=\"convertToInteractive('df-6cffa337-2fd2-4b4f-beeb-9d8d13c297d4')\"\n",
              "              title=\"Convert this dataframe to an interactive table.\"\n",
              "              style=\"display:none;\">\n",
              "        \n",
              "  <svg xmlns=\"http://www.w3.org/2000/svg\" height=\"24px\"viewBox=\"0 0 24 24\"\n",
              "       width=\"24px\">\n",
              "    <path d=\"M0 0h24v24H0V0z\" fill=\"none\"/>\n",
              "    <path d=\"M18.56 5.44l.94 2.06.94-2.06 2.06-.94-2.06-.94-.94-2.06-.94 2.06-2.06.94zm-11 1L8.5 8.5l.94-2.06 2.06-.94-2.06-.94L8.5 2.5l-.94 2.06-2.06.94zm10 10l.94 2.06.94-2.06 2.06-.94-2.06-.94-.94-2.06-.94 2.06-2.06.94z\"/><path d=\"M17.41 7.96l-1.37-1.37c-.4-.4-.92-.59-1.43-.59-.52 0-1.04.2-1.43.59L10.3 9.45l-7.72 7.72c-.78.78-.78 2.05 0 2.83L4 21.41c.39.39.9.59 1.41.59.51 0 1.02-.2 1.41-.59l7.78-7.78 2.81-2.81c.8-.78.8-2.07 0-2.86zM5.41 20L4 18.59l7.72-7.72 1.47 1.35L5.41 20z\"/>\n",
              "  </svg>\n",
              "      </button>\n",
              "      \n",
              "  <style>\n",
              "    .colab-df-container {\n",
              "      display:flex;\n",
              "      flex-wrap:wrap;\n",
              "      gap: 12px;\n",
              "    }\n",
              "\n",
              "    .colab-df-convert {\n",
              "      background-color: #E8F0FE;\n",
              "      border: none;\n",
              "      border-radius: 50%;\n",
              "      cursor: pointer;\n",
              "      display: none;\n",
              "      fill: #1967D2;\n",
              "      height: 32px;\n",
              "      padding: 0 0 0 0;\n",
              "      width: 32px;\n",
              "    }\n",
              "\n",
              "    .colab-df-convert:hover {\n",
              "      background-color: #E2EBFA;\n",
              "      box-shadow: 0px 1px 2px rgba(60, 64, 67, 0.3), 0px 1px 3px 1px rgba(60, 64, 67, 0.15);\n",
              "      fill: #174EA6;\n",
              "    }\n",
              "\n",
              "    [theme=dark] .colab-df-convert {\n",
              "      background-color: #3B4455;\n",
              "      fill: #D2E3FC;\n",
              "    }\n",
              "\n",
              "    [theme=dark] .colab-df-convert:hover {\n",
              "      background-color: #434B5C;\n",
              "      box-shadow: 0px 1px 3px 1px rgba(0, 0, 0, 0.15);\n",
              "      filter: drop-shadow(0px 1px 2px rgba(0, 0, 0, 0.3));\n",
              "      fill: #FFFFFF;\n",
              "    }\n",
              "  </style>\n",
              "\n",
              "      <script>\n",
              "        const buttonEl =\n",
              "          document.querySelector('#df-6cffa337-2fd2-4b4f-beeb-9d8d13c297d4 button.colab-df-convert');\n",
              "        buttonEl.style.display =\n",
              "          google.colab.kernel.accessAllowed ? 'block' : 'none';\n",
              "\n",
              "        async function convertToInteractive(key) {\n",
              "          const element = document.querySelector('#df-6cffa337-2fd2-4b4f-beeb-9d8d13c297d4');\n",
              "          const dataTable =\n",
              "            await google.colab.kernel.invokeFunction('convertToInteractive',\n",
              "                                                     [key], {});\n",
              "          if (!dataTable) return;\n",
              "\n",
              "          const docLinkHtml = 'Like what you see? Visit the ' +\n",
              "            '<a target=\"_blank\" href=https://colab.research.google.com/notebooks/data_table.ipynb>data table notebook</a>'\n",
              "            + ' to learn more about interactive tables.';\n",
              "          element.innerHTML = '';\n",
              "          dataTable['output_type'] = 'display_data';\n",
              "          await google.colab.output.renderOutput(dataTable, element);\n",
              "          const docLink = document.createElement('div');\n",
              "          docLink.innerHTML = docLinkHtml;\n",
              "          element.appendChild(docLink);\n",
              "        }\n",
              "      </script>\n",
              "    </div>\n",
              "  </div>\n",
              "  "
            ]
          },
          "metadata": {},
          "execution_count": 57
        }
      ]
    },
    {
      "cell_type": "code",
      "source": [
        "# Blocker merge with noun phrases"
      ],
      "metadata": {
        "id": "ZgNAmFyQ-bzV"
      },
      "execution_count": 58,
      "outputs": []
    },
    {
      "cell_type": "code",
      "source": [
        ""
      ],
      "metadata": {
        "id": "WuONLeNd-bll"
      },
      "execution_count": 58,
      "outputs": []
    },
    {
      "cell_type": "code",
      "source": [
        "# Store test df as .csv\n",
        "entities_val.to_csv(data_path_group+\"NER_entities_val.csv\")"
      ],
      "metadata": {
        "id": "7sWiRoCN2h2t"
      },
      "execution_count": 59,
      "outputs": []
    },
    {
      "cell_type": "markdown",
      "source": [
        "##### Ontology + Synonyms"
      ],
      "metadata": {
        "id": "3aqfoaVCdiiL"
      }
    },
    {
      "cell_type": "markdown",
      "source": [
        "Let's now create the validation dataset of the ontology + synonyms"
      ],
      "metadata": {
        "id": "gG-FjWB0diiL"
      }
    },
    {
      "cell_type": "code",
      "source": [
        "# Filter entities & synonyms to only include the entities which are present in the training set \n",
        "ontology_val = ontology_syn[ontology_syn.entity_id.isin(entities_val.ent_id)]"
      ],
      "metadata": {
        "id": "wdhhp83RdiiL"
      },
      "execution_count": 60,
      "outputs": []
    },
    {
      "cell_type": "code",
      "source": [
        "ontology_val.shape"
      ],
      "metadata": {
        "id": "zDrYXmfed4nQ",
        "outputId": "ec253f88-6556-4198-bd4a-73a6ae8813d2",
        "colab": {
          "base_uri": "https://localhost:8080/"
        }
      },
      "execution_count": 61,
      "outputs": [
        {
          "output_type": "execute_result",
          "data": {
            "text/plain": [
              "(1864, 4)"
            ]
          },
          "metadata": {},
          "execution_count": 61
        }
      ]
    },
    {
      "cell_type": "code",
      "source": [
        "# Store ontology_train df as .csv\n",
        "ontology_val.to_csv(data_path_group+\"NER_ontology_val.csv\")"
      ],
      "metadata": {
        "id": "QZ-kDPSCdiiM"
      },
      "execution_count": 62,
      "outputs": []
    },
    {
      "cell_type": "markdown",
      "source": [
        "## Synonym Detection"
      ],
      "metadata": {
        "id": "w5LNySt14NqM"
      }
    },
    {
      "cell_type": "markdown",
      "source": [
        "In order to determine how well our model/embeddings are in identifing new synonyms of existing entities we have to create a `train-val-test split` version of the existing ontology. Meaning we have to remove some synonyms from the ontology for training. \n"
      ],
      "metadata": {
        "id": "h8jDfMs7-x-f"
      }
    },
    {
      "cell_type": "code",
      "source": [
        "#In Rolands DB there is no information which of the synonyms it used in order to lable this specific sentence!!!"
      ],
      "metadata": {
        "id": "kq-Ir1BM-xwy"
      },
      "execution_count": 63,
      "outputs": []
    },
    {
      "cell_type": "markdown",
      "source": [
        "### Ontology + synonyms"
      ],
      "metadata": {
        "id": "vjjLSq1zfOoF"
      }
    },
    {
      "cell_type": "code",
      "source": [
        "# Import train test split from sklearn\n",
        "from sklearn.model_selection import train_test_split"
      ],
      "metadata": {
        "id": "oCv3ZAWKfaCQ"
      },
      "execution_count": 64,
      "outputs": []
    },
    {
      "cell_type": "code",
      "source": [
        "# Check shape of complete ontology\n",
        "ontology_syn.shape"
      ],
      "metadata": {
        "id": "R2PED_iHgJet",
        "outputId": "87c644bc-b25c-4592-b3dc-ea3686088250",
        "colab": {
          "base_uri": "https://localhost:8080/"
        }
      },
      "execution_count": 65,
      "outputs": [
        {
          "output_type": "execute_result",
          "data": {
            "text/plain": [
              "(397942, 4)"
            ]
          },
          "metadata": {},
          "execution_count": 65
        }
      ]
    },
    {
      "cell_type": "code",
      "source": [
        "# Filter out main entity ids since these should not be removed\n",
        "ontology_syn_wo_main = ontology_syn[ontology_syn.entity_id.str.lower().str.strip()!=ontology_syn.synonym.str.lower().str.strip()]"
      ],
      "metadata": {
        "id": "nqP1GuuJiqcu"
      },
      "execution_count": 66,
      "outputs": []
    },
    {
      "cell_type": "code",
      "source": [
        "# Split synonyms into train & test (5% test size)\n",
        "SynDet_ontology_train, SynDet_ontology_test = train_test_split(ontology_syn_wo_main, test_size=0.05, random_state=42)"
      ],
      "metadata": {
        "id": "6uGv1N3Xfz9S"
      },
      "execution_count": 67,
      "outputs": []
    },
    {
      "cell_type": "code",
      "source": [
        "print(\"Shape of test set:\", SynDet_ontology_test.shape)"
      ],
      "metadata": {
        "id": "uuKmAjZrgQvk",
        "outputId": "723315e0-3172-4aa1-9238-d4a7a4958e9e",
        "colab": {
          "base_uri": "https://localhost:8080/"
        }
      },
      "execution_count": 68,
      "outputs": [
        {
          "output_type": "stream",
          "name": "stdout",
          "text": [
            "Shape of test set: (19769, 4)\n"
          ]
        }
      ]
    },
    {
      "cell_type": "code",
      "source": [
        "# Split SynDet_ontology_train into train & validation (10% validation size)\n",
        "SynDet_ontology_train, SynDet_ontology_val = train_test_split(SynDet_ontology_train, test_size=0.1, random_state=42) "
      ],
      "metadata": {
        "id": "Wax7fdLMfz48"
      },
      "execution_count": 69,
      "outputs": []
    },
    {
      "cell_type": "code",
      "source": [
        "print(\"Shape of train set:\", SynDet_ontology_train.shape)\n",
        "print(\"Shape of train set:\", SynDet_ontology_val.shape)"
      ],
      "metadata": {
        "id": "58o4fx31fzzv",
        "outputId": "512a421b-e206-4274-d25c-332f3734ab4f",
        "colab": {
          "base_uri": "https://localhost:8080/"
        }
      },
      "execution_count": 70,
      "outputs": [
        {
          "output_type": "stream",
          "name": "stdout",
          "text": [
            "Shape of train set: (338037, 4)\n",
            "Shape of train set: (37560, 4)\n"
          ]
        }
      ]
    },
    {
      "cell_type": "code",
      "source": [
        "# Store train, val & test splits as csv\n",
        "SynDet_ontology_train.to_csv(data_path_group+\"SynDet_ontology_train.csv\")\n",
        "SynDet_ontology_val.to_csv(data_path_group+\"SynDet_ontology_val.csv\")\n",
        "SynDet_ontology_test.to_csv(data_path_group+\"SynDet_ontology_test.csv\")"
      ],
      "metadata": {
        "id": "6al4Oq_9hRxH"
      },
      "execution_count": 71,
      "outputs": []
    },
    {
      "cell_type": "markdown",
      "source": [
        "### Entities + noun phrases"
      ],
      "metadata": {
        "id": "hVEo-GzdE8lF"
      }
    },
    {
      "cell_type": "code",
      "source": [
        "# Create train dataframe which ONLY contains the main entities fom the train set\n",
        "SynDet_entities_train = entities[entities.ent_id.isin(SynDet_ontology_train.entity_id)]\n",
        "SynDet_entities_train.shape"
      ],
      "metadata": {
        "id": "RwJkUyzNhs_D",
        "outputId": "3806da1b-6157-4790-ecd4-a371919fb49e",
        "colab": {
          "base_uri": "https://localhost:8080/"
        }
      },
      "execution_count": 72,
      "outputs": [
        {
          "output_type": "execute_result",
          "data": {
            "text/plain": [
              "(1766816, 13)"
            ]
          },
          "metadata": {},
          "execution_count": 72
        }
      ]
    },
    {
      "cell_type": "code",
      "source": [
        ""
      ],
      "metadata": {
        "id": "dQL4-o6HkFmc"
      },
      "execution_count": 72,
      "outputs": []
    },
    {
      "cell_type": "code",
      "source": [
        "# Create val dataframe which ONLY contains the main entities fom the val set\n",
        "SynDet_entities_val = entities[entities.ent_id.isin(SynDet_ontology_val.entity_id)]\n",
        "SynDet_entities_val.shape"
      ],
      "metadata": {
        "id": "D0hEI55oiHiS",
        "outputId": "26add978-45bb-4ad5-dff6-6ba0c7f187c8",
        "colab": {
          "base_uri": "https://localhost:8080/"
        }
      },
      "execution_count": 73,
      "outputs": [
        {
          "output_type": "execute_result",
          "data": {
            "text/plain": [
              "(1286549, 13)"
            ]
          },
          "metadata": {},
          "execution_count": 73
        }
      ]
    },
    {
      "cell_type": "code",
      "source": [
        "# Create test dataframe which ONLY contains the main entities fom the test set\n",
        "SynDet_entities_test = entities[entities.ent_id.isin(SynDet_ontology_test.entity_id)]\n",
        "SynDet_entities_test.shape"
      ],
      "metadata": {
        "id": "VhqrPnGbiLkW",
        "outputId": "52e399c2-6302-42a1-fb3f-abb1f93c5fcb",
        "colab": {
          "base_uri": "https://localhost:8080/"
        }
      },
      "execution_count": 74,
      "outputs": [
        {
          "output_type": "execute_result",
          "data": {
            "text/plain": [
              "(1079651, 13)"
            ]
          },
          "metadata": {},
          "execution_count": 74
        }
      ]
    },
    {
      "cell_type": "code",
      "source": [
        "# Check shape of original entities table\n",
        "entities.shape"
      ],
      "metadata": {
        "id": "hEy3F_iciS0g",
        "outputId": "0592ffcf-49ee-4258-9f75-40314f87c44c",
        "colab": {
          "base_uri": "https://localhost:8080/"
        }
      },
      "execution_count": 75,
      "outputs": [
        {
          "output_type": "execute_result",
          "data": {
            "text/plain": [
              "(1797740, 13)"
            ]
          },
          "metadata": {},
          "execution_count": 75
        }
      ]
    },
    {
      "cell_type": "markdown",
      "source": [
        "☝ Please notice that the number of total rows of the train, val and test set of the entites is higher than the original number of entities. This is because we only removed some synonyms, but the entities in the duckdb are all mapped to the \"main entity id\". Therefore one sentence might end up in all three datasets, but the corresponding synonym which was used to tag this sentence in the first place now was removed. "
      ],
      "metadata": {
        "id": "SSmWXr3JjNA5"
      }
    },
    {
      "cell_type": "code",
      "source": [
        "# Save entities as csv\n",
        "SynDet_entities_train.to_csv(data_path_group+\"SynDet_entities_train.csv\")\n",
        "SynDet_entities_val.to_csv(data_path_group+\"SynDet_entities_val.csv\")\n",
        "SynDet_entities_test.to_csv(data_path_group+\"SynDet_entities_test.csv\")"
      ],
      "metadata": {
        "id": "42SV-3aMiXTJ"
      },
      "execution_count": 76,
      "outputs": []
    },
    {
      "cell_type": "code",
      "source": [
        ""
      ],
      "metadata": {
        "id": "48BTMgACkwr0"
      },
      "execution_count": 76,
      "outputs": []
    }
  ]
}