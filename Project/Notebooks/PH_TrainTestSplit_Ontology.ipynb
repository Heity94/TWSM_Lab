{
  "nbformat": 4,
  "nbformat_minor": 0,
  "metadata": {
    "colab": {
      "name": "PH_TrainTestSplit_Ontology.ipynb",
      "provenance": [],
      "collapsed_sections": [],
      "toc_visible": true,
      "authorship_tag": "ABX9TyP/5n1aeHSlXamcNrM2JK45",
      "include_colab_link": true
    },
    "kernelspec": {
      "name": "python3",
      "display_name": "Python 3"
    },
    "language_info": {
      "name": "python"
    }
  },
  "cells": [
    {
      "cell_type": "markdown",
      "metadata": {
        "id": "view-in-github",
        "colab_type": "text"
      },
      "source": [
        "<a href=\"https://colab.research.google.com/github/Heity94/TWSM_Lab/blob/main/Project/Notebooks/PH_TrainTestSplit_Ontology.ipynb\" target=\"_parent\"><img src=\"https://colab.research.google.com/assets/colab-badge.svg\" alt=\"Open In Colab\"/></a>"
      ]
    },
    {
      "cell_type": "code",
      "source": [
        "# Declare whether you are on Colab or local\n",
        "colab = True"
      ],
      "metadata": {
        "id": "ZLCnX2r2075S"
      },
      "execution_count": 1,
      "outputs": []
    },
    {
      "cell_type": "code",
      "source": [
        "if colab==True:\n",
        "  \n",
        "  #Mount drive\n",
        "  from google.colab import drive\n",
        "  drive.mount('/content/drive')\n",
        "\n",
        "  #set path to data in Google Drive\n",
        "  data_path = \"/content/drive/MyDrive/2022_Analytics Lab Student Projects/Data/All Topics\"\n",
        "\n",
        "  #install required packages\n",
        "  !pip install duckdb\n",
        "  #!pip install -U sentence-transformers"
      ],
      "metadata": {
        "id": "gnOLlVER1KDP",
        "colab": {
          "base_uri": "https://localhost:8080/"
        },
        "outputId": "ae723beb-9af6-4378-d43b-fd1b5b87971c"
      },
      "execution_count": 2,
      "outputs": [
        {
          "output_type": "stream",
          "name": "stdout",
          "text": [
            "Drive already mounted at /content/drive; to attempt to forcibly remount, call drive.mount(\"/content/drive\", force_remount=True).\n",
            "Looking in indexes: https://pypi.org/simple, https://us-python.pkg.dev/colab-wheels/public/simple/\n",
            "Requirement already satisfied: duckdb in /usr/local/lib/python3.7/dist-packages (0.4.0)\n",
            "Requirement already satisfied: numpy>=1.14 in /usr/local/lib/python3.7/dist-packages (from duckdb) (1.21.6)\n"
          ]
        }
      ]
    },
    {
      "cell_type": "code",
      "execution_count": 3,
      "metadata": {
        "id": "RZ15XodGz4Io"
      },
      "outputs": [],
      "source": [
        "# Import sentence_transformers \n",
        "# from sentence_transformers import SentenceTransformer, util"
      ]
    },
    {
      "cell_type": "code",
      "execution_count": 4,
      "metadata": {
        "id": "bwv57XAzz4IH"
      },
      "outputs": [],
      "source": [
        "#Imports\n",
        "import pandas as pd\n",
        "import numpy as np\n",
        "import matplotlib.pyplot as plt\n",
        "import seaborn as sns\n",
        "import pickle\n",
        "import duckdb\n",
        "import sqlalchemy\n",
        "#%load_ext sql"
      ]
    },
    {
      "cell_type": "markdown",
      "source": [
        "# Train-validation-test split the ontology"
      ],
      "metadata": {
        "id": "bJQPOkEnEij4"
      }
    },
    {
      "cell_type": "markdown",
      "source": [
        "### Load data"
      ],
      "metadata": {
        "id": "cP9RMv6dEAF-"
      }
    },
    {
      "cell_type": "markdown",
      "source": [
        "We have multiple data sources which we could use to \"split\" the ontoloogy. "
      ],
      "metadata": {
        "id": "Ph7cmhSZyGKs"
      }
    },
    {
      "cell_type": "markdown",
      "source": [
        "#### Ontology + synonyms"
      ],
      "metadata": {
        "id": "uzpj55-LPpPw"
      }
    },
    {
      "cell_type": "markdown",
      "source": [
        "This list \"only\" contains the main entity_id and the synonym. Will be relevant as soon as we have a list of main entities which we want to exclude from the train dataset ."
      ],
      "metadata": {
        "id": "AInBBksvyRoi"
      }
    },
    {
      "cell_type": "code",
      "source": [
        "if colab==True:\n",
        "  ontology_syn = pd.read_csv(data_path+\"/Synonyms in Ontology/isontology.csv\", index_col=0)\n",
        "else:\n",
        "  ontology_syn = pd.read_csv(\"../Data/SynonymsinOntology/isontology.csv\", index_col=0)\n",
        "ontology_syn.shape"
      ],
      "metadata": {
        "colab": {
          "base_uri": "https://localhost:8080/"
        },
        "id": "qQ8vcHhIF7vT",
        "outputId": "54a660c6-7ac2-4642-b894-635f7ef31c48"
      },
      "execution_count": 5,
      "outputs": [
        {
          "output_type": "execute_result",
          "data": {
            "text/plain": [
              "(397942, 4)"
            ]
          },
          "metadata": {},
          "execution_count": 5
        }
      ]
    },
    {
      "cell_type": "code",
      "source": [
        "ontology_syn.head()"
      ],
      "metadata": {
        "colab": {
          "base_uri": "https://localhost:8080/",
          "height": 206
        },
        "id": "1IF-_3yrE23p",
        "outputId": "589f94d6-6232-4849-c3e3-75617243f6c1"
      },
      "execution_count": 6,
      "outputs": [
        {
          "output_type": "execute_result",
          "data": {
            "text/plain": [
              "     entity_id                category  label             synonym\n",
              "0     IS topic  domain specific entity  TOPIC            IS topic\n",
              "1     IS topic  domain specific entity  TOPIC           IS topics\n",
              "2  IS sourcing  domain specific entity  TOPIC    IS / IT sourcing\n",
              "3  IS sourcing  domain specific entity  TOPIC       tool sourcing\n",
              "4  IS sourcing  domain specific entity  TOPIC  software sourcings"
            ],
            "text/html": [
              "\n",
              "  <div id=\"df-398807ab-4f37-45bb-aea3-e27a617e4977\">\n",
              "    <div class=\"colab-df-container\">\n",
              "      <div>\n",
              "<style scoped>\n",
              "    .dataframe tbody tr th:only-of-type {\n",
              "        vertical-align: middle;\n",
              "    }\n",
              "\n",
              "    .dataframe tbody tr th {\n",
              "        vertical-align: top;\n",
              "    }\n",
              "\n",
              "    .dataframe thead th {\n",
              "        text-align: right;\n",
              "    }\n",
              "</style>\n",
              "<table border=\"1\" class=\"dataframe\">\n",
              "  <thead>\n",
              "    <tr style=\"text-align: right;\">\n",
              "      <th></th>\n",
              "      <th>entity_id</th>\n",
              "      <th>category</th>\n",
              "      <th>label</th>\n",
              "      <th>synonym</th>\n",
              "    </tr>\n",
              "  </thead>\n",
              "  <tbody>\n",
              "    <tr>\n",
              "      <th>0</th>\n",
              "      <td>IS topic</td>\n",
              "      <td>domain specific entity</td>\n",
              "      <td>TOPIC</td>\n",
              "      <td>IS topic</td>\n",
              "    </tr>\n",
              "    <tr>\n",
              "      <th>1</th>\n",
              "      <td>IS topic</td>\n",
              "      <td>domain specific entity</td>\n",
              "      <td>TOPIC</td>\n",
              "      <td>IS topics</td>\n",
              "    </tr>\n",
              "    <tr>\n",
              "      <th>2</th>\n",
              "      <td>IS sourcing</td>\n",
              "      <td>domain specific entity</td>\n",
              "      <td>TOPIC</td>\n",
              "      <td>IS / IT sourcing</td>\n",
              "    </tr>\n",
              "    <tr>\n",
              "      <th>3</th>\n",
              "      <td>IS sourcing</td>\n",
              "      <td>domain specific entity</td>\n",
              "      <td>TOPIC</td>\n",
              "      <td>tool sourcing</td>\n",
              "    </tr>\n",
              "    <tr>\n",
              "      <th>4</th>\n",
              "      <td>IS sourcing</td>\n",
              "      <td>domain specific entity</td>\n",
              "      <td>TOPIC</td>\n",
              "      <td>software sourcings</td>\n",
              "    </tr>\n",
              "  </tbody>\n",
              "</table>\n",
              "</div>\n",
              "      <button class=\"colab-df-convert\" onclick=\"convertToInteractive('df-398807ab-4f37-45bb-aea3-e27a617e4977')\"\n",
              "              title=\"Convert this dataframe to an interactive table.\"\n",
              "              style=\"display:none;\">\n",
              "        \n",
              "  <svg xmlns=\"http://www.w3.org/2000/svg\" height=\"24px\"viewBox=\"0 0 24 24\"\n",
              "       width=\"24px\">\n",
              "    <path d=\"M0 0h24v24H0V0z\" fill=\"none\"/>\n",
              "    <path d=\"M18.56 5.44l.94 2.06.94-2.06 2.06-.94-2.06-.94-.94-2.06-.94 2.06-2.06.94zm-11 1L8.5 8.5l.94-2.06 2.06-.94-2.06-.94L8.5 2.5l-.94 2.06-2.06.94zm10 10l.94 2.06.94-2.06 2.06-.94-2.06-.94-.94-2.06-.94 2.06-2.06.94z\"/><path d=\"M17.41 7.96l-1.37-1.37c-.4-.4-.92-.59-1.43-.59-.52 0-1.04.2-1.43.59L10.3 9.45l-7.72 7.72c-.78.78-.78 2.05 0 2.83L4 21.41c.39.39.9.59 1.41.59.51 0 1.02-.2 1.41-.59l7.78-7.78 2.81-2.81c.8-.78.8-2.07 0-2.86zM5.41 20L4 18.59l7.72-7.72 1.47 1.35L5.41 20z\"/>\n",
              "  </svg>\n",
              "      </button>\n",
              "      \n",
              "  <style>\n",
              "    .colab-df-container {\n",
              "      display:flex;\n",
              "      flex-wrap:wrap;\n",
              "      gap: 12px;\n",
              "    }\n",
              "\n",
              "    .colab-df-convert {\n",
              "      background-color: #E8F0FE;\n",
              "      border: none;\n",
              "      border-radius: 50%;\n",
              "      cursor: pointer;\n",
              "      display: none;\n",
              "      fill: #1967D2;\n",
              "      height: 32px;\n",
              "      padding: 0 0 0 0;\n",
              "      width: 32px;\n",
              "    }\n",
              "\n",
              "    .colab-df-convert:hover {\n",
              "      background-color: #E2EBFA;\n",
              "      box-shadow: 0px 1px 2px rgba(60, 64, 67, 0.3), 0px 1px 3px 1px rgba(60, 64, 67, 0.15);\n",
              "      fill: #174EA6;\n",
              "    }\n",
              "\n",
              "    [theme=dark] .colab-df-convert {\n",
              "      background-color: #3B4455;\n",
              "      fill: #D2E3FC;\n",
              "    }\n",
              "\n",
              "    [theme=dark] .colab-df-convert:hover {\n",
              "      background-color: #434B5C;\n",
              "      box-shadow: 0px 1px 3px 1px rgba(0, 0, 0, 0.15);\n",
              "      filter: drop-shadow(0px 1px 2px rgba(0, 0, 0, 0.3));\n",
              "      fill: #FFFFFF;\n",
              "    }\n",
              "  </style>\n",
              "\n",
              "      <script>\n",
              "        const buttonEl =\n",
              "          document.querySelector('#df-398807ab-4f37-45bb-aea3-e27a617e4977 button.colab-df-convert');\n",
              "        buttonEl.style.display =\n",
              "          google.colab.kernel.accessAllowed ? 'block' : 'none';\n",
              "\n",
              "        async function convertToInteractive(key) {\n",
              "          const element = document.querySelector('#df-398807ab-4f37-45bb-aea3-e27a617e4977');\n",
              "          const dataTable =\n",
              "            await google.colab.kernel.invokeFunction('convertToInteractive',\n",
              "                                                     [key], {});\n",
              "          if (!dataTable) return;\n",
              "\n",
              "          const docLinkHtml = 'Like what you see? Visit the ' +\n",
              "            '<a target=\"_blank\" href=https://colab.research.google.com/notebooks/data_table.ipynb>data table notebook</a>'\n",
              "            + ' to learn more about interactive tables.';\n",
              "          element.innerHTML = '';\n",
              "          dataTable['output_type'] = 'display_data';\n",
              "          await google.colab.output.renderOutput(dataTable, element);\n",
              "          const docLink = document.createElement('div');\n",
              "          docLink.innerHTML = docLinkHtml;\n",
              "          element.appendChild(docLink);\n",
              "        }\n",
              "      </script>\n",
              "    </div>\n",
              "  </div>\n",
              "  "
            ]
          },
          "metadata": {},
          "execution_count": 6
        }
      ]
    },
    {
      "cell_type": "markdown",
      "source": [
        "##### Downsampling entities with more than 100 synonyms"
      ],
      "metadata": {
        "id": "dbsPnTiPytVb"
      }
    },
    {
      "cell_type": "code",
      "source": [
        "## Check number of synonyms per entity_id\n",
        "#ent_sy_group = ontology_syn.groupby(\"entity_id\")[[\"synonym\"]].nunique().sort_values(by=\"synonym\", ascending=False)"
      ],
      "metadata": {
        "id": "bvTOGaPbGwxC"
      },
      "execution_count": 7,
      "outputs": []
    },
    {
      "cell_type": "code",
      "source": [
        "# # Downsample entities with more than 100 synonyms to a 100 synoyms (but always include \"main entity_id\" in subsample)\n",
        "# idx = ent_sy_group[ent_sy_group[\"synonym\"]>100].index.tolist()\n",
        "\n",
        "# dfs = []\n",
        "# for entity in idx:\n",
        "#   t1 = ontology_syn[(ontology_syn.entity_id==entity)&(ontology_syn.synonym==entity)]\n",
        "#   t2 = ontology_syn[(ontology_syn.entity_id==entity)&(ontology_syn.synonym!=entity)].sample(99)\n",
        "#   dfs.append(pd.concat([t1,t2]))\n",
        "# dfs.append(ontology_syn.loc[~ontology_syn[\"entity_id\"].isin(idx)]) # Append dataframe for all entities with less then 100 synonyms to list\n",
        "\n",
        "# # Combine all dataframes \n",
        "# ontology_syn_ds = pd.concat(dfs).reset_index(drop=True)"
      ],
      "metadata": {
        "id": "Sr9XB4llGIwR"
      },
      "execution_count": 8,
      "outputs": []
    },
    {
      "cell_type": "code",
      "source": [
        "#Show synonyms in ontology which appear in more than 1 entity\n",
        "#ontology_syn_ds[ontology_syn_ds.synonym.duplicated(keep=False)].sort_values(by=\"synonym\")"
      ],
      "metadata": {
        "id": "NnLHZUIlWWEt"
      },
      "execution_count": 9,
      "outputs": []
    },
    {
      "cell_type": "code",
      "source": [
        "#List of unique entities from ontology with synonyms with downsampling (apparently there are some duplicates in there?!)\n",
        "#entities_syn_unique_ds = ontology_syn_ds.synonym.unique().tolist()\n",
        "#ontology_syn_ds_unique = ontology_syn_ds.drop_duplicates(subset=\"synonym\")"
      ],
      "metadata": {
        "id": "RBU4KchiG7i1"
      },
      "execution_count": 10,
      "outputs": []
    },
    {
      "cell_type": "markdown",
      "source": [
        "#### Ontology.json (only structure of ontology with \"main\" entity ids (without synonmys))"
      ],
      "metadata": {
        "id": "Xs_VcozqFowh"
      }
    },
    {
      "cell_type": "markdown",
      "source": [
        "I did not manage yet to flatten the json file, therefore I used the entities table from the duckdb instead (see next section) "
      ],
      "metadata": {
        "id": "T_Jx5IcGF830"
      }
    },
    {
      "cell_type": "code",
      "source": [
        "if colab==True:\n",
        "  ontology_json = pd.read_json(data_path+\"/Ontology/isontology.json\")#, orient=\"values\")#, index_col=0)"
      ],
      "metadata": {
        "id": "3oiutzymFxP0"
      },
      "execution_count": 11,
      "outputs": []
    },
    {
      "cell_type": "code",
      "source": [
        "ontology_json.head()"
      ],
      "metadata": {
        "colab": {
          "base_uri": "https://localhost:8080/",
          "height": 206
        },
        "id": "MHvVLpbwHsbf",
        "outputId": "e206d270-30aa-4962-f0ad-d5489557ef7e"
      },
      "execution_count": 12,
      "outputs": [
        {
          "output_type": "execute_result",
          "data": {
            "text/plain": [
              "                                                root\n",
              "0  {'IS topic': [{'IS sourcing': [{'outsourcing':...\n",
              "1  {'research paradigm': [{'positivism': ['logica...\n",
              "2  {'model': ['taxonomy', 'framework', {'research...\n",
              "3  {'economic sector': ['private household', {'go...\n",
              "4  {'company type': [{'small and mid-size enterpr..."
            ],
            "text/html": [
              "\n",
              "  <div id=\"df-f59e0629-ff99-419a-8f50-37e633d0d7ee\">\n",
              "    <div class=\"colab-df-container\">\n",
              "      <div>\n",
              "<style scoped>\n",
              "    .dataframe tbody tr th:only-of-type {\n",
              "        vertical-align: middle;\n",
              "    }\n",
              "\n",
              "    .dataframe tbody tr th {\n",
              "        vertical-align: top;\n",
              "    }\n",
              "\n",
              "    .dataframe thead th {\n",
              "        text-align: right;\n",
              "    }\n",
              "</style>\n",
              "<table border=\"1\" class=\"dataframe\">\n",
              "  <thead>\n",
              "    <tr style=\"text-align: right;\">\n",
              "      <th></th>\n",
              "      <th>root</th>\n",
              "    </tr>\n",
              "  </thead>\n",
              "  <tbody>\n",
              "    <tr>\n",
              "      <th>0</th>\n",
              "      <td>{'IS topic': [{'IS sourcing': [{'outsourcing':...</td>\n",
              "    </tr>\n",
              "    <tr>\n",
              "      <th>1</th>\n",
              "      <td>{'research paradigm': [{'positivism': ['logica...</td>\n",
              "    </tr>\n",
              "    <tr>\n",
              "      <th>2</th>\n",
              "      <td>{'model': ['taxonomy', 'framework', {'research...</td>\n",
              "    </tr>\n",
              "    <tr>\n",
              "      <th>3</th>\n",
              "      <td>{'economic sector': ['private household', {'go...</td>\n",
              "    </tr>\n",
              "    <tr>\n",
              "      <th>4</th>\n",
              "      <td>{'company type': [{'small and mid-size enterpr...</td>\n",
              "    </tr>\n",
              "  </tbody>\n",
              "</table>\n",
              "</div>\n",
              "      <button class=\"colab-df-convert\" onclick=\"convertToInteractive('df-f59e0629-ff99-419a-8f50-37e633d0d7ee')\"\n",
              "              title=\"Convert this dataframe to an interactive table.\"\n",
              "              style=\"display:none;\">\n",
              "        \n",
              "  <svg xmlns=\"http://www.w3.org/2000/svg\" height=\"24px\"viewBox=\"0 0 24 24\"\n",
              "       width=\"24px\">\n",
              "    <path d=\"M0 0h24v24H0V0z\" fill=\"none\"/>\n",
              "    <path d=\"M18.56 5.44l.94 2.06.94-2.06 2.06-.94-2.06-.94-.94-2.06-.94 2.06-2.06.94zm-11 1L8.5 8.5l.94-2.06 2.06-.94-2.06-.94L8.5 2.5l-.94 2.06-2.06.94zm10 10l.94 2.06.94-2.06 2.06-.94-2.06-.94-.94-2.06-.94 2.06-2.06.94z\"/><path d=\"M17.41 7.96l-1.37-1.37c-.4-.4-.92-.59-1.43-.59-.52 0-1.04.2-1.43.59L10.3 9.45l-7.72 7.72c-.78.78-.78 2.05 0 2.83L4 21.41c.39.39.9.59 1.41.59.51 0 1.02-.2 1.41-.59l7.78-7.78 2.81-2.81c.8-.78.8-2.07 0-2.86zM5.41 20L4 18.59l7.72-7.72 1.47 1.35L5.41 20z\"/>\n",
              "  </svg>\n",
              "      </button>\n",
              "      \n",
              "  <style>\n",
              "    .colab-df-container {\n",
              "      display:flex;\n",
              "      flex-wrap:wrap;\n",
              "      gap: 12px;\n",
              "    }\n",
              "\n",
              "    .colab-df-convert {\n",
              "      background-color: #E8F0FE;\n",
              "      border: none;\n",
              "      border-radius: 50%;\n",
              "      cursor: pointer;\n",
              "      display: none;\n",
              "      fill: #1967D2;\n",
              "      height: 32px;\n",
              "      padding: 0 0 0 0;\n",
              "      width: 32px;\n",
              "    }\n",
              "\n",
              "    .colab-df-convert:hover {\n",
              "      background-color: #E2EBFA;\n",
              "      box-shadow: 0px 1px 2px rgba(60, 64, 67, 0.3), 0px 1px 3px 1px rgba(60, 64, 67, 0.15);\n",
              "      fill: #174EA6;\n",
              "    }\n",
              "\n",
              "    [theme=dark] .colab-df-convert {\n",
              "      background-color: #3B4455;\n",
              "      fill: #D2E3FC;\n",
              "    }\n",
              "\n",
              "    [theme=dark] .colab-df-convert:hover {\n",
              "      background-color: #434B5C;\n",
              "      box-shadow: 0px 1px 3px 1px rgba(0, 0, 0, 0.15);\n",
              "      filter: drop-shadow(0px 1px 2px rgba(0, 0, 0, 0.3));\n",
              "      fill: #FFFFFF;\n",
              "    }\n",
              "  </style>\n",
              "\n",
              "      <script>\n",
              "        const buttonEl =\n",
              "          document.querySelector('#df-f59e0629-ff99-419a-8f50-37e633d0d7ee button.colab-df-convert');\n",
              "        buttonEl.style.display =\n",
              "          google.colab.kernel.accessAllowed ? 'block' : 'none';\n",
              "\n",
              "        async function convertToInteractive(key) {\n",
              "          const element = document.querySelector('#df-f59e0629-ff99-419a-8f50-37e633d0d7ee');\n",
              "          const dataTable =\n",
              "            await google.colab.kernel.invokeFunction('convertToInteractive',\n",
              "                                                     [key], {});\n",
              "          if (!dataTable) return;\n",
              "\n",
              "          const docLinkHtml = 'Like what you see? Visit the ' +\n",
              "            '<a target=\"_blank\" href=https://colab.research.google.com/notebooks/data_table.ipynb>data table notebook</a>'\n",
              "            + ' to learn more about interactive tables.';\n",
              "          element.innerHTML = '';\n",
              "          dataTable['output_type'] = 'display_data';\n",
              "          await google.colab.output.renderOutput(dataTable, element);\n",
              "          const docLink = document.createElement('div');\n",
              "          docLink.innerHTML = docLinkHtml;\n",
              "          element.appendChild(docLink);\n",
              "        }\n",
              "      </script>\n",
              "    </div>\n",
              "  </div>\n",
              "  "
            ]
          },
          "metadata": {},
          "execution_count": 12
        }
      ]
    },
    {
      "cell_type": "markdown",
      "source": [
        "#### Entities (Sentence_id + tagged entity_id) by Rolands script"
      ],
      "metadata": {
        "id": "1Qc3ClKUPu8y"
      }
    },
    {
      "cell_type": "code",
      "source": [
        "# Note that DBeaver must be closed, before you can run this command!\n",
        "if colab==True:\n",
        "  con = duckdb.connect(database=data_path+'/Extracted Information of Corpus/isrecon.duckdb', read_only=False)\n",
        "else:\n",
        "  con = duckdb.connect(database='../Data/ExtractedInformationofCorpus/isrecon.duckdb', read_only=False)"
      ],
      "metadata": {
        "id": "X16xHa4EMt_H"
      },
      "execution_count": 13,
      "outputs": []
    },
    {
      "cell_type": "markdown",
      "source": [
        "Lets load all the entities from the duckdb"
      ],
      "metadata": {
        "id": "MKGjB60uJ0sl"
      }
    },
    {
      "cell_type": "code",
      "source": [
        "# Load first article as df\n",
        "entities = con.execute(\"\"\"\n",
        "                       SELECT article_id, sentence_id, ent_id, level_1, level_2, level_3, level_4, level_5, level_6, level_7, level_8, level_9, level_10,\n",
        "                       FROM entities e\n",
        "                       \"\"\").fetchdf()\n",
        "\n",
        "entities.shape"
      ],
      "metadata": {
        "colab": {
          "base_uri": "https://localhost:8080/"
        },
        "id": "5ZLnM9ShMorg",
        "outputId": "eb046ee8-a7d2-4220-c9b6-21bea24fd399"
      },
      "execution_count": 14,
      "outputs": [
        {
          "output_type": "execute_result",
          "data": {
            "text/plain": [
              "(1797740, 13)"
            ]
          },
          "metadata": {},
          "execution_count": 14
        }
      ]
    },
    {
      "cell_type": "code",
      "source": [
        "# Main entities of first level of ontology\n",
        "entities.level_1.unique()"
      ],
      "metadata": {
        "colab": {
          "base_uri": "https://localhost:8080/"
        },
        "id": "UTYFb7HXaJhx",
        "outputId": "bc2ce2e4-22ab-4b52-839d-ae08f3b98a93"
      },
      "execution_count": 15,
      "outputs": [
        {
          "output_type": "execute_result",
          "data": {
            "text/plain": [
              "array(['domain specific entity', 'theoretical entity',\n",
              "       'methodological entity'], dtype=object)"
            ]
          },
          "metadata": {},
          "execution_count": 15
        }
      ]
    },
    {
      "cell_type": "code",
      "source": [
        "# Distribution of entities from database accross first and second level\n",
        "entities.groupby([\"level_1\", \"level_2\"])[[\"ent_id\"]].aggregate([\"count\", \"nunique\"])"
      ],
      "metadata": {
        "colab": {
          "base_uri": "https://localhost:8080/",
          "height": 520
        },
        "id": "VBMNVrh2l67M",
        "outputId": "e029efc8-7ce5-4387-da82-189f893376dc"
      },
      "execution_count": 96,
      "outputs": [
        {
          "output_type": "execute_result",
          "data": {
            "text/plain": [
              "                                             ent_id        \n",
              "                                              count nunique\n",
              "level_1                level_2                             \n",
              "domain specific entity IS technology         463211     475\n",
              "                       IS topic              461262     416\n",
              "                       economic sector       102057     234\n",
              "                       study object           61799      21\n",
              "methodological entity  data analysis method   73002     292\n",
              "                       research method       257820     272\n",
              "                       sampling                6148      27\n",
              "                       statistical metric     78673      87\n",
              "                       validity               11357      25\n",
              "theoretical entity     level of analysis      12064      13\n",
              "                       model                 196827      31\n",
              "                       research paradigm      13429      14\n",
              "                       theory                 60091     223"
            ],
            "text/html": [
              "\n",
              "  <div id=\"df-ef47b075-9a36-4d52-bbde-cd9be9805460\">\n",
              "    <div class=\"colab-df-container\">\n",
              "      <div>\n",
              "<style scoped>\n",
              "    .dataframe tbody tr th:only-of-type {\n",
              "        vertical-align: middle;\n",
              "    }\n",
              "\n",
              "    .dataframe tbody tr th {\n",
              "        vertical-align: top;\n",
              "    }\n",
              "\n",
              "    .dataframe thead tr th {\n",
              "        text-align: left;\n",
              "    }\n",
              "\n",
              "    .dataframe thead tr:last-of-type th {\n",
              "        text-align: right;\n",
              "    }\n",
              "</style>\n",
              "<table border=\"1\" class=\"dataframe\">\n",
              "  <thead>\n",
              "    <tr>\n",
              "      <th></th>\n",
              "      <th></th>\n",
              "      <th colspan=\"2\" halign=\"left\">ent_id</th>\n",
              "    </tr>\n",
              "    <tr>\n",
              "      <th></th>\n",
              "      <th></th>\n",
              "      <th>count</th>\n",
              "      <th>nunique</th>\n",
              "    </tr>\n",
              "    <tr>\n",
              "      <th>level_1</th>\n",
              "      <th>level_2</th>\n",
              "      <th></th>\n",
              "      <th></th>\n",
              "    </tr>\n",
              "  </thead>\n",
              "  <tbody>\n",
              "    <tr>\n",
              "      <th rowspan=\"4\" valign=\"top\">domain specific entity</th>\n",
              "      <th>IS technology</th>\n",
              "      <td>463211</td>\n",
              "      <td>475</td>\n",
              "    </tr>\n",
              "    <tr>\n",
              "      <th>IS topic</th>\n",
              "      <td>461262</td>\n",
              "      <td>416</td>\n",
              "    </tr>\n",
              "    <tr>\n",
              "      <th>economic sector</th>\n",
              "      <td>102057</td>\n",
              "      <td>234</td>\n",
              "    </tr>\n",
              "    <tr>\n",
              "      <th>study object</th>\n",
              "      <td>61799</td>\n",
              "      <td>21</td>\n",
              "    </tr>\n",
              "    <tr>\n",
              "      <th rowspan=\"5\" valign=\"top\">methodological entity</th>\n",
              "      <th>data analysis method</th>\n",
              "      <td>73002</td>\n",
              "      <td>292</td>\n",
              "    </tr>\n",
              "    <tr>\n",
              "      <th>research method</th>\n",
              "      <td>257820</td>\n",
              "      <td>272</td>\n",
              "    </tr>\n",
              "    <tr>\n",
              "      <th>sampling</th>\n",
              "      <td>6148</td>\n",
              "      <td>27</td>\n",
              "    </tr>\n",
              "    <tr>\n",
              "      <th>statistical metric</th>\n",
              "      <td>78673</td>\n",
              "      <td>87</td>\n",
              "    </tr>\n",
              "    <tr>\n",
              "      <th>validity</th>\n",
              "      <td>11357</td>\n",
              "      <td>25</td>\n",
              "    </tr>\n",
              "    <tr>\n",
              "      <th rowspan=\"4\" valign=\"top\">theoretical entity</th>\n",
              "      <th>level of analysis</th>\n",
              "      <td>12064</td>\n",
              "      <td>13</td>\n",
              "    </tr>\n",
              "    <tr>\n",
              "      <th>model</th>\n",
              "      <td>196827</td>\n",
              "      <td>31</td>\n",
              "    </tr>\n",
              "    <tr>\n",
              "      <th>research paradigm</th>\n",
              "      <td>13429</td>\n",
              "      <td>14</td>\n",
              "    </tr>\n",
              "    <tr>\n",
              "      <th>theory</th>\n",
              "      <td>60091</td>\n",
              "      <td>223</td>\n",
              "    </tr>\n",
              "  </tbody>\n",
              "</table>\n",
              "</div>\n",
              "      <button class=\"colab-df-convert\" onclick=\"convertToInteractive('df-ef47b075-9a36-4d52-bbde-cd9be9805460')\"\n",
              "              title=\"Convert this dataframe to an interactive table.\"\n",
              "              style=\"display:none;\">\n",
              "        \n",
              "  <svg xmlns=\"http://www.w3.org/2000/svg\" height=\"24px\"viewBox=\"0 0 24 24\"\n",
              "       width=\"24px\">\n",
              "    <path d=\"M0 0h24v24H0V0z\" fill=\"none\"/>\n",
              "    <path d=\"M18.56 5.44l.94 2.06.94-2.06 2.06-.94-2.06-.94-.94-2.06-.94 2.06-2.06.94zm-11 1L8.5 8.5l.94-2.06 2.06-.94-2.06-.94L8.5 2.5l-.94 2.06-2.06.94zm10 10l.94 2.06.94-2.06 2.06-.94-2.06-.94-.94-2.06-.94 2.06-2.06.94z\"/><path d=\"M17.41 7.96l-1.37-1.37c-.4-.4-.92-.59-1.43-.59-.52 0-1.04.2-1.43.59L10.3 9.45l-7.72 7.72c-.78.78-.78 2.05 0 2.83L4 21.41c.39.39.9.59 1.41.59.51 0 1.02-.2 1.41-.59l7.78-7.78 2.81-2.81c.8-.78.8-2.07 0-2.86zM5.41 20L4 18.59l7.72-7.72 1.47 1.35L5.41 20z\"/>\n",
              "  </svg>\n",
              "      </button>\n",
              "      \n",
              "  <style>\n",
              "    .colab-df-container {\n",
              "      display:flex;\n",
              "      flex-wrap:wrap;\n",
              "      gap: 12px;\n",
              "    }\n",
              "\n",
              "    .colab-df-convert {\n",
              "      background-color: #E8F0FE;\n",
              "      border: none;\n",
              "      border-radius: 50%;\n",
              "      cursor: pointer;\n",
              "      display: none;\n",
              "      fill: #1967D2;\n",
              "      height: 32px;\n",
              "      padding: 0 0 0 0;\n",
              "      width: 32px;\n",
              "    }\n",
              "\n",
              "    .colab-df-convert:hover {\n",
              "      background-color: #E2EBFA;\n",
              "      box-shadow: 0px 1px 2px rgba(60, 64, 67, 0.3), 0px 1px 3px 1px rgba(60, 64, 67, 0.15);\n",
              "      fill: #174EA6;\n",
              "    }\n",
              "\n",
              "    [theme=dark] .colab-df-convert {\n",
              "      background-color: #3B4455;\n",
              "      fill: #D2E3FC;\n",
              "    }\n",
              "\n",
              "    [theme=dark] .colab-df-convert:hover {\n",
              "      background-color: #434B5C;\n",
              "      box-shadow: 0px 1px 3px 1px rgba(0, 0, 0, 0.15);\n",
              "      filter: drop-shadow(0px 1px 2px rgba(0, 0, 0, 0.3));\n",
              "      fill: #FFFFFF;\n",
              "    }\n",
              "  </style>\n",
              "\n",
              "      <script>\n",
              "        const buttonEl =\n",
              "          document.querySelector('#df-ef47b075-9a36-4d52-bbde-cd9be9805460 button.colab-df-convert');\n",
              "        buttonEl.style.display =\n",
              "          google.colab.kernel.accessAllowed ? 'block' : 'none';\n",
              "\n",
              "        async function convertToInteractive(key) {\n",
              "          const element = document.querySelector('#df-ef47b075-9a36-4d52-bbde-cd9be9805460');\n",
              "          const dataTable =\n",
              "            await google.colab.kernel.invokeFunction('convertToInteractive',\n",
              "                                                     [key], {});\n",
              "          if (!dataTable) return;\n",
              "\n",
              "          const docLinkHtml = 'Like what you see? Visit the ' +\n",
              "            '<a target=\"_blank\" href=https://colab.research.google.com/notebooks/data_table.ipynb>data table notebook</a>'\n",
              "            + ' to learn more about interactive tables.';\n",
              "          element.innerHTML = '';\n",
              "          dataTable['output_type'] = 'display_data';\n",
              "          await google.colab.output.renderOutput(dataTable, element);\n",
              "          const docLink = document.createElement('div');\n",
              "          docLink.innerHTML = docLinkHtml;\n",
              "          element.appendChild(docLink);\n",
              "        }\n",
              "      </script>\n",
              "    </div>\n",
              "  </div>\n",
              "  "
            ]
          },
          "metadata": {},
          "execution_count": 96
        }
      ]
    },
    {
      "cell_type": "markdown",
      "source": [
        "## `Train-val-test` split of the existing ontology"
      ],
      "metadata": {
        "id": "i_oA2IiTn6-h"
      }
    },
    {
      "cell_type": "markdown",
      "source": [
        "In order to determine how well our model/embeddings are in identifing new entities or synonyms for existing entities we have to create a `train-val-test split` version of the existing ontology. Meaning we have to select some entities which will be removed from the ontology for training. \n"
      ],
      "metadata": {
        "id": "xOYJ3xwjaa3h"
      }
    },
    {
      "cell_type": "markdown",
      "source": [
        "- We will remove different nodes across all main topics and levels of the ontology to assess how our model is handling with missing nodes from different \"levels\"\n",
        "- To determine which nodes to include we used the `ontology.json` file since here the hierarchy is already visually included, so it was easy to define some random nodes (and child nodes)"
      ],
      "metadata": {
        "id": "Kdwo7fggo__R"
      }
    },
    {
      "cell_type": "markdown",
      "source": [
        "**We selcted the following entities as part of the validattion-test set:**\n",
        "\n",
        "|    | level_1                | level_2              | entity_id_to_remove                 |   has_child_nodes |\n",
        "|---:|:-----------------------|:---------------------|:------------------------------------|------------------:|\n",
        "|  0 | domain specific entity | IS topic             | business process outsourcing        |                 1 |\n",
        "|  1 | domain specific entity | IS topic             | cybersecurity behavior              |                 1 |\n",
        "|  2 | domain specific entity | IS topic             | user interface                      |                 1 |\n",
        "|  3 | domain specific entity | IS topic             | IT planning                         |                 1 |\n",
        "|  4 | domain specific entity | IS topic             | business process management         |                 1 |\n",
        "|  5 | domain specific entity | IS topic             | sharing platform                    |                 1 |\n",
        "|  6 | domain specific entity | IS topic             | software license                    |                 1 |\n",
        "|  7 | domain specific entity | IS topic             | IT recruiting                       |                 0 |\n",
        "|  8 | domain specific entity | IS technology        | enterprise service bus              |                 0 |\n",
        "|  9 | domain specific entity | IS technology        | online marketing                    |                 1 |\n",
        "| 10 | domain specific entity | IS technology        | video game                          |                 1 |\n",
        "| 11 | domain specific entity | IS technology        | optical storage device              |                 1 |\n",
        "| 12 | domain specific entity | IS technology        | recommender system                  |                 1 |\n",
        "| 13 | domain specific entity | IS technology        | digital asset management            |                 0 |\n",
        "| 14 | domain specific entity | IS technology        | high level language                 |                 1 |\n",
        "| 15 | domain specific entity | Economic sector      | forest industry                     |                 1 |\n",
        "| 16 | domain specific entity | Economic sector      | hedge fund                          |                 0 |\n",
        "| 17 | domain specific entity | Economic sector      | structural engineering              |                 1 |\n",
        "| 18 | domain specific entity | Economic sector      | research institute                  |                 0 |\n",
        "| 19 | domain specific entity | Economic sector      | private household                   |                 0 |\n",
        "| 20 | domain specific entity | Economic sector      | plastics industry                   |                 1 |\n",
        "| 21 | domain specific entity | study object         | group participant                   |                 0 |\n",
        "| 22 | domain specific entity | study object         | startup                             |                 0 |\n",
        "| 23 | domain specific entity | study object         | microenterprise                     |                 0 |\n",
        "| 24 | methodological entity  | research method      | pilot experiment                    |                 0 |\n",
        "| 25 | methodological entity  | research method      | completely randomized design        |                 0 |\n",
        "| 26 | methodological entity  | research method      | pilot survey                        |                 0 |\n",
        "| 27 | methodological entity  | research method      | action research                     |                 1 |\n",
        "| 28 | methodological entity  | research method      | delphi study                        |                 0 |\n",
        "| 29 | methodological entity  | research method      | Markov model                        |                 1 |\n",
        "| 30 | methodological entity  | research method      | database modeling                   |                 1 |\n",
        "| 31 | methodological entity  | data analysis method | constant comparative analysis       |                 0 |\n",
        "| 32 | methodological entity  | data analysis method | ensemble learning                   |                 1 |\n",
        "| 33 | methodological entity  | data analysis method | sentiment analysis                  |                 1 |\n",
        "| 34 | methodological entity  | data analysis method | autoregressive moving average model |                 0 |\n",
        "| 35 | methodological entity  | data analysis method | positive correlation                |                 0 |\n",
        "| 36 | methodological entity  | data analysis method | recurrent neural network            |                 1 |\n",
        "| 37 | methodological entity  | data analysis method | exploratory factor analysis         |                 0 |\n",
        "| 38 | methodological entity  | data analysis method | confirmatory factor analysis        |                 0 |\n",
        "| 39 | methodological entity  | data analysis method | survival function                   |                 1 |\n",
        "| 40 | methodological entity  | data analysis method | p hacking                           |                 0 |\n",
        "| 41 | methodological entity  | statistical metric   | Chi square metric                   |                 0 |\n",
        "| 42 | methodological entity  | statistical metric   | confusion matrix                    |                 0 |\n",
        "| 43 | methodological entity  | statistical metric   | contingency table                   |                 0 |\n",
        "| 44 | methodological entity  | validity             | formative validity                  |                 0 |\n",
        "| 45 | methodological entity  | validity             | criterion validity                  |                 1 |\n",
        "| 46 | methodological entity  | sampling             | oversampling                        |                 1 |\n",
        "| 47 | methodological entity  | sampling             | quota sampling                      |                 0 |\n",
        "| 48 | theoretical entity     | level of analysis    | micro level                         |                 1 |\n",
        "| 49 | theoretical entity     | level of analysis    | country level                       |                 0 |\n",
        "| 50 | theoretical entity     | model                | causal model                        |                 0 |\n",
        "| 51 | theoretical entity     | model                | control variable                    |                 0 |\n",
        "| 52 | theoretical entity     | model                | taxonomy                            |                 0 |\n",
        "| 53 | theoretical entity     | model                | theoretical link                    |                 1 |\n",
        "| 54 | theoretical entity     | model                | control variable                    |                 0 |\n",
        "| 55 | theoretical entity     | model                | null hypothesis                     |                 0 |\n",
        "| 56 | theoretical entity     | model                | nomological network                 |                 0 |\n",
        "| 57 | theoretical entity     | research paradigm    | interpretivism                      |                 0 |\n",
        "| 58 | theoretical entity     | research paradigm    | realism                             |                 1 |\n",
        "| 59 | theoretical entity     | theory               | IT security theory                  |                 1 |\n",
        "| 60 | theoretical entity     | theory               | theory of task technology fit       |                 0 |\n",
        "| 61 | theoretical entity     | theory               | personality theory                  |                 1 |\n",
        "| 62 | theoretical entity     | theory               | equity theory                       |                 0 |\n",
        "| 63 | theoretical entity     | theory               | two-factor theory                   |                 0 |\n",
        "| 64 | theoretical entity     | theory               | personality theory                  |                 1 |\n",
        "| 65 | theoretical entity     | theory               | uncanny valley theory               |                 0 |"
      ],
      "metadata": {
        "id": "KV1B8mIz3lg8"
      }
    },
    {
      "cell_type": "markdown",
      "source": [
        "We also stored the list above in an Excel format for further processing"
      ],
      "metadata": {
        "id": "LkExPJjD67YV"
      }
    },
    {
      "cell_type": "code",
      "source": [
        "data_path_group = data_path[:-10]+\"Topic 1/Data_Team1/\" # create new data path to access files created by Team1\n",
        "\n",
        "entities_to_removed = pd.read_excel(data_path_group+\"ent_to_remove_from_ontology.xlsx\") #load excel list as dataframe\n",
        "entities_to_removed[\"entity_id_to_remove\"] = entities_to_removed.entity_id_to_remove.str.strip() #remove whitespace"
      ],
      "metadata": {
        "id": "JbrEmT-ppeal"
      },
      "execution_count": 146,
      "outputs": []
    },
    {
      "cell_type": "code",
      "source": [
        "entities_to_removed.head(2)"
      ],
      "metadata": {
        "colab": {
          "base_uri": "https://localhost:8080/",
          "height": 112
        },
        "id": "d9AkIQ8mB1Fa",
        "outputId": "3b4be562-be97-4119-86e7-a2d2b284d895"
      },
      "execution_count": 147,
      "outputs": [
        {
          "output_type": "execute_result",
          "data": {
            "text/plain": [
              "                  level_1   level_2           entity_id_to_remove  \\\n",
              "0  domain specific entity  IS topic  business process outsourcing   \n",
              "1  domain specific entity  IS topic        cybersecurity behavior   \n",
              "\n",
              "   has_child_nodes  \n",
              "0              1.0  \n",
              "1              1.0  "
            ],
            "text/html": [
              "\n",
              "  <div id=\"df-f7b1a7cd-6f59-4c80-bfe1-1580dbe6e10f\">\n",
              "    <div class=\"colab-df-container\">\n",
              "      <div>\n",
              "<style scoped>\n",
              "    .dataframe tbody tr th:only-of-type {\n",
              "        vertical-align: middle;\n",
              "    }\n",
              "\n",
              "    .dataframe tbody tr th {\n",
              "        vertical-align: top;\n",
              "    }\n",
              "\n",
              "    .dataframe thead th {\n",
              "        text-align: right;\n",
              "    }\n",
              "</style>\n",
              "<table border=\"1\" class=\"dataframe\">\n",
              "  <thead>\n",
              "    <tr style=\"text-align: right;\">\n",
              "      <th></th>\n",
              "      <th>level_1</th>\n",
              "      <th>level_2</th>\n",
              "      <th>entity_id_to_remove</th>\n",
              "      <th>has_child_nodes</th>\n",
              "    </tr>\n",
              "  </thead>\n",
              "  <tbody>\n",
              "    <tr>\n",
              "      <th>0</th>\n",
              "      <td>domain specific entity</td>\n",
              "      <td>IS topic</td>\n",
              "      <td>business process outsourcing</td>\n",
              "      <td>1.0</td>\n",
              "    </tr>\n",
              "    <tr>\n",
              "      <th>1</th>\n",
              "      <td>domain specific entity</td>\n",
              "      <td>IS topic</td>\n",
              "      <td>cybersecurity behavior</td>\n",
              "      <td>1.0</td>\n",
              "    </tr>\n",
              "  </tbody>\n",
              "</table>\n",
              "</div>\n",
              "      <button class=\"colab-df-convert\" onclick=\"convertToInteractive('df-f7b1a7cd-6f59-4c80-bfe1-1580dbe6e10f')\"\n",
              "              title=\"Convert this dataframe to an interactive table.\"\n",
              "              style=\"display:none;\">\n",
              "        \n",
              "  <svg xmlns=\"http://www.w3.org/2000/svg\" height=\"24px\"viewBox=\"0 0 24 24\"\n",
              "       width=\"24px\">\n",
              "    <path d=\"M0 0h24v24H0V0z\" fill=\"none\"/>\n",
              "    <path d=\"M18.56 5.44l.94 2.06.94-2.06 2.06-.94-2.06-.94-.94-2.06-.94 2.06-2.06.94zm-11 1L8.5 8.5l.94-2.06 2.06-.94-2.06-.94L8.5 2.5l-.94 2.06-2.06.94zm10 10l.94 2.06.94-2.06 2.06-.94-2.06-.94-.94-2.06-.94 2.06-2.06.94z\"/><path d=\"M17.41 7.96l-1.37-1.37c-.4-.4-.92-.59-1.43-.59-.52 0-1.04.2-1.43.59L10.3 9.45l-7.72 7.72c-.78.78-.78 2.05 0 2.83L4 21.41c.39.39.9.59 1.41.59.51 0 1.02-.2 1.41-.59l7.78-7.78 2.81-2.81c.8-.78.8-2.07 0-2.86zM5.41 20L4 18.59l7.72-7.72 1.47 1.35L5.41 20z\"/>\n",
              "  </svg>\n",
              "      </button>\n",
              "      \n",
              "  <style>\n",
              "    .colab-df-container {\n",
              "      display:flex;\n",
              "      flex-wrap:wrap;\n",
              "      gap: 12px;\n",
              "    }\n",
              "\n",
              "    .colab-df-convert {\n",
              "      background-color: #E8F0FE;\n",
              "      border: none;\n",
              "      border-radius: 50%;\n",
              "      cursor: pointer;\n",
              "      display: none;\n",
              "      fill: #1967D2;\n",
              "      height: 32px;\n",
              "      padding: 0 0 0 0;\n",
              "      width: 32px;\n",
              "    }\n",
              "\n",
              "    .colab-df-convert:hover {\n",
              "      background-color: #E2EBFA;\n",
              "      box-shadow: 0px 1px 2px rgba(60, 64, 67, 0.3), 0px 1px 3px 1px rgba(60, 64, 67, 0.15);\n",
              "      fill: #174EA6;\n",
              "    }\n",
              "\n",
              "    [theme=dark] .colab-df-convert {\n",
              "      background-color: #3B4455;\n",
              "      fill: #D2E3FC;\n",
              "    }\n",
              "\n",
              "    [theme=dark] .colab-df-convert:hover {\n",
              "      background-color: #434B5C;\n",
              "      box-shadow: 0px 1px 3px 1px rgba(0, 0, 0, 0.15);\n",
              "      filter: drop-shadow(0px 1px 2px rgba(0, 0, 0, 0.3));\n",
              "      fill: #FFFFFF;\n",
              "    }\n",
              "  </style>\n",
              "\n",
              "      <script>\n",
              "        const buttonEl =\n",
              "          document.querySelector('#df-f7b1a7cd-6f59-4c80-bfe1-1580dbe6e10f button.colab-df-convert');\n",
              "        buttonEl.style.display =\n",
              "          google.colab.kernel.accessAllowed ? 'block' : 'none';\n",
              "\n",
              "        async function convertToInteractive(key) {\n",
              "          const element = document.querySelector('#df-f7b1a7cd-6f59-4c80-bfe1-1580dbe6e10f');\n",
              "          const dataTable =\n",
              "            await google.colab.kernel.invokeFunction('convertToInteractive',\n",
              "                                                     [key], {});\n",
              "          if (!dataTable) return;\n",
              "\n",
              "          const docLinkHtml = 'Like what you see? Visit the ' +\n",
              "            '<a target=\"_blank\" href=https://colab.research.google.com/notebooks/data_table.ipynb>data table notebook</a>'\n",
              "            + ' to learn more about interactive tables.';\n",
              "          element.innerHTML = '';\n",
              "          dataTable['output_type'] = 'display_data';\n",
              "          await google.colab.output.renderOutput(dataTable, element);\n",
              "          const docLink = document.createElement('div');\n",
              "          docLink.innerHTML = docLinkHtml;\n",
              "          element.appendChild(docLink);\n",
              "        }\n",
              "      </script>\n",
              "    </div>\n",
              "  </div>\n",
              "  "
            ]
          },
          "metadata": {},
          "execution_count": 147
        }
      ]
    },
    {
      "cell_type": "markdown",
      "source": [
        "Now we want to further enhance this dataframe to also include the entity level as well as the level and the name of the parent entitiy"
      ],
      "metadata": {
        "id": "3GxUy1MFmSzg"
      }
    },
    {
      "cell_type": "code",
      "source": [
        "# Create list of entites which should be removed\n",
        "ent_to_rmv_list = entities_to_removed.entity_id_to_remove.to_list()"
      ],
      "metadata": {
        "id": "lnPeADsC2nRg"
      },
      "execution_count": 150,
      "outputs": []
    },
    {
      "cell_type": "code",
      "source": [
        "col_names = ['ent_id', 'level_1', 'level_2', 'level_3', 'level_4', 'level_5', 'level_6', 'level_7', 'level_8', 'level_9', 'level_10']\n",
        "entities[col_names].sample(1)"
      ],
      "metadata": {
        "colab": {
          "base_uri": "https://localhost:8080/",
          "height": 81
        },
        "id": "1hChJJJBmjwP",
        "outputId": "081647dc-91ae-4868-c9e0-84d8b53dfc1c"
      },
      "execution_count": 151,
      "outputs": [
        {
          "output_type": "execute_result",
          "data": {
            "text/plain": [
              "                ent_id                 level_1        level_2 level_3 level_4  \\\n",
              "1722670  IS technology  domain specific entity  IS technology     NaN     NaN   \n",
              "\n",
              "        level_5 level_6 level_7 level_8 level_9 level_10  \n",
              "1722670     NaN     NaN     NaN     NaN     NaN      NaN  "
            ],
            "text/html": [
              "\n",
              "  <div id=\"df-6bd2de99-dbc6-43f1-af42-a468139e327f\">\n",
              "    <div class=\"colab-df-container\">\n",
              "      <div>\n",
              "<style scoped>\n",
              "    .dataframe tbody tr th:only-of-type {\n",
              "        vertical-align: middle;\n",
              "    }\n",
              "\n",
              "    .dataframe tbody tr th {\n",
              "        vertical-align: top;\n",
              "    }\n",
              "\n",
              "    .dataframe thead th {\n",
              "        text-align: right;\n",
              "    }\n",
              "</style>\n",
              "<table border=\"1\" class=\"dataframe\">\n",
              "  <thead>\n",
              "    <tr style=\"text-align: right;\">\n",
              "      <th></th>\n",
              "      <th>ent_id</th>\n",
              "      <th>level_1</th>\n",
              "      <th>level_2</th>\n",
              "      <th>level_3</th>\n",
              "      <th>level_4</th>\n",
              "      <th>level_5</th>\n",
              "      <th>level_6</th>\n",
              "      <th>level_7</th>\n",
              "      <th>level_8</th>\n",
              "      <th>level_9</th>\n",
              "      <th>level_10</th>\n",
              "    </tr>\n",
              "  </thead>\n",
              "  <tbody>\n",
              "    <tr>\n",
              "      <th>1722670</th>\n",
              "      <td>IS technology</td>\n",
              "      <td>domain specific entity</td>\n",
              "      <td>IS technology</td>\n",
              "      <td>NaN</td>\n",
              "      <td>NaN</td>\n",
              "      <td>NaN</td>\n",
              "      <td>NaN</td>\n",
              "      <td>NaN</td>\n",
              "      <td>NaN</td>\n",
              "      <td>NaN</td>\n",
              "      <td>NaN</td>\n",
              "    </tr>\n",
              "  </tbody>\n",
              "</table>\n",
              "</div>\n",
              "      <button class=\"colab-df-convert\" onclick=\"convertToInteractive('df-6bd2de99-dbc6-43f1-af42-a468139e327f')\"\n",
              "              title=\"Convert this dataframe to an interactive table.\"\n",
              "              style=\"display:none;\">\n",
              "        \n",
              "  <svg xmlns=\"http://www.w3.org/2000/svg\" height=\"24px\"viewBox=\"0 0 24 24\"\n",
              "       width=\"24px\">\n",
              "    <path d=\"M0 0h24v24H0V0z\" fill=\"none\"/>\n",
              "    <path d=\"M18.56 5.44l.94 2.06.94-2.06 2.06-.94-2.06-.94-.94-2.06-.94 2.06-2.06.94zm-11 1L8.5 8.5l.94-2.06 2.06-.94-2.06-.94L8.5 2.5l-.94 2.06-2.06.94zm10 10l.94 2.06.94-2.06 2.06-.94-2.06-.94-.94-2.06-.94 2.06-2.06.94z\"/><path d=\"M17.41 7.96l-1.37-1.37c-.4-.4-.92-.59-1.43-.59-.52 0-1.04.2-1.43.59L10.3 9.45l-7.72 7.72c-.78.78-.78 2.05 0 2.83L4 21.41c.39.39.9.59 1.41.59.51 0 1.02-.2 1.41-.59l7.78-7.78 2.81-2.81c.8-.78.8-2.07 0-2.86zM5.41 20L4 18.59l7.72-7.72 1.47 1.35L5.41 20z\"/>\n",
              "  </svg>\n",
              "      </button>\n",
              "      \n",
              "  <style>\n",
              "    .colab-df-container {\n",
              "      display:flex;\n",
              "      flex-wrap:wrap;\n",
              "      gap: 12px;\n",
              "    }\n",
              "\n",
              "    .colab-df-convert {\n",
              "      background-color: #E8F0FE;\n",
              "      border: none;\n",
              "      border-radius: 50%;\n",
              "      cursor: pointer;\n",
              "      display: none;\n",
              "      fill: #1967D2;\n",
              "      height: 32px;\n",
              "      padding: 0 0 0 0;\n",
              "      width: 32px;\n",
              "    }\n",
              "\n",
              "    .colab-df-convert:hover {\n",
              "      background-color: #E2EBFA;\n",
              "      box-shadow: 0px 1px 2px rgba(60, 64, 67, 0.3), 0px 1px 3px 1px rgba(60, 64, 67, 0.15);\n",
              "      fill: #174EA6;\n",
              "    }\n",
              "\n",
              "    [theme=dark] .colab-df-convert {\n",
              "      background-color: #3B4455;\n",
              "      fill: #D2E3FC;\n",
              "    }\n",
              "\n",
              "    [theme=dark] .colab-df-convert:hover {\n",
              "      background-color: #434B5C;\n",
              "      box-shadow: 0px 1px 3px 1px rgba(0, 0, 0, 0.15);\n",
              "      filter: drop-shadow(0px 1px 2px rgba(0, 0, 0, 0.3));\n",
              "      fill: #FFFFFF;\n",
              "    }\n",
              "  </style>\n",
              "\n",
              "      <script>\n",
              "        const buttonEl =\n",
              "          document.querySelector('#df-6bd2de99-dbc6-43f1-af42-a468139e327f button.colab-df-convert');\n",
              "        buttonEl.style.display =\n",
              "          google.colab.kernel.accessAllowed ? 'block' : 'none';\n",
              "\n",
              "        async function convertToInteractive(key) {\n",
              "          const element = document.querySelector('#df-6bd2de99-dbc6-43f1-af42-a468139e327f');\n",
              "          const dataTable =\n",
              "            await google.colab.kernel.invokeFunction('convertToInteractive',\n",
              "                                                     [key], {});\n",
              "          if (!dataTable) return;\n",
              "\n",
              "          const docLinkHtml = 'Like what you see? Visit the ' +\n",
              "            '<a target=\"_blank\" href=https://colab.research.google.com/notebooks/data_table.ipynb>data table notebook</a>'\n",
              "            + ' to learn more about interactive tables.';\n",
              "          element.innerHTML = '';\n",
              "          dataTable['output_type'] = 'display_data';\n",
              "          await google.colab.output.renderOutput(dataTable, element);\n",
              "          const docLink = document.createElement('div');\n",
              "          docLink.innerHTML = docLinkHtml;\n",
              "          element.appendChild(docLink);\n",
              "        }\n",
              "      </script>\n",
              "    </div>\n",
              "  </div>\n",
              "  "
            ]
          },
          "metadata": {},
          "execution_count": 151
        }
      ]
    },
    {
      "cell_type": "markdown",
      "source": [
        "Each entry in the entity table includes information about the matched entity as well as the \"position\" within the ontology"
      ],
      "metadata": {
        "id": "Iy0e2-_bmtC3"
      }
    },
    {
      "cell_type": "code",
      "source": [
        "# Define function to get last index which is not NaN => The level of the entity within the ontology\n",
        "def get_last(a):\n",
        "  '''Get last index of list which is not NaN'''\n",
        "  for i, e in enumerate(reversed(a)):\n",
        "    if e is not np.nan:\n",
        "      return len(a) - i -1\n",
        "  return -1"
      ],
      "metadata": {
        "id": "DrT_IinmTWsz"
      },
      "execution_count": 152,
      "outputs": []
    },
    {
      "cell_type": "code",
      "source": [
        "# Function to take a dataframe and create dictonary of level of entity, level of parent entity and name of parent entity\n",
        "def get_idx_par_ent(df):\n",
        "  '''Get level of entity, level of parent entity and name of parent entity'''\n",
        "  ent_lvls = df.values.flatten().tolist() \n",
        "  lvl_ent = get_last(ent_lvls)\n",
        "  lvl_par_ent = lvl_ent-1\n",
        "  par_ent = ent_lvls[lvl_par_ent]\n",
        "\n",
        "  return {\"entity_id\":ent_lvls[0], \"lvl_ent\":lvl_ent, \"lvl_par_ent\":lvl_par_ent, \"par_ent\":par_ent}"
      ],
      "metadata": {
        "id": "I-sUIuwDXtnY"
      },
      "execution_count": 153,
      "outputs": []
    },
    {
      "cell_type": "code",
      "source": [
        "col_names = ['ent_id', 'level_1', 'level_2', 'level_3', 'level_4', 'level_5', 'level_6', 'level_7', 'level_8', 'level_9', 'level_10']\n",
        "\n",
        "# Create df which includes one row per entity which should be removed (since we only care about the position in the ontology)\n",
        "ent_rmv_uniq = entities[entities.ent_id.isin(entities_to_removed.entity_id_to_remove.to_list())].drop_duplicates(\"ent_id\")[col_names]\n",
        "\n",
        "# Apply function to get level information of each entity and store result as dataframe\n",
        "ent_rmv_uniq_df = ent_rmv_uniq.apply(lambda x: get_idx_par_ent(x), axis=1, result_type='expand')"
      ],
      "metadata": {
        "id": "zVbs9GzOdh_r"
      },
      "execution_count": 154,
      "outputs": []
    },
    {
      "cell_type": "code",
      "source": [
        "# Merge resulting dataframe onto existing entities_to_removed df\n",
        "entities_to_removed = entities_to_removed.merge(ent_rmv_uniq_df ,left_on=\"entity_id_to_remove\", \n",
        "                                                right_on=\"entity_id\", how=\"left\").drop(columns=\"entity_id\")"
      ],
      "metadata": {
        "id": "u4YjtUBrgl6g"
      },
      "execution_count": 155,
      "outputs": []
    },
    {
      "cell_type": "code",
      "source": [
        "# Check that we found a parent entity from each entity in the list\n",
        "entities_to_removed[entities_to_removed.lvl_par_ent.isna()]"
      ],
      "metadata": {
        "colab": {
          "base_uri": "https://localhost:8080/",
          "height": 49
        },
        "id": "981D8hxar0Gy",
        "outputId": "5944a265-0e73-40c1-8cc7-46ec7fea2dfa"
      },
      "execution_count": 156,
      "outputs": [
        {
          "output_type": "execute_result",
          "data": {
            "text/plain": [
              "Empty DataFrame\n",
              "Columns: [level_1, level_2, entity_id_to_remove, has_child_nodes, lvl_ent, lvl_par_ent, par_ent]\n",
              "Index: []"
            ],
            "text/html": [
              "\n",
              "  <div id=\"df-0a8a2b35-2929-447d-9311-3eea36fa18c3\">\n",
              "    <div class=\"colab-df-container\">\n",
              "      <div>\n",
              "<style scoped>\n",
              "    .dataframe tbody tr th:only-of-type {\n",
              "        vertical-align: middle;\n",
              "    }\n",
              "\n",
              "    .dataframe tbody tr th {\n",
              "        vertical-align: top;\n",
              "    }\n",
              "\n",
              "    .dataframe thead th {\n",
              "        text-align: right;\n",
              "    }\n",
              "</style>\n",
              "<table border=\"1\" class=\"dataframe\">\n",
              "  <thead>\n",
              "    <tr style=\"text-align: right;\">\n",
              "      <th></th>\n",
              "      <th>level_1</th>\n",
              "      <th>level_2</th>\n",
              "      <th>entity_id_to_remove</th>\n",
              "      <th>has_child_nodes</th>\n",
              "      <th>lvl_ent</th>\n",
              "      <th>lvl_par_ent</th>\n",
              "      <th>par_ent</th>\n",
              "    </tr>\n",
              "  </thead>\n",
              "  <tbody>\n",
              "  </tbody>\n",
              "</table>\n",
              "</div>\n",
              "      <button class=\"colab-df-convert\" onclick=\"convertToInteractive('df-0a8a2b35-2929-447d-9311-3eea36fa18c3')\"\n",
              "              title=\"Convert this dataframe to an interactive table.\"\n",
              "              style=\"display:none;\">\n",
              "        \n",
              "  <svg xmlns=\"http://www.w3.org/2000/svg\" height=\"24px\"viewBox=\"0 0 24 24\"\n",
              "       width=\"24px\">\n",
              "    <path d=\"M0 0h24v24H0V0z\" fill=\"none\"/>\n",
              "    <path d=\"M18.56 5.44l.94 2.06.94-2.06 2.06-.94-2.06-.94-.94-2.06-.94 2.06-2.06.94zm-11 1L8.5 8.5l.94-2.06 2.06-.94-2.06-.94L8.5 2.5l-.94 2.06-2.06.94zm10 10l.94 2.06.94-2.06 2.06-.94-2.06-.94-.94-2.06-.94 2.06-2.06.94z\"/><path d=\"M17.41 7.96l-1.37-1.37c-.4-.4-.92-.59-1.43-.59-.52 0-1.04.2-1.43.59L10.3 9.45l-7.72 7.72c-.78.78-.78 2.05 0 2.83L4 21.41c.39.39.9.59 1.41.59.51 0 1.02-.2 1.41-.59l7.78-7.78 2.81-2.81c.8-.78.8-2.07 0-2.86zM5.41 20L4 18.59l7.72-7.72 1.47 1.35L5.41 20z\"/>\n",
              "  </svg>\n",
              "      </button>\n",
              "      \n",
              "  <style>\n",
              "    .colab-df-container {\n",
              "      display:flex;\n",
              "      flex-wrap:wrap;\n",
              "      gap: 12px;\n",
              "    }\n",
              "\n",
              "    .colab-df-convert {\n",
              "      background-color: #E8F0FE;\n",
              "      border: none;\n",
              "      border-radius: 50%;\n",
              "      cursor: pointer;\n",
              "      display: none;\n",
              "      fill: #1967D2;\n",
              "      height: 32px;\n",
              "      padding: 0 0 0 0;\n",
              "      width: 32px;\n",
              "    }\n",
              "\n",
              "    .colab-df-convert:hover {\n",
              "      background-color: #E2EBFA;\n",
              "      box-shadow: 0px 1px 2px rgba(60, 64, 67, 0.3), 0px 1px 3px 1px rgba(60, 64, 67, 0.15);\n",
              "      fill: #174EA6;\n",
              "    }\n",
              "\n",
              "    [theme=dark] .colab-df-convert {\n",
              "      background-color: #3B4455;\n",
              "      fill: #D2E3FC;\n",
              "    }\n",
              "\n",
              "    [theme=dark] .colab-df-convert:hover {\n",
              "      background-color: #434B5C;\n",
              "      box-shadow: 0px 1px 3px 1px rgba(0, 0, 0, 0.15);\n",
              "      filter: drop-shadow(0px 1px 2px rgba(0, 0, 0, 0.3));\n",
              "      fill: #FFFFFF;\n",
              "    }\n",
              "  </style>\n",
              "\n",
              "      <script>\n",
              "        const buttonEl =\n",
              "          document.querySelector('#df-0a8a2b35-2929-447d-9311-3eea36fa18c3 button.colab-df-convert');\n",
              "        buttonEl.style.display =\n",
              "          google.colab.kernel.accessAllowed ? 'block' : 'none';\n",
              "\n",
              "        async function convertToInteractive(key) {\n",
              "          const element = document.querySelector('#df-0a8a2b35-2929-447d-9311-3eea36fa18c3');\n",
              "          const dataTable =\n",
              "            await google.colab.kernel.invokeFunction('convertToInteractive',\n",
              "                                                     [key], {});\n",
              "          if (!dataTable) return;\n",
              "\n",
              "          const docLinkHtml = 'Like what you see? Visit the ' +\n",
              "            '<a target=\"_blank\" href=https://colab.research.google.com/notebooks/data_table.ipynb>data table notebook</a>'\n",
              "            + ' to learn more about interactive tables.';\n",
              "          element.innerHTML = '';\n",
              "          dataTable['output_type'] = 'display_data';\n",
              "          await google.colab.output.renderOutput(dataTable, element);\n",
              "          const docLink = document.createElement('div');\n",
              "          docLink.innerHTML = docLinkHtml;\n",
              "          element.appendChild(docLink);\n",
              "        }\n",
              "      </script>\n",
              "    </div>\n",
              "  </div>\n",
              "  "
            ]
          },
          "metadata": {},
          "execution_count": 156
        }
      ]
    },
    {
      "cell_type": "code",
      "source": [
        "# Chck results visually\n",
        "entities_to_removed.sample(2)"
      ],
      "metadata": {
        "colab": {
          "base_uri": "https://localhost:8080/",
          "height": 112
        },
        "id": "hEiRK_Gpl5a_",
        "outputId": "bf2453b8-b613-4851-a06b-9f3927c44645"
      },
      "execution_count": 157,
      "outputs": [
        {
          "output_type": "execute_result",
          "data": {
            "text/plain": [
              "                  level_1               level_2 entity_id_to_remove  \\\n",
              "32  methodological entity  data analysis method   ensemble learning   \n",
              "63     theoretical entity                theory   two-factor theory   \n",
              "\n",
              "    has_child_nodes  lvl_ent  lvl_par_ent                par_ent  \n",
              "32              1.0        8            7  classification method  \n",
              "63              0.0        5            4  theory of work design  "
            ],
            "text/html": [
              "\n",
              "  <div id=\"df-be3e18f9-5317-43f4-95d6-909f6c36b81e\">\n",
              "    <div class=\"colab-df-container\">\n",
              "      <div>\n",
              "<style scoped>\n",
              "    .dataframe tbody tr th:only-of-type {\n",
              "        vertical-align: middle;\n",
              "    }\n",
              "\n",
              "    .dataframe tbody tr th {\n",
              "        vertical-align: top;\n",
              "    }\n",
              "\n",
              "    .dataframe thead th {\n",
              "        text-align: right;\n",
              "    }\n",
              "</style>\n",
              "<table border=\"1\" class=\"dataframe\">\n",
              "  <thead>\n",
              "    <tr style=\"text-align: right;\">\n",
              "      <th></th>\n",
              "      <th>level_1</th>\n",
              "      <th>level_2</th>\n",
              "      <th>entity_id_to_remove</th>\n",
              "      <th>has_child_nodes</th>\n",
              "      <th>lvl_ent</th>\n",
              "      <th>lvl_par_ent</th>\n",
              "      <th>par_ent</th>\n",
              "    </tr>\n",
              "  </thead>\n",
              "  <tbody>\n",
              "    <tr>\n",
              "      <th>32</th>\n",
              "      <td>methodological entity</td>\n",
              "      <td>data analysis method</td>\n",
              "      <td>ensemble learning</td>\n",
              "      <td>1.0</td>\n",
              "      <td>8</td>\n",
              "      <td>7</td>\n",
              "      <td>classification method</td>\n",
              "    </tr>\n",
              "    <tr>\n",
              "      <th>63</th>\n",
              "      <td>theoretical entity</td>\n",
              "      <td>theory</td>\n",
              "      <td>two-factor theory</td>\n",
              "      <td>0.0</td>\n",
              "      <td>5</td>\n",
              "      <td>4</td>\n",
              "      <td>theory of work design</td>\n",
              "    </tr>\n",
              "  </tbody>\n",
              "</table>\n",
              "</div>\n",
              "      <button class=\"colab-df-convert\" onclick=\"convertToInteractive('df-be3e18f9-5317-43f4-95d6-909f6c36b81e')\"\n",
              "              title=\"Convert this dataframe to an interactive table.\"\n",
              "              style=\"display:none;\">\n",
              "        \n",
              "  <svg xmlns=\"http://www.w3.org/2000/svg\" height=\"24px\"viewBox=\"0 0 24 24\"\n",
              "       width=\"24px\">\n",
              "    <path d=\"M0 0h24v24H0V0z\" fill=\"none\"/>\n",
              "    <path d=\"M18.56 5.44l.94 2.06.94-2.06 2.06-.94-2.06-.94-.94-2.06-.94 2.06-2.06.94zm-11 1L8.5 8.5l.94-2.06 2.06-.94-2.06-.94L8.5 2.5l-.94 2.06-2.06.94zm10 10l.94 2.06.94-2.06 2.06-.94-2.06-.94-.94-2.06-.94 2.06-2.06.94z\"/><path d=\"M17.41 7.96l-1.37-1.37c-.4-.4-.92-.59-1.43-.59-.52 0-1.04.2-1.43.59L10.3 9.45l-7.72 7.72c-.78.78-.78 2.05 0 2.83L4 21.41c.39.39.9.59 1.41.59.51 0 1.02-.2 1.41-.59l7.78-7.78 2.81-2.81c.8-.78.8-2.07 0-2.86zM5.41 20L4 18.59l7.72-7.72 1.47 1.35L5.41 20z\"/>\n",
              "  </svg>\n",
              "      </button>\n",
              "      \n",
              "  <style>\n",
              "    .colab-df-container {\n",
              "      display:flex;\n",
              "      flex-wrap:wrap;\n",
              "      gap: 12px;\n",
              "    }\n",
              "\n",
              "    .colab-df-convert {\n",
              "      background-color: #E8F0FE;\n",
              "      border: none;\n",
              "      border-radius: 50%;\n",
              "      cursor: pointer;\n",
              "      display: none;\n",
              "      fill: #1967D2;\n",
              "      height: 32px;\n",
              "      padding: 0 0 0 0;\n",
              "      width: 32px;\n",
              "    }\n",
              "\n",
              "    .colab-df-convert:hover {\n",
              "      background-color: #E2EBFA;\n",
              "      box-shadow: 0px 1px 2px rgba(60, 64, 67, 0.3), 0px 1px 3px 1px rgba(60, 64, 67, 0.15);\n",
              "      fill: #174EA6;\n",
              "    }\n",
              "\n",
              "    [theme=dark] .colab-df-convert {\n",
              "      background-color: #3B4455;\n",
              "      fill: #D2E3FC;\n",
              "    }\n",
              "\n",
              "    [theme=dark] .colab-df-convert:hover {\n",
              "      background-color: #434B5C;\n",
              "      box-shadow: 0px 1px 3px 1px rgba(0, 0, 0, 0.15);\n",
              "      filter: drop-shadow(0px 1px 2px rgba(0, 0, 0, 0.3));\n",
              "      fill: #FFFFFF;\n",
              "    }\n",
              "  </style>\n",
              "\n",
              "      <script>\n",
              "        const buttonEl =\n",
              "          document.querySelector('#df-be3e18f9-5317-43f4-95d6-909f6c36b81e button.colab-df-convert');\n",
              "        buttonEl.style.display =\n",
              "          google.colab.kernel.accessAllowed ? 'block' : 'none';\n",
              "\n",
              "        async function convertToInteractive(key) {\n",
              "          const element = document.querySelector('#df-be3e18f9-5317-43f4-95d6-909f6c36b81e');\n",
              "          const dataTable =\n",
              "            await google.colab.kernel.invokeFunction('convertToInteractive',\n",
              "                                                     [key], {});\n",
              "          if (!dataTable) return;\n",
              "\n",
              "          const docLinkHtml = 'Like what you see? Visit the ' +\n",
              "            '<a target=\"_blank\" href=https://colab.research.google.com/notebooks/data_table.ipynb>data table notebook</a>'\n",
              "            + ' to learn more about interactive tables.';\n",
              "          element.innerHTML = '';\n",
              "          dataTable['output_type'] = 'display_data';\n",
              "          await google.colab.output.renderOutput(dataTable, element);\n",
              "          const docLink = document.createElement('div');\n",
              "          docLink.innerHTML = docLinkHtml;\n",
              "          element.appendChild(docLink);\n",
              "        }\n",
              "      </script>\n",
              "    </div>\n",
              "  </div>\n",
              "  "
            ]
          },
          "metadata": {},
          "execution_count": 157
        }
      ]
    },
    {
      "cell_type": "markdown",
      "source": [
        "Now we want to even further enhance this dataframe to also include: \n",
        "- a list of different entities which belong to the specific parent node\n",
        "- a list of sentences in which the entity occurs\n",
        "- a list of articles in which the entity occurs\n",
        "- also we want the number of occurences for all three points from above"
      ],
      "metadata": {
        "id": "7DzDUS7bZmRS"
      }
    },
    {
      "cell_type": "code",
      "source": [
        "tmp_list=[] # List of entities and child nodes which have to be removed from train ontology \n",
        "\n",
        "for entity in ent_to_rmv_list:\n",
        "  \n",
        "  #print(entity, (entities.values == entity).any(1).astype(int).max()) #to visually check if the random picked nodes are even included in entities database (so if there has been a match yet)\n",
        "\n",
        "  tmp_ = entities[entities.values == entity][[\"ent_id\", \"article_id\", \"sentence_id\"]].apply(lambda x: x.unique().tolist()) #get all the unique values for all three columns\n",
        "  df_tmp = pd.DataFrame(tmp_).T #store results as df'\n",
        "  df_tmp.columns=[\"ent_list\", \"articles_list\", \"sentences_list\"] #rename columns\n",
        "  tmp_list.append(df_tmp) #add df to list\n",
        "\n",
        "# Add list of children per entity, list of articles and sentences as new column to dataframe\n",
        "entities_to_removed = pd.concat((entities_to_removed, pd.concat(tmp_list).reset_index(drop=True)), axis=1)\n",
        "\n",
        "# add number of occurences as separate columns\n",
        "entities_to_removed[[\"num_ent\", \"num_articles\", \"num_sentences\"]] = entities_to_removed[[\"ent_list\", \"articles_list\", \"sentences_list\"]].applymap(lambda x: len(x))"
      ],
      "metadata": {
        "id": "XE691P3FZOt8"
      },
      "execution_count": 158,
      "outputs": []
    },
    {
      "cell_type": "code",
      "source": [
        "entities_to_removed.sample(3)"
      ],
      "metadata": {
        "colab": {
          "base_uri": "https://localhost:8080/",
          "height": 346
        },
        "id": "Oe5GLtNTLwXY",
        "outputId": "cdd5209d-5783-46e5-dc19-f6560f538f98"
      },
      "execution_count": 159,
      "outputs": [
        {
          "output_type": "execute_result",
          "data": {
            "text/plain": [
              "                   level_1               level_2   entity_id_to_remove  \\\n",
              "63      theoretical entity                theory     two-factor theory   \n",
              "35   methodological entity  data analysis method  positive correlation   \n",
              "12  domain specific entity         IS technology    recommender system   \n",
              "\n",
              "    has_child_nodes  lvl_ent  lvl_par_ent                        par_ent  \\\n",
              "63              0.0        5            4          theory of work design   \n",
              "35              0.0        6            5          correlation direction   \n",
              "12              1.0        5            4  analytical information system   \n",
              "\n",
              "                                             ent_list  \\\n",
              "63                                [two-factor theory]   \n",
              "35                             [positive correlation]   \n",
              "12  [recommender system, collaborative filtering, ...   \n",
              "\n",
              "                                        articles_list  \\\n",
              "63  [4276, 2496, 1062, 2751, 5122, 2079, 4040, 558...   \n",
              "35  [191, 2657, 3692, 4062, 654, 6328, 4259, 3209,...   \n",
              "12  [1838, 5414, 5415, 5604, 1623, 2656, 2657, 439...   \n",
              "\n",
              "                                       sentences_list  num_ent  num_articles  \\\n",
              "63  [4276_5888_5913, 2496_5155_5164, 2496_5620_563...        1             9   \n",
              "35  [191_1683_1705, 2657_9769_9804, 3692_9326_9359...        1           289   \n",
              "12  [1838_2291_2339, 5414_13785_13803, 5415_10502_...        3           311   \n",
              "\n",
              "    num_sentences  \n",
              "63             48  \n",
              "35            427  \n",
              "12           2680  "
            ],
            "text/html": [
              "\n",
              "  <div id=\"df-cc9e7449-15a2-4e34-9fc5-2ade9d0c081f\">\n",
              "    <div class=\"colab-df-container\">\n",
              "      <div>\n",
              "<style scoped>\n",
              "    .dataframe tbody tr th:only-of-type {\n",
              "        vertical-align: middle;\n",
              "    }\n",
              "\n",
              "    .dataframe tbody tr th {\n",
              "        vertical-align: top;\n",
              "    }\n",
              "\n",
              "    .dataframe thead th {\n",
              "        text-align: right;\n",
              "    }\n",
              "</style>\n",
              "<table border=\"1\" class=\"dataframe\">\n",
              "  <thead>\n",
              "    <tr style=\"text-align: right;\">\n",
              "      <th></th>\n",
              "      <th>level_1</th>\n",
              "      <th>level_2</th>\n",
              "      <th>entity_id_to_remove</th>\n",
              "      <th>has_child_nodes</th>\n",
              "      <th>lvl_ent</th>\n",
              "      <th>lvl_par_ent</th>\n",
              "      <th>par_ent</th>\n",
              "      <th>ent_list</th>\n",
              "      <th>articles_list</th>\n",
              "      <th>sentences_list</th>\n",
              "      <th>num_ent</th>\n",
              "      <th>num_articles</th>\n",
              "      <th>num_sentences</th>\n",
              "    </tr>\n",
              "  </thead>\n",
              "  <tbody>\n",
              "    <tr>\n",
              "      <th>63</th>\n",
              "      <td>theoretical entity</td>\n",
              "      <td>theory</td>\n",
              "      <td>two-factor theory</td>\n",
              "      <td>0.0</td>\n",
              "      <td>5</td>\n",
              "      <td>4</td>\n",
              "      <td>theory of work design</td>\n",
              "      <td>[two-factor theory]</td>\n",
              "      <td>[4276, 2496, 1062, 2751, 5122, 2079, 4040, 558...</td>\n",
              "      <td>[4276_5888_5913, 2496_5155_5164, 2496_5620_563...</td>\n",
              "      <td>1</td>\n",
              "      <td>9</td>\n",
              "      <td>48</td>\n",
              "    </tr>\n",
              "    <tr>\n",
              "      <th>35</th>\n",
              "      <td>methodological entity</td>\n",
              "      <td>data analysis method</td>\n",
              "      <td>positive correlation</td>\n",
              "      <td>0.0</td>\n",
              "      <td>6</td>\n",
              "      <td>5</td>\n",
              "      <td>correlation direction</td>\n",
              "      <td>[positive correlation]</td>\n",
              "      <td>[191, 2657, 3692, 4062, 654, 6328, 4259, 3209,...</td>\n",
              "      <td>[191_1683_1705, 2657_9769_9804, 3692_9326_9359...</td>\n",
              "      <td>1</td>\n",
              "      <td>289</td>\n",
              "      <td>427</td>\n",
              "    </tr>\n",
              "    <tr>\n",
              "      <th>12</th>\n",
              "      <td>domain specific entity</td>\n",
              "      <td>IS technology</td>\n",
              "      <td>recommender system</td>\n",
              "      <td>1.0</td>\n",
              "      <td>5</td>\n",
              "      <td>4</td>\n",
              "      <td>analytical information system</td>\n",
              "      <td>[recommender system, collaborative filtering, ...</td>\n",
              "      <td>[1838, 5414, 5415, 5604, 1623, 2656, 2657, 439...</td>\n",
              "      <td>[1838_2291_2339, 5414_13785_13803, 5415_10502_...</td>\n",
              "      <td>3</td>\n",
              "      <td>311</td>\n",
              "      <td>2680</td>\n",
              "    </tr>\n",
              "  </tbody>\n",
              "</table>\n",
              "</div>\n",
              "      <button class=\"colab-df-convert\" onclick=\"convertToInteractive('df-cc9e7449-15a2-4e34-9fc5-2ade9d0c081f')\"\n",
              "              title=\"Convert this dataframe to an interactive table.\"\n",
              "              style=\"display:none;\">\n",
              "        \n",
              "  <svg xmlns=\"http://www.w3.org/2000/svg\" height=\"24px\"viewBox=\"0 0 24 24\"\n",
              "       width=\"24px\">\n",
              "    <path d=\"M0 0h24v24H0V0z\" fill=\"none\"/>\n",
              "    <path d=\"M18.56 5.44l.94 2.06.94-2.06 2.06-.94-2.06-.94-.94-2.06-.94 2.06-2.06.94zm-11 1L8.5 8.5l.94-2.06 2.06-.94-2.06-.94L8.5 2.5l-.94 2.06-2.06.94zm10 10l.94 2.06.94-2.06 2.06-.94-2.06-.94-.94-2.06-.94 2.06-2.06.94z\"/><path d=\"M17.41 7.96l-1.37-1.37c-.4-.4-.92-.59-1.43-.59-.52 0-1.04.2-1.43.59L10.3 9.45l-7.72 7.72c-.78.78-.78 2.05 0 2.83L4 21.41c.39.39.9.59 1.41.59.51 0 1.02-.2 1.41-.59l7.78-7.78 2.81-2.81c.8-.78.8-2.07 0-2.86zM5.41 20L4 18.59l7.72-7.72 1.47 1.35L5.41 20z\"/>\n",
              "  </svg>\n",
              "      </button>\n",
              "      \n",
              "  <style>\n",
              "    .colab-df-container {\n",
              "      display:flex;\n",
              "      flex-wrap:wrap;\n",
              "      gap: 12px;\n",
              "    }\n",
              "\n",
              "    .colab-df-convert {\n",
              "      background-color: #E8F0FE;\n",
              "      border: none;\n",
              "      border-radius: 50%;\n",
              "      cursor: pointer;\n",
              "      display: none;\n",
              "      fill: #1967D2;\n",
              "      height: 32px;\n",
              "      padding: 0 0 0 0;\n",
              "      width: 32px;\n",
              "    }\n",
              "\n",
              "    .colab-df-convert:hover {\n",
              "      background-color: #E2EBFA;\n",
              "      box-shadow: 0px 1px 2px rgba(60, 64, 67, 0.3), 0px 1px 3px 1px rgba(60, 64, 67, 0.15);\n",
              "      fill: #174EA6;\n",
              "    }\n",
              "\n",
              "    [theme=dark] .colab-df-convert {\n",
              "      background-color: #3B4455;\n",
              "      fill: #D2E3FC;\n",
              "    }\n",
              "\n",
              "    [theme=dark] .colab-df-convert:hover {\n",
              "      background-color: #434B5C;\n",
              "      box-shadow: 0px 1px 3px 1px rgba(0, 0, 0, 0.15);\n",
              "      filter: drop-shadow(0px 1px 2px rgba(0, 0, 0, 0.3));\n",
              "      fill: #FFFFFF;\n",
              "    }\n",
              "  </style>\n",
              "\n",
              "      <script>\n",
              "        const buttonEl =\n",
              "          document.querySelector('#df-cc9e7449-15a2-4e34-9fc5-2ade9d0c081f button.colab-df-convert');\n",
              "        buttonEl.style.display =\n",
              "          google.colab.kernel.accessAllowed ? 'block' : 'none';\n",
              "\n",
              "        async function convertToInteractive(key) {\n",
              "          const element = document.querySelector('#df-cc9e7449-15a2-4e34-9fc5-2ade9d0c081f');\n",
              "          const dataTable =\n",
              "            await google.colab.kernel.invokeFunction('convertToInteractive',\n",
              "                                                     [key], {});\n",
              "          if (!dataTable) return;\n",
              "\n",
              "          const docLinkHtml = 'Like what you see? Visit the ' +\n",
              "            '<a target=\"_blank\" href=https://colab.research.google.com/notebooks/data_table.ipynb>data table notebook</a>'\n",
              "            + ' to learn more about interactive tables.';\n",
              "          element.innerHTML = '';\n",
              "          dataTable['output_type'] = 'display_data';\n",
              "          await google.colab.output.renderOutput(dataTable, element);\n",
              "          const docLink = document.createElement('div');\n",
              "          docLink.innerHTML = docLinkHtml;\n",
              "          element.appendChild(docLink);\n",
              "        }\n",
              "      </script>\n",
              "    </div>\n",
              "  </div>\n",
              "  "
            ]
          },
          "metadata": {},
          "execution_count": 159
        }
      ]
    },
    {
      "cell_type": "markdown",
      "source": [
        "Now we can create a list of all entities and child entities which we then use to filter the entity dataframe "
      ],
      "metadata": {
        "id": "DC79ModAd-S3"
      }
    },
    {
      "cell_type": "code",
      "source": [
        "#flatten list of entities which need to be removed \n",
        "entities_to_remove_cmpl = [x for xs in entities_to_removed.ent_list.to_list() for x in xs] # add all parent (and child) entities to a list which then can be excluded from the train dataframe"
      ],
      "metadata": {
        "id": "TL2AKYJX46g1"
      },
      "execution_count": 160,
      "outputs": []
    },
    {
      "cell_type": "code",
      "source": [
        "# Check number of entities which need to be removed from train set\n",
        "len(entities_to_remove_cmpl)"
      ],
      "metadata": {
        "colab": {
          "base_uri": "https://localhost:8080/"
        },
        "id": "IthJOIfV5whc",
        "outputId": "66e4e142-bd80-4759-dc3f-95c3dd2b6bcf"
      },
      "execution_count": 161,
      "outputs": [
        {
          "output_type": "execute_result",
          "data": {
            "text/plain": [
              "156"
            ]
          },
          "metadata": {},
          "execution_count": 161
        }
      ]
    },
    {
      "cell_type": "code",
      "source": [
        "# Lets check the distributiton of the selcted entities accross the ontology\n",
        "entities_to_removed.groupby([\"level_1\", \"level_2\", \"lvl_ent\"]).aggregate({'num_ent' :[\"sum\"], \"entity_id_to_remove\":[\"count\"]})"
      ],
      "metadata": {
        "id": "3N6FKsSt3E4f",
        "outputId": "9c5972b1-3071-4259-e878-438629e5f5ab",
        "colab": {
          "base_uri": "https://localhost:8080/",
          "height": 1000
        }
      },
      "execution_count": 214,
      "outputs": [
        {
          "output_type": "execute_result",
          "data": {
            "text/plain": [
              "                                                    num_ent  \\\n",
              "                                                        sum   \n",
              "level_1                level_2              lvl_ent           \n",
              "domain specific entity Economic sector      3             1   \n",
              "                                            4            10   \n",
              "                                            5             2   \n",
              "                       IS technology        4            16   \n",
              "                                            5            12   \n",
              "                                            7             4   \n",
              "                       IS topic             3            10   \n",
              "                                            4            10   \n",
              "                                            5             9   \n",
              "                                            6             6   \n",
              "                       study object         4             2   \n",
              "                                            5             1   \n",
              "methodological entity  data analysis method 4             1   \n",
              "                                            5             6   \n",
              "                                            6             1   \n",
              "                                            7             3   \n",
              "                                            8             8   \n",
              "                                            9             2   \n",
              "                       research method      5             3   \n",
              "                                            6            11   \n",
              "                                            7             2   \n",
              "                       sampling             4             3   \n",
              "                       statistical metric   3             2   \n",
              "                                            4             1   \n",
              "                       validity             4             1   \n",
              "                                            5             3   \n",
              "theoretical entity     level of analysis    3             3   \n",
              "                                            4             1   \n",
              "                       model                3             2   \n",
              "                                            4             1   \n",
              "                                            5             4   \n",
              "                                            6             1   \n",
              "                       research paradigm    3             2   \n",
              "                                            4             1   \n",
              "                       theory               4            10   \n",
              "                                            5             1   \n",
              "\n",
              "                                                    entity_id_to_remove  \n",
              "                                                                  count  \n",
              "level_1                level_2              lvl_ent                      \n",
              "domain specific entity Economic sector      3                         1  \n",
              "                                            4                         3  \n",
              "                                            5                         2  \n",
              "                       IS technology        4                         2  \n",
              "                                            5                         4  \n",
              "                                            7                         1  \n",
              "                       IS topic             3                         1  \n",
              "                                            4                         3  \n",
              "                                            5                         3  \n",
              "                                            6                         1  \n",
              "                       study object         4                         2  \n",
              "                                            5                         1  \n",
              "methodological entity  data analysis method 4                         1  \n",
              "                                            5                         3  \n",
              "                                            6                         1  \n",
              "                                            7                         3  \n",
              "                                            8                         1  \n",
              "                                            9                         1  \n",
              "                       research method      5                         1  \n",
              "                                            6                         4  \n",
              "                                            7                         2  \n",
              "                       sampling             4                         2  \n",
              "                       statistical metric   3                         2  \n",
              "                                            4                         1  \n",
              "                       validity             4                         1  \n",
              "                                            5                         1  \n",
              "theoretical entity     level of analysis    3                         1  \n",
              "                                            4                         1  \n",
              "                       model                3                         2  \n",
              "                                            4                         1  \n",
              "                                            5                         3  \n",
              "                                            6                         1  \n",
              "                       research paradigm    3                         1  \n",
              "                                            4                         1  \n",
              "                       theory               4                         6  \n",
              "                                            5                         1  "
            ],
            "text/html": [
              "\n",
              "  <div id=\"df-52a9d4b8-6b6a-47de-b199-027e6a350104\">\n",
              "    <div class=\"colab-df-container\">\n",
              "      <div>\n",
              "<style scoped>\n",
              "    .dataframe tbody tr th:only-of-type {\n",
              "        vertical-align: middle;\n",
              "    }\n",
              "\n",
              "    .dataframe tbody tr th {\n",
              "        vertical-align: top;\n",
              "    }\n",
              "\n",
              "    .dataframe thead tr th {\n",
              "        text-align: left;\n",
              "    }\n",
              "\n",
              "    .dataframe thead tr:last-of-type th {\n",
              "        text-align: right;\n",
              "    }\n",
              "</style>\n",
              "<table border=\"1\" class=\"dataframe\">\n",
              "  <thead>\n",
              "    <tr>\n",
              "      <th></th>\n",
              "      <th></th>\n",
              "      <th></th>\n",
              "      <th>num_ent</th>\n",
              "      <th>entity_id_to_remove</th>\n",
              "    </tr>\n",
              "    <tr>\n",
              "      <th></th>\n",
              "      <th></th>\n",
              "      <th></th>\n",
              "      <th>sum</th>\n",
              "      <th>count</th>\n",
              "    </tr>\n",
              "    <tr>\n",
              "      <th>level_1</th>\n",
              "      <th>level_2</th>\n",
              "      <th>lvl_ent</th>\n",
              "      <th></th>\n",
              "      <th></th>\n",
              "    </tr>\n",
              "  </thead>\n",
              "  <tbody>\n",
              "    <tr>\n",
              "      <th rowspan=\"12\" valign=\"top\">domain specific entity</th>\n",
              "      <th rowspan=\"3\" valign=\"top\">Economic sector</th>\n",
              "      <th>3</th>\n",
              "      <td>1</td>\n",
              "      <td>1</td>\n",
              "    </tr>\n",
              "    <tr>\n",
              "      <th>4</th>\n",
              "      <td>10</td>\n",
              "      <td>3</td>\n",
              "    </tr>\n",
              "    <tr>\n",
              "      <th>5</th>\n",
              "      <td>2</td>\n",
              "      <td>2</td>\n",
              "    </tr>\n",
              "    <tr>\n",
              "      <th rowspan=\"3\" valign=\"top\">IS technology</th>\n",
              "      <th>4</th>\n",
              "      <td>16</td>\n",
              "      <td>2</td>\n",
              "    </tr>\n",
              "    <tr>\n",
              "      <th>5</th>\n",
              "      <td>12</td>\n",
              "      <td>4</td>\n",
              "    </tr>\n",
              "    <tr>\n",
              "      <th>7</th>\n",
              "      <td>4</td>\n",
              "      <td>1</td>\n",
              "    </tr>\n",
              "    <tr>\n",
              "      <th rowspan=\"4\" valign=\"top\">IS topic</th>\n",
              "      <th>3</th>\n",
              "      <td>10</td>\n",
              "      <td>1</td>\n",
              "    </tr>\n",
              "    <tr>\n",
              "      <th>4</th>\n",
              "      <td>10</td>\n",
              "      <td>3</td>\n",
              "    </tr>\n",
              "    <tr>\n",
              "      <th>5</th>\n",
              "      <td>9</td>\n",
              "      <td>3</td>\n",
              "    </tr>\n",
              "    <tr>\n",
              "      <th>6</th>\n",
              "      <td>6</td>\n",
              "      <td>1</td>\n",
              "    </tr>\n",
              "    <tr>\n",
              "      <th rowspan=\"2\" valign=\"top\">study object</th>\n",
              "      <th>4</th>\n",
              "      <td>2</td>\n",
              "      <td>2</td>\n",
              "    </tr>\n",
              "    <tr>\n",
              "      <th>5</th>\n",
              "      <td>1</td>\n",
              "      <td>1</td>\n",
              "    </tr>\n",
              "    <tr>\n",
              "      <th rowspan=\"14\" valign=\"top\">methodological entity</th>\n",
              "      <th rowspan=\"6\" valign=\"top\">data analysis method</th>\n",
              "      <th>4</th>\n",
              "      <td>1</td>\n",
              "      <td>1</td>\n",
              "    </tr>\n",
              "    <tr>\n",
              "      <th>5</th>\n",
              "      <td>6</td>\n",
              "      <td>3</td>\n",
              "    </tr>\n",
              "    <tr>\n",
              "      <th>6</th>\n",
              "      <td>1</td>\n",
              "      <td>1</td>\n",
              "    </tr>\n",
              "    <tr>\n",
              "      <th>7</th>\n",
              "      <td>3</td>\n",
              "      <td>3</td>\n",
              "    </tr>\n",
              "    <tr>\n",
              "      <th>8</th>\n",
              "      <td>8</td>\n",
              "      <td>1</td>\n",
              "    </tr>\n",
              "    <tr>\n",
              "      <th>9</th>\n",
              "      <td>2</td>\n",
              "      <td>1</td>\n",
              "    </tr>\n",
              "    <tr>\n",
              "      <th rowspan=\"3\" valign=\"top\">research method</th>\n",
              "      <th>5</th>\n",
              "      <td>3</td>\n",
              "      <td>1</td>\n",
              "    </tr>\n",
              "    <tr>\n",
              "      <th>6</th>\n",
              "      <td>11</td>\n",
              "      <td>4</td>\n",
              "    </tr>\n",
              "    <tr>\n",
              "      <th>7</th>\n",
              "      <td>2</td>\n",
              "      <td>2</td>\n",
              "    </tr>\n",
              "    <tr>\n",
              "      <th>sampling</th>\n",
              "      <th>4</th>\n",
              "      <td>3</td>\n",
              "      <td>2</td>\n",
              "    </tr>\n",
              "    <tr>\n",
              "      <th rowspan=\"2\" valign=\"top\">statistical metric</th>\n",
              "      <th>3</th>\n",
              "      <td>2</td>\n",
              "      <td>2</td>\n",
              "    </tr>\n",
              "    <tr>\n",
              "      <th>4</th>\n",
              "      <td>1</td>\n",
              "      <td>1</td>\n",
              "    </tr>\n",
              "    <tr>\n",
              "      <th rowspan=\"2\" valign=\"top\">validity</th>\n",
              "      <th>4</th>\n",
              "      <td>1</td>\n",
              "      <td>1</td>\n",
              "    </tr>\n",
              "    <tr>\n",
              "      <th>5</th>\n",
              "      <td>3</td>\n",
              "      <td>1</td>\n",
              "    </tr>\n",
              "    <tr>\n",
              "      <th rowspan=\"10\" valign=\"top\">theoretical entity</th>\n",
              "      <th rowspan=\"2\" valign=\"top\">level of analysis</th>\n",
              "      <th>3</th>\n",
              "      <td>3</td>\n",
              "      <td>1</td>\n",
              "    </tr>\n",
              "    <tr>\n",
              "      <th>4</th>\n",
              "      <td>1</td>\n",
              "      <td>1</td>\n",
              "    </tr>\n",
              "    <tr>\n",
              "      <th rowspan=\"4\" valign=\"top\">model</th>\n",
              "      <th>3</th>\n",
              "      <td>2</td>\n",
              "      <td>2</td>\n",
              "    </tr>\n",
              "    <tr>\n",
              "      <th>4</th>\n",
              "      <td>1</td>\n",
              "      <td>1</td>\n",
              "    </tr>\n",
              "    <tr>\n",
              "      <th>5</th>\n",
              "      <td>4</td>\n",
              "      <td>3</td>\n",
              "    </tr>\n",
              "    <tr>\n",
              "      <th>6</th>\n",
              "      <td>1</td>\n",
              "      <td>1</td>\n",
              "    </tr>\n",
              "    <tr>\n",
              "      <th rowspan=\"2\" valign=\"top\">research paradigm</th>\n",
              "      <th>3</th>\n",
              "      <td>2</td>\n",
              "      <td>1</td>\n",
              "    </tr>\n",
              "    <tr>\n",
              "      <th>4</th>\n",
              "      <td>1</td>\n",
              "      <td>1</td>\n",
              "    </tr>\n",
              "    <tr>\n",
              "      <th rowspan=\"2\" valign=\"top\">theory</th>\n",
              "      <th>4</th>\n",
              "      <td>10</td>\n",
              "      <td>6</td>\n",
              "    </tr>\n",
              "    <tr>\n",
              "      <th>5</th>\n",
              "      <td>1</td>\n",
              "      <td>1</td>\n",
              "    </tr>\n",
              "  </tbody>\n",
              "</table>\n",
              "</div>\n",
              "      <button class=\"colab-df-convert\" onclick=\"convertToInteractive('df-52a9d4b8-6b6a-47de-b199-027e6a350104')\"\n",
              "              title=\"Convert this dataframe to an interactive table.\"\n",
              "              style=\"display:none;\">\n",
              "        \n",
              "  <svg xmlns=\"http://www.w3.org/2000/svg\" height=\"24px\"viewBox=\"0 0 24 24\"\n",
              "       width=\"24px\">\n",
              "    <path d=\"M0 0h24v24H0V0z\" fill=\"none\"/>\n",
              "    <path d=\"M18.56 5.44l.94 2.06.94-2.06 2.06-.94-2.06-.94-.94-2.06-.94 2.06-2.06.94zm-11 1L8.5 8.5l.94-2.06 2.06-.94-2.06-.94L8.5 2.5l-.94 2.06-2.06.94zm10 10l.94 2.06.94-2.06 2.06-.94-2.06-.94-.94-2.06-.94 2.06-2.06.94z\"/><path d=\"M17.41 7.96l-1.37-1.37c-.4-.4-.92-.59-1.43-.59-.52 0-1.04.2-1.43.59L10.3 9.45l-7.72 7.72c-.78.78-.78 2.05 0 2.83L4 21.41c.39.39.9.59 1.41.59.51 0 1.02-.2 1.41-.59l7.78-7.78 2.81-2.81c.8-.78.8-2.07 0-2.86zM5.41 20L4 18.59l7.72-7.72 1.47 1.35L5.41 20z\"/>\n",
              "  </svg>\n",
              "      </button>\n",
              "      \n",
              "  <style>\n",
              "    .colab-df-container {\n",
              "      display:flex;\n",
              "      flex-wrap:wrap;\n",
              "      gap: 12px;\n",
              "    }\n",
              "\n",
              "    .colab-df-convert {\n",
              "      background-color: #E8F0FE;\n",
              "      border: none;\n",
              "      border-radius: 50%;\n",
              "      cursor: pointer;\n",
              "      display: none;\n",
              "      fill: #1967D2;\n",
              "      height: 32px;\n",
              "      padding: 0 0 0 0;\n",
              "      width: 32px;\n",
              "    }\n",
              "\n",
              "    .colab-df-convert:hover {\n",
              "      background-color: #E2EBFA;\n",
              "      box-shadow: 0px 1px 2px rgba(60, 64, 67, 0.3), 0px 1px 3px 1px rgba(60, 64, 67, 0.15);\n",
              "      fill: #174EA6;\n",
              "    }\n",
              "\n",
              "    [theme=dark] .colab-df-convert {\n",
              "      background-color: #3B4455;\n",
              "      fill: #D2E3FC;\n",
              "    }\n",
              "\n",
              "    [theme=dark] .colab-df-convert:hover {\n",
              "      background-color: #434B5C;\n",
              "      box-shadow: 0px 1px 3px 1px rgba(0, 0, 0, 0.15);\n",
              "      filter: drop-shadow(0px 1px 2px rgba(0, 0, 0, 0.3));\n",
              "      fill: #FFFFFF;\n",
              "    }\n",
              "  </style>\n",
              "\n",
              "      <script>\n",
              "        const buttonEl =\n",
              "          document.querySelector('#df-52a9d4b8-6b6a-47de-b199-027e6a350104 button.colab-df-convert');\n",
              "        buttonEl.style.display =\n",
              "          google.colab.kernel.accessAllowed ? 'block' : 'none';\n",
              "\n",
              "        async function convertToInteractive(key) {\n",
              "          const element = document.querySelector('#df-52a9d4b8-6b6a-47de-b199-027e6a350104');\n",
              "          const dataTable =\n",
              "            await google.colab.kernel.invokeFunction('convertToInteractive',\n",
              "                                                     [key], {});\n",
              "          if (!dataTable) return;\n",
              "\n",
              "          const docLinkHtml = 'Like what you see? Visit the ' +\n",
              "            '<a target=\"_blank\" href=https://colab.research.google.com/notebooks/data_table.ipynb>data table notebook</a>'\n",
              "            + ' to learn more about interactive tables.';\n",
              "          element.innerHTML = '';\n",
              "          dataTable['output_type'] = 'display_data';\n",
              "          await google.colab.output.renderOutput(dataTable, element);\n",
              "          const docLink = document.createElement('div');\n",
              "          docLink.innerHTML = docLinkHtml;\n",
              "          element.appendChild(docLink);\n",
              "        }\n",
              "      </script>\n",
              "    </div>\n",
              "  </div>\n",
              "  "
            ]
          },
          "metadata": {},
          "execution_count": 214
        }
      ]
    },
    {
      "cell_type": "code",
      "source": [
        "# Store final entities_to_remove df as .csv\n",
        "#entities_to_removed.to_csv(data_path_group+\"ent_to_remove_from_ontology_final.csv\")"
      ],
      "metadata": {
        "id": "m1D_unRX38gY"
      },
      "execution_count": 162,
      "outputs": []
    },
    {
      "cell_type": "markdown",
      "source": [
        "### Create train dataframe of ontology"
      ],
      "metadata": {
        "id": "TUi3Ly-WMtGl"
      }
    },
    {
      "cell_type": "code",
      "source": [
        "# Create train dataframe which does NOT contain any of the entities and porential children\n",
        "entities_train = entities[~entities.ent_id.isin(entities_to_remove_cmpl)]\n",
        "entities_train.shape"
      ],
      "metadata": {
        "colab": {
          "base_uri": "https://localhost:8080/"
        },
        "id": "CLvI9GyK843O",
        "outputId": "d9db2744-a8f0-4fa8-f07f-4e56f2ae2fa9"
      },
      "execution_count": 163,
      "outputs": [
        {
          "output_type": "execute_result",
          "data": {
            "text/plain": [
              "(1709078, 13)"
            ]
          },
          "metadata": {},
          "execution_count": 163
        }
      ]
    },
    {
      "cell_type": "code",
      "source": [
        "# Store train df as .csv\n",
        "#entities_train.to_csv(data_path_group+\"ontology_train.csv\")"
      ],
      "metadata": {
        "id": "9IGf_ta13MyN"
      },
      "execution_count": 164,
      "outputs": []
    },
    {
      "cell_type": "markdown",
      "source": [
        "### Create validation & test dataframe of ontology"
      ],
      "metadata": {
        "id": "GzahARV6MxNP"
      }
    },
    {
      "cell_type": "markdown",
      "source": [
        "For the validation and test set we need to further split the `entities_to_removed` dataframe"
      ],
      "metadata": {
        "id": "bIUBID0sa-0D"
      }
    },
    {
      "cell_type": "code",
      "source": [
        "# Distribution of entities from val_test split accross first and second level\n",
        "entities[entities.ent_id.isin(entities_to_remove_cmpl)].groupby([\"level_1\", \"level_2\"])[[\"ent_id\"]].aggregate([\"count\", \"nunique\"])"
      ],
      "metadata": {
        "colab": {
          "base_uri": "https://localhost:8080/",
          "height": 520
        },
        "id": "mbmpTRPptUUK",
        "outputId": "c98e0dd3-e78d-486b-a7fd-601a96feab6a"
      },
      "execution_count": 169,
      "outputs": [
        {
          "output_type": "execute_result",
          "data": {
            "text/plain": [
              "                                            ent_id        \n",
              "                                             count nunique\n",
              "level_1                level_2                            \n",
              "domain specific entity IS technology         12211      32\n",
              "                       IS topic              29120      35\n",
              "                       economic sector        2960      13\n",
              "                       study object           7644       3\n",
              "methodological entity  data analysis method   2733      20\n",
              "                       research method        4737      16\n",
              "                       sampling                 39       3\n",
              "                       statistical metric     2833       4\n",
              "                       validity                447       4\n",
              "theoretical entity     level of analysis      5464       4\n",
              "                       model                 15619       7\n",
              "                       research paradigm      3615       3\n",
              "                       theory                 1240       9"
            ],
            "text/html": [
              "\n",
              "  <div id=\"df-b0adca92-ba9c-4989-88b2-b984b6d589f4\">\n",
              "    <div class=\"colab-df-container\">\n",
              "      <div>\n",
              "<style scoped>\n",
              "    .dataframe tbody tr th:only-of-type {\n",
              "        vertical-align: middle;\n",
              "    }\n",
              "\n",
              "    .dataframe tbody tr th {\n",
              "        vertical-align: top;\n",
              "    }\n",
              "\n",
              "    .dataframe thead tr th {\n",
              "        text-align: left;\n",
              "    }\n",
              "\n",
              "    .dataframe thead tr:last-of-type th {\n",
              "        text-align: right;\n",
              "    }\n",
              "</style>\n",
              "<table border=\"1\" class=\"dataframe\">\n",
              "  <thead>\n",
              "    <tr>\n",
              "      <th></th>\n",
              "      <th></th>\n",
              "      <th colspan=\"2\" halign=\"left\">ent_id</th>\n",
              "    </tr>\n",
              "    <tr>\n",
              "      <th></th>\n",
              "      <th></th>\n",
              "      <th>count</th>\n",
              "      <th>nunique</th>\n",
              "    </tr>\n",
              "    <tr>\n",
              "      <th>level_1</th>\n",
              "      <th>level_2</th>\n",
              "      <th></th>\n",
              "      <th></th>\n",
              "    </tr>\n",
              "  </thead>\n",
              "  <tbody>\n",
              "    <tr>\n",
              "      <th rowspan=\"4\" valign=\"top\">domain specific entity</th>\n",
              "      <th>IS technology</th>\n",
              "      <td>12211</td>\n",
              "      <td>32</td>\n",
              "    </tr>\n",
              "    <tr>\n",
              "      <th>IS topic</th>\n",
              "      <td>29120</td>\n",
              "      <td>35</td>\n",
              "    </tr>\n",
              "    <tr>\n",
              "      <th>economic sector</th>\n",
              "      <td>2960</td>\n",
              "      <td>13</td>\n",
              "    </tr>\n",
              "    <tr>\n",
              "      <th>study object</th>\n",
              "      <td>7644</td>\n",
              "      <td>3</td>\n",
              "    </tr>\n",
              "    <tr>\n",
              "      <th rowspan=\"5\" valign=\"top\">methodological entity</th>\n",
              "      <th>data analysis method</th>\n",
              "      <td>2733</td>\n",
              "      <td>20</td>\n",
              "    </tr>\n",
              "    <tr>\n",
              "      <th>research method</th>\n",
              "      <td>4737</td>\n",
              "      <td>16</td>\n",
              "    </tr>\n",
              "    <tr>\n",
              "      <th>sampling</th>\n",
              "      <td>39</td>\n",
              "      <td>3</td>\n",
              "    </tr>\n",
              "    <tr>\n",
              "      <th>statistical metric</th>\n",
              "      <td>2833</td>\n",
              "      <td>4</td>\n",
              "    </tr>\n",
              "    <tr>\n",
              "      <th>validity</th>\n",
              "      <td>447</td>\n",
              "      <td>4</td>\n",
              "    </tr>\n",
              "    <tr>\n",
              "      <th rowspan=\"4\" valign=\"top\">theoretical entity</th>\n",
              "      <th>level of analysis</th>\n",
              "      <td>5464</td>\n",
              "      <td>4</td>\n",
              "    </tr>\n",
              "    <tr>\n",
              "      <th>model</th>\n",
              "      <td>15619</td>\n",
              "      <td>7</td>\n",
              "    </tr>\n",
              "    <tr>\n",
              "      <th>research paradigm</th>\n",
              "      <td>3615</td>\n",
              "      <td>3</td>\n",
              "    </tr>\n",
              "    <tr>\n",
              "      <th>theory</th>\n",
              "      <td>1240</td>\n",
              "      <td>9</td>\n",
              "    </tr>\n",
              "  </tbody>\n",
              "</table>\n",
              "</div>\n",
              "      <button class=\"colab-df-convert\" onclick=\"convertToInteractive('df-b0adca92-ba9c-4989-88b2-b984b6d589f4')\"\n",
              "              title=\"Convert this dataframe to an interactive table.\"\n",
              "              style=\"display:none;\">\n",
              "        \n",
              "  <svg xmlns=\"http://www.w3.org/2000/svg\" height=\"24px\"viewBox=\"0 0 24 24\"\n",
              "       width=\"24px\">\n",
              "    <path d=\"M0 0h24v24H0V0z\" fill=\"none\"/>\n",
              "    <path d=\"M18.56 5.44l.94 2.06.94-2.06 2.06-.94-2.06-.94-.94-2.06-.94 2.06-2.06.94zm-11 1L8.5 8.5l.94-2.06 2.06-.94-2.06-.94L8.5 2.5l-.94 2.06-2.06.94zm10 10l.94 2.06.94-2.06 2.06-.94-2.06-.94-.94-2.06-.94 2.06-2.06.94z\"/><path d=\"M17.41 7.96l-1.37-1.37c-.4-.4-.92-.59-1.43-.59-.52 0-1.04.2-1.43.59L10.3 9.45l-7.72 7.72c-.78.78-.78 2.05 0 2.83L4 21.41c.39.39.9.59 1.41.59.51 0 1.02-.2 1.41-.59l7.78-7.78 2.81-2.81c.8-.78.8-2.07 0-2.86zM5.41 20L4 18.59l7.72-7.72 1.47 1.35L5.41 20z\"/>\n",
              "  </svg>\n",
              "      </button>\n",
              "      \n",
              "  <style>\n",
              "    .colab-df-container {\n",
              "      display:flex;\n",
              "      flex-wrap:wrap;\n",
              "      gap: 12px;\n",
              "    }\n",
              "\n",
              "    .colab-df-convert {\n",
              "      background-color: #E8F0FE;\n",
              "      border: none;\n",
              "      border-radius: 50%;\n",
              "      cursor: pointer;\n",
              "      display: none;\n",
              "      fill: #1967D2;\n",
              "      height: 32px;\n",
              "      padding: 0 0 0 0;\n",
              "      width: 32px;\n",
              "    }\n",
              "\n",
              "    .colab-df-convert:hover {\n",
              "      background-color: #E2EBFA;\n",
              "      box-shadow: 0px 1px 2px rgba(60, 64, 67, 0.3), 0px 1px 3px 1px rgba(60, 64, 67, 0.15);\n",
              "      fill: #174EA6;\n",
              "    }\n",
              "\n",
              "    [theme=dark] .colab-df-convert {\n",
              "      background-color: #3B4455;\n",
              "      fill: #D2E3FC;\n",
              "    }\n",
              "\n",
              "    [theme=dark] .colab-df-convert:hover {\n",
              "      background-color: #434B5C;\n",
              "      box-shadow: 0px 1px 3px 1px rgba(0, 0, 0, 0.15);\n",
              "      filter: drop-shadow(0px 1px 2px rgba(0, 0, 0, 0.3));\n",
              "      fill: #FFFFFF;\n",
              "    }\n",
              "  </style>\n",
              "\n",
              "      <script>\n",
              "        const buttonEl =\n",
              "          document.querySelector('#df-b0adca92-ba9c-4989-88b2-b984b6d589f4 button.colab-df-convert');\n",
              "        buttonEl.style.display =\n",
              "          google.colab.kernel.accessAllowed ? 'block' : 'none';\n",
              "\n",
              "        async function convertToInteractive(key) {\n",
              "          const element = document.querySelector('#df-b0adca92-ba9c-4989-88b2-b984b6d589f4');\n",
              "          const dataTable =\n",
              "            await google.colab.kernel.invokeFunction('convertToInteractive',\n",
              "                                                     [key], {});\n",
              "          if (!dataTable) return;\n",
              "\n",
              "          const docLinkHtml = 'Like what you see? Visit the ' +\n",
              "            '<a target=\"_blank\" href=https://colab.research.google.com/notebooks/data_table.ipynb>data table notebook</a>'\n",
              "            + ' to learn more about interactive tables.';\n",
              "          element.innerHTML = '';\n",
              "          dataTable['output_type'] = 'display_data';\n",
              "          await google.colab.output.renderOutput(dataTable, element);\n",
              "          const docLink = document.createElement('div');\n",
              "          docLink.innerHTML = docLinkHtml;\n",
              "          element.appendChild(docLink);\n",
              "        }\n",
              "      </script>\n",
              "    </div>\n",
              "  </div>\n",
              "  "
            ]
          },
          "metadata": {},
          "execution_count": 169
        }
      ]
    },
    {
      "cell_type": "markdown",
      "source": [
        "##### Test dataframe"
      ],
      "metadata": {
        "id": "etJH8iXG2SpO"
      }
    },
    {
      "cell_type": "code",
      "source": [
        "# Select every 3rd row from the entities removed as part of the test set\n",
        "test_ent_df = entities_to_removed.sort_values([\"level_1\", \"level_2\"]).reset_index(drop=True).iloc[::3, :]"
      ],
      "metadata": {
        "id": "5356VVxVxuSY"
      },
      "execution_count": 198,
      "outputs": []
    },
    {
      "cell_type": "code",
      "source": [
        "test_entities_list = [x for xs in test_ent_df.ent_list.to_list() for x in xs] "
      ],
      "metadata": {
        "id": "kJ-gxyNY0vmp"
      },
      "execution_count": 202,
      "outputs": []
    },
    {
      "cell_type": "code",
      "source": [
        "# Create train dataframe which does NOT contain any of the entities and porential children\n",
        "entities_test = entities[entities.ent_id.isin(test_entities_list)]\n",
        "entities_test.shape"
      ],
      "metadata": {
        "colab": {
          "base_uri": "https://localhost:8080/"
        },
        "id": "kI75Cvx71CqT",
        "outputId": "15fae257-bc1c-48ed-afdb-3332fd8d8f5f"
      },
      "execution_count": 203,
      "outputs": [
        {
          "output_type": "execute_result",
          "data": {
            "text/plain": [
              "(29080, 13)"
            ]
          },
          "metadata": {},
          "execution_count": 203
        }
      ]
    },
    {
      "cell_type": "code",
      "source": [
        "# Store test df as .csv\n",
        "#entities_test.to_csv(data_path_group+\"ontology_test.csv\")"
      ],
      "metadata": {
        "id": "nsNY8rWk2Wzg"
      },
      "execution_count": 209,
      "outputs": []
    },
    {
      "cell_type": "markdown",
      "source": [
        "##### Validation dataframe"
      ],
      "metadata": {
        "id": "NST6Iw612WgK"
      }
    },
    {
      "cell_type": "code",
      "source": [
        "# Select all rows/ entities which have not been selected for the test set \n",
        "val_ent_df = entities_to_removed[~entities_to_removed.entity_id_to_remove.isin(test_entities_list)]"
      ],
      "metadata": {
        "id": "nEt9Wkip1YZQ"
      },
      "execution_count": 206,
      "outputs": []
    },
    {
      "cell_type": "code",
      "source": [
        "# flatten list\n",
        "val_entities_list = [x for xs in val_ent_df.ent_list.to_list() for x in xs] "
      ],
      "metadata": {
        "id": "iFSaxL4b2AzE"
      },
      "execution_count": 207,
      "outputs": []
    },
    {
      "cell_type": "code",
      "source": [
        "# Create train dataframe which does NOT contain any of the entities and porential children\n",
        "entities_val = entities[entities.ent_id.isin(val_entities_list)]\n",
        "entities_val.shape"
      ],
      "metadata": {
        "colab": {
          "base_uri": "https://localhost:8080/"
        },
        "id": "ACV9x9eh2Av_",
        "outputId": "40229f4e-5759-44d6-ad42-9a519232964b"
      },
      "execution_count": 208,
      "outputs": [
        {
          "output_type": "execute_result",
          "data": {
            "text/plain": [
              "(59582, 13)"
            ]
          },
          "metadata": {},
          "execution_count": 208
        }
      ]
    },
    {
      "cell_type": "code",
      "source": [
        "# Store test df as .csv\n",
        "# entities_val.to_csv(data_path_group+\"ontology_val.csv\")"
      ],
      "metadata": {
        "id": "7sWiRoCN2h2t"
      },
      "execution_count": 210,
      "outputs": []
    },
    {
      "cell_type": "code",
      "source": [
        ""
      ],
      "metadata": {
        "id": "wr5Lu7Lu2koe"
      },
      "execution_count": null,
      "outputs": []
    }
  ]
}