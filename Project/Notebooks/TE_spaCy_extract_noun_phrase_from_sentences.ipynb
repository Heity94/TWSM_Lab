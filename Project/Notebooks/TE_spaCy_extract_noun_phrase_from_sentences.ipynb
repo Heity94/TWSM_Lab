{
  "nbformat": 4,
  "nbformat_minor": 0,
  "metadata": {
    "colab": {
      "name": "TE_spaCy_extract_noun_phrase_from_sentences.ipynb",
      "provenance": [],
      "include_colab_link": true
    },
    "kernelspec": {
      "name": "python3",
      "display_name": "Python 3"
    },
    "language_info": {
      "name": "python"
    }
  },
  "cells": [
    {
      "cell_type": "markdown",
      "metadata": {
        "id": "view-in-github",
        "colab_type": "text"
      },
      "source": [
        "<a href=\"https://colab.research.google.com/github/Heity94/TWSM_Lab/blob/main/Project/Notebooks/TE_spaCy_extract_noun_phrase_from_sentences.ipynb\" target=\"_parent\"><img src=\"https://colab.research.google.com/assets/colab-badge.svg\" alt=\"Open In Colab\"/></a>"
      ]
    },
    {
      "cell_type": "code",
      "source": [
        "# Declare whether you are on Colab or local\n",
        "colab = True"
      ],
      "metadata": {
        "id": "zXDq_FXipL1Q"
      },
      "execution_count": 1,
      "outputs": []
    },
    {
      "cell_type": "code",
      "source": [
        "if colab==True:\n",
        "  \n",
        "  #Mount drive\n",
        "  from google.colab import drive\n",
        "  drive.mount('/content/drive')\n",
        "\n",
        "  #set path to data in Google Drive\n",
        "  data_path = \"/content/drive/MyDrive/Colab Notebooks/TWSM Project/2022_Analytics Lab Student Projects/Data/All Topics\"\n",
        "\n",
        "\n",
        "  #install required packages\n",
        "  #!pip install duckdb\n",
        "  #!pip install -U sentence-transformers"
      ],
      "metadata": {
        "colab": {
          "base_uri": "https://localhost:8080/"
        },
        "id": "fMissaYgpNv1",
        "outputId": "e70ec331-df45-4b0a-e766-e45df0359060"
      },
      "execution_count": 2,
      "outputs": [
        {
          "output_type": "stream",
          "name": "stdout",
          "text": [
            "Mounted at /content/drive\n"
          ]
        }
      ]
    },
    {
      "cell_type": "code",
      "source": [
        "import pandas as pd\n",
        "!pip install duckdb\n",
        "import duckdb"
      ],
      "metadata": {
        "id": "GfaAoWusp3MB",
        "colab": {
          "base_uri": "https://localhost:8080/"
        },
        "outputId": "7cae0be9-a2b3-424a-c8c2-12c9848f7eee"
      },
      "execution_count": 3,
      "outputs": [
        {
          "output_type": "stream",
          "name": "stdout",
          "text": [
            "Looking in indexes: https://pypi.org/simple, https://us-python.pkg.dev/colab-wheels/public/simple/\n",
            "Collecting duckdb\n",
            "  Downloading duckdb-0.4.0-cp37-cp37m-manylinux_2_17_x86_64.manylinux2014_x86_64.whl (15.7 MB)\n",
            "\u001b[K     |████████████████████████████████| 15.7 MB 27.2 MB/s \n",
            "\u001b[?25hRequirement already satisfied: numpy>=1.14 in /usr/local/lib/python3.7/dist-packages (from duckdb) (1.21.6)\n",
            "Installing collected packages: duckdb\n",
            "Successfully installed duckdb-0.4.0\n"
          ]
        }
      ]
    },
    {
      "cell_type": "code",
      "source": [
        "# Load sentences\n",
        "if colab==True:\n",
        "  sentences = pd.read_csv(data_path+\"/Fulltext of Corpus/sentences.csv\")\n",
        "else:\n",
        "  sentences = pd.read_csv(\"../Data/FulltextofCorpus/sentences.csv\")"
      ],
      "metadata": {
        "id": "fUNiW5qMiTEi"
      },
      "execution_count": 4,
      "outputs": []
    },
    {
      "cell_type": "code",
      "source": [
        "sentences.head(5)"
      ],
      "metadata": {
        "colab": {
          "base_uri": "https://localhost:8080/",
          "height": 302
        },
        "id": "NaGF_6cOrQH0",
        "outputId": "c745ab54-f116-46b8-c4a2-92ac500f2bb8"
      },
      "execution_count": 5,
      "outputs": [
        {
          "output_type": "execute_result",
          "data": {
            "text/plain": [
              "   article_id sentence_id para_id  \\\n",
              "0           1       1_0_1     1_0   \n",
              "1           1       1_1_2     1_0   \n",
              "2           1      1_2_22     1_0   \n",
              "3           1     1_22_23     1_1   \n",
              "4           1     1_23_24     1_1   \n",
              "\n",
              "                                            sentence  section_nr  \\\n",
              "0                                                              0   \n",
              "1                                    START_TITLE_TAG           0   \n",
              "2  Examining interdependence between product user...           0   \n",
              "3                                 START_ABSTRACT_TAG           0   \n",
              "4                                                              0   \n",
              "\n",
              "  last_section_title last_subsection_title sentence_type references  \\\n",
              "0                NaN                   NaN         EMPTY         []   \n",
              "1                NaN                   NaN           TAG         []   \n",
              "2                NaN                   NaN     PARAGRAPH         []   \n",
              "3                NaN                   NaN           TAG         []   \n",
              "4           Abstract                   NaN         EMPTY         []   \n",
              "\n",
              "   number_of_citations  \n",
              "0                    0  \n",
              "1                    0  \n",
              "2                    0  \n",
              "3                    0  \n",
              "4                    0  "
            ],
            "text/html": [
              "\n",
              "  <div id=\"df-d1ece0c7-07cd-4613-998e-8289f979e0a8\">\n",
              "    <div class=\"colab-df-container\">\n",
              "      <div>\n",
              "<style scoped>\n",
              "    .dataframe tbody tr th:only-of-type {\n",
              "        vertical-align: middle;\n",
              "    }\n",
              "\n",
              "    .dataframe tbody tr th {\n",
              "        vertical-align: top;\n",
              "    }\n",
              "\n",
              "    .dataframe thead th {\n",
              "        text-align: right;\n",
              "    }\n",
              "</style>\n",
              "<table border=\"1\" class=\"dataframe\">\n",
              "  <thead>\n",
              "    <tr style=\"text-align: right;\">\n",
              "      <th></th>\n",
              "      <th>article_id</th>\n",
              "      <th>sentence_id</th>\n",
              "      <th>para_id</th>\n",
              "      <th>sentence</th>\n",
              "      <th>section_nr</th>\n",
              "      <th>last_section_title</th>\n",
              "      <th>last_subsection_title</th>\n",
              "      <th>sentence_type</th>\n",
              "      <th>references</th>\n",
              "      <th>number_of_citations</th>\n",
              "    </tr>\n",
              "  </thead>\n",
              "  <tbody>\n",
              "    <tr>\n",
              "      <th>0</th>\n",
              "      <td>1</td>\n",
              "      <td>1_0_1</td>\n",
              "      <td>1_0</td>\n",
              "      <td></td>\n",
              "      <td>0</td>\n",
              "      <td>NaN</td>\n",
              "      <td>NaN</td>\n",
              "      <td>EMPTY</td>\n",
              "      <td>[]</td>\n",
              "      <td>0</td>\n",
              "    </tr>\n",
              "    <tr>\n",
              "      <th>1</th>\n",
              "      <td>1</td>\n",
              "      <td>1_1_2</td>\n",
              "      <td>1_0</td>\n",
              "      <td>START_TITLE_TAG</td>\n",
              "      <td>0</td>\n",
              "      <td>NaN</td>\n",
              "      <td>NaN</td>\n",
              "      <td>TAG</td>\n",
              "      <td>[]</td>\n",
              "      <td>0</td>\n",
              "    </tr>\n",
              "    <tr>\n",
              "      <th>2</th>\n",
              "      <td>1</td>\n",
              "      <td>1_2_22</td>\n",
              "      <td>1_0</td>\n",
              "      <td>Examining interdependence between product user...</td>\n",
              "      <td>0</td>\n",
              "      <td>NaN</td>\n",
              "      <td>NaN</td>\n",
              "      <td>PARAGRAPH</td>\n",
              "      <td>[]</td>\n",
              "      <td>0</td>\n",
              "    </tr>\n",
              "    <tr>\n",
              "      <th>3</th>\n",
              "      <td>1</td>\n",
              "      <td>1_22_23</td>\n",
              "      <td>1_1</td>\n",
              "      <td>START_ABSTRACT_TAG</td>\n",
              "      <td>0</td>\n",
              "      <td>NaN</td>\n",
              "      <td>NaN</td>\n",
              "      <td>TAG</td>\n",
              "      <td>[]</td>\n",
              "      <td>0</td>\n",
              "    </tr>\n",
              "    <tr>\n",
              "      <th>4</th>\n",
              "      <td>1</td>\n",
              "      <td>1_23_24</td>\n",
              "      <td>1_1</td>\n",
              "      <td></td>\n",
              "      <td>0</td>\n",
              "      <td>Abstract</td>\n",
              "      <td>NaN</td>\n",
              "      <td>EMPTY</td>\n",
              "      <td>[]</td>\n",
              "      <td>0</td>\n",
              "    </tr>\n",
              "  </tbody>\n",
              "</table>\n",
              "</div>\n",
              "      <button class=\"colab-df-convert\" onclick=\"convertToInteractive('df-d1ece0c7-07cd-4613-998e-8289f979e0a8')\"\n",
              "              title=\"Convert this dataframe to an interactive table.\"\n",
              "              style=\"display:none;\">\n",
              "        \n",
              "  <svg xmlns=\"http://www.w3.org/2000/svg\" height=\"24px\"viewBox=\"0 0 24 24\"\n",
              "       width=\"24px\">\n",
              "    <path d=\"M0 0h24v24H0V0z\" fill=\"none\"/>\n",
              "    <path d=\"M18.56 5.44l.94 2.06.94-2.06 2.06-.94-2.06-.94-.94-2.06-.94 2.06-2.06.94zm-11 1L8.5 8.5l.94-2.06 2.06-.94-2.06-.94L8.5 2.5l-.94 2.06-2.06.94zm10 10l.94 2.06.94-2.06 2.06-.94-2.06-.94-.94-2.06-.94 2.06-2.06.94z\"/><path d=\"M17.41 7.96l-1.37-1.37c-.4-.4-.92-.59-1.43-.59-.52 0-1.04.2-1.43.59L10.3 9.45l-7.72 7.72c-.78.78-.78 2.05 0 2.83L4 21.41c.39.39.9.59 1.41.59.51 0 1.02-.2 1.41-.59l7.78-7.78 2.81-2.81c.8-.78.8-2.07 0-2.86zM5.41 20L4 18.59l7.72-7.72 1.47 1.35L5.41 20z\"/>\n",
              "  </svg>\n",
              "      </button>\n",
              "      \n",
              "  <style>\n",
              "    .colab-df-container {\n",
              "      display:flex;\n",
              "      flex-wrap:wrap;\n",
              "      gap: 12px;\n",
              "    }\n",
              "\n",
              "    .colab-df-convert {\n",
              "      background-color: #E8F0FE;\n",
              "      border: none;\n",
              "      border-radius: 50%;\n",
              "      cursor: pointer;\n",
              "      display: none;\n",
              "      fill: #1967D2;\n",
              "      height: 32px;\n",
              "      padding: 0 0 0 0;\n",
              "      width: 32px;\n",
              "    }\n",
              "\n",
              "    .colab-df-convert:hover {\n",
              "      background-color: #E2EBFA;\n",
              "      box-shadow: 0px 1px 2px rgba(60, 64, 67, 0.3), 0px 1px 3px 1px rgba(60, 64, 67, 0.15);\n",
              "      fill: #174EA6;\n",
              "    }\n",
              "\n",
              "    [theme=dark] .colab-df-convert {\n",
              "      background-color: #3B4455;\n",
              "      fill: #D2E3FC;\n",
              "    }\n",
              "\n",
              "    [theme=dark] .colab-df-convert:hover {\n",
              "      background-color: #434B5C;\n",
              "      box-shadow: 0px 1px 3px 1px rgba(0, 0, 0, 0.15);\n",
              "      filter: drop-shadow(0px 1px 2px rgba(0, 0, 0, 0.3));\n",
              "      fill: #FFFFFF;\n",
              "    }\n",
              "  </style>\n",
              "\n",
              "      <script>\n",
              "        const buttonEl =\n",
              "          document.querySelector('#df-d1ece0c7-07cd-4613-998e-8289f979e0a8 button.colab-df-convert');\n",
              "        buttonEl.style.display =\n",
              "          google.colab.kernel.accessAllowed ? 'block' : 'none';\n",
              "\n",
              "        async function convertToInteractive(key) {\n",
              "          const element = document.querySelector('#df-d1ece0c7-07cd-4613-998e-8289f979e0a8');\n",
              "          const dataTable =\n",
              "            await google.colab.kernel.invokeFunction('convertToInteractive',\n",
              "                                                     [key], {});\n",
              "          if (!dataTable) return;\n",
              "\n",
              "          const docLinkHtml = 'Like what you see? Visit the ' +\n",
              "            '<a target=\"_blank\" href=https://colab.research.google.com/notebooks/data_table.ipynb>data table notebook</a>'\n",
              "            + ' to learn more about interactive tables.';\n",
              "          element.innerHTML = '';\n",
              "          dataTable['output_type'] = 'display_data';\n",
              "          await google.colab.output.renderOutput(dataTable, element);\n",
              "          const docLink = document.createElement('div');\n",
              "          docLink.innerHTML = docLinkHtml;\n",
              "          element.appendChild(docLink);\n",
              "        }\n",
              "      </script>\n",
              "    </div>\n",
              "  </div>\n",
              "  "
            ]
          },
          "metadata": {},
          "execution_count": 5
        }
      ]
    },
    {
      "cell_type": "code",
      "source": [
        "# Note that DBeaver must be closed, before you can run this command!\n",
        "if colab==True:\n",
        "  con = duckdb.connect(database=data_path+'/Extracted Information of Corpus/isrecon.duckdb', read_only=False)\n",
        "else:\n",
        "  con = duckdb.connect(database='../Data/ExtractedInformationofCorpus/isrecon.duckdb', read_only=False)"
      ],
      "metadata": {
        "id": "0VYJdjouubWo"
      },
      "execution_count": 6,
      "outputs": []
    },
    {
      "cell_type": "code",
      "source": [
        "# Load first article as df\n",
        "entities_sample_article = entities = con.execute(\"\"\"\n",
        "                       SELECT *\n",
        "                       FROM entities e\n",
        "                       WHERE e.article_id = 1\"\"\").fetchdf()\n",
        "\n",
        "entities_sample_article.shape"
      ],
      "metadata": {
        "colab": {
          "base_uri": "https://localhost:8080/"
        },
        "id": "t1Iv_UK-vBu5",
        "outputId": "01370131-5d1c-421e-ab60-ee271d138a1d"
      },
      "execution_count": 7,
      "outputs": [
        {
          "output_type": "execute_result",
          "data": {
            "text/plain": [
              "(132, 46)"
            ]
          },
          "metadata": {},
          "execution_count": 7
        }
      ]
    },
    {
      "cell_type": "code",
      "source": [
        "entities_sample_article.head()     # 1_1074_1096"
      ],
      "metadata": {
        "colab": {
          "base_uri": "https://localhost:8080/",
          "height": 467
        },
        "id": "3DHyahSj2A_m",
        "outputId": "504d93c3-ac3c-42b1-abee-299aa317a06d"
      },
      "execution_count": 8,
      "outputs": [
        {
          "output_type": "execute_result",
          "data": {
            "text/plain": [
              "   article_id para_id  sentence_start sentence_id section_title  \\\n",
              "0           1     1_3             322   1_322_354  Introduction   \n",
              "1           1     1_3             467   1_467_502  Introduction   \n",
              "2           1     1_3             502   1_502_527  Introduction   \n",
              "3           1     1_4             530   1_530_551  Introduction   \n",
              "4           1     1_5             861   1_861_886  Introduction   \n",
              "\n",
              "  subsection_title         label                ent_id  \\\n",
              "0              NaN         TOPIC  knowledge repository   \n",
              "1              NaN         TOPIC      digital platform   \n",
              "2              NaN    TECHNOLOGY        Salesforce.com   \n",
              "3              NaN         TOPIC  participatory design   \n",
              "4              NaN  PARTICIPANTS     group participant   \n",
              "\n",
              "                  level_1        level_2  ... attr_groups attr_type attr_tool  \\\n",
              "0  domain specific entity       IS topic  ...           0         0         0   \n",
              "1  domain specific entity       IS topic  ...           0         0         0   \n",
              "2  domain specific entity  IS technology  ...           0         0         0   \n",
              "3  domain specific entity       IS topic  ...           0         0         0   \n",
              "4  domain specific entity   study object  ...           0         0         0   \n",
              "\n",
              "  attr_datatype attr_assumption attr_double attr_dsr attr_related attr_level  \\\n",
              "0             0               0           0        0            0          0   \n",
              "1             0               0           0        0            0          0   \n",
              "2             0               0           0        0            0          0   \n",
              "3             0               0           0        0            1          0   \n",
              "4             0               0           0        0            0          1   \n",
              "\n",
              "  attr_stage  \n",
              "0          0  \n",
              "1          0  \n",
              "2          0  \n",
              "3          0  \n",
              "4          0  \n",
              "\n",
              "[5 rows x 46 columns]"
            ],
            "text/html": [
              "\n",
              "  <div id=\"df-df7f101e-a7ad-4930-95c0-22aa6fc60bf1\">\n",
              "    <div class=\"colab-df-container\">\n",
              "      <div>\n",
              "<style scoped>\n",
              "    .dataframe tbody tr th:only-of-type {\n",
              "        vertical-align: middle;\n",
              "    }\n",
              "\n",
              "    .dataframe tbody tr th {\n",
              "        vertical-align: top;\n",
              "    }\n",
              "\n",
              "    .dataframe thead th {\n",
              "        text-align: right;\n",
              "    }\n",
              "</style>\n",
              "<table border=\"1\" class=\"dataframe\">\n",
              "  <thead>\n",
              "    <tr style=\"text-align: right;\">\n",
              "      <th></th>\n",
              "      <th>article_id</th>\n",
              "      <th>para_id</th>\n",
              "      <th>sentence_start</th>\n",
              "      <th>sentence_id</th>\n",
              "      <th>section_title</th>\n",
              "      <th>subsection_title</th>\n",
              "      <th>label</th>\n",
              "      <th>ent_id</th>\n",
              "      <th>level_1</th>\n",
              "      <th>level_2</th>\n",
              "      <th>...</th>\n",
              "      <th>attr_groups</th>\n",
              "      <th>attr_type</th>\n",
              "      <th>attr_tool</th>\n",
              "      <th>attr_datatype</th>\n",
              "      <th>attr_assumption</th>\n",
              "      <th>attr_double</th>\n",
              "      <th>attr_dsr</th>\n",
              "      <th>attr_related</th>\n",
              "      <th>attr_level</th>\n",
              "      <th>attr_stage</th>\n",
              "    </tr>\n",
              "  </thead>\n",
              "  <tbody>\n",
              "    <tr>\n",
              "      <th>0</th>\n",
              "      <td>1</td>\n",
              "      <td>1_3</td>\n",
              "      <td>322</td>\n",
              "      <td>1_322_354</td>\n",
              "      <td>Introduction</td>\n",
              "      <td>NaN</td>\n",
              "      <td>TOPIC</td>\n",
              "      <td>knowledge repository</td>\n",
              "      <td>domain specific entity</td>\n",
              "      <td>IS topic</td>\n",
              "      <td>...</td>\n",
              "      <td>0</td>\n",
              "      <td>0</td>\n",
              "      <td>0</td>\n",
              "      <td>0</td>\n",
              "      <td>0</td>\n",
              "      <td>0</td>\n",
              "      <td>0</td>\n",
              "      <td>0</td>\n",
              "      <td>0</td>\n",
              "      <td>0</td>\n",
              "    </tr>\n",
              "    <tr>\n",
              "      <th>1</th>\n",
              "      <td>1</td>\n",
              "      <td>1_3</td>\n",
              "      <td>467</td>\n",
              "      <td>1_467_502</td>\n",
              "      <td>Introduction</td>\n",
              "      <td>NaN</td>\n",
              "      <td>TOPIC</td>\n",
              "      <td>digital platform</td>\n",
              "      <td>domain specific entity</td>\n",
              "      <td>IS topic</td>\n",
              "      <td>...</td>\n",
              "      <td>0</td>\n",
              "      <td>0</td>\n",
              "      <td>0</td>\n",
              "      <td>0</td>\n",
              "      <td>0</td>\n",
              "      <td>0</td>\n",
              "      <td>0</td>\n",
              "      <td>0</td>\n",
              "      <td>0</td>\n",
              "      <td>0</td>\n",
              "    </tr>\n",
              "    <tr>\n",
              "      <th>2</th>\n",
              "      <td>1</td>\n",
              "      <td>1_3</td>\n",
              "      <td>502</td>\n",
              "      <td>1_502_527</td>\n",
              "      <td>Introduction</td>\n",
              "      <td>NaN</td>\n",
              "      <td>TECHNOLOGY</td>\n",
              "      <td>Salesforce.com</td>\n",
              "      <td>domain specific entity</td>\n",
              "      <td>IS technology</td>\n",
              "      <td>...</td>\n",
              "      <td>0</td>\n",
              "      <td>0</td>\n",
              "      <td>0</td>\n",
              "      <td>0</td>\n",
              "      <td>0</td>\n",
              "      <td>0</td>\n",
              "      <td>0</td>\n",
              "      <td>0</td>\n",
              "      <td>0</td>\n",
              "      <td>0</td>\n",
              "    </tr>\n",
              "    <tr>\n",
              "      <th>3</th>\n",
              "      <td>1</td>\n",
              "      <td>1_4</td>\n",
              "      <td>530</td>\n",
              "      <td>1_530_551</td>\n",
              "      <td>Introduction</td>\n",
              "      <td>NaN</td>\n",
              "      <td>TOPIC</td>\n",
              "      <td>participatory design</td>\n",
              "      <td>domain specific entity</td>\n",
              "      <td>IS topic</td>\n",
              "      <td>...</td>\n",
              "      <td>0</td>\n",
              "      <td>0</td>\n",
              "      <td>0</td>\n",
              "      <td>0</td>\n",
              "      <td>0</td>\n",
              "      <td>0</td>\n",
              "      <td>0</td>\n",
              "      <td>1</td>\n",
              "      <td>0</td>\n",
              "      <td>0</td>\n",
              "    </tr>\n",
              "    <tr>\n",
              "      <th>4</th>\n",
              "      <td>1</td>\n",
              "      <td>1_5</td>\n",
              "      <td>861</td>\n",
              "      <td>1_861_886</td>\n",
              "      <td>Introduction</td>\n",
              "      <td>NaN</td>\n",
              "      <td>PARTICIPANTS</td>\n",
              "      <td>group participant</td>\n",
              "      <td>domain specific entity</td>\n",
              "      <td>study object</td>\n",
              "      <td>...</td>\n",
              "      <td>0</td>\n",
              "      <td>0</td>\n",
              "      <td>0</td>\n",
              "      <td>0</td>\n",
              "      <td>0</td>\n",
              "      <td>0</td>\n",
              "      <td>0</td>\n",
              "      <td>0</td>\n",
              "      <td>1</td>\n",
              "      <td>0</td>\n",
              "    </tr>\n",
              "  </tbody>\n",
              "</table>\n",
              "<p>5 rows × 46 columns</p>\n",
              "</div>\n",
              "      <button class=\"colab-df-convert\" onclick=\"convertToInteractive('df-df7f101e-a7ad-4930-95c0-22aa6fc60bf1')\"\n",
              "              title=\"Convert this dataframe to an interactive table.\"\n",
              "              style=\"display:none;\">\n",
              "        \n",
              "  <svg xmlns=\"http://www.w3.org/2000/svg\" height=\"24px\"viewBox=\"0 0 24 24\"\n",
              "       width=\"24px\">\n",
              "    <path d=\"M0 0h24v24H0V0z\" fill=\"none\"/>\n",
              "    <path d=\"M18.56 5.44l.94 2.06.94-2.06 2.06-.94-2.06-.94-.94-2.06-.94 2.06-2.06.94zm-11 1L8.5 8.5l.94-2.06 2.06-.94-2.06-.94L8.5 2.5l-.94 2.06-2.06.94zm10 10l.94 2.06.94-2.06 2.06-.94-2.06-.94-.94-2.06-.94 2.06-2.06.94z\"/><path d=\"M17.41 7.96l-1.37-1.37c-.4-.4-.92-.59-1.43-.59-.52 0-1.04.2-1.43.59L10.3 9.45l-7.72 7.72c-.78.78-.78 2.05 0 2.83L4 21.41c.39.39.9.59 1.41.59.51 0 1.02-.2 1.41-.59l7.78-7.78 2.81-2.81c.8-.78.8-2.07 0-2.86zM5.41 20L4 18.59l7.72-7.72 1.47 1.35L5.41 20z\"/>\n",
              "  </svg>\n",
              "      </button>\n",
              "      \n",
              "  <style>\n",
              "    .colab-df-container {\n",
              "      display:flex;\n",
              "      flex-wrap:wrap;\n",
              "      gap: 12px;\n",
              "    }\n",
              "\n",
              "    .colab-df-convert {\n",
              "      background-color: #E8F0FE;\n",
              "      border: none;\n",
              "      border-radius: 50%;\n",
              "      cursor: pointer;\n",
              "      display: none;\n",
              "      fill: #1967D2;\n",
              "      height: 32px;\n",
              "      padding: 0 0 0 0;\n",
              "      width: 32px;\n",
              "    }\n",
              "\n",
              "    .colab-df-convert:hover {\n",
              "      background-color: #E2EBFA;\n",
              "      box-shadow: 0px 1px 2px rgba(60, 64, 67, 0.3), 0px 1px 3px 1px rgba(60, 64, 67, 0.15);\n",
              "      fill: #174EA6;\n",
              "    }\n",
              "\n",
              "    [theme=dark] .colab-df-convert {\n",
              "      background-color: #3B4455;\n",
              "      fill: #D2E3FC;\n",
              "    }\n",
              "\n",
              "    [theme=dark] .colab-df-convert:hover {\n",
              "      background-color: #434B5C;\n",
              "      box-shadow: 0px 1px 3px 1px rgba(0, 0, 0, 0.15);\n",
              "      filter: drop-shadow(0px 1px 2px rgba(0, 0, 0, 0.3));\n",
              "      fill: #FFFFFF;\n",
              "    }\n",
              "  </style>\n",
              "\n",
              "      <script>\n",
              "        const buttonEl =\n",
              "          document.querySelector('#df-df7f101e-a7ad-4930-95c0-22aa6fc60bf1 button.colab-df-convert');\n",
              "        buttonEl.style.display =\n",
              "          google.colab.kernel.accessAllowed ? 'block' : 'none';\n",
              "\n",
              "        async function convertToInteractive(key) {\n",
              "          const element = document.querySelector('#df-df7f101e-a7ad-4930-95c0-22aa6fc60bf1');\n",
              "          const dataTable =\n",
              "            await google.colab.kernel.invokeFunction('convertToInteractive',\n",
              "                                                     [key], {});\n",
              "          if (!dataTable) return;\n",
              "\n",
              "          const docLinkHtml = 'Like what you see? Visit the ' +\n",
              "            '<a target=\"_blank\" href=https://colab.research.google.com/notebooks/data_table.ipynb>data table notebook</a>'\n",
              "            + ' to learn more about interactive tables.';\n",
              "          element.innerHTML = '';\n",
              "          dataTable['output_type'] = 'display_data';\n",
              "          await google.colab.output.renderOutput(dataTable, element);\n",
              "          const docLink = document.createElement('div');\n",
              "          docLink.innerHTML = docLinkHtml;\n",
              "          element.appendChild(docLink);\n",
              "        }\n",
              "      </script>\n",
              "    </div>\n",
              "  </div>\n",
              "  "
            ]
          },
          "metadata": {},
          "execution_count": 8
        }
      ]
    },
    {
      "cell_type": "code",
      "source": [
        "# Import the table \"entities\" as a df\n",
        "entities = con.execute(\"SELECT * FROM entities\").fetchdf()"
      ],
      "metadata": {
        "id": "IldNk8n75K9D"
      },
      "execution_count": 9,
      "outputs": []
    },
    {
      "cell_type": "code",
      "source": [
        "#print(entities) 1_1074_1096"
      ],
      "metadata": {
        "id": "ZF9t0zgn6ZNX"
      },
      "execution_count": null,
      "outputs": []
    },
    {
      "cell_type": "code",
      "source": [
        "#load entity extracion ruler\n",
        "path_to_jsonl = (data_path+\"/spaCy NER based on Ontology/all.jsonl\")"
      ],
      "metadata": {
        "id": "eBib5ps_2OCO"
      },
      "execution_count": null,
      "outputs": []
    },
    {
      "cell_type": "code",
      "source": [
        "import spacy\n",
        "from spacy.pipeline import EntityRuler\n",
        "\n",
        "spacy_model = \"en_core_web_sm\"\n",
        "nlp = spacy.load(spacy_model, disable=[\"ner\"])\n",
        "# nlp = spacy.load(spacy_model)\n",
        "entity_detector = EntityRuler(nlp, validate=True)\n",
        "path_to_jsonl =  data_path+\"/spaCy NER based on Ontology/all.jsonl\"\n",
        "entity_detector.from_disk(path_to_jsonl)\n",
        "# nlp.add_pipe(entity_detector, before=\"ner\")\n",
        "nlp.add_pipe(entity_detector)\n",
        "# nlp.to_disk(nlp, \"model/isrecon_spacy\")\n",
        "#return nlp"
      ],
      "metadata": {
        "id": "6w5A3kYm7w81",
        "colab": {
          "base_uri": "https://localhost:8080/",
          "height": 555
        },
        "outputId": "261357f5-2a7c-4b13-8eca-4a4fdbecbf67"
      },
      "execution_count": null,
      "outputs": [
        {
          "output_type": "error",
          "ename": "ValueError",
          "evalue": "ignored",
          "traceback": [
            "\u001b[0;31m---------------------------------------------------------------------------\u001b[0m",
            "\u001b[0;31mValueError\u001b[0m                                Traceback (most recent call last)",
            "\u001b[0;32m<ipython-input-22-6c08812db55f>\u001b[0m in \u001b[0;36m<module>\u001b[0;34m()\u001b[0m\n\u001b[1;32m      9\u001b[0m \u001b[0mentity_detector\u001b[0m\u001b[0;34m.\u001b[0m\u001b[0mfrom_disk\u001b[0m\u001b[0;34m(\u001b[0m\u001b[0mpath_to_jsonl\u001b[0m\u001b[0;34m)\u001b[0m\u001b[0;34m\u001b[0m\u001b[0;34m\u001b[0m\u001b[0m\n\u001b[1;32m     10\u001b[0m \u001b[0;31m# nlp.add_pipe(entity_detector, before=\"ner\")\u001b[0m\u001b[0;34m\u001b[0m\u001b[0;34m\u001b[0m\u001b[0;34m\u001b[0m\u001b[0m\n\u001b[0;32m---> 11\u001b[0;31m \u001b[0mnlp\u001b[0m\u001b[0;34m.\u001b[0m\u001b[0madd_pipe\u001b[0m\u001b[0;34m(\u001b[0m\u001b[0mentity_detector\u001b[0m\u001b[0;34m)\u001b[0m\u001b[0;34m\u001b[0m\u001b[0;34m\u001b[0m\u001b[0m\n\u001b[0m\u001b[1;32m     12\u001b[0m \u001b[0;31m# nlp.to_disk(nlp, \"model/isrecon_spacy\")\u001b[0m\u001b[0;34m\u001b[0m\u001b[0;34m\u001b[0m\u001b[0;34m\u001b[0m\u001b[0m\n\u001b[1;32m     13\u001b[0m \u001b[0;32mreturn\u001b[0m \u001b[0mnlp\u001b[0m\u001b[0;34m\u001b[0m\u001b[0;34m\u001b[0m\u001b[0m\n",
            "\u001b[0;32m/usr/local/lib/python3.7/dist-packages/spacy/language.py\u001b[0m in \u001b[0;36madd_pipe\u001b[0;34m(self, factory_name, name, before, after, first, last, source, config, raw_config, validate)\u001b[0m\n\u001b[1;32m    771\u001b[0m             \u001b[0mbad_val\u001b[0m \u001b[0;34m=\u001b[0m \u001b[0mrepr\u001b[0m\u001b[0;34m(\u001b[0m\u001b[0mfactory_name\u001b[0m\u001b[0;34m)\u001b[0m\u001b[0;34m\u001b[0m\u001b[0;34m\u001b[0m\u001b[0m\n\u001b[1;32m    772\u001b[0m             \u001b[0merr\u001b[0m \u001b[0;34m=\u001b[0m \u001b[0mErrors\u001b[0m\u001b[0;34m.\u001b[0m\u001b[0mE966\u001b[0m\u001b[0;34m.\u001b[0m\u001b[0mformat\u001b[0m\u001b[0;34m(\u001b[0m\u001b[0mcomponent\u001b[0m\u001b[0;34m=\u001b[0m\u001b[0mbad_val\u001b[0m\u001b[0;34m,\u001b[0m \u001b[0mname\u001b[0m\u001b[0;34m=\u001b[0m\u001b[0mname\u001b[0m\u001b[0;34m)\u001b[0m\u001b[0;34m\u001b[0m\u001b[0;34m\u001b[0m\u001b[0m\n\u001b[0;32m--> 773\u001b[0;31m             \u001b[0;32mraise\u001b[0m \u001b[0mValueError\u001b[0m\u001b[0;34m(\u001b[0m\u001b[0merr\u001b[0m\u001b[0;34m)\u001b[0m\u001b[0;34m\u001b[0m\u001b[0;34m\u001b[0m\u001b[0m\n\u001b[0m\u001b[1;32m    774\u001b[0m         \u001b[0mname\u001b[0m \u001b[0;34m=\u001b[0m \u001b[0mname\u001b[0m \u001b[0;32mif\u001b[0m \u001b[0mname\u001b[0m \u001b[0;32mis\u001b[0m \u001b[0;32mnot\u001b[0m \u001b[0;32mNone\u001b[0m \u001b[0;32melse\u001b[0m \u001b[0mfactory_name\u001b[0m\u001b[0;34m\u001b[0m\u001b[0;34m\u001b[0m\u001b[0m\n\u001b[1;32m    775\u001b[0m         \u001b[0;32mif\u001b[0m \u001b[0mname\u001b[0m \u001b[0;32min\u001b[0m \u001b[0mself\u001b[0m\u001b[0;34m.\u001b[0m\u001b[0mcomponent_names\u001b[0m\u001b[0;34m:\u001b[0m\u001b[0;34m\u001b[0m\u001b[0;34m\u001b[0m\u001b[0m\n",
            "\u001b[0;31mValueError\u001b[0m: [E966] `nlp.add_pipe` now takes the string name of the registered component factory, not a callable component. Expected string, but got <spacy.pipeline.entityruler.EntityRuler object at 0x7f2583ccbfa0> (name: 'None').\n\n- If you created your component with `nlp.create_pipe('name')`: remove nlp.create_pipe and call `nlp.add_pipe('name')` instead.\n\n- If you passed in a component like `TextCategorizer()`: call `nlp.add_pipe` with the string name instead, e.g. `nlp.add_pipe('textcat')`.\n\n- If you're using a custom component: Add the decorator `@Language.component` (for function components) or `@Language.factory` (for class components / factories) to your custom component and assign it a name, e.g. `@Language.component('your_name')`. You can then run `nlp.add_pipe('your_name')` to add it to the pipeline."
          ]
        }
      ]
    },
    {
      "cell_type": "code",
      "source": [
        "pd.options.display.max_colwidth = 500\n",
        "test_sentence = str(sentences.iloc[[58][:]])\n",
        "print(test_sentence)"
      ],
      "metadata": {
        "colab": {
          "base_uri": "https://localhost:8080/"
        },
        "id": "Rz-9jfUiKTOM",
        "outputId": "01cff295-e217-47a2-e296-3260309b47bc"
      },
      "execution_count": 114,
      "outputs": [
        {
          "output_type": "stream",
          "name": "stdout",
          "text": [
            "    article_id  sentence_id para_id  \\\n",
            "58           1  1_1074_1096     1_7   \n",
            "\n",
            "                                                                                                                               sentence  \\\n",
            "58  Employee-generated content in OUC refers to the knowledge created and shared by employees across the community for product support.   \n",
            "\n",
            "    section_nr last_section_title last_subsection_title sentence_type  \\\n",
            "58           1       Introduction                   NaN     PARAGRAPH   \n",
            "\n",
            "   references  number_of_citations  \n",
            "58         []                    0  \n"
          ]
        }
      ]
    },
    {
      "cell_type": "code",
      "source": [
        "sample_ent = entities_sample_article.loc[entities_sample_article[\"sentence_id\"]==\"1_1074_1096\"]\n",
        "print(sample_ent)"
      ],
      "metadata": {
        "colab": {
          "base_uri": "https://localhost:8080/"
        },
        "id": "Sh83zh_lyNl1",
        "outputId": "7e6247dc-54d2-4c62-f72a-76ccc2f67b09"
      },
      "execution_count": 121,
      "outputs": [
        {
          "output_type": "stream",
          "name": "stdout",
          "text": [
            "Empty DataFrame\n",
            "Columns: [article_id, para_id, sentence_start, sentence_id, section_title, subsection_title, label, ent_id, level_1, level_2, level_3, level_4, level_5, level_6, level_7, level_8, level_9, level_10, paired, temporal, role, setting, groups, type, tool, datatype, assumption, double, dsr, related, level, stage, attr_paired, attr_temporal, attr_role, attr_setting, attr_groups, attr_type, attr_tool, attr_datatype, attr_assumption, attr_double, attr_dsr, attr_related, attr_level, attr_stage]\n",
            "Index: []\n",
            "\n",
            "[0 rows x 46 columns]\n"
          ]
        }
      ]
    },
    {
      "cell_type": "code",
      "execution_count": 119,
      "metadata": {
        "id": "Dem2ypx4ZQ_J",
        "colab": {
          "base_uri": "https://localhost:8080/"
        },
        "outputId": "c2317ddd-6e26-4012-e806-0e668a704be4"
      },
      "outputs": [
        {
          "output_type": "stream",
          "name": "stdout",
          "text": [
            "Empty DataFrame\n",
            "Columns: [article_id, para_id, sentence_start, sentence_id, section_title, subsection_title, label, ent_id, level_1, level_2, level_3, level_4, level_5, level_6, level_7, level_8, level_9, level_10, paired, temporal, role, setting, groups, type, tool, datatype, assumption, double, dsr, related, level, stage, attr_paired, attr_temporal, attr_role, attr_setting, attr_groups, attr_type, attr_tool, attr_datatype, attr_assumption, attr_double, attr_dsr, attr_related, attr_level, attr_stage]\n",
            "Index: []\n",
            "\n",
            "[0 rows x 46 columns]\n"
          ]
        }
      ],
      "source": [
        "sample_ent = entities_sample_article[(entities_sample_article[\"sentence_id\"]==\"1_1074_1096\")]\n",
        "print(sample_ent)"
      ]
    },
    {
      "cell_type": "code",
      "source": [
        "doc = nlp(test_sentence)\n",
        "for token in doc:\n",
        "    print(token.text, token.lemma_, token.pos_, token.tag_, token.dep_,\n",
        "            token.shape_, token.is_alpha, token.is_stop)"
      ],
      "metadata": {
        "colab": {
          "base_uri": "https://localhost:8080/"
        },
        "id": "FwPdoacbEyD9",
        "outputId": "2f06b704-911b-4590-a6ad-35c81cc7c38c"
      },
      "execution_count": 45,
      "outputs": [
        {
          "output_type": "stream",
          "name": "stdout",
          "text": [
            "                                                                                                                                                                                                                                                                SPACE _SP dep LONG False False\n",
            "sentence sentence NOUN NN nmod xxxx True False\n",
            "\n",
            " \n",
            " SPACE _SP dep \n",
            " False False\n",
            "58 58 NUM CD nummod dd False False\n",
            "    SPACE _SP dep   False False\n",
            "Employee employee NOUN NN npadvmod Xxxxx True False\n",
            "- - PUNCT HYPH punct - False False\n",
            "generated generate VERB VBN amod xxxx True False\n",
            "content content NOUN NN nsubj xxxx True False\n",
            "in in ADP IN prep xx True True\n",
            "OUC OUC PROPN NNP pobj XXX True False\n",
            "refers refer VERB VBZ ROOT xxxx True False\n",
            "to to ADP IN prep xx True True\n",
            "the the DET DT det xxx True True\n",
            "knowledge knowledge NOUN NN pobj xxxx True False\n",
            "created create VERB VBN acl xxxx True False\n",
            "and and CCONJ CC cc xxx True True\n",
            "shared share VERB VBN conj xxxx True False\n",
            "by by ADP IN agent xx True True\n",
            "employees employee NOUN NNS pobj xxxx True False\n",
            "across across ADP IN prep xxxx True True\n",
            "the the DET DT det xxx True True\n",
            "community community NOUN NN pobj xxxx True False\n",
            "for for ADP IN prep xxx True True\n",
            "product product NOUN NN compound xxxx True False\n",
            "support support NOUN NN pobj xxxx True False\n",
            ". . PUNCT . punct . False False\n"
          ]
        }
      ]
    },
    {
      "cell_type": "code",
      "source": [
        "spacy.explain(\"dobj\")"
      ],
      "metadata": {
        "colab": {
          "base_uri": "https://localhost:8080/",
          "height": 37
        },
        "id": "KD2Ie11euhrD",
        "outputId": "8b1d6d12-8a84-491a-a12e-f414540f3d07"
      },
      "execution_count": null,
      "outputs": [
        {
          "output_type": "execute_result",
          "data": {
            "text/plain": [
              "'direct object'"
            ],
            "application/vnd.google.colaboratory.intrinsic+json": {
              "type": "string"
            }
          },
          "metadata": {},
          "execution_count": 88
        }
      ]
    },
    {
      "cell_type": "code",
      "source": [
        "spacy.explain(\"VBG\")"
      ],
      "metadata": {
        "colab": {
          "base_uri": "https://localhost:8080/",
          "height": 37
        },
        "id": "oAInLCytJ2t7",
        "outputId": "d351eca1-691d-4567-de46-5683f02b3064"
      },
      "execution_count": null,
      "outputs": [
        {
          "output_type": "execute_result",
          "data": {
            "text/plain": [
              "'verb, gerund or present participle'"
            ],
            "application/vnd.google.colaboratory.intrinsic+json": {
              "type": "string"
            }
          },
          "metadata": {},
          "execution_count": 89
        }
      ]
    },
    {
      "cell_type": "code",
      "source": [
        "from spacy import displacy"
      ],
      "metadata": {
        "id": "u-xlZ3snMi0g"
      },
      "execution_count": null,
      "outputs": []
    },
    {
      "cell_type": "code",
      "source": [
        "displacy.render(doc, style=\"dep\", jupyter=True)"
      ],
      "metadata": {
        "colab": {
          "base_uri": "https://localhost:8080/",
          "height": 164
        },
        "id": "BVUAoST9OOHO",
        "outputId": "92f1da39-f08f-4380-ef75-b894ca28bbc3"
      },
      "execution_count": 36,
      "outputs": [
        {
          "output_type": "error",
          "ename": "NameError",
          "evalue": "ignored",
          "traceback": [
            "\u001b[0;31m---------------------------------------------------------------------------\u001b[0m",
            "\u001b[0;31mNameError\u001b[0m                                 Traceback (most recent call last)",
            "\u001b[0;32m<ipython-input-36-5cd0951e5603>\u001b[0m in \u001b[0;36m<module>\u001b[0;34m()\u001b[0m\n\u001b[0;32m----> 1\u001b[0;31m \u001b[0mdisplacy\u001b[0m\u001b[0;34m.\u001b[0m\u001b[0mrender\u001b[0m\u001b[0;34m(\u001b[0m\u001b[0mdoc\u001b[0m\u001b[0;34m,\u001b[0m \u001b[0mstyle\u001b[0m\u001b[0;34m=\u001b[0m\u001b[0;34m\"dep\"\u001b[0m\u001b[0;34m,\u001b[0m \u001b[0mjupyter\u001b[0m\u001b[0;34m=\u001b[0m\u001b[0;32mTrue\u001b[0m\u001b[0;34m)\u001b[0m\u001b[0;34m\u001b[0m\u001b[0;34m\u001b[0m\u001b[0m\n\u001b[0m",
            "\u001b[0;31mNameError\u001b[0m: name 'displacy' is not defined"
          ]
        }
      ]
    },
    {
      "cell_type": "markdown",
      "source": [
        "### Only extract nouns"
      ],
      "metadata": {
        "id": "RdrS2fAaf1p3"
      }
    },
    {
      "cell_type": "code",
      "source": [
        "nouns = []\n",
        "\n",
        "for token in doc:\n",
        "  if token.pos_ == \"NOUN\":\n",
        "    nouns.append(token)\n",
        "\n",
        "print(nouns)"
      ],
      "metadata": {
        "colab": {
          "base_uri": "https://localhost:8080/"
        },
        "id": "3pvoqUVef6M9",
        "outputId": "04aa27ef-71e8-4d5a-f02f-0f45441740a6"
      },
      "execution_count": null,
      "outputs": [
        {
          "output_type": "stream",
          "name": "stdout",
          "text": [
            "[sentence, contrary, knowledge, contribution, reader, readers, knowledge, contribution, source, content, user, community]\n"
          ]
        }
      ]
    },
    {
      "cell_type": "markdown",
      "source": [
        "### Noun chunks\n",
        "\n",
        "Noun chunks are “base noun phrases” – flat phrases that have a noun as their head: noun plus the words describing the noun"
      ],
      "metadata": {
        "id": "_TBx_3rUR-m9"
      }
    },
    {
      "cell_type": "code",
      "source": [
        "for chunk in doc.noun_chunks:\n",
        "    print(chunk.text, chunk.root.text, chunk.root.dep_,\n",
        "            chunk.root.head.text)"
      ],
      "metadata": {
        "colab": {
          "base_uri": "https://localhost:8080/"
        },
        "id": "-YuySfEZR6IC",
        "outputId": "fa60d7f1-5c66-4f69-9fe9-35f8714e84e6"
      },
      "execution_count": 46,
      "outputs": [
        {
          "output_type": "stream",
          "name": "stdout",
          "text": [
            "                                                                                                                               sentence\n",
            "58  Employee-generated content content nsubj refers\n",
            "OUC OUC pobj in\n",
            "the knowledge knowledge pobj to\n",
            "employees employees pobj by\n",
            "the community community pobj across\n",
            "product support support pobj for\n"
          ]
        }
      ]
    },
    {
      "cell_type": "markdown",
      "source": [
        "The participation of employees thereby holds the potential to help sustain and realize value from the community"
      ],
      "metadata": {
        "id": "_SD4rOWcWj6F"
      }
    },
    {
      "cell_type": "markdown",
      "source": [
        "### Navigating the parse tree\n",
        "\n",
        "terms **head and child** describe the words connected by a single arc in the dependency tree. The term dep is used for the arc label, which describes the **type of syntactic relation** that connects the child to the head. As with other attributes, the value of .dep is a hash value. You can get the string value with .dep_."
      ],
      "metadata": {
        "id": "Y6pn87RzYN0Z"
      }
    },
    {
      "cell_type": "code",
      "source": [
        "for token in doc:\n",
        "    print(token.text, token.dep_, token.head.text, token.head.pos_,\n",
        "            [child for child in token.children])"
      ],
      "metadata": {
        "colab": {
          "base_uri": "https://localhost:8080/"
        },
        "id": "f2wC_j4ZYOTu",
        "outputId": "eb1e2133-e4b3-4d99-bff2-9c43504d9ae6"
      },
      "execution_count": null,
      "outputs": [
        {
          "output_type": "stream",
          "name": "stdout",
          "text": [
            "                                                                                                                                                                                                                                          sentence NOUN []\n",
            "sentence ROOT sentence NOUN [                                                                                                                                                                                                                                        , \n",
            ", 15]\n",
            "\n",
            "  sentence NOUN []\n",
            "15 nummod sentence NOUN [ ]\n",
            "   15 NUM []\n",
            "On prep sparks VERB [contrary]\n",
            "the det contrary NOUN []\n",
            "contrary pobj On ADP [the]\n",
            ", punct sparks VERB []\n",
            "reading nsubj sparks VERB []\n",
            "sparks ROOT sparks VERB [On, ,, reading, contribution, and, having, .]\n",
            "additional amod contribution NOUN []\n",
            "knowledge compound contribution NOUN []\n",
            "contribution dobj sparks VERB [additional, knowledge, by]\n",
            "by prep contribution NOUN [reader]\n",
            "the det reader NOUN []\n",
            "reader pobj by ADP [the]\n",
            "and cc sparks VERB []\n",
            "having conj sparks VERB [sparks]\n",
            "readers nsubj sparks VERB []\n",
            "sparks ccomp having VERB [readers, contribution, ,, creating]\n",
            "additional amod contribution NOUN []\n",
            "knowledge compound contribution NOUN []\n",
            "contribution dobj sparks VERB [additional, knowledge, by]\n",
            "by prep contribution NOUN [source]\n",
            "the det source NOUN []\n",
            "original amod source NOUN []\n",
            "source pobj by ADP [the, original, of]\n",
            "of prep source NOUN [content]\n",
            "the det content NOUN []\n",
            "content pobj of ADP [the]\n",
            ", punct sparks VERB []\n",
            "thereby advmod creating VERB []\n",
            "creating advcl sparks VERB [thereby, community]\n",
            "a det community NOUN []\n",
            "sustainable amod community NOUN []\n",
            "online amod user NOUN []\n",
            "user compound community NOUN [online]\n",
            "community dobj creating VERB [a, sustainable, user]\n",
            ". punct sparks VERB [   ]\n",
            "     . PUNCT []\n"
          ]
        }
      ]
    },
    {
      "cell_type": "markdown",
      "source": [
        "### Adding Entity Extraction Rules"
      ],
      "metadata": {
        "id": "JB3fH4Jay-E0"
      }
    },
    {
      "cell_type": "markdown",
      "source": [
        "EntityRuler - uses token and token attribues\n",
        "\n",
        "Matcher-Patterns - Lists of dictionaries, one per Token"
      ],
      "metadata": {
        "id": "771mmJpju0ne"
      }
    },
    {
      "cell_type": "markdown",
      "source": [
        "## return a table with sentence ID + Entity\n"
      ],
      "metadata": {
        "id": "qH4A0kuA-Z0y"
      }
    }
  ]
}